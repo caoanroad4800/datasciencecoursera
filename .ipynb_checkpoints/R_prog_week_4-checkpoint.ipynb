{
 "cells": [
  {
   "cell_type": "markdown",
   "metadata": {},
   "source": [
    "## The str function"
   ]
  },
  {
   "cell_type": "code",
   "execution_count": 1,
   "metadata": {},
   "outputs": [
    {
     "name": "stdout",
     "output_type": "stream",
     "text": [
      "function (object, ...)  \n"
     ]
    }
   ],
   "source": [
    "str(str)"
   ]
  },
  {
   "cell_type": "code",
   "execution_count": 2,
   "metadata": {},
   "outputs": [
    {
     "name": "stdout",
     "output_type": "stream",
     "text": [
      "function (name, pos = -1L, envir = as.environment(pos), all.names = FALSE, \n",
      "    pattern, sorted = TRUE)  \n"
     ]
    }
   ],
   "source": [
    "str(ls)"
   ]
  },
  {
   "cell_type": "code",
   "execution_count": 4,
   "metadata": {},
   "outputs": [
    {
     "data": {
      "text/plain": [
       "    Min.  1st Qu.   Median     Mean  3rd Qu.     Max. \n",
       "-7.58259  0.01288  2.31581  2.11589  4.22191 12.80216 "
      ]
     },
     "metadata": {},
     "output_type": "display_data"
    }
   ],
   "source": [
    "x <- rnorm(100, 2, 4)\n",
    "summary(x)"
   ]
  },
  {
   "cell_type": "code",
   "execution_count": 5,
   "metadata": {},
   "outputs": [
    {
     "name": "stdout",
     "output_type": "stream",
     "text": [
      " num [1:100] 0.192 2.702 -0.111 1.981 3.74 ...\n"
     ]
    }
   ],
   "source": [
    "str(x)"
   ]
  },
  {
   "cell_type": "code",
   "execution_count": 9,
   "metadata": {},
   "outputs": [],
   "source": [
    "f <- gl(40, 10)\n",
    "#f"
   ]
  },
  {
   "cell_type": "code",
   "execution_count": 7,
   "metadata": {},
   "outputs": [
    {
     "name": "stdout",
     "output_type": "stream",
     "text": [
      " Factor w/ 40 levels \"1\",\"2\",\"3\",\"4\",..: 1 1 1 1 1 1 1 1 1 1 ...\n"
     ]
    }
   ],
   "source": [
    "str(f)"
   ]
  },
  {
   "cell_type": "code",
   "execution_count": 10,
   "metadata": {},
   "outputs": [
    {
     "data": {
      "text/html": [
       "<table>\n",
       "<caption>A data.frame: 6 × 6</caption>\n",
       "<thead>\n",
       "\t<tr><th></th><th scope=col>Ozone</th><th scope=col>Solar.R</th><th scope=col>Wind</th><th scope=col>Temp</th><th scope=col>Month</th><th scope=col>Day</th></tr>\n",
       "\t<tr><th></th><th scope=col>&lt;int&gt;</th><th scope=col>&lt;int&gt;</th><th scope=col>&lt;dbl&gt;</th><th scope=col>&lt;int&gt;</th><th scope=col>&lt;int&gt;</th><th scope=col>&lt;int&gt;</th></tr>\n",
       "</thead>\n",
       "<tbody>\n",
       "\t<tr><th scope=row>1</th><td>41</td><td>190</td><td> 7.4</td><td>67</td><td>5</td><td>1</td></tr>\n",
       "\t<tr><th scope=row>2</th><td>36</td><td>118</td><td> 8.0</td><td>72</td><td>5</td><td>2</td></tr>\n",
       "\t<tr><th scope=row>3</th><td>12</td><td>149</td><td>12.6</td><td>74</td><td>5</td><td>3</td></tr>\n",
       "\t<tr><th scope=row>4</th><td>18</td><td>313</td><td>11.5</td><td>62</td><td>5</td><td>4</td></tr>\n",
       "\t<tr><th scope=row>5</th><td>NA</td><td> NA</td><td>14.3</td><td>56</td><td>5</td><td>5</td></tr>\n",
       "\t<tr><th scope=row>6</th><td>28</td><td> NA</td><td>14.9</td><td>66</td><td>5</td><td>6</td></tr>\n",
       "</tbody>\n",
       "</table>\n"
      ],
      "text/latex": [
       "A data.frame: 6 × 6\n",
       "\\begin{tabular}{r|llllll}\n",
       "  & Ozone & Solar.R & Wind & Temp & Month & Day\\\\\n",
       "  & <int> & <int> & <dbl> & <int> & <int> & <int>\\\\\n",
       "\\hline\n",
       "\t1 & 41 & 190 &  7.4 & 67 & 5 & 1\\\\\n",
       "\t2 & 36 & 118 &  8.0 & 72 & 5 & 2\\\\\n",
       "\t3 & 12 & 149 & 12.6 & 74 & 5 & 3\\\\\n",
       "\t4 & 18 & 313 & 11.5 & 62 & 5 & 4\\\\\n",
       "\t5 & NA &  NA & 14.3 & 56 & 5 & 5\\\\\n",
       "\t6 & 28 &  NA & 14.9 & 66 & 5 & 6\\\\\n",
       "\\end{tabular}\n"
      ],
      "text/markdown": [
       "\n",
       "A data.frame: 6 × 6\n",
       "\n",
       "| <!--/--> | Ozone &lt;int&gt; | Solar.R &lt;int&gt; | Wind &lt;dbl&gt; | Temp &lt;int&gt; | Month &lt;int&gt; | Day &lt;int&gt; |\n",
       "|---|---|---|---|---|---|---|\n",
       "| 1 | 41 | 190 |  7.4 | 67 | 5 | 1 |\n",
       "| 2 | 36 | 118 |  8.0 | 72 | 5 | 2 |\n",
       "| 3 | 12 | 149 | 12.6 | 74 | 5 | 3 |\n",
       "| 4 | 18 | 313 | 11.5 | 62 | 5 | 4 |\n",
       "| 5 | NA |  NA | 14.3 | 56 | 5 | 5 |\n",
       "| 6 | 28 |  NA | 14.9 | 66 | 5 | 6 |\n",
       "\n"
      ],
      "text/plain": [
       "  Ozone Solar.R Wind Temp Month Day\n",
       "1 41    190      7.4 67   5     1  \n",
       "2 36    118      8.0 72   5     2  \n",
       "3 12    149     12.6 74   5     3  \n",
       "4 18    313     11.5 62   5     4  \n",
       "5 NA     NA     14.3 56   5     5  \n",
       "6 28     NA     14.9 66   5     6  "
      ]
     },
     "metadata": {},
     "output_type": "display_data"
    }
   ],
   "source": [
    "library(datasets)\n",
    "head(airquality)"
   ]
  },
  {
   "cell_type": "code",
   "execution_count": 11,
   "metadata": {},
   "outputs": [
    {
     "name": "stdout",
     "output_type": "stream",
     "text": [
      "'data.frame':\t153 obs. of  6 variables:\n",
      " $ Ozone  : int  41 36 12 18 NA 28 23 19 8 NA ...\n",
      " $ Solar.R: int  190 118 149 313 NA NA 299 99 19 194 ...\n",
      " $ Wind   : num  7.4 8 12.6 11.5 14.3 14.9 8.6 13.8 20.1 8.6 ...\n",
      " $ Temp   : int  67 72 74 62 56 66 65 59 61 69 ...\n",
      " $ Month  : int  5 5 5 5 5 5 5 5 5 5 ...\n",
      " $ Day    : int  1 2 3 4 5 6 7 8 9 10 ...\n"
     ]
    }
   ],
   "source": [
    "str(airquality)"
   ]
  },
  {
   "cell_type": "code",
   "execution_count": 15,
   "metadata": {},
   "outputs": [
    {
     "name": "stdout",
     "output_type": "stream",
     "text": [
      " num [1:50] 9.73 8 17.25 7.71 7.43 ...\n"
     ]
    }
   ],
   "source": [
    "m <- rnorm(50, 10, 5)\n",
    "str(m)"
   ]
  },
  {
   "cell_type": "code",
   "execution_count": 16,
   "metadata": {},
   "outputs": [
    {
     "name": "stdout",
     "output_type": "stream",
     "text": [
      "List of 5\n",
      " $ 5:'data.frame':\t31 obs. of  6 variables:\n",
      "  ..$ Ozone  : int [1:31] 41 36 12 18 NA 28 23 19 8 NA ...\n",
      "  ..$ Solar.R: int [1:31] 190 118 149 313 NA NA 299 99 19 194 ...\n",
      "  ..$ Wind   : num [1:31] 7.4 8 12.6 11.5 14.3 14.9 8.6 13.8 20.1 8.6 ...\n",
      "  ..$ Temp   : int [1:31] 67 72 74 62 56 66 65 59 61 69 ...\n",
      "  ..$ Month  : int [1:31] 5 5 5 5 5 5 5 5 5 5 ...\n",
      "  ..$ Day    : int [1:31] 1 2 3 4 5 6 7 8 9 10 ...\n",
      " $ 6:'data.frame':\t30 obs. of  6 variables:\n",
      "  ..$ Ozone  : int [1:30] NA NA NA NA NA NA 29 NA 71 39 ...\n",
      "  ..$ Solar.R: int [1:30] 286 287 242 186 220 264 127 273 291 323 ...\n",
      "  ..$ Wind   : num [1:30] 8.6 9.7 16.1 9.2 8.6 14.3 9.7 6.9 13.8 11.5 ...\n",
      "  ..$ Temp   : int [1:30] 78 74 67 84 85 79 82 87 90 87 ...\n",
      "  ..$ Month  : int [1:30] 6 6 6 6 6 6 6 6 6 6 ...\n",
      "  ..$ Day    : int [1:30] 1 2 3 4 5 6 7 8 9 10 ...\n",
      " $ 7:'data.frame':\t31 obs. of  6 variables:\n",
      "  ..$ Ozone  : int [1:31] 135 49 32 NA 64 40 77 97 97 85 ...\n",
      "  ..$ Solar.R: int [1:31] 269 248 236 101 175 314 276 267 272 175 ...\n",
      "  ..$ Wind   : num [1:31] 4.1 9.2 9.2 10.9 4.6 10.9 5.1 6.3 5.7 7.4 ...\n",
      "  ..$ Temp   : int [1:31] 84 85 81 84 83 83 88 92 92 89 ...\n",
      "  ..$ Month  : int [1:31] 7 7 7 7 7 7 7 7 7 7 ...\n",
      "  ..$ Day    : int [1:31] 1 2 3 4 5 6 7 8 9 10 ...\n",
      " $ 8:'data.frame':\t31 obs. of  6 variables:\n",
      "  ..$ Ozone  : int [1:31] 39 9 16 78 35 66 122 89 110 NA ...\n",
      "  ..$ Solar.R: int [1:31] 83 24 77 NA NA NA 255 229 207 222 ...\n",
      "  ..$ Wind   : num [1:31] 6.9 13.8 7.4 6.9 7.4 4.6 4 10.3 8 8.6 ...\n",
      "  ..$ Temp   : int [1:31] 81 81 82 86 85 87 89 90 90 92 ...\n",
      "  ..$ Month  : int [1:31] 8 8 8 8 8 8 8 8 8 8 ...\n",
      "  ..$ Day    : int [1:31] 1 2 3 4 5 6 7 8 9 10 ...\n",
      " $ 9:'data.frame':\t30 obs. of  6 variables:\n",
      "  ..$ Ozone  : int [1:30] 96 78 73 91 47 32 20 23 21 24 ...\n",
      "  ..$ Solar.R: int [1:30] 167 197 183 189 95 92 252 220 230 259 ...\n",
      "  ..$ Wind   : num [1:30] 6.9 5.1 2.8 4.6 7.4 15.5 10.9 10.3 10.9 9.7 ...\n",
      "  ..$ Temp   : int [1:30] 91 92 93 93 87 84 80 78 75 73 ...\n",
      "  ..$ Month  : int [1:30] 9 9 9 9 9 9 9 9 9 9 ...\n",
      "  ..$ Day    : int [1:30] 1 2 3 4 5 6 7 8 9 10 ...\n"
     ]
    }
   ],
   "source": [
    "s <- split(airquality, airquality$Month)\n",
    "str(s)"
   ]
  },
  {
   "cell_type": "markdown",
   "metadata": {},
   "source": [
    "## Simulation"
   ]
  },
  {
   "cell_type": "markdown",
   "metadata": {},
   "source": [
    "### Generating random numbers"
   ]
  },
  {
   "cell_type": "markdown",
   "metadata": {},
   "source": [
    "Functions for probability distributions in R\n",
    "- `rnorm` generate random Normal variates with a given mean and standard deviation\n",
    "- `dnorm` evaluate the Normal probability density (with a given mean/SD) at a point (or vector of points)\n",
    "- `pnorm` evaluate the cumulative distribution function for a Normal distribution\n",
    "- `rposi` generate random Poisson variates with a given rate"
   ]
  },
  {
   "cell_type": "markdown",
   "metadata": {},
   "source": [
    "Probability distribution functions usually have four functions associated with them. The functions are prefixed with a\n",
    "- `d` for density\n",
    "- `r` for random number generation\n",
    "- `p` for cumulative distribution\n",
    "- `q` for quantile function\n",
    "\n",
    "e.g. `dpoise`, `rpoise`, `ppoise`, `qpoise`"
   ]
  },
  {
   "cell_type": "code",
   "execution_count": 19,
   "metadata": {},
   "outputs": [],
   "source": [
    "set.seed(123456)"
   ]
  },
  {
   "cell_type": "markdown",
   "metadata": {},
   "source": [
    "### Simulating a Linear Model"
   ]
  },
  {
   "cell_type": "markdown",
   "metadata": {},
   "source": [
    "We simulate linear model\n",
    "\n",
    "$ y = \\beta_0 + \\beta_1 x + \\epsilon, \\quad \\epsilon - \\mathcal{N}(0, 2^2)$"
   ]
  },
  {
   "cell_type": "markdown",
   "metadata": {},
   "source": [
    "Assume $x \\mathcal{N}(0, 1^2), \\beta_0 = 0.5, \\beta_1 = 2$"
   ]
  },
  {
   "cell_type": "code",
   "execution_count": 21,
   "metadata": {},
   "outputs": [
    {
     "data": {
      "text/plain": [
       "   Min. 1st Qu.  Median    Mean 3rd Qu.    Max. \n",
       "-6.4084 -1.5402  0.6789  0.6893  2.9303  6.5052 "
      ]
     },
     "metadata": {},
     "output_type": "display_data"
    }
   ],
   "source": [
    "set.seed(20)\n",
    "x <- rnorm(100)\n",
    "e <- rnorm(100, 0, 2)\n",
    "y <- 0.5 + 2 * x + e\n",
    "summary(y)"
   ]
  },
  {
   "cell_type": "code",
   "execution_count": 22,
   "metadata": {},
   "outputs": [
    {
     "data": {
      "image/png": "[encoded data removed]",
      "text/plain": [
       "plot without title"
      ]
     },
     "metadata": {
      "image/png": {
       "height": 420,
       "width": 420
      }
     },
     "output_type": "display_data"
    }
   ],
   "source": [
    "plot(x, y)"
   ]
  },
  {
   "cell_type": "code",
   "execution_count": 28,
   "metadata": {},
   "outputs": [
    {
     "data": {
      "image/png": "[encoded data removed]",
      "text/plain": [
       "plot without title"
      ]
     },
     "metadata": {
      "image/png": {
       "height": 420,
       "width": 420
      }
     },
     "output_type": "display_data"
    }
   ],
   "source": [
    "# the case that x is binary\n",
    "set.seed(20)\n",
    "x <- rbinom(100, 1, 0.5)\n",
    "e <- rnorm(100, 0, 2)\n",
    "y <- 0.5 + 2 * x + e\n",
    "#summary(y)\n",
    "plot(x, y)"
   ]
  },
  {
   "cell_type": "markdown",
   "metadata": {},
   "source": [
    "### Random Sampling"
   ]
  },
  {
   "cell_type": "markdown",
   "metadata": {},
   "source": [
    "## R Profiler"
   ]
  },
  {
   "cell_type": "code",
   "execution_count": 30,
   "metadata": {},
   "outputs": [
    {
     "data": {
      "text/plain": [
       "   user  system elapsed \n",
       "  0.052   0.000   0.052 "
      ]
     },
     "metadata": {},
     "output_type": "display_data"
    }
   ],
   "source": [
    "system.time({\n",
    "    n<-1000\n",
    "    r <- numeric(n)\n",
    "    for (i in 1:n) {\n",
    "        x <- rnorm(n)\n",
    "        r[i] <- mean(x)\n",
    "    }\n",
    "})"
   ]
  },
  {
   "cell_type": "markdown",
   "metadata": {},
   "source": [
    "Another option is use `Rprof()` and `summaryRprof()`"
   ]
  },
  {
   "cell_type": "markdown",
   "metadata": {},
   "source": [
    "## Week 4 Quiz"
   ]
  },
  {
   "cell_type": "code",
   "execution_count": 31,
   "metadata": {},
   "outputs": [
    {
     "data": {
      "text/html": [
       "<style>\n",
       ".list-inline {list-style: none; margin:0; padding: 0}\n",
       ".list-inline>li {display: inline-block}\n",
       ".list-inline>li:not(:last-child)::after {content: \"\\00b7\"; padding: 0 .5ex}\n",
       "</style>\n",
       "<ol class=list-inline><li>1</li><li>1</li><li>2</li><li>4</li><li>1</li></ol>\n"
      ],
      "text/latex": [
       "\\begin{enumerate*}\n",
       "\\item 1\n",
       "\\item 1\n",
       "\\item 2\n",
       "\\item 4\n",
       "\\item 1\n",
       "\\end{enumerate*}\n"
      ],
      "text/markdown": [
       "1. 1\n",
       "2. 1\n",
       "3. 2\n",
       "4. 4\n",
       "5. 1\n",
       "\n",
       "\n"
      ],
      "text/plain": [
       "[1] 1 1 2 4 1"
      ]
     },
     "metadata": {},
     "output_type": "display_data"
    }
   ],
   "source": [
    "set.seed(1)\n",
    "rpois(5, 2)"
   ]
  },
  {
   "cell_type": "code",
   "execution_count": 32,
   "metadata": {},
   "outputs": [
    {
     "data": {
      "text/html": [
       "<style>\n",
       ".list-inline {list-style: none; margin:0; padding: 0}\n",
       ".list-inline>li {display: inline-block}\n",
       ".list-inline>li:not(:last-child)::after {content: \"\\00b7\"; padding: 0 .5ex}\n",
       "</style>\n",
       "<ol class=list-inline><li>0</li><li>0</li><li>0</li><li>0</li><li>0</li><li>1</li><li>1</li><li>1</li><li>1</li><li>1</li></ol>\n"
      ],
      "text/latex": [
       "\\begin{enumerate*}\n",
       "\\item 0\n",
       "\\item 0\n",
       "\\item 0\n",
       "\\item 0\n",
       "\\item 0\n",
       "\\item 1\n",
       "\\item 1\n",
       "\\item 1\n",
       "\\item 1\n",
       "\\item 1\n",
       "\\end{enumerate*}\n"
      ],
      "text/markdown": [
       "1. 0\n",
       "2. 0\n",
       "3. 0\n",
       "4. 0\n",
       "5. 0\n",
       "6. 1\n",
       "7. 1\n",
       "8. 1\n",
       "9. 1\n",
       "10. 1\n",
       "\n",
       "\n"
      ],
      "text/plain": [
       " [1] 0 0 0 0 0 1 1 1 1 1"
      ]
     },
     "metadata": {},
     "output_type": "display_data"
    }
   ],
   "source": [
    "x <- rep(0:1, each = 5)\n",
    "x"
   ]
  },
  {
   "cell_type": "code",
   "execution_count": 33,
   "metadata": {},
   "outputs": [
    {
     "data": {
      "text/html": [
       "<style>\n",
       ".list-inline {list-style: none; margin:0; padding: 0}\n",
       ".list-inline>li {display: inline-block}\n",
       ".list-inline>li:not(:last-child)::after {content: \"\\00b7\"; padding: 0 .5ex}\n",
       "</style>\n",
       "<ol class=list-inline><li>25.4485864285881</li><li>8.29282868912816</li><li>-30.7990008380742</li><li>-18.5713406942708</li><li>-5.8944089358112</li><li>-0.115343454950739</li><li>48.093067777159</li><li>15.2718692228092</li><li>-15.9801849797874</li><li>-22.953140184727</li></ol>\n"
      ],
      "text/latex": [
       "\\begin{enumerate*}\n",
       "\\item 25.4485864285881\n",
       "\\item 8.29282868912816\n",
       "\\item -30.7990008380742\n",
       "\\item -18.5713406942708\n",
       "\\item -5.8944089358112\n",
       "\\item -0.115343454950739\n",
       "\\item 48.093067777159\n",
       "\\item 15.2718692228092\n",
       "\\item -15.9801849797874\n",
       "\\item -22.953140184727\n",
       "\\end{enumerate*}\n"
      ],
      "text/markdown": [
       "1. 25.4485864285881\n",
       "2. 8.29282868912816\n",
       "3. -30.7990008380742\n",
       "4. -18.5713406942708\n",
       "5. -5.8944089358112\n",
       "6. -0.115343454950739\n",
       "7. 48.093067777159\n",
       "8. 15.2718692228092\n",
       "9. -15.9801849797874\n",
       "10. -22.953140184727\n",
       "\n",
       "\n"
      ],
      "text/plain": [
       " [1]  25.4485864   8.2928287 -30.7990008 -18.5713407  -5.8944089  -0.1153435\n",
       " [7]  48.0930678  15.2718692 -15.9801850 -22.9531402"
      ]
     },
     "metadata": {},
     "output_type": "display_data"
    }
   ],
   "source": [
    "e <- rnorm(10, 0, 20)\n",
    "e"
   ]
  },
  {
   "cell_type": "code",
   "execution_count": null,
   "metadata": {},
   "outputs": [],
   "source": [
    "rbinom"
   ]
  },
  {
   "cell_type": "markdown",
   "metadata": {},
   "source": [
    "## Week 4 Programming Assignment"
   ]
  },
  {
   "cell_type": "code",
   "execution_count": 79,
   "metadata": {},
   "outputs": [],
   "source": [
    "# install.packages('data.table')\n",
    "library('data.table')"
   ]
  },
  {
   "cell_type": "code",
   "execution_count": 84,
   "metadata": {},
   "outputs": [
    {
     "name": "stderr",
     "output_type": "stream",
     "text": [
      "Loading required package: bit\n",
      "\n",
      "\n",
      "Attaching package: ‘bit’\n",
      "\n",
      "\n",
      "The following object is masked from ‘package:data.table’:\n",
      "\n",
      "    setattr\n",
      "\n",
      "\n",
      "The following object is masked from ‘package:base’:\n",
      "\n",
      "    xor\n",
      "\n",
      "\n",
      "Attaching package bit64\n",
      "\n",
      "package:bit64 (c) 2011-2017 Jens Oehlschlaegel\n",
      "\n",
      "creators: integer64 runif64 seq :\n",
      "\n",
      "coercion: as.integer64 as.vector as.logical as.integer as.double as.character as.bitstring\n",
      "\n",
      "logical operator: ! & | xor != == < <= >= >\n",
      "\n",
      "arithmetic operator: + - * / %/% %% ^\n",
      "\n",
      "math: sign abs sqrt log log2 log10\n",
      "\n",
      "math: floor ceiling trunc round\n",
      "\n",
      "querying: is.integer64 is.vector [is.atomic} [length] format print str\n",
      "\n",
      "values: is.na is.nan is.finite is.infinite\n",
      "\n",
      "aggregation: any all min max range sum prod\n",
      "\n",
      "cumulation: diff cummin cummax cumsum cumprod\n",
      "\n",
      "access: length<- [ [<- [[ [[<-\n",
      "\n",
      "combine: c rep cbind rbind as.data.frame\n",
      "\n",
      "WARNING don't use as subscripts\n",
      "\n",
      "WARNING semantics differ from integer\n",
      "\n",
      "for more help type ?bit64\n",
      "\n",
      "\n",
      "Attaching package: ‘bit64’\n",
      "\n",
      "\n",
      "The following objects are masked from ‘package:base’:\n",
      "\n",
      "    :, %in%, is.double, match, order, rank\n",
      "\n",
      "\n"
     ]
    }
   ],
   "source": [
    "# install.packages(\"bit64\")\n",
    "library('bit64')"
   ]
  },
  {
   "cell_type": "code",
   "execution_count": 36,
   "metadata": {},
   "outputs": [
    {
     "data": {
      "text/html": [
       "<table>\n",
       "<caption>A data.frame: 6 × 46</caption>\n",
       "<thead>\n",
       "\t<tr><th></th><th scope=col>Provider.Number</th><th scope=col>Hospital.Name</th><th scope=col>Address.1</th><th scope=col>Address.2</th><th scope=col>Address.3</th><th scope=col>City</th><th scope=col>State</th><th scope=col>ZIP.Code</th><th scope=col>County.Name</th><th scope=col>Phone.Number</th><th scope=col>⋯</th><th scope=col>Lower.Readmission.Estimate...Hospital.30.Day.Readmission.Rates.from.Heart.Failure</th><th scope=col>Upper.Readmission.Estimate...Hospital.30.Day.Readmission.Rates.from.Heart.Failure</th><th scope=col>Number.of.Patients...Hospital.30.Day.Readmission.Rates.from.Heart.Failure</th><th scope=col>Footnote...Hospital.30.Day.Readmission.Rates.from.Heart.Failure</th><th scope=col>Hospital.30.Day.Readmission.Rates.from.Pneumonia</th><th scope=col>Comparison.to.U.S..Rate...Hospital.30.Day.Readmission.Rates.from.Pneumonia</th><th scope=col>Lower.Readmission.Estimate...Hospital.30.Day.Readmission.Rates.from.Pneumonia</th><th scope=col>Upper.Readmission.Estimate...Hospital.30.Day.Readmission.Rates.from.Pneumonia</th><th scope=col>Number.of.Patients...Hospital.30.Day.Readmission.Rates.from.Pneumonia</th><th scope=col>Footnote...Hospital.30.Day.Readmission.Rates.from.Pneumonia</th></tr>\n",
       "\t<tr><th></th><th scope=col>&lt;chr&gt;</th><th scope=col>&lt;chr&gt;</th><th scope=col>&lt;chr&gt;</th><th scope=col>&lt;chr&gt;</th><th scope=col>&lt;chr&gt;</th><th scope=col>&lt;chr&gt;</th><th scope=col>&lt;chr&gt;</th><th scope=col>&lt;chr&gt;</th><th scope=col>&lt;chr&gt;</th><th scope=col>&lt;chr&gt;</th><th scope=col>⋯</th><th scope=col>&lt;chr&gt;</th><th scope=col>&lt;chr&gt;</th><th scope=col>&lt;chr&gt;</th><th scope=col>&lt;chr&gt;</th><th scope=col>&lt;chr&gt;</th><th scope=col>&lt;chr&gt;</th><th scope=col>&lt;chr&gt;</th><th scope=col>&lt;chr&gt;</th><th scope=col>&lt;chr&gt;</th><th scope=col>&lt;chr&gt;</th></tr>\n",
       "</thead>\n",
       "<tbody>\n",
       "\t<tr><th scope=row>1</th><td>010001</td><td>SOUTHEAST ALABAMA MEDICAL CENTER</td><td>1108 ROSS CLARK CIRCLE    </td><td></td><td></td><td>DOTHAN      </td><td>AL</td><td>36301</td><td>HOUSTON   </td><td>3347938701</td><td>⋯</td><td>21.3</td><td>26.5</td><td>891</td><td></td><td>17.1</td><td>No Different than U.S. National Rate</td><td>14.4</td><td>20.4</td><td>400</td><td></td></tr>\n",
       "\t<tr><th scope=row>2</th><td>010005</td><td>MARSHALL MEDICAL CENTER SOUTH   </td><td>2505 U S HIGHWAY 431 NORTH</td><td></td><td></td><td>BOAZ        </td><td>AL</td><td>35957</td><td>MARSHALL  </td><td>2565938310</td><td>⋯</td><td>19.2</td><td>26.1</td><td>264</td><td></td><td>17.6</td><td>No Different than U.S. National Rate</td><td>15.0</td><td>20.6</td><td>374</td><td></td></tr>\n",
       "\t<tr><th scope=row>3</th><td>010006</td><td>ELIZA COFFEE MEMORIAL HOSPITAL  </td><td>205 MARENGO STREET        </td><td></td><td></td><td>FLORENCE    </td><td>AL</td><td>35631</td><td>LAUDERDALE</td><td>2567688400</td><td>⋯</td><td>17.2</td><td>22.9</td><td>614</td><td></td><td>16.9</td><td>No Different than U.S. National Rate</td><td>14.7</td><td>19.5</td><td>842</td><td></td></tr>\n",
       "\t<tr><th scope=row>4</th><td>010007</td><td>MIZELL MEMORIAL HOSPITAL        </td><td>702 N MAIN ST             </td><td></td><td></td><td>OPP         </td><td>AL</td><td>36467</td><td>COVINGTON </td><td>3344933541</td><td>⋯</td><td>22.4</td><td>31.9</td><td>135</td><td></td><td>19.4</td><td>No Different than U.S. National Rate</td><td>15.9</td><td>23.2</td><td>254</td><td></td></tr>\n",
       "\t<tr><th scope=row>5</th><td>010008</td><td>CRENSHAW COMMUNITY HOSPITAL     </td><td>101 HOSPITAL CIRCLE       </td><td></td><td></td><td>LUVERNE     </td><td>AL</td><td>36049</td><td>CRENSHAW  </td><td>3343353374</td><td>⋯</td><td>19.9</td><td>30.2</td><td>59 </td><td></td><td>18.0</td><td>No Different than U.S. National Rate</td><td>14.0</td><td>22.8</td><td>56 </td><td></td></tr>\n",
       "\t<tr><th scope=row>6</th><td>010010</td><td>MARSHALL MEDICAL CENTER NORTH   </td><td>8000 ALABAMA HIGHWAY 69   </td><td></td><td></td><td>GUNTERSVILLE</td><td>AL</td><td>35976</td><td>MARSHALL  </td><td>2565718000</td><td>⋯</td><td>20.1</td><td>28.2</td><td>173</td><td></td><td>18.7</td><td>No Different than U.S. National Rate</td><td>15.7</td><td>22.2</td><td>326</td><td></td></tr>\n",
       "</tbody>\n",
       "</table>\n"
      ],
      "text/latex": [
       "A data.frame: 6 × 46\n",
       "\\begin{tabular}{r|lllllllllllllllllllll}\n",
       "  & Provider.Number & Hospital.Name & Address.1 & Address.2 & Address.3 & City & State & ZIP.Code & County.Name & Phone.Number & ⋯ & Lower.Readmission.Estimate...Hospital.30.Day.Readmission.Rates.from.Heart.Failure & Upper.Readmission.Estimate...Hospital.30.Day.Readmission.Rates.from.Heart.Failure & Number.of.Patients...Hospital.30.Day.Readmission.Rates.from.Heart.Failure & Footnote...Hospital.30.Day.Readmission.Rates.from.Heart.Failure & Hospital.30.Day.Readmission.Rates.from.Pneumonia & Comparison.to.U.S..Rate...Hospital.30.Day.Readmission.Rates.from.Pneumonia & Lower.Readmission.Estimate...Hospital.30.Day.Readmission.Rates.from.Pneumonia & Upper.Readmission.Estimate...Hospital.30.Day.Readmission.Rates.from.Pneumonia & Number.of.Patients...Hospital.30.Day.Readmission.Rates.from.Pneumonia & Footnote...Hospital.30.Day.Readmission.Rates.from.Pneumonia\\\\\n",
       "  & <chr> & <chr> & <chr> & <chr> & <chr> & <chr> & <chr> & <chr> & <chr> & <chr> & ⋯ & <chr> & <chr> & <chr> & <chr> & <chr> & <chr> & <chr> & <chr> & <chr> & <chr>\\\\\n",
       "\\hline\n",
       "\t1 & 010001 & SOUTHEAST ALABAMA MEDICAL CENTER & 1108 ROSS CLARK CIRCLE     &  &  & DOTHAN       & AL & 36301 & HOUSTON    & 3347938701 & ⋯ & 21.3 & 26.5 & 891 &  & 17.1 & No Different than U.S. National Rate & 14.4 & 20.4 & 400 & \\\\\n",
       "\t2 & 010005 & MARSHALL MEDICAL CENTER SOUTH    & 2505 U S HIGHWAY 431 NORTH &  &  & BOAZ         & AL & 35957 & MARSHALL   & 2565938310 & ⋯ & 19.2 & 26.1 & 264 &  & 17.6 & No Different than U.S. National Rate & 15.0 & 20.6 & 374 & \\\\\n",
       "\t3 & 010006 & ELIZA COFFEE MEMORIAL HOSPITAL   & 205 MARENGO STREET         &  &  & FLORENCE     & AL & 35631 & LAUDERDALE & 2567688400 & ⋯ & 17.2 & 22.9 & 614 &  & 16.9 & No Different than U.S. National Rate & 14.7 & 19.5 & 842 & \\\\\n",
       "\t4 & 010007 & MIZELL MEMORIAL HOSPITAL         & 702 N MAIN ST              &  &  & OPP          & AL & 36467 & COVINGTON  & 3344933541 & ⋯ & 22.4 & 31.9 & 135 &  & 19.4 & No Different than U.S. National Rate & 15.9 & 23.2 & 254 & \\\\\n",
       "\t5 & 010008 & CRENSHAW COMMUNITY HOSPITAL      & 101 HOSPITAL CIRCLE        &  &  & LUVERNE      & AL & 36049 & CRENSHAW   & 3343353374 & ⋯ & 19.9 & 30.2 & 59  &  & 18.0 & No Different than U.S. National Rate & 14.0 & 22.8 & 56  & \\\\\n",
       "\t6 & 010010 & MARSHALL MEDICAL CENTER NORTH    & 8000 ALABAMA HIGHWAY 69    &  &  & GUNTERSVILLE & AL & 35976 & MARSHALL   & 2565718000 & ⋯ & 20.1 & 28.2 & 173 &  & 18.7 & No Different than U.S. National Rate & 15.7 & 22.2 & 326 & \\\\\n",
       "\\end{tabular}\n"
      ],
      "text/markdown": [
       "\n",
       "A data.frame: 6 × 46\n",
       "\n",
       "| <!--/--> | Provider.Number &lt;chr&gt; | Hospital.Name &lt;chr&gt; | Address.1 &lt;chr&gt; | Address.2 &lt;chr&gt; | Address.3 &lt;chr&gt; | City &lt;chr&gt; | State &lt;chr&gt; | ZIP.Code &lt;chr&gt; | County.Name &lt;chr&gt; | Phone.Number &lt;chr&gt; | ⋯ ⋯ | Lower.Readmission.Estimate...Hospital.30.Day.Readmission.Rates.from.Heart.Failure &lt;chr&gt; | Upper.Readmission.Estimate...Hospital.30.Day.Readmission.Rates.from.Heart.Failure &lt;chr&gt; | Number.of.Patients...Hospital.30.Day.Readmission.Rates.from.Heart.Failure &lt;chr&gt; | Footnote...Hospital.30.Day.Readmission.Rates.from.Heart.Failure &lt;chr&gt; | Hospital.30.Day.Readmission.Rates.from.Pneumonia &lt;chr&gt; | Comparison.to.U.S..Rate...Hospital.30.Day.Readmission.Rates.from.Pneumonia &lt;chr&gt; | Lower.Readmission.Estimate...Hospital.30.Day.Readmission.Rates.from.Pneumonia &lt;chr&gt; | Upper.Readmission.Estimate...Hospital.30.Day.Readmission.Rates.from.Pneumonia &lt;chr&gt; | Number.of.Patients...Hospital.30.Day.Readmission.Rates.from.Pneumonia &lt;chr&gt; | Footnote...Hospital.30.Day.Readmission.Rates.from.Pneumonia &lt;chr&gt; |\n",
       "|---|---|---|---|---|---|---|---|---|---|---|---|---|---|---|---|---|---|---|---|---|---|\n",
       "| 1 | 010001 | SOUTHEAST ALABAMA MEDICAL CENTER | 1108 ROSS CLARK CIRCLE     | <!----> | <!----> | DOTHAN       | AL | 36301 | HOUSTON    | 3347938701 | ⋯ | 21.3 | 26.5 | 891 | <!----> | 17.1 | No Different than U.S. National Rate | 14.4 | 20.4 | 400 | <!----> |\n",
       "| 2 | 010005 | MARSHALL MEDICAL CENTER SOUTH    | 2505 U S HIGHWAY 431 NORTH | <!----> | <!----> | BOAZ         | AL | 35957 | MARSHALL   | 2565938310 | ⋯ | 19.2 | 26.1 | 264 | <!----> | 17.6 | No Different than U.S. National Rate | 15.0 | 20.6 | 374 | <!----> |\n",
       "| 3 | 010006 | ELIZA COFFEE MEMORIAL HOSPITAL   | 205 MARENGO STREET         | <!----> | <!----> | FLORENCE     | AL | 35631 | LAUDERDALE | 2567688400 | ⋯ | 17.2 | 22.9 | 614 | <!----> | 16.9 | No Different than U.S. National Rate | 14.7 | 19.5 | 842 | <!----> |\n",
       "| 4 | 010007 | MIZELL MEMORIAL HOSPITAL         | 702 N MAIN ST              | <!----> | <!----> | OPP          | AL | 36467 | COVINGTON  | 3344933541 | ⋯ | 22.4 | 31.9 | 135 | <!----> | 19.4 | No Different than U.S. National Rate | 15.9 | 23.2 | 254 | <!----> |\n",
       "| 5 | 010008 | CRENSHAW COMMUNITY HOSPITAL      | 101 HOSPITAL CIRCLE        | <!----> | <!----> | LUVERNE      | AL | 36049 | CRENSHAW   | 3343353374 | ⋯ | 19.9 | 30.2 | 59  | <!----> | 18.0 | No Different than U.S. National Rate | 14.0 | 22.8 | 56  | <!----> |\n",
       "| 6 | 010010 | MARSHALL MEDICAL CENTER NORTH    | 8000 ALABAMA HIGHWAY 69    | <!----> | <!----> | GUNTERSVILLE | AL | 35976 | MARSHALL   | 2565718000 | ⋯ | 20.1 | 28.2 | 173 | <!----> | 18.7 | No Different than U.S. National Rate | 15.7 | 22.2 | 326 | <!----> |\n",
       "\n"
      ],
      "text/plain": [
       "  Provider.Number Hospital.Name                    Address.1                 \n",
       "1 010001          SOUTHEAST ALABAMA MEDICAL CENTER 1108 ROSS CLARK CIRCLE    \n",
       "2 010005          MARSHALL MEDICAL CENTER SOUTH    2505 U S HIGHWAY 431 NORTH\n",
       "3 010006          ELIZA COFFEE MEMORIAL HOSPITAL   205 MARENGO STREET        \n",
       "4 010007          MIZELL MEMORIAL HOSPITAL         702 N MAIN ST             \n",
       "5 010008          CRENSHAW COMMUNITY HOSPITAL      101 HOSPITAL CIRCLE       \n",
       "6 010010          MARSHALL MEDICAL CENTER NORTH    8000 ALABAMA HIGHWAY 69   \n",
       "  Address.2 Address.3 City         State ZIP.Code County.Name Phone.Number ⋯\n",
       "1                     DOTHAN       AL    36301    HOUSTON     3347938701   ⋯\n",
       "2                     BOAZ         AL    35957    MARSHALL    2565938310   ⋯\n",
       "3                     FLORENCE     AL    35631    LAUDERDALE  2567688400   ⋯\n",
       "4                     OPP          AL    36467    COVINGTON   3344933541   ⋯\n",
       "5                     LUVERNE      AL    36049    CRENSHAW    3343353374   ⋯\n",
       "6                     GUNTERSVILLE AL    35976    MARSHALL    2565718000   ⋯\n",
       "  Lower.Readmission.Estimate...Hospital.30.Day.Readmission.Rates.from.Heart.Failure\n",
       "1 21.3                                                                             \n",
       "2 19.2                                                                             \n",
       "3 17.2                                                                             \n",
       "4 22.4                                                                             \n",
       "5 19.9                                                                             \n",
       "6 20.1                                                                             \n",
       "  Upper.Readmission.Estimate...Hospital.30.Day.Readmission.Rates.from.Heart.Failure\n",
       "1 26.5                                                                             \n",
       "2 26.1                                                                             \n",
       "3 22.9                                                                             \n",
       "4 31.9                                                                             \n",
       "5 30.2                                                                             \n",
       "6 28.2                                                                             \n",
       "  Number.of.Patients...Hospital.30.Day.Readmission.Rates.from.Heart.Failure\n",
       "1 891                                                                      \n",
       "2 264                                                                      \n",
       "3 614                                                                      \n",
       "4 135                                                                      \n",
       "5 59                                                                       \n",
       "6 173                                                                      \n",
       "  Footnote...Hospital.30.Day.Readmission.Rates.from.Heart.Failure\n",
       "1                                                                \n",
       "2                                                                \n",
       "3                                                                \n",
       "4                                                                \n",
       "5                                                                \n",
       "6                                                                \n",
       "  Hospital.30.Day.Readmission.Rates.from.Pneumonia\n",
       "1 17.1                                            \n",
       "2 17.6                                            \n",
       "3 16.9                                            \n",
       "4 19.4                                            \n",
       "5 18.0                                            \n",
       "6 18.7                                            \n",
       "  Comparison.to.U.S..Rate...Hospital.30.Day.Readmission.Rates.from.Pneumonia\n",
       "1 No Different than U.S. National Rate                                      \n",
       "2 No Different than U.S. National Rate                                      \n",
       "3 No Different than U.S. National Rate                                      \n",
       "4 No Different than U.S. National Rate                                      \n",
       "5 No Different than U.S. National Rate                                      \n",
       "6 No Different than U.S. National Rate                                      \n",
       "  Lower.Readmission.Estimate...Hospital.30.Day.Readmission.Rates.from.Pneumonia\n",
       "1 14.4                                                                         \n",
       "2 15.0                                                                         \n",
       "3 14.7                                                                         \n",
       "4 15.9                                                                         \n",
       "5 14.0                                                                         \n",
       "6 15.7                                                                         \n",
       "  Upper.Readmission.Estimate...Hospital.30.Day.Readmission.Rates.from.Pneumonia\n",
       "1 20.4                                                                         \n",
       "2 20.6                                                                         \n",
       "3 19.5                                                                         \n",
       "4 23.2                                                                         \n",
       "5 22.8                                                                         \n",
       "6 22.2                                                                         \n",
       "  Number.of.Patients...Hospital.30.Day.Readmission.Rates.from.Pneumonia\n",
       "1 400                                                                  \n",
       "2 374                                                                  \n",
       "3 842                                                                  \n",
       "4 254                                                                  \n",
       "5 56                                                                   \n",
       "6 326                                                                  \n",
       "  Footnote...Hospital.30.Day.Readmission.Rates.from.Pneumonia\n",
       "1                                                            \n",
       "2                                                            \n",
       "3                                                            \n",
       "4                                                            \n",
       "5                                                            \n",
       "6                                                            "
      ]
     },
     "metadata": {},
     "output_type": "display_data"
    }
   ],
   "source": [
    "outcome <- read.csv(\"rprog_data_ProgAssignment3-data/outcome-of-care-measures.csv\", colClasses = 'character')\n",
    "head(outcome)"
   ]
  },
  {
   "cell_type": "code",
   "execution_count": 37,
   "metadata": {},
   "outputs": [
    {
     "data": {
      "text/html": [
       "46"
      ],
      "text/latex": [
       "46"
      ],
      "text/markdown": [
       "46"
      ],
      "text/plain": [
       "[1] 46"
      ]
     },
     "metadata": {},
     "output_type": "display_data"
    }
   ],
   "source": [
    "ncol(outcome)"
   ]
  },
  {
   "cell_type": "code",
   "execution_count": 38,
   "metadata": {},
   "outputs": [
    {
     "data": {
      "text/html": [
       "4706"
      ],
      "text/latex": [
       "4706"
      ],
      "text/markdown": [
       "4706"
      ],
      "text/plain": [
       "[1] 4706"
      ]
     },
     "metadata": {},
     "output_type": "display_data"
    }
   ],
   "source": [
    "nrow(outcome)"
   ]
  },
  {
   "cell_type": "code",
   "execution_count": 39,
   "metadata": {},
   "outputs": [
    {
     "data": {
      "text/html": [
       "<style>\n",
       ".list-inline {list-style: none; margin:0; padding: 0}\n",
       ".list-inline>li {display: inline-block}\n",
       ".list-inline>li:not(:last-child)::after {content: \"\\00b7\"; padding: 0 .5ex}\n",
       "</style>\n",
       "<ol class=list-inline><li>'Provider.Number'</li><li>'Hospital.Name'</li><li>'Address.1'</li><li>'Address.2'</li><li>'Address.3'</li><li>'City'</li><li>'State'</li><li>'ZIP.Code'</li><li>'County.Name'</li><li>'Phone.Number'</li><li>'Hospital.30.Day.Death..Mortality..Rates.from.Heart.Attack'</li><li>'Comparison.to.U.S..Rate...Hospital.30.Day.Death..Mortality..Rates.from.Heart.Attack'</li><li>'Lower.Mortality.Estimate...Hospital.30.Day.Death..Mortality..Rates.from.Heart.Attack'</li><li>'Upper.Mortality.Estimate...Hospital.30.Day.Death..Mortality..Rates.from.Heart.Attack'</li><li>'Number.of.Patients...Hospital.30.Day.Death..Mortality..Rates.from.Heart.Attack'</li><li>'Footnote...Hospital.30.Day.Death..Mortality..Rates.from.Heart.Attack'</li><li>'Hospital.30.Day.Death..Mortality..Rates.from.Heart.Failure'</li><li>'Comparison.to.U.S..Rate...Hospital.30.Day.Death..Mortality..Rates.from.Heart.Failure'</li><li>'Lower.Mortality.Estimate...Hospital.30.Day.Death..Mortality..Rates.from.Heart.Failure'</li><li>'Upper.Mortality.Estimate...Hospital.30.Day.Death..Mortality..Rates.from.Heart.Failure'</li><li>'Number.of.Patients...Hospital.30.Day.Death..Mortality..Rates.from.Heart.Failure'</li><li>'Footnote...Hospital.30.Day.Death..Mortality..Rates.from.Heart.Failure'</li><li>'Hospital.30.Day.Death..Mortality..Rates.from.Pneumonia'</li><li>'Comparison.to.U.S..Rate...Hospital.30.Day.Death..Mortality..Rates.from.Pneumonia'</li><li>'Lower.Mortality.Estimate...Hospital.30.Day.Death..Mortality..Rates.from.Pneumonia'</li><li>'Upper.Mortality.Estimate...Hospital.30.Day.Death..Mortality..Rates.from.Pneumonia'</li><li>'Number.of.Patients...Hospital.30.Day.Death..Mortality..Rates.from.Pneumonia'</li><li>'Footnote...Hospital.30.Day.Death..Mortality..Rates.from.Pneumonia'</li><li>'Hospital.30.Day.Readmission.Rates.from.Heart.Attack'</li><li>'Comparison.to.U.S..Rate...Hospital.30.Day.Readmission.Rates.from.Heart.Attack'</li><li>'Lower.Readmission.Estimate...Hospital.30.Day.Readmission.Rates.from.Heart.Attack'</li><li>'Upper.Readmission.Estimate...Hospital.30.Day.Readmission.Rates.from.Heart.Attack'</li><li>'Number.of.Patients...Hospital.30.Day.Readmission.Rates.from.Heart.Attack'</li><li>'Footnote...Hospital.30.Day.Readmission.Rates.from.Heart.Attack'</li><li>'Hospital.30.Day.Readmission.Rates.from.Heart.Failure'</li><li>'Comparison.to.U.S..Rate...Hospital.30.Day.Readmission.Rates.from.Heart.Failure'</li><li>'Lower.Readmission.Estimate...Hospital.30.Day.Readmission.Rates.from.Heart.Failure'</li><li>'Upper.Readmission.Estimate...Hospital.30.Day.Readmission.Rates.from.Heart.Failure'</li><li>'Number.of.Patients...Hospital.30.Day.Readmission.Rates.from.Heart.Failure'</li><li>'Footnote...Hospital.30.Day.Readmission.Rates.from.Heart.Failure'</li><li>'Hospital.30.Day.Readmission.Rates.from.Pneumonia'</li><li>'Comparison.to.U.S..Rate...Hospital.30.Day.Readmission.Rates.from.Pneumonia'</li><li>'Lower.Readmission.Estimate...Hospital.30.Day.Readmission.Rates.from.Pneumonia'</li><li>'Upper.Readmission.Estimate...Hospital.30.Day.Readmission.Rates.from.Pneumonia'</li><li>'Number.of.Patients...Hospital.30.Day.Readmission.Rates.from.Pneumonia'</li><li>'Footnote...Hospital.30.Day.Readmission.Rates.from.Pneumonia'</li></ol>\n"
      ],
      "text/latex": [
       "\\begin{enumerate*}\n",
       "\\item 'Provider.Number'\n",
       "\\item 'Hospital.Name'\n",
       "\\item 'Address.1'\n",
       "\\item 'Address.2'\n",
       "\\item 'Address.3'\n",
       "\\item 'City'\n",
       "\\item 'State'\n",
       "\\item 'ZIP.Code'\n",
       "\\item 'County.Name'\n",
       "\\item 'Phone.Number'\n",
       "\\item 'Hospital.30.Day.Death..Mortality..Rates.from.Heart.Attack'\n",
       "\\item 'Comparison.to.U.S..Rate...Hospital.30.Day.Death..Mortality..Rates.from.Heart.Attack'\n",
       "\\item 'Lower.Mortality.Estimate...Hospital.30.Day.Death..Mortality..Rates.from.Heart.Attack'\n",
       "\\item 'Upper.Mortality.Estimate...Hospital.30.Day.Death..Mortality..Rates.from.Heart.Attack'\n",
       "\\item 'Number.of.Patients...Hospital.30.Day.Death..Mortality..Rates.from.Heart.Attack'\n",
       "\\item 'Footnote...Hospital.30.Day.Death..Mortality..Rates.from.Heart.Attack'\n",
       "\\item 'Hospital.30.Day.Death..Mortality..Rates.from.Heart.Failure'\n",
       "\\item 'Comparison.to.U.S..Rate...Hospital.30.Day.Death..Mortality..Rates.from.Heart.Failure'\n",
       "\\item 'Lower.Mortality.Estimate...Hospital.30.Day.Death..Mortality..Rates.from.Heart.Failure'\n",
       "\\item 'Upper.Mortality.Estimate...Hospital.30.Day.Death..Mortality..Rates.from.Heart.Failure'\n",
       "\\item 'Number.of.Patients...Hospital.30.Day.Death..Mortality..Rates.from.Heart.Failure'\n",
       "\\item 'Footnote...Hospital.30.Day.Death..Mortality..Rates.from.Heart.Failure'\n",
       "\\item 'Hospital.30.Day.Death..Mortality..Rates.from.Pneumonia'\n",
       "\\item 'Comparison.to.U.S..Rate...Hospital.30.Day.Death..Mortality..Rates.from.Pneumonia'\n",
       "\\item 'Lower.Mortality.Estimate...Hospital.30.Day.Death..Mortality..Rates.from.Pneumonia'\n",
       "\\item 'Upper.Mortality.Estimate...Hospital.30.Day.Death..Mortality..Rates.from.Pneumonia'\n",
       "\\item 'Number.of.Patients...Hospital.30.Day.Death..Mortality..Rates.from.Pneumonia'\n",
       "\\item 'Footnote...Hospital.30.Day.Death..Mortality..Rates.from.Pneumonia'\n",
       "\\item 'Hospital.30.Day.Readmission.Rates.from.Heart.Attack'\n",
       "\\item 'Comparison.to.U.S..Rate...Hospital.30.Day.Readmission.Rates.from.Heart.Attack'\n",
       "\\item 'Lower.Readmission.Estimate...Hospital.30.Day.Readmission.Rates.from.Heart.Attack'\n",
       "\\item 'Upper.Readmission.Estimate...Hospital.30.Day.Readmission.Rates.from.Heart.Attack'\n",
       "\\item 'Number.of.Patients...Hospital.30.Day.Readmission.Rates.from.Heart.Attack'\n",
       "\\item 'Footnote...Hospital.30.Day.Readmission.Rates.from.Heart.Attack'\n",
       "\\item 'Hospital.30.Day.Readmission.Rates.from.Heart.Failure'\n",
       "\\item 'Comparison.to.U.S..Rate...Hospital.30.Day.Readmission.Rates.from.Heart.Failure'\n",
       "\\item 'Lower.Readmission.Estimate...Hospital.30.Day.Readmission.Rates.from.Heart.Failure'\n",
       "\\item 'Upper.Readmission.Estimate...Hospital.30.Day.Readmission.Rates.from.Heart.Failure'\n",
       "\\item 'Number.of.Patients...Hospital.30.Day.Readmission.Rates.from.Heart.Failure'\n",
       "\\item 'Footnote...Hospital.30.Day.Readmission.Rates.from.Heart.Failure'\n",
       "\\item 'Hospital.30.Day.Readmission.Rates.from.Pneumonia'\n",
       "\\item 'Comparison.to.U.S..Rate...Hospital.30.Day.Readmission.Rates.from.Pneumonia'\n",
       "\\item 'Lower.Readmission.Estimate...Hospital.30.Day.Readmission.Rates.from.Pneumonia'\n",
       "\\item 'Upper.Readmission.Estimate...Hospital.30.Day.Readmission.Rates.from.Pneumonia'\n",
       "\\item 'Number.of.Patients...Hospital.30.Day.Readmission.Rates.from.Pneumonia'\n",
       "\\item 'Footnote...Hospital.30.Day.Readmission.Rates.from.Pneumonia'\n",
       "\\end{enumerate*}\n"
      ],
      "text/markdown": [
       "1. 'Provider.Number'\n",
       "2. 'Hospital.Name'\n",
       "3. 'Address.1'\n",
       "4. 'Address.2'\n",
       "5. 'Address.3'\n",
       "6. 'City'\n",
       "7. 'State'\n",
       "8. 'ZIP.Code'\n",
       "9. 'County.Name'\n",
       "10. 'Phone.Number'\n",
       "11. 'Hospital.30.Day.Death..Mortality..Rates.from.Heart.Attack'\n",
       "12. 'Comparison.to.U.S..Rate...Hospital.30.Day.Death..Mortality..Rates.from.Heart.Attack'\n",
       "13. 'Lower.Mortality.Estimate...Hospital.30.Day.Death..Mortality..Rates.from.Heart.Attack'\n",
       "14. 'Upper.Mortality.Estimate...Hospital.30.Day.Death..Mortality..Rates.from.Heart.Attack'\n",
       "15. 'Number.of.Patients...Hospital.30.Day.Death..Mortality..Rates.from.Heart.Attack'\n",
       "16. 'Footnote...Hospital.30.Day.Death..Mortality..Rates.from.Heart.Attack'\n",
       "17. 'Hospital.30.Day.Death..Mortality..Rates.from.Heart.Failure'\n",
       "18. 'Comparison.to.U.S..Rate...Hospital.30.Day.Death..Mortality..Rates.from.Heart.Failure'\n",
       "19. 'Lower.Mortality.Estimate...Hospital.30.Day.Death..Mortality..Rates.from.Heart.Failure'\n",
       "20. 'Upper.Mortality.Estimate...Hospital.30.Day.Death..Mortality..Rates.from.Heart.Failure'\n",
       "21. 'Number.of.Patients...Hospital.30.Day.Death..Mortality..Rates.from.Heart.Failure'\n",
       "22. 'Footnote...Hospital.30.Day.Death..Mortality..Rates.from.Heart.Failure'\n",
       "23. 'Hospital.30.Day.Death..Mortality..Rates.from.Pneumonia'\n",
       "24. 'Comparison.to.U.S..Rate...Hospital.30.Day.Death..Mortality..Rates.from.Pneumonia'\n",
       "25. 'Lower.Mortality.Estimate...Hospital.30.Day.Death..Mortality..Rates.from.Pneumonia'\n",
       "26. 'Upper.Mortality.Estimate...Hospital.30.Day.Death..Mortality..Rates.from.Pneumonia'\n",
       "27. 'Number.of.Patients...Hospital.30.Day.Death..Mortality..Rates.from.Pneumonia'\n",
       "28. 'Footnote...Hospital.30.Day.Death..Mortality..Rates.from.Pneumonia'\n",
       "29. 'Hospital.30.Day.Readmission.Rates.from.Heart.Attack'\n",
       "30. 'Comparison.to.U.S..Rate...Hospital.30.Day.Readmission.Rates.from.Heart.Attack'\n",
       "31. 'Lower.Readmission.Estimate...Hospital.30.Day.Readmission.Rates.from.Heart.Attack'\n",
       "32. 'Upper.Readmission.Estimate...Hospital.30.Day.Readmission.Rates.from.Heart.Attack'\n",
       "33. 'Number.of.Patients...Hospital.30.Day.Readmission.Rates.from.Heart.Attack'\n",
       "34. 'Footnote...Hospital.30.Day.Readmission.Rates.from.Heart.Attack'\n",
       "35. 'Hospital.30.Day.Readmission.Rates.from.Heart.Failure'\n",
       "36. 'Comparison.to.U.S..Rate...Hospital.30.Day.Readmission.Rates.from.Heart.Failure'\n",
       "37. 'Lower.Readmission.Estimate...Hospital.30.Day.Readmission.Rates.from.Heart.Failure'\n",
       "38. 'Upper.Readmission.Estimate...Hospital.30.Day.Readmission.Rates.from.Heart.Failure'\n",
       "39. 'Number.of.Patients...Hospital.30.Day.Readmission.Rates.from.Heart.Failure'\n",
       "40. 'Footnote...Hospital.30.Day.Readmission.Rates.from.Heart.Failure'\n",
       "41. 'Hospital.30.Day.Readmission.Rates.from.Pneumonia'\n",
       "42. 'Comparison.to.U.S..Rate...Hospital.30.Day.Readmission.Rates.from.Pneumonia'\n",
       "43. 'Lower.Readmission.Estimate...Hospital.30.Day.Readmission.Rates.from.Pneumonia'\n",
       "44. 'Upper.Readmission.Estimate...Hospital.30.Day.Readmission.Rates.from.Pneumonia'\n",
       "45. 'Number.of.Patients...Hospital.30.Day.Readmission.Rates.from.Pneumonia'\n",
       "46. 'Footnote...Hospital.30.Day.Readmission.Rates.from.Pneumonia'\n",
       "\n",
       "\n"
      ],
      "text/plain": [
       " [1] \"Provider.Number\"                                                                      \n",
       " [2] \"Hospital.Name\"                                                                        \n",
       " [3] \"Address.1\"                                                                            \n",
       " [4] \"Address.2\"                                                                            \n",
       " [5] \"Address.3\"                                                                            \n",
       " [6] \"City\"                                                                                 \n",
       " [7] \"State\"                                                                                \n",
       " [8] \"ZIP.Code\"                                                                             \n",
       " [9] \"County.Name\"                                                                          \n",
       "[10] \"Phone.Number\"                                                                         \n",
       "[11] \"Hospital.30.Day.Death..Mortality..Rates.from.Heart.Attack\"                            \n",
       "[12] \"Comparison.to.U.S..Rate...Hospital.30.Day.Death..Mortality..Rates.from.Heart.Attack\"  \n",
       "[13] \"Lower.Mortality.Estimate...Hospital.30.Day.Death..Mortality..Rates.from.Heart.Attack\" \n",
       "[14] \"Upper.Mortality.Estimate...Hospital.30.Day.Death..Mortality..Rates.from.Heart.Attack\" \n",
       "[15] \"Number.of.Patients...Hospital.30.Day.Death..Mortality..Rates.from.Heart.Attack\"       \n",
       "[16] \"Footnote...Hospital.30.Day.Death..Mortality..Rates.from.Heart.Attack\"                 \n",
       "[17] \"Hospital.30.Day.Death..Mortality..Rates.from.Heart.Failure\"                           \n",
       "[18] \"Comparison.to.U.S..Rate...Hospital.30.Day.Death..Mortality..Rates.from.Heart.Failure\" \n",
       "[19] \"Lower.Mortality.Estimate...Hospital.30.Day.Death..Mortality..Rates.from.Heart.Failure\"\n",
       "[20] \"Upper.Mortality.Estimate...Hospital.30.Day.Death..Mortality..Rates.from.Heart.Failure\"\n",
       "[21] \"Number.of.Patients...Hospital.30.Day.Death..Mortality..Rates.from.Heart.Failure\"      \n",
       "[22] \"Footnote...Hospital.30.Day.Death..Mortality..Rates.from.Heart.Failure\"                \n",
       "[23] \"Hospital.30.Day.Death..Mortality..Rates.from.Pneumonia\"                               \n",
       "[24] \"Comparison.to.U.S..Rate...Hospital.30.Day.Death..Mortality..Rates.from.Pneumonia\"     \n",
       "[25] \"Lower.Mortality.Estimate...Hospital.30.Day.Death..Mortality..Rates.from.Pneumonia\"    \n",
       "[26] \"Upper.Mortality.Estimate...Hospital.30.Day.Death..Mortality..Rates.from.Pneumonia\"    \n",
       "[27] \"Number.of.Patients...Hospital.30.Day.Death..Mortality..Rates.from.Pneumonia\"          \n",
       "[28] \"Footnote...Hospital.30.Day.Death..Mortality..Rates.from.Pneumonia\"                    \n",
       "[29] \"Hospital.30.Day.Readmission.Rates.from.Heart.Attack\"                                  \n",
       "[30] \"Comparison.to.U.S..Rate...Hospital.30.Day.Readmission.Rates.from.Heart.Attack\"        \n",
       "[31] \"Lower.Readmission.Estimate...Hospital.30.Day.Readmission.Rates.from.Heart.Attack\"     \n",
       "[32] \"Upper.Readmission.Estimate...Hospital.30.Day.Readmission.Rates.from.Heart.Attack\"     \n",
       "[33] \"Number.of.Patients...Hospital.30.Day.Readmission.Rates.from.Heart.Attack\"             \n",
       "[34] \"Footnote...Hospital.30.Day.Readmission.Rates.from.Heart.Attack\"                       \n",
       "[35] \"Hospital.30.Day.Readmission.Rates.from.Heart.Failure\"                                 \n",
       "[36] \"Comparison.to.U.S..Rate...Hospital.30.Day.Readmission.Rates.from.Heart.Failure\"       \n",
       "[37] \"Lower.Readmission.Estimate...Hospital.30.Day.Readmission.Rates.from.Heart.Failure\"    \n",
       "[38] \"Upper.Readmission.Estimate...Hospital.30.Day.Readmission.Rates.from.Heart.Failure\"    \n",
       "[39] \"Number.of.Patients...Hospital.30.Day.Readmission.Rates.from.Heart.Failure\"            \n",
       "[40] \"Footnote...Hospital.30.Day.Readmission.Rates.from.Heart.Failure\"                      \n",
       "[41] \"Hospital.30.Day.Readmission.Rates.from.Pneumonia\"                                     \n",
       "[42] \"Comparison.to.U.S..Rate...Hospital.30.Day.Readmission.Rates.from.Pneumonia\"           \n",
       "[43] \"Lower.Readmission.Estimate...Hospital.30.Day.Readmission.Rates.from.Pneumonia\"        \n",
       "[44] \"Upper.Readmission.Estimate...Hospital.30.Day.Readmission.Rates.from.Pneumonia\"        \n",
       "[45] \"Number.of.Patients...Hospital.30.Day.Readmission.Rates.from.Pneumonia\"                \n",
       "[46] \"Footnote...Hospital.30.Day.Readmission.Rates.from.Pneumonia\"                          "
      ]
     },
     "metadata": {},
     "output_type": "display_data"
    }
   ],
   "source": [
    "names(outcome)"
   ]
  },
  {
   "cell_type": "code",
   "execution_count": 57,
   "metadata": {},
   "outputs": [
    {
     "data": {
      "text/html": [
       "'Hospital.30.Day.Death..Mortality..Rates.from.Heart.Attack'"
      ],
      "text/latex": [
       "'Hospital.30.Day.Death..Mortality..Rates.from.Heart.Attack'"
      ],
      "text/markdown": [
       "'Hospital.30.Day.Death..Mortality..Rates.from.Heart.Attack'"
      ],
      "text/plain": [
       "[1] \"Hospital.30.Day.Death..Mortality..Rates.from.Heart.Attack\""
      ]
     },
     "metadata": {},
     "output_type": "display_data"
    }
   ],
   "source": [
    "temp_name <- names(outcome)[11]\n",
    "temp_name"
   ]
  },
  {
   "cell_type": "code",
   "execution_count": 46,
   "metadata": {},
   "outputs": [
    {
     "name": "stderr",
     "output_type": "stream",
     "text": [
      "Warning message in eval(expr, envir, enclos):\n",
      "“NAs introduced by coercion”\n"
     ]
    }
   ],
   "source": [
    "outcome[,temp_name] <- as.numeric(outcome[, temp_name])"
   ]
  },
  {
   "cell_type": "code",
   "execution_count": 47,
   "metadata": {},
   "outputs": [
    {
     "data": {
      "image/png": "[encoded data removed]",
      "text/plain": [
       "Plot with title “Histogram of outcome[, temp_name]”"
      ]
     },
     "metadata": {
      "image/png": {
       "height": 420,
       "width": 420
      }
     },
     "output_type": "display_data"
    }
   ],
   "source": [
    "hist(outcome[,temp_name])"
   ]
  },
  {
   "cell_type": "code",
   "execution_count": 85,
   "metadata": {},
   "outputs": [
    {
     "name": "stderr",
     "output_type": "stream",
     "text": [
      "Warning message in lapply(.SD, as.numeric):\n",
      "“NAs introduced by coercion”\n"
     ]
    },
    {
     "data": {
      "text/html": [
       "<table>\n",
       "<caption>A data.table: 6 × 1</caption>\n",
       "<thead>\n",
       "\t<tr><th scope=col>Hospital 30-Day Death (Mortality) Rates from Heart Attack</th></tr>\n",
       "\t<tr><th scope=col>&lt;histogrm&gt;</th></tr>\n",
       "</thead>\n",
       "<tbody>\n",
       "\t<tr><td>10, 11, 12, 13, 14, 15, 16, 17, 18, 19, 20, 21, 22</td></tr>\n",
       "\t<tr><td>8, 20, 105, 308, 626, 762, 518, 255, 89, 24, 3, 2</td></tr>\n",
       "\t<tr><td>0.0029411765, 0.0073529412, 0.0386029412, 0.1132352941, 0.2301470588, 0.2801470588, 0.1904411765, 0.0937500000, 0.0327205882, 0.0088235294, 0.0011029412, 0.0007352941</td></tr>\n",
       "\t<tr><td>10.5, 11.5, 12.5, 13.5, 14.5, 15.5, 16.5, 17.5, 18.5, 19.5, 20.5, 21.5</td></tr>\n",
       "\t<tr><td>X[[i]]</td></tr>\n",
       "\t<tr><td>TRUE</td></tr>\n",
       "</tbody>\n",
       "</table>\n"
      ],
      "text/latex": [
       "A data.table: 6 × 1\n",
       "\\begin{tabular}{l}\n",
       " Hospital 30-Day Death (Mortality) Rates from Heart Attack\\\\\n",
       " <histogrm>\\\\\n",
       "\\hline\n",
       "\t 10, 11, 12, 13, 14, 15, 16, 17, 18, 19, 20, 21, 22\\\\\n",
       "\t 8, 20, 105, 308, 626, 762, 518, 255, 89, 24, 3, 2\\\\\n",
       "\t 0.0029411765, 0.0073529412, 0.0386029412, 0.1132352941, 0.2301470588, 0.2801470588, 0.1904411765, 0.0937500000, 0.0327205882, 0.0088235294, 0.0011029412, 0.0007352941\\\\\n",
       "\t 10.5, 11.5, 12.5, 13.5, 14.5, 15.5, 16.5, 17.5, 18.5, 19.5, 20.5, 21.5\\\\\n",
       "\t X{[}{[}i{]}{]}\\\\\n",
       "\t TRUE\\\\\n",
       "\\end{tabular}\n"
      ],
      "text/markdown": [
       "\n",
       "A data.table: 6 × 1\n",
       "\n",
       "| Hospital 30-Day Death (Mortality) Rates from Heart Attack &lt;histogrm&gt; |\n",
       "|---|\n",
       "| 10, 11, 12, 13, 14, 15, 16, 17, 18, 19, 20, 21, 22 |\n",
       "| 8, 20, 105, 308, 626, 762, 518, 255, 89, 24, 3, 2 |\n",
       "| 0.0029411765, 0.0073529412, 0.0386029412, 0.1132352941, 0.2301470588, 0.2801470588, 0.1904411765, 0.0937500000, 0.0327205882, 0.0088235294, 0.0011029412, 0.0007352941 |\n",
       "| 10.5, 11.5, 12.5, 13.5, 14.5, 15.5, 16.5, 17.5, 18.5, 19.5, 20.5, 21.5 |\n",
       "| X[[i]] |\n",
       "| TRUE |\n",
       "\n"
      ],
      "text/plain": [
       "  Hospital 30-Day Death (Mortality) Rates from Heart Attack                                                                                                             \n",
       "1 10, 11, 12, 13, 14, 15, 16, 17, 18, 19, 20, 21, 22                                                                                                                    \n",
       "2 8, 20, 105, 308, 626, 762, 518, 255, 89, 24, 3, 2                                                                                                                     \n",
       "3 0.0029411765, 0.0073529412, 0.0386029412, 0.1132352941, 0.2301470588, 0.2801470588, 0.1904411765, 0.0937500000, 0.0327205882, 0.0088235294, 0.0011029412, 0.0007352941\n",
       "4 10.5, 11.5, 12.5, 13.5, 14.5, 15.5, 16.5, 17.5, 18.5, 19.5, 20.5, 21.5                                                                                                \n",
       "5 X[[i]]                                                                                                                                                                \n",
       "6 TRUE                                                                                                                                                                  "
      ]
     },
     "metadata": {},
     "output_type": "display_data"
    },
    {
     "data": {
      "image/png": "[encoded data removed]",
      "text/plain": [
       "Plot with title “Hospital 30-Day Death (Mortality) Rates from Heart Attack”"
      ]
     },
     "metadata": {
      "image/png": {
       "height": 420,
       "width": 420
      }
     },
     "output_type": "display_data"
    }
   ],
   "source": [
    "# Reading in data\n",
    "outcome <- data.table::fread('rprog_data_ProgAssignment3-data/outcome-of-care-measures.csv')\n",
    "outcome[, (11) := lapply(.SD, as.numeric), .SDcols = (11)]\n",
    "outcome[, lapply(.SD\n",
    "                 , hist\n",
    "                 , xlab= \"Deaths\"\n",
    "                 , main = \"Hospital 30-Day Death (Mortality) Rates from Heart Attack\"\n",
    "                 , col=\"lightblue\")\n",
    "        , .SDcols = (11)]"
   ]
  },
  {
   "cell_type": "code",
   "execution_count": 51,
   "metadata": {},
   "outputs": [
    {
     "data": {
      "text/html": [
       "<table>\n",
       "<caption>A data.frame: 6 × 46</caption>\n",
       "<thead>\n",
       "\t<tr><th></th><th scope=col>Provider.Number</th><th scope=col>Hospital.Name</th><th scope=col>Address.1</th><th scope=col>Address.2</th><th scope=col>Address.3</th><th scope=col>City</th><th scope=col>State</th><th scope=col>ZIP.Code</th><th scope=col>County.Name</th><th scope=col>Phone.Number</th><th scope=col>⋯</th><th scope=col>Lower.Readmission.Estimate...Hospital.30.Day.Readmission.Rates.from.Heart.Failure</th><th scope=col>Upper.Readmission.Estimate...Hospital.30.Day.Readmission.Rates.from.Heart.Failure</th><th scope=col>Number.of.Patients...Hospital.30.Day.Readmission.Rates.from.Heart.Failure</th><th scope=col>Footnote...Hospital.30.Day.Readmission.Rates.from.Heart.Failure</th><th scope=col>Hospital.30.Day.Readmission.Rates.from.Pneumonia</th><th scope=col>Comparison.to.U.S..Rate...Hospital.30.Day.Readmission.Rates.from.Pneumonia</th><th scope=col>Lower.Readmission.Estimate...Hospital.30.Day.Readmission.Rates.from.Pneumonia</th><th scope=col>Upper.Readmission.Estimate...Hospital.30.Day.Readmission.Rates.from.Pneumonia</th><th scope=col>Number.of.Patients...Hospital.30.Day.Readmission.Rates.from.Pneumonia</th><th scope=col>Footnote...Hospital.30.Day.Readmission.Rates.from.Pneumonia</th></tr>\n",
       "\t<tr><th></th><th scope=col>&lt;chr&gt;</th><th scope=col>&lt;chr&gt;</th><th scope=col>&lt;chr&gt;</th><th scope=col>&lt;lgl&gt;</th><th scope=col>&lt;lgl&gt;</th><th scope=col>&lt;chr&gt;</th><th scope=col>&lt;chr&gt;</th><th scope=col>&lt;int&gt;</th><th scope=col>&lt;chr&gt;</th><th scope=col>&lt;dbl&gt;</th><th scope=col>⋯</th><th scope=col>&lt;chr&gt;</th><th scope=col>&lt;chr&gt;</th><th scope=col>&lt;chr&gt;</th><th scope=col>&lt;chr&gt;</th><th scope=col>&lt;chr&gt;</th><th scope=col>&lt;chr&gt;</th><th scope=col>&lt;chr&gt;</th><th scope=col>&lt;chr&gt;</th><th scope=col>&lt;chr&gt;</th><th scope=col>&lt;chr&gt;</th></tr>\n",
       "</thead>\n",
       "<tbody>\n",
       "\t<tr><th scope=row>1</th><td>010001</td><td>SOUTHEAST ALABAMA MEDICAL CENTER</td><td>1108 ROSS CLARK CIRCLE    </td><td>NA</td><td>NA</td><td>DOTHAN      </td><td>AL</td><td>36301</td><td>HOUSTON   </td><td>3347938701</td><td>⋯</td><td>21.3</td><td>26.5</td><td>891</td><td></td><td>17.1</td><td>No Different than U.S. National Rate</td><td>14.4</td><td>20.4</td><td>400</td><td></td></tr>\n",
       "\t<tr><th scope=row>2</th><td>010005</td><td>MARSHALL MEDICAL CENTER SOUTH   </td><td>2505 U S HIGHWAY 431 NORTH</td><td>NA</td><td>NA</td><td>BOAZ        </td><td>AL</td><td>35957</td><td>MARSHALL  </td><td>2565938310</td><td>⋯</td><td>19.2</td><td>26.1</td><td>264</td><td></td><td>17.6</td><td>No Different than U.S. National Rate</td><td>15.0</td><td>20.6</td><td>374</td><td></td></tr>\n",
       "\t<tr><th scope=row>3</th><td>010006</td><td>ELIZA COFFEE MEMORIAL HOSPITAL  </td><td>205 MARENGO STREET        </td><td>NA</td><td>NA</td><td>FLORENCE    </td><td>AL</td><td>35631</td><td>LAUDERDALE</td><td>2567688400</td><td>⋯</td><td>17.2</td><td>22.9</td><td>614</td><td></td><td>16.9</td><td>No Different than U.S. National Rate</td><td>14.7</td><td>19.5</td><td>842</td><td></td></tr>\n",
       "\t<tr><th scope=row>4</th><td>010007</td><td>MIZELL MEMORIAL HOSPITAL        </td><td>702 N MAIN ST             </td><td>NA</td><td>NA</td><td>OPP         </td><td>AL</td><td>36467</td><td>COVINGTON </td><td>3344933541</td><td>⋯</td><td>22.4</td><td>31.9</td><td>135</td><td></td><td>19.4</td><td>No Different than U.S. National Rate</td><td>15.9</td><td>23.2</td><td>254</td><td></td></tr>\n",
       "\t<tr><th scope=row>5</th><td>010008</td><td>CRENSHAW COMMUNITY HOSPITAL     </td><td>101 HOSPITAL CIRCLE       </td><td>NA</td><td>NA</td><td>LUVERNE     </td><td>AL</td><td>36049</td><td>CRENSHAW  </td><td>3343353374</td><td>⋯</td><td>19.9</td><td>30.2</td><td>59 </td><td></td><td>18.0</td><td>No Different than U.S. National Rate</td><td>14.0</td><td>22.8</td><td>56 </td><td></td></tr>\n",
       "\t<tr><th scope=row>6</th><td>010010</td><td>MARSHALL MEDICAL CENTER NORTH   </td><td>8000 ALABAMA HIGHWAY 69   </td><td>NA</td><td>NA</td><td>GUNTERSVILLE</td><td>AL</td><td>35976</td><td>MARSHALL  </td><td>2565718000</td><td>⋯</td><td>20.1</td><td>28.2</td><td>173</td><td></td><td>18.7</td><td>No Different than U.S. National Rate</td><td>15.7</td><td>22.2</td><td>326</td><td></td></tr>\n",
       "</tbody>\n",
       "</table>\n"
      ],
      "text/latex": [
       "A data.frame: 6 × 46\n",
       "\\begin{tabular}{r|lllllllllllllllllllll}\n",
       "  & Provider.Number & Hospital.Name & Address.1 & Address.2 & Address.3 & City & State & ZIP.Code & County.Name & Phone.Number & ⋯ & Lower.Readmission.Estimate...Hospital.30.Day.Readmission.Rates.from.Heart.Failure & Upper.Readmission.Estimate...Hospital.30.Day.Readmission.Rates.from.Heart.Failure & Number.of.Patients...Hospital.30.Day.Readmission.Rates.from.Heart.Failure & Footnote...Hospital.30.Day.Readmission.Rates.from.Heart.Failure & Hospital.30.Day.Readmission.Rates.from.Pneumonia & Comparison.to.U.S..Rate...Hospital.30.Day.Readmission.Rates.from.Pneumonia & Lower.Readmission.Estimate...Hospital.30.Day.Readmission.Rates.from.Pneumonia & Upper.Readmission.Estimate...Hospital.30.Day.Readmission.Rates.from.Pneumonia & Number.of.Patients...Hospital.30.Day.Readmission.Rates.from.Pneumonia & Footnote...Hospital.30.Day.Readmission.Rates.from.Pneumonia\\\\\n",
       "  & <chr> & <chr> & <chr> & <lgl> & <lgl> & <chr> & <chr> & <int> & <chr> & <dbl> & ⋯ & <chr> & <chr> & <chr> & <chr> & <chr> & <chr> & <chr> & <chr> & <chr> & <chr>\\\\\n",
       "\\hline\n",
       "\t1 & 010001 & SOUTHEAST ALABAMA MEDICAL CENTER & 1108 ROSS CLARK CIRCLE     & NA & NA & DOTHAN       & AL & 36301 & HOUSTON    & 3347938701 & ⋯ & 21.3 & 26.5 & 891 &  & 17.1 & No Different than U.S. National Rate & 14.4 & 20.4 & 400 & \\\\\n",
       "\t2 & 010005 & MARSHALL MEDICAL CENTER SOUTH    & 2505 U S HIGHWAY 431 NORTH & NA & NA & BOAZ         & AL & 35957 & MARSHALL   & 2565938310 & ⋯ & 19.2 & 26.1 & 264 &  & 17.6 & No Different than U.S. National Rate & 15.0 & 20.6 & 374 & \\\\\n",
       "\t3 & 010006 & ELIZA COFFEE MEMORIAL HOSPITAL   & 205 MARENGO STREET         & NA & NA & FLORENCE     & AL & 35631 & LAUDERDALE & 2567688400 & ⋯ & 17.2 & 22.9 & 614 &  & 16.9 & No Different than U.S. National Rate & 14.7 & 19.5 & 842 & \\\\\n",
       "\t4 & 010007 & MIZELL MEMORIAL HOSPITAL         & 702 N MAIN ST              & NA & NA & OPP          & AL & 36467 & COVINGTON  & 3344933541 & ⋯ & 22.4 & 31.9 & 135 &  & 19.4 & No Different than U.S. National Rate & 15.9 & 23.2 & 254 & \\\\\n",
       "\t5 & 010008 & CRENSHAW COMMUNITY HOSPITAL      & 101 HOSPITAL CIRCLE        & NA & NA & LUVERNE      & AL & 36049 & CRENSHAW   & 3343353374 & ⋯ & 19.9 & 30.2 & 59  &  & 18.0 & No Different than U.S. National Rate & 14.0 & 22.8 & 56  & \\\\\n",
       "\t6 & 010010 & MARSHALL MEDICAL CENTER NORTH    & 8000 ALABAMA HIGHWAY 69    & NA & NA & GUNTERSVILLE & AL & 35976 & MARSHALL   & 2565718000 & ⋯ & 20.1 & 28.2 & 173 &  & 18.7 & No Different than U.S. National Rate & 15.7 & 22.2 & 326 & \\\\\n",
       "\\end{tabular}\n"
      ],
      "text/markdown": [
       "\n",
       "A data.frame: 6 × 46\n",
       "\n",
       "| <!--/--> | Provider.Number &lt;chr&gt; | Hospital.Name &lt;chr&gt; | Address.1 &lt;chr&gt; | Address.2 &lt;lgl&gt; | Address.3 &lt;lgl&gt; | City &lt;chr&gt; | State &lt;chr&gt; | ZIP.Code &lt;int&gt; | County.Name &lt;chr&gt; | Phone.Number &lt;dbl&gt; | ⋯ ⋯ | Lower.Readmission.Estimate...Hospital.30.Day.Readmission.Rates.from.Heart.Failure &lt;chr&gt; | Upper.Readmission.Estimate...Hospital.30.Day.Readmission.Rates.from.Heart.Failure &lt;chr&gt; | Number.of.Patients...Hospital.30.Day.Readmission.Rates.from.Heart.Failure &lt;chr&gt; | Footnote...Hospital.30.Day.Readmission.Rates.from.Heart.Failure &lt;chr&gt; | Hospital.30.Day.Readmission.Rates.from.Pneumonia &lt;chr&gt; | Comparison.to.U.S..Rate...Hospital.30.Day.Readmission.Rates.from.Pneumonia &lt;chr&gt; | Lower.Readmission.Estimate...Hospital.30.Day.Readmission.Rates.from.Pneumonia &lt;chr&gt; | Upper.Readmission.Estimate...Hospital.30.Day.Readmission.Rates.from.Pneumonia &lt;chr&gt; | Number.of.Patients...Hospital.30.Day.Readmission.Rates.from.Pneumonia &lt;chr&gt; | Footnote...Hospital.30.Day.Readmission.Rates.from.Pneumonia &lt;chr&gt; |\n",
       "|---|---|---|---|---|---|---|---|---|---|---|---|---|---|---|---|---|---|---|---|---|---|\n",
       "| 1 | 010001 | SOUTHEAST ALABAMA MEDICAL CENTER | 1108 ROSS CLARK CIRCLE     | NA | NA | DOTHAN       | AL | 36301 | HOUSTON    | 3347938701 | ⋯ | 21.3 | 26.5 | 891 | <!----> | 17.1 | No Different than U.S. National Rate | 14.4 | 20.4 | 400 | <!----> |\n",
       "| 2 | 010005 | MARSHALL MEDICAL CENTER SOUTH    | 2505 U S HIGHWAY 431 NORTH | NA | NA | BOAZ         | AL | 35957 | MARSHALL   | 2565938310 | ⋯ | 19.2 | 26.1 | 264 | <!----> | 17.6 | No Different than U.S. National Rate | 15.0 | 20.6 | 374 | <!----> |\n",
       "| 3 | 010006 | ELIZA COFFEE MEMORIAL HOSPITAL   | 205 MARENGO STREET         | NA | NA | FLORENCE     | AL | 35631 | LAUDERDALE | 2567688400 | ⋯ | 17.2 | 22.9 | 614 | <!----> | 16.9 | No Different than U.S. National Rate | 14.7 | 19.5 | 842 | <!----> |\n",
       "| 4 | 010007 | MIZELL MEMORIAL HOSPITAL         | 702 N MAIN ST              | NA | NA | OPP          | AL | 36467 | COVINGTON  | 3344933541 | ⋯ | 22.4 | 31.9 | 135 | <!----> | 19.4 | No Different than U.S. National Rate | 15.9 | 23.2 | 254 | <!----> |\n",
       "| 5 | 010008 | CRENSHAW COMMUNITY HOSPITAL      | 101 HOSPITAL CIRCLE        | NA | NA | LUVERNE      | AL | 36049 | CRENSHAW   | 3343353374 | ⋯ | 19.9 | 30.2 | 59  | <!----> | 18.0 | No Different than U.S. National Rate | 14.0 | 22.8 | 56  | <!----> |\n",
       "| 6 | 010010 | MARSHALL MEDICAL CENTER NORTH    | 8000 ALABAMA HIGHWAY 69    | NA | NA | GUNTERSVILLE | AL | 35976 | MARSHALL   | 2565718000 | ⋯ | 20.1 | 28.2 | 173 | <!----> | 18.7 | No Different than U.S. National Rate | 15.7 | 22.2 | 326 | <!----> |\n",
       "\n"
      ],
      "text/plain": [
       "  Provider.Number Hospital.Name                    Address.1                 \n",
       "1 010001          SOUTHEAST ALABAMA MEDICAL CENTER 1108 ROSS CLARK CIRCLE    \n",
       "2 010005          MARSHALL MEDICAL CENTER SOUTH    2505 U S HIGHWAY 431 NORTH\n",
       "3 010006          ELIZA COFFEE MEMORIAL HOSPITAL   205 MARENGO STREET        \n",
       "4 010007          MIZELL MEMORIAL HOSPITAL         702 N MAIN ST             \n",
       "5 010008          CRENSHAW COMMUNITY HOSPITAL      101 HOSPITAL CIRCLE       \n",
       "6 010010          MARSHALL MEDICAL CENTER NORTH    8000 ALABAMA HIGHWAY 69   \n",
       "  Address.2 Address.3 City         State ZIP.Code County.Name Phone.Number ⋯\n",
       "1 NA        NA        DOTHAN       AL    36301    HOUSTON     3347938701   ⋯\n",
       "2 NA        NA        BOAZ         AL    35957    MARSHALL    2565938310   ⋯\n",
       "3 NA        NA        FLORENCE     AL    35631    LAUDERDALE  2567688400   ⋯\n",
       "4 NA        NA        OPP          AL    36467    COVINGTON   3344933541   ⋯\n",
       "5 NA        NA        LUVERNE      AL    36049    CRENSHAW    3343353374   ⋯\n",
       "6 NA        NA        GUNTERSVILLE AL    35976    MARSHALL    2565718000   ⋯\n",
       "  Lower.Readmission.Estimate...Hospital.30.Day.Readmission.Rates.from.Heart.Failure\n",
       "1 21.3                                                                             \n",
       "2 19.2                                                                             \n",
       "3 17.2                                                                             \n",
       "4 22.4                                                                             \n",
       "5 19.9                                                                             \n",
       "6 20.1                                                                             \n",
       "  Upper.Readmission.Estimate...Hospital.30.Day.Readmission.Rates.from.Heart.Failure\n",
       "1 26.5                                                                             \n",
       "2 26.1                                                                             \n",
       "3 22.9                                                                             \n",
       "4 31.9                                                                             \n",
       "5 30.2                                                                             \n",
       "6 28.2                                                                             \n",
       "  Number.of.Patients...Hospital.30.Day.Readmission.Rates.from.Heart.Failure\n",
       "1 891                                                                      \n",
       "2 264                                                                      \n",
       "3 614                                                                      \n",
       "4 135                                                                      \n",
       "5 59                                                                       \n",
       "6 173                                                                      \n",
       "  Footnote...Hospital.30.Day.Readmission.Rates.from.Heart.Failure\n",
       "1                                                                \n",
       "2                                                                \n",
       "3                                                                \n",
       "4                                                                \n",
       "5                                                                \n",
       "6                                                                \n",
       "  Hospital.30.Day.Readmission.Rates.from.Pneumonia\n",
       "1 17.1                                            \n",
       "2 17.6                                            \n",
       "3 16.9                                            \n",
       "4 19.4                                            \n",
       "5 18.0                                            \n",
       "6 18.7                                            \n",
       "  Comparison.to.U.S..Rate...Hospital.30.Day.Readmission.Rates.from.Pneumonia\n",
       "1 No Different than U.S. National Rate                                      \n",
       "2 No Different than U.S. National Rate                                      \n",
       "3 No Different than U.S. National Rate                                      \n",
       "4 No Different than U.S. National Rate                                      \n",
       "5 No Different than U.S. National Rate                                      \n",
       "6 No Different than U.S. National Rate                                      \n",
       "  Lower.Readmission.Estimate...Hospital.30.Day.Readmission.Rates.from.Pneumonia\n",
       "1 14.4                                                                         \n",
       "2 15.0                                                                         \n",
       "3 14.7                                                                         \n",
       "4 15.9                                                                         \n",
       "5 14.0                                                                         \n",
       "6 15.7                                                                         \n",
       "  Upper.Readmission.Estimate...Hospital.30.Day.Readmission.Rates.from.Pneumonia\n",
       "1 20.4                                                                         \n",
       "2 20.6                                                                         \n",
       "3 19.5                                                                         \n",
       "4 23.2                                                                         \n",
       "5 22.8                                                                         \n",
       "6 22.2                                                                         \n",
       "  Number.of.Patients...Hospital.30.Day.Readmission.Rates.from.Pneumonia\n",
       "1 400                                                                  \n",
       "2 374                                                                  \n",
       "3 842                                                                  \n",
       "4 254                                                                  \n",
       "5 56                                                                   \n",
       "6 326                                                                  \n",
       "  Footnote...Hospital.30.Day.Readmission.Rates.from.Pneumonia\n",
       "1                                                            \n",
       "2                                                            \n",
       "3                                                            \n",
       "4                                                            \n",
       "5                                                            \n",
       "6                                                            "
      ]
     },
     "metadata": {},
     "output_type": "display_data"
    }
   ],
   "source": [
    "temp <- read.csv(\"rprog_data_ProgAssignment3-data/outcome-of-care-measures.csv\")\n",
    "head(temp)"
   ]
  },
  {
   "cell_type": "code",
   "execution_count": 56,
   "metadata": {},
   "outputs": [
    {
     "data": {
      "text/html": [
       "<table>\n",
       "<caption>A data.frame: 4706 × 2</caption>\n",
       "<thead>\n",
       "\t<tr><th scope=col>Hospital.Name</th><th scope=col>State</th></tr>\n",
       "\t<tr><th scope=col>&lt;chr&gt;</th><th scope=col>&lt;chr&gt;</th></tr>\n",
       "</thead>\n",
       "<tbody>\n",
       "\t<tr><td>SOUTHEAST ALABAMA MEDICAL CENTER   </td><td>AL</td></tr>\n",
       "\t<tr><td>MARSHALL MEDICAL CENTER SOUTH      </td><td>AL</td></tr>\n",
       "\t<tr><td>ELIZA COFFEE MEMORIAL HOSPITAL     </td><td>AL</td></tr>\n",
       "\t<tr><td>MIZELL MEMORIAL HOSPITAL           </td><td>AL</td></tr>\n",
       "\t<tr><td>CRENSHAW COMMUNITY HOSPITAL        </td><td>AL</td></tr>\n",
       "\t<tr><td>MARSHALL MEDICAL CENTER NORTH      </td><td>AL</td></tr>\n",
       "\t<tr><td>ST VINCENT'S EAST                  </td><td>AL</td></tr>\n",
       "\t<tr><td>DEKALB REGIONAL MEDICAL CENTER     </td><td>AL</td></tr>\n",
       "\t<tr><td>SHELBY BAPTIST MEDICAL CENTER      </td><td>AL</td></tr>\n",
       "\t<tr><td>CALLAHAN EYE FOUNDATION HOSPITAL   </td><td>AL</td></tr>\n",
       "\t<tr><td>HELEN KELLER MEMORIAL HOSPITAL     </td><td>AL</td></tr>\n",
       "\t<tr><td>DALE MEDICAL CENTER                </td><td>AL</td></tr>\n",
       "\t<tr><td>CHEROKEE MEDICAL CENTER            </td><td>AL</td></tr>\n",
       "\t<tr><td>BAPTIST MEDICAL CENTER SOUTH       </td><td>AL</td></tr>\n",
       "\t<tr><td><span style=white-space:pre-wrap>JACKSON HOSPITAL &amp; CLINIC INC      </span></td><td>AL</td></tr>\n",
       "\t<tr><td>GEORGE H. LANIER MEMORIAL HOSPITAL </td><td>AL</td></tr>\n",
       "\t<tr><td>ELBA GENERAL HOSPITAL              </td><td>AL</td></tr>\n",
       "\t<tr><td>EAST ALABAMA MEDICAL CENTER AND SNF</td><td>AL</td></tr>\n",
       "\t<tr><td>WEDOWEE HOSPITAL                   </td><td>AL</td></tr>\n",
       "\t<tr><td>UNIVERSITY OF ALABAMA HOSPITAL     </td><td>AL</td></tr>\n",
       "\t<tr><td>COMMUNITY HOSPITAL INC             </td><td>AL</td></tr>\n",
       "\t<tr><td>CULLMAN REGIONAL MEDICAL CENTER    </td><td>AL</td></tr>\n",
       "\t<tr><td>ANDALUSIA REGIONAL HOSPITAL        </td><td>AL</td></tr>\n",
       "\t<tr><td>STRINGFELLOW MEMORIAL HOSPITAL     </td><td>AL</td></tr>\n",
       "\t<tr><td>HUNTSVILLE HOSPITAL                </td><td>AL</td></tr>\n",
       "\t<tr><td>GADSDEN REGIONAL MEDICAL CENTER    </td><td>AL</td></tr>\n",
       "\t<tr><td>CHILTON MEDICAL CENTER             </td><td>AL</td></tr>\n",
       "\t<tr><td>MARION REGIONAL MEDICAL CENTER     </td><td>AL</td></tr>\n",
       "\t<tr><td>FAYETTE MEDICAL CENTER             </td><td>AL</td></tr>\n",
       "\t<tr><td>RIVERVIEW REGIONAL MEDICAL CENTER  </td><td>AL</td></tr>\n",
       "\t<tr><td>⋮</td><td>⋮</td></tr>\n",
       "\t<tr><td><span style=white-space:pre-wrap>SCOTT &amp; WHITE HOSPITAL-ROUND ROCK                </span></td><td>TX</td></tr>\n",
       "\t<tr><td>SETON MEDICAL CENTER WILLIAMSON                  </td><td>TX</td></tr>\n",
       "\t<tr><td>CEDAR PARK REGIONAL MEDICAL CENTER               </td><td>TX</td></tr>\n",
       "\t<tr><td>TEXAS HEALTH PRESBYTERIAN HOSPITAL ROCKWALL      </td><td>TX</td></tr>\n",
       "\t<tr><td>USMD HOSPITAL  AT FORT WORTH LP                  </td><td>TX</td></tr>\n",
       "\t<tr><td>SIERRA PROVIDENCE EAST MEDICAL CENTER            </td><td>TX</td></tr>\n",
       "\t<tr><td>NORTH CENTRAL SURGICAL CENTER LLP                </td><td>TX</td></tr>\n",
       "\t<tr><td>TRUSTPOINT HOSPITAL                              </td><td>TX</td></tr>\n",
       "\t<tr><td>DOCTORS HOSPITAL                                 </td><td>TX</td></tr>\n",
       "\t<tr><td>ST LUKE'S SUGAR LAND HOSPITAL                    </td><td>TX</td></tr>\n",
       "\t<tr><td>FOUNDATION SURGICAL HOSPITAL OF SAN ANTONIO      </td><td>TX</td></tr>\n",
       "\t<tr><td>METHODIST STONE OAK HOSPITAL                     </td><td>TX</td></tr>\n",
       "\t<tr><td>SETON MEDICAL CENTER HAYS                        </td><td>TX</td></tr>\n",
       "\t<tr><td>FOREST PARK MEDICAL CENTER                       </td><td>TX</td></tr>\n",
       "\t<tr><td>EMERUS HOSPITAL                                  </td><td>TX</td></tr>\n",
       "\t<tr><td>ST LUKES LAKESIDE HOSPITAL                       </td><td>TX</td></tr>\n",
       "\t<tr><td>TEXAS REGIONAL MEDICAL CENTER AT SUNNYVALE       </td><td>TX</td></tr>\n",
       "\t<tr><td>SOUTH TEXAS SURGICAL HOSPITAL                    </td><td>TX</td></tr>\n",
       "\t<tr><td>THE HOSPITAL AT CRAIG RANCH                      </td><td>TX</td></tr>\n",
       "\t<tr><td>ALLEGIANCE  HOSPTIAL OF MIDLAND-PERMIAN BASIN    </td><td>TX</td></tr>\n",
       "\t<tr><td>BASIN HEALTHCARE CENTER, LLC                     </td><td>TX</td></tr>\n",
       "\t<tr><td>BAYLOR ORTHOPEDIC AND SPINE HOSPITAL AT ARLINGTON</td><td>TX</td></tr>\n",
       "\t<tr><td>TEXAS HEALTH PRESBYTERIAN HOSPITAL FLOWER MOUND  </td><td>TX</td></tr>\n",
       "\t<tr><td>METHODIST MCKINNEY HOSPITAL                      </td><td>TX</td></tr>\n",
       "\t<tr><td>TEXAS HEALTH HEART &amp; VASCULAR HOSPITAL ARLINGTON </td><td>TX</td></tr>\n",
       "\t<tr><td>WESTBURY COMMUNITY HOSPITAL, LLC                 </td><td>TX</td></tr>\n",
       "\t<tr><td>METHODIST HOSPITAL FOR SURGERY                   </td><td>TX</td></tr>\n",
       "\t<tr><td>ST LUKE'S HOSPITAL AT THE VINTAGE, LLC           </td><td>TX</td></tr>\n",
       "\t<tr><td>HERITAGE PARK SURGICAL HOSPITAL                  </td><td>TX</td></tr>\n",
       "\t<tr><td>METHODIST WEST HOUSTON HOSPITAL                  </td><td>TX</td></tr>\n",
       "</tbody>\n",
       "</table>\n"
      ],
      "text/latex": [
       "A data.frame: 4706 × 2\n",
       "\\begin{tabular}{ll}\n",
       " Hospital.Name & State\\\\\n",
       " <chr> & <chr>\\\\\n",
       "\\hline\n",
       "\t SOUTHEAST ALABAMA MEDICAL CENTER    & AL\\\\\n",
       "\t MARSHALL MEDICAL CENTER SOUTH       & AL\\\\\n",
       "\t ELIZA COFFEE MEMORIAL HOSPITAL      & AL\\\\\n",
       "\t MIZELL MEMORIAL HOSPITAL            & AL\\\\\n",
       "\t CRENSHAW COMMUNITY HOSPITAL         & AL\\\\\n",
       "\t MARSHALL MEDICAL CENTER NORTH       & AL\\\\\n",
       "\t ST VINCENT'S EAST                   & AL\\\\\n",
       "\t DEKALB REGIONAL MEDICAL CENTER      & AL\\\\\n",
       "\t SHELBY BAPTIST MEDICAL CENTER       & AL\\\\\n",
       "\t CALLAHAN EYE FOUNDATION HOSPITAL    & AL\\\\\n",
       "\t HELEN KELLER MEMORIAL HOSPITAL      & AL\\\\\n",
       "\t DALE MEDICAL CENTER                 & AL\\\\\n",
       "\t CHEROKEE MEDICAL CENTER             & AL\\\\\n",
       "\t BAPTIST MEDICAL CENTER SOUTH        & AL\\\\\n",
       "\t JACKSON HOSPITAL \\& CLINIC INC       & AL\\\\\n",
       "\t GEORGE H. LANIER MEMORIAL HOSPITAL  & AL\\\\\n",
       "\t ELBA GENERAL HOSPITAL               & AL\\\\\n",
       "\t EAST ALABAMA MEDICAL CENTER AND SNF & AL\\\\\n",
       "\t WEDOWEE HOSPITAL                    & AL\\\\\n",
       "\t UNIVERSITY OF ALABAMA HOSPITAL      & AL\\\\\n",
       "\t COMMUNITY HOSPITAL INC              & AL\\\\\n",
       "\t CULLMAN REGIONAL MEDICAL CENTER     & AL\\\\\n",
       "\t ANDALUSIA REGIONAL HOSPITAL         & AL\\\\\n",
       "\t STRINGFELLOW MEMORIAL HOSPITAL      & AL\\\\\n",
       "\t HUNTSVILLE HOSPITAL                 & AL\\\\\n",
       "\t GADSDEN REGIONAL MEDICAL CENTER     & AL\\\\\n",
       "\t CHILTON MEDICAL CENTER              & AL\\\\\n",
       "\t MARION REGIONAL MEDICAL CENTER      & AL\\\\\n",
       "\t FAYETTE MEDICAL CENTER              & AL\\\\\n",
       "\t RIVERVIEW REGIONAL MEDICAL CENTER   & AL\\\\\n",
       "\t ⋮ & ⋮\\\\\n",
       "\t SCOTT \\& WHITE HOSPITAL-ROUND ROCK                 & TX\\\\\n",
       "\t SETON MEDICAL CENTER WILLIAMSON                   & TX\\\\\n",
       "\t CEDAR PARK REGIONAL MEDICAL CENTER                & TX\\\\\n",
       "\t TEXAS HEALTH PRESBYTERIAN HOSPITAL ROCKWALL       & TX\\\\\n",
       "\t USMD HOSPITAL  AT FORT WORTH LP                   & TX\\\\\n",
       "\t SIERRA PROVIDENCE EAST MEDICAL CENTER             & TX\\\\\n",
       "\t NORTH CENTRAL SURGICAL CENTER LLP                 & TX\\\\\n",
       "\t TRUSTPOINT HOSPITAL                               & TX\\\\\n",
       "\t DOCTORS HOSPITAL                                  & TX\\\\\n",
       "\t ST LUKE'S SUGAR LAND HOSPITAL                     & TX\\\\\n",
       "\t FOUNDATION SURGICAL HOSPITAL OF SAN ANTONIO       & TX\\\\\n",
       "\t METHODIST STONE OAK HOSPITAL                      & TX\\\\\n",
       "\t SETON MEDICAL CENTER HAYS                         & TX\\\\\n",
       "\t FOREST PARK MEDICAL CENTER                        & TX\\\\\n",
       "\t EMERUS HOSPITAL                                   & TX\\\\\n",
       "\t ST LUKES LAKESIDE HOSPITAL                        & TX\\\\\n",
       "\t TEXAS REGIONAL MEDICAL CENTER AT SUNNYVALE        & TX\\\\\n",
       "\t SOUTH TEXAS SURGICAL HOSPITAL                     & TX\\\\\n",
       "\t THE HOSPITAL AT CRAIG RANCH                       & TX\\\\\n",
       "\t ALLEGIANCE  HOSPTIAL OF MIDLAND-PERMIAN BASIN     & TX\\\\\n",
       "\t BASIN HEALTHCARE CENTER, LLC                      & TX\\\\\n",
       "\t BAYLOR ORTHOPEDIC AND SPINE HOSPITAL AT ARLINGTON & TX\\\\\n",
       "\t TEXAS HEALTH PRESBYTERIAN HOSPITAL FLOWER MOUND   & TX\\\\\n",
       "\t METHODIST MCKINNEY HOSPITAL                       & TX\\\\\n",
       "\t TEXAS HEALTH HEART \\& VASCULAR HOSPITAL ARLINGTON  & TX\\\\\n",
       "\t WESTBURY COMMUNITY HOSPITAL, LLC                  & TX\\\\\n",
       "\t METHODIST HOSPITAL FOR SURGERY                    & TX\\\\\n",
       "\t ST LUKE'S HOSPITAL AT THE VINTAGE, LLC            & TX\\\\\n",
       "\t HERITAGE PARK SURGICAL HOSPITAL                   & TX\\\\\n",
       "\t METHODIST WEST HOUSTON HOSPITAL                   & TX\\\\\n",
       "\\end{tabular}\n"
      ],
      "text/markdown": [
       "\n",
       "A data.frame: 4706 × 2\n",
       "\n",
       "| Hospital.Name &lt;chr&gt; | State &lt;chr&gt; |\n",
       "|---|---|\n",
       "| SOUTHEAST ALABAMA MEDICAL CENTER    | AL |\n",
       "| MARSHALL MEDICAL CENTER SOUTH       | AL |\n",
       "| ELIZA COFFEE MEMORIAL HOSPITAL      | AL |\n",
       "| MIZELL MEMORIAL HOSPITAL            | AL |\n",
       "| CRENSHAW COMMUNITY HOSPITAL         | AL |\n",
       "| MARSHALL MEDICAL CENTER NORTH       | AL |\n",
       "| ST VINCENT'S EAST                   | AL |\n",
       "| DEKALB REGIONAL MEDICAL CENTER      | AL |\n",
       "| SHELBY BAPTIST MEDICAL CENTER       | AL |\n",
       "| CALLAHAN EYE FOUNDATION HOSPITAL    | AL |\n",
       "| HELEN KELLER MEMORIAL HOSPITAL      | AL |\n",
       "| DALE MEDICAL CENTER                 | AL |\n",
       "| CHEROKEE MEDICAL CENTER             | AL |\n",
       "| BAPTIST MEDICAL CENTER SOUTH        | AL |\n",
       "| JACKSON HOSPITAL &amp; CLINIC INC       | AL |\n",
       "| GEORGE H. LANIER MEMORIAL HOSPITAL  | AL |\n",
       "| ELBA GENERAL HOSPITAL               | AL |\n",
       "| EAST ALABAMA MEDICAL CENTER AND SNF | AL |\n",
       "| WEDOWEE HOSPITAL                    | AL |\n",
       "| UNIVERSITY OF ALABAMA HOSPITAL      | AL |\n",
       "| COMMUNITY HOSPITAL INC              | AL |\n",
       "| CULLMAN REGIONAL MEDICAL CENTER     | AL |\n",
       "| ANDALUSIA REGIONAL HOSPITAL         | AL |\n",
       "| STRINGFELLOW MEMORIAL HOSPITAL      | AL |\n",
       "| HUNTSVILLE HOSPITAL                 | AL |\n",
       "| GADSDEN REGIONAL MEDICAL CENTER     | AL |\n",
       "| CHILTON MEDICAL CENTER              | AL |\n",
       "| MARION REGIONAL MEDICAL CENTER      | AL |\n",
       "| FAYETTE MEDICAL CENTER              | AL |\n",
       "| RIVERVIEW REGIONAL MEDICAL CENTER   | AL |\n",
       "| ⋮ | ⋮ |\n",
       "| SCOTT &amp; WHITE HOSPITAL-ROUND ROCK                 | TX |\n",
       "| SETON MEDICAL CENTER WILLIAMSON                   | TX |\n",
       "| CEDAR PARK REGIONAL MEDICAL CENTER                | TX |\n",
       "| TEXAS HEALTH PRESBYTERIAN HOSPITAL ROCKWALL       | TX |\n",
       "| USMD HOSPITAL  AT FORT WORTH LP                   | TX |\n",
       "| SIERRA PROVIDENCE EAST MEDICAL CENTER             | TX |\n",
       "| NORTH CENTRAL SURGICAL CENTER LLP                 | TX |\n",
       "| TRUSTPOINT HOSPITAL                               | TX |\n",
       "| DOCTORS HOSPITAL                                  | TX |\n",
       "| ST LUKE'S SUGAR LAND HOSPITAL                     | TX |\n",
       "| FOUNDATION SURGICAL HOSPITAL OF SAN ANTONIO       | TX |\n",
       "| METHODIST STONE OAK HOSPITAL                      | TX |\n",
       "| SETON MEDICAL CENTER HAYS                         | TX |\n",
       "| FOREST PARK MEDICAL CENTER                        | TX |\n",
       "| EMERUS HOSPITAL                                   | TX |\n",
       "| ST LUKES LAKESIDE HOSPITAL                        | TX |\n",
       "| TEXAS REGIONAL MEDICAL CENTER AT SUNNYVALE        | TX |\n",
       "| SOUTH TEXAS SURGICAL HOSPITAL                     | TX |\n",
       "| THE HOSPITAL AT CRAIG RANCH                       | TX |\n",
       "| ALLEGIANCE  HOSPTIAL OF MIDLAND-PERMIAN BASIN     | TX |\n",
       "| BASIN HEALTHCARE CENTER, LLC                      | TX |\n",
       "| BAYLOR ORTHOPEDIC AND SPINE HOSPITAL AT ARLINGTON | TX |\n",
       "| TEXAS HEALTH PRESBYTERIAN HOSPITAL FLOWER MOUND   | TX |\n",
       "| METHODIST MCKINNEY HOSPITAL                       | TX |\n",
       "| TEXAS HEALTH HEART &amp; VASCULAR HOSPITAL ARLINGTON  | TX |\n",
       "| WESTBURY COMMUNITY HOSPITAL, LLC                  | TX |\n",
       "| METHODIST HOSPITAL FOR SURGERY                    | TX |\n",
       "| ST LUKE'S HOSPITAL AT THE VINTAGE, LLC            | TX |\n",
       "| HERITAGE PARK SURGICAL HOSPITAL                   | TX |\n",
       "| METHODIST WEST HOUSTON HOSPITAL                   | TX |\n",
       "\n"
      ],
      "text/plain": [
       "     Hospital.Name                                     State\n",
       "1    SOUTHEAST ALABAMA MEDICAL CENTER                  AL   \n",
       "2    MARSHALL MEDICAL CENTER SOUTH                     AL   \n",
       "3    ELIZA COFFEE MEMORIAL HOSPITAL                    AL   \n",
       "4    MIZELL MEMORIAL HOSPITAL                          AL   \n",
       "5    CRENSHAW COMMUNITY HOSPITAL                       AL   \n",
       "6    MARSHALL MEDICAL CENTER NORTH                     AL   \n",
       "7    ST VINCENT'S EAST                                 AL   \n",
       "8    DEKALB REGIONAL MEDICAL CENTER                    AL   \n",
       "9    SHELBY BAPTIST MEDICAL CENTER                     AL   \n",
       "10   CALLAHAN EYE FOUNDATION HOSPITAL                  AL   \n",
       "11   HELEN KELLER MEMORIAL HOSPITAL                    AL   \n",
       "12   DALE MEDICAL CENTER                               AL   \n",
       "13   CHEROKEE MEDICAL CENTER                           AL   \n",
       "14   BAPTIST MEDICAL CENTER SOUTH                      AL   \n",
       "15   JACKSON HOSPITAL & CLINIC INC                     AL   \n",
       "16   GEORGE H. LANIER MEMORIAL HOSPITAL                AL   \n",
       "17   ELBA GENERAL HOSPITAL                             AL   \n",
       "18   EAST ALABAMA MEDICAL CENTER AND SNF               AL   \n",
       "19   WEDOWEE HOSPITAL                                  AL   \n",
       "20   UNIVERSITY OF ALABAMA HOSPITAL                    AL   \n",
       "21   COMMUNITY HOSPITAL INC                            AL   \n",
       "22   CULLMAN REGIONAL MEDICAL CENTER                   AL   \n",
       "23   ANDALUSIA REGIONAL HOSPITAL                       AL   \n",
       "24   STRINGFELLOW MEMORIAL HOSPITAL                    AL   \n",
       "25   HUNTSVILLE HOSPITAL                               AL   \n",
       "26   GADSDEN REGIONAL MEDICAL CENTER                   AL   \n",
       "27   CHILTON MEDICAL CENTER                            AL   \n",
       "28   MARION REGIONAL MEDICAL CENTER                    AL   \n",
       "29   FAYETTE MEDICAL CENTER                            AL   \n",
       "30   RIVERVIEW REGIONAL MEDICAL CENTER                 AL   \n",
       "⋮    ⋮                                                 ⋮    \n",
       "4677 SCOTT & WHITE HOSPITAL-ROUND ROCK                 TX   \n",
       "4678 SETON MEDICAL CENTER WILLIAMSON                   TX   \n",
       "4679 CEDAR PARK REGIONAL MEDICAL CENTER                TX   \n",
       "4680 TEXAS HEALTH PRESBYTERIAN HOSPITAL ROCKWALL       TX   \n",
       "4681 USMD HOSPITAL  AT FORT WORTH LP                   TX   \n",
       "4682 SIERRA PROVIDENCE EAST MEDICAL CENTER             TX   \n",
       "4683 NORTH CENTRAL SURGICAL CENTER LLP                 TX   \n",
       "4684 TRUSTPOINT HOSPITAL                               TX   \n",
       "4685 DOCTORS HOSPITAL                                  TX   \n",
       "4686 ST LUKE'S SUGAR LAND HOSPITAL                     TX   \n",
       "4687 FOUNDATION SURGICAL HOSPITAL OF SAN ANTONIO       TX   \n",
       "4688 METHODIST STONE OAK HOSPITAL                      TX   \n",
       "4689 SETON MEDICAL CENTER HAYS                         TX   \n",
       "4690 FOREST PARK MEDICAL CENTER                        TX   \n",
       "4691 EMERUS HOSPITAL                                   TX   \n",
       "4692 ST LUKES LAKESIDE HOSPITAL                        TX   \n",
       "4693 TEXAS REGIONAL MEDICAL CENTER AT SUNNYVALE        TX   \n",
       "4694 SOUTH TEXAS SURGICAL HOSPITAL                     TX   \n",
       "4695 THE HOSPITAL AT CRAIG RANCH                       TX   \n",
       "4696 ALLEGIANCE  HOSPTIAL OF MIDLAND-PERMIAN BASIN     TX   \n",
       "4697 BASIN HEALTHCARE CENTER, LLC                      TX   \n",
       "4698 BAYLOR ORTHOPEDIC AND SPINE HOSPITAL AT ARLINGTON TX   \n",
       "4699 TEXAS HEALTH PRESBYTERIAN HOSPITAL FLOWER MOUND   TX   \n",
       "4700 METHODIST MCKINNEY HOSPITAL                       TX   \n",
       "4701 TEXAS HEALTH HEART & VASCULAR HOSPITAL ARLINGTON  TX   \n",
       "4702 WESTBURY COMMUNITY HOSPITAL, LLC                  TX   \n",
       "4703 METHODIST HOSPITAL FOR SURGERY                    TX   \n",
       "4704 ST LUKE'S HOSPITAL AT THE VINTAGE, LLC            TX   \n",
       "4705 HERITAGE PARK SURGICAL HOSPITAL                   TX   \n",
       "4706 METHODIST WEST HOUSTON HOSPITAL                   TX   "
      ]
     },
     "metadata": {},
     "output_type": "display_data"
    }
   ],
   "source": [
    "#temp[,c('Hospital.Name','State')]"
   ]
  },
  {
   "cell_type": "code",
   "execution_count": 50,
   "metadata": {},
   "outputs": [
    {
     "data": {
      "text/html": [
       "4706"
      ],
      "text/latex": [
       "4706"
      ],
      "text/markdown": [
       "4706"
      ],
      "text/plain": [
       "[1] 4706"
      ]
     },
     "metadata": {},
     "output_type": "display_data"
    }
   ],
   "source": [
    "nrow(best)"
   ]
  },
  {
   "cell_type": "code",
   "execution_count": 94,
   "metadata": {},
   "outputs": [],
   "source": [
    "# best.R\n",
    "best <- function(state, outcome) {\n",
    "  \n",
    "  # Read outcome data\n",
    "  out_dt <- data.table::fread('rprog_data_ProgAssignment3-data/outcome-of-care-measures.csv')\n",
    "  \n",
    "  outcome <- tolower(outcome)\n",
    "  \n",
    "  # Column name is same as variable so changing it \n",
    "  chosen_state <- state \n",
    "\n",
    "  # Check that state and outcome are valid\n",
    "  if (!chosen_state %in% unique(out_dt[[\"State\"]])) {\n",
    "    stop('invalid state')\n",
    "  }\n",
    "  \n",
    "  if (!outcome %in% c(\"heart attack\", \"heart failure\", \"pneumonia\")) {\n",
    "    stop('invalid outcome')\n",
    "  }\n",
    "  \n",
    "  # Renaming Columns to be less verbose and lowercase\n",
    "  setnames(out_dt\n",
    "           , tolower(sapply(colnames(out_dt), gsub, pattern = \"^Hospital 30-Day Death \\\\(Mortality\\\\) Rates from \", replacement = \"\" ))\n",
    "  )\n",
    "  \n",
    "  #Filter by state\n",
    "  out_dt <- out_dt[state == chosen_state]\n",
    "  \n",
    "  # Columns indices to keep\n",
    "  col_indices <- grep(paste0(\"hospital name|state|^\",outcome), colnames(out_dt))\n",
    "  \n",
    "  # Filtering out unnessecary data \n",
    "  out_dt <- out_dt[, .SD ,.SDcols = col_indices]\n",
    "  \n",
    "  # Find out what class each column is \n",
    "  # sapply(out_dt,class)\n",
    "  out_dt[, outcome] <- out_dt[,  as.numeric(get(outcome))]\n",
    "  \n",
    "  \n",
    "  # Removing Missing Values for numerical datatype (outcome column)\n",
    "  out_dt <- out_dt[complete.cases(out_dt),]\n",
    "  \n",
    "  # Order Column to Top \n",
    "  out_dt <- out_dt[order(get(outcome), `hospital name`)]\n",
    "  \n",
    "  return(out_dt[, \"hospital name\"][1])\n",
    "\n",
    "}"
   ]
  },
  {
   "cell_type": "code",
   "execution_count": 95,
   "metadata": {},
   "outputs": [
    {
     "name": "stderr",
     "output_type": "stream",
     "text": [
      "Warning message in eval(jsub, SDenv, parent.frame()):\n",
      "“NAs introduced by coercion”\n"
     ]
    },
    {
     "data": {
      "text/html": [
       "<table>\n",
       "<caption>A data.table: 1 × 1</caption>\n",
       "<thead>\n",
       "\t<tr><th scope=col>hospital name</th></tr>\n",
       "\t<tr><th scope=col>&lt;chr&gt;</th></tr>\n",
       "</thead>\n",
       "<tbody>\n",
       "\t<tr><td>CYPRESS FAIRBANKS MEDICAL CENTER</td></tr>\n",
       "</tbody>\n",
       "</table>\n"
      ],
      "text/latex": [
       "A data.table: 1 × 1\n",
       "\\begin{tabular}{l}\n",
       " hospital name\\\\\n",
       " <chr>\\\\\n",
       "\\hline\n",
       "\t CYPRESS FAIRBANKS MEDICAL CENTER\\\\\n",
       "\\end{tabular}\n"
      ],
      "text/markdown": [
       "\n",
       "A data.table: 1 × 1\n",
       "\n",
       "| hospital name &lt;chr&gt; |\n",
       "|---|\n",
       "| CYPRESS FAIRBANKS MEDICAL CENTER |\n",
       "\n"
      ],
      "text/plain": [
       "  hospital name                   \n",
       "1 CYPRESS FAIRBANKS MEDICAL CENTER"
      ]
     },
     "metadata": {},
     "output_type": "display_data"
    }
   ],
   "source": [
    "best(\"TX\", \"heart attack\")"
   ]
  },
  {
   "cell_type": "code",
   "execution_count": 96,
   "metadata": {},
   "outputs": [
    {
     "name": "stderr",
     "output_type": "stream",
     "text": [
      "Warning message in eval(jsub, SDenv, parent.frame()):\n",
      "“NAs introduced by coercion”\n"
     ]
    },
    {
     "data": {
      "text/html": [
       "<table>\n",
       "<caption>A data.table: 1 × 1</caption>\n",
       "<thead>\n",
       "\t<tr><th scope=col>hospital name</th></tr>\n",
       "\t<tr><th scope=col>&lt;chr&gt;</th></tr>\n",
       "</thead>\n",
       "<tbody>\n",
       "\t<tr><td>JOHNS HOPKINS HOSPITAL, THE</td></tr>\n",
       "</tbody>\n",
       "</table>\n"
      ],
      "text/latex": [
       "A data.table: 1 × 1\n",
       "\\begin{tabular}{l}\n",
       " hospital name\\\\\n",
       " <chr>\\\\\n",
       "\\hline\n",
       "\t JOHNS HOPKINS HOSPITAL, THE\\\\\n",
       "\\end{tabular}\n"
      ],
      "text/markdown": [
       "\n",
       "A data.table: 1 × 1\n",
       "\n",
       "| hospital name &lt;chr&gt; |\n",
       "|---|\n",
       "| JOHNS HOPKINS HOSPITAL, THE |\n",
       "\n"
      ],
      "text/plain": [
       "  hospital name              \n",
       "1 JOHNS HOPKINS HOSPITAL, THE"
      ]
     },
     "metadata": {},
     "output_type": "display_data"
    }
   ],
   "source": [
    " best(\"MD\", \"heart attack\")"
   ]
  },
  {
   "cell_type": "code",
   "execution_count": 97,
   "metadata": {},
   "outputs": [
    {
     "ename": "ERROR",
     "evalue": "Error in best(\"NY\", \"hert attack\"): invalid outcome\n",
     "output_type": "error",
     "traceback": [
      "Error in best(\"NY\", \"hert attack\"): invalid outcome\nTraceback:\n",
      "1. best(\"NY\", \"hert attack\")",
      "2. stop(\"invalid outcome\")   # at line 17 of file <text>"
     ]
    }
   ],
   "source": [
    "best(\"NY\", \"hert attack\")"
   ]
  },
  {
   "cell_type": "code",
   "execution_count": 98,
   "metadata": {},
   "outputs": [
    {
     "ename": "ERROR",
     "evalue": "Error in best(\"BB\", \"heart attack\"): invalid state\n",
     "output_type": "error",
     "traceback": [
      "Error in best(\"BB\", \"heart attack\"): invalid state\nTraceback:\n",
      "1. best(\"BB\", \"heart attack\")",
      "2. stop(\"invalid state\")   # at line 13 of file <text>"
     ]
    }
   ],
   "source": [
    "best(\"BB\", \"heart attack\")"
   ]
  },
  {
   "cell_type": "code",
   "execution_count": 66,
   "metadata": {},
   "outputs": [
    {
     "data": {
      "text/html": [
       "<style>\n",
       ".list-inline {list-style: none; margin:0; padding: 0}\n",
       ".list-inline>li {display: inline-block}\n",
       ".list-inline>li:not(:last-child)::after {content: \"\\00b7\"; padding: 0 .5ex}\n",
       "</style>\n",
       "<ol class=list-inline><li>3</li><li>9</li><li>18</li><li>21</li><li>56</li></ol>\n"
      ],
      "text/latex": [
       "\\begin{enumerate*}\n",
       "\\item 3\n",
       "\\item 9\n",
       "\\item 18\n",
       "\\item 21\n",
       "\\item 56\n",
       "\\end{enumerate*}\n"
      ],
      "text/markdown": [
       "1. 3\n",
       "2. 9\n",
       "3. 18\n",
       "4. 21\n",
       "5. 56\n",
       "\n",
       "\n"
      ],
      "text/plain": [
       "[1]  3  9 18 21 56"
      ]
     },
     "metadata": {},
     "output_type": "display_data"
    }
   ],
   "source": [
    "x <- c(21,56,18,9,3)\n",
    "sort(x, decreasing = FALSE)"
   ]
  },
  {
   "cell_type": "code",
   "execution_count": 75,
   "metadata": {},
   "outputs": [
    {
     "data": {
      "text/html": [
       "No documentation for ‘setname’ in specified packages and libraries:\n",
       "you could try ‘??setname’"
      ],
      "text/latex": [
       "No documentation for ‘setname’ in specified packages and libraries:\n",
       "you could try ‘??setname’"
      ],
      "text/plain": [
       "No documentation for ‘setname’ in specified packages and libraries:\n",
       "you could try ‘??setname’"
      ]
     },
     "metadata": {},
     "output_type": "display_data"
    }
   ],
   "source": [
    "?setname"
   ]
  },
  {
   "cell_type": "code",
   "execution_count": 99,
   "metadata": {},
   "outputs": [],
   "source": [
    "## Write a function called best that take two arguments: the 2-character abbreviated name of a state and an\n",
    "## outcome name. \n",
    "## The function reads the outcome-of-care-measures.csv file and returns a character vector\n",
    "## with the name of the hospital that has the best (i.e. lowest) 30-day mortality for the specified outcome\n",
    "## in that state. The hospital name is the name provided in the Hospital.Name variable. The outcomes can\n",
    "## be one of “heart attack”, “heart failure”, or “pneumonia”. Hospitals that do not have data on a particular\n",
    "## outcome should be excluded from the set of hospitals when deciding the rankings.\n",
    "## Handling ties. If there is a tie for the best hospital for a given outcome, then the hospital names should\n",
    "## be sorted in alphabetical order and the first hospital in that set should be chosen (i.e. if hospitals “b”, “c”,\n",
    "## and “f” are tied for best, then hospital “b” should be returned).\n",
    "## The function should use the following template.\n",
    "\n",
    "\n",
    "best <- function(state, outcome) {\n",
    "\t\n",
    "\t## All of the possible outcome strings\n",
    "\toutcomes = c(\"heart attack\", \"heart failure\", \"pneumonia\")\n",
    "\n",
    "    ## Check if outcome is one of the strings in outcomes\n",
    "\t## %in% is a more intuitive interface as a binary operator, which returns a logical vector indicating if there is a match or not\n",
    "    if( outcome %in% outcomes == FALSE ) {\n",
    "    \tstop(\"invalid outcome\")\n",
    "    }\n",
    "\n",
    "\t## Read outcome data\n",
    "\tdata <- read.csv(\"outcome-of-care-measures.csv\", colClasses = \"character\")\n",
    "\n",
    "\t## Get the columns below from 'data' and place it in 'data' with new names (\"name\", \"state\", \"heart attack\", etc)\n",
    "\t#\"Hospital.Name\"                                              \n",
    "\t#\"State\"                                                     \n",
    "    #\"Hospital.30.Day.Death..Mortality..Rates.from.Heart.Attack\"  \n",
    "    #\"Hospital.30.Day.Death..Mortality..Rates.from.Heart.Failure\"\n",
    "    #\"Hospital.30.Day.Death..Mortality..Rates.from.Pneumonia\"    \n",
    "\n",
    "\tdata <- data[c(2, 7, 11, 17, 23)]\n",
    "\tnames(data)[1] <- \"name\"\n",
    "\tnames(data)[2] <- \"state\"\n",
    "\tnames(data)[3] <- \"heart attack\"\n",
    "\tnames(data)[4] <- \"heart failure\"\n",
    "\tnames(data)[5] <- \"pneumonia\"\n",
    "\n",
    "    ## Get a vector of all of the states in 'data' now at column 2, NOTE: could've also used data[\"state\"]\n",
    "    states <- data[, 2]\n",
    "    states <- unique(states)\n",
    "    if( state %in% states == FALSE ) {\n",
    "    \tstop(\"invalid state\")\n",
    "    }\n",
    "\n",
    "    ## Get only the rows with our state value\t\n",
    "    data <- data[data$state==state & data[outcome] != 'Not Available', ]\n",
    "    vals <- data[, outcome]\n",
    "\n",
    "    ## RowNum = the index of the minimum value \n",
    "    rowNum <- which.min(vals)\n",
    "\t\n",
    "\t## Return hospital name in that state with lowest 30-day death rate\n",
    "    data[rowNum, ]$name\n",
    "}"
   ]
  }
 ],
 "metadata": {
  "kernelspec": {
   "display_name": "R",
   "language": "R",
   "name": "ir"
  },
  "language_info": {
   "codemirror_mode": "r",
   "file_extension": ".r",
   "mimetype": "text/x-r-source",
   "name": "R",
   "pygments_lexer": "r",
   "version": "4.0.2"
  }
 },
 "nbformat": 4,
 "nbformat_minor": 4
}
