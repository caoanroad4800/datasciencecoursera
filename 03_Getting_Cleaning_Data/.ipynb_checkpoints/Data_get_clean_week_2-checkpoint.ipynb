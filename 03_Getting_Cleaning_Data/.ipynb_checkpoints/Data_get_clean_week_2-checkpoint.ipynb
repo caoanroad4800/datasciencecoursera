{
 "cells": [
  {
   "cell_type": "markdown",
   "metadata": {},
   "source": [
    "## Reading from MySQL"
   ]
  },
  {
   "cell_type": "code",
   "execution_count": 2,
   "metadata": {},
   "outputs": [
    {
     "name": "stderr",
     "output_type": "stream",
     "text": [
      "Loading required package: DBI\n",
      "\n"
     ]
    }
   ],
   "source": [
    "library(\"RMySQL\")"
   ]
  },
  {
   "cell_type": "code",
   "execution_count": 3,
   "metadata": {},
   "outputs": [
    {
     "data": {
      "text/html": [
       "TRUE"
      ],
      "text/latex": [
       "TRUE"
      ],
      "text/markdown": [
       "TRUE"
      ],
      "text/plain": [
       "[1] TRUE"
      ]
     },
     "metadata": {},
     "output_type": "display_data"
    }
   ],
   "source": [
    "ucscDb <- dbConnect(MySQL(), user='genome',\n",
    "                   host = 'genome-mysql.cse.ucsc.edu')\n",
    "result <- dbGetQuery(ucscDb, 'show databases;');\n",
    "dbDisconnect(ucscDb)"
   ]
  },
  {
   "cell_type": "code",
   "execution_count": 5,
   "metadata": {},
   "outputs": [],
   "source": [
    "# result"
   ]
  },
  {
   "cell_type": "code",
   "execution_count": 9,
   "metadata": {},
   "outputs": [
    {
     "data": {
      "text/html": [
       "12464"
      ],
      "text/latex": [
       "12464"
      ],
      "text/markdown": [
       "12464"
      ],
      "text/plain": [
       "[1] 12464"
      ]
     },
     "metadata": {},
     "output_type": "display_data"
    }
   ],
   "source": [
    "hg19 <- dbConnect(MySQL(), user='genome', db='hg19',\n",
    "                   host = 'genome-mysql.cse.ucsc.edu')\n",
    "allTables <- dbListTables(hg19);\n",
    "length(allTables)"
   ]
  },
  {
   "cell_type": "code",
   "execution_count": 10,
   "metadata": {},
   "outputs": [
    {
     "data": {
      "text/html": [
       "<style>\n",
       ".list-inline {list-style: none; margin:0; padding: 0}\n",
       ".list-inline>li {display: inline-block}\n",
       ".list-inline>li:not(:last-child)::after {content: \"\\00b7\"; padding: 0 .5ex}\n",
       "</style>\n",
       "<ol class=list-inline><li>'HInv'</li><li>'HInvGeneMrna'</li><li>'acembly'</li><li>'acemblyClass'</li><li>'acemblyPep'</li><li>'affyCytoScan'</li><li>'affyExonProbeAmbiguous'</li><li>'affyExonProbeCore'</li><li>'affyExonProbeExtended'</li><li>'affyExonProbeFree'</li></ol>\n"
      ],
      "text/latex": [
       "\\begin{enumerate*}\n",
       "\\item 'HInv'\n",
       "\\item 'HInvGeneMrna'\n",
       "\\item 'acembly'\n",
       "\\item 'acemblyClass'\n",
       "\\item 'acemblyPep'\n",
       "\\item 'affyCytoScan'\n",
       "\\item 'affyExonProbeAmbiguous'\n",
       "\\item 'affyExonProbeCore'\n",
       "\\item 'affyExonProbeExtended'\n",
       "\\item 'affyExonProbeFree'\n",
       "\\end{enumerate*}\n"
      ],
      "text/markdown": [
       "1. 'HInv'\n",
       "2. 'HInvGeneMrna'\n",
       "3. 'acembly'\n",
       "4. 'acemblyClass'\n",
       "5. 'acemblyPep'\n",
       "6. 'affyCytoScan'\n",
       "7. 'affyExonProbeAmbiguous'\n",
       "8. 'affyExonProbeCore'\n",
       "9. 'affyExonProbeExtended'\n",
       "10. 'affyExonProbeFree'\n",
       "\n",
       "\n"
      ],
      "text/plain": [
       " [1] \"HInv\"                   \"HInvGeneMrna\"           \"acembly\"               \n",
       " [4] \"acemblyClass\"           \"acemblyPep\"             \"affyCytoScan\"          \n",
       " [7] \"affyExonProbeAmbiguous\" \"affyExonProbeCore\"      \"affyExonProbeExtended\" \n",
       "[10] \"affyExonProbeFree\"     "
      ]
     },
     "metadata": {},
     "output_type": "display_data"
    }
   ],
   "source": [
    "allTables[1:10]"
   ]
  },
  {
   "cell_type": "markdown",
   "metadata": {},
   "source": [
    "### get dimensions of a specific table"
   ]
  },
  {
   "cell_type": "code",
   "execution_count": 11,
   "metadata": {},
   "outputs": [
    {
     "data": {
      "text/html": [
       "<style>\n",
       ".list-inline {list-style: none; margin:0; padding: 0}\n",
       ".list-inline>li {display: inline-block}\n",
       ".list-inline>li:not(:last-child)::after {content: \"\\00b7\"; padding: 0 .5ex}\n",
       "</style>\n",
       "<ol class=list-inline><li>'bin'</li><li>'matches'</li><li>'misMatches'</li><li>'repMatches'</li><li>'nCount'</li><li>'qNumInsert'</li><li>'qBaseInsert'</li><li>'tNumInsert'</li><li>'tBaseInsert'</li><li>'strand'</li><li>'qName'</li><li>'qSize'</li><li>'qStart'</li><li>'qEnd'</li><li>'tName'</li><li>'tSize'</li><li>'tStart'</li><li>'tEnd'</li><li>'blockCount'</li><li>'blockSizes'</li><li>'qStarts'</li><li>'tStarts'</li></ol>\n"
      ],
      "text/latex": [
       "\\begin{enumerate*}\n",
       "\\item 'bin'\n",
       "\\item 'matches'\n",
       "\\item 'misMatches'\n",
       "\\item 'repMatches'\n",
       "\\item 'nCount'\n",
       "\\item 'qNumInsert'\n",
       "\\item 'qBaseInsert'\n",
       "\\item 'tNumInsert'\n",
       "\\item 'tBaseInsert'\n",
       "\\item 'strand'\n",
       "\\item 'qName'\n",
       "\\item 'qSize'\n",
       "\\item 'qStart'\n",
       "\\item 'qEnd'\n",
       "\\item 'tName'\n",
       "\\item 'tSize'\n",
       "\\item 'tStart'\n",
       "\\item 'tEnd'\n",
       "\\item 'blockCount'\n",
       "\\item 'blockSizes'\n",
       "\\item 'qStarts'\n",
       "\\item 'tStarts'\n",
       "\\end{enumerate*}\n"
      ],
      "text/markdown": [
       "1. 'bin'\n",
       "2. 'matches'\n",
       "3. 'misMatches'\n",
       "4. 'repMatches'\n",
       "5. 'nCount'\n",
       "6. 'qNumInsert'\n",
       "7. 'qBaseInsert'\n",
       "8. 'tNumInsert'\n",
       "9. 'tBaseInsert'\n",
       "10. 'strand'\n",
       "11. 'qName'\n",
       "12. 'qSize'\n",
       "13. 'qStart'\n",
       "14. 'qEnd'\n",
       "15. 'tName'\n",
       "16. 'tSize'\n",
       "17. 'tStart'\n",
       "18. 'tEnd'\n",
       "19. 'blockCount'\n",
       "20. 'blockSizes'\n",
       "21. 'qStarts'\n",
       "22. 'tStarts'\n",
       "\n",
       "\n"
      ],
      "text/plain": [
       " [1] \"bin\"         \"matches\"     \"misMatches\"  \"repMatches\"  \"nCount\"     \n",
       " [6] \"qNumInsert\"  \"qBaseInsert\" \"tNumInsert\"  \"tBaseInsert\" \"strand\"     \n",
       "[11] \"qName\"       \"qSize\"       \"qStart\"      \"qEnd\"        \"tName\"      \n",
       "[16] \"tSize\"       \"tStart\"      \"tEnd\"        \"blockCount\"  \"blockSizes\" \n",
       "[21] \"qStarts\"     \"tStarts\"    "
      ]
     },
     "metadata": {},
     "output_type": "display_data"
    }
   ],
   "source": [
    "\n",
    "dbListFields(hg19, 'affyU133Plus2')"
   ]
  },
  {
   "cell_type": "code",
   "execution_count": 12,
   "metadata": {},
   "outputs": [
    {
     "data": {
      "text/html": [
       "<table>\n",
       "<caption>A data.frame: 1 × 1</caption>\n",
       "<thead>\n",
       "\t<tr><th scope=col>count(*)</th></tr>\n",
       "\t<tr><th scope=col>&lt;dbl&gt;</th></tr>\n",
       "</thead>\n",
       "<tbody>\n",
       "\t<tr><td>58463</td></tr>\n",
       "</tbody>\n",
       "</table>\n"
      ],
      "text/latex": [
       "A data.frame: 1 × 1\n",
       "\\begin{tabular}{l}\n",
       " count(*)\\\\\n",
       " <dbl>\\\\\n",
       "\\hline\n",
       "\t 58463\\\\\n",
       "\\end{tabular}\n"
      ],
      "text/markdown": [
       "\n",
       "A data.frame: 1 × 1\n",
       "\n",
       "| count(*) &lt;dbl&gt; |\n",
       "|---|\n",
       "| 58463 |\n",
       "\n"
      ],
      "text/plain": [
       "  count(*)\n",
       "1 58463   "
      ]
     },
     "metadata": {},
     "output_type": "display_data"
    }
   ],
   "source": [
    "dbGetQuery(hg19, \"select count(*) from affyU133Plus2\")"
   ]
  },
  {
   "cell_type": "markdown",
   "metadata": {},
   "source": [
    "### Read from the table"
   ]
  },
  {
   "cell_type": "code",
   "execution_count": null,
   "metadata": {},
   "outputs": [
    {
     "name": "stderr",
     "output_type": "stream",
     "text": [
      "Warning message in .local(conn, statement, ...):\n",
      "“Unsigned INTEGER in col 0 imported as numeric”\n",
      "Warning message in .local(conn, statement, ...):\n",
      "“Unsigned INTEGER in col 1 imported as numeric”\n",
      "Warning message in .local(conn, statement, ...):\n",
      "“Unsigned INTEGER in col 2 imported as numeric”\n",
      "Warning message in .local(conn, statement, ...):\n",
      "“Unsigned INTEGER in col 3 imported as numeric”\n",
      "Warning message in .local(conn, statement, ...):\n",
      "“Unsigned INTEGER in col 4 imported as numeric”\n",
      "Warning message in .local(conn, statement, ...):\n",
      "“Unsigned INTEGER in col 5 imported as numeric”\n",
      "Warning message in .local(conn, statement, ...):\n",
      "“Unsigned INTEGER in col 6 imported as numeric”\n",
      "Warning message in .local(conn, statement, ...):\n",
      "“Unsigned INTEGER in col 7 imported as numeric”\n",
      "Warning message in .local(conn, statement, ...):\n",
      "“Unsigned INTEGER in col 8 imported as numeric”\n",
      "Warning message in .local(conn, statement, ...):\n",
      "“Unsigned INTEGER in col 11 imported as numeric”\n",
      "Warning message in .local(conn, statement, ...):\n",
      "“Unsigned INTEGER in col 12 imported as numeric”\n",
      "Warning message in .local(conn, statement, ...):\n",
      "“Unsigned INTEGER in col 13 imported as numeric”\n",
      "Warning message in .local(conn, statement, ...):\n",
      "“Unsigned INTEGER in col 15 imported as numeric”\n",
      "Warning message in .local(conn, statement, ...):\n",
      "“Unsigned INTEGER in col 16 imported as numeric”\n",
      "Warning message in .local(conn, statement, ...):\n",
      "“Unsigned INTEGER in col 17 imported as numeric”\n",
      "Warning message in .local(conn, statement, ...):\n",
      "“Unsigned INTEGER in col 18 imported as numeric”\n"
     ]
    }
   ],
   "source": [
    "affyData <- dbReadTable(hg19, 'affyU133Plus2')\n",
    "# head(affyData)"
   ]
  }
 ],
 "metadata": {
  "kernelspec": {
   "display_name": "R",
   "language": "R",
   "name": "ir"
  },
  "language_info": {
   "codemirror_mode": "r",
   "file_extension": ".r",
   "mimetype": "text/x-r-source",
   "name": "R",
   "pygments_lexer": "r",
   "version": "4.0.2"
  }
 },
 "nbformat": 4,
 "nbformat_minor": 4
}
