{
 "cells": [
  {
   "cell_type": "markdown",
   "metadata": {},
   "source": [
    "## Reading from MySQL"
   ]
  },
  {
   "cell_type": "code",
   "execution_count": 1,
   "metadata": {},
   "outputs": [
    {
     "name": "stderr",
     "output_type": "stream",
     "text": [
      "Loading required package: DBI\n",
      "\n"
     ]
    }
   ],
   "source": [
    "library(\"RMySQL\")"
   ]
  },
  {
   "cell_type": "code",
   "execution_count": 2,
   "metadata": {},
   "outputs": [
    {
     "data": {
      "text/html": [
       "TRUE"
      ],
      "text/latex": [
       "TRUE"
      ],
      "text/markdown": [
       "TRUE"
      ],
      "text/plain": [
       "[1] TRUE"
      ]
     },
     "metadata": {},
     "output_type": "display_data"
    }
   ],
   "source": [
    "ucscDb <- dbConnect(MySQL(), user='genome',\n",
    "                   host = 'genome-mysql.cse.ucsc.edu')\n",
    "result <- dbGetQuery(ucscDb, 'show databases;');\n",
    "dbDisconnect(ucscDb)"
   ]
  },
  {
   "cell_type": "code",
   "execution_count": 5,
   "metadata": {},
   "outputs": [],
   "source": [
    "# result"
   ]
  },
  {
   "cell_type": "code",
   "execution_count": 3,
   "metadata": {},
   "outputs": [
    {
     "data": {
      "text/html": [
       "12464"
      ],
      "text/latex": [
       "12464"
      ],
      "text/markdown": [
       "12464"
      ],
      "text/plain": [
       "[1] 12464"
      ]
     },
     "metadata": {},
     "output_type": "display_data"
    }
   ],
   "source": [
    "hg19 <- dbConnect(MySQL(), user='genome', db='hg19',\n",
    "                   host = 'genome-mysql.cse.ucsc.edu')\n",
    "allTables <- dbListTables(hg19);\n",
    "length(allTables)"
   ]
  },
  {
   "cell_type": "code",
   "execution_count": 4,
   "metadata": {},
   "outputs": [
    {
     "data": {
      "text/html": [
       "<style>\n",
       ".list-inline {list-style: none; margin:0; padding: 0}\n",
       ".list-inline>li {display: inline-block}\n",
       ".list-inline>li:not(:last-child)::after {content: \"\\00b7\"; padding: 0 .5ex}\n",
       "</style>\n",
       "<ol class=list-inline><li>'HInv'</li><li>'HInvGeneMrna'</li><li>'acembly'</li><li>'acemblyClass'</li><li>'acemblyPep'</li><li>'affyCytoScan'</li><li>'affyExonProbeAmbiguous'</li><li>'affyExonProbeCore'</li><li>'affyExonProbeExtended'</li><li>'affyExonProbeFree'</li></ol>\n"
      ],
      "text/latex": [
       "\\begin{enumerate*}\n",
       "\\item 'HInv'\n",
       "\\item 'HInvGeneMrna'\n",
       "\\item 'acembly'\n",
       "\\item 'acemblyClass'\n",
       "\\item 'acemblyPep'\n",
       "\\item 'affyCytoScan'\n",
       "\\item 'affyExonProbeAmbiguous'\n",
       "\\item 'affyExonProbeCore'\n",
       "\\item 'affyExonProbeExtended'\n",
       "\\item 'affyExonProbeFree'\n",
       "\\end{enumerate*}\n"
      ],
      "text/markdown": [
       "1. 'HInv'\n",
       "2. 'HInvGeneMrna'\n",
       "3. 'acembly'\n",
       "4. 'acemblyClass'\n",
       "5. 'acemblyPep'\n",
       "6. 'affyCytoScan'\n",
       "7. 'affyExonProbeAmbiguous'\n",
       "8. 'affyExonProbeCore'\n",
       "9. 'affyExonProbeExtended'\n",
       "10. 'affyExonProbeFree'\n",
       "\n",
       "\n"
      ],
      "text/plain": [
       " [1] \"HInv\"                   \"HInvGeneMrna\"           \"acembly\"               \n",
       " [4] \"acemblyClass\"           \"acemblyPep\"             \"affyCytoScan\"          \n",
       " [7] \"affyExonProbeAmbiguous\" \"affyExonProbeCore\"      \"affyExonProbeExtended\" \n",
       "[10] \"affyExonProbeFree\"     "
      ]
     },
     "metadata": {},
     "output_type": "display_data"
    }
   ],
   "source": [
    "allTables[1:10]"
   ]
  },
  {
   "cell_type": "markdown",
   "metadata": {},
   "source": [
    "### get dimensions of a specific table"
   ]
  },
  {
   "cell_type": "code",
   "execution_count": 5,
   "metadata": {},
   "outputs": [
    {
     "data": {
      "text/html": [
       "<style>\n",
       ".list-inline {list-style: none; margin:0; padding: 0}\n",
       ".list-inline>li {display: inline-block}\n",
       ".list-inline>li:not(:last-child)::after {content: \"\\00b7\"; padding: 0 .5ex}\n",
       "</style>\n",
       "<ol class=list-inline><li>'bin'</li><li>'matches'</li><li>'misMatches'</li><li>'repMatches'</li><li>'nCount'</li><li>'qNumInsert'</li><li>'qBaseInsert'</li><li>'tNumInsert'</li><li>'tBaseInsert'</li><li>'strand'</li><li>'qName'</li><li>'qSize'</li><li>'qStart'</li><li>'qEnd'</li><li>'tName'</li><li>'tSize'</li><li>'tStart'</li><li>'tEnd'</li><li>'blockCount'</li><li>'blockSizes'</li><li>'qStarts'</li><li>'tStarts'</li></ol>\n"
      ],
      "text/latex": [
       "\\begin{enumerate*}\n",
       "\\item 'bin'\n",
       "\\item 'matches'\n",
       "\\item 'misMatches'\n",
       "\\item 'repMatches'\n",
       "\\item 'nCount'\n",
       "\\item 'qNumInsert'\n",
       "\\item 'qBaseInsert'\n",
       "\\item 'tNumInsert'\n",
       "\\item 'tBaseInsert'\n",
       "\\item 'strand'\n",
       "\\item 'qName'\n",
       "\\item 'qSize'\n",
       "\\item 'qStart'\n",
       "\\item 'qEnd'\n",
       "\\item 'tName'\n",
       "\\item 'tSize'\n",
       "\\item 'tStart'\n",
       "\\item 'tEnd'\n",
       "\\item 'blockCount'\n",
       "\\item 'blockSizes'\n",
       "\\item 'qStarts'\n",
       "\\item 'tStarts'\n",
       "\\end{enumerate*}\n"
      ],
      "text/markdown": [
       "1. 'bin'\n",
       "2. 'matches'\n",
       "3. 'misMatches'\n",
       "4. 'repMatches'\n",
       "5. 'nCount'\n",
       "6. 'qNumInsert'\n",
       "7. 'qBaseInsert'\n",
       "8. 'tNumInsert'\n",
       "9. 'tBaseInsert'\n",
       "10. 'strand'\n",
       "11. 'qName'\n",
       "12. 'qSize'\n",
       "13. 'qStart'\n",
       "14. 'qEnd'\n",
       "15. 'tName'\n",
       "16. 'tSize'\n",
       "17. 'tStart'\n",
       "18. 'tEnd'\n",
       "19. 'blockCount'\n",
       "20. 'blockSizes'\n",
       "21. 'qStarts'\n",
       "22. 'tStarts'\n",
       "\n",
       "\n"
      ],
      "text/plain": [
       " [1] \"bin\"         \"matches\"     \"misMatches\"  \"repMatches\"  \"nCount\"     \n",
       " [6] \"qNumInsert\"  \"qBaseInsert\" \"tNumInsert\"  \"tBaseInsert\" \"strand\"     \n",
       "[11] \"qName\"       \"qSize\"       \"qStart\"      \"qEnd\"        \"tName\"      \n",
       "[16] \"tSize\"       \"tStart\"      \"tEnd\"        \"blockCount\"  \"blockSizes\" \n",
       "[21] \"qStarts\"     \"tStarts\"    "
      ]
     },
     "metadata": {},
     "output_type": "display_data"
    }
   ],
   "source": [
    "\n",
    "dbListFields(hg19, 'affyU133Plus2')"
   ]
  },
  {
   "cell_type": "code",
   "execution_count": 6,
   "metadata": {},
   "outputs": [
    {
     "data": {
      "text/html": [
       "<table>\n",
       "<caption>A data.frame: 1 × 1</caption>\n",
       "<thead>\n",
       "\t<tr><th scope=col>count(*)</th></tr>\n",
       "\t<tr><th scope=col>&lt;dbl&gt;</th></tr>\n",
       "</thead>\n",
       "<tbody>\n",
       "\t<tr><td>58463</td></tr>\n",
       "</tbody>\n",
       "</table>\n"
      ],
      "text/latex": [
       "A data.frame: 1 × 1\n",
       "\\begin{tabular}{l}\n",
       " count(*)\\\\\n",
       " <dbl>\\\\\n",
       "\\hline\n",
       "\t 58463\\\\\n",
       "\\end{tabular}\n"
      ],
      "text/markdown": [
       "\n",
       "A data.frame: 1 × 1\n",
       "\n",
       "| count(*) &lt;dbl&gt; |\n",
       "|---|\n",
       "| 58463 |\n",
       "\n"
      ],
      "text/plain": [
       "  count(*)\n",
       "1 58463   "
      ]
     },
     "metadata": {},
     "output_type": "display_data"
    }
   ],
   "source": [
    "dbGetQuery(hg19, \"select count(*) from affyU133Plus2\")"
   ]
  },
  {
   "cell_type": "markdown",
   "metadata": {},
   "source": [
    "### Read from the table"
   ]
  },
  {
   "cell_type": "code",
   "execution_count": null,
   "metadata": {},
   "outputs": [
    {
     "name": "stderr",
     "output_type": "stream",
     "text": [
      "Warning message in .local(conn, statement, ...):\n",
      "“Unsigned INTEGER in col 0 imported as numeric”\n",
      "Warning message in .local(conn, statement, ...):\n",
      "“Unsigned INTEGER in col 1 imported as numeric”\n",
      "Warning message in .local(conn, statement, ...):\n",
      "“Unsigned INTEGER in col 2 imported as numeric”\n",
      "Warning message in .local(conn, statement, ...):\n",
      "“Unsigned INTEGER in col 3 imported as numeric”\n",
      "Warning message in .local(conn, statement, ...):\n",
      "“Unsigned INTEGER in col 4 imported as numeric”\n",
      "Warning message in .local(conn, statement, ...):\n",
      "“Unsigned INTEGER in col 5 imported as numeric”\n",
      "Warning message in .local(conn, statement, ...):\n",
      "“Unsigned INTEGER in col 6 imported as numeric”\n",
      "Warning message in .local(conn, statement, ...):\n",
      "“Unsigned INTEGER in col 7 imported as numeric”\n",
      "Warning message in .local(conn, statement, ...):\n",
      "“Unsigned INTEGER in col 8 imported as numeric”\n",
      "Warning message in .local(conn, statement, ...):\n",
      "“Unsigned INTEGER in col 11 imported as numeric”\n",
      "Warning message in .local(conn, statement, ...):\n",
      "“Unsigned INTEGER in col 12 imported as numeric”\n",
      "Warning message in .local(conn, statement, ...):\n",
      "“Unsigned INTEGER in col 13 imported as numeric”\n",
      "Warning message in .local(conn, statement, ...):\n",
      "“Unsigned INTEGER in col 15 imported as numeric”\n",
      "Warning message in .local(conn, statement, ...):\n",
      "“Unsigned INTEGER in col 16 imported as numeric”\n",
      "Warning message in .local(conn, statement, ...):\n",
      "“Unsigned INTEGER in col 17 imported as numeric”\n",
      "Warning message in .local(conn, statement, ...):\n",
      "“Unsigned INTEGER in col 18 imported as numeric”\n"
     ]
    }
   ],
   "source": [
    "affyData <- dbReadTable(hg19, 'affyU133Plus2')\n",
    "# head(affyData)"
   ]
  },
  {
   "cell_type": "markdown",
   "metadata": {},
   "source": [
    "### Select a specific subset"
   ]
  },
  {
   "cell_type": "code",
   "execution_count": 8,
   "metadata": {},
   "outputs": [
    {
     "ename": "ERROR",
     "evalue": "Error in .local(conn, statement, ...): connection with pending rows, close resultSet before continuing\n",
     "output_type": "error",
     "traceback": [
      "Error in .local(conn, statement, ...): connection with pending rows, close resultSet before continuing\nTraceback:\n",
      "1. dbSendQuery(hg19, \"select * from affyU133Plus2 where misMatches between 1 and 3\")",
      "2. dbSendQuery(hg19, \"select * from affyU133Plus2 where misMatches between 1 and 3\")",
      "3. .local(conn, statement, ...)"
     ]
    }
   ],
   "source": [
    "query <- dbSendQuery(hg19, \"select * from affyU133Plus2 where misMatches between 1 and 3\")\n",
    "affyMis <- fetch(query)\n",
    "quantile(affyMis$misMatches)"
   ]
  },
  {
   "cell_type": "code",
   "execution_count": 9,
   "metadata": {},
   "outputs": [
    {
     "name": "stderr",
     "output_type": "stream",
     "text": [
      "Warning message:\n",
      "“Closing open result sets”\n"
     ]
    },
    {
     "data": {
      "text/html": [
       "TRUE"
      ],
      "text/latex": [
       "TRUE"
      ],
      "text/markdown": [
       "TRUE"
      ],
      "text/plain": [
       "[1] TRUE"
      ]
     },
     "metadata": {},
     "output_type": "display_data"
    }
   ],
   "source": [
    "dbDisconnect(hg19)"
   ]
  },
  {
   "cell_type": "markdown",
   "metadata": {},
   "source": [
    "## Reading HDF5"
   ]
  },
  {
   "cell_type": "code",
   "execution_count": 11,
   "metadata": {},
   "outputs": [
    {
     "ename": "ERROR",
     "evalue": "Error: With R version 3.5 or greater, install Bioconductor packages using BiocManager; see https://bioconductor.org/install\n",
     "output_type": "error",
     "traceback": [
      "Error: With R version 3.5 or greater, install Bioconductor packages using BiocManager; see https://bioconductor.org/install\nTraceback:\n",
      "1. source(\"http://bioconductor.org/biocLite.R\")",
      "2. withVisible(eval(ei, envir))",
      "3. eval(ei, envir)",
      "4. eval(ei, envir)",
      "5. local({\n .     vers <- getRversion()\n .     if (vers >= \"3.6\") {\n .         stop(\"With R version 3.5 or greater, install Bioconductor \", \n .             \"packages using BiocManager; see https://bioconductor.org/install\", \n .             call. = FALSE)\n .     }\n .     biocVers <- tryCatch({\n .         BiocInstaller::biocVersion()\n .     }, error = function(...) {\n .         BioC_version_associated_with_R_version <- get(\".BioC_version_associated_with_R_version\", \n .             envir = asNamespace(\"tools\"), inherits = FALSE)\n .         if (is.function(BioC_version_associated_with_R_version)) \n .             BioC_version_associated_with_R_version()\n .         else BioC_version_associated_with_R_version\n .     })\n .     if (vers < \"3.0\") {\n .         txt <- strwrap(\"A new version of Bioconductor is available\\n            after installing the most recent version of R; see\\n            http://bioconductor.org/install\", \n .             exdent = 2)\n .         message(paste(txt, collapse = \"\\n\"))\n .     }\n .     else if (\"package:BiocInstaller\" %in% search()) {\n .         tryCatch(BiocInstaller:::.onAttach(), error = function(...) NULL)\n .     }\n .     if (vers > \"2.13\" && biocVers > \"2.8\") {\n .         if (exists(\"biocLite\", .GlobalEnv, inherits = FALSE)) {\n .             txt <- strwrap(\"There is an outdated biocLite() function in the\\n                global environment; run 'rm(biocLite)' and try again.\")\n .             stop(\"\\n\", paste(txt, collapse = \"\\n\"))\n .         }\n .         if (!suppressWarnings(require(\"BiocInstaller\", quietly = TRUE))) {\n .             a <- NULL\n .             p <- file.path(Sys.getenv(\"HOME\"), \".R\", \"repositories\")\n .             if (file.exists(p)) {\n .                 a <- tools:::.read_repositories(p)\n .                 if (!\"BioCsoft\" %in% rownames(a)) \n .                   a <- NULL\n .             }\n .             if (is.null(a)) {\n .                 p <- file.path(R.home(\"etc\"), \"repositories\")\n .                 a <- tools:::.read_repositories(p)\n .             }\n .             if (!\"package:utils\" %in% search()) {\n .                 path <- \"//bioconductor.org/biocLite.R\"\n .                 txt <- sprintf(\"use 'source(\\\"https:%s\\\")' or\\n                    'source(\\\"http:%s\\\")' to update 'BiocInstaller' after\\n                    library(\\\"utils\\\")\", \n .                   path, path)\n .                 message(paste(strwrap(txt), collapse = \"\\n  \"))\n .             }\n .             else {\n .                 if (vers >= \"3.2.2\" && vers < \"3.3.0\") {\n .                   con <- file(fl <- tempfile(), \"w\")\n .                   sink(con, type = \"message\")\n .                   tryCatch({\n .                     xx <- close(file(\"https://bioconductor.org\"))\n .                   }, error = function(e) {\n .                     message(conditionMessage(e))\n .                   })\n .                   sink(type = \"message\")\n .                   close(con)\n .                   if (!length(readLines(fl))) \n .                     a[\"BioCsoft\", \"URL\"] <- sub(\"^http:\", \"https:\", \n .                       a[\"BioCsoft\", \"URL\"])\n .                 }\n .                 if (vers >= \"3.5.0\") {\n .                   a[\"BioCsoft\", \"URL\"] <- sub(as.character(biocVers), \n .                     \"3.7\", a[\"BioCsoft\", \"URL\"])\n .                 }\n .                 else if (vers >= \"3.4.0\") {\n .                   a[\"BioCsoft\", \"URL\"] <- sub(as.character(biocVers), \n .                     \"3.6\", a[\"BioCsoft\", \"URL\"])\n .                 }\n .                 else if (vers >= \"3.3.0\") {\n .                   a[\"BioCsoft\", \"URL\"] <- sub(as.character(biocVers), \n .                     \"3.4\", a[\"BioCsoft\", \"URL\"])\n .                 }\n .                 else if (vers >= \"3.2\") {\n .                   a[\"BioCsoft\", \"URL\"] <- sub(as.character(biocVers), \n .                     \"3.2\", a[\"BioCsoft\", \"URL\"])\n .                 }\n .                 else if (vers == \"3.1.1\") {\n .                   a[\"BioCsoft\", \"URL\"] <- sub(as.character(biocVers), \n .                     \"3.0\", a[\"BioCsoft\", \"URL\"])\n .                 }\n .                 else if (vers == \"3.1.0\") {\n .                   a[\"BioCsoft\", \"URL\"] <- sub(as.character(biocVers), \n .                     \"2.14\", a[\"BioCsoft\", \"URL\"])\n .                 }\n .                 else if (vers >= \"2.15\" && vers < \"2.16\") {\n .                   a[\"BioCsoft\", \"URL\"] <- sub(as.character(biocVers), \n .                     \"2.11\", a[\"BioCsoft\", \"URL\"])\n .                   biocVers <- numeric_version(\"2.11\")\n .                 }\n .                 install.packages(\"BiocInstaller\", repos = a[\"BioCsoft\", \n .                   \"URL\"])\n .                 if (!suppressWarnings(require(\"BiocInstaller\", \n .                   quietly = TRUE))) {\n .                   path0 <- \"//bioconductor.org/packages\"\n .                   path <- sprintf(\"%s/%s/bioc\", path0, as.character(biocVers))\n .                   txt0 <- \"'biocLite.R' failed to install 'BiocInstaller',\\n                        use 'install.packages(\\\"BiocInstaller\\\",\\n                        repos=\\\"https:%s\\\")' or\\n                        'install.packages(\\\"BiocInstaller\\\", repos=\\\"http:%s\\\")'\"\n .                   txt <- sprintf(txt0, path, path)\n .                   message(paste(strwrap(txt), collapse = \"\\n  \"))\n .                 }\n .             }\n .         }\n .         else {\n .             installerVersion <- utils::packageVersion(\"BiocInstaller\")\n .             test0 <- (vers > \"3.1.2\") && !identical(getOption(\"pkgType\"), \n .                 \"source\") && (installerVersion >= \"1.16.0\") && \n .                 (installerVersion <= \"1.16.4\")\n .             if (test0) {\n .                 if (installerVersion < \"1.16.4\") {\n .                   txt <- \"Update BiocInstaller with\\n                         oldPkgType=options(pkgType=\\\"source\\\");\\n                         biocLite(\\\"BiocInstaller\\\"); options(oldPkgType)\"\n .                   message(paste(strwrap(txt, exdent = 2), collapse = \"\\n\"))\n .                 }\n .                 if (vers >= \"3.2\") {\n .                   path <- \"//bioconductor.org/biocLite.R\"\n .                   txt <- sprintf(\"BiocInstaller version %s is too old for\\n                         R version %s; remove.packages(\\\"BiocInstaller\\\"),\\n                         re-start R, then source(\\\"https:%s\\\") or\\n                         source(\\\"http:%s\\\")\", \n .                     biocVers, vers, path, path)\n .                   warning(paste(strwrap(txt, exdent = 2), collapse = \"\\n\"))\n .                 }\n .             }\n .         }\n .     }\n .     else {\n .         tryCatch({\n .             source(\"https://bioconductor.org/getBioC.R\")\n .         }, error = function(e) {\n .             warning(\"https: failed (\", conditionMessage(e), \"), trying http\", \n .                 immediate. = TRUE)\n .             source(\"http://bioconductor.org/getBioC.R\")\n .         })\n .         biocLite <<- function(pkgs, groupName = \"lite\", ...) {\n .             if (missing(pkgs)) \n .                 biocinstall(groupName = groupName, ...)\n .             else biocinstall(pkgs = pkgs, groupName = groupName, \n .                 ...)\n .         }\n .     }\n . })",
      "6. eval.parent(substitute(eval(quote(expr), envir)))",
      "7. eval(expr, p)",
      "8. eval(expr, p)",
      "9. eval(quote({\n .     vers <- getRversion()\n .     if (vers >= \"3.6\") {\n .         stop(\"With R version 3.5 or greater, install Bioconductor \", \n .             \"packages using BiocManager; see https://bioconductor.org/install\", \n .             call. = FALSE)\n .     }\n .     biocVers <- tryCatch({\n .         BiocInstaller::biocVersion()\n .     }, error = function(...) {\n .         BioC_version_associated_with_R_version <- get(\".BioC_version_associated_with_R_version\", \n .             envir = asNamespace(\"tools\"), inherits = FALSE)\n .         if (is.function(BioC_version_associated_with_R_version)) BioC_version_associated_with_R_version() else BioC_version_associated_with_R_version\n .     })\n .     if (vers < \"3.0\") {\n .         txt <- strwrap(\"A new version of Bioconductor is available\\n            after installing the most recent version of R; see\\n            http://bioconductor.org/install\", \n .             exdent = 2)\n .         message(paste(txt, collapse = \"\\n\"))\n .     } else if (\"package:BiocInstaller\" %in% search()) {\n .         tryCatch(BiocInstaller:::.onAttach(), error = function(...) NULL)\n .     }\n .     if (vers > \"2.13\" && biocVers > \"2.8\") {\n .         if (exists(\"biocLite\", .GlobalEnv, inherits = FALSE)) {\n .             txt <- strwrap(\"There is an outdated biocLite() function in the\\n                global environment; run 'rm(biocLite)' and try again.\")\n .             stop(\"\\n\", paste(txt, collapse = \"\\n\"))\n .         }\n .         if (!suppressWarnings(require(\"BiocInstaller\", quietly = TRUE))) {\n .             a <- NULL\n .             p <- file.path(Sys.getenv(\"HOME\"), \".R\", \"repositories\")\n .             if (file.exists(p)) {\n .                 a <- tools:::.read_repositories(p)\n .                 if (!\"BioCsoft\" %in% rownames(a)) a <- NULL\n .             }\n .             if (is.null(a)) {\n .                 p <- file.path(R.home(\"etc\"), \"repositories\")\n .                 a <- tools:::.read_repositories(p)\n .             }\n .             if (!\"package:utils\" %in% search()) {\n .                 path <- \"//bioconductor.org/biocLite.R\"\n .                 txt <- sprintf(\"use 'source(\\\"https:%s\\\")' or\\n                    'source(\\\"http:%s\\\")' to update 'BiocInstaller' after\\n                    library(\\\"utils\\\")\", \n .                   path, path)\n .                 message(paste(strwrap(txt), collapse = \"\\n  \"))\n .             } else {\n .                 if (vers >= \"3.2.2\" && vers < \"3.3.0\") {\n .                   con <- file(fl <- tempfile(), \"w\")\n .                   sink(con, type = \"message\")\n .                   tryCatch({\n .                     xx <- close(file(\"https://bioconductor.org\"))\n .                   }, error = function(e) {\n .                     message(conditionMessage(e))\n .                   })\n .                   sink(type = \"message\")\n .                   close(con)\n .                   if (!length(readLines(fl))) a[\"BioCsoft\", \"URL\"] <- sub(\"^http:\", \n .                     \"https:\", a[\"BioCsoft\", \"URL\"])\n .                 }\n .                 if (vers >= \"3.5.0\") {\n .                   a[\"BioCsoft\", \"URL\"] <- sub(as.character(biocVers), \n .                     \"3.7\", a[\"BioCsoft\", \"URL\"])\n .                 } else if (vers >= \"3.4.0\") {\n .                   a[\"BioCsoft\", \"URL\"] <- sub(as.character(biocVers), \n .                     \"3.6\", a[\"BioCsoft\", \"URL\"])\n .                 } else if (vers >= \"3.3.0\") {\n .                   a[\"BioCsoft\", \"URL\"] <- sub(as.character(biocVers), \n .                     \"3.4\", a[\"BioCsoft\", \"URL\"])\n .                 } else if (vers >= \"3.2\") {\n .                   a[\"BioCsoft\", \"URL\"] <- sub(as.character(biocVers), \n .                     \"3.2\", a[\"BioCsoft\", \"URL\"])\n .                 } else if (vers == \"3.1.1\") {\n .                   a[\"BioCsoft\", \"URL\"] <- sub(as.character(biocVers), \n .                     \"3.0\", a[\"BioCsoft\", \"URL\"])\n .                 } else if (vers == \"3.1.0\") {\n .                   a[\"BioCsoft\", \"URL\"] <- sub(as.character(biocVers), \n .                     \"2.14\", a[\"BioCsoft\", \"URL\"])\n .                 } else if (vers >= \"2.15\" && vers < \"2.16\") {\n .                   a[\"BioCsoft\", \"URL\"] <- sub(as.character(biocVers), \n .                     \"2.11\", a[\"BioCsoft\", \"URL\"])\n .                   biocVers <- numeric_version(\"2.11\")\n .                 }\n .                 install.packages(\"BiocInstaller\", repos = a[\"BioCsoft\", \n .                   \"URL\"])\n .                 if (!suppressWarnings(require(\"BiocInstaller\", \n .                   quietly = TRUE))) {\n .                   path0 <- \"//bioconductor.org/packages\"\n .                   path <- sprintf(\"%s/%s/bioc\", path0, as.character(biocVers))\n .                   txt0 <- \"'biocLite.R' failed to install 'BiocInstaller',\\n                        use 'install.packages(\\\"BiocInstaller\\\",\\n                        repos=\\\"https:%s\\\")' or\\n                        'install.packages(\\\"BiocInstaller\\\", repos=\\\"http:%s\\\")'\"\n .                   txt <- sprintf(txt0, path, path)\n .                   message(paste(strwrap(txt), collapse = \"\\n  \"))\n .                 }\n .             }\n .         } else {\n .             installerVersion <- utils::packageVersion(\"BiocInstaller\")\n .             test0 <- (vers > \"3.1.2\") && !identical(getOption(\"pkgType\"), \n .                 \"source\") && (installerVersion >= \"1.16.0\") && \n .                 (installerVersion <= \"1.16.4\")\n .             if (test0) {\n .                 if (installerVersion < \"1.16.4\") {\n .                   txt <- \"Update BiocInstaller with\\n                         oldPkgType=options(pkgType=\\\"source\\\");\\n                         biocLite(\\\"BiocInstaller\\\"); options(oldPkgType)\"\n .                   message(paste(strwrap(txt, exdent = 2), collapse = \"\\n\"))\n .                 }\n .                 if (vers >= \"3.2\") {\n .                   path <- \"//bioconductor.org/biocLite.R\"\n .                   txt <- sprintf(\"BiocInstaller version %s is too old for\\n                         R version %s; remove.packages(\\\"BiocInstaller\\\"),\\n                         re-start R, then source(\\\"https:%s\\\") or\\n                         source(\\\"http:%s\\\")\", \n .                     biocVers, vers, path, path)\n .                   warning(paste(strwrap(txt, exdent = 2), collapse = \"\\n\"))\n .                 }\n .             }\n .         }\n .     } else {\n .         tryCatch({\n .             source(\"https://bioconductor.org/getBioC.R\")\n .         }, error = function(e) {\n .             warning(\"https: failed (\", conditionMessage(e), \"), trying http\", \n .                 immediate. = TRUE)\n .             source(\"http://bioconductor.org/getBioC.R\")\n .         })\n .         biocLite <<- function(pkgs, groupName = \"lite\", ...) {\n .             if (missing(pkgs)) biocinstall(groupName = groupName, \n .                 ...) else biocinstall(pkgs = pkgs, groupName = groupName, \n .                 ...)\n .         }\n .     }\n . }), new.env())",
      "10. eval(quote({\n  .     vers <- getRversion()\n  .     if (vers >= \"3.6\") {\n  .         stop(\"With R version 3.5 or greater, install Bioconductor \", \n  .             \"packages using BiocManager; see https://bioconductor.org/install\", \n  .             call. = FALSE)\n  .     }\n  .     biocVers <- tryCatch({\n  .         BiocInstaller::biocVersion()\n  .     }, error = function(...) {\n  .         BioC_version_associated_with_R_version <- get(\".BioC_version_associated_with_R_version\", \n  .             envir = asNamespace(\"tools\"), inherits = FALSE)\n  .         if (is.function(BioC_version_associated_with_R_version)) BioC_version_associated_with_R_version() else BioC_version_associated_with_R_version\n  .     })\n  .     if (vers < \"3.0\") {\n  .         txt <- strwrap(\"A new version of Bioconductor is available\\n            after installing the most recent version of R; see\\n            http://bioconductor.org/install\", \n  .             exdent = 2)\n  .         message(paste(txt, collapse = \"\\n\"))\n  .     } else if (\"package:BiocInstaller\" %in% search()) {\n  .         tryCatch(BiocInstaller:::.onAttach(), error = function(...) NULL)\n  .     }\n  .     if (vers > \"2.13\" && biocVers > \"2.8\") {\n  .         if (exists(\"biocLite\", .GlobalEnv, inherits = FALSE)) {\n  .             txt <- strwrap(\"There is an outdated biocLite() function in the\\n                global environment; run 'rm(biocLite)' and try again.\")\n  .             stop(\"\\n\", paste(txt, collapse = \"\\n\"))\n  .         }\n  .         if (!suppressWarnings(require(\"BiocInstaller\", quietly = TRUE))) {\n  .             a <- NULL\n  .             p <- file.path(Sys.getenv(\"HOME\"), \".R\", \"repositories\")\n  .             if (file.exists(p)) {\n  .                 a <- tools:::.read_repositories(p)\n  .                 if (!\"BioCsoft\" %in% rownames(a)) a <- NULL\n  .             }\n  .             if (is.null(a)) {\n  .                 p <- file.path(R.home(\"etc\"), \"repositories\")\n  .                 a <- tools:::.read_repositories(p)\n  .             }\n  .             if (!\"package:utils\" %in% search()) {\n  .                 path <- \"//bioconductor.org/biocLite.R\"\n  .                 txt <- sprintf(\"use 'source(\\\"https:%s\\\")' or\\n                    'source(\\\"http:%s\\\")' to update 'BiocInstaller' after\\n                    library(\\\"utils\\\")\", \n  .                   path, path)\n  .                 message(paste(strwrap(txt), collapse = \"\\n  \"))\n  .             } else {\n  .                 if (vers >= \"3.2.2\" && vers < \"3.3.0\") {\n  .                   con <- file(fl <- tempfile(), \"w\")\n  .                   sink(con, type = \"message\")\n  .                   tryCatch({\n  .                     xx <- close(file(\"https://bioconductor.org\"))\n  .                   }, error = function(e) {\n  .                     message(conditionMessage(e))\n  .                   })\n  .                   sink(type = \"message\")\n  .                   close(con)\n  .                   if (!length(readLines(fl))) a[\"BioCsoft\", \"URL\"] <- sub(\"^http:\", \n  .                     \"https:\", a[\"BioCsoft\", \"URL\"])\n  .                 }\n  .                 if (vers >= \"3.5.0\") {\n  .                   a[\"BioCsoft\", \"URL\"] <- sub(as.character(biocVers), \n  .                     \"3.7\", a[\"BioCsoft\", \"URL\"])\n  .                 } else if (vers >= \"3.4.0\") {\n  .                   a[\"BioCsoft\", \"URL\"] <- sub(as.character(biocVers), \n  .                     \"3.6\", a[\"BioCsoft\", \"URL\"])\n  .                 } else if (vers >= \"3.3.0\") {\n  .                   a[\"BioCsoft\", \"URL\"] <- sub(as.character(biocVers), \n  .                     \"3.4\", a[\"BioCsoft\", \"URL\"])\n  .                 } else if (vers >= \"3.2\") {\n  .                   a[\"BioCsoft\", \"URL\"] <- sub(as.character(biocVers), \n  .                     \"3.2\", a[\"BioCsoft\", \"URL\"])\n  .                 } else if (vers == \"3.1.1\") {\n  .                   a[\"BioCsoft\", \"URL\"] <- sub(as.character(biocVers), \n  .                     \"3.0\", a[\"BioCsoft\", \"URL\"])\n  .                 } else if (vers == \"3.1.0\") {\n  .                   a[\"BioCsoft\", \"URL\"] <- sub(as.character(biocVers), \n  .                     \"2.14\", a[\"BioCsoft\", \"URL\"])\n  .                 } else if (vers >= \"2.15\" && vers < \"2.16\") {\n  .                   a[\"BioCsoft\", \"URL\"] <- sub(as.character(biocVers), \n  .                     \"2.11\", a[\"BioCsoft\", \"URL\"])\n  .                   biocVers <- numeric_version(\"2.11\")\n  .                 }\n  .                 install.packages(\"BiocInstaller\", repos = a[\"BioCsoft\", \n  .                   \"URL\"])\n  .                 if (!suppressWarnings(require(\"BiocInstaller\", \n  .                   quietly = TRUE))) {\n  .                   path0 <- \"//bioconductor.org/packages\"\n  .                   path <- sprintf(\"%s/%s/bioc\", path0, as.character(biocVers))\n  .                   txt0 <- \"'biocLite.R' failed to install 'BiocInstaller',\\n                        use 'install.packages(\\\"BiocInstaller\\\",\\n                        repos=\\\"https:%s\\\")' or\\n                        'install.packages(\\\"BiocInstaller\\\", repos=\\\"http:%s\\\")'\"\n  .                   txt <- sprintf(txt0, path, path)\n  .                   message(paste(strwrap(txt), collapse = \"\\n  \"))\n  .                 }\n  .             }\n  .         } else {\n  .             installerVersion <- utils::packageVersion(\"BiocInstaller\")\n  .             test0 <- (vers > \"3.1.2\") && !identical(getOption(\"pkgType\"), \n  .                 \"source\") && (installerVersion >= \"1.16.0\") && \n  .                 (installerVersion <= \"1.16.4\")\n  .             if (test0) {\n  .                 if (installerVersion < \"1.16.4\") {\n  .                   txt <- \"Update BiocInstaller with\\n                         oldPkgType=options(pkgType=\\\"source\\\");\\n                         biocLite(\\\"BiocInstaller\\\"); options(oldPkgType)\"\n  .                   message(paste(strwrap(txt, exdent = 2), collapse = \"\\n\"))\n  .                 }\n  .                 if (vers >= \"3.2\") {\n  .                   path <- \"//bioconductor.org/biocLite.R\"\n  .                   txt <- sprintf(\"BiocInstaller version %s is too old for\\n                         R version %s; remove.packages(\\\"BiocInstaller\\\"),\\n                         re-start R, then source(\\\"https:%s\\\") or\\n                         source(\\\"http:%s\\\")\", \n  .                     biocVers, vers, path, path)\n  .                   warning(paste(strwrap(txt, exdent = 2), collapse = \"\\n\"))\n  .                 }\n  .             }\n  .         }\n  .     } else {\n  .         tryCatch({\n  .             source(\"https://bioconductor.org/getBioC.R\")\n  .         }, error = function(e) {\n  .             warning(\"https: failed (\", conditionMessage(e), \"), trying http\", \n  .                 immediate. = TRUE)\n  .             source(\"http://bioconductor.org/getBioC.R\")\n  .         })\n  .         biocLite <<- function(pkgs, groupName = \"lite\", ...) {\n  .             if (missing(pkgs)) biocinstall(groupName = groupName, \n  .                 ...) else biocinstall(pkgs = pkgs, groupName = groupName, \n  .                 ...)\n  .         }\n  .     }\n  . }), new.env())",
      "11. stop(\"With R version 3.5 or greater, install Bioconductor \", \n  .     \"packages using BiocManager; see https://bioconductor.org/install\", \n  .     call. = FALSE)"
     ]
    }
   ],
   "source": [
    "source(\"http://bioconductor.org/biocLite.R\")\n",
    "biocLite(\"rhdf5\")"
   ]
  },
  {
   "cell_type": "code",
   "execution_count": 13,
   "metadata": {},
   "outputs": [
    {
     "name": "stderr",
     "output_type": "stream",
     "text": [
      "Installing package into ‘/home/yanyuan/R/x86_64-pc-linux-gnu-library/4.0’\n",
      "(as ‘lib’ is unspecified)\n",
      "\n",
      "Warning message:\n",
      "“package ‘rhdf5’ is not available (for R version 4.0.2)”\n"
     ]
    }
   ],
   "source": [
    "install.packages(\"rhdf5\")"
   ]
  },
  {
   "cell_type": "markdown",
   "metadata": {},
   "source": [
    "## Reading data from the web"
   ]
  },
  {
   "cell_type": "markdown",
   "metadata": {},
   "source": [
    "## Reading data from APIs"
   ]
  },
  {
   "cell_type": "code",
   "execution_count": 15,
   "metadata": {},
   "outputs": [
    {
     "data": {
      "text/plain": [
       "<oauth_endpoint>\n",
       " authorize: https://github.com/login/oauth/authorize\n",
       " access:    https://github.com/login/oauth/access_token"
      ]
     },
     "metadata": {},
     "output_type": "display_data"
    },
    {
     "name": "stderr",
     "output_type": "stream",
     "text": [
      "Waiting for authentication in browser...\n",
      "\n",
      "Press Esc/Ctrl + C to abort\n",
      "\n",
      "Please point your browser to the following url: \n",
      "\n",
      "https://github.com/login/oauth/authorize?client_id=56b637a5baffac62cad9&redirect_uri=http%3A%2F%2Flocalhost%3A1410%2F&response_type=code&state=HapYNNeShz\n",
      "\n",
      "Authentication complete.\n",
      "\n"
     ]
    },
    {
     "data": {
      "text/html": [
       "<dl>\n",
       "\t<dt>$resources</dt>\n",
       "\t\t<dd><dl>\n",
       "\t<dt>$core</dt>\n",
       "\t\t<dd><dl>\n",
       "\t<dt>$limit</dt>\n",
       "\t\t<dd>5000</dd>\n",
       "\t<dt>$remaining</dt>\n",
       "\t\t<dd>5000</dd>\n",
       "\t<dt>$reset</dt>\n",
       "\t\t<dd>1596770729</dd>\n",
       "</dl>\n",
       "</dd>\n",
       "\t<dt>$search</dt>\n",
       "\t\t<dd><dl>\n",
       "\t<dt>$limit</dt>\n",
       "\t\t<dd>30</dd>\n",
       "\t<dt>$remaining</dt>\n",
       "\t\t<dd>30</dd>\n",
       "\t<dt>$reset</dt>\n",
       "\t\t<dd>1596767189</dd>\n",
       "</dl>\n",
       "</dd>\n",
       "\t<dt>$graphql</dt>\n",
       "\t\t<dd><dl>\n",
       "\t<dt>$limit</dt>\n",
       "\t\t<dd>5000</dd>\n",
       "\t<dt>$remaining</dt>\n",
       "\t\t<dd>5000</dd>\n",
       "\t<dt>$reset</dt>\n",
       "\t\t<dd>1596770729</dd>\n",
       "</dl>\n",
       "</dd>\n",
       "\t<dt>$integration_manifest</dt>\n",
       "\t\t<dd><dl>\n",
       "\t<dt>$limit</dt>\n",
       "\t\t<dd>5000</dd>\n",
       "\t<dt>$remaining</dt>\n",
       "\t\t<dd>5000</dd>\n",
       "\t<dt>$reset</dt>\n",
       "\t\t<dd>1596770729</dd>\n",
       "</dl>\n",
       "</dd>\n",
       "\t<dt>$source_import</dt>\n",
       "\t\t<dd><dl>\n",
       "\t<dt>$limit</dt>\n",
       "\t\t<dd>100</dd>\n",
       "\t<dt>$remaining</dt>\n",
       "\t\t<dd>100</dd>\n",
       "\t<dt>$reset</dt>\n",
       "\t\t<dd>1596767189</dd>\n",
       "</dl>\n",
       "</dd>\n",
       "</dl>\n",
       "</dd>\n",
       "\t<dt>$rate</dt>\n",
       "\t\t<dd><dl>\n",
       "\t<dt>$limit</dt>\n",
       "\t\t<dd>5000</dd>\n",
       "\t<dt>$remaining</dt>\n",
       "\t\t<dd>5000</dd>\n",
       "\t<dt>$reset</dt>\n",
       "\t\t<dd>1596770729</dd>\n",
       "</dl>\n",
       "</dd>\n",
       "</dl>\n"
      ],
      "text/latex": [
       "\\begin{description}\n",
       "\\item[\\$resources] \\begin{description}\n",
       "\\item[\\$core] \\begin{description}\n",
       "\\item[\\$limit] 5000\n",
       "\\item[\\$remaining] 5000\n",
       "\\item[\\$reset] 1596770729\n",
       "\\end{description}\n",
       "\n",
       "\\item[\\$search] \\begin{description}\n",
       "\\item[\\$limit] 30\n",
       "\\item[\\$remaining] 30\n",
       "\\item[\\$reset] 1596767189\n",
       "\\end{description}\n",
       "\n",
       "\\item[\\$graphql] \\begin{description}\n",
       "\\item[\\$limit] 5000\n",
       "\\item[\\$remaining] 5000\n",
       "\\item[\\$reset] 1596770729\n",
       "\\end{description}\n",
       "\n",
       "\\item[\\$integration\\_manifest] \\begin{description}\n",
       "\\item[\\$limit] 5000\n",
       "\\item[\\$remaining] 5000\n",
       "\\item[\\$reset] 1596770729\n",
       "\\end{description}\n",
       "\n",
       "\\item[\\$source\\_import] \\begin{description}\n",
       "\\item[\\$limit] 100\n",
       "\\item[\\$remaining] 100\n",
       "\\item[\\$reset] 1596767189\n",
       "\\end{description}\n",
       "\n",
       "\\end{description}\n",
       "\n",
       "\\item[\\$rate] \\begin{description}\n",
       "\\item[\\$limit] 5000\n",
       "\\item[\\$remaining] 5000\n",
       "\\item[\\$reset] 1596770729\n",
       "\\end{description}\n",
       "\n",
       "\\end{description}\n"
      ],
      "text/markdown": [
       "$resources\n",
       ":   $core\n",
       ":   $limit\n",
       ":   5000\n",
       "$remaining\n",
       ":   5000\n",
       "$reset\n",
       ":   1596770729\n",
       "\n",
       "\n",
       "\n",
       "$search\n",
       ":   $limit\n",
       ":   30\n",
       "$remaining\n",
       ":   30\n",
       "$reset\n",
       ":   1596767189\n",
       "\n",
       "\n",
       "\n",
       "$graphql\n",
       ":   $limit\n",
       ":   5000\n",
       "$remaining\n",
       ":   5000\n",
       "$reset\n",
       ":   1596770729\n",
       "\n",
       "\n",
       "\n",
       "$integration_manifest\n",
       ":   $limit\n",
       ":   5000\n",
       "$remaining\n",
       ":   5000\n",
       "$reset\n",
       ":   1596770729\n",
       "\n",
       "\n",
       "\n",
       "$source_import\n",
       ":   $limit\n",
       ":   100\n",
       "$remaining\n",
       ":   100\n",
       "$reset\n",
       ":   1596767189\n",
       "\n",
       "\n",
       "\n",
       "\n",
       "\n",
       "\n",
       "$rate\n",
       ":   $limit\n",
       ":   5000\n",
       "$remaining\n",
       ":   5000\n",
       "$reset\n",
       ":   1596770729\n",
       "\n",
       "\n",
       "\n",
       "\n",
       "\n"
      ],
      "text/plain": [
       "$resources\n",
       "$resources$core\n",
       "$resources$core$limit\n",
       "[1] 5000\n",
       "\n",
       "$resources$core$remaining\n",
       "[1] 5000\n",
       "\n",
       "$resources$core$reset\n",
       "[1] 1596770729\n",
       "\n",
       "\n",
       "$resources$search\n",
       "$resources$search$limit\n",
       "[1] 30\n",
       "\n",
       "$resources$search$remaining\n",
       "[1] 30\n",
       "\n",
       "$resources$search$reset\n",
       "[1] 1596767189\n",
       "\n",
       "\n",
       "$resources$graphql\n",
       "$resources$graphql$limit\n",
       "[1] 5000\n",
       "\n",
       "$resources$graphql$remaining\n",
       "[1] 5000\n",
       "\n",
       "$resources$graphql$reset\n",
       "[1] 1596770729\n",
       "\n",
       "\n",
       "$resources$integration_manifest\n",
       "$resources$integration_manifest$limit\n",
       "[1] 5000\n",
       "\n",
       "$resources$integration_manifest$remaining\n",
       "[1] 5000\n",
       "\n",
       "$resources$integration_manifest$reset\n",
       "[1] 1596770729\n",
       "\n",
       "\n",
       "$resources$source_import\n",
       "$resources$source_import$limit\n",
       "[1] 100\n",
       "\n",
       "$resources$source_import$remaining\n",
       "[1] 100\n",
       "\n",
       "$resources$source_import$reset\n",
       "[1] 1596767189\n",
       "\n",
       "\n",
       "\n",
       "$rate\n",
       "$rate$limit\n",
       "[1] 5000\n",
       "\n",
       "$rate$remaining\n",
       "[1] 5000\n",
       "\n",
       "$rate$reset\n",
       "[1] 1596770729\n",
       "\n"
      ]
     },
     "metadata": {},
     "output_type": "display_data"
    },
    {
     "data": {
      "text/html": [
       "<dl>\n",
       "\t<dt>$resources</dt>\n",
       "\t\t<dd><dl>\n",
       "\t<dt>$core</dt>\n",
       "\t\t<dd><dl>\n",
       "\t<dt>$limit</dt>\n",
       "\t\t<dd>5000</dd>\n",
       "\t<dt>$remaining</dt>\n",
       "\t\t<dd>5000</dd>\n",
       "\t<dt>$reset</dt>\n",
       "\t\t<dd>1596770730</dd>\n",
       "</dl>\n",
       "</dd>\n",
       "\t<dt>$search</dt>\n",
       "\t\t<dd><dl>\n",
       "\t<dt>$limit</dt>\n",
       "\t\t<dd>30</dd>\n",
       "\t<dt>$remaining</dt>\n",
       "\t\t<dd>30</dd>\n",
       "\t<dt>$reset</dt>\n",
       "\t\t<dd>1596767190</dd>\n",
       "</dl>\n",
       "</dd>\n",
       "\t<dt>$graphql</dt>\n",
       "\t\t<dd><dl>\n",
       "\t<dt>$limit</dt>\n",
       "\t\t<dd>5000</dd>\n",
       "\t<dt>$remaining</dt>\n",
       "\t\t<dd>5000</dd>\n",
       "\t<dt>$reset</dt>\n",
       "\t\t<dd>1596770730</dd>\n",
       "</dl>\n",
       "</dd>\n",
       "\t<dt>$integration_manifest</dt>\n",
       "\t\t<dd><dl>\n",
       "\t<dt>$limit</dt>\n",
       "\t\t<dd>5000</dd>\n",
       "\t<dt>$remaining</dt>\n",
       "\t\t<dd>5000</dd>\n",
       "\t<dt>$reset</dt>\n",
       "\t\t<dd>1596770730</dd>\n",
       "</dl>\n",
       "</dd>\n",
       "\t<dt>$source_import</dt>\n",
       "\t\t<dd><dl>\n",
       "\t<dt>$limit</dt>\n",
       "\t\t<dd>100</dd>\n",
       "\t<dt>$remaining</dt>\n",
       "\t\t<dd>100</dd>\n",
       "\t<dt>$reset</dt>\n",
       "\t\t<dd>1596767190</dd>\n",
       "</dl>\n",
       "</dd>\n",
       "</dl>\n",
       "</dd>\n",
       "\t<dt>$rate</dt>\n",
       "\t\t<dd><dl>\n",
       "\t<dt>$limit</dt>\n",
       "\t\t<dd>5000</dd>\n",
       "\t<dt>$remaining</dt>\n",
       "\t\t<dd>5000</dd>\n",
       "\t<dt>$reset</dt>\n",
       "\t\t<dd>1596770730</dd>\n",
       "</dl>\n",
       "</dd>\n",
       "</dl>\n"
      ],
      "text/latex": [
       "\\begin{description}\n",
       "\\item[\\$resources] \\begin{description}\n",
       "\\item[\\$core] \\begin{description}\n",
       "\\item[\\$limit] 5000\n",
       "\\item[\\$remaining] 5000\n",
       "\\item[\\$reset] 1596770730\n",
       "\\end{description}\n",
       "\n",
       "\\item[\\$search] \\begin{description}\n",
       "\\item[\\$limit] 30\n",
       "\\item[\\$remaining] 30\n",
       "\\item[\\$reset] 1596767190\n",
       "\\end{description}\n",
       "\n",
       "\\item[\\$graphql] \\begin{description}\n",
       "\\item[\\$limit] 5000\n",
       "\\item[\\$remaining] 5000\n",
       "\\item[\\$reset] 1596770730\n",
       "\\end{description}\n",
       "\n",
       "\\item[\\$integration\\_manifest] \\begin{description}\n",
       "\\item[\\$limit] 5000\n",
       "\\item[\\$remaining] 5000\n",
       "\\item[\\$reset] 1596770730\n",
       "\\end{description}\n",
       "\n",
       "\\item[\\$source\\_import] \\begin{description}\n",
       "\\item[\\$limit] 100\n",
       "\\item[\\$remaining] 100\n",
       "\\item[\\$reset] 1596767190\n",
       "\\end{description}\n",
       "\n",
       "\\end{description}\n",
       "\n",
       "\\item[\\$rate] \\begin{description}\n",
       "\\item[\\$limit] 5000\n",
       "\\item[\\$remaining] 5000\n",
       "\\item[\\$reset] 1596770730\n",
       "\\end{description}\n",
       "\n",
       "\\end{description}\n"
      ],
      "text/markdown": [
       "$resources\n",
       ":   $core\n",
       ":   $limit\n",
       ":   5000\n",
       "$remaining\n",
       ":   5000\n",
       "$reset\n",
       ":   1596770730\n",
       "\n",
       "\n",
       "\n",
       "$search\n",
       ":   $limit\n",
       ":   30\n",
       "$remaining\n",
       ":   30\n",
       "$reset\n",
       ":   1596767190\n",
       "\n",
       "\n",
       "\n",
       "$graphql\n",
       ":   $limit\n",
       ":   5000\n",
       "$remaining\n",
       ":   5000\n",
       "$reset\n",
       ":   1596770730\n",
       "\n",
       "\n",
       "\n",
       "$integration_manifest\n",
       ":   $limit\n",
       ":   5000\n",
       "$remaining\n",
       ":   5000\n",
       "$reset\n",
       ":   1596770730\n",
       "\n",
       "\n",
       "\n",
       "$source_import\n",
       ":   $limit\n",
       ":   100\n",
       "$remaining\n",
       ":   100\n",
       "$reset\n",
       ":   1596767190\n",
       "\n",
       "\n",
       "\n",
       "\n",
       "\n",
       "\n",
       "$rate\n",
       ":   $limit\n",
       ":   5000\n",
       "$remaining\n",
       ":   5000\n",
       "$reset\n",
       ":   1596770730\n",
       "\n",
       "\n",
       "\n",
       "\n",
       "\n"
      ],
      "text/plain": [
       "$resources\n",
       "$resources$core\n",
       "$resources$core$limit\n",
       "[1] 5000\n",
       "\n",
       "$resources$core$remaining\n",
       "[1] 5000\n",
       "\n",
       "$resources$core$reset\n",
       "[1] 1596770730\n",
       "\n",
       "\n",
       "$resources$search\n",
       "$resources$search$limit\n",
       "[1] 30\n",
       "\n",
       "$resources$search$remaining\n",
       "[1] 30\n",
       "\n",
       "$resources$search$reset\n",
       "[1] 1596767190\n",
       "\n",
       "\n",
       "$resources$graphql\n",
       "$resources$graphql$limit\n",
       "[1] 5000\n",
       "\n",
       "$resources$graphql$remaining\n",
       "[1] 5000\n",
       "\n",
       "$resources$graphql$reset\n",
       "[1] 1596770730\n",
       "\n",
       "\n",
       "$resources$integration_manifest\n",
       "$resources$integration_manifest$limit\n",
       "[1] 5000\n",
       "\n",
       "$resources$integration_manifest$remaining\n",
       "[1] 5000\n",
       "\n",
       "$resources$integration_manifest$reset\n",
       "[1] 1596770730\n",
       "\n",
       "\n",
       "$resources$source_import\n",
       "$resources$source_import$limit\n",
       "[1] 100\n",
       "\n",
       "$resources$source_import$remaining\n",
       "[1] 100\n",
       "\n",
       "$resources$source_import$reset\n",
       "[1] 1596767190\n",
       "\n",
       "\n",
       "\n",
       "$rate\n",
       "$rate$limit\n",
       "[1] 5000\n",
       "\n",
       "$rate$remaining\n",
       "[1] 5000\n",
       "\n",
       "$rate$reset\n",
       "[1] 1596770730\n",
       "\n"
      ]
     },
     "metadata": {},
     "output_type": "display_data"
    }
   ],
   "source": [
    "library(httr)\n",
    "\n",
    "# 1. Find OAuth settings for github:\n",
    "#    http://developer.github.com/v3/oauth/\n",
    "oauth_endpoints(\"github\")\n",
    "\n",
    "# 2. To make your own application, register at\n",
    "#    https://github.com/settings/developers. Use any URL for the homepage URL\n",
    "#    (http://github.com is fine) and  http://localhost:1410 as the callback url\n",
    "#\n",
    "#    Replace your key and secret below.\n",
    "myapp <- oauth_app(\"github\",\n",
    "  key = \"56b637a5baffac62cad9\",\n",
    "  secret = \"8e107541ae1791259e9987d544ca568633da2ebf\"\n",
    ")\n",
    "\n",
    "# 3. Get OAuth credentials\n",
    "github_token <- oauth2.0_token(oauth_endpoints(\"github\"), myapp)\n",
    "\n",
    "# 4. Use API\n",
    "gtoken <- config(token = github_token)\n",
    "req <- GET(\"https://api.github.com/rate_limit\", gtoken)\n",
    "stop_for_status(req)\n",
    "content(req)\n",
    "\n",
    "# OR:\n",
    "req <- with_config(gtoken, GET(\"https://api.github.com/rate_limit\"))\n",
    "stop_for_status(req)\n",
    "content(req)"
   ]
  },
  {
   "cell_type": "code",
   "execution_count": 16,
   "metadata": {},
   "outputs": [
    {
     "name": "stderr",
     "output_type": "stream",
     "text": [
      "Installing package into ‘/home/yanyuan/R/x86_64-pc-linux-gnu-library/4.0’\n",
      "(as ‘lib’ is unspecified)\n",
      "\n",
      "also installing the dependencies ‘blob’, ‘plogr’, ‘gsubfn’, ‘proto’, ‘RSQLite’, ‘chron’\n",
      "\n",
      "\n"
     ]
    }
   ],
   "source": [
    "install.packages(\"sqldf\")"
   ]
  },
  {
   "cell_type": "code",
   "execution_count": 17,
   "metadata": {},
   "outputs": [],
   "source": [
    "acs <- read.csv(\"data//getdata_data_ss06pid.csv\")"
   ]
  },
  {
   "cell_type": "code",
   "execution_count": 18,
   "metadata": {},
   "outputs": [
    {
     "name": "stderr",
     "output_type": "stream",
     "text": [
      "Loading required package: gsubfn\n",
      "\n",
      "Loading required package: proto\n",
      "\n",
      "Loading required package: RSQLite\n",
      "\n",
      "\n",
      "Attaching package: ‘RSQLite’\n",
      "\n",
      "\n",
      "The following object is masked from ‘package:RMySQL’:\n",
      "\n",
      "    isIdCurrent\n",
      "\n",
      "\n",
      "sqldf will default to using MySQL\n",
      "\n"
     ]
    },
    {
     "ename": "ERROR",
     "evalue": "Error in .local(drv, ...): Failed to connect to database: Error: Access denied for user 'yanyuan'@'localhost' (using password: NO)\n\n",
     "output_type": "error",
     "traceback": [
      "Error in .local(drv, ...): Failed to connect to database: Error: Access denied for user 'yanyuan'@'localhost' (using password: NO)\n\nTraceback:\n",
      "1. sqldf(\"select pwgtp1 from acs where AGEP < 50\")",
      "2. dbConnect(m, dbname = dbname)",
      "3. dbConnect(m, dbname = dbname)",
      "4. .local(drv, ...)"
     ]
    },
    {
     "ename": "ERROR",
     "evalue": "Error in !dbPreExists: invalid argument type\n",
     "output_type": "error",
     "traceback": [
      "Error in !dbPreExists: invalid argument type\nTraceback:\n",
      "1. sqldf(\"select pwgtp1 from acs where AGEP < 50\")"
     ]
    }
   ],
   "source": [
    "library(sqldf)\n",
    "sqldf(\"select pwgtp1 from acs where AGEP < 50\")"
   ]
  },
  {
   "cell_type": "code",
   "execution_count": 19,
   "metadata": {},
   "outputs": [
    {
     "data": {
      "text/html": [
       "<style>\n",
       ".list-inline {list-style: none; margin:0; padding: 0}\n",
       ".list-inline>li {display: inline-block}\n",
       ".list-inline>li:not(:last-child)::after {content: \"\\00b7\"; padding: 0 .5ex}\n",
       "</style>\n",
       "<ol class=list-inline><li>43</li><li>42</li><li>16</li><li>14</li><li>29</li><li>40</li><li>15</li><li>28</li><li>30</li><li>4</li><li>1</li><li>18</li><li>37</li><li>39</li><li>3</li><li>87</li><li>70</li><li>49</li><li>45</li><li>50</li><li>60</li><li>59</li><li>61</li><li>64</li><li>35</li><li>12</li><li>19</li><li>31</li><li>9</li><li>0</li><li>33</li><li>32</li><li>20</li><li>88</li><li>53</li><li>58</li><li>69</li><li>68</li><li>48</li><li>24</li><li>27</li><li>74</li><li>56</li><li>75</li><li>17</li><li>38</li><li>55</li><li>26</li><li>23</li><li>86</li><li>81</li><li>77</li><li>7</li><li>51</li><li>13</li><li>11</li><li>82</li><li>47</li><li>46</li><li>80</li><li>21</li><li>54</li><li>78</li><li>67</li><li>22</li><li>2</li><li>76</li><li>6</li><li>71</li><li>34</li><li>10</li><li>5</li><li>65</li><li>62</li><li>63</li><li>57</li><li>52</li><li>79</li><li>83</li><li>66</li><li>25</li><li>93</li><li>8</li><li>36</li><li>41</li><li>44</li><li>84</li><li>72</li><li>73</li><li>85</li><li>89</li></ol>\n"
      ],
      "text/latex": [
       "\\begin{enumerate*}\n",
       "\\item 43\n",
       "\\item 42\n",
       "\\item 16\n",
       "\\item 14\n",
       "\\item 29\n",
       "\\item 40\n",
       "\\item 15\n",
       "\\item 28\n",
       "\\item 30\n",
       "\\item 4\n",
       "\\item 1\n",
       "\\item 18\n",
       "\\item 37\n",
       "\\item 39\n",
       "\\item 3\n",
       "\\item 87\n",
       "\\item 70\n",
       "\\item 49\n",
       "\\item 45\n",
       "\\item 50\n",
       "\\item 60\n",
       "\\item 59\n",
       "\\item 61\n",
       "\\item 64\n",
       "\\item 35\n",
       "\\item 12\n",
       "\\item 19\n",
       "\\item 31\n",
       "\\item 9\n",
       "\\item 0\n",
       "\\item 33\n",
       "\\item 32\n",
       "\\item 20\n",
       "\\item 88\n",
       "\\item 53\n",
       "\\item 58\n",
       "\\item 69\n",
       "\\item 68\n",
       "\\item 48\n",
       "\\item 24\n",
       "\\item 27\n",
       "\\item 74\n",
       "\\item 56\n",
       "\\item 75\n",
       "\\item 17\n",
       "\\item 38\n",
       "\\item 55\n",
       "\\item 26\n",
       "\\item 23\n",
       "\\item 86\n",
       "\\item 81\n",
       "\\item 77\n",
       "\\item 7\n",
       "\\item 51\n",
       "\\item 13\n",
       "\\item 11\n",
       "\\item 82\n",
       "\\item 47\n",
       "\\item 46\n",
       "\\item 80\n",
       "\\item 21\n",
       "\\item 54\n",
       "\\item 78\n",
       "\\item 67\n",
       "\\item 22\n",
       "\\item 2\n",
       "\\item 76\n",
       "\\item 6\n",
       "\\item 71\n",
       "\\item 34\n",
       "\\item 10\n",
       "\\item 5\n",
       "\\item 65\n",
       "\\item 62\n",
       "\\item 63\n",
       "\\item 57\n",
       "\\item 52\n",
       "\\item 79\n",
       "\\item 83\n",
       "\\item 66\n",
       "\\item 25\n",
       "\\item 93\n",
       "\\item 8\n",
       "\\item 36\n",
       "\\item 41\n",
       "\\item 44\n",
       "\\item 84\n",
       "\\item 72\n",
       "\\item 73\n",
       "\\item 85\n",
       "\\item 89\n",
       "\\end{enumerate*}\n"
      ],
      "text/markdown": [
       "1. 43\n",
       "2. 42\n",
       "3. 16\n",
       "4. 14\n",
       "5. 29\n",
       "6. 40\n",
       "7. 15\n",
       "8. 28\n",
       "9. 30\n",
       "10. 4\n",
       "11. 1\n",
       "12. 18\n",
       "13. 37\n",
       "14. 39\n",
       "15. 3\n",
       "16. 87\n",
       "17. 70\n",
       "18. 49\n",
       "19. 45\n",
       "20. 50\n",
       "21. 60\n",
       "22. 59\n",
       "23. 61\n",
       "24. 64\n",
       "25. 35\n",
       "26. 12\n",
       "27. 19\n",
       "28. 31\n",
       "29. 9\n",
       "30. 0\n",
       "31. 33\n",
       "32. 32\n",
       "33. 20\n",
       "34. 88\n",
       "35. 53\n",
       "36. 58\n",
       "37. 69\n",
       "38. 68\n",
       "39. 48\n",
       "40. 24\n",
       "41. 27\n",
       "42. 74\n",
       "43. 56\n",
       "44. 75\n",
       "45. 17\n",
       "46. 38\n",
       "47. 55\n",
       "48. 26\n",
       "49. 23\n",
       "50. 86\n",
       "51. 81\n",
       "52. 77\n",
       "53. 7\n",
       "54. 51\n",
       "55. 13\n",
       "56. 11\n",
       "57. 82\n",
       "58. 47\n",
       "59. 46\n",
       "60. 80\n",
       "61. 21\n",
       "62. 54\n",
       "63. 78\n",
       "64. 67\n",
       "65. 22\n",
       "66. 2\n",
       "67. 76\n",
       "68. 6\n",
       "69. 71\n",
       "70. 34\n",
       "71. 10\n",
       "72. 5\n",
       "73. 65\n",
       "74. 62\n",
       "75. 63\n",
       "76. 57\n",
       "77. 52\n",
       "78. 79\n",
       "79. 83\n",
       "80. 66\n",
       "81. 25\n",
       "82. 93\n",
       "83. 8\n",
       "84. 36\n",
       "85. 41\n",
       "86. 44\n",
       "87. 84\n",
       "88. 72\n",
       "89. 73\n",
       "90. 85\n",
       "91. 89\n",
       "\n",
       "\n"
      ],
      "text/plain": [
       " [1] 43 42 16 14 29 40 15 28 30  4  1 18 37 39  3 87 70 49 45 50 60 59 61 64 35\n",
       "[26] 12 19 31  9  0 33 32 20 88 53 58 69 68 48 24 27 74 56 75 17 38 55 26 23 86\n",
       "[51] 81 77  7 51 13 11 82 47 46 80 21 54 78 67 22  2 76  6 71 34 10  5 65 62 63\n",
       "[76] 57 52 79 83 66 25 93  8 36 41 44 84 72 73 85 89"
      ]
     },
     "metadata": {},
     "output_type": "display_data"
    }
   ],
   "source": [
    "unique(acs$AGEP)"
   ]
  }
 ],
 "metadata": {
  "kernelspec": {
   "display_name": "R",
   "language": "R",
   "name": "ir"
  },
  "language_info": {
   "codemirror_mode": "r",
   "file_extension": ".r",
   "mimetype": "text/x-r-source",
   "name": "R",
   "pygments_lexer": "r",
   "version": "4.0.2"
  }
 },
 "nbformat": 4,
 "nbformat_minor": 4
}
