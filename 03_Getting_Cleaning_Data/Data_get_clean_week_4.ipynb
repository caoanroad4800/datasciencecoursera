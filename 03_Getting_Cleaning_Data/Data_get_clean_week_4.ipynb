{
 "cells": [
  {
   "cell_type": "markdown",
   "metadata": {},
   "source": [
    "## Editing Text Variables"
   ]
  },
  {
   "cell_type": "markdown",
   "metadata": {},
   "source": [
    "### Loading data"
   ]
  },
  {
   "cell_type": "code",
   "execution_count": 49,
   "metadata": {},
   "outputs": [
    {
     "name": "stderr",
     "output_type": "stream",
     "text": [
      "Warning message in dir.create(\"./data\"):\n",
      "“'./data' already exists”\n"
     ]
    }
   ],
   "source": [
    "if(!file.exists('.data')){dir.create(\"./data\")}\n",
    "fileUrl <- \"https://data.baltimorecity.gov/api/views/dz54-2aru/rows.csv?accessType=DOWNLOAD\"\n",
    "download.file(fileUrl, destfile = \"./data/cameras.csv\")\n",
    "cameraData <- read.csv(\"./data/cameras.csv\")"
   ]
  },
  {
   "cell_type": "code",
   "execution_count": 40,
   "metadata": {},
   "outputs": [
    {
     "data": {
      "text/html": [
       "<style>\n",
       ".list-inline {list-style: none; margin:0; padding: 0}\n",
       ".list-inline>li {display: inline-block}\n",
       ".list-inline>li:not(:last-child)::after {content: \"\\00b7\"; padding: 0 .5ex}\n",
       "</style>\n",
       "<ol class=list-inline><li>80</li><li>9</li></ol>\n"
      ],
      "text/latex": [
       "\\begin{enumerate*}\n",
       "\\item 80\n",
       "\\item 9\n",
       "\\end{enumerate*}\n"
      ],
      "text/markdown": [
       "1. 80\n",
       "2. 9\n",
       "\n",
       "\n"
      ],
      "text/plain": [
       "[1] 80  9"
      ]
     },
     "metadata": {},
     "output_type": "display_data"
    }
   ],
   "source": [
    "dim(cameraData)"
   ]
  },
  {
   "cell_type": "code",
   "execution_count": 41,
   "metadata": {},
   "outputs": [
    {
     "data": {
      "text/html": [
       "<style>\n",
       ".list-inline {list-style: none; margin:0; padding: 0}\n",
       ".list-inline>li {display: inline-block}\n",
       ".list-inline>li:not(:last-child)::after {content: \"\\00b7\"; padding: 0 .5ex}\n",
       "</style>\n",
       "<ol class=list-inline><li>'address'</li><li>'direction'</li><li>'street'</li><li>'crossStreet'</li><li>'intersection'</li><li>'Location.1'</li><li>'X2010.Census.Neighborhoods'</li><li>'X2010.Census.Wards.Precincts'</li><li>'Zip.Codes'</li></ol>\n"
      ],
      "text/latex": [
       "\\begin{enumerate*}\n",
       "\\item 'address'\n",
       "\\item 'direction'\n",
       "\\item 'street'\n",
       "\\item 'crossStreet'\n",
       "\\item 'intersection'\n",
       "\\item 'Location.1'\n",
       "\\item 'X2010.Census.Neighborhoods'\n",
       "\\item 'X2010.Census.Wards.Precincts'\n",
       "\\item 'Zip.Codes'\n",
       "\\end{enumerate*}\n"
      ],
      "text/markdown": [
       "1. 'address'\n",
       "2. 'direction'\n",
       "3. 'street'\n",
       "4. 'crossStreet'\n",
       "5. 'intersection'\n",
       "6. 'Location.1'\n",
       "7. 'X2010.Census.Neighborhoods'\n",
       "8. 'X2010.Census.Wards.Precincts'\n",
       "9. 'Zip.Codes'\n",
       "\n",
       "\n"
      ],
      "text/plain": [
       "[1] \"address\"                      \"direction\"                   \n",
       "[3] \"street\"                       \"crossStreet\"                 \n",
       "[5] \"intersection\"                 \"Location.1\"                  \n",
       "[7] \"X2010.Census.Neighborhoods\"   \"X2010.Census.Wards.Precincts\"\n",
       "[9] \"Zip.Codes\"                   "
      ]
     },
     "metadata": {},
     "output_type": "display_data"
    }
   ],
   "source": [
    "names(cameraData)"
   ]
  },
  {
   "cell_type": "code",
   "execution_count": 2,
   "metadata": {},
   "outputs": [
    {
     "data": {
      "text/html": [
       "<table>\n",
       "<caption>A data.frame: 6 × 9</caption>\n",
       "<thead>\n",
       "\t<tr><th></th><th scope=col>address</th><th scope=col>direction</th><th scope=col>street</th><th scope=col>crossStreet</th><th scope=col>intersection</th><th scope=col>Location.1</th><th scope=col>X2010.Census.Neighborhoods</th><th scope=col>X2010.Census.Wards.Precincts</th><th scope=col>Zip.Codes</th></tr>\n",
       "\t<tr><th></th><th scope=col>&lt;chr&gt;</th><th scope=col>&lt;chr&gt;</th><th scope=col>&lt;chr&gt;</th><th scope=col>&lt;chr&gt;</th><th scope=col>&lt;chr&gt;</th><th scope=col>&lt;chr&gt;</th><th scope=col>&lt;int&gt;</th><th scope=col>&lt;int&gt;</th><th scope=col>&lt;int&gt;</th></tr>\n",
       "</thead>\n",
       "<tbody>\n",
       "\t<tr><th scope=row>1</th><td><span style=white-space:pre-wrap>GARRISON BLVD &amp; WABASH AVE               </span></td><td>E/B</td><td><span style=white-space:pre-wrap>Garrison \n",
       "    </span></td><td><span style=white-space:pre-wrap>Wabash Ave    </span></td><td><span style=white-space:pre-wrap>Garrison \n",
       " &amp; Wabash Ave    </span></td><td>(39.341209, -76.683117)</td><td>252</td><td> 63</td><td>27295</td></tr>\n",
       "\t<tr><th scope=row>2</th><td><span style=white-space:pre-wrap>HILLEN ST &amp; FORREST ST                   </span></td><td>W/B</td><td><span style=white-space:pre-wrap>Hillen \n",
       "      </span></td><td><span style=white-space:pre-wrap>Forrest St    </span></td><td><span style=white-space:pre-wrap>Hillen \n",
       " &amp; Forrest St      </span></td><td>(39.29686, -76.605532) </td><td>179</td><td>108</td><td>13645</td></tr>\n",
       "\t<tr><th scope=row>3</th><td><span style=white-space:pre-wrap>EDMONDSON AVE &amp; N ATHOL AVE              </span></td><td>E/B</td><td><span style=white-space:pre-wrap>Edmonson\n",
       "     </span></td><td>Woodbridge Ave</td><td><span style=white-space:pre-wrap>Edmonson\n",
       "  &amp; Woodbridge Ave</span></td><td>(39.293453, -76.689391)</td><td>213</td><td> 75</td><td>27950</td></tr>\n",
       "\t<tr><th scope=row>4</th><td><span style=white-space:pre-wrap>YORK RD &amp; GITTINGS AVE                   </span></td><td>S/B</td><td><span style=white-space:pre-wrap>York Rd \n",
       "     </span></td><td><span style=white-space:pre-wrap>Gitting Ave   </span></td><td><span style=white-space:pre-wrap>York Rd \n",
       " &amp; Gitting Ave    </span></td><td>(39.370493, -76.609812)</td><td> 37</td><td>270</td><td>14009</td></tr>\n",
       "\t<tr><th scope=row>5</th><td><span style=white-space:pre-wrap>RUSSELL ST &amp; W HAMBURG ST                </span></td><td>S/B</td><td><span style=white-space:pre-wrap>Russell\n",
       "      </span></td><td><span style=white-space:pre-wrap>Hamburg St    </span></td><td><span style=white-space:pre-wrap>Russell\n",
       "  &amp; Hamburg St     </span></td><td>(39.279819, -76.623911)</td><td>250</td><td>178</td><td>27953</td></tr>\n",
       "\t<tr><th scope=row>6</th><td>S MARTIN LUTHER KING JR BLVD &amp; W PRATT ST</td><td>S/B</td><td>MLK Jr. Blvd \n",
       "</td><td><span style=white-space:pre-wrap>Pratt St      </span></td><td><span style=white-space:pre-wrap>MLK Jr. Blvd \n",
       " &amp; Pratt St  </span></td><td>(39.286027, -76.627846)</td><td> 11</td><td>168</td><td>27953</td></tr>\n",
       "</tbody>\n",
       "</table>\n"
      ],
      "text/latex": [
       "A data.frame: 6 × 9\n",
       "\\begin{tabular}{r|lllllllll}\n",
       "  & address & direction & street & crossStreet & intersection & Location.1 & X2010.Census.Neighborhoods & X2010.Census.Wards.Precincts & Zip.Codes\\\\\n",
       "  & <chr> & <chr> & <chr> & <chr> & <chr> & <chr> & <int> & <int> & <int>\\\\\n",
       "\\hline\n",
       "\t1 & GARRISON BLVD \\& WABASH AVE                & E/B & Garrison \n",
       "     & Wabash Ave     & Garrison \n",
       " \\& Wabash Ave     & (39.341209, -76.683117) & 252 &  63 & 27295\\\\\n",
       "\t2 & HILLEN ST \\& FORREST ST                    & W/B & Hillen \n",
       "       & Forrest St     & Hillen \n",
       " \\& Forrest St       & (39.29686, -76.605532)  & 179 & 108 & 13645\\\\\n",
       "\t3 & EDMONDSON AVE \\& N ATHOL AVE               & E/B & Edmonson\n",
       "      & Woodbridge Ave & Edmonson\n",
       "  \\& Woodbridge Ave & (39.293453, -76.689391) & 213 &  75 & 27950\\\\\n",
       "\t4 & YORK RD \\& GITTINGS AVE                    & S/B & York Rd \n",
       "      & Gitting Ave    & York Rd \n",
       " \\& Gitting Ave     & (39.370493, -76.609812) &  37 & 270 & 14009\\\\\n",
       "\t5 & RUSSELL ST \\& W HAMBURG ST                 & S/B & Russell\n",
       "       & Hamburg St     & Russell\n",
       "  \\& Hamburg St      & (39.279819, -76.623911) & 250 & 178 & 27953\\\\\n",
       "\t6 & S MARTIN LUTHER KING JR BLVD \\& W PRATT ST & S/B & MLK Jr. Blvd \n",
       " & Pratt St       & MLK Jr. Blvd \n",
       " \\& Pratt St   & (39.286027, -76.627846) &  11 & 168 & 27953\\\\\n",
       "\\end{tabular}\n"
      ],
      "text/markdown": [
       "\n",
       "A data.frame: 6 × 9\n",
       "\n",
       "| <!--/--> | address &lt;chr&gt; | direction &lt;chr&gt; | street &lt;chr&gt; | crossStreet &lt;chr&gt; | intersection &lt;chr&gt; | Location.1 &lt;chr&gt; | X2010.Census.Neighborhoods &lt;int&gt; | X2010.Census.Wards.Precincts &lt;int&gt; | Zip.Codes &lt;int&gt; |\n",
       "|---|---|---|---|---|---|---|---|---|---|\n",
       "| 1 | GARRISON BLVD &amp; WABASH AVE                | E/B | Garrison \n",
       "     | Wabash Ave     | Garrison \n",
       " &amp; Wabash Ave     | (39.341209, -76.683117) | 252 |  63 | 27295 |\n",
       "| 2 | HILLEN ST &amp; FORREST ST                    | W/B | Hillen \n",
       "       | Forrest St     | Hillen \n",
       " &amp; Forrest St       | (39.29686, -76.605532)  | 179 | 108 | 13645 |\n",
       "| 3 | EDMONDSON AVE &amp; N ATHOL AVE               | E/B | Edmonson\n",
       "      | Woodbridge Ave | Edmonson\n",
       "  &amp; Woodbridge Ave | (39.293453, -76.689391) | 213 |  75 | 27950 |\n",
       "| 4 | YORK RD &amp; GITTINGS AVE                    | S/B | York Rd \n",
       "      | Gitting Ave    | York Rd \n",
       " &amp; Gitting Ave     | (39.370493, -76.609812) |  37 | 270 | 14009 |\n",
       "| 5 | RUSSELL ST &amp; W HAMBURG ST                 | S/B | Russell\n",
       "       | Hamburg St     | Russell\n",
       "  &amp; Hamburg St      | (39.279819, -76.623911) | 250 | 178 | 27953 |\n",
       "| 6 | S MARTIN LUTHER KING JR BLVD &amp; W PRATT ST | S/B | MLK Jr. Blvd \n",
       " | Pratt St       | MLK Jr. Blvd \n",
       " &amp; Pratt St   | (39.286027, -76.627846) |  11 | 168 | 27953 |\n",
       "\n"
      ],
      "text/plain": [
       "  address                                   direction street         \n",
       "1 GARRISON BLVD & WABASH AVE                E/B       Garrison \\n    \n",
       "2 HILLEN ST & FORREST ST                    W/B       Hillen \\n      \n",
       "3 EDMONDSON AVE & N ATHOL AVE               E/B       Edmonson\\n     \n",
       "4 YORK RD & GITTINGS AVE                    S/B       York Rd \\n     \n",
       "5 RUSSELL ST & W HAMBURG ST                 S/B       Russell\\n      \n",
       "6 S MARTIN LUTHER KING JR BLVD & W PRATT ST S/B       MLK Jr. Blvd \\n\n",
       "  crossStreet    intersection                 Location.1             \n",
       "1 Wabash Ave     Garrison \\n & Wabash Ave     (39.341209, -76.683117)\n",
       "2 Forrest St     Hillen \\n & Forrest St       (39.29686, -76.605532) \n",
       "3 Woodbridge Ave Edmonson\\n  & Woodbridge Ave (39.293453, -76.689391)\n",
       "4 Gitting Ave    York Rd \\n & Gitting Ave     (39.370493, -76.609812)\n",
       "5 Hamburg St     Russell\\n  & Hamburg St      (39.279819, -76.623911)\n",
       "6 Pratt St       MLK Jr. Blvd \\n & Pratt St   (39.286027, -76.627846)\n",
       "  X2010.Census.Neighborhoods X2010.Census.Wards.Precincts Zip.Codes\n",
       "1 252                         63                          27295    \n",
       "2 179                        108                          13645    \n",
       "3 213                         75                          27950    \n",
       "4  37                        270                          14009    \n",
       "5 250                        178                          27953    \n",
       "6  11                        168                          27953    "
      ]
     },
     "metadata": {},
     "output_type": "display_data"
    }
   ],
   "source": [
    "head(cameraData)"
   ]
  },
  {
   "cell_type": "code",
   "execution_count": 5,
   "metadata": {},
   "outputs": [
    {
     "data": {
      "text/html": [
       "<style>\n",
       ".list-inline {list-style: none; margin:0; padding: 0}\n",
       ".list-inline>li {display: inline-block}\n",
       ".list-inline>li:not(:last-child)::after {content: \"\\00b7\"; padding: 0 .5ex}\n",
       "</style>\n",
       "<ol class=list-inline><li>'address'</li><li>'direction'</li><li>'street'</li><li>'crossstreet'</li><li>'intersection'</li><li>'location.1'</li><li>'x2010.census.neighborhoods'</li><li>'x2010.census.wards.precincts'</li><li>'zip.codes'</li></ol>\n"
      ],
      "text/latex": [
       "\\begin{enumerate*}\n",
       "\\item 'address'\n",
       "\\item 'direction'\n",
       "\\item 'street'\n",
       "\\item 'crossstreet'\n",
       "\\item 'intersection'\n",
       "\\item 'location.1'\n",
       "\\item 'x2010.census.neighborhoods'\n",
       "\\item 'x2010.census.wards.precincts'\n",
       "\\item 'zip.codes'\n",
       "\\end{enumerate*}\n"
      ],
      "text/markdown": [
       "1. 'address'\n",
       "2. 'direction'\n",
       "3. 'street'\n",
       "4. 'crossstreet'\n",
       "5. 'intersection'\n",
       "6. 'location.1'\n",
       "7. 'x2010.census.neighborhoods'\n",
       "8. 'x2010.census.wards.precincts'\n",
       "9. 'zip.codes'\n",
       "\n",
       "\n"
      ],
      "text/plain": [
       "[1] \"address\"                      \"direction\"                   \n",
       "[3] \"street\"                       \"crossstreet\"                 \n",
       "[5] \"intersection\"                 \"location.1\"                  \n",
       "[7] \"x2010.census.neighborhoods\"   \"x2010.census.wards.precincts\"\n",
       "[9] \"zip.codes\"                   "
      ]
     },
     "metadata": {},
     "output_type": "display_data"
    }
   ],
   "source": [
    "tolower(names(cameraData))"
   ]
  },
  {
   "cell_type": "markdown",
   "metadata": {},
   "source": [
    "### fixiting character vectors - strsplit()"
   ]
  },
  {
   "cell_type": "code",
   "execution_count": 12,
   "metadata": {},
   "outputs": [
    {
     "data": {
      "text/html": [
       "'Location.1'"
      ],
      "text/latex": [
       "'Location.1'"
      ],
      "text/markdown": [
       "'Location.1'"
      ],
      "text/plain": [
       "[1] \"Location.1\""
      ]
     },
     "metadata": {},
     "output_type": "display_data"
    }
   ],
   "source": [
    "names(cameraData)[6]"
   ]
  },
  {
   "cell_type": "markdown",
   "metadata": {},
   "source": [
    "能见到它的格式是`Location.1`，我们可以利用`strsplit()`对它作拆分"
   ]
  },
  {
   "cell_type": "code",
   "execution_count": 7,
   "metadata": {},
   "outputs": [],
   "source": [
    "splitNames = strsplit(names(cameraData), \"\\\\.\")"
   ]
  },
  {
   "cell_type": "code",
   "execution_count": 10,
   "metadata": {},
   "outputs": [
    {
     "data": {
      "text/html": [
       "'intersection'"
      ],
      "text/latex": [
       "'intersection'"
      ],
      "text/markdown": [
       "'intersection'"
      ],
      "text/plain": [
       "[1] \"intersection\""
      ]
     },
     "metadata": {},
     "output_type": "display_data"
    }
   ],
   "source": [
    "splitNames[[5]]"
   ]
  },
  {
   "cell_type": "code",
   "execution_count": 11,
   "metadata": {},
   "outputs": [
    {
     "data": {
      "text/html": [
       "<style>\n",
       ".list-inline {list-style: none; margin:0; padding: 0}\n",
       ".list-inline>li {display: inline-block}\n",
       ".list-inline>li:not(:last-child)::after {content: \"\\00b7\"; padding: 0 .5ex}\n",
       "</style>\n",
       "<ol class=list-inline><li>'Location'</li><li>'1'</li></ol>\n"
      ],
      "text/latex": [
       "\\begin{enumerate*}\n",
       "\\item 'Location'\n",
       "\\item '1'\n",
       "\\end{enumerate*}\n"
      ],
      "text/markdown": [
       "1. 'Location'\n",
       "2. '1'\n",
       "\n",
       "\n"
      ],
      "text/plain": [
       "[1] \"Location\" \"1\"       "
      ]
     },
     "metadata": {},
     "output_type": "display_data"
    }
   ],
   "source": [
    "splitNames[[6]]"
   ]
  },
  {
   "cell_type": "markdown",
   "metadata": {},
   "source": [
    "### Quick aside - lists"
   ]
  },
  {
   "cell_type": "code",
   "execution_count": 22,
   "metadata": {},
   "outputs": [],
   "source": [
    "mylist <- list(letters = c('a','b','c'), numbers = 1:3, matrix(1:25, ncol=5))"
   ]
  },
  {
   "cell_type": "code",
   "execution_count": 23,
   "metadata": {},
   "outputs": [
    {
     "data": {
      "text/html": [
       "<dl>\n",
       "\t<dt>$letters</dt>\n",
       "\t\t<dd><style>\n",
       ".list-inline {list-style: none; margin:0; padding: 0}\n",
       ".list-inline>li {display: inline-block}\n",
       ".list-inline>li:not(:last-child)::after {content: \"\\00b7\"; padding: 0 .5ex}\n",
       "</style>\n",
       "<ol class=list-inline><li>'a'</li><li>'b'</li><li>'c'</li></ol>\n",
       "</dd>\n",
       "\t<dt>$numbers</dt>\n",
       "\t\t<dd><style>\n",
       ".list-inline {list-style: none; margin:0; padding: 0}\n",
       ".list-inline>li {display: inline-block}\n",
       ".list-inline>li:not(:last-child)::after {content: \"\\00b7\"; padding: 0 .5ex}\n",
       "</style>\n",
       "<ol class=list-inline><li>1</li><li>2</li><li>3</li></ol>\n",
       "</dd>\n",
       "\t<dt>[[3]]</dt>\n",
       "\t\t<dd><table>\n",
       "<caption>A matrix: 5 × 5 of type int</caption>\n",
       "<tbody>\n",
       "\t<tr><td>1</td><td> 6</td><td>11</td><td>16</td><td>21</td></tr>\n",
       "\t<tr><td>2</td><td> 7</td><td>12</td><td>17</td><td>22</td></tr>\n",
       "\t<tr><td>3</td><td> 8</td><td>13</td><td>18</td><td>23</td></tr>\n",
       "\t<tr><td>4</td><td> 9</td><td>14</td><td>19</td><td>24</td></tr>\n",
       "\t<tr><td>5</td><td>10</td><td>15</td><td>20</td><td>25</td></tr>\n",
       "</tbody>\n",
       "</table>\n",
       "</dd>\n",
       "</dl>\n"
      ],
      "text/latex": [
       "\\begin{description}\n",
       "\\item[\\$letters] \\begin{enumerate*}\n",
       "\\item 'a'\n",
       "\\item 'b'\n",
       "\\item 'c'\n",
       "\\end{enumerate*}\n",
       "\n",
       "\\item[\\$numbers] \\begin{enumerate*}\n",
       "\\item 1\n",
       "\\item 2\n",
       "\\item 3\n",
       "\\end{enumerate*}\n",
       "\n",
       "\\item[{[[3]]}] A matrix: 5 × 5 of type int\n",
       "\\begin{tabular}{lllll}\n",
       "\t 1 &  6 & 11 & 16 & 21\\\\\n",
       "\t 2 &  7 & 12 & 17 & 22\\\\\n",
       "\t 3 &  8 & 13 & 18 & 23\\\\\n",
       "\t 4 &  9 & 14 & 19 & 24\\\\\n",
       "\t 5 & 10 & 15 & 20 & 25\\\\\n",
       "\\end{tabular}\n",
       "\n",
       "\\end{description}\n"
      ],
      "text/markdown": [
       "$letters\n",
       ":   1. 'a'\n",
       "2. 'b'\n",
       "3. 'c'\n",
       "\n",
       "\n",
       "\n",
       "$numbers\n",
       ":   1. 1\n",
       "2. 2\n",
       "3. 3\n",
       "\n",
       "\n",
       "\n",
       "[[3]]\n",
       ":   \n",
       "A matrix: 5 × 5 of type int\n",
       "\n",
       "| 1 |  6 | 11 | 16 | 21 |\n",
       "| 2 |  7 | 12 | 17 | 22 |\n",
       "| 3 |  8 | 13 | 18 | 23 |\n",
       "| 4 |  9 | 14 | 19 | 24 |\n",
       "| 5 | 10 | 15 | 20 | 25 |\n",
       "\n",
       "\n",
       "\n",
       "\n"
      ],
      "text/plain": [
       "$letters\n",
       "[1] \"a\" \"b\" \"c\"\n",
       "\n",
       "$numbers\n",
       "[1] 1 2 3\n",
       "\n",
       "[[3]]\n",
       "     [,1] [,2] [,3] [,4] [,5]\n",
       "[1,]    1    6   11   16   21\n",
       "[2,]    2    7   12   17   22\n",
       "[3,]    3    8   13   18   23\n",
       "[4,]    4    9   14   19   24\n",
       "[5,]    5   10   15   20   25\n"
      ]
     },
     "metadata": {},
     "output_type": "display_data"
    }
   ],
   "source": [
    "head(mylist)"
   ]
  },
  {
   "cell_type": "code",
   "execution_count": 24,
   "metadata": {},
   "outputs": [
    {
     "data": {
      "text/html": [
       "<strong>$letters</strong> = <style>\n",
       ".list-inline {list-style: none; margin:0; padding: 0}\n",
       ".list-inline>li {display: inline-block}\n",
       ".list-inline>li:not(:last-child)::after {content: \"\\00b7\"; padding: 0 .5ex}\n",
       "</style>\n",
       "<ol class=list-inline><li>'a'</li><li>'b'</li><li>'c'</li></ol>\n"
      ],
      "text/latex": [
       "\\textbf{\\$letters} = \\begin{enumerate*}\n",
       "\\item 'a'\n",
       "\\item 'b'\n",
       "\\item 'c'\n",
       "\\end{enumerate*}\n"
      ],
      "text/markdown": [
       "**$letters** = 1. 'a'\n",
       "2. 'b'\n",
       "3. 'c'\n",
       "\n",
       "\n"
      ],
      "text/plain": [
       "$letters\n",
       "[1] \"a\" \"b\" \"c\"\n"
      ]
     },
     "metadata": {},
     "output_type": "display_data"
    }
   ],
   "source": [
    "mylist[1]"
   ]
  },
  {
   "cell_type": "code",
   "execution_count": 25,
   "metadata": {},
   "outputs": [
    {
     "data": {
      "text/html": [
       "<style>\n",
       ".list-inline {list-style: none; margin:0; padding: 0}\n",
       ".list-inline>li {display: inline-block}\n",
       ".list-inline>li:not(:last-child)::after {content: \"\\00b7\"; padding: 0 .5ex}\n",
       "</style>\n",
       "<ol class=list-inline><li>'a'</li><li>'b'</li><li>'c'</li></ol>\n"
      ],
      "text/latex": [
       "\\begin{enumerate*}\n",
       "\\item 'a'\n",
       "\\item 'b'\n",
       "\\item 'c'\n",
       "\\end{enumerate*}\n"
      ],
      "text/markdown": [
       "1. 'a'\n",
       "2. 'b'\n",
       "3. 'c'\n",
       "\n",
       "\n"
      ],
      "text/plain": [
       "[1] \"a\" \"b\" \"c\""
      ]
     },
     "metadata": {},
     "output_type": "display_data"
    }
   ],
   "source": [
    "mylist$letters"
   ]
  },
  {
   "cell_type": "code",
   "execution_count": 26,
   "metadata": {},
   "outputs": [
    {
     "data": {
      "text/html": [
       "<style>\n",
       ".list-inline {list-style: none; margin:0; padding: 0}\n",
       ".list-inline>li {display: inline-block}\n",
       ".list-inline>li:not(:last-child)::after {content: \"\\00b7\"; padding: 0 .5ex}\n",
       "</style>\n",
       "<ol class=list-inline><li>'a'</li><li>'b'</li><li>'c'</li></ol>\n"
      ],
      "text/latex": [
       "\\begin{enumerate*}\n",
       "\\item 'a'\n",
       "\\item 'b'\n",
       "\\item 'c'\n",
       "\\end{enumerate*}\n"
      ],
      "text/markdown": [
       "1. 'a'\n",
       "2. 'b'\n",
       "3. 'c'\n",
       "\n",
       "\n"
      ],
      "text/plain": [
       "[1] \"a\" \"b\" \"c\""
      ]
     },
     "metadata": {},
     "output_type": "display_data"
    }
   ],
   "source": [
    "mylist[[1]]"
   ]
  },
  {
   "cell_type": "markdown",
   "metadata": {},
   "source": [
    "### Fixing character vectors - sapply()\n",
    "\n",
    "- Applies a function to each element in a vector or list\n",
    "- Important parameters: `X`, `FUN`"
   ]
  },
  {
   "cell_type": "code",
   "execution_count": 27,
   "metadata": {},
   "outputs": [
    {
     "data": {
      "text/html": [
       "'Location'"
      ],
      "text/latex": [
       "'Location'"
      ],
      "text/markdown": [
       "'Location'"
      ],
      "text/plain": [
       "[1] \"Location\""
      ]
     },
     "metadata": {},
     "output_type": "display_data"
    }
   ],
   "source": [
    "splitNames[[6]][1]"
   ]
  },
  {
   "cell_type": "code",
   "execution_count": 28,
   "metadata": {},
   "outputs": [
    {
     "data": {
      "text/html": [
       "<style>\n",
       ".list-inline {list-style: none; margin:0; padding: 0}\n",
       ".list-inline>li {display: inline-block}\n",
       ".list-inline>li:not(:last-child)::after {content: \"\\00b7\"; padding: 0 .5ex}\n",
       "</style>\n",
       "<ol class=list-inline><li>'address'</li><li>'direction'</li><li>'street'</li><li>'crossStreet'</li><li>'intersection'</li><li>'Location'</li><li>'X2010'</li><li>'X2010'</li><li>'Zip'</li></ol>\n"
      ],
      "text/latex": [
       "\\begin{enumerate*}\n",
       "\\item 'address'\n",
       "\\item 'direction'\n",
       "\\item 'street'\n",
       "\\item 'crossStreet'\n",
       "\\item 'intersection'\n",
       "\\item 'Location'\n",
       "\\item 'X2010'\n",
       "\\item 'X2010'\n",
       "\\item 'Zip'\n",
       "\\end{enumerate*}\n"
      ],
      "text/markdown": [
       "1. 'address'\n",
       "2. 'direction'\n",
       "3. 'street'\n",
       "4. 'crossStreet'\n",
       "5. 'intersection'\n",
       "6. 'Location'\n",
       "7. 'X2010'\n",
       "8. 'X2010'\n",
       "9. 'Zip'\n",
       "\n",
       "\n"
      ],
      "text/plain": [
       "[1] \"address\"      \"direction\"    \"street\"       \"crossStreet\"  \"intersection\"\n",
       "[6] \"Location\"     \"X2010\"        \"X2010\"        \"Zip\"         "
      ]
     },
     "metadata": {},
     "output_type": "display_data"
    }
   ],
   "source": [
    "firstElement <- function(x){x[1]}\n",
    "sapply(splitNames, firstElement)"
   ]
  },
  {
   "cell_type": "code",
   "execution_count": 29,
   "metadata": {},
   "outputs": [],
   "source": [
    "reviews <- read.csv(\"./data/reviews.csv\")\n",
    "solutions <- read.csv(\"./data/solutions.csv\")"
   ]
  },
  {
   "cell_type": "code",
   "execution_count": 30,
   "metadata": {},
   "outputs": [
    {
     "data": {
      "text/html": [
       "<table>\n",
       "<caption>A data.frame: 2 × 7</caption>\n",
       "<thead>\n",
       "\t<tr><th></th><th scope=col>id</th><th scope=col>solution_id</th><th scope=col>reviewer_id</th><th scope=col>start</th><th scope=col>stop</th><th scope=col>time_left</th><th scope=col>accept</th></tr>\n",
       "\t<tr><th></th><th scope=col>&lt;int&gt;</th><th scope=col>&lt;int&gt;</th><th scope=col>&lt;int&gt;</th><th scope=col>&lt;int&gt;</th><th scope=col>&lt;int&gt;</th><th scope=col>&lt;int&gt;</th><th scope=col>&lt;int&gt;</th></tr>\n",
       "</thead>\n",
       "<tbody>\n",
       "\t<tr><th scope=row>1</th><td>1</td><td>3</td><td>27</td><td>1304095698</td><td>1304095758</td><td>1754</td><td>1</td></tr>\n",
       "\t<tr><th scope=row>2</th><td>2</td><td>4</td><td>22</td><td>1304095188</td><td>1304095206</td><td>2306</td><td>1</td></tr>\n",
       "</tbody>\n",
       "</table>\n"
      ],
      "text/latex": [
       "A data.frame: 2 × 7\n",
       "\\begin{tabular}{r|lllllll}\n",
       "  & id & solution\\_id & reviewer\\_id & start & stop & time\\_left & accept\\\\\n",
       "  & <int> & <int> & <int> & <int> & <int> & <int> & <int>\\\\\n",
       "\\hline\n",
       "\t1 & 1 & 3 & 27 & 1304095698 & 1304095758 & 1754 & 1\\\\\n",
       "\t2 & 2 & 4 & 22 & 1304095188 & 1304095206 & 2306 & 1\\\\\n",
       "\\end{tabular}\n"
      ],
      "text/markdown": [
       "\n",
       "A data.frame: 2 × 7\n",
       "\n",
       "| <!--/--> | id &lt;int&gt; | solution_id &lt;int&gt; | reviewer_id &lt;int&gt; | start &lt;int&gt; | stop &lt;int&gt; | time_left &lt;int&gt; | accept &lt;int&gt; |\n",
       "|---|---|---|---|---|---|---|---|\n",
       "| 1 | 1 | 3 | 27 | 1304095698 | 1304095758 | 1754 | 1 |\n",
       "| 2 | 2 | 4 | 22 | 1304095188 | 1304095206 | 2306 | 1 |\n",
       "\n"
      ],
      "text/plain": [
       "  id solution_id reviewer_id start      stop       time_left accept\n",
       "1 1  3           27          1304095698 1304095758 1754      1     \n",
       "2 2  4           22          1304095188 1304095206 2306      1     "
      ]
     },
     "metadata": {},
     "output_type": "display_data"
    }
   ],
   "source": [
    "head(reviews,2)"
   ]
  },
  {
   "cell_type": "code",
   "execution_count": 31,
   "metadata": {},
   "outputs": [
    {
     "data": {
      "text/html": [
       "<table>\n",
       "<caption>A data.frame: 2 × 7</caption>\n",
       "<thead>\n",
       "\t<tr><th></th><th scope=col>id</th><th scope=col>problem_id</th><th scope=col>subject_id</th><th scope=col>start</th><th scope=col>stop</th><th scope=col>time_left</th><th scope=col>answer</th></tr>\n",
       "\t<tr><th></th><th scope=col>&lt;int&gt;</th><th scope=col>&lt;int&gt;</th><th scope=col>&lt;int&gt;</th><th scope=col>&lt;int&gt;</th><th scope=col>&lt;int&gt;</th><th scope=col>&lt;int&gt;</th><th scope=col>&lt;chr&gt;</th></tr>\n",
       "</thead>\n",
       "<tbody>\n",
       "\t<tr><th scope=row>1</th><td>1</td><td>156</td><td>29</td><td>1304095119</td><td>1304095169</td><td>2343</td><td>B</td></tr>\n",
       "\t<tr><th scope=row>2</th><td>2</td><td>269</td><td>25</td><td>1304095119</td><td>1304095183</td><td>2329</td><td>C</td></tr>\n",
       "</tbody>\n",
       "</table>\n"
      ],
      "text/latex": [
       "A data.frame: 2 × 7\n",
       "\\begin{tabular}{r|lllllll}\n",
       "  & id & problem\\_id & subject\\_id & start & stop & time\\_left & answer\\\\\n",
       "  & <int> & <int> & <int> & <int> & <int> & <int> & <chr>\\\\\n",
       "\\hline\n",
       "\t1 & 1 & 156 & 29 & 1304095119 & 1304095169 & 2343 & B\\\\\n",
       "\t2 & 2 & 269 & 25 & 1304095119 & 1304095183 & 2329 & C\\\\\n",
       "\\end{tabular}\n"
      ],
      "text/markdown": [
       "\n",
       "A data.frame: 2 × 7\n",
       "\n",
       "| <!--/--> | id &lt;int&gt; | problem_id &lt;int&gt; | subject_id &lt;int&gt; | start &lt;int&gt; | stop &lt;int&gt; | time_left &lt;int&gt; | answer &lt;chr&gt; |\n",
       "|---|---|---|---|---|---|---|---|\n",
       "| 1 | 1 | 156 | 29 | 1304095119 | 1304095169 | 2343 | B |\n",
       "| 2 | 2 | 269 | 25 | 1304095119 | 1304095183 | 2329 | C |\n",
       "\n"
      ],
      "text/plain": [
       "  id problem_id subject_id start      stop       time_left answer\n",
       "1 1  156        29         1304095119 1304095169 2343      B     \n",
       "2 2  269        25         1304095119 1304095183 2329      C     "
      ]
     },
     "metadata": {},
     "output_type": "display_data"
    }
   ],
   "source": [
    "head(solutions, 2)"
   ]
  },
  {
   "cell_type": "code",
   "execution_count": 32,
   "metadata": {},
   "outputs": [
    {
     "data": {
      "text/html": [
       "<style>\n",
       ".list-inline {list-style: none; margin:0; padding: 0}\n",
       ".list-inline>li {display: inline-block}\n",
       ".list-inline>li:not(:last-child)::after {content: \"\\00b7\"; padding: 0 .5ex}\n",
       "</style>\n",
       "<ol class=list-inline><li>'id'</li><li>'solution_id'</li><li>'reviewer_id'</li><li>'start'</li><li>'stop'</li><li>'time_left'</li><li>'accept'</li></ol>\n"
      ],
      "text/latex": [
       "\\begin{enumerate*}\n",
       "\\item 'id'\n",
       "\\item 'solution\\_id'\n",
       "\\item 'reviewer\\_id'\n",
       "\\item 'start'\n",
       "\\item 'stop'\n",
       "\\item 'time\\_left'\n",
       "\\item 'accept'\n",
       "\\end{enumerate*}\n"
      ],
      "text/markdown": [
       "1. 'id'\n",
       "2. 'solution_id'\n",
       "3. 'reviewer_id'\n",
       "4. 'start'\n",
       "5. 'stop'\n",
       "6. 'time_left'\n",
       "7. 'accept'\n",
       "\n",
       "\n"
      ],
      "text/plain": [
       "[1] \"id\"          \"solution_id\" \"reviewer_id\" \"start\"       \"stop\"       \n",
       "[6] \"time_left\"   \"accept\"     "
      ]
     },
     "metadata": {},
     "output_type": "display_data"
    }
   ],
   "source": [
    "names(reviews)"
   ]
  },
  {
   "cell_type": "markdown",
   "metadata": {},
   "source": [
    "用`sub()`命令去掉文本中的下横线`_`"
   ]
  },
  {
   "cell_type": "code",
   "execution_count": 33,
   "metadata": {},
   "outputs": [
    {
     "data": {
      "text/html": [
       "<style>\n",
       ".list-inline {list-style: none; margin:0; padding: 0}\n",
       ".list-inline>li {display: inline-block}\n",
       ".list-inline>li:not(:last-child)::after {content: \"\\00b7\"; padding: 0 .5ex}\n",
       "</style>\n",
       "<ol class=list-inline><li>'id'</li><li>'solutionid'</li><li>'reviewerid'</li><li>'start'</li><li>'stop'</li><li>'timeleft'</li><li>'accept'</li></ol>\n"
      ],
      "text/latex": [
       "\\begin{enumerate*}\n",
       "\\item 'id'\n",
       "\\item 'solutionid'\n",
       "\\item 'reviewerid'\n",
       "\\item 'start'\n",
       "\\item 'stop'\n",
       "\\item 'timeleft'\n",
       "\\item 'accept'\n",
       "\\end{enumerate*}\n"
      ],
      "text/markdown": [
       "1. 'id'\n",
       "2. 'solutionid'\n",
       "3. 'reviewerid'\n",
       "4. 'start'\n",
       "5. 'stop'\n",
       "6. 'timeleft'\n",
       "7. 'accept'\n",
       "\n",
       "\n"
      ],
      "text/plain": [
       "[1] \"id\"         \"solutionid\" \"reviewerid\" \"start\"      \"stop\"      \n",
       "[6] \"timeleft\"   \"accept\"    "
      ]
     },
     "metadata": {},
     "output_type": "display_data"
    }
   ],
   "source": [
    "sub(\"_\", \"\", names(reviews),)"
   ]
  },
  {
   "cell_type": "markdown",
   "metadata": {},
   "source": [
    "`sub()`删除掉文本中的第1个下横线，而保留随后的第2,3...N个下横线"
   ]
  },
  {
   "cell_type": "code",
   "execution_count": 34,
   "metadata": {},
   "outputs": [
    {
     "data": {
      "text/html": [
       "'thisis_a_test'"
      ],
      "text/latex": [
       "'thisis\\_a\\_test'"
      ],
      "text/markdown": [
       "'thisis_a_test'"
      ],
      "text/plain": [
       "[1] \"thisis_a_test\""
      ]
     },
     "metadata": {},
     "output_type": "display_data"
    }
   ],
   "source": [
    "testName <- \"this_is_a_test\"\n",
    "sub(\"_\", \"\", testName)"
   ]
  },
  {
   "cell_type": "markdown",
   "metadata": {},
   "source": [
    "用`gsub()`删除文本中的全部N个下横线"
   ]
  },
  {
   "cell_type": "code",
   "execution_count": 35,
   "metadata": {},
   "outputs": [
    {
     "data": {
      "text/html": [
       "'thisisatest'"
      ],
      "text/latex": [
       "'thisisatest'"
      ],
      "text/markdown": [
       "'thisisatest'"
      ],
      "text/plain": [
       "[1] \"thisisatest\""
      ]
     },
     "metadata": {},
     "output_type": "display_data"
    }
   ],
   "source": [
    "gsub(\"_\",\"\",testName)"
   ]
  },
  {
   "cell_type": "code",
   "execution_count": 36,
   "metadata": {},
   "outputs": [
    {
     "data": {
      "text/html": [
       "'this.is.a.test'"
      ],
      "text/latex": [
       "'this.is.a.test'"
      ],
      "text/markdown": [
       "'this.is.a.test'"
      ],
      "text/plain": [
       "[1] \"this.is.a.test\""
      ]
     },
     "metadata": {},
     "output_type": "display_data"
    }
   ],
   "source": [
    "gsub(\"_\",\".\",testName)"
   ]
  },
  {
   "cell_type": "markdown",
   "metadata": {},
   "source": [
    "### Finding values - grep(), grepl()"
   ]
  },
  {
   "cell_type": "code",
   "execution_count": 43,
   "metadata": {},
   "outputs": [
    {
     "data": {
      "text/html": [
       "<style>\n",
       ".list-inline {list-style: none; margin:0; padding: 0}\n",
       ".list-inline>li {display: inline-block}\n",
       ".list-inline>li:not(:last-child)::after {content: \"\\00b7\"; padding: 0 .5ex}\n",
       "</style>\n",
       "<ol class=list-inline><li>65</li><li>69</li><li>79</li></ol>\n"
      ],
      "text/latex": [
       "\\begin{enumerate*}\n",
       "\\item 65\n",
       "\\item 69\n",
       "\\item 79\n",
       "\\end{enumerate*}\n"
      ],
      "text/markdown": [
       "1. 65\n",
       "2. 69\n",
       "3. 79\n",
       "\n",
       "\n"
      ],
      "text/plain": [
       "[1] 65 69 79"
      ]
     },
     "metadata": {},
     "output_type": "display_data"
    }
   ],
   "source": [
    "grep(\"Alameda\", cameraData$intersection)"
   ]
  },
  {
   "cell_type": "markdown",
   "metadata": {},
   "source": [
    "参数`value = TRUE`用于返回整个字段"
   ]
  },
  {
   "cell_type": "code",
   "execution_count": 51,
   "metadata": {},
   "outputs": [
    {
     "data": {
      "text/html": [
       "<style>\n",
       ".list-inline {list-style: none; margin:0; padding: 0}\n",
       ".list-inline>li {display: inline-block}\n",
       ".list-inline>li:not(:last-child)::after {content: \"\\00b7\"; padding: 0 .5ex}\n",
       "</style>\n",
       "<ol class=list-inline><li><span style=white-space:pre-wrap>'E 33rd  &amp; The Alameda'</span></li><li><span style=white-space:pre-wrap>'The Alameda  &amp; 33rd St'</span></li><li>'Harford \\n &amp; The Alameda'</li></ol>\n"
      ],
      "text/latex": [
       "\\begin{enumerate*}\n",
       "\\item 'E 33rd  \\& The Alameda'\n",
       "\\item 'The Alameda  \\& 33rd St'\n",
       "\\item 'Harford \\textbackslash{}n \\& The Alameda'\n",
       "\\end{enumerate*}\n"
      ],
      "text/markdown": [
       "1. <span style=white-space:pre-wrap>'E 33rd  &amp; The Alameda'</span>\n",
       "2. <span style=white-space:pre-wrap>'The Alameda  &amp; 33rd St'</span>\n",
       "3. 'Harford \\n &amp; The Alameda'\n",
       "\n",
       "\n"
      ],
      "text/plain": [
       "[1] \"E 33rd  & The Alameda\"    \"The Alameda  & 33rd St\"  \n",
       "[3] \"Harford \\n & The Alameda\""
      ]
     },
     "metadata": {},
     "output_type": "display_data"
    }
   ],
   "source": [
    "grep(\"Alameda\", cameraData$intersection, value = TRUE)"
   ]
  },
  {
   "cell_type": "code",
   "execution_count": 44,
   "metadata": {},
   "outputs": [
    {
     "data": {
      "text/plain": [
       "\n",
       "FALSE  TRUE \n",
       "   77     3 "
      ]
     },
     "metadata": {},
     "output_type": "display_data"
    }
   ],
   "source": [
    "table(grepl('Alameda', cameraData$intersection))"
   ]
  },
  {
   "cell_type": "code",
   "execution_count": 50,
   "metadata": {},
   "outputs": [],
   "source": [
    "cameraData2 <- cameraData[\n",
    "    !grepl(\"Alameda\", cameraData$intersection), \n",
    "]"
   ]
  },
  {
   "cell_type": "code",
   "execution_count": 52,
   "metadata": {},
   "outputs": [
    {
     "data": {
      "text/html": [],
      "text/latex": [],
      "text/markdown": [],
      "text/plain": [
       "integer(0)"
      ]
     },
     "metadata": {},
     "output_type": "display_data"
    }
   ],
   "source": [
    "grep('JeffStreet', cameraData$intersection)"
   ]
  },
  {
   "cell_type": "code",
   "execution_count": 53,
   "metadata": {},
   "outputs": [
    {
     "data": {
      "text/html": [
       "0"
      ],
      "text/latex": [
       "0"
      ],
      "text/markdown": [
       "0"
      ],
      "text/plain": [
       "[1] 0"
      ]
     },
     "metadata": {},
     "output_type": "display_data"
    }
   ],
   "source": [
    "length(grep('JeffStreet', cameraData$intersection))"
   ]
  },
  {
   "cell_type": "markdown",
   "metadata": {},
   "source": [
    "### More useful string functions"
   ]
  },
  {
   "cell_type": "code",
   "execution_count": 54,
   "metadata": {},
   "outputs": [],
   "source": [
    "library(stringr)"
   ]
  },
  {
   "cell_type": "markdown",
   "metadata": {},
   "source": [
    "`nchar()`返回字符数"
   ]
  },
  {
   "cell_type": "code",
   "execution_count": 57,
   "metadata": {},
   "outputs": [
    {
     "data": {
      "text/html": [
       "12"
      ],
      "text/latex": [
       "12"
      ],
      "text/markdown": [
       "12"
      ],
      "text/plain": [
       "[1] 12"
      ]
     },
     "metadata": {},
     "output_type": "display_data"
    }
   ],
   "source": [
    "nchar(\"Jeffrey Leek\")"
   ]
  },
  {
   "cell_type": "code",
   "execution_count": 58,
   "metadata": {},
   "outputs": [
    {
     "data": {
      "text/html": [
       "'Jeffrey'"
      ],
      "text/latex": [
       "'Jeffrey'"
      ],
      "text/markdown": [
       "'Jeffrey'"
      ],
      "text/plain": [
       "[1] \"Jeffrey\""
      ]
     },
     "metadata": {},
     "output_type": "display_data"
    }
   ],
   "source": [
    "substr('Jeffrey Leek', 1, 7)"
   ]
  },
  {
   "cell_type": "markdown",
   "metadata": {},
   "source": [
    "`paste`默认输入一个空格，将几部分text连结在一起。参数`sep=\"x\"`可以改变默认的空格连缀符"
   ]
  },
  {
   "cell_type": "code",
   "execution_count": 61,
   "metadata": {},
   "outputs": [
    {
     "data": {
      "text/html": [
       "'Jeffrey Leek'"
      ],
      "text/latex": [
       "'Jeffrey Leek'"
      ],
      "text/markdown": [
       "'Jeffrey Leek'"
      ],
      "text/plain": [
       "[1] \"Jeffrey Leek\""
      ]
     },
     "metadata": {},
     "output_type": "display_data"
    }
   ],
   "source": [
    "paste(\"Jeffrey\", 'Leek')"
   ]
  },
  {
   "cell_type": "code",
   "execution_count": 60,
   "metadata": {},
   "outputs": [
    {
     "data": {
      "text/html": [
       "'Jeffrey_Leek'"
      ],
      "text/latex": [
       "'Jeffrey\\_Leek'"
      ],
      "text/markdown": [
       "'Jeffrey_Leek'"
      ],
      "text/plain": [
       "[1] \"Jeffrey_Leek\""
      ]
     },
     "metadata": {},
     "output_type": "display_data"
    }
   ],
   "source": [
    "paste(\"Jeffrey\", 'Leek',sep = \"_\")"
   ]
  },
  {
   "cell_type": "markdown",
   "metadata": {},
   "source": [
    "中间不想要任何连缀符的话，可以使用`paste0()`"
   ]
  },
  {
   "cell_type": "code",
   "execution_count": 63,
   "metadata": {},
   "outputs": [
    {
     "data": {
      "text/html": [
       "'Jeffreyleek'"
      ],
      "text/latex": [
       "'Jeffreyleek'"
      ],
      "text/markdown": [
       "'Jeffreyleek'"
      ],
      "text/plain": [
       "[1] \"Jeffreyleek\""
      ]
     },
     "metadata": {},
     "output_type": "display_data"
    }
   ],
   "source": [
    "paste(\"Jeffrey\", \"leek\", sep = \"\")"
   ]
  },
  {
   "cell_type": "code",
   "execution_count": 64,
   "metadata": {},
   "outputs": [
    {
     "data": {
      "text/html": [
       "'Jeffreyleek'"
      ],
      "text/latex": [
       "'Jeffreyleek'"
      ],
      "text/markdown": [
       "'Jeffreyleek'"
      ],
      "text/plain": [
       "[1] \"Jeffreyleek\""
      ]
     },
     "metadata": {},
     "output_type": "display_data"
    }
   ],
   "source": [
    "paste0(\"Jeffrey\", \"leek\")"
   ]
  },
  {
   "cell_type": "markdown",
   "metadata": {},
   "source": [
    "`str_trim()`将文本最前和最后的所有空格都取消"
   ]
  },
  {
   "cell_type": "code",
   "execution_count": 67,
   "metadata": {},
   "outputs": [
    {
     "data": {
      "text/html": [
       "'Jeff'"
      ],
      "text/latex": [
       "'Jeff'"
      ],
      "text/markdown": [
       "'Jeff'"
      ],
      "text/plain": [
       "[1] \"Jeff\""
      ]
     },
     "metadata": {},
     "output_type": "display_data"
    }
   ],
   "source": [
    "str_trim(\"   Jeff        \")"
   ]
  },
  {
   "cell_type": "markdown",
   "metadata": {},
   "source": [
    "## Regular Expressions"
   ]
  },
  {
   "cell_type": "markdown",
   "metadata": {},
   "source": [
    "- Regular expressions can be thought of as a combination of literals and metacharacters\n",
    "- To draw an analogy with natural language, thinki of literal text forming the words of this language, and the metacharacters defining its gramar\n",
    "- Regular expressions have a rich set of metacharacters"
   ]
  },
  {
   "cell_type": "markdown",
   "metadata": {},
   "source": [
    "`^` represents the beginning of a line, and `$` represents the end of a line"
   ]
  },
  {
   "cell_type": "markdown",
   "metadata": {},
   "source": [
    "`[Bb], [Uu], [Ss], [Hh]` denotes a set of characters we will accept at a given point in the match, and is case insensitive"
   ]
  },
  {
   "cell_type": "markdown",
   "metadata": {},
   "source": [
    "`^[Ii] am` will match ..."
   ]
  },
  {
   "cell_type": "markdown",
   "metadata": {},
   "source": [
    "`^[0-9][a-zA-z]` for a range of number and letters, notice that the order does not matter"
   ]
  },
  {
   "cell_type": "markdown",
   "metadata": {},
   "source": [
    "When used at the beginning of a character class, the \"\" is also a metacharacter and indicates matching characters NOT in the indicated class, e.g. `[^?.]$` denotes searching for any beginning word which does not have a `.`\n",
    "\n",
    "will match the lines"
   ]
  },
  {
   "cell_type": "raw",
   "metadata": {},
   "source": [
    "i like basketballs\n",
    "6 and 9\n",
    "dont worry ... we all die anyway!\n",
    "Not in Baghdad\n",
    "helicopter under water? hmm...."
   ]
  },
  {
   "cell_type": "markdown",
   "metadata": {},
   "source": [
    "`.` is sued to refer to any character. So"
   ]
  },
  {
   "cell_type": "markdown",
   "metadata": {},
   "source": [
    "9.11"
   ]
  },
  {
   "cell_type": "markdown",
   "metadata": {},
   "source": [
    "will match the lines"
   ]
  },
  {
   "cell_type": "raw",
   "metadata": {},
   "source": [
    "its stupid the post 9-11 rules\n",
    "if any 1 of us did 9/11 we would have been caught in days.\n",
    "NetBios: scanning ip 293.169.114.66\n",
    "Front Door: 9:11:46 AM\n",
    "Sings: 0.118999881999119725...3 !"
   ]
  },
  {
   "cell_type": "markdown",
   "metadata": {},
   "source": [
    "`|` means \"or\", e.g. `flood|fire`, `flood|earthquake|hurricane|coldfire`"
   ]
  },
  {
   "cell_type": "markdown",
   "metadata": {},
   "source": [
    "`^[Gg]ood|[Bb]ad`"
   ]
  },
  {
   "cell_type": "markdown",
   "metadata": {},
   "source": [
    "Subexpressions are often contained in parentheses to constrain the alternatives, e.g. `^([Gg]ood|[Bb]ad)`"
   ]
  },
  {
   "cell_type": "markdown",
   "metadata": {},
   "source": [
    "`^[Gg]eorge( [Ww]\\.)? [Bb]ush` - We want to match a `.` as a literal period; to do that, we have to \"escape\" the metacharacter, proceding it with a backslash. In genral, we have to do this for any metacharacter we want to include in our match."
   ]
  },
  {
   "cell_type": "markdown",
   "metadata": {},
   "source": [
    "- `*` means any number, including none, of the item\n",
    "- `+` means at least one of the item"
   ]
  },
  {
   "cell_type": "markdown",
   "metadata": {},
   "source": [
    "`(.*)` will match the lines 寻找字段"
   ]
  },
  {
   "cell_type": "raw",
   "metadata": {},
   "source": [
    "anyone wanna char? (24, m, germany)\n",
    "hello, 20.m here... (east area + drives + webcam)\n",
    "(he means older men)\n",
    "()"
   ]
  },
  {
   "cell_type": "markdown",
   "metadata": {},
   "source": [
    "[0-9]+ (.*) [0-9]+ 寻找两个数字中间有间隔字段的情况，如"
   ]
  },
  {
   "cell_type": "raw",
   "metadata": {},
   "source": [
    "working as MP here 720 MP battallion, 42nd bridge\n",
    "so say 2 or 3 years at colleage"
   ]
  },
  {
   "cell_type": "markdown",
   "metadata": {},
   "source": [
    "`{and}` are referred to as interval quantifiers; the let us specify the minimum and maximum number of matches of an expression, e.g. `[Bb]ush( +[^ ]+ +){1,5} debate` will match"
   ]
  },
  {
   "cell_type": "raw",
   "metadata": {},
   "source": [
    "Bush has historically won all major debates he's done.\n",
    "in my view, Bush doesn't need these debates..."
   ]
  },
  {
   "cell_type": "markdown",
   "metadata": {},
   "source": [
    "`\\1`,`\\2`表示所有重复出现的情况，如 `+([a-zA-Z]+) +\\1 +` will match"
   ]
  },
  {
   "cell_type": "raw",
   "metadata": {},
   "source": [
    "time for bed, night night twitter!\n",
    "good good study, day day up"
   ]
  },
  {
   "cell_type": "markdown",
   "metadata": {},
   "source": [
    "`*` is greedy, it always matches the longest possible string that satisfies the regular expression, e.g. `^s(.*)s` matches"
   ]
  },
  {
   "cell_type": "raw",
   "metadata": {},
   "source": [
    "sitting at starbucks\n",
    "setting up mysql and rails\n",
    "studying stuff for the exams"
   ]
  },
  {
   "cell_type": "markdown",
   "metadata": {},
   "source": [
    "`^s(.*?)s`可用于让它less greedy，如`?=3`"
   ]
  },
  {
   "cell_type": "markdown",
   "metadata": {},
   "source": [
    "## Working with dates"
   ]
  },
  {
   "cell_type": "code",
   "execution_count": 76,
   "metadata": {},
   "outputs": [
    {
     "data": {
      "text/html": [
       "<span style=white-space:pre-wrap>'Fri Aug  7 17:57:28 2020'</span>"
      ],
      "text/latex": [
       "'Fri Aug  7 17:57:28 2020'"
      ],
      "text/markdown": [
       "<span style=white-space:pre-wrap>'Fri Aug  7 17:57:28 2020'</span>"
      ],
      "text/plain": [
       "[1] \"Fri Aug  7 17:57:28 2020\""
      ]
     },
     "metadata": {},
     "output_type": "display_data"
    }
   ],
   "source": [
    "d1 = date()\n",
    "d1"
   ]
  },
  {
   "cell_type": "code",
   "execution_count": 77,
   "metadata": {},
   "outputs": [
    {
     "data": {
      "text/html": [
       "'character'"
      ],
      "text/latex": [
       "'character'"
      ],
      "text/markdown": [
       "'character'"
      ],
      "text/plain": [
       "[1] \"character\""
      ]
     },
     "metadata": {},
     "output_type": "display_data"
    }
   ],
   "source": [
    "class(d1)"
   ]
  },
  {
   "cell_type": "code",
   "execution_count": 78,
   "metadata": {},
   "outputs": [
    {
     "name": "stdout",
     "output_type": "stream",
     "text": [
      " chr \"Fri Aug  7 17:57:28 2020\"\n"
     ]
    }
   ],
   "source": [
    "str(d1)"
   ]
  },
  {
   "cell_type": "code",
   "execution_count": 79,
   "metadata": {},
   "outputs": [
    {
     "data": {
      "text/html": [
       "<time datetime=\"2020-08-07\">2020-08-07</time>"
      ],
      "text/latex": [
       "2020-08-07"
      ],
      "text/markdown": [
       "2020-08-07"
      ],
      "text/plain": [
       "[1] \"2020-08-07\""
      ]
     },
     "metadata": {},
     "output_type": "display_data"
    }
   ],
   "source": [
    "d2 = Sys.Date()\n",
    "d2"
   ]
  },
  {
   "cell_type": "code",
   "execution_count": 80,
   "metadata": {},
   "outputs": [
    {
     "data": {
      "text/html": [
       "'Date'"
      ],
      "text/latex": [
       "'Date'"
      ],
      "text/markdown": [
       "'Date'"
      ],
      "text/plain": [
       "[1] \"Date\""
      ]
     },
     "metadata": {},
     "output_type": "display_data"
    }
   ],
   "source": [
    "class(d2)"
   ]
  },
  {
   "cell_type": "markdown",
   "metadata": {},
   "source": [
    "- `%d` = days as number (0-31)\n",
    "- `%a` = abbreviated weekday\n",
    "- `%A` = unabbreviated weekday\n",
    "- `%m` = month (00-12)\n",
    "- `%b` = abbreviated month\n",
    "- `%B` = unabbreviated month\n",
    "- `%y` = 2 digit year\n",
    "- `%Y` = 4 digit year"
   ]
  },
  {
   "cell_type": "code",
   "execution_count": 81,
   "metadata": {},
   "outputs": [
    {
     "data": {
      "text/html": [
       "'五 8月 07'"
      ],
      "text/latex": [
       "'五 8月 07'"
      ],
      "text/markdown": [
       "'五 8月 07'"
      ],
      "text/plain": [
       "[1] \"五 8月 07\""
      ]
     },
     "metadata": {},
     "output_type": "display_data"
    }
   ],
   "source": [
    "format(d2, '%a %b %d')"
   ]
  },
  {
   "cell_type": "code",
   "execution_count": 84,
   "metadata": {},
   "outputs": [
    {
     "data": {
      "text/html": [
       "<style>\n",
       ".list-inline {list-style: none; margin:0; padding: 0}\n",
       ".list-inline>li {display: inline-block}\n",
       ".list-inline>li:not(:last-child)::after {content: \"\\00b7\"; padding: 0 .5ex}\n",
       "</style>\n",
       "<ol class=list-inline><li><time datetime=\"&lt;NA&gt;\">&lt;NA&gt;</time></li><li><time datetime=\"&lt;NA&gt;\">&lt;NA&gt;</time></li><li><time datetime=\"&lt;NA&gt;\">&lt;NA&gt;</time></li><li><time datetime=\"&lt;NA&gt;\">&lt;NA&gt;</time></li></ol>\n"
      ],
      "text/latex": [
       "\\begin{enumerate*}\n",
       "\\item <NA>\n",
       "\\item <NA>\n",
       "\\item <NA>\n",
       "\\item <NA>\n",
       "\\end{enumerate*}\n"
      ],
      "text/markdown": [
       "1. &lt;NA&gt;\n",
       "2. &lt;NA&gt;\n",
       "3. &lt;NA&gt;\n",
       "4. &lt;NA&gt;\n",
       "\n",
       "\n"
      ],
      "text/plain": [
       "[1] NA NA NA NA"
      ]
     },
     "metadata": {},
     "output_type": "display_data"
    }
   ],
   "source": [
    "x = c(\"1jan1960\", '2jan1960', '31mar1960', '30jul1960')\n",
    "z = as.Date(x, \"%d%b%Y\")\n",
    "z"
   ]
  },
  {
   "cell_type": "code",
   "execution_count": 85,
   "metadata": {},
   "outputs": [
    {
     "data": {
      "text/html": [
       "<time datetime=\"2020-08-07\">2020-08-07</time>"
      ],
      "text/latex": [
       "2020-08-07"
      ],
      "text/markdown": [
       "2020-08-07"
      ],
      "text/plain": [
       "[1] \"2020-08-07\""
      ]
     },
     "metadata": {},
     "output_type": "display_data"
    }
   ],
   "source": [
    "d2"
   ]
  },
  {
   "cell_type": "code",
   "execution_count": 86,
   "metadata": {},
   "outputs": [
    {
     "data": {
      "text/html": [
       "'星期五'"
      ],
      "text/latex": [
       "'星期五'"
      ],
      "text/markdown": [
       "'星期五'"
      ],
      "text/plain": [
       "[1] \"星期五\""
      ]
     },
     "metadata": {},
     "output_type": "display_data"
    }
   ],
   "source": [
    "weekdays(d2)"
   ]
  },
  {
   "cell_type": "code",
   "execution_count": 87,
   "metadata": {},
   "outputs": [
    {
     "data": {
      "text/html": [
       "'八月'"
      ],
      "text/latex": [
       "'八月'"
      ],
      "text/markdown": [
       "'八月'"
      ],
      "text/plain": [
       "[1] \"八月\""
      ]
     },
     "metadata": {},
     "output_type": "display_data"
    }
   ],
   "source": [
    "months(d2)"
   ]
  },
  {
   "cell_type": "code",
   "execution_count": 88,
   "metadata": {},
   "outputs": [
    {
     "data": {
      "text/html": [
       "18481"
      ],
      "text/latex": [
       "18481"
      ],
      "text/markdown": [
       "18481"
      ],
      "text/plain": [
       "[1] 18481\n",
       "attr(,\"origin\")\n",
       "[1] \"1970-01-01\""
      ]
     },
     "metadata": {},
     "output_type": "display_data"
    }
   ],
   "source": [
    "julian(d2)"
   ]
  },
  {
   "cell_type": "code",
   "execution_count": 93,
   "metadata": {},
   "outputs": [
    {
     "data": {
      "text/html": [
       "<time datetime=\"2014-01-08\">2014-01-08</time>"
      ],
      "text/latex": [
       "2014-01-08"
      ],
      "text/markdown": [
       "2014-01-08"
      ],
      "text/plain": [
       "[1] \"2014-01-08\""
      ]
     },
     "metadata": {},
     "output_type": "display_data"
    }
   ],
   "source": [
    "# install.packages(\"lubridate\")\n",
    "library(lubridate)\n",
    "dt <- ymd(\"20140108\")\n",
    "dt"
   ]
  },
  {
   "cell_type": "code",
   "execution_count": 94,
   "metadata": {},
   "outputs": [
    {
     "data": {
      "text/html": [
       "'Date'"
      ],
      "text/latex": [
       "'Date'"
      ],
      "text/markdown": [
       "'Date'"
      ],
      "text/plain": [
       "[1] \"Date\""
      ]
     },
     "metadata": {},
     "output_type": "display_data"
    }
   ],
   "source": [
    "class(dt)"
   ]
  },
  {
   "cell_type": "code",
   "execution_count": 95,
   "metadata": {},
   "outputs": [
    {
     "data": {
      "text/html": [
       "<time datetime=\"2018-08-04\">2018-08-04</time>"
      ],
      "text/latex": [
       "2018-08-04"
      ],
      "text/markdown": [
       "2018-08-04"
      ],
      "text/plain": [
       "[1] \"2018-08-04\""
      ]
     },
     "metadata": {},
     "output_type": "display_data"
    }
   ],
   "source": [
    "mdy('08/04/2018')"
   ]
  },
  {
   "cell_type": "code",
   "execution_count": 96,
   "metadata": {},
   "outputs": [
    {
     "data": {
      "text/html": [
       "<time datetime=\"2013-04-03\">2013-04-03</time>"
      ],
      "text/latex": [
       "2013-04-03"
      ],
      "text/markdown": [
       "2013-04-03"
      ],
      "text/plain": [
       "[1] \"2013-04-03\""
      ]
     },
     "metadata": {},
     "output_type": "display_data"
    }
   ],
   "source": [
    "dmy('03-04-2013')"
   ]
  },
  {
   "cell_type": "markdown",
   "metadata": {},
   "source": [
    "## Data Resources"
   ]
  },
  {
   "cell_type": "markdown",
   "metadata": {},
   "source": [
    "## Week 4 Quiz"
   ]
  },
  {
   "cell_type": "code",
   "execution_count": 98,
   "metadata": {},
   "outputs": [
    {
     "data": {
      "text/html": [
       "<style>\n",
       ".list-inline {list-style: none; margin:0; padding: 0}\n",
       ".list-inline>li {display: inline-block}\n",
       ".list-inline>li:not(:last-child)::after {content: \"\\00b7\"; padding: 0 .5ex}\n",
       "</style>\n",
       "<ol class=list-inline><li>'RT'</li><li>'SERIALNO'</li><li>'DIVISION'</li><li>'PUMA'</li><li>'REGION'</li><li>'ST'</li><li>'ADJUST'</li><li>'WGTP'</li><li>'NP'</li><li>'TYPE'</li><li>'ACR'</li><li>'AGS'</li><li>'BDS'</li><li>'BLD'</li><li>'BUS'</li><li>'CONP'</li><li>'ELEP'</li><li>'FS'</li><li>'FULP'</li><li>'GASP'</li><li>'HFL'</li><li>'INSP'</li><li>'KIT'</li><li>'MHP'</li><li>'MRGI'</li><li>'MRGP'</li><li>'MRGT'</li><li>'MRGX'</li><li>'PLM'</li><li>'RMS'</li><li>'RNTM'</li><li>'RNTP'</li><li>'SMP'</li><li>'TEL'</li><li>'TEN'</li><li>'VACS'</li><li>'VAL'</li><li>'VEH'</li><li>'WATP'</li><li>'YBL'</li><li>'FES'</li><li>'FINCP'</li><li>'FPARC'</li><li>'GRNTP'</li><li>'GRPIP'</li><li>'HHL'</li><li>'HHT'</li><li>'HINCP'</li><li>'HUGCL'</li><li>'HUPAC'</li><li>'HUPAOC'</li><li>'HUPARC'</li><li>'LNGI'</li><li>'MV'</li><li>'NOC'</li><li>'NPF'</li><li>'NPP'</li><li>'NR'</li><li>'NRC'</li><li>'OCPIP'</li><li>'PARTNER'</li><li>'PSF'</li><li>'R18'</li><li>'R60'</li><li>'R65'</li><li>'RESMODE'</li><li>'SMOCP'</li><li>'SMX'</li><li>'SRNT'</li><li>'SVAL'</li><li>'TAXP'</li><li>'WIF'</li><li>'WKEXREL'</li><li>'WORKSTAT'</li><li>'FACRP'</li><li>'FAGSP'</li><li>'FBDSP'</li><li>'FBLDP'</li><li>'FBUSP'</li><li>'FCONP'</li><li>'FELEP'</li><li>'FFSP'</li><li>'FFULP'</li><li>'FGASP'</li><li>'FHFLP'</li><li>'FINSP'</li><li>'FKITP'</li><li>'FMHP'</li><li>'FMRGIP'</li><li>'FMRGP'</li><li>'FMRGTP'</li><li>'FMRGXP'</li><li>'FMVYP'</li><li>'FPLMP'</li><li>'FRMSP'</li><li>'FRNTMP'</li><li>'FRNTP'</li><li>'FSMP'</li><li>'FSMXHP'</li><li>'FSMXSP'</li><li>'FTAXP'</li><li>'FTELP'</li><li>'FTENP'</li><li>'FVACSP'</li><li>'FVALP'</li><li>'FVEHP'</li><li>'FWATP'</li><li>'FYBLP'</li><li>'wgtp1'</li><li>'wgtp2'</li><li>'wgtp3'</li><li>'wgtp4'</li><li>'wgtp5'</li><li>'wgtp6'</li><li>'wgtp7'</li><li>'wgtp8'</li><li>'wgtp9'</li><li>'wgtp10'</li><li>'wgtp11'</li><li>'wgtp12'</li><li>'wgtp13'</li><li>'wgtp14'</li><li>'wgtp15'</li><li>'wgtp16'</li><li>'wgtp17'</li><li>'wgtp18'</li><li>'wgtp19'</li><li>'wgtp20'</li><li>'wgtp21'</li><li>'wgtp22'</li><li>'wgtp23'</li><li>'wgtp24'</li><li>'wgtp25'</li><li>'wgtp26'</li><li>'wgtp27'</li><li>'wgtp28'</li><li>'wgtp29'</li><li>'wgtp30'</li><li>'wgtp31'</li><li>'wgtp32'</li><li>'wgtp33'</li><li>'wgtp34'</li><li>'wgtp35'</li><li>'wgtp36'</li><li>'wgtp37'</li><li>'wgtp38'</li><li>'wgtp39'</li><li>'wgtp40'</li><li>'wgtp41'</li><li>'wgtp42'</li><li>'wgtp43'</li><li>'wgtp44'</li><li>'wgtp45'</li><li>'wgtp46'</li><li>'wgtp47'</li><li>'wgtp48'</li><li>'wgtp49'</li><li>'wgtp50'</li><li>'wgtp51'</li><li>'wgtp52'</li><li>'wgtp53'</li><li>'wgtp54'</li><li>'wgtp55'</li><li>'wgtp56'</li><li>'wgtp57'</li><li>'wgtp58'</li><li>'wgtp59'</li><li>'wgtp60'</li><li>'wgtp61'</li><li>'wgtp62'</li><li>'wgtp63'</li><li>'wgtp64'</li><li>'wgtp65'</li><li>'wgtp66'</li><li>'wgtp67'</li><li>'wgtp68'</li><li>'wgtp69'</li><li>'wgtp70'</li><li>'wgtp71'</li><li>'wgtp72'</li><li>'wgtp73'</li><li>'wgtp74'</li><li>'wgtp75'</li><li>'wgtp76'</li><li>'wgtp77'</li><li>'wgtp78'</li><li>'wgtp79'</li><li>'wgtp80'</li></ol>\n"
      ],
      "text/latex": [
       "\\begin{enumerate*}\n",
       "\\item 'RT'\n",
       "\\item 'SERIALNO'\n",
       "\\item 'DIVISION'\n",
       "\\item 'PUMA'\n",
       "\\item 'REGION'\n",
       "\\item 'ST'\n",
       "\\item 'ADJUST'\n",
       "\\item 'WGTP'\n",
       "\\item 'NP'\n",
       "\\item 'TYPE'\n",
       "\\item 'ACR'\n",
       "\\item 'AGS'\n",
       "\\item 'BDS'\n",
       "\\item 'BLD'\n",
       "\\item 'BUS'\n",
       "\\item 'CONP'\n",
       "\\item 'ELEP'\n",
       "\\item 'FS'\n",
       "\\item 'FULP'\n",
       "\\item 'GASP'\n",
       "\\item 'HFL'\n",
       "\\item 'INSP'\n",
       "\\item 'KIT'\n",
       "\\item 'MHP'\n",
       "\\item 'MRGI'\n",
       "\\item 'MRGP'\n",
       "\\item 'MRGT'\n",
       "\\item 'MRGX'\n",
       "\\item 'PLM'\n",
       "\\item 'RMS'\n",
       "\\item 'RNTM'\n",
       "\\item 'RNTP'\n",
       "\\item 'SMP'\n",
       "\\item 'TEL'\n",
       "\\item 'TEN'\n",
       "\\item 'VACS'\n",
       "\\item 'VAL'\n",
       "\\item 'VEH'\n",
       "\\item 'WATP'\n",
       "\\item 'YBL'\n",
       "\\item 'FES'\n",
       "\\item 'FINCP'\n",
       "\\item 'FPARC'\n",
       "\\item 'GRNTP'\n",
       "\\item 'GRPIP'\n",
       "\\item 'HHL'\n",
       "\\item 'HHT'\n",
       "\\item 'HINCP'\n",
       "\\item 'HUGCL'\n",
       "\\item 'HUPAC'\n",
       "\\item 'HUPAOC'\n",
       "\\item 'HUPARC'\n",
       "\\item 'LNGI'\n",
       "\\item 'MV'\n",
       "\\item 'NOC'\n",
       "\\item 'NPF'\n",
       "\\item 'NPP'\n",
       "\\item 'NR'\n",
       "\\item 'NRC'\n",
       "\\item 'OCPIP'\n",
       "\\item 'PARTNER'\n",
       "\\item 'PSF'\n",
       "\\item 'R18'\n",
       "\\item 'R60'\n",
       "\\item 'R65'\n",
       "\\item 'RESMODE'\n",
       "\\item 'SMOCP'\n",
       "\\item 'SMX'\n",
       "\\item 'SRNT'\n",
       "\\item 'SVAL'\n",
       "\\item 'TAXP'\n",
       "\\item 'WIF'\n",
       "\\item 'WKEXREL'\n",
       "\\item 'WORKSTAT'\n",
       "\\item 'FACRP'\n",
       "\\item 'FAGSP'\n",
       "\\item 'FBDSP'\n",
       "\\item 'FBLDP'\n",
       "\\item 'FBUSP'\n",
       "\\item 'FCONP'\n",
       "\\item 'FELEP'\n",
       "\\item 'FFSP'\n",
       "\\item 'FFULP'\n",
       "\\item 'FGASP'\n",
       "\\item 'FHFLP'\n",
       "\\item 'FINSP'\n",
       "\\item 'FKITP'\n",
       "\\item 'FMHP'\n",
       "\\item 'FMRGIP'\n",
       "\\item 'FMRGP'\n",
       "\\item 'FMRGTP'\n",
       "\\item 'FMRGXP'\n",
       "\\item 'FMVYP'\n",
       "\\item 'FPLMP'\n",
       "\\item 'FRMSP'\n",
       "\\item 'FRNTMP'\n",
       "\\item 'FRNTP'\n",
       "\\item 'FSMP'\n",
       "\\item 'FSMXHP'\n",
       "\\item 'FSMXSP'\n",
       "\\item 'FTAXP'\n",
       "\\item 'FTELP'\n",
       "\\item 'FTENP'\n",
       "\\item 'FVACSP'\n",
       "\\item 'FVALP'\n",
       "\\item 'FVEHP'\n",
       "\\item 'FWATP'\n",
       "\\item 'FYBLP'\n",
       "\\item 'wgtp1'\n",
       "\\item 'wgtp2'\n",
       "\\item 'wgtp3'\n",
       "\\item 'wgtp4'\n",
       "\\item 'wgtp5'\n",
       "\\item 'wgtp6'\n",
       "\\item 'wgtp7'\n",
       "\\item 'wgtp8'\n",
       "\\item 'wgtp9'\n",
       "\\item 'wgtp10'\n",
       "\\item 'wgtp11'\n",
       "\\item 'wgtp12'\n",
       "\\item 'wgtp13'\n",
       "\\item 'wgtp14'\n",
       "\\item 'wgtp15'\n",
       "\\item 'wgtp16'\n",
       "\\item 'wgtp17'\n",
       "\\item 'wgtp18'\n",
       "\\item 'wgtp19'\n",
       "\\item 'wgtp20'\n",
       "\\item 'wgtp21'\n",
       "\\item 'wgtp22'\n",
       "\\item 'wgtp23'\n",
       "\\item 'wgtp24'\n",
       "\\item 'wgtp25'\n",
       "\\item 'wgtp26'\n",
       "\\item 'wgtp27'\n",
       "\\item 'wgtp28'\n",
       "\\item 'wgtp29'\n",
       "\\item 'wgtp30'\n",
       "\\item 'wgtp31'\n",
       "\\item 'wgtp32'\n",
       "\\item 'wgtp33'\n",
       "\\item 'wgtp34'\n",
       "\\item 'wgtp35'\n",
       "\\item 'wgtp36'\n",
       "\\item 'wgtp37'\n",
       "\\item 'wgtp38'\n",
       "\\item 'wgtp39'\n",
       "\\item 'wgtp40'\n",
       "\\item 'wgtp41'\n",
       "\\item 'wgtp42'\n",
       "\\item 'wgtp43'\n",
       "\\item 'wgtp44'\n",
       "\\item 'wgtp45'\n",
       "\\item 'wgtp46'\n",
       "\\item 'wgtp47'\n",
       "\\item 'wgtp48'\n",
       "\\item 'wgtp49'\n",
       "\\item 'wgtp50'\n",
       "\\item 'wgtp51'\n",
       "\\item 'wgtp52'\n",
       "\\item 'wgtp53'\n",
       "\\item 'wgtp54'\n",
       "\\item 'wgtp55'\n",
       "\\item 'wgtp56'\n",
       "\\item 'wgtp57'\n",
       "\\item 'wgtp58'\n",
       "\\item 'wgtp59'\n",
       "\\item 'wgtp60'\n",
       "\\item 'wgtp61'\n",
       "\\item 'wgtp62'\n",
       "\\item 'wgtp63'\n",
       "\\item 'wgtp64'\n",
       "\\item 'wgtp65'\n",
       "\\item 'wgtp66'\n",
       "\\item 'wgtp67'\n",
       "\\item 'wgtp68'\n",
       "\\item 'wgtp69'\n",
       "\\item 'wgtp70'\n",
       "\\item 'wgtp71'\n",
       "\\item 'wgtp72'\n",
       "\\item 'wgtp73'\n",
       "\\item 'wgtp74'\n",
       "\\item 'wgtp75'\n",
       "\\item 'wgtp76'\n",
       "\\item 'wgtp77'\n",
       "\\item 'wgtp78'\n",
       "\\item 'wgtp79'\n",
       "\\item 'wgtp80'\n",
       "\\end{enumerate*}\n"
      ],
      "text/markdown": [
       "1. 'RT'\n",
       "2. 'SERIALNO'\n",
       "3. 'DIVISION'\n",
       "4. 'PUMA'\n",
       "5. 'REGION'\n",
       "6. 'ST'\n",
       "7. 'ADJUST'\n",
       "8. 'WGTP'\n",
       "9. 'NP'\n",
       "10. 'TYPE'\n",
       "11. 'ACR'\n",
       "12. 'AGS'\n",
       "13. 'BDS'\n",
       "14. 'BLD'\n",
       "15. 'BUS'\n",
       "16. 'CONP'\n",
       "17. 'ELEP'\n",
       "18. 'FS'\n",
       "19. 'FULP'\n",
       "20. 'GASP'\n",
       "21. 'HFL'\n",
       "22. 'INSP'\n",
       "23. 'KIT'\n",
       "24. 'MHP'\n",
       "25. 'MRGI'\n",
       "26. 'MRGP'\n",
       "27. 'MRGT'\n",
       "28. 'MRGX'\n",
       "29. 'PLM'\n",
       "30. 'RMS'\n",
       "31. 'RNTM'\n",
       "32. 'RNTP'\n",
       "33. 'SMP'\n",
       "34. 'TEL'\n",
       "35. 'TEN'\n",
       "36. 'VACS'\n",
       "37. 'VAL'\n",
       "38. 'VEH'\n",
       "39. 'WATP'\n",
       "40. 'YBL'\n",
       "41. 'FES'\n",
       "42. 'FINCP'\n",
       "43. 'FPARC'\n",
       "44. 'GRNTP'\n",
       "45. 'GRPIP'\n",
       "46. 'HHL'\n",
       "47. 'HHT'\n",
       "48. 'HINCP'\n",
       "49. 'HUGCL'\n",
       "50. 'HUPAC'\n",
       "51. 'HUPAOC'\n",
       "52. 'HUPARC'\n",
       "53. 'LNGI'\n",
       "54. 'MV'\n",
       "55. 'NOC'\n",
       "56. 'NPF'\n",
       "57. 'NPP'\n",
       "58. 'NR'\n",
       "59. 'NRC'\n",
       "60. 'OCPIP'\n",
       "61. 'PARTNER'\n",
       "62. 'PSF'\n",
       "63. 'R18'\n",
       "64. 'R60'\n",
       "65. 'R65'\n",
       "66. 'RESMODE'\n",
       "67. 'SMOCP'\n",
       "68. 'SMX'\n",
       "69. 'SRNT'\n",
       "70. 'SVAL'\n",
       "71. 'TAXP'\n",
       "72. 'WIF'\n",
       "73. 'WKEXREL'\n",
       "74. 'WORKSTAT'\n",
       "75. 'FACRP'\n",
       "76. 'FAGSP'\n",
       "77. 'FBDSP'\n",
       "78. 'FBLDP'\n",
       "79. 'FBUSP'\n",
       "80. 'FCONP'\n",
       "81. 'FELEP'\n",
       "82. 'FFSP'\n",
       "83. 'FFULP'\n",
       "84. 'FGASP'\n",
       "85. 'FHFLP'\n",
       "86. 'FINSP'\n",
       "87. 'FKITP'\n",
       "88. 'FMHP'\n",
       "89. 'FMRGIP'\n",
       "90. 'FMRGP'\n",
       "91. 'FMRGTP'\n",
       "92. 'FMRGXP'\n",
       "93. 'FMVYP'\n",
       "94. 'FPLMP'\n",
       "95. 'FRMSP'\n",
       "96. 'FRNTMP'\n",
       "97. 'FRNTP'\n",
       "98. 'FSMP'\n",
       "99. 'FSMXHP'\n",
       "100. 'FSMXSP'\n",
       "101. 'FTAXP'\n",
       "102. 'FTELP'\n",
       "103. 'FTENP'\n",
       "104. 'FVACSP'\n",
       "105. 'FVALP'\n",
       "106. 'FVEHP'\n",
       "107. 'FWATP'\n",
       "108. 'FYBLP'\n",
       "109. 'wgtp1'\n",
       "110. 'wgtp2'\n",
       "111. 'wgtp3'\n",
       "112. 'wgtp4'\n",
       "113. 'wgtp5'\n",
       "114. 'wgtp6'\n",
       "115. 'wgtp7'\n",
       "116. 'wgtp8'\n",
       "117. 'wgtp9'\n",
       "118. 'wgtp10'\n",
       "119. 'wgtp11'\n",
       "120. 'wgtp12'\n",
       "121. 'wgtp13'\n",
       "122. 'wgtp14'\n",
       "123. 'wgtp15'\n",
       "124. 'wgtp16'\n",
       "125. 'wgtp17'\n",
       "126. 'wgtp18'\n",
       "127. 'wgtp19'\n",
       "128. 'wgtp20'\n",
       "129. 'wgtp21'\n",
       "130. 'wgtp22'\n",
       "131. 'wgtp23'\n",
       "132. 'wgtp24'\n",
       "133. 'wgtp25'\n",
       "134. 'wgtp26'\n",
       "135. 'wgtp27'\n",
       "136. 'wgtp28'\n",
       "137. 'wgtp29'\n",
       "138. 'wgtp30'\n",
       "139. 'wgtp31'\n",
       "140. 'wgtp32'\n",
       "141. 'wgtp33'\n",
       "142. 'wgtp34'\n",
       "143. 'wgtp35'\n",
       "144. 'wgtp36'\n",
       "145. 'wgtp37'\n",
       "146. 'wgtp38'\n",
       "147. 'wgtp39'\n",
       "148. 'wgtp40'\n",
       "149. 'wgtp41'\n",
       "150. 'wgtp42'\n",
       "151. 'wgtp43'\n",
       "152. 'wgtp44'\n",
       "153. 'wgtp45'\n",
       "154. 'wgtp46'\n",
       "155. 'wgtp47'\n",
       "156. 'wgtp48'\n",
       "157. 'wgtp49'\n",
       "158. 'wgtp50'\n",
       "159. 'wgtp51'\n",
       "160. 'wgtp52'\n",
       "161. 'wgtp53'\n",
       "162. 'wgtp54'\n",
       "163. 'wgtp55'\n",
       "164. 'wgtp56'\n",
       "165. 'wgtp57'\n",
       "166. 'wgtp58'\n",
       "167. 'wgtp59'\n",
       "168. 'wgtp60'\n",
       "169. 'wgtp61'\n",
       "170. 'wgtp62'\n",
       "171. 'wgtp63'\n",
       "172. 'wgtp64'\n",
       "173. 'wgtp65'\n",
       "174. 'wgtp66'\n",
       "175. 'wgtp67'\n",
       "176. 'wgtp68'\n",
       "177. 'wgtp69'\n",
       "178. 'wgtp70'\n",
       "179. 'wgtp71'\n",
       "180. 'wgtp72'\n",
       "181. 'wgtp73'\n",
       "182. 'wgtp74'\n",
       "183. 'wgtp75'\n",
       "184. 'wgtp76'\n",
       "185. 'wgtp77'\n",
       "186. 'wgtp78'\n",
       "187. 'wgtp79'\n",
       "188. 'wgtp80'\n",
       "\n",
       "\n"
      ],
      "text/plain": [
       "  [1] \"RT\"       \"SERIALNO\" \"DIVISION\" \"PUMA\"     \"REGION\"   \"ST\"      \n",
       "  [7] \"ADJUST\"   \"WGTP\"     \"NP\"       \"TYPE\"     \"ACR\"      \"AGS\"     \n",
       " [13] \"BDS\"      \"BLD\"      \"BUS\"      \"CONP\"     \"ELEP\"     \"FS\"      \n",
       " [19] \"FULP\"     \"GASP\"     \"HFL\"      \"INSP\"     \"KIT\"      \"MHP\"     \n",
       " [25] \"MRGI\"     \"MRGP\"     \"MRGT\"     \"MRGX\"     \"PLM\"      \"RMS\"     \n",
       " [31] \"RNTM\"     \"RNTP\"     \"SMP\"      \"TEL\"      \"TEN\"      \"VACS\"    \n",
       " [37] \"VAL\"      \"VEH\"      \"WATP\"     \"YBL\"      \"FES\"      \"FINCP\"   \n",
       " [43] \"FPARC\"    \"GRNTP\"    \"GRPIP\"    \"HHL\"      \"HHT\"      \"HINCP\"   \n",
       " [49] \"HUGCL\"    \"HUPAC\"    \"HUPAOC\"   \"HUPARC\"   \"LNGI\"     \"MV\"      \n",
       " [55] \"NOC\"      \"NPF\"      \"NPP\"      \"NR\"       \"NRC\"      \"OCPIP\"   \n",
       " [61] \"PARTNER\"  \"PSF\"      \"R18\"      \"R60\"      \"R65\"      \"RESMODE\" \n",
       " [67] \"SMOCP\"    \"SMX\"      \"SRNT\"     \"SVAL\"     \"TAXP\"     \"WIF\"     \n",
       " [73] \"WKEXREL\"  \"WORKSTAT\" \"FACRP\"    \"FAGSP\"    \"FBDSP\"    \"FBLDP\"   \n",
       " [79] \"FBUSP\"    \"FCONP\"    \"FELEP\"    \"FFSP\"     \"FFULP\"    \"FGASP\"   \n",
       " [85] \"FHFLP\"    \"FINSP\"    \"FKITP\"    \"FMHP\"     \"FMRGIP\"   \"FMRGP\"   \n",
       " [91] \"FMRGTP\"   \"FMRGXP\"   \"FMVYP\"    \"FPLMP\"    \"FRMSP\"    \"FRNTMP\"  \n",
       " [97] \"FRNTP\"    \"FSMP\"     \"FSMXHP\"   \"FSMXSP\"   \"FTAXP\"    \"FTELP\"   \n",
       "[103] \"FTENP\"    \"FVACSP\"   \"FVALP\"    \"FVEHP\"    \"FWATP\"    \"FYBLP\"   \n",
       "[109] \"wgtp1\"    \"wgtp2\"    \"wgtp3\"    \"wgtp4\"    \"wgtp5\"    \"wgtp6\"   \n",
       "[115] \"wgtp7\"    \"wgtp8\"    \"wgtp9\"    \"wgtp10\"   \"wgtp11\"   \"wgtp12\"  \n",
       "[121] \"wgtp13\"   \"wgtp14\"   \"wgtp15\"   \"wgtp16\"   \"wgtp17\"   \"wgtp18\"  \n",
       "[127] \"wgtp19\"   \"wgtp20\"   \"wgtp21\"   \"wgtp22\"   \"wgtp23\"   \"wgtp24\"  \n",
       "[133] \"wgtp25\"   \"wgtp26\"   \"wgtp27\"   \"wgtp28\"   \"wgtp29\"   \"wgtp30\"  \n",
       "[139] \"wgtp31\"   \"wgtp32\"   \"wgtp33\"   \"wgtp34\"   \"wgtp35\"   \"wgtp36\"  \n",
       "[145] \"wgtp37\"   \"wgtp38\"   \"wgtp39\"   \"wgtp40\"   \"wgtp41\"   \"wgtp42\"  \n",
       "[151] \"wgtp43\"   \"wgtp44\"   \"wgtp45\"   \"wgtp46\"   \"wgtp47\"   \"wgtp48\"  \n",
       "[157] \"wgtp49\"   \"wgtp50\"   \"wgtp51\"   \"wgtp52\"   \"wgtp53\"   \"wgtp54\"  \n",
       "[163] \"wgtp55\"   \"wgtp56\"   \"wgtp57\"   \"wgtp58\"   \"wgtp59\"   \"wgtp60\"  \n",
       "[169] \"wgtp61\"   \"wgtp62\"   \"wgtp63\"   \"wgtp64\"   \"wgtp65\"   \"wgtp66\"  \n",
       "[175] \"wgtp67\"   \"wgtp68\"   \"wgtp69\"   \"wgtp70\"   \"wgtp71\"   \"wgtp72\"  \n",
       "[181] \"wgtp73\"   \"wgtp74\"   \"wgtp75\"   \"wgtp76\"   \"wgtp77\"   \"wgtp78\"  \n",
       "[187] \"wgtp79\"   \"wgtp80\"  "
      ]
     },
     "metadata": {},
     "output_type": "display_data"
    }
   ],
   "source": [
    "housing <- read.csv(\"./data/getdata_data_ss06hid.csv\")\n",
    "names(housing)"
   ]
  },
  {
   "cell_type": "code",
   "execution_count": 100,
   "metadata": {},
   "outputs": [
    {
     "data": {
      "text/html": [
       "<ol>\n",
       "\t<li><style>\n",
       ".list-inline {list-style: none; margin:0; padding: 0}\n",
       ".list-inline>li {display: inline-block}\n",
       ".list-inline>li:not(:last-child)::after {content: \"\\00b7\"; padding: 0 .5ex}\n",
       "</style>\n",
       "<ol class=list-inline><li>''</li><li>'15'</li></ol>\n",
       "</li>\n",
       "</ol>\n"
      ],
      "text/latex": [
       "\\begin{enumerate}\n",
       "\\item \\begin{enumerate*}\n",
       "\\item ''\n",
       "\\item '15'\n",
       "\\end{enumerate*}\n",
       "\n",
       "\\end{enumerate}\n"
      ],
      "text/markdown": [
       "1. 1. ''\n",
       "2. '15'\n",
       "\n",
       "\n",
       "\n",
       "\n",
       "\n"
      ],
      "text/plain": [
       "[[1]]\n",
       "[1] \"\"   \"15\"\n"
      ]
     },
     "metadata": {},
     "output_type": "display_data"
    }
   ],
   "source": [
    "housingnamelist <- strsplit(names(housing), \"wgtp\")\n",
    "housingnamelist[123]"
   ]
  },
  {
   "cell_type": "code",
   "execution_count": 162,
   "metadata": {},
   "outputs": [
    {
     "name": "stderr",
     "output_type": "stream",
     "text": [
      "Warning message in eval(expr, envir, enclos):\n",
      "“NAs introduced by coercion”\n"
     ]
    }
   ],
   "source": [
    "gdp <- read.csv('data/getdata_data_GDP.csv')\n",
    "gdp <- gdp[5:235,]\n",
    "gdp <- select(gdp, c(\"X\":\"X.3\"))\n",
    "gdp <- rename(gdp, CountryCode = X, Ranking = Gross.domestic.product.2012, Country=X.2, Value = X.3)\n",
    "gdp$X.1 <- NULL\n",
    "gdp$Value <- as.integer(gsub(',', '', gdp$Value))\n",
    "#mean(gdp$Value)"
   ]
  },
  {
   "cell_type": "code",
   "execution_count": 119,
   "metadata": {},
   "outputs": [],
   "source": [
    "library(dplyr)\n",
    "#?select"
   ]
  },
  {
   "cell_type": "code",
   "execution_count": 153,
   "metadata": {},
   "outputs": [
    {
     "data": {
      "text/html": [
       "<table>\n",
       "<caption>A data.frame: 6 × 4</caption>\n",
       "<thead>\n",
       "\t<tr><th></th><th scope=col>CountryCode</th><th scope=col>Ranking</th><th scope=col>Country</th><th scope=col>Value</th></tr>\n",
       "\t<tr><th></th><th scope=col>&lt;chr&gt;</th><th scope=col>&lt;chr&gt;</th><th scope=col>&lt;chr&gt;</th><th scope=col>&lt;chr&gt;</th></tr>\n",
       "</thead>\n",
       "<tbody>\n",
       "\t<tr><th scope=row>5</th><td>USA</td><td>1</td><td>United States </td><td> 16244600 </td></tr>\n",
       "\t<tr><th scope=row>6</th><td>CHN</td><td>2</td><td>China         </td><td> 8227103  </td></tr>\n",
       "\t<tr><th scope=row>7</th><td>JPN</td><td>3</td><td>Japan         </td><td> 5959718  </td></tr>\n",
       "\t<tr><th scope=row>8</th><td>DEU</td><td>4</td><td>Germany       </td><td> 3428131  </td></tr>\n",
       "\t<tr><th scope=row>9</th><td>FRA</td><td>5</td><td>France        </td><td> 2612878  </td></tr>\n",
       "\t<tr><th scope=row>10</th><td>GBR</td><td>6</td><td>United Kingdom</td><td> 2471784  </td></tr>\n",
       "</tbody>\n",
       "</table>\n"
      ],
      "text/latex": [
       "A data.frame: 6 × 4\n",
       "\\begin{tabular}{r|llll}\n",
       "  & CountryCode & Ranking & Country & Value\\\\\n",
       "  & <chr> & <chr> & <chr> & <chr>\\\\\n",
       "\\hline\n",
       "\t5 & USA & 1 & United States  &  16244600 \\\\\n",
       "\t6 & CHN & 2 & China          &  8227103  \\\\\n",
       "\t7 & JPN & 3 & Japan          &  5959718  \\\\\n",
       "\t8 & DEU & 4 & Germany        &  3428131  \\\\\n",
       "\t9 & FRA & 5 & France         &  2612878  \\\\\n",
       "\t10 & GBR & 6 & United Kingdom &  2471784  \\\\\n",
       "\\end{tabular}\n"
      ],
      "text/markdown": [
       "\n",
       "A data.frame: 6 × 4\n",
       "\n",
       "| <!--/--> | CountryCode &lt;chr&gt; | Ranking &lt;chr&gt; | Country &lt;chr&gt; | Value &lt;chr&gt; |\n",
       "|---|---|---|---|---|\n",
       "| 5 | USA | 1 | United States  |  16244600  |\n",
       "| 6 | CHN | 2 | China          |  8227103   |\n",
       "| 7 | JPN | 3 | Japan          |  5959718   |\n",
       "| 8 | DEU | 4 | Germany        |  3428131   |\n",
       "| 9 | FRA | 5 | France         |  2612878   |\n",
       "| 10 | GBR | 6 | United Kingdom |  2471784   |\n",
       "\n"
      ],
      "text/plain": [
       "   CountryCode Ranking Country        Value     \n",
       "5  USA         1       United States   16244600 \n",
       "6  CHN         2       China           8227103  \n",
       "7  JPN         3       Japan           5959718  \n",
       "8  DEU         4       Germany         3428131  \n",
       "9  FRA         5       France          2612878  \n",
       "10 GBR         6       United Kingdom  2471784  "
      ]
     },
     "metadata": {},
     "output_type": "display_data"
    }
   ],
   "source": [
    "head(gdp)"
   ]
  },
  {
   "cell_type": "code",
   "execution_count": 167,
   "metadata": {},
   "outputs": [
    {
     "data": {
      "text/html": [
       "1453710.22058824"
      ],
      "text/latex": [
       "1453710.22058824"
      ],
      "text/markdown": [
       "1453710.22058824"
      ],
      "text/plain": [
       "[1] 1453710"
      ]
     },
     "metadata": {},
     "output_type": "display_data"
    }
   ],
   "source": [
    "#gdp$Value <- as.numeric(gdp$Value)\n",
    "#mean(as.integer(gdp$Value), na.rm = TRUE)\n",
    "#gdp[, mean(as.integer(gsub(pattern = ',', replacement = '', x = gdp)))]\n",
    "# mean(gdp[,'Value'])\n",
    "#str(gdp)\n",
    "mean(gdp$Value, na.rm = T)"
   ]
  },
  {
   "cell_type": "code",
   "execution_count": 168,
   "metadata": {},
   "outputs": [
    {
     "name": "stderr",
     "output_type": "stream",
     "text": [
      "Warning message in grep(\"^United\", gdp$Country):\n",
      "“input string 99 is invalid in this locale”\n",
      "Warning message in grep(\"^United\", gdp$Country):\n",
      "“input string 186 is invalid in this locale”\n",
      "Warning message in grep(\"^United\", gdp$Country):\n",
      "“input string 196 is invalid in this locale”\n"
     ]
    },
    {
     "data": {
      "text/html": [
       "<style>\n",
       ".list-inline {list-style: none; margin:0; padding: 0}\n",
       ".list-inline>li {display: inline-block}\n",
       ".list-inline>li:not(:last-child)::after {content: \"\\00b7\"; padding: 0 .5ex}\n",
       "</style>\n",
       "<ol class=list-inline><li>1</li><li>6</li><li>32</li></ol>\n"
      ],
      "text/latex": [
       "\\begin{enumerate*}\n",
       "\\item 1\n",
       "\\item 6\n",
       "\\item 32\n",
       "\\end{enumerate*}\n"
      ],
      "text/markdown": [
       "1. 1\n",
       "2. 6\n",
       "3. 32\n",
       "\n",
       "\n"
      ],
      "text/plain": [
       "[1]  1  6 32"
      ]
     },
     "metadata": {},
     "output_type": "display_data"
    }
   ],
   "source": [
    "grep(\"^United\", gdp$Country)"
   ]
  },
  {
   "cell_type": "code",
   "execution_count": 173,
   "metadata": {},
   "outputs": [],
   "source": [
    "#library(\"data.table\")\n",
    "#gdp <- fread(\"data/getdata_data_GDP.csv\", skip = 5, nrows = 190, select = c(1,2,4,5),\n",
    "#     col.names=c('CountryCode', 'Rank', 'Country', 'GDP'))\n",
    "gdp <- read.csv('data/getdata_data_GDP.csv')\n",
    "gdp <- gdp[5:235,]\n",
    "gdp <- select(gdp, c(\"X\":\"X.3\"))\n",
    "gdp <- rename(gdp, CountryCode = X, Ranking = Gross.domestic.product.2012, Country=X.2, Value = X.3)\n",
    "gdp$X.1 <- NULL"
   ]
  },
  {
   "cell_type": "code",
   "execution_count": 186,
   "metadata": {},
   "outputs": [
    {
     "data": {
      "text/html": [
       "<style>\n",
       ".list-inline {list-style: none; margin:0; padding: 0}\n",
       ".list-inline>li {display: inline-block}\n",
       ".list-inline>li:not(:last-child)::after {content: \"\\00b7\"; padding: 0 .5ex}\n",
       "</style>\n",
       "<ol class=list-inline><li>'CountryCode'</li><li>'Long.Name'</li><li>'Income.Group'</li><li>'Region'</li><li>'Lending.category'</li><li>'Other.groups'</li><li>'Currency.Unit'</li><li>'Latest.population.census'</li><li>'Latest.household.survey'</li><li>'Special.Notes'</li><li>'National.accounts.base.year'</li><li>'National.accounts.reference.year'</li><li>'System.of.National.Accounts'</li><li>'SNA.price.valuation'</li><li>'Alternative.conversion.factor'</li><li>'PPP.survey.year'</li><li>'Balance.of.Payments.Manual.in.use'</li><li>'External.debt.Reporting.status'</li><li>'System.of.trade'</li><li>'Government.Accounting.concept'</li><li>'IMF.data.dissemination.standard'</li><li>'Source.of.most.recent.Income.and.expenditure.data'</li><li>'Vital.registration.complete'</li><li>'Latest.agricultural.census'</li><li>'Latest.industrial.data'</li><li>'Latest.trade.data'</li><li>'Latest.water.withdrawal.data'</li><li>'X2.alpha.code'</li><li>'WB.2.code'</li><li>'Table.Name'</li><li>'Short.Name'</li></ol>\n"
      ],
      "text/latex": [
       "\\begin{enumerate*}\n",
       "\\item 'CountryCode'\n",
       "\\item 'Long.Name'\n",
       "\\item 'Income.Group'\n",
       "\\item 'Region'\n",
       "\\item 'Lending.category'\n",
       "\\item 'Other.groups'\n",
       "\\item 'Currency.Unit'\n",
       "\\item 'Latest.population.census'\n",
       "\\item 'Latest.household.survey'\n",
       "\\item 'Special.Notes'\n",
       "\\item 'National.accounts.base.year'\n",
       "\\item 'National.accounts.reference.year'\n",
       "\\item 'System.of.National.Accounts'\n",
       "\\item 'SNA.price.valuation'\n",
       "\\item 'Alternative.conversion.factor'\n",
       "\\item 'PPP.survey.year'\n",
       "\\item 'Balance.of.Payments.Manual.in.use'\n",
       "\\item 'External.debt.Reporting.status'\n",
       "\\item 'System.of.trade'\n",
       "\\item 'Government.Accounting.concept'\n",
       "\\item 'IMF.data.dissemination.standard'\n",
       "\\item 'Source.of.most.recent.Income.and.expenditure.data'\n",
       "\\item 'Vital.registration.complete'\n",
       "\\item 'Latest.agricultural.census'\n",
       "\\item 'Latest.industrial.data'\n",
       "\\item 'Latest.trade.data'\n",
       "\\item 'Latest.water.withdrawal.data'\n",
       "\\item 'X2.alpha.code'\n",
       "\\item 'WB.2.code'\n",
       "\\item 'Table.Name'\n",
       "\\item 'Short.Name'\n",
       "\\end{enumerate*}\n"
      ],
      "text/markdown": [
       "1. 'CountryCode'\n",
       "2. 'Long.Name'\n",
       "3. 'Income.Group'\n",
       "4. 'Region'\n",
       "5. 'Lending.category'\n",
       "6. 'Other.groups'\n",
       "7. 'Currency.Unit'\n",
       "8. 'Latest.population.census'\n",
       "9. 'Latest.household.survey'\n",
       "10. 'Special.Notes'\n",
       "11. 'National.accounts.base.year'\n",
       "12. 'National.accounts.reference.year'\n",
       "13. 'System.of.National.Accounts'\n",
       "14. 'SNA.price.valuation'\n",
       "15. 'Alternative.conversion.factor'\n",
       "16. 'PPP.survey.year'\n",
       "17. 'Balance.of.Payments.Manual.in.use'\n",
       "18. 'External.debt.Reporting.status'\n",
       "19. 'System.of.trade'\n",
       "20. 'Government.Accounting.concept'\n",
       "21. 'IMF.data.dissemination.standard'\n",
       "22. 'Source.of.most.recent.Income.and.expenditure.data'\n",
       "23. 'Vital.registration.complete'\n",
       "24. 'Latest.agricultural.census'\n",
       "25. 'Latest.industrial.data'\n",
       "26. 'Latest.trade.data'\n",
       "27. 'Latest.water.withdrawal.data'\n",
       "28. 'X2.alpha.code'\n",
       "29. 'WB.2.code'\n",
       "30. 'Table.Name'\n",
       "31. 'Short.Name'\n",
       "\n",
       "\n"
      ],
      "text/plain": [
       " [1] \"CountryCode\"                                      \n",
       " [2] \"Long.Name\"                                        \n",
       " [3] \"Income.Group\"                                     \n",
       " [4] \"Region\"                                           \n",
       " [5] \"Lending.category\"                                 \n",
       " [6] \"Other.groups\"                                     \n",
       " [7] \"Currency.Unit\"                                    \n",
       " [8] \"Latest.population.census\"                         \n",
       " [9] \"Latest.household.survey\"                          \n",
       "[10] \"Special.Notes\"                                    \n",
       "[11] \"National.accounts.base.year\"                      \n",
       "[12] \"National.accounts.reference.year\"                 \n",
       "[13] \"System.of.National.Accounts\"                      \n",
       "[14] \"SNA.price.valuation\"                              \n",
       "[15] \"Alternative.conversion.factor\"                    \n",
       "[16] \"PPP.survey.year\"                                  \n",
       "[17] \"Balance.of.Payments.Manual.in.use\"                \n",
       "[18] \"External.debt.Reporting.status\"                   \n",
       "[19] \"System.of.trade\"                                  \n",
       "[20] \"Government.Accounting.concept\"                    \n",
       "[21] \"IMF.data.dissemination.standard\"                  \n",
       "[22] \"Source.of.most.recent.Income.and.expenditure.data\"\n",
       "[23] \"Vital.registration.complete\"                      \n",
       "[24] \"Latest.agricultural.census\"                       \n",
       "[25] \"Latest.industrial.data\"                           \n",
       "[26] \"Latest.trade.data\"                                \n",
       "[27] \"Latest.water.withdrawal.data\"                     \n",
       "[28] \"X2.alpha.code\"                                    \n",
       "[29] \"WB.2.code\"                                        \n",
       "[30] \"Table.Name\"                                       \n",
       "[31] \"Short.Name\"                                       "
      ]
     },
     "metadata": {},
     "output_type": "display_data"
    }
   ],
   "source": [
    "edu <- read.csv('data/getdata_data_EDSTATS_Country.csv')\n",
    "names(edu)"
   ]
  },
  {
   "cell_type": "code",
   "execution_count": 178,
   "metadata": {},
   "outputs": [],
   "source": [
    "#merged.gdp.edu <- merge(gdp, edu, by.x = 'CountryCode', by.y='CountryCode')\n",
    "merged.gdp.edu <- merge(gdp, edu, by=\"CountryCode\")"
   ]
  },
  {
   "cell_type": "code",
   "execution_count": 179,
   "metadata": {},
   "outputs": [
    {
     "data": {
      "text/html": [
       "<table>\n",
       "<caption>A data.frame: 6 × 34</caption>\n",
       "<thead>\n",
       "\t<tr><th></th><th scope=col>CountryCode</th><th scope=col>Ranking</th><th scope=col>Country</th><th scope=col>Value</th><th scope=col>Long.Name</th><th scope=col>Income.Group</th><th scope=col>Region</th><th scope=col>Lending.category</th><th scope=col>Other.groups</th><th scope=col>Currency.Unit</th><th scope=col>⋯</th><th scope=col>Source.of.most.recent.Income.and.expenditure.data</th><th scope=col>Vital.registration.complete</th><th scope=col>Latest.agricultural.census</th><th scope=col>Latest.industrial.data</th><th scope=col>Latest.trade.data</th><th scope=col>Latest.water.withdrawal.data</th><th scope=col>X2.alpha.code</th><th scope=col>WB.2.code</th><th scope=col>Table.Name</th><th scope=col>Short.Name</th></tr>\n",
       "\t<tr><th></th><th scope=col>&lt;chr&gt;</th><th scope=col>&lt;chr&gt;</th><th scope=col>&lt;chr&gt;</th><th scope=col>&lt;chr&gt;</th><th scope=col>&lt;chr&gt;</th><th scope=col>&lt;chr&gt;</th><th scope=col>&lt;chr&gt;</th><th scope=col>&lt;chr&gt;</th><th scope=col>&lt;chr&gt;</th><th scope=col>&lt;chr&gt;</th><th scope=col>⋯</th><th scope=col>&lt;chr&gt;</th><th scope=col>&lt;chr&gt;</th><th scope=col>&lt;chr&gt;</th><th scope=col>&lt;int&gt;</th><th scope=col>&lt;int&gt;</th><th scope=col>&lt;int&gt;</th><th scope=col>&lt;chr&gt;</th><th scope=col>&lt;chr&gt;</th><th scope=col>&lt;chr&gt;</th><th scope=col>&lt;chr&gt;</th></tr>\n",
       "</thead>\n",
       "<tbody>\n",
       "\t<tr><th scope=row>1</th><td>ABW</td><td>161</td><td><span style=white-space:pre-wrap>Aruba               </span></td><td><span style=white-space:pre-wrap> 2,584   </span></td><td><span style=white-space:pre-wrap>Aruba                       </span></td><td>High income: nonOECD</td><td>Latin America &amp; Caribbean </td><td><span style=white-space:pre-wrap>    </span></td><td><span style=white-space:pre-wrap>    </span></td><td>Aruban florin </td><td>⋯</td><td><span style=white-space:pre-wrap>          </span></td><td><span style=white-space:pre-wrap>   </span></td><td><span style=white-space:pre-wrap>       </span></td><td><span style=white-space:pre-wrap>  NA</span></td><td>2008</td><td><span style=white-space:pre-wrap>  NA</span></td><td>AW</td><td>AW</td><td><span style=white-space:pre-wrap>Aruba               </span></td><td><span style=white-space:pre-wrap>Aruba               </span></td></tr>\n",
       "\t<tr><th scope=row>2</th><td>ADO</td><td><span style=white-space:pre-wrap>   </span></td><td><span style=white-space:pre-wrap>Andorra             </span></td><td><span style=white-space:pre-wrap>..       </span></td><td><span style=white-space:pre-wrap>Principality of Andorra     </span></td><td>High income: nonOECD</td><td><span style=white-space:pre-wrap>Europe &amp; Central Asia     </span></td><td><span style=white-space:pre-wrap>    </span></td><td><span style=white-space:pre-wrap>    </span></td><td><span style=white-space:pre-wrap>Euro          </span></td><td>⋯</td><td><span style=white-space:pre-wrap>          </span></td><td>Yes</td><td><span style=white-space:pre-wrap>       </span></td><td><span style=white-space:pre-wrap>  NA</span></td><td>2006</td><td><span style=white-space:pre-wrap>  NA</span></td><td>AD</td><td>AD</td><td><span style=white-space:pre-wrap>Andorra             </span></td><td><span style=white-space:pre-wrap>Andorra             </span></td></tr>\n",
       "\t<tr><th scope=row>3</th><td>AFG</td><td>105</td><td>Afghanistan         </td><td> 20,497  </td><td>Islamic State of Afghanistan</td><td>Low income          </td><td>South Asia                </td><td>IDA </td><td>HIPC</td><td>Afghan afghani</td><td>⋯</td><td>          </td><td>   </td><td>       </td><td>  NA</td><td>2008</td><td>2000</td><td>AF</td><td>AF</td><td>Afghanistan         </td><td>Afghanistan         </td></tr>\n",
       "\t<tr><th scope=row>4</th><td>AGO</td><td>60 </td><td>Angola              </td><td> 114,147 </td><td>People's Republic of Angola </td><td>Lower middle income </td><td>Sub-Saharan Africa        </td><td>IDA </td><td>    </td><td>Angolan kwanza</td><td>⋯</td><td>IHS, 2000 </td><td>   </td><td>1964-65</td><td>  NA</td><td>1991</td><td>2000</td><td>AO</td><td>AO</td><td>Angola              </td><td>Angola              </td></tr>\n",
       "\t<tr><th scope=row>5</th><td>ALB</td><td>125</td><td><span style=white-space:pre-wrap>Albania             </span></td><td><span style=white-space:pre-wrap> 12,648  </span></td><td><span style=white-space:pre-wrap>Republic of Albania         </span></td><td>Upper middle income </td><td><span style=white-space:pre-wrap>Europe &amp; Central Asia     </span></td><td>IBRD</td><td><span style=white-space:pre-wrap>    </span></td><td><span style=white-space:pre-wrap>Albanian lek  </span></td><td>⋯</td><td>LSMS, 2005</td><td>Yes</td><td><span style=white-space:pre-wrap>1998   </span></td><td>2005</td><td>2008</td><td>2000</td><td>AL</td><td>AL</td><td><span style=white-space:pre-wrap>Albania             </span></td><td><span style=white-space:pre-wrap>Albania             </span></td></tr>\n",
       "\t<tr><th scope=row>6</th><td>ARE</td><td>32 </td><td>United Arab Emirates</td><td> 348,595 </td><td><span style=white-space:pre-wrap>United Arab Emirates        </span></td><td>High income: nonOECD</td><td>Middle East &amp; North Africa</td><td><span style=white-space:pre-wrap>    </span></td><td><span style=white-space:pre-wrap>    </span></td><td>U.A.E. dirham </td><td>⋯</td><td><span style=white-space:pre-wrap>          </span></td><td><span style=white-space:pre-wrap>   </span></td><td><span style=white-space:pre-wrap>1998   </span></td><td><span style=white-space:pre-wrap>  NA</span></td><td>2008</td><td>2005</td><td>AE</td><td>AE</td><td>United Arab Emirates</td><td>United Arab Emirates</td></tr>\n",
       "</tbody>\n",
       "</table>\n"
      ],
      "text/latex": [
       "A data.frame: 6 × 34\n",
       "\\begin{tabular}{r|lllllllllllllllllllll}\n",
       "  & CountryCode & Ranking & Country & Value & Long.Name & Income.Group & Region & Lending.category & Other.groups & Currency.Unit & ⋯ & Source.of.most.recent.Income.and.expenditure.data & Vital.registration.complete & Latest.agricultural.census & Latest.industrial.data & Latest.trade.data & Latest.water.withdrawal.data & X2.alpha.code & WB.2.code & Table.Name & Short.Name\\\\\n",
       "  & <chr> & <chr> & <chr> & <chr> & <chr> & <chr> & <chr> & <chr> & <chr> & <chr> & ⋯ & <chr> & <chr> & <chr> & <int> & <int> & <int> & <chr> & <chr> & <chr> & <chr>\\\\\n",
       "\\hline\n",
       "\t1 & ABW & 161 & Aruba                &  2,584    & Aruba                        & High income: nonOECD & Latin America \\& Caribbean  &      &      & Aruban florin  & ⋯ &            &     &         &   NA & 2008 &   NA & AW & AW & Aruba                & Aruba               \\\\\n",
       "\t2 & ADO &     & Andorra              & ..        & Principality of Andorra      & High income: nonOECD & Europe \\& Central Asia      &      &      & Euro           & ⋯ &            & Yes &         &   NA & 2006 &   NA & AD & AD & Andorra              & Andorra             \\\\\n",
       "\t3 & AFG & 105 & Afghanistan          &  20,497   & Islamic State of Afghanistan & Low income           & South Asia                 & IDA  & HIPC & Afghan afghani & ⋯ &            &     &         &   NA & 2008 & 2000 & AF & AF & Afghanistan          & Afghanistan         \\\\\n",
       "\t4 & AGO & 60  & Angola               &  114,147  & People's Republic of Angola  & Lower middle income  & Sub-Saharan Africa         & IDA  &      & Angolan kwanza & ⋯ & IHS, 2000  &     & 1964-65 &   NA & 1991 & 2000 & AO & AO & Angola               & Angola              \\\\\n",
       "\t5 & ALB & 125 & Albania              &  12,648   & Republic of Albania          & Upper middle income  & Europe \\& Central Asia      & IBRD &      & Albanian lek   & ⋯ & LSMS, 2005 & Yes & 1998    & 2005 & 2008 & 2000 & AL & AL & Albania              & Albania             \\\\\n",
       "\t6 & ARE & 32  & United Arab Emirates &  348,595  & United Arab Emirates         & High income: nonOECD & Middle East \\& North Africa &      &      & U.A.E. dirham  & ⋯ &            &     & 1998    &   NA & 2008 & 2005 & AE & AE & United Arab Emirates & United Arab Emirates\\\\\n",
       "\\end{tabular}\n"
      ],
      "text/markdown": [
       "\n",
       "A data.frame: 6 × 34\n",
       "\n",
       "| <!--/--> | CountryCode &lt;chr&gt; | Ranking &lt;chr&gt; | Country &lt;chr&gt; | Value &lt;chr&gt; | Long.Name &lt;chr&gt; | Income.Group &lt;chr&gt; | Region &lt;chr&gt; | Lending.category &lt;chr&gt; | Other.groups &lt;chr&gt; | Currency.Unit &lt;chr&gt; | ⋯ ⋯ | Source.of.most.recent.Income.and.expenditure.data &lt;chr&gt; | Vital.registration.complete &lt;chr&gt; | Latest.agricultural.census &lt;chr&gt; | Latest.industrial.data &lt;int&gt; | Latest.trade.data &lt;int&gt; | Latest.water.withdrawal.data &lt;int&gt; | X2.alpha.code &lt;chr&gt; | WB.2.code &lt;chr&gt; | Table.Name &lt;chr&gt; | Short.Name &lt;chr&gt; |\n",
       "|---|---|---|---|---|---|---|---|---|---|---|---|---|---|---|---|---|---|---|---|---|---|\n",
       "| 1 | ABW | 161 | Aruba                |  2,584    | Aruba                        | High income: nonOECD | Latin America &amp; Caribbean  | <!----> | <!----> | Aruban florin  | ⋯ | <!----> | <!----> | <!----> |   NA | 2008 |   NA | AW | AW | Aruba                | Aruba                |\n",
       "| 2 | ADO | <!----> | Andorra              | ..        | Principality of Andorra      | High income: nonOECD | Europe &amp; Central Asia      | <!----> | <!----> | Euro           | ⋯ | <!----> | Yes | <!----> |   NA | 2006 |   NA | AD | AD | Andorra              | Andorra              |\n",
       "| 3 | AFG | 105 | Afghanistan          |  20,497   | Islamic State of Afghanistan | Low income           | South Asia                 | IDA  | HIPC | Afghan afghani | ⋯ | <!----> | <!----> | <!----> |   NA | 2008 | 2000 | AF | AF | Afghanistan          | Afghanistan          |\n",
       "| 4 | AGO | 60  | Angola               |  114,147  | People's Republic of Angola  | Lower middle income  | Sub-Saharan Africa         | IDA  | <!----> | Angolan kwanza | ⋯ | IHS, 2000  | <!----> | 1964-65 |   NA | 1991 | 2000 | AO | AO | Angola               | Angola               |\n",
       "| 5 | ALB | 125 | Albania              |  12,648   | Republic of Albania          | Upper middle income  | Europe &amp; Central Asia      | IBRD | <!----> | Albanian lek   | ⋯ | LSMS, 2005 | Yes | 1998    | 2005 | 2008 | 2000 | AL | AL | Albania              | Albania              |\n",
       "| 6 | ARE | 32  | United Arab Emirates |  348,595  | United Arab Emirates         | High income: nonOECD | Middle East &amp; North Africa | <!----> | <!----> | U.A.E. dirham  | ⋯ | <!----> | <!----> | 1998    |   NA | 2008 | 2005 | AE | AE | United Arab Emirates | United Arab Emirates |\n",
       "\n"
      ],
      "text/plain": [
       "  CountryCode Ranking Country              Value    \n",
       "1 ABW         161     Aruba                 2,584   \n",
       "2 ADO                 Andorra              ..       \n",
       "3 AFG         105     Afghanistan           20,497  \n",
       "4 AGO         60      Angola                114,147 \n",
       "5 ALB         125     Albania               12,648  \n",
       "6 ARE         32      United Arab Emirates  348,595 \n",
       "  Long.Name                    Income.Group         Region                    \n",
       "1 Aruba                        High income: nonOECD Latin America & Caribbean \n",
       "2 Principality of Andorra      High income: nonOECD Europe & Central Asia     \n",
       "3 Islamic State of Afghanistan Low income           South Asia                \n",
       "4 People's Republic of Angola  Lower middle income  Sub-Saharan Africa        \n",
       "5 Republic of Albania          Upper middle income  Europe & Central Asia     \n",
       "6 United Arab Emirates         High income: nonOECD Middle East & North Africa\n",
       "  Lending.category Other.groups Currency.Unit  ⋯\n",
       "1                               Aruban florin  ⋯\n",
       "2                               Euro           ⋯\n",
       "3 IDA              HIPC         Afghan afghani ⋯\n",
       "4 IDA                           Angolan kwanza ⋯\n",
       "5 IBRD                          Albanian lek   ⋯\n",
       "6                               U.A.E. dirham  ⋯\n",
       "  Source.of.most.recent.Income.and.expenditure.data Vital.registration.complete\n",
       "1                                                                              \n",
       "2                                                   Yes                        \n",
       "3                                                                              \n",
       "4 IHS, 2000                                                                    \n",
       "5 LSMS, 2005                                        Yes                        \n",
       "6                                                                              \n",
       "  Latest.agricultural.census Latest.industrial.data Latest.trade.data\n",
       "1                              NA                   2008             \n",
       "2                              NA                   2006             \n",
       "3                              NA                   2008             \n",
       "4 1964-65                      NA                   1991             \n",
       "5 1998                       2005                   2008             \n",
       "6 1998                         NA                   2008             \n",
       "  Latest.water.withdrawal.data X2.alpha.code WB.2.code Table.Name          \n",
       "1   NA                         AW            AW        Aruba               \n",
       "2   NA                         AD            AD        Andorra             \n",
       "3 2000                         AF            AF        Afghanistan         \n",
       "4 2000                         AO            AO        Angola              \n",
       "5 2000                         AL            AL        Albania             \n",
       "6 2005                         AE            AE        United Arab Emirates\n",
       "  Short.Name          \n",
       "1 Aruba               \n",
       "2 Andorra             \n",
       "3 Afghanistan         \n",
       "4 Angola              \n",
       "5 Albania             \n",
       "6 United Arab Emirates"
      ]
     },
     "metadata": {},
     "output_type": "display_data"
    }
   ],
   "source": [
    "head(merged.gdp.edu)"
   ]
  },
  {
   "cell_type": "code",
   "execution_count": 184,
   "metadata": {},
   "outputs": [
    {
     "data": {
      "text/html": [
       "<style>\n",
       ".list-inline {list-style: none; margin:0; padding: 0}\n",
       ".list-inline>li {display: inline-block}\n",
       ".list-inline>li:not(:last-child)::after {content: \"\\00b7\"; padding: 0 .5ex}\n",
       "</style>\n",
       "<ol class=list-inline><li>'CountryCode'</li><li>'Ranking'</li><li>'Country'</li><li>'Value'</li><li>'Long.Name'</li><li>'Income.Group'</li><li>'Region'</li><li>'Lending.category'</li><li>'Other.groups'</li><li>'Currency.Unit'</li><li>'Latest.population.census'</li><li>'Latest.household.survey'</li><li>'Special.Notes'</li><li>'National.accounts.base.year'</li><li>'National.accounts.reference.year'</li><li>'System.of.National.Accounts'</li><li>'SNA.price.valuation'</li><li>'Alternative.conversion.factor'</li><li>'PPP.survey.year'</li><li>'Balance.of.Payments.Manual.in.use'</li><li>'External.debt.Reporting.status'</li><li>'System.of.trade'</li><li>'Government.Accounting.concept'</li><li>'IMF.data.dissemination.standard'</li><li>'Source.of.most.recent.Income.and.expenditure.data'</li><li>'Vital.registration.complete'</li><li>'Latest.agricultural.census'</li><li>'Latest.industrial.data'</li><li>'Latest.trade.data'</li><li>'Latest.water.withdrawal.data'</li><li>'X2.alpha.code'</li><li>'WB.2.code'</li><li>'Table.Name'</li><li>'Short.Name'</li></ol>\n"
      ],
      "text/latex": [
       "\\begin{enumerate*}\n",
       "\\item 'CountryCode'\n",
       "\\item 'Ranking'\n",
       "\\item 'Country'\n",
       "\\item 'Value'\n",
       "\\item 'Long.Name'\n",
       "\\item 'Income.Group'\n",
       "\\item 'Region'\n",
       "\\item 'Lending.category'\n",
       "\\item 'Other.groups'\n",
       "\\item 'Currency.Unit'\n",
       "\\item 'Latest.population.census'\n",
       "\\item 'Latest.household.survey'\n",
       "\\item 'Special.Notes'\n",
       "\\item 'National.accounts.base.year'\n",
       "\\item 'National.accounts.reference.year'\n",
       "\\item 'System.of.National.Accounts'\n",
       "\\item 'SNA.price.valuation'\n",
       "\\item 'Alternative.conversion.factor'\n",
       "\\item 'PPP.survey.year'\n",
       "\\item 'Balance.of.Payments.Manual.in.use'\n",
       "\\item 'External.debt.Reporting.status'\n",
       "\\item 'System.of.trade'\n",
       "\\item 'Government.Accounting.concept'\n",
       "\\item 'IMF.data.dissemination.standard'\n",
       "\\item 'Source.of.most.recent.Income.and.expenditure.data'\n",
       "\\item 'Vital.registration.complete'\n",
       "\\item 'Latest.agricultural.census'\n",
       "\\item 'Latest.industrial.data'\n",
       "\\item 'Latest.trade.data'\n",
       "\\item 'Latest.water.withdrawal.data'\n",
       "\\item 'X2.alpha.code'\n",
       "\\item 'WB.2.code'\n",
       "\\item 'Table.Name'\n",
       "\\item 'Short.Name'\n",
       "\\end{enumerate*}\n"
      ],
      "text/markdown": [
       "1. 'CountryCode'\n",
       "2. 'Ranking'\n",
       "3. 'Country'\n",
       "4. 'Value'\n",
       "5. 'Long.Name'\n",
       "6. 'Income.Group'\n",
       "7. 'Region'\n",
       "8. 'Lending.category'\n",
       "9. 'Other.groups'\n",
       "10. 'Currency.Unit'\n",
       "11. 'Latest.population.census'\n",
       "12. 'Latest.household.survey'\n",
       "13. 'Special.Notes'\n",
       "14. 'National.accounts.base.year'\n",
       "15. 'National.accounts.reference.year'\n",
       "16. 'System.of.National.Accounts'\n",
       "17. 'SNA.price.valuation'\n",
       "18. 'Alternative.conversion.factor'\n",
       "19. 'PPP.survey.year'\n",
       "20. 'Balance.of.Payments.Manual.in.use'\n",
       "21. 'External.debt.Reporting.status'\n",
       "22. 'System.of.trade'\n",
       "23. 'Government.Accounting.concept'\n",
       "24. 'IMF.data.dissemination.standard'\n",
       "25. 'Source.of.most.recent.Income.and.expenditure.data'\n",
       "26. 'Vital.registration.complete'\n",
       "27. 'Latest.agricultural.census'\n",
       "28. 'Latest.industrial.data'\n",
       "29. 'Latest.trade.data'\n",
       "30. 'Latest.water.withdrawal.data'\n",
       "31. 'X2.alpha.code'\n",
       "32. 'WB.2.code'\n",
       "33. 'Table.Name'\n",
       "34. 'Short.Name'\n",
       "\n",
       "\n"
      ],
      "text/plain": [
       " [1] \"CountryCode\"                                      \n",
       " [2] \"Ranking\"                                          \n",
       " [3] \"Country\"                                          \n",
       " [4] \"Value\"                                            \n",
       " [5] \"Long.Name\"                                        \n",
       " [6] \"Income.Group\"                                     \n",
       " [7] \"Region\"                                           \n",
       " [8] \"Lending.category\"                                 \n",
       " [9] \"Other.groups\"                                     \n",
       "[10] \"Currency.Unit\"                                    \n",
       "[11] \"Latest.population.census\"                         \n",
       "[12] \"Latest.household.survey\"                          \n",
       "[13] \"Special.Notes\"                                    \n",
       "[14] \"National.accounts.base.year\"                      \n",
       "[15] \"National.accounts.reference.year\"                 \n",
       "[16] \"System.of.National.Accounts\"                      \n",
       "[17] \"SNA.price.valuation\"                              \n",
       "[18] \"Alternative.conversion.factor\"                    \n",
       "[19] \"PPP.survey.year\"                                  \n",
       "[20] \"Balance.of.Payments.Manual.in.use\"                \n",
       "[21] \"External.debt.Reporting.status\"                   \n",
       "[22] \"System.of.trade\"                                  \n",
       "[23] \"Government.Accounting.concept\"                    \n",
       "[24] \"IMF.data.dissemination.standard\"                  \n",
       "[25] \"Source.of.most.recent.Income.and.expenditure.data\"\n",
       "[26] \"Vital.registration.complete\"                      \n",
       "[27] \"Latest.agricultural.census\"                       \n",
       "[28] \"Latest.industrial.data\"                           \n",
       "[29] \"Latest.trade.data\"                                \n",
       "[30] \"Latest.water.withdrawal.data\"                     \n",
       "[31] \"X2.alpha.code\"                                    \n",
       "[32] \"WB.2.code\"                                        \n",
       "[33] \"Table.Name\"                                       \n",
       "[34] \"Short.Name\"                                       "
      ]
     },
     "metadata": {},
     "output_type": "display_data"
    }
   ],
   "source": [
    "names(merged.gdp.edu)"
   ]
  },
  {
   "cell_type": "code",
   "execution_count": 188,
   "metadata": {},
   "outputs": [
    {
     "ename": "ERROR",
     "evalue": "Error in `[.data.frame`(merged.gdp.edu, , Special.Notes): object 'Special.Notes' not found\n",
     "output_type": "error",
     "traceback": [
      "Error in `[.data.frame`(merged.gdp.edu, , Special.Notes): object 'Special.Notes' not found\nTraceback:\n",
      "1. merged.gdp.edu[, Special.Notes]",
      "2. `[.data.frame`(merged.gdp.edu, , Special.Notes)"
     ]
    }
   ],
   "source": [
    "merged.gdp.edu[, `Special.Notes`]"
   ]
  },
  {
   "cell_type": "code",
   "execution_count": 199,
   "metadata": {},
   "outputs": [
    {
     "data": {
      "text/html": [
       "13"
      ],
      "text/latex": [
       "13"
      ],
      "text/markdown": [
       "13"
      ],
      "text/plain": [
       "[1] 13"
      ]
     },
     "metadata": {},
     "output_type": "display_data"
    }
   ],
   "source": [
    "# grepl(pattern = 'Fiscal year end: June 30', merged.gdp.edu[, 'Special.Notes'])\n",
    "nrow(merged.gdp.edu[grepl(pattern = 'Fiscal year end: June 30', merged.gdp.edu[, 'Special.Notes']), .N])"
   ]
  },
  {
   "cell_type": "code",
   "execution_count": 200,
   "metadata": {},
   "outputs": [
    {
     "name": "stderr",
     "output_type": "stream",
     "text": [
      "Installing package into ‘/home/yanyuan/R/x86_64-pc-linux-gnu-library/4.0’\n",
      "(as ‘lib’ is unspecified)\n",
      "\n",
      "also installing the dependencies ‘xts’, ‘zoo’, ‘TTR’\n",
      "\n",
      "\n"
     ]
    }
   ],
   "source": [
    "install.packages(\"quantmod\")"
   ]
  },
  {
   "cell_type": "code",
   "execution_count": 201,
   "metadata": {},
   "outputs": [
    {
     "name": "stderr",
     "output_type": "stream",
     "text": [
      "Loading required package: xts\n",
      "\n",
      "Loading required package: zoo\n",
      "\n",
      "\n",
      "Attaching package: ‘zoo’\n",
      "\n",
      "\n",
      "The following objects are masked from ‘package:base’:\n",
      "\n",
      "    as.Date, as.Date.numeric\n",
      "\n",
      "\n",
      "\n",
      "Attaching package: ‘xts’\n",
      "\n",
      "\n",
      "The following objects are masked from ‘package:data.table’:\n",
      "\n",
      "    first, last\n",
      "\n",
      "\n",
      "The following objects are masked from ‘package:dplyr’:\n",
      "\n",
      "    first, last\n",
      "\n",
      "\n",
      "Loading required package: TTR\n",
      "\n",
      "Registered S3 method overwritten by 'quantmod':\n",
      "  method            from\n",
      "  as.zoo.data.frame zoo \n",
      "\n",
      "Version 0.4-0 included new data defaults. See ?getSymbols.\n",
      "\n",
      "‘getSymbols’ currently uses auto.assign=TRUE by default, but will\n",
      "use auto.assign=FALSE in 0.5-0. You will still be able to use\n",
      "‘loadSymbols’ to automatically load data. getOption(\"getSymbols.env\")\n",
      "and getOption(\"getSymbols.auto.assign\") will still be checked for\n",
      "alternate defaults.\n",
      "\n",
      "This message is shown once per session and may be disabled by setting \n",
      "options(\"getSymbols.warning4.0\"=FALSE). See ?getSymbols for details.\n",
      "\n",
      "\n"
     ]
    }
   ],
   "source": [
    "library(quantmod)\n",
    "amzn = getSymbols(\"AMZN\",auto.assign=FALSE)\n",
    "sampleTimes = index(amzn)"
   ]
  },
  {
   "cell_type": "code",
   "execution_count": 214,
   "metadata": {},
   "outputs": [],
   "source": [
    "sampleTimes <- index(amzn)\n",
    "timeDT <- data.table::data.table(timeCol = sampleTimes)"
   ]
  },
  {
   "cell_type": "code",
   "execution_count": 216,
   "metadata": {},
   "outputs": [
    {
     "data": {
      "text/html": [
       "250"
      ],
      "text/latex": [
       "250"
      ],
      "text/markdown": [
       "250"
      ],
      "text/plain": [
       "[1] 250"
      ]
     },
     "metadata": {},
     "output_type": "display_data"
    }
   ],
   "source": [
    "timeDT[(timeCol >= \"2012-01-01\") & (timeCol < \"2013-01-01\"), .N]"
   ]
  },
  {
   "cell_type": "code",
   "execution_count": 219,
   "metadata": {},
   "outputs": [
    {
     "data": {
      "text/html": [
       "47"
      ],
      "text/latex": [
       "47"
      ],
      "text/markdown": [
       "47"
      ],
      "text/plain": [
       "[1] 47"
      ]
     },
     "metadata": {},
     "output_type": "display_data"
    }
   ],
   "source": [
    "timeDT[(timeCol >= \"2012-01-01\") & (timeCol < \"2013-01-01\") & (weekdays(timeCol) == '星期一'), .N]"
   ]
  },
  {
   "cell_type": "markdown",
   "metadata": {},
   "source": [
    "# Peer-graded Assignment"
   ]
  },
  {
   "cell_type": "code",
   "execution_count": null,
   "metadata": {},
   "outputs": [],
   "source": [
    "#"
   ]
  }
 ],
 "metadata": {
  "kernelspec": {
   "display_name": "R",
   "language": "R",
   "name": "ir"
  },
  "language_info": {
   "codemirror_mode": "r",
   "file_extension": ".r",
   "mimetype": "text/x-r-source",
   "name": "R",
   "pygments_lexer": "r",
   "version": "4.0.2"
  }
 },
 "nbformat": 4,
 "nbformat_minor": 4
}
