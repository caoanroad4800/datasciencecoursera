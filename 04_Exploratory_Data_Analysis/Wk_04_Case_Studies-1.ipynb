{
 "cells": [
  {
   "cell_type": "markdown",
   "metadata": {},
   "source": [
    "## EDA Case Study - Understanding Human Activity with Smart Phones"
   ]
  },
  {
   "cell_type": "code",
   "execution_count": 1,
   "metadata": {},
   "outputs": [],
   "source": [
    "#?transform"
   ]
  },
  {
   "cell_type": "markdown",
   "metadata": {},
   "source": [
    "## EDA Case Study - Air Pollution Case Study"
   ]
  },
  {
   "cell_type": "code",
   "execution_count": 14,
   "metadata": {},
   "outputs": [],
   "source": [
    "pmdatacode <- readRDS(\"./data/Source_Classification_Code.rds\")"
   ]
  },
  {
   "cell_type": "code",
   "execution_count": 17,
   "metadata": {},
   "outputs": [],
   "source": [
    "#unique(pmdatacode$SCC.Level.Four)"
   ]
  },
  {
   "cell_type": "code",
   "execution_count": 2,
   "metadata": {},
   "outputs": [],
   "source": [
    "pmdata <- readRDS(\"./data/summarySCC_PM25.rds\")"
   ]
  },
  {
   "cell_type": "code",
   "execution_count": 3,
   "metadata": {},
   "outputs": [],
   "source": [
    "#?segments"
   ]
  },
  {
   "cell_type": "code",
   "execution_count": 4,
   "metadata": {},
   "outputs": [
    {
     "data": {
      "text/html": [
       "<style>\n",
       ".list-inline {list-style: none; margin:0; padding: 0}\n",
       ".list-inline>li {display: inline-block}\n",
       ".list-inline>li:not(:last-child)::after {content: \"\\00b7\"; padding: 0 .5ex}\n",
       "</style>\n",
       "<ol class=list-inline><li>'fips'</li><li>'SCC'</li><li>'Pollutant'</li><li>'Emissions'</li><li>'type'</li><li>'year'</li></ol>\n"
      ],
      "text/latex": [
       "\\begin{enumerate*}\n",
       "\\item 'fips'\n",
       "\\item 'SCC'\n",
       "\\item 'Pollutant'\n",
       "\\item 'Emissions'\n",
       "\\item 'type'\n",
       "\\item 'year'\n",
       "\\end{enumerate*}\n"
      ],
      "text/markdown": [
       "1. 'fips'\n",
       "2. 'SCC'\n",
       "3. 'Pollutant'\n",
       "4. 'Emissions'\n",
       "5. 'type'\n",
       "6. 'year'\n",
       "\n",
       "\n"
      ],
      "text/plain": [
       "[1] \"fips\"      \"SCC\"       \"Pollutant\" \"Emissions\" \"type\"      \"year\"     "
      ]
     },
     "metadata": {},
     "output_type": "display_data"
    }
   ],
   "source": [
    "names(pmdata)"
   ]
  },
  {
   "cell_type": "code",
   "execution_count": 5,
   "metadata": {},
   "outputs": [
    {
     "data": {
      "text/html": [
       "<style>\n",
       ".list-inline {list-style: none; margin:0; padding: 0}\n",
       ".list-inline>li {display: inline-block}\n",
       ".list-inline>li:not(:last-child)::after {content: \"\\00b7\"; padding: 0 .5ex}\n",
       "</style>\n",
       "<ol class=list-inline><li>1999</li><li>2002</li><li>2005</li><li>2008</li></ol>\n"
      ],
      "text/latex": [
       "\\begin{enumerate*}\n",
       "\\item 1999\n",
       "\\item 2002\n",
       "\\item 2005\n",
       "\\item 2008\n",
       "\\end{enumerate*}\n"
      ],
      "text/markdown": [
       "1. 1999\n",
       "2. 2002\n",
       "3. 2005\n",
       "4. 2008\n",
       "\n",
       "\n"
      ],
      "text/plain": [
       "[1] 1999 2002 2005 2008"
      ]
     },
     "metadata": {},
     "output_type": "display_data"
    }
   ],
   "source": [
    "unique(pmdata$year)"
   ]
  },
  {
   "cell_type": "code",
   "execution_count": 19,
   "metadata": {},
   "outputs": [
    {
     "data": {
      "text/html": [
       "<style>\n",
       ".list-inline {list-style: none; margin:0; padding: 0}\n",
       ".list-inline>li {display: inline-block}\n",
       ".list-inline>li:not(:last-child)::after {content: \"\\00b7\"; padding: 0 .5ex}\n",
       "</style>\n",
       "<ol class=list-inline><li>'POINT'</li><li>'NONPOINT'</li><li>'ON-ROAD'</li><li>'NON-ROAD'</li></ol>\n"
      ],
      "text/latex": [
       "\\begin{enumerate*}\n",
       "\\item 'POINT'\n",
       "\\item 'NONPOINT'\n",
       "\\item 'ON-ROAD'\n",
       "\\item 'NON-ROAD'\n",
       "\\end{enumerate*}\n"
      ],
      "text/markdown": [
       "1. 'POINT'\n",
       "2. 'NONPOINT'\n",
       "3. 'ON-ROAD'\n",
       "4. 'NON-ROAD'\n",
       "\n",
       "\n"
      ],
      "text/plain": [
       "[1] \"POINT\"    \"NONPOINT\" \"ON-ROAD\"  \"NON-ROAD\""
      ]
     },
     "metadata": {},
     "output_type": "display_data"
    }
   ],
   "source": [
    "unique(pmdata$type)"
   ]
  },
  {
   "cell_type": "code",
   "execution_count": 7,
   "metadata": {},
   "outputs": [
    {
     "data": {
      "text/html": [
       "<style>\n",
       ".list-inline {list-style: none; margin:0; padding: 0}\n",
       ".list-inline>li {display: inline-block}\n",
       ".list-inline>li:not(:last-child)::after {content: \"\\00b7\"; padding: 0 .5ex}\n",
       "</style>\n",
       "<ol class=list-inline><li>6497651</li><li>6</li></ol>\n"
      ],
      "text/latex": [
       "\\begin{enumerate*}\n",
       "\\item 6497651\n",
       "\\item 6\n",
       "\\end{enumerate*}\n"
      ],
      "text/markdown": [
       "1. 6497651\n",
       "2. 6\n",
       "\n",
       "\n"
      ],
      "text/plain": [
       "[1] 6497651       6"
      ]
     },
     "metadata": {},
     "output_type": "display_data"
    }
   ],
   "source": [
    "dim(pmdata)"
   ]
  },
  {
   "cell_type": "code",
   "execution_count": 6,
   "metadata": {},
   "outputs": [
    {
     "data": {
      "text/html": [
       "<table>\n",
       "<caption>A data.frame: 6 × 6</caption>\n",
       "<thead>\n",
       "\t<tr><th></th><th scope=col>fips</th><th scope=col>SCC</th><th scope=col>Pollutant</th><th scope=col>Emissions</th><th scope=col>type</th><th scope=col>year</th></tr>\n",
       "\t<tr><th></th><th scope=col>&lt;chr&gt;</th><th scope=col>&lt;chr&gt;</th><th scope=col>&lt;chr&gt;</th><th scope=col>&lt;dbl&gt;</th><th scope=col>&lt;chr&gt;</th><th scope=col>&lt;int&gt;</th></tr>\n",
       "</thead>\n",
       "<tbody>\n",
       "\t<tr><th scope=row>4</th><td>09001</td><td>10100401</td><td>PM25-PRI</td><td> 15.714</td><td>POINT</td><td>1999</td></tr>\n",
       "\t<tr><th scope=row>8</th><td>09001</td><td>10100404</td><td>PM25-PRI</td><td>234.178</td><td>POINT</td><td>1999</td></tr>\n",
       "\t<tr><th scope=row>12</th><td>09001</td><td>10100501</td><td>PM25-PRI</td><td>  0.128</td><td>POINT</td><td>1999</td></tr>\n",
       "\t<tr><th scope=row>16</th><td>09001</td><td>10200401</td><td>PM25-PRI</td><td>  2.036</td><td>POINT</td><td>1999</td></tr>\n",
       "\t<tr><th scope=row>20</th><td>09001</td><td>10200504</td><td>PM25-PRI</td><td>  0.388</td><td>POINT</td><td>1999</td></tr>\n",
       "\t<tr><th scope=row>24</th><td>09001</td><td>10200602</td><td>PM25-PRI</td><td>  1.490</td><td>POINT</td><td>1999</td></tr>\n",
       "</tbody>\n",
       "</table>\n"
      ],
      "text/latex": [
       "A data.frame: 6 × 6\n",
       "\\begin{tabular}{r|llllll}\n",
       "  & fips & SCC & Pollutant & Emissions & type & year\\\\\n",
       "  & <chr> & <chr> & <chr> & <dbl> & <chr> & <int>\\\\\n",
       "\\hline\n",
       "\t4 & 09001 & 10100401 & PM25-PRI &  15.714 & POINT & 1999\\\\\n",
       "\t8 & 09001 & 10100404 & PM25-PRI & 234.178 & POINT & 1999\\\\\n",
       "\t12 & 09001 & 10100501 & PM25-PRI &   0.128 & POINT & 1999\\\\\n",
       "\t16 & 09001 & 10200401 & PM25-PRI &   2.036 & POINT & 1999\\\\\n",
       "\t20 & 09001 & 10200504 & PM25-PRI &   0.388 & POINT & 1999\\\\\n",
       "\t24 & 09001 & 10200602 & PM25-PRI &   1.490 & POINT & 1999\\\\\n",
       "\\end{tabular}\n"
      ],
      "text/markdown": [
       "\n",
       "A data.frame: 6 × 6\n",
       "\n",
       "| <!--/--> | fips &lt;chr&gt; | SCC &lt;chr&gt; | Pollutant &lt;chr&gt; | Emissions &lt;dbl&gt; | type &lt;chr&gt; | year &lt;int&gt; |\n",
       "|---|---|---|---|---|---|---|\n",
       "| 4 | 09001 | 10100401 | PM25-PRI |  15.714 | POINT | 1999 |\n",
       "| 8 | 09001 | 10100404 | PM25-PRI | 234.178 | POINT | 1999 |\n",
       "| 12 | 09001 | 10100501 | PM25-PRI |   0.128 | POINT | 1999 |\n",
       "| 16 | 09001 | 10200401 | PM25-PRI |   2.036 | POINT | 1999 |\n",
       "| 20 | 09001 | 10200504 | PM25-PRI |   0.388 | POINT | 1999 |\n",
       "| 24 | 09001 | 10200602 | PM25-PRI |   1.490 | POINT | 1999 |\n",
       "\n"
      ],
      "text/plain": [
       "   fips  SCC      Pollutant Emissions type  year\n",
       "4  09001 10100401 PM25-PRI   15.714   POINT 1999\n",
       "8  09001 10100404 PM25-PRI  234.178   POINT 1999\n",
       "12 09001 10100501 PM25-PRI    0.128   POINT 1999\n",
       "16 09001 10200401 PM25-PRI    2.036   POINT 1999\n",
       "20 09001 10200504 PM25-PRI    0.388   POINT 1999\n",
       "24 09001 10200602 PM25-PRI    1.490   POINT 1999"
      ]
     },
     "metadata": {},
     "output_type": "display_data"
    }
   ],
   "source": [
    "head(pmdata)"
   ]
  },
  {
   "cell_type": "code",
   "execution_count": 20,
   "metadata": {},
   "outputs": [],
   "source": [
    "SCC <- pmdatacode\n",
    "NEI <- pmdata"
   ]
  }
 ],
 "metadata": {
  "kernelspec": {
   "display_name": "R",
   "language": "R",
   "name": "ir"
  },
  "language_info": {
   "codemirror_mode": "r",
   "file_extension": ".r",
   "mimetype": "text/x-r-source",
   "name": "R",
   "pygments_lexer": "r",
   "version": "4.0.2"
  }
 },
 "nbformat": 4,
 "nbformat_minor": 4
}
