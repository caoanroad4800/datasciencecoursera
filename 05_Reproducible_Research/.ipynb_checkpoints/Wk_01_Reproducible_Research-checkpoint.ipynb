{
 "cells": [
  {
   "cell_type": "markdown",
   "metadata": {},
   "source": [
    "完成了JHU Data Science 10个学习模块中的第4个： Exploratory Data Analysis\n",
    "\n",
    "1. 模块中最有价值的一章是Week 4 Use Case 2，Dr. Peng录了一段40+分钟的案例分析视频，认真听一遍，可以了解在作类似这种数据分析时的逻辑思路框架是怎样的\n",
    "\n",
    "1. 模块中第二有价值的是Week 4的Course Project，丢给你一大坨数据，给你一个业务上的问题，让你利用数据分析找到答案，进而可视化表达出来。作业本身不难，但可以把很多技能串起来，很好的锻炼\n",
    "\n",
    "1. 很鲜明的观点：business question是任何Data Science研究首要和最先关注的问题。\n",
    "\n",
    "1. SVD和PCA那部分讲的不好。上来先是一段文字描述，然后直接show me the code，高维空间里的故事讲的云里雾里，摸不清头脑。大概是顾虑受众的数学水平了，其实用一些线性代数知识，先把数学模型大概其介绍一番，然后再上代码，会讲的更清楚明白一些。\n",
    "\n",
    "1. 承认吧，问世了40+年的R，至少在可视化输出方面，已经跟不上python了\n",
    "    1. ggplot2 已经有了python下的实现，至少同样的好\n",
    "    1. heatmap()简直丑到爆\n",
    "    1. 生成的图想要保存到硬盘里，要先dev.copy()然后再来2-3遍dev.off()，直到屏幕上的图片消失才算存好。这个设计简直太古老了，像是latex -> dvi -> postscript --> pdf之类的古装剧情。而python现在则简洁的多。"
   ]
  }
 ],
 "metadata": {
  "kernelspec": {
   "display_name": "R",
   "language": "R",
   "name": "ir"
  },
  "language_info": {
   "codemirror_mode": "r",
   "file_extension": ".r",
   "mimetype": "text/x-r-source",
   "name": "R",
   "pygments_lexer": "r",
   "version": "4.0.2"
  }
 },
 "nbformat": 4,
 "nbformat_minor": 4
}
