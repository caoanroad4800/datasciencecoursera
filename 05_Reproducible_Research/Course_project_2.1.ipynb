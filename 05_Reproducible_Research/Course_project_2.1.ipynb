{
 "cells": [
  {
   "cell_type": "markdown",
   "metadata": {},
   "source": [
    "# Peer-graded Assignment: Course Project 2"
   ]
  },
  {
   "cell_type": "markdown",
   "metadata": {},
   "source": [
    "## 1. Questions & Answers\n",
    "- Across the United States, which types of events (as indicated in the EVTYPE variable) are most harmful with respect to population health?\n",
    "    - **Tornados have caused greated number of fatalities (5,633) and injuries (91,347)**\n",
    "- Across the United States, which types of events have the greatest economic consequences?\n",
    "    - **Floods have caused the most significant damage 144.7 Billion USD, followd by HURRICANE/TYPHOON with 69.3 Billion USD damage**"
   ]
  },
  {
   "cell_type": "markdown",
   "metadata": {},
   "source": [
    "## 2. Data Processing\n",
    "### 2.1 Environment"
   ]
  },
  {
   "cell_type": "code",
   "execution_count": 29,
   "metadata": {},
   "outputs": [],
   "source": [
    "setwd(\"~/Soft/Rtest/datasciencecoursera/05_Reproducible_Research/\")\n",
    "library(\"data.table\")\n",
    "library(\"ggplot2\")"
   ]
  },
  {
   "cell_type": "markdown",
   "metadata": {},
   "source": [
    "### 2.2 Data download"
   ]
  },
  {
   "cell_type": "code",
   "execution_count": 4,
   "metadata": {},
   "outputs": [],
   "source": [
    "# defile the url\n",
    "bfileUrl <- \"https://d396qusza40orc.cloudfront.net/repdata%2Fdata%2FStormData.csv.bz2\"\n",
    "# download the file into ./data/\n",
    "download.file(fileUrl, destfile = \"./data/repdata_data_StormData.csv.bz2\")\n"
   ]
  },
  {
   "cell_type": "code",
   "execution_count": 1,
   "metadata": {},
   "outputs": [],
   "source": [
    "# load data frame\n",
    "storm <- read.csv(\"./data/repdata_data_StormData.csv.bz2\")"
   ]
  },
  {
   "cell_type": "code",
   "execution_count": 2,
   "metadata": {},
   "outputs": [
    {
     "data": {
      "text/html": [
       "<table>\n",
       "<caption>A data.frame: 6 × 37</caption>\n",
       "<thead>\n",
       "\t<tr><th></th><th scope=col>STATE__</th><th scope=col>BGN_DATE</th><th scope=col>BGN_TIME</th><th scope=col>TIME_ZONE</th><th scope=col>COUNTY</th><th scope=col>COUNTYNAME</th><th scope=col>STATE</th><th scope=col>EVTYPE</th><th scope=col>BGN_RANGE</th><th scope=col>BGN_AZI</th><th scope=col>⋯</th><th scope=col>CROPDMGEXP</th><th scope=col>WFO</th><th scope=col>STATEOFFIC</th><th scope=col>ZONENAMES</th><th scope=col>LATITUDE</th><th scope=col>LONGITUDE</th><th scope=col>LATITUDE_E</th><th scope=col>LONGITUDE_</th><th scope=col>REMARKS</th><th scope=col>REFNUM</th></tr>\n",
       "\t<tr><th></th><th scope=col>&lt;dbl&gt;</th><th scope=col>&lt;chr&gt;</th><th scope=col>&lt;chr&gt;</th><th scope=col>&lt;chr&gt;</th><th scope=col>&lt;dbl&gt;</th><th scope=col>&lt;chr&gt;</th><th scope=col>&lt;chr&gt;</th><th scope=col>&lt;chr&gt;</th><th scope=col>&lt;dbl&gt;</th><th scope=col>&lt;chr&gt;</th><th scope=col>⋯</th><th scope=col>&lt;chr&gt;</th><th scope=col>&lt;chr&gt;</th><th scope=col>&lt;chr&gt;</th><th scope=col>&lt;chr&gt;</th><th scope=col>&lt;dbl&gt;</th><th scope=col>&lt;dbl&gt;</th><th scope=col>&lt;dbl&gt;</th><th scope=col>&lt;dbl&gt;</th><th scope=col>&lt;chr&gt;</th><th scope=col>&lt;dbl&gt;</th></tr>\n",
       "</thead>\n",
       "<tbody>\n",
       "\t<tr><th scope=row>1</th><td>1</td><td>4/18/1950 0:00:00 </td><td>0130</td><td>CST</td><td>97</td><td>MOBILE    </td><td>AL</td><td>TORNADO</td><td>0</td><td></td><td>⋯</td><td></td><td></td><td></td><td></td><td>3040</td><td>8812</td><td>3051</td><td>8806</td><td></td><td>1</td></tr>\n",
       "\t<tr><th scope=row>2</th><td>1</td><td>4/18/1950 0:00:00 </td><td>0145</td><td>CST</td><td> 3</td><td>BALDWIN   </td><td>AL</td><td>TORNADO</td><td>0</td><td></td><td>⋯</td><td></td><td></td><td></td><td></td><td>3042</td><td>8755</td><td>   0</td><td>   0</td><td></td><td>2</td></tr>\n",
       "\t<tr><th scope=row>3</th><td>1</td><td>2/20/1951 0:00:00 </td><td>1600</td><td>CST</td><td>57</td><td>FAYETTE   </td><td>AL</td><td>TORNADO</td><td>0</td><td></td><td>⋯</td><td></td><td></td><td></td><td></td><td>3340</td><td>8742</td><td>   0</td><td>   0</td><td></td><td>3</td></tr>\n",
       "\t<tr><th scope=row>4</th><td>1</td><td>6/8/1951 0:00:00  </td><td>0900</td><td>CST</td><td>89</td><td>MADISON   </td><td>AL</td><td>TORNADO</td><td>0</td><td></td><td>⋯</td><td></td><td></td><td></td><td></td><td>3458</td><td>8626</td><td>   0</td><td>   0</td><td></td><td>4</td></tr>\n",
       "\t<tr><th scope=row>5</th><td>1</td><td>11/15/1951 0:00:00</td><td>1500</td><td>CST</td><td>43</td><td>CULLMAN   </td><td>AL</td><td>TORNADO</td><td>0</td><td></td><td>⋯</td><td></td><td></td><td></td><td></td><td>3412</td><td>8642</td><td>   0</td><td>   0</td><td></td><td>5</td></tr>\n",
       "\t<tr><th scope=row>6</th><td>1</td><td>11/15/1951 0:00:00</td><td>2000</td><td>CST</td><td>77</td><td>LAUDERDALE</td><td>AL</td><td>TORNADO</td><td>0</td><td></td><td>⋯</td><td></td><td></td><td></td><td></td><td>3450</td><td>8748</td><td>   0</td><td>   0</td><td></td><td>6</td></tr>\n",
       "</tbody>\n",
       "</table>\n"
      ],
      "text/latex": [
       "A data.frame: 6 × 37\n",
       "\\begin{tabular}{r|lllllllllllllllllllll}\n",
       "  & STATE\\_\\_ & BGN\\_DATE & BGN\\_TIME & TIME\\_ZONE & COUNTY & COUNTYNAME & STATE & EVTYPE & BGN\\_RANGE & BGN\\_AZI & ⋯ & CROPDMGEXP & WFO & STATEOFFIC & ZONENAMES & LATITUDE & LONGITUDE & LATITUDE\\_E & LONGITUDE\\_ & REMARKS & REFNUM\\\\\n",
       "  & <dbl> & <chr> & <chr> & <chr> & <dbl> & <chr> & <chr> & <chr> & <dbl> & <chr> & ⋯ & <chr> & <chr> & <chr> & <chr> & <dbl> & <dbl> & <dbl> & <dbl> & <chr> & <dbl>\\\\\n",
       "\\hline\n",
       "\t1 & 1 & 4/18/1950 0:00:00  & 0130 & CST & 97 & MOBILE     & AL & TORNADO & 0 &  & ⋯ &  &  &  &  & 3040 & 8812 & 3051 & 8806 &  & 1\\\\\n",
       "\t2 & 1 & 4/18/1950 0:00:00  & 0145 & CST &  3 & BALDWIN    & AL & TORNADO & 0 &  & ⋯ &  &  &  &  & 3042 & 8755 &    0 &    0 &  & 2\\\\\n",
       "\t3 & 1 & 2/20/1951 0:00:00  & 1600 & CST & 57 & FAYETTE    & AL & TORNADO & 0 &  & ⋯ &  &  &  &  & 3340 & 8742 &    0 &    0 &  & 3\\\\\n",
       "\t4 & 1 & 6/8/1951 0:00:00   & 0900 & CST & 89 & MADISON    & AL & TORNADO & 0 &  & ⋯ &  &  &  &  & 3458 & 8626 &    0 &    0 &  & 4\\\\\n",
       "\t5 & 1 & 11/15/1951 0:00:00 & 1500 & CST & 43 & CULLMAN    & AL & TORNADO & 0 &  & ⋯ &  &  &  &  & 3412 & 8642 &    0 &    0 &  & 5\\\\\n",
       "\t6 & 1 & 11/15/1951 0:00:00 & 2000 & CST & 77 & LAUDERDALE & AL & TORNADO & 0 &  & ⋯ &  &  &  &  & 3450 & 8748 &    0 &    0 &  & 6\\\\\n",
       "\\end{tabular}\n"
      ],
      "text/markdown": [
       "\n",
       "A data.frame: 6 × 37\n",
       "\n",
       "| <!--/--> | STATE__ &lt;dbl&gt; | BGN_DATE &lt;chr&gt; | BGN_TIME &lt;chr&gt; | TIME_ZONE &lt;chr&gt; | COUNTY &lt;dbl&gt; | COUNTYNAME &lt;chr&gt; | STATE &lt;chr&gt; | EVTYPE &lt;chr&gt; | BGN_RANGE &lt;dbl&gt; | BGN_AZI &lt;chr&gt; | ⋯ ⋯ | CROPDMGEXP &lt;chr&gt; | WFO &lt;chr&gt; | STATEOFFIC &lt;chr&gt; | ZONENAMES &lt;chr&gt; | LATITUDE &lt;dbl&gt; | LONGITUDE &lt;dbl&gt; | LATITUDE_E &lt;dbl&gt; | LONGITUDE_ &lt;dbl&gt; | REMARKS &lt;chr&gt; | REFNUM &lt;dbl&gt; |\n",
       "|---|---|---|---|---|---|---|---|---|---|---|---|---|---|---|---|---|---|---|---|---|---|\n",
       "| 1 | 1 | 4/18/1950 0:00:00  | 0130 | CST | 97 | MOBILE     | AL | TORNADO | 0 | <!----> | ⋯ | <!----> | <!----> | <!----> | <!----> | 3040 | 8812 | 3051 | 8806 | <!----> | 1 |\n",
       "| 2 | 1 | 4/18/1950 0:00:00  | 0145 | CST |  3 | BALDWIN    | AL | TORNADO | 0 | <!----> | ⋯ | <!----> | <!----> | <!----> | <!----> | 3042 | 8755 |    0 |    0 | <!----> | 2 |\n",
       "| 3 | 1 | 2/20/1951 0:00:00  | 1600 | CST | 57 | FAYETTE    | AL | TORNADO | 0 | <!----> | ⋯ | <!----> | <!----> | <!----> | <!----> | 3340 | 8742 |    0 |    0 | <!----> | 3 |\n",
       "| 4 | 1 | 6/8/1951 0:00:00   | 0900 | CST | 89 | MADISON    | AL | TORNADO | 0 | <!----> | ⋯ | <!----> | <!----> | <!----> | <!----> | 3458 | 8626 |    0 |    0 | <!----> | 4 |\n",
       "| 5 | 1 | 11/15/1951 0:00:00 | 1500 | CST | 43 | CULLMAN    | AL | TORNADO | 0 | <!----> | ⋯ | <!----> | <!----> | <!----> | <!----> | 3412 | 8642 |    0 |    0 | <!----> | 5 |\n",
       "| 6 | 1 | 11/15/1951 0:00:00 | 2000 | CST | 77 | LAUDERDALE | AL | TORNADO | 0 | <!----> | ⋯ | <!----> | <!----> | <!----> | <!----> | 3450 | 8748 |    0 |    0 | <!----> | 6 |\n",
       "\n"
      ],
      "text/plain": [
       "  STATE__ BGN_DATE           BGN_TIME TIME_ZONE COUNTY COUNTYNAME STATE EVTYPE \n",
       "1 1       4/18/1950 0:00:00  0130     CST       97     MOBILE     AL    TORNADO\n",
       "2 1       4/18/1950 0:00:00  0145     CST        3     BALDWIN    AL    TORNADO\n",
       "3 1       2/20/1951 0:00:00  1600     CST       57     FAYETTE    AL    TORNADO\n",
       "4 1       6/8/1951 0:00:00   0900     CST       89     MADISON    AL    TORNADO\n",
       "5 1       11/15/1951 0:00:00 1500     CST       43     CULLMAN    AL    TORNADO\n",
       "6 1       11/15/1951 0:00:00 2000     CST       77     LAUDERDALE AL    TORNADO\n",
       "  BGN_RANGE BGN_AZI ⋯ CROPDMGEXP WFO STATEOFFIC ZONENAMES LATITUDE LONGITUDE\n",
       "1 0                 ⋯                                     3040     8812     \n",
       "2 0                 ⋯                                     3042     8755     \n",
       "3 0                 ⋯                                     3340     8742     \n",
       "4 0                 ⋯                                     3458     8626     \n",
       "5 0                 ⋯                                     3412     8642     \n",
       "6 0                 ⋯                                     3450     8748     \n",
       "  LATITUDE_E LONGITUDE_ REMARKS REFNUM\n",
       "1 3051       8806               1     \n",
       "2    0          0               2     \n",
       "3    0          0               3     \n",
       "4    0          0               4     \n",
       "5    0          0               5     \n",
       "6    0          0               6     "
      ]
     },
     "metadata": {},
     "output_type": "display_data"
    }
   ],
   "source": [
    "head(storm)"
   ]
  },
  {
   "cell_type": "code",
   "execution_count": 3,
   "metadata": {},
   "outputs": [
    {
     "data": {
      "text/html": [
       "<style>\n",
       ".list-inline {list-style: none; margin:0; padding: 0}\n",
       ".list-inline>li {display: inline-block}\n",
       ".list-inline>li:not(:last-child)::after {content: \"\\00b7\"; padding: 0 .5ex}\n",
       "</style>\n",
       "<ol class=list-inline><li>902297</li><li>37</li></ol>\n"
      ],
      "text/latex": [
       "\\begin{enumerate*}\n",
       "\\item 902297\n",
       "\\item 37\n",
       "\\end{enumerate*}\n"
      ],
      "text/markdown": [
       "1. 902297\n",
       "2. 37\n",
       "\n",
       "\n"
      ],
      "text/plain": [
       "[1] 902297     37"
      ]
     },
     "metadata": {},
     "output_type": "display_data"
    }
   ],
   "source": [
    "# shape of data frame\n",
    "dim(storm) # 902297 x 37"
   ]
  },
  {
   "cell_type": "code",
   "execution_count": 4,
   "metadata": {},
   "outputs": [
    {
     "name": "stdout",
     "output_type": "stream",
     "text": [
      "'data.frame':\t902297 obs. of  37 variables:\n",
      " $ STATE__   : num  1 1 1 1 1 1 1 1 1 1 ...\n",
      " $ BGN_DATE  : chr  \"4/18/1950 0:00:00\" \"4/18/1950 0:00:00\" \"2/20/1951 0:00:00\" \"6/8/1951 0:00:00\" ...\n",
      " $ BGN_TIME  : chr  \"0130\" \"0145\" \"1600\" \"0900\" ...\n",
      " $ TIME_ZONE : chr  \"CST\" \"CST\" \"CST\" \"CST\" ...\n",
      " $ COUNTY    : num  97 3 57 89 43 77 9 123 125 57 ...\n",
      " $ COUNTYNAME: chr  \"MOBILE\" \"BALDWIN\" \"FAYETTE\" \"MADISON\" ...\n",
      " $ STATE     : chr  \"AL\" \"AL\" \"AL\" \"AL\" ...\n",
      " $ EVTYPE    : chr  \"TORNADO\" \"TORNADO\" \"TORNADO\" \"TORNADO\" ...\n",
      " $ BGN_RANGE : num  0 0 0 0 0 0 0 0 0 0 ...\n",
      " $ BGN_AZI   : chr  \"\" \"\" \"\" \"\" ...\n",
      " $ BGN_LOCATI: chr  \"\" \"\" \"\" \"\" ...\n",
      " $ END_DATE  : chr  \"\" \"\" \"\" \"\" ...\n",
      " $ END_TIME  : chr  \"\" \"\" \"\" \"\" ...\n",
      " $ COUNTY_END: num  0 0 0 0 0 0 0 0 0 0 ...\n",
      " $ COUNTYENDN: logi  NA NA NA NA NA NA ...\n",
      " $ END_RANGE : num  0 0 0 0 0 0 0 0 0 0 ...\n",
      " $ END_AZI   : chr  \"\" \"\" \"\" \"\" ...\n",
      " $ END_LOCATI: chr  \"\" \"\" \"\" \"\" ...\n",
      " $ LENGTH    : num  14 2 0.1 0 0 1.5 1.5 0 3.3 2.3 ...\n",
      " $ WIDTH     : num  100 150 123 100 150 177 33 33 100 100 ...\n",
      " $ F         : int  3 2 2 2 2 2 2 1 3 3 ...\n",
      " $ MAG       : num  0 0 0 0 0 0 0 0 0 0 ...\n",
      " $ FATALITIES: num  0 0 0 0 0 0 0 0 1 0 ...\n",
      " $ INJURIES  : num  15 0 2 2 2 6 1 0 14 0 ...\n",
      " $ PROPDMG   : num  25 2.5 25 2.5 2.5 2.5 2.5 2.5 25 25 ...\n",
      " $ PROPDMGEXP: chr  \"K\" \"K\" \"K\" \"K\" ...\n",
      " $ CROPDMG   : num  0 0 0 0 0 0 0 0 0 0 ...\n",
      " $ CROPDMGEXP: chr  \"\" \"\" \"\" \"\" ...\n",
      " $ WFO       : chr  \"\" \"\" \"\" \"\" ...\n",
      " $ STATEOFFIC: chr  \"\" \"\" \"\" \"\" ...\n",
      " $ ZONENAMES : chr  \"\" \"\" \"\" \"\" ...\n",
      " $ LATITUDE  : num  3040 3042 3340 3458 3412 ...\n",
      " $ LONGITUDE : num  8812 8755 8742 8626 8642 ...\n",
      " $ LATITUDE_E: num  3051 0 0 0 0 ...\n",
      " $ LONGITUDE_: num  8806 0 0 0 0 ...\n",
      " $ REMARKS   : chr  \"\" \"\" \"\" \"\" ...\n",
      " $ REFNUM    : num  1 2 3 4 5 6 7 8 9 10 ...\n"
     ]
    }
   ],
   "source": [
    "str(storm)"
   ]
  },
  {
   "cell_type": "code",
   "execution_count": 5,
   "metadata": {},
   "outputs": [
    {
     "data": {
      "text/html": [
       "985"
      ],
      "text/latex": [
       "985"
      ],
      "text/markdown": [
       "985"
      ],
      "text/plain": [
       "[1] 985"
      ]
     },
     "metadata": {},
     "output_type": "display_data"
    }
   ],
   "source": [
    "# event types\n",
    "length(unique(storm$EVTYPE)) # 985 event types"
   ]
  },
  {
   "cell_type": "markdown",
   "metadata": {},
   "source": [
    "According to the [Storm Data Documentation](https://d396qusza40orc.cloudfront.net/repdata%2Fpeer2_doc%2Fpd01016005curr.pdf), the health variables include `FATALITIES` and `INJURIES`. with datamage to property `PROPDMG` and to crops `CROPDMG` We narrow down the column numbers to accelerate following analytics"
   ]
  },
  {
   "cell_type": "markdown",
   "metadata": {},
   "source": [
    "### 2.3 Data subset"
   ]
  },
  {
   "cell_type": "code",
   "execution_count": 6,
   "metadata": {},
   "outputs": [
    {
     "data": {
      "text/html": [
       "<table>\n",
       "<caption>A data.frame: 6 × 7</caption>\n",
       "<thead>\n",
       "\t<tr><th></th><th scope=col>EVTYPE</th><th scope=col>FATALITIES</th><th scope=col>INJURIES</th><th scope=col>PROPDMG</th><th scope=col>PROPDMGEXP</th><th scope=col>CROPDMG</th><th scope=col>CROPDMGEXP</th></tr>\n",
       "\t<tr><th></th><th scope=col>&lt;chr&gt;</th><th scope=col>&lt;dbl&gt;</th><th scope=col>&lt;dbl&gt;</th><th scope=col>&lt;dbl&gt;</th><th scope=col>&lt;chr&gt;</th><th scope=col>&lt;dbl&gt;</th><th scope=col>&lt;chr&gt;</th></tr>\n",
       "</thead>\n",
       "<tbody>\n",
       "\t<tr><th scope=row>1</th><td>TORNADO</td><td>0</td><td>15</td><td>25.0</td><td>K</td><td>0</td><td></td></tr>\n",
       "\t<tr><th scope=row>2</th><td>TORNADO</td><td>0</td><td> 0</td><td> 2.5</td><td>K</td><td>0</td><td></td></tr>\n",
       "\t<tr><th scope=row>3</th><td>TORNADO</td><td>0</td><td> 2</td><td>25.0</td><td>K</td><td>0</td><td></td></tr>\n",
       "\t<tr><th scope=row>4</th><td>TORNADO</td><td>0</td><td> 2</td><td> 2.5</td><td>K</td><td>0</td><td></td></tr>\n",
       "\t<tr><th scope=row>5</th><td>TORNADO</td><td>0</td><td> 2</td><td> 2.5</td><td>K</td><td>0</td><td></td></tr>\n",
       "\t<tr><th scope=row>6</th><td>TORNADO</td><td>0</td><td> 6</td><td> 2.5</td><td>K</td><td>0</td><td></td></tr>\n",
       "</tbody>\n",
       "</table>\n"
      ],
      "text/latex": [
       "A data.frame: 6 × 7\n",
       "\\begin{tabular}{r|lllllll}\n",
       "  & EVTYPE & FATALITIES & INJURIES & PROPDMG & PROPDMGEXP & CROPDMG & CROPDMGEXP\\\\\n",
       "  & <chr> & <dbl> & <dbl> & <dbl> & <chr> & <dbl> & <chr>\\\\\n",
       "\\hline\n",
       "\t1 & TORNADO & 0 & 15 & 25.0 & K & 0 & \\\\\n",
       "\t2 & TORNADO & 0 &  0 &  2.5 & K & 0 & \\\\\n",
       "\t3 & TORNADO & 0 &  2 & 25.0 & K & 0 & \\\\\n",
       "\t4 & TORNADO & 0 &  2 &  2.5 & K & 0 & \\\\\n",
       "\t5 & TORNADO & 0 &  2 &  2.5 & K & 0 & \\\\\n",
       "\t6 & TORNADO & 0 &  6 &  2.5 & K & 0 & \\\\\n",
       "\\end{tabular}\n"
      ],
      "text/markdown": [
       "\n",
       "A data.frame: 6 × 7\n",
       "\n",
       "| <!--/--> | EVTYPE &lt;chr&gt; | FATALITIES &lt;dbl&gt; | INJURIES &lt;dbl&gt; | PROPDMG &lt;dbl&gt; | PROPDMGEXP &lt;chr&gt; | CROPDMG &lt;dbl&gt; | CROPDMGEXP &lt;chr&gt; |\n",
       "|---|---|---|---|---|---|---|---|\n",
       "| 1 | TORNADO | 0 | 15 | 25.0 | K | 0 | <!----> |\n",
       "| 2 | TORNADO | 0 |  0 |  2.5 | K | 0 | <!----> |\n",
       "| 3 | TORNADO | 0 |  2 | 25.0 | K | 0 | <!----> |\n",
       "| 4 | TORNADO | 0 |  2 |  2.5 | K | 0 | <!----> |\n",
       "| 5 | TORNADO | 0 |  2 |  2.5 | K | 0 | <!----> |\n",
       "| 6 | TORNADO | 0 |  6 |  2.5 | K | 0 | <!----> |\n",
       "\n"
      ],
      "text/plain": [
       "  EVTYPE  FATALITIES INJURIES PROPDMG PROPDMGEXP CROPDMG CROPDMGEXP\n",
       "1 TORNADO 0          15       25.0    K          0                 \n",
       "2 TORNADO 0           0        2.5    K          0                 \n",
       "3 TORNADO 0           2       25.0    K          0                 \n",
       "4 TORNADO 0           2        2.5    K          0                 \n",
       "5 TORNADO 0           2        2.5    K          0                 \n",
       "6 TORNADO 0           6        2.5    K          0                 "
      ]
     },
     "metadata": {},
     "output_type": "display_data"
    }
   ],
   "source": [
    "colList <- c(\"EVTYPE\"\n",
    "             , \"FATALITIES\"\n",
    "             , \"INJURIES\"\n",
    "             , \"PROPDMG\"\n",
    "             , \"PROPDMGEXP\"\n",
    "             , \"CROPDMG\"\n",
    "             , \"CROPDMGEXP\"\n",
    ")\n",
    "storm <- storm[, colList]\n",
    "head(storm)"
   ]
  },
  {
   "cell_type": "markdown",
   "metadata": {},
   "source": [
    "There is 1 observation with `ENVTYPE == \"?\"` which should be removed as well"
   ]
  },
  {
   "cell_type": "code",
   "execution_count": 7,
   "metadata": {},
   "outputs": [],
   "source": [
    "# sum(storm$EVTYPE==\"?\") # 1\n",
    "# storm[(storm$EVTYPE==\"?\"), ] # may be due to measurement error\n",
    "#storm <- \n",
    "storm <- storm[(storm$EVTYPE!=\"?\"), ]"
   ]
  },
  {
   "cell_type": "markdown",
   "metadata": {},
   "source": [
    "We see the following 4 columns have zero values (lucily there are no negative values), meaning it caused no harm to population health, and are also removed by rows"
   ]
  },
  {
   "cell_type": "markdown",
   "metadata": {},
   "source": [
    "### 2.4 Missing values"
   ]
  },
  {
   "cell_type": "code",
   "execution_count": 8,
   "metadata": {},
   "outputs": [
    {
     "data": {
      "text/plain": [
       "     Min.   1st Qu.    Median      Mean   3rd Qu.      Max. \n",
       "   0.0000    0.0000    0.0000    0.1557    0.0000 1700.0000 "
      ]
     },
     "metadata": {},
     "output_type": "display_data"
    },
    {
     "data": {
      "text/plain": [
       "    Min.  1st Qu.   Median     Mean  3rd Qu.     Max. \n",
       "  0.0000   0.0000   0.0000   0.0168   0.0000 583.0000 "
      ]
     },
     "metadata": {},
     "output_type": "display_data"
    },
    {
     "data": {
      "text/plain": [
       "   Min. 1st Qu.  Median    Mean 3rd Qu.    Max. \n",
       "   0.00    0.00    0.00   12.06    0.50 5000.00 "
      ]
     },
     "metadata": {},
     "output_type": "display_data"
    },
    {
     "data": {
      "text/plain": [
       "   Min. 1st Qu.  Median    Mean 3rd Qu.    Max. \n",
       "  0.000   0.000   0.000   1.527   0.000 990.000 "
      ]
     },
     "metadata": {},
     "output_type": "display_data"
    }
   ],
   "source": [
    "summary(storm$INJURIES)\n",
    "summary(storm$FATALITIES)\n",
    "summary(storm$PROPDMG)\n",
    "summary(storm$CROPDMG)"
   ]
  },
  {
   "cell_type": "code",
   "execution_count": 9,
   "metadata": {},
   "outputs": [
    {
     "data": {
      "text/html": [
       "<style>\n",
       ".list-inline {list-style: none; margin:0; padding: 0}\n",
       ".list-inline>li {display: inline-block}\n",
       ".list-inline>li:not(:last-child)::after {content: \"\\00b7\"; padding: 0 .5ex}\n",
       "</style>\n",
       "<ol class=list-inline><li>254632</li><li>7</li></ol>\n"
      ],
      "text/latex": [
       "\\begin{enumerate*}\n",
       "\\item 254632\n",
       "\\item 7\n",
       "\\end{enumerate*}\n"
      ],
      "text/markdown": [
       "1. 254632\n",
       "2. 7\n",
       "\n",
       "\n"
      ],
      "text/plain": [
       "[1] 254632      7"
      ]
     },
     "metadata": {},
     "output_type": "display_data"
    },
    {
     "data": {
      "text/html": [
       "<table>\n",
       "<caption>A data.frame: 6 × 7</caption>\n",
       "<thead>\n",
       "\t<tr><th></th><th scope=col>EVTYPE</th><th scope=col>FATALITIES</th><th scope=col>INJURIES</th><th scope=col>PROPDMG</th><th scope=col>PROPDMGEXP</th><th scope=col>CROPDMG</th><th scope=col>CROPDMGEXP</th></tr>\n",
       "\t<tr><th></th><th scope=col>&lt;chr&gt;</th><th scope=col>&lt;dbl&gt;</th><th scope=col>&lt;dbl&gt;</th><th scope=col>&lt;dbl&gt;</th><th scope=col>&lt;chr&gt;</th><th scope=col>&lt;dbl&gt;</th><th scope=col>&lt;chr&gt;</th></tr>\n",
       "</thead>\n",
       "<tbody>\n",
       "\t<tr><th scope=row>1</th><td>TORNADO</td><td>0</td><td>15</td><td>25.0</td><td>K</td><td>0</td><td></td></tr>\n",
       "\t<tr><th scope=row>2</th><td>TORNADO</td><td>0</td><td> 0</td><td> 2.5</td><td>K</td><td>0</td><td></td></tr>\n",
       "\t<tr><th scope=row>3</th><td>TORNADO</td><td>0</td><td> 2</td><td>25.0</td><td>K</td><td>0</td><td></td></tr>\n",
       "\t<tr><th scope=row>4</th><td>TORNADO</td><td>0</td><td> 2</td><td> 2.5</td><td>K</td><td>0</td><td></td></tr>\n",
       "\t<tr><th scope=row>5</th><td>TORNADO</td><td>0</td><td> 2</td><td> 2.5</td><td>K</td><td>0</td><td></td></tr>\n",
       "\t<tr><th scope=row>6</th><td>TORNADO</td><td>0</td><td> 6</td><td> 2.5</td><td>K</td><td>0</td><td></td></tr>\n",
       "</tbody>\n",
       "</table>\n"
      ],
      "text/latex": [
       "A data.frame: 6 × 7\n",
       "\\begin{tabular}{r|lllllll}\n",
       "  & EVTYPE & FATALITIES & INJURIES & PROPDMG & PROPDMGEXP & CROPDMG & CROPDMGEXP\\\\\n",
       "  & <chr> & <dbl> & <dbl> & <dbl> & <chr> & <dbl> & <chr>\\\\\n",
       "\\hline\n",
       "\t1 & TORNADO & 0 & 15 & 25.0 & K & 0 & \\\\\n",
       "\t2 & TORNADO & 0 &  0 &  2.5 & K & 0 & \\\\\n",
       "\t3 & TORNADO & 0 &  2 & 25.0 & K & 0 & \\\\\n",
       "\t4 & TORNADO & 0 &  2 &  2.5 & K & 0 & \\\\\n",
       "\t5 & TORNADO & 0 &  2 &  2.5 & K & 0 & \\\\\n",
       "\t6 & TORNADO & 0 &  6 &  2.5 & K & 0 & \\\\\n",
       "\\end{tabular}\n"
      ],
      "text/markdown": [
       "\n",
       "A data.frame: 6 × 7\n",
       "\n",
       "| <!--/--> | EVTYPE &lt;chr&gt; | FATALITIES &lt;dbl&gt; | INJURIES &lt;dbl&gt; | PROPDMG &lt;dbl&gt; | PROPDMGEXP &lt;chr&gt; | CROPDMG &lt;dbl&gt; | CROPDMGEXP &lt;chr&gt; |\n",
       "|---|---|---|---|---|---|---|---|\n",
       "| 1 | TORNADO | 0 | 15 | 25.0 | K | 0 | <!----> |\n",
       "| 2 | TORNADO | 0 |  0 |  2.5 | K | 0 | <!----> |\n",
       "| 3 | TORNADO | 0 |  2 | 25.0 | K | 0 | <!----> |\n",
       "| 4 | TORNADO | 0 |  2 |  2.5 | K | 0 | <!----> |\n",
       "| 5 | TORNADO | 0 |  2 |  2.5 | K | 0 | <!----> |\n",
       "| 6 | TORNADO | 0 |  6 |  2.5 | K | 0 | <!----> |\n",
       "\n"
      ],
      "text/plain": [
       "  EVTYPE  FATALITIES INJURIES PROPDMG PROPDMGEXP CROPDMG CROPDMGEXP\n",
       "1 TORNADO 0          15       25.0    K          0                 \n",
       "2 TORNADO 0           0        2.5    K          0                 \n",
       "3 TORNADO 0           2       25.0    K          0                 \n",
       "4 TORNADO 0           2        2.5    K          0                 \n",
       "5 TORNADO 0           2        2.5    K          0                 \n",
       "6 TORNADO 0           6        2.5    K          0                 "
      ]
     },
     "metadata": {},
     "output_type": "display_data"
    }
   ],
   "source": [
    "storm <- storm[(storm$INJURIES > 0 | storm$FATALITIES > 0 | storm$PROPDMG > 0 | storm$CROPDMG > 0),]\n",
    "dim(storm) # (902297x37) --> (254632x7)\n",
    "head(storm)"
   ]
  },
  {
   "cell_type": "markdown",
   "metadata": {},
   "source": [
    "### 2.5 -EXP column conversions"
   ]
  },
  {
   "cell_type": "markdown",
   "metadata": {},
   "source": [
    "Change PROPDMGEXP and CROPDMG columns into upper case"
   ]
  },
  {
   "cell_type": "code",
   "execution_count": 10,
   "metadata": {},
   "outputs": [],
   "source": [
    "storm$PROPDMGEXP <- toupper(storm$PROPDMGEXP)\n",
    "storm$CROPDMGEXP <- toupper(storm$CROPDMGEXP)"
   ]
  },
  {
   "cell_type": "code",
   "execution_count": 11,
   "metadata": {},
   "outputs": [
    {
     "data": {
      "text/html": [
       "<style>\n",
       ".list-inline {list-style: none; margin:0; padding: 0}\n",
       ".list-inline>li {display: inline-block}\n",
       ".list-inline>li:not(:last-child)::after {content: \"\\00b7\"; padding: 0 .5ex}\n",
       "</style>\n",
       "<ol class=list-inline><li>'K'</li><li>'M'</li><li>''</li><li>'B'</li><li>'+'</li><li>'0'</li><li>'5'</li><li>'6'</li><li>'4'</li><li>'H'</li><li>'2'</li><li>'7'</li><li>'3'</li><li>'-'</li></ol>\n"
      ],
      "text/latex": [
       "\\begin{enumerate*}\n",
       "\\item 'K'\n",
       "\\item 'M'\n",
       "\\item ''\n",
       "\\item 'B'\n",
       "\\item '+'\n",
       "\\item '0'\n",
       "\\item '5'\n",
       "\\item '6'\n",
       "\\item '4'\n",
       "\\item 'H'\n",
       "\\item '2'\n",
       "\\item '7'\n",
       "\\item '3'\n",
       "\\item '-'\n",
       "\\end{enumerate*}\n"
      ],
      "text/markdown": [
       "1. 'K'\n",
       "2. 'M'\n",
       "3. ''\n",
       "4. 'B'\n",
       "5. '+'\n",
       "6. '0'\n",
       "7. '5'\n",
       "8. '6'\n",
       "9. '4'\n",
       "10. 'H'\n",
       "11. '2'\n",
       "12. '7'\n",
       "13. '3'\n",
       "14. '-'\n",
       "\n",
       "\n"
      ],
      "text/plain": [
       " [1] \"K\" \"M\" \"\"  \"B\" \"+\" \"0\" \"5\" \"6\" \"4\" \"H\" \"2\" \"7\" \"3\" \"-\""
      ]
     },
     "metadata": {},
     "output_type": "display_data"
    }
   ],
   "source": [
    "unique(storm$PROPDMGEXP)"
   ]
  },
  {
   "cell_type": "code",
   "execution_count": 12,
   "metadata": {},
   "outputs": [
    {
     "data": {
      "text/html": [
       "<style>\n",
       ".list-inline {list-style: none; margin:0; padding: 0}\n",
       ".list-inline>li {display: inline-block}\n",
       ".list-inline>li:not(:last-child)::after {content: \"\\00b7\"; padding: 0 .5ex}\n",
       "</style>\n",
       "<ol class=list-inline><li>''</li><li>'M'</li><li>'K'</li><li>'B'</li><li>'?'</li><li>'0'</li></ol>\n"
      ],
      "text/latex": [
       "\\begin{enumerate*}\n",
       "\\item ''\n",
       "\\item 'M'\n",
       "\\item 'K'\n",
       "\\item 'B'\n",
       "\\item '?'\n",
       "\\item '0'\n",
       "\\end{enumerate*}\n"
      ],
      "text/markdown": [
       "1. ''\n",
       "2. 'M'\n",
       "3. 'K'\n",
       "4. 'B'\n",
       "5. '?'\n",
       "6. '0'\n",
       "\n",
       "\n"
      ],
      "text/plain": [
       "[1] \"\"  \"M\" \"K\" \"B\" \"?\" \"0\""
      ]
     },
     "metadata": {},
     "output_type": "display_data"
    }
   ],
   "source": [
    "unique(storm$CROPDMGEXP)"
   ]
  },
  {
   "cell_type": "markdown",
   "metadata": {},
   "source": [
    "Map property damage alphanumeric exponents to numeric values"
   ]
  },
  {
   "cell_type": "code",
   "execution_count": 17,
   "metadata": {},
   "outputs": [],
   "source": [
    "propDmgKey <-  c(\"\\\"\\\"\" = 10^0,\n",
    "                 \"-\" = 10^0, \n",
    "                 \"+\" = 10^0,\n",
    "                 \"0\" = 10^0,\n",
    "                 \"1\" = 10^1,\n",
    "                 \"2\" = 10^2,\n",
    "                 \"3\" = 10^3,\n",
    "                 \"4\" = 10^4,\n",
    "                 \"5\" = 10^5,\n",
    "                 \"6\" = 10^6,\n",
    "                 \"7\" = 10^7,\n",
    "                 \"8\" = 10^8,\n",
    "                 \"9\" = 10^9,\n",
    "                 \"H\" = 10^2,\n",
    "                 \"K\" = 10^3,\n",
    "                 \"M\" = 10^6,\n",
    "                 \"B\" = 10^9)\n",
    "storm$PROPDMGEXP <- propDmgKey[as.character(storm$PROPDMGEXP)]\n",
    "storm[is.na(storm[,'PROPDMGEXP']),'PROPDMGEXP'] <- 10^0"
   ]
  },
  {
   "cell_type": "markdown",
   "metadata": {},
   "source": [
    "Map crop damage alphanumeric exponents to numeric values"
   ]
  },
  {
   "cell_type": "code",
   "execution_count": 18,
   "metadata": {},
   "outputs": [],
   "source": [
    "cropDmgKey <-  c(\"\\\"\\\"\" = 10^0,\n",
    "                \"?\" = 10^0, \n",
    "                \"0\" = 10^0,\n",
    "                \"K\" = 10^3,\n",
    "                \"M\" = 10^6,\n",
    "                \"B\" = 10^9)\n",
    "storm$CROPDMGEXP <- cropDmgKey[as.character(storm$CROPDMGEXP)]\n",
    "storm[is.na(storm[,'CROPDMGEXP']),'CROPDMGEXP'] <- 10^0"
   ]
  },
  {
   "cell_type": "markdown",
   "metadata": {},
   "source": [
    "### 2.6 Calculate economic cost for property and crop"
   ]
  },
  {
   "cell_type": "code",
   "execution_count": 24,
   "metadata": {},
   "outputs": [],
   "source": [
    "## add 2 new columns in storm\n",
    "## propCost = PROPDMG * PROPDMGEXP\n",
    "## cropCost = CROPDMG * CROPDMGEXP\n",
    "storm$propCost = storm$PROPDMG * storm$PROPDMGEXP\n",
    "storm$cropCost = storm$CROPDMG * storm$CROPDMGEXP"
   ]
  },
  {
   "cell_type": "markdown",
   "metadata": {},
   "source": [
    "Calculate cost by EVTYPE"
   ]
  },
  {
   "cell_type": "code",
   "execution_count": 25,
   "metadata": {},
   "outputs": [
    {
     "data": {
      "text/html": [
       "<table>\n",
       "<caption>A data.frame: 6 × 9</caption>\n",
       "<thead>\n",
       "\t<tr><th></th><th scope=col>EVTYPE</th><th scope=col>FATALITIES</th><th scope=col>INJURIES</th><th scope=col>PROPDMG</th><th scope=col>PROPDMGEXP</th><th scope=col>CROPDMG</th><th scope=col>CROPDMGEXP</th><th scope=col>propCost</th><th scope=col>cropCost</th></tr>\n",
       "\t<tr><th></th><th scope=col>&lt;chr&gt;</th><th scope=col>&lt;dbl&gt;</th><th scope=col>&lt;dbl&gt;</th><th scope=col>&lt;dbl&gt;</th><th scope=col>&lt;dbl&gt;</th><th scope=col>&lt;dbl&gt;</th><th scope=col>&lt;dbl&gt;</th><th scope=col>&lt;dbl&gt;</th><th scope=col>&lt;dbl&gt;</th></tr>\n",
       "</thead>\n",
       "<tbody>\n",
       "\t<tr><th scope=row>1</th><td>TORNADO</td><td>0</td><td>15</td><td>25.0</td><td>1000</td><td>0</td><td>1</td><td>25000</td><td>0</td></tr>\n",
       "\t<tr><th scope=row>2</th><td>TORNADO</td><td>0</td><td> 0</td><td> 2.5</td><td>1000</td><td>0</td><td>1</td><td> 2500</td><td>0</td></tr>\n",
       "\t<tr><th scope=row>3</th><td>TORNADO</td><td>0</td><td> 2</td><td>25.0</td><td>1000</td><td>0</td><td>1</td><td>25000</td><td>0</td></tr>\n",
       "\t<tr><th scope=row>4</th><td>TORNADO</td><td>0</td><td> 2</td><td> 2.5</td><td>1000</td><td>0</td><td>1</td><td> 2500</td><td>0</td></tr>\n",
       "\t<tr><th scope=row>5</th><td>TORNADO</td><td>0</td><td> 2</td><td> 2.5</td><td>1000</td><td>0</td><td>1</td><td> 2500</td><td>0</td></tr>\n",
       "\t<tr><th scope=row>6</th><td>TORNADO</td><td>0</td><td> 6</td><td> 2.5</td><td>1000</td><td>0</td><td>1</td><td> 2500</td><td>0</td></tr>\n",
       "</tbody>\n",
       "</table>\n"
      ],
      "text/latex": [
       "A data.frame: 6 × 9\n",
       "\\begin{tabular}{r|lllllllll}\n",
       "  & EVTYPE & FATALITIES & INJURIES & PROPDMG & PROPDMGEXP & CROPDMG & CROPDMGEXP & propCost & cropCost\\\\\n",
       "  & <chr> & <dbl> & <dbl> & <dbl> & <dbl> & <dbl> & <dbl> & <dbl> & <dbl>\\\\\n",
       "\\hline\n",
       "\t1 & TORNADO & 0 & 15 & 25.0 & 1000 & 0 & 1 & 25000 & 0\\\\\n",
       "\t2 & TORNADO & 0 &  0 &  2.5 & 1000 & 0 & 1 &  2500 & 0\\\\\n",
       "\t3 & TORNADO & 0 &  2 & 25.0 & 1000 & 0 & 1 & 25000 & 0\\\\\n",
       "\t4 & TORNADO & 0 &  2 &  2.5 & 1000 & 0 & 1 &  2500 & 0\\\\\n",
       "\t5 & TORNADO & 0 &  2 &  2.5 & 1000 & 0 & 1 &  2500 & 0\\\\\n",
       "\t6 & TORNADO & 0 &  6 &  2.5 & 1000 & 0 & 1 &  2500 & 0\\\\\n",
       "\\end{tabular}\n"
      ],
      "text/markdown": [
       "\n",
       "A data.frame: 6 × 9\n",
       "\n",
       "| <!--/--> | EVTYPE &lt;chr&gt; | FATALITIES &lt;dbl&gt; | INJURIES &lt;dbl&gt; | PROPDMG &lt;dbl&gt; | PROPDMGEXP &lt;dbl&gt; | CROPDMG &lt;dbl&gt; | CROPDMGEXP &lt;dbl&gt; | propCost &lt;dbl&gt; | cropCost &lt;dbl&gt; |\n",
       "|---|---|---|---|---|---|---|---|---|---|\n",
       "| 1 | TORNADO | 0 | 15 | 25.0 | 1000 | 0 | 1 | 25000 | 0 |\n",
       "| 2 | TORNADO | 0 |  0 |  2.5 | 1000 | 0 | 1 |  2500 | 0 |\n",
       "| 3 | TORNADO | 0 |  2 | 25.0 | 1000 | 0 | 1 | 25000 | 0 |\n",
       "| 4 | TORNADO | 0 |  2 |  2.5 | 1000 | 0 | 1 |  2500 | 0 |\n",
       "| 5 | TORNADO | 0 |  2 |  2.5 | 1000 | 0 | 1 |  2500 | 0 |\n",
       "| 6 | TORNADO | 0 |  6 |  2.5 | 1000 | 0 | 1 |  2500 | 0 |\n",
       "\n"
      ],
      "text/plain": [
       "  EVTYPE  FATALITIES INJURIES PROPDMG PROPDMGEXP CROPDMG CROPDMGEXP propCost\n",
       "1 TORNADO 0          15       25.0    1000       0       1          25000   \n",
       "2 TORNADO 0           0        2.5    1000       0       1           2500   \n",
       "3 TORNADO 0           2       25.0    1000       0       1          25000   \n",
       "4 TORNADO 0           2        2.5    1000       0       1           2500   \n",
       "5 TORNADO 0           2        2.5    1000       0       1           2500   \n",
       "6 TORNADO 0           6        2.5    1000       0       1           2500   \n",
       "  cropCost\n",
       "1 0       \n",
       "2 0       \n",
       "3 0       \n",
       "4 0       \n",
       "5 0       \n",
       "6 0       "
      ]
     },
     "metadata": {},
     "output_type": "display_data"
    }
   ],
   "source": [
    "head(storm)"
   ]
  },
  {
   "cell_type": "code",
   "execution_count": 31,
   "metadata": {},
   "outputs": [],
   "source": [
    "storm <- as.data.table(storm)\n",
    "storm <- storm[, .(EVTYPE\n",
    "          , FATALITIES\n",
    "          , INJURIES\n",
    "          , PROPDMG\n",
    "          , PROPDMGEXP\n",
    "          , propCost = PROPDMG * PROPDMGEXP\n",
    "          , cropCost = CROPDMG * CROPDMGEXP\n",
    "         )]"
   ]
  },
  {
   "cell_type": "code",
   "execution_count": 63,
   "metadata": {},
   "outputs": [
    {
     "data": {
      "text/html": [
       "<table>\n",
       "<caption>A data.table: 6 × 4</caption>\n",
       "<thead>\n",
       "\t<tr><th scope=col>EVTYPE</th><th scope=col>propCost</th><th scope=col>cropCost</th><th scope=col>totalCost</th></tr>\n",
       "\t<tr><th scope=col>&lt;chr&gt;</th><th scope=col>&lt;dbl&gt;</th><th scope=col>&lt;dbl&gt;</th><th scope=col>&lt;dbl&gt;</th></tr>\n",
       "</thead>\n",
       "<tbody>\n",
       "\t<tr><td>FLOOD            </td><td>144657709870</td><td>168037.88</td><td>144657877908</td></tr>\n",
       "\t<tr><td>HURRICANE/TYPHOON</td><td> 69305840000</td><td>  4798.48</td><td> 69305844798</td></tr>\n",
       "\t<tr><td>TORNADO          </td><td> 56947380704</td><td>100018.52</td><td> 56947480722</td></tr>\n",
       "\t<tr><td>STORM SURGE      </td><td> 43323536000</td><td>     5.00</td><td> 43323536005</td></tr>\n",
       "\t<tr><td>FLASH FLOOD      </td><td> 16822675842</td><td>179200.46</td><td> 16822855042</td></tr>\n",
       "\t<tr><td>HAIL             </td><td> 15735268026</td><td>579596.28</td><td> 15735847622</td></tr>\n",
       "</tbody>\n",
       "</table>\n"
      ],
      "text/latex": [
       "A data.table: 6 × 4\n",
       "\\begin{tabular}{llll}\n",
       " EVTYPE & propCost & cropCost & totalCost\\\\\n",
       " <chr> & <dbl> & <dbl> & <dbl>\\\\\n",
       "\\hline\n",
       "\t FLOOD             & 144657709870 & 168037.88 & 144657877908\\\\\n",
       "\t HURRICANE/TYPHOON &  69305840000 &   4798.48 &  69305844798\\\\\n",
       "\t TORNADO           &  56947380704 & 100018.52 &  56947480722\\\\\n",
       "\t STORM SURGE       &  43323536000 &      5.00 &  43323536005\\\\\n",
       "\t FLASH FLOOD       &  16822675842 & 179200.46 &  16822855042\\\\\n",
       "\t HAIL              &  15735268026 & 579596.28 &  15735847622\\\\\n",
       "\\end{tabular}\n"
      ],
      "text/markdown": [
       "\n",
       "A data.table: 6 × 4\n",
       "\n",
       "| EVTYPE &lt;chr&gt; | propCost &lt;dbl&gt; | cropCost &lt;dbl&gt; | totalCost &lt;dbl&gt; |\n",
       "|---|---|---|---|\n",
       "| FLOOD             | 144657709870 | 168037.88 | 144657877908 |\n",
       "| HURRICANE/TYPHOON |  69305840000 |   4798.48 |  69305844798 |\n",
       "| TORNADO           |  56947380704 | 100018.52 |  56947480722 |\n",
       "| STORM SURGE       |  43323536000 |      5.00 |  43323536005 |\n",
       "| FLASH FLOOD       |  16822675842 | 179200.46 |  16822855042 |\n",
       "| HAIL              |  15735268026 | 579596.28 |  15735847622 |\n",
       "\n"
      ],
      "text/plain": [
       "  EVTYPE            propCost     cropCost  totalCost   \n",
       "1 FLOOD             144657709870 168037.88 144657877908\n",
       "2 HURRICANE/TYPHOON  69305840000   4798.48  69305844798\n",
       "3 TORNADO            56947380704 100018.52  56947480722\n",
       "4 STORM SURGE        43323536000      5.00  43323536005\n",
       "5 FLASH FLOOD        16822675842 179200.46  16822855042\n",
       "6 HAIL               15735268026 579596.28  15735847622"
      ]
     },
     "metadata": {},
     "output_type": "display_data"
    }
   ],
   "source": [
    "#storm <- as.data.table(storm)\n",
    "totalCostDT <- storm[, .(propCost = sum(propCost)\n",
    "                     , cropCost = sum(cropCost)\n",
    "                     , totalCost = sum(propCost) + sum(cropCost)\n",
    "                     ), by = .(EVTYPE)]\n",
    "totalCostDT <- totalCostDT[order(-totalCost),]\n",
    "totalCostDT <- totalCostDT[1:10, ]\n",
    "head(totalCostDT)"
   ]
  },
  {
   "cell_type": "markdown",
   "metadata": {},
   "source": [
    "###  2.7 Calculate total fatalities and injuries"
   ]
  },
  {
   "cell_type": "code",
   "execution_count": 40,
   "metadata": {},
   "outputs": [
    {
     "data": {
      "text/html": [
       "<table>\n",
       "<caption>A data.table: 6 × 4</caption>\n",
       "<thead>\n",
       "\t<tr><th scope=col>EVTYPE</th><th scope=col>FATALITIES</th><th scope=col>INJURIES</th><th scope=col>totalS</th></tr>\n",
       "\t<tr><th scope=col>&lt;chr&gt;</th><th scope=col>&lt;dbl&gt;</th><th scope=col>&lt;dbl&gt;</th><th scope=col>&lt;dbl&gt;</th></tr>\n",
       "</thead>\n",
       "<tbody>\n",
       "\t<tr><td>TORNADO       </td><td>5633</td><td>91346</td><td>96979</td></tr>\n",
       "\t<tr><td>EXCESSIVE HEAT</td><td>1903</td><td> 6525</td><td> 8428</td></tr>\n",
       "\t<tr><td>FLASH FLOOD   </td><td> 978</td><td> 1777</td><td> 2755</td></tr>\n",
       "\t<tr><td>HEAT          </td><td> 937</td><td> 2100</td><td> 3037</td></tr>\n",
       "\t<tr><td>LIGHTNING     </td><td> 816</td><td> 5230</td><td> 6046</td></tr>\n",
       "\t<tr><td>TSTM WIND     </td><td> 504</td><td> 6957</td><td> 7461</td></tr>\n",
       "</tbody>\n",
       "</table>\n"
      ],
      "text/latex": [
       "A data.table: 6 × 4\n",
       "\\begin{tabular}{llll}\n",
       " EVTYPE & FATALITIES & INJURIES & totalS\\\\\n",
       " <chr> & <dbl> & <dbl> & <dbl>\\\\\n",
       "\\hline\n",
       "\t TORNADO        & 5633 & 91346 & 96979\\\\\n",
       "\t EXCESSIVE HEAT & 1903 &  6525 &  8428\\\\\n",
       "\t FLASH FLOOD    &  978 &  1777 &  2755\\\\\n",
       "\t HEAT           &  937 &  2100 &  3037\\\\\n",
       "\t LIGHTNING      &  816 &  5230 &  6046\\\\\n",
       "\t TSTM WIND      &  504 &  6957 &  7461\\\\\n",
       "\\end{tabular}\n"
      ],
      "text/markdown": [
       "\n",
       "A data.table: 6 × 4\n",
       "\n",
       "| EVTYPE &lt;chr&gt; | FATALITIES &lt;dbl&gt; | INJURIES &lt;dbl&gt; | totalS &lt;dbl&gt; |\n",
       "|---|---|---|---|\n",
       "| TORNADO        | 5633 | 91346 | 96979 |\n",
       "| EXCESSIVE HEAT | 1903 |  6525 |  8428 |\n",
       "| FLASH FLOOD    |  978 |  1777 |  2755 |\n",
       "| HEAT           |  937 |  2100 |  3037 |\n",
       "| LIGHTNING      |  816 |  5230 |  6046 |\n",
       "| TSTM WIND      |  504 |  6957 |  7461 |\n",
       "\n"
      ],
      "text/plain": [
       "  EVTYPE         FATALITIES INJURIES totalS\n",
       "1 TORNADO        5633       91346    96979 \n",
       "2 EXCESSIVE HEAT 1903        6525     8428 \n",
       "3 FLASH FLOOD     978        1777     2755 \n",
       "4 HEAT            937        2100     3037 \n",
       "5 LIGHTNING       816        5230     6046 \n",
       "6 TSTM WIND       504        6957     7461 "
      ]
     },
     "metadata": {},
     "output_type": "display_data"
    }
   ],
   "source": [
    "totalFatalitiesDT <- storm[, .(FATALITIES = sum(FATALITIES)\n",
    "                             , INJURIES = sum(INJURIES)\n",
    "                             , totalS = sum(FATALITIES) + sum(INJURIES))\n",
    "                          , by = .(EVTYPE)]\n",
    "totalFatalitiesDT <- totalFatalitiesDT[order(-FATALITIES)]\n",
    "totalFatalitiesDT <- totalFatalitiesDT[1:10,]\n",
    "head(totalFatalitiesDT)"
   ]
  },
  {
   "cell_type": "code",
   "execution_count": 70,
   "metadata": {},
   "outputs": [
    {
     "data": {
      "text/html": [
       "<table>\n",
       "<caption>A data.table: 1 × 4</caption>\n",
       "<thead>\n",
       "\t<tr><th scope=col>EVTYPE</th><th scope=col>FATALITIES</th><th scope=col>INJURIES</th><th scope=col>totalS</th></tr>\n",
       "\t<tr><th scope=col>&lt;chr&gt;</th><th scope=col>&lt;dbl&gt;</th><th scope=col>&lt;dbl&gt;</th><th scope=col>&lt;dbl&gt;</th></tr>\n",
       "</thead>\n",
       "<tbody>\n",
       "\t<tr><td>TORNADO</td><td>5633</td><td>91346</td><td>96979</td></tr>\n",
       "</tbody>\n",
       "</table>\n"
      ],
      "text/latex": [
       "A data.table: 1 × 4\n",
       "\\begin{tabular}{llll}\n",
       " EVTYPE & FATALITIES & INJURIES & totalS\\\\\n",
       " <chr> & <dbl> & <dbl> & <dbl>\\\\\n",
       "\\hline\n",
       "\t TORNADO & 5633 & 91346 & 96979\\\\\n",
       "\\end{tabular}\n"
      ],
      "text/markdown": [
       "\n",
       "A data.table: 1 × 4\n",
       "\n",
       "| EVTYPE &lt;chr&gt; | FATALITIES &lt;dbl&gt; | INJURIES &lt;dbl&gt; | totalS &lt;dbl&gt; |\n",
       "|---|---|---|---|\n",
       "| TORNADO | 5633 | 91346 | 96979 |\n",
       "\n"
      ],
      "text/plain": [
       "  EVTYPE  FATALITIES INJURIES totalS\n",
       "1 TORNADO 5633       91346    96979 "
      ]
     },
     "metadata": {},
     "output_type": "display_data"
    }
   ],
   "source": [
    "totalFatalitiesDT[EVTYPE == \"TORNADO\",]"
   ]
  },
  {
   "cell_type": "markdown",
   "metadata": {},
   "source": [
    "## 3. Answers\n",
    "### 3.1 Across the United States, which types of events (as indicated in the EVTYPE variable) are most harmful with respect to population health?"
   ]
  },
  {
   "cell_type": "code",
   "execution_count": 251,
   "metadata": {},
   "outputs": [],
   "source": [
    "#?melt"
   ]
  },
  {
   "cell_type": "code",
   "execution_count": 41,
   "metadata": {},
   "outputs": [],
   "source": [
    "harmful_events <- melt(\n",
    "    totalFatalitiesDT\n",
    "    , id.vars = 'EVTYPE'\n",
    "    , variable.name = \"harm\"\n",
    ")"
   ]
  },
  {
   "cell_type": "code",
   "execution_count": 42,
   "metadata": {},
   "outputs": [
    {
     "data": {
      "text/html": [
       "<table>\n",
       "<caption>A data.table: 6 × 3</caption>\n",
       "<thead>\n",
       "\t<tr><th scope=col>EVTYPE</th><th scope=col>harm</th><th scope=col>value</th></tr>\n",
       "\t<tr><th scope=col>&lt;chr&gt;</th><th scope=col>&lt;fct&gt;</th><th scope=col>&lt;dbl&gt;</th></tr>\n",
       "</thead>\n",
       "<tbody>\n",
       "\t<tr><td>TORNADO       </td><td>FATALITIES</td><td>5633</td></tr>\n",
       "\t<tr><td>EXCESSIVE HEAT</td><td>FATALITIES</td><td>1903</td></tr>\n",
       "\t<tr><td>FLASH FLOOD   </td><td>FATALITIES</td><td> 978</td></tr>\n",
       "\t<tr><td>HEAT          </td><td>FATALITIES</td><td> 937</td></tr>\n",
       "\t<tr><td>LIGHTNING     </td><td>FATALITIES</td><td> 816</td></tr>\n",
       "\t<tr><td>TSTM WIND     </td><td>FATALITIES</td><td> 504</td></tr>\n",
       "</tbody>\n",
       "</table>\n"
      ],
      "text/latex": [
       "A data.table: 6 × 3\n",
       "\\begin{tabular}{lll}\n",
       " EVTYPE & harm & value\\\\\n",
       " <chr> & <fct> & <dbl>\\\\\n",
       "\\hline\n",
       "\t TORNADO        & FATALITIES & 5633\\\\\n",
       "\t EXCESSIVE HEAT & FATALITIES & 1903\\\\\n",
       "\t FLASH FLOOD    & FATALITIES &  978\\\\\n",
       "\t HEAT           & FATALITIES &  937\\\\\n",
       "\t LIGHTNING      & FATALITIES &  816\\\\\n",
       "\t TSTM WIND      & FATALITIES &  504\\\\\n",
       "\\end{tabular}\n"
      ],
      "text/markdown": [
       "\n",
       "A data.table: 6 × 3\n",
       "\n",
       "| EVTYPE &lt;chr&gt; | harm &lt;fct&gt; | value &lt;dbl&gt; |\n",
       "|---|---|---|\n",
       "| TORNADO        | FATALITIES | 5633 |\n",
       "| EXCESSIVE HEAT | FATALITIES | 1903 |\n",
       "| FLASH FLOOD    | FATALITIES |  978 |\n",
       "| HEAT           | FATALITIES |  937 |\n",
       "| LIGHTNING      | FATALITIES |  816 |\n",
       "| TSTM WIND      | FATALITIES |  504 |\n",
       "\n"
      ],
      "text/plain": [
       "  EVTYPE         harm       value\n",
       "1 TORNADO        FATALITIES 5633 \n",
       "2 EXCESSIVE HEAT FATALITIES 1903 \n",
       "3 FLASH FLOOD    FATALITIES  978 \n",
       "4 HEAT           FATALITIES  937 \n",
       "5 LIGHTNING      FATALITIES  816 \n",
       "6 TSTM WIND      FATALITIES  504 "
      ]
     },
     "metadata": {},
     "output_type": "display_data"
    }
   ],
   "source": [
    "head(harmful_events)"
   ]
  },
  {
   "cell_type": "code",
   "execution_count": 43,
   "metadata": {},
   "outputs": [
    {
     "name": "stdout",
     "output_type": "stream",
     "text": [
      "Classes ‘data.table’ and 'data.frame':\t30 obs. of  3 variables:\n",
      " $ EVTYPE: chr  \"TORNADO\" \"EXCESSIVE HEAT\" \"FLASH FLOOD\" \"HEAT\" ...\n",
      " $ harm  : Factor w/ 3 levels \"FATALITIES\",\"INJURIES\",..: 1 1 1 1 1 1 1 1 1 1 ...\n",
      " $ value : num  5633 1903 978 937 816 ...\n",
      " - attr(*, \".internal.selfref\")=<externalptr> \n"
     ]
    }
   ],
   "source": [
    "str(harmful_events)"
   ]
  },
  {
   "cell_type": "code",
   "execution_count": 44,
   "metadata": {},
   "outputs": [
    {
     "name": "stdout",
     "output_type": "stream",
     "text": [
      " Factor w/ 3 levels \"FATALITIES\",\"INJURIES\",..: 1 1 1 1 1 1 1 1 1 1 ...\n"
     ]
    }
   ],
   "source": [
    "str(harmful_events$harm)"
   ]
  },
  {
   "cell_type": "code",
   "execution_count": 45,
   "metadata": {},
   "outputs": [
    {
     "data": {
      "text/html": [
       "<style>\n",
       ".list-inline {list-style: none; margin:0; padding: 0}\n",
       ".list-inline>li {display: inline-block}\n",
       ".list-inline>li:not(:last-child)::after {content: \"\\00b7\"; padding: 0 .5ex}\n",
       "</style>\n",
       "<ol class=list-inline><li>'EVTYPE'</li><li>'harm'</li><li>'value'</li></ol>\n"
      ],
      "text/latex": [
       "\\begin{enumerate*}\n",
       "\\item 'EVTYPE'\n",
       "\\item 'harm'\n",
       "\\item 'value'\n",
       "\\end{enumerate*}\n"
      ],
      "text/markdown": [
       "1. 'EVTYPE'\n",
       "2. 'harm'\n",
       "3. 'value'\n",
       "\n",
       "\n"
      ],
      "text/plain": [
       "[1] \"EVTYPE\" \"harm\"   \"value\" "
      ]
     },
     "metadata": {},
     "output_type": "display_data"
    }
   ],
   "source": [
    "names(harmful_events)"
   ]
  },
  {
   "cell_type": "code",
   "execution_count": 52,
   "metadata": {},
   "outputs": [
    {
     "data": {
      "image/png": "[encoded data removed]",
      "text/plain": [
       "plot without title"
      ]
     },
     "metadata": {
      "image/png": {
       "height": 420,
       "width": 420
      }
     },
     "output_type": "display_data"
    }
   ],
   "source": [
    "g <- ggplot(data = harmful_events\n",
    "           , aes(x = reorder(EVTYPE, -value)\n",
    "                , y = value)\n",
    "           )\n",
    "g <- g + geom_bar(\n",
    "    color = \"black\"\n",
    "    , stat = 'identity'\n",
    "    , fill = \"steelblue\"\n",
    "    , position = 'dodge'\n",
    ")\n",
    "g <- g + xlab(\"Event type\") + ylab(\"Frequency count\")\n",
    "g <- g + ggtitle(\"Total Number of fatalities, 1950 - 2011\")\n",
    "g <- g + theme(axis.text.x = element_text(angle = 90, hjust = 1))\n",
    "g"
   ]
  },
  {
   "cell_type": "markdown",
   "metadata": {},
   "source": [
    "### 3.2 Across the United States, which types of events (as indicated in the EVTYPE variable) are most harmful with respect to population health?"
   ]
  },
  {
   "cell_type": "code",
   "execution_count": 64,
   "metadata": {},
   "outputs": [
    {
     "data": {
      "text/html": [
       "<table>\n",
       "<caption>A data.table: 6 × 3</caption>\n",
       "<thead>\n",
       "\t<tr><th scope=col>EVTYPE</th><th scope=col>Damage_Type</th><th scope=col>value</th></tr>\n",
       "\t<tr><th scope=col>&lt;chr&gt;</th><th scope=col>&lt;fct&gt;</th><th scope=col>&lt;dbl&gt;</th></tr>\n",
       "</thead>\n",
       "<tbody>\n",
       "\t<tr><td>FLOOD            </td><td>propCost</td><td>144657709870</td></tr>\n",
       "\t<tr><td>HURRICANE/TYPHOON</td><td>propCost</td><td> 69305840000</td></tr>\n",
       "\t<tr><td>TORNADO          </td><td>propCost</td><td> 56947380704</td></tr>\n",
       "\t<tr><td>STORM SURGE      </td><td>propCost</td><td> 43323536000</td></tr>\n",
       "\t<tr><td>FLASH FLOOD      </td><td>propCost</td><td> 16822675842</td></tr>\n",
       "\t<tr><td>HAIL             </td><td>propCost</td><td> 15735268026</td></tr>\n",
       "</tbody>\n",
       "</table>\n"
      ],
      "text/latex": [
       "A data.table: 6 × 3\n",
       "\\begin{tabular}{lll}\n",
       " EVTYPE & Damage\\_Type & value\\\\\n",
       " <chr> & <fct> & <dbl>\\\\\n",
       "\\hline\n",
       "\t FLOOD             & propCost & 144657709870\\\\\n",
       "\t HURRICANE/TYPHOON & propCost &  69305840000\\\\\n",
       "\t TORNADO           & propCost &  56947380704\\\\\n",
       "\t STORM SURGE       & propCost &  43323536000\\\\\n",
       "\t FLASH FLOOD       & propCost &  16822675842\\\\\n",
       "\t HAIL              & propCost &  15735268026\\\\\n",
       "\\end{tabular}\n"
      ],
      "text/markdown": [
       "\n",
       "A data.table: 6 × 3\n",
       "\n",
       "| EVTYPE &lt;chr&gt; | Damage_Type &lt;fct&gt; | value &lt;dbl&gt; |\n",
       "|---|---|---|\n",
       "| FLOOD             | propCost | 144657709870 |\n",
       "| HURRICANE/TYPHOON | propCost |  69305840000 |\n",
       "| TORNADO           | propCost |  56947380704 |\n",
       "| STORM SURGE       | propCost |  43323536000 |\n",
       "| FLASH FLOOD       | propCost |  16822675842 |\n",
       "| HAIL              | propCost |  15735268026 |\n",
       "\n"
      ],
      "text/plain": [
       "  EVTYPE            Damage_Type value       \n",
       "1 FLOOD             propCost    144657709870\n",
       "2 HURRICANE/TYPHOON propCost     69305840000\n",
       "3 TORNADO           propCost     56947380704\n",
       "4 STORM SURGE       propCost     43323536000\n",
       "5 FLASH FLOOD       propCost     16822675842\n",
       "6 HAIL              propCost     15735268026"
      ]
     },
     "metadata": {},
     "output_type": "display_data"
    }
   ],
   "source": [
    "econ_consequences <- melt(totalCostDT, id.vars = 'EVTYPE', variable.name = \"Damage_Type\")\n",
    "head(econ_consequences)"
   ]
  },
  {
   "cell_type": "code",
   "execution_count": 71,
   "metadata": {},
   "outputs": [
    {
     "data": {
      "image/png": "[encoded data removed]",
      "text/plain": [
       "plot without title"
      ]
     },
     "metadata": {
      "image/png": {
       "height": 420,
       "width": 420
      }
     },
     "output_type": "display_data"
    }
   ],
   "source": [
    "g <- NULL\n",
    "g <- ggplot(data = econ_consequences, aes(x = reorder(EVTYPE, -value), y = value))\n",
    "g <- g + geom_bar(stat = 'identity', fill = 'red', position = \"dodge\")\n",
    "g <- g + xlab(\"Event type\") + ylab(\"Total damage (USD)\")\n",
    "g <- g + ggtitle(\"Total economic damage, 1950-2011, USD\")\n",
    "g <- g + theme(axis.text.x = element_text(angle = 90, hjust = 1))\n",
    "g"
   ]
  }
 ],
 "metadata": {
  "kernelspec": {
   "display_name": "R",
   "language": "R",
   "name": "ir"
  },
  "language_info": {
   "codemirror_mode": "r",
   "file_extension": ".r",
   "mimetype": "text/x-r-source",
   "name": "R",
   "pygments_lexer": "r",
   "version": "4.0.2"
  }
 },
 "nbformat": 4,
 "nbformat_minor": 4
}
