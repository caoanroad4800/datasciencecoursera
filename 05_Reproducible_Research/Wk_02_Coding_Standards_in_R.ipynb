{
 "cells": [
  {
   "cell_type": "markdown",
   "metadata": {},
   "source": [
    "## Coding Standards for R\n",
    "\n",
    "- Always use text files / text editor\n",
    "- Indent your code\n",
    "- Limit the width of your code (80 columns?)\n",
    "- Limit the length of individual functions"
   ]
  },
  {
   "cell_type": "markdown",
   "metadata": {},
   "source": [
    "## Markdown\n",
    "\n",
    "2 ways to inert url\n",
    "[Download R](http://www.r-project.org/)\n",
    "\n",
    "I spend so much tim reading [R bloggers][1] and [Simply Statistics][2]!\n",
    "\n",
    "[1]: http://www.r-bloggers.com \"R bloggers\"\n",
    "\n",
    "[2]: http://simplystatistics.com \"Simply Statistics\"\n"
   ]
  },
  {
   "cell_type": "raw",
   "metadata": {},
   "source": [
    "2 ways to insert url\n",
    "[Download R](http://www.r-project.org/)"
   ]
  },
  {
   "cell_type": "raw",
   "metadata": {},
   "source": [
    "I spend so much tim reading [R bloggers][1] and [Simply Statistics][2]!\n",
    "\n",
    "[1]: http://www.r-bloggers.com \"R bloggers\"\n",
    "\n",
    "[2]: http://simplystatistics.com \"Simply Statistics\""
   ]
  },
  {
   "cell_type": "markdown",
   "metadata": {},
   "source": [
    "## R Markdown"
   ]
  },
  {
   "cell_type": "markdown",
   "metadata": {},
   "source": [
    "## Literate Statistical Programming with knitr"
   ]
  }
 ],
 "metadata": {
  "kernelspec": {
   "display_name": "R",
   "language": "R",
   "name": "ir"
  },
  "language_info": {
   "codemirror_mode": "r",
   "file_extension": ".r",
   "mimetype": "text/x-r-source",
   "name": "R",
   "pygments_lexer": "r",
   "version": "4.0.2"
  }
 },
 "nbformat": 4,
 "nbformat_minor": 4
}
