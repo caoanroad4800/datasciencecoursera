{
 "cells": [
  {
   "cell_type": "code",
   "execution_count": 1,
   "metadata": {},
   "outputs": [],
   "source": [
    "## load packages\n",
    "library(data.table)\n",
    "library(ggplot2)"
   ]
  },
  {
   "cell_type": "code",
   "execution_count": 2,
   "metadata": {},
   "outputs": [],
   "source": [
    "## Download the source code file\n",
    "fileUrl <- \"https://d396qusza40orc.cloudfront.net/repdata%2Fdata%2Factivity.zip\"\n",
    "download.file(fileUrl, destfile = \"./data/repdata_data_activity.zip\")"
   ]
  },
  {
   "cell_type": "code",
   "execution_count": 80,
   "metadata": {},
   "outputs": [],
   "source": [
    "# unzip it in linux, then\n",
    "activity <- data.table::fread('./data/activity.csv')"
   ]
  },
  {
   "cell_type": "code",
   "execution_count": 4,
   "metadata": {},
   "outputs": [
    {
     "data": {
      "text/plain": [
       "     steps             date               interval     \n",
       " Min.   :  0.00   Min.   :2012-10-01   Min.   :   0.0  \n",
       " 1st Qu.:  0.00   1st Qu.:2012-10-16   1st Qu.: 588.8  \n",
       " Median :  0.00   Median :2012-10-31   Median :1177.5  \n",
       " Mean   : 37.38   Mean   :2012-10-31   Mean   :1177.5  \n",
       " 3rd Qu.: 12.00   3rd Qu.:2012-11-15   3rd Qu.:1766.2  \n",
       " Max.   :806.00   Max.   :2012-11-30   Max.   :2355.0  \n",
       " NA's   :2304                                          "
      ]
     },
     "metadata": {},
     "output_type": "display_data"
    }
   ],
   "source": [
    "# dim(activity) # 17568x3\n",
    "summary(activity)"
   ]
  },
  {
   "cell_type": "code",
   "execution_count": 5,
   "metadata": {},
   "outputs": [
    {
     "data": {
      "text/html": [
       "<table>\n",
       "<caption>A data.table: 6 × 3</caption>\n",
       "<thead>\n",
       "\t<tr><th scope=col>steps</th><th scope=col>date</th><th scope=col>interval</th></tr>\n",
       "\t<tr><th scope=col>&lt;int&gt;</th><th scope=col>&lt;date&gt;</th><th scope=col>&lt;int&gt;</th></tr>\n",
       "</thead>\n",
       "<tbody>\n",
       "\t<tr><td>NA</td><td>2012-10-01</td><td> 0</td></tr>\n",
       "\t<tr><td>NA</td><td>2012-10-01</td><td> 5</td></tr>\n",
       "\t<tr><td>NA</td><td>2012-10-01</td><td>10</td></tr>\n",
       "\t<tr><td>NA</td><td>2012-10-01</td><td>15</td></tr>\n",
       "\t<tr><td>NA</td><td>2012-10-01</td><td>20</td></tr>\n",
       "\t<tr><td>NA</td><td>2012-10-01</td><td>25</td></tr>\n",
       "</tbody>\n",
       "</table>\n"
      ],
      "text/latex": [
       "A data.table: 6 × 3\n",
       "\\begin{tabular}{lll}\n",
       " steps & date & interval\\\\\n",
       " <int> & <date> & <int>\\\\\n",
       "\\hline\n",
       "\t NA & 2012-10-01 &  0\\\\\n",
       "\t NA & 2012-10-01 &  5\\\\\n",
       "\t NA & 2012-10-01 & 10\\\\\n",
       "\t NA & 2012-10-01 & 15\\\\\n",
       "\t NA & 2012-10-01 & 20\\\\\n",
       "\t NA & 2012-10-01 & 25\\\\\n",
       "\\end{tabular}\n"
      ],
      "text/markdown": [
       "\n",
       "A data.table: 6 × 3\n",
       "\n",
       "| steps &lt;int&gt; | date &lt;date&gt; | interval &lt;int&gt; |\n",
       "|---|---|---|\n",
       "| NA | 2012-10-01 |  0 |\n",
       "| NA | 2012-10-01 |  5 |\n",
       "| NA | 2012-10-01 | 10 |\n",
       "| NA | 2012-10-01 | 15 |\n",
       "| NA | 2012-10-01 | 20 |\n",
       "| NA | 2012-10-01 | 25 |\n",
       "\n"
      ],
      "text/plain": [
       "  steps date       interval\n",
       "1 NA    2012-10-01  0      \n",
       "2 NA    2012-10-01  5      \n",
       "3 NA    2012-10-01 10      \n",
       "4 NA    2012-10-01 15      \n",
       "5 NA    2012-10-01 20      \n",
       "6 NA    2012-10-01 25      "
      ]
     },
     "metadata": {},
     "output_type": "display_data"
    }
   ],
   "source": [
    "head(activity)"
   ]
  },
  {
   "cell_type": "code",
   "execution_count": 6,
   "metadata": {},
   "outputs": [
    {
     "data": {
      "text/html": [
       "<style>\n",
       ".list-inline {list-style: none; margin:0; padding: 0}\n",
       ".list-inline>li {display: inline-block}\n",
       ".list-inline>li:not(:last-child)::after {content: \"\\00b7\"; padding: 0 .5ex}\n",
       "</style>\n",
       "<ol class=list-inline><li><time datetime=\"2012-10-01\">2012-10-01</time></li><li><time datetime=\"2012-10-02\">2012-10-02</time></li><li><time datetime=\"2012-10-03\">2012-10-03</time></li><li><time datetime=\"2012-10-04\">2012-10-04</time></li><li><time datetime=\"2012-10-05\">2012-10-05</time></li><li><time datetime=\"2012-10-06\">2012-10-06</time></li><li><time datetime=\"2012-10-07\">2012-10-07</time></li><li><time datetime=\"2012-10-08\">2012-10-08</time></li><li><time datetime=\"2012-10-09\">2012-10-09</time></li><li><time datetime=\"2012-10-10\">2012-10-10</time></li><li><time datetime=\"2012-10-11\">2012-10-11</time></li><li><time datetime=\"2012-10-12\">2012-10-12</time></li><li><time datetime=\"2012-10-13\">2012-10-13</time></li><li><time datetime=\"2012-10-14\">2012-10-14</time></li><li><time datetime=\"2012-10-15\">2012-10-15</time></li><li><time datetime=\"2012-10-16\">2012-10-16</time></li><li><time datetime=\"2012-10-17\">2012-10-17</time></li><li><time datetime=\"2012-10-18\">2012-10-18</time></li><li><time datetime=\"2012-10-19\">2012-10-19</time></li><li><time datetime=\"2012-10-20\">2012-10-20</time></li><li><time datetime=\"2012-10-21\">2012-10-21</time></li><li><time datetime=\"2012-10-22\">2012-10-22</time></li><li><time datetime=\"2012-10-23\">2012-10-23</time></li><li><time datetime=\"2012-10-24\">2012-10-24</time></li><li><time datetime=\"2012-10-25\">2012-10-25</time></li><li><time datetime=\"2012-10-26\">2012-10-26</time></li><li><time datetime=\"2012-10-27\">2012-10-27</time></li><li><time datetime=\"2012-10-28\">2012-10-28</time></li><li><time datetime=\"2012-10-29\">2012-10-29</time></li><li><time datetime=\"2012-10-30\">2012-10-30</time></li><li><time datetime=\"2012-10-31\">2012-10-31</time></li><li><time datetime=\"2012-11-01\">2012-11-01</time></li><li><time datetime=\"2012-11-02\">2012-11-02</time></li><li><time datetime=\"2012-11-03\">2012-11-03</time></li><li><time datetime=\"2012-11-04\">2012-11-04</time></li><li><time datetime=\"2012-11-05\">2012-11-05</time></li><li><time datetime=\"2012-11-06\">2012-11-06</time></li><li><time datetime=\"2012-11-07\">2012-11-07</time></li><li><time datetime=\"2012-11-08\">2012-11-08</time></li><li><time datetime=\"2012-11-09\">2012-11-09</time></li><li><time datetime=\"2012-11-10\">2012-11-10</time></li><li><time datetime=\"2012-11-11\">2012-11-11</time></li><li><time datetime=\"2012-11-12\">2012-11-12</time></li><li><time datetime=\"2012-11-13\">2012-11-13</time></li><li><time datetime=\"2012-11-14\">2012-11-14</time></li><li><time datetime=\"2012-11-15\">2012-11-15</time></li><li><time datetime=\"2012-11-16\">2012-11-16</time></li><li><time datetime=\"2012-11-17\">2012-11-17</time></li><li><time datetime=\"2012-11-18\">2012-11-18</time></li><li><time datetime=\"2012-11-19\">2012-11-19</time></li><li><time datetime=\"2012-11-20\">2012-11-20</time></li><li><time datetime=\"2012-11-21\">2012-11-21</time></li><li><time datetime=\"2012-11-22\">2012-11-22</time></li><li><time datetime=\"2012-11-23\">2012-11-23</time></li><li><time datetime=\"2012-11-24\">2012-11-24</time></li><li><time datetime=\"2012-11-25\">2012-11-25</time></li><li><time datetime=\"2012-11-26\">2012-11-26</time></li><li><time datetime=\"2012-11-27\">2012-11-27</time></li><li><time datetime=\"2012-11-28\">2012-11-28</time></li><li><time datetime=\"2012-11-29\">2012-11-29</time></li><li><time datetime=\"2012-11-30\">2012-11-30</time></li></ol>\n"
      ],
      "text/latex": [
       "\\begin{enumerate*}\n",
       "\\item 2012-10-01\n",
       "\\item 2012-10-02\n",
       "\\item 2012-10-03\n",
       "\\item 2012-10-04\n",
       "\\item 2012-10-05\n",
       "\\item 2012-10-06\n",
       "\\item 2012-10-07\n",
       "\\item 2012-10-08\n",
       "\\item 2012-10-09\n",
       "\\item 2012-10-10\n",
       "\\item 2012-10-11\n",
       "\\item 2012-10-12\n",
       "\\item 2012-10-13\n",
       "\\item 2012-10-14\n",
       "\\item 2012-10-15\n",
       "\\item 2012-10-16\n",
       "\\item 2012-10-17\n",
       "\\item 2012-10-18\n",
       "\\item 2012-10-19\n",
       "\\item 2012-10-20\n",
       "\\item 2012-10-21\n",
       "\\item 2012-10-22\n",
       "\\item 2012-10-23\n",
       "\\item 2012-10-24\n",
       "\\item 2012-10-25\n",
       "\\item 2012-10-26\n",
       "\\item 2012-10-27\n",
       "\\item 2012-10-28\n",
       "\\item 2012-10-29\n",
       "\\item 2012-10-30\n",
       "\\item 2012-10-31\n",
       "\\item 2012-11-01\n",
       "\\item 2012-11-02\n",
       "\\item 2012-11-03\n",
       "\\item 2012-11-04\n",
       "\\item 2012-11-05\n",
       "\\item 2012-11-06\n",
       "\\item 2012-11-07\n",
       "\\item 2012-11-08\n",
       "\\item 2012-11-09\n",
       "\\item 2012-11-10\n",
       "\\item 2012-11-11\n",
       "\\item 2012-11-12\n",
       "\\item 2012-11-13\n",
       "\\item 2012-11-14\n",
       "\\item 2012-11-15\n",
       "\\item 2012-11-16\n",
       "\\item 2012-11-17\n",
       "\\item 2012-11-18\n",
       "\\item 2012-11-19\n",
       "\\item 2012-11-20\n",
       "\\item 2012-11-21\n",
       "\\item 2012-11-22\n",
       "\\item 2012-11-23\n",
       "\\item 2012-11-24\n",
       "\\item 2012-11-25\n",
       "\\item 2012-11-26\n",
       "\\item 2012-11-27\n",
       "\\item 2012-11-28\n",
       "\\item 2012-11-29\n",
       "\\item 2012-11-30\n",
       "\\end{enumerate*}\n"
      ],
      "text/markdown": [
       "1. 2012-10-01\n",
       "2. 2012-10-02\n",
       "3. 2012-10-03\n",
       "4. 2012-10-04\n",
       "5. 2012-10-05\n",
       "6. 2012-10-06\n",
       "7. 2012-10-07\n",
       "8. 2012-10-08\n",
       "9. 2012-10-09\n",
       "10. 2012-10-10\n",
       "11. 2012-10-11\n",
       "12. 2012-10-12\n",
       "13. 2012-10-13\n",
       "14. 2012-10-14\n",
       "15. 2012-10-15\n",
       "16. 2012-10-16\n",
       "17. 2012-10-17\n",
       "18. 2012-10-18\n",
       "19. 2012-10-19\n",
       "20. 2012-10-20\n",
       "21. 2012-10-21\n",
       "22. 2012-10-22\n",
       "23. 2012-10-23\n",
       "24. 2012-10-24\n",
       "25. 2012-10-25\n",
       "26. 2012-10-26\n",
       "27. 2012-10-27\n",
       "28. 2012-10-28\n",
       "29. 2012-10-29\n",
       "30. 2012-10-30\n",
       "31. 2012-10-31\n",
       "32. 2012-11-01\n",
       "33. 2012-11-02\n",
       "34. 2012-11-03\n",
       "35. 2012-11-04\n",
       "36. 2012-11-05\n",
       "37. 2012-11-06\n",
       "38. 2012-11-07\n",
       "39. 2012-11-08\n",
       "40. 2012-11-09\n",
       "41. 2012-11-10\n",
       "42. 2012-11-11\n",
       "43. 2012-11-12\n",
       "44. 2012-11-13\n",
       "45. 2012-11-14\n",
       "46. 2012-11-15\n",
       "47. 2012-11-16\n",
       "48. 2012-11-17\n",
       "49. 2012-11-18\n",
       "50. 2012-11-19\n",
       "51. 2012-11-20\n",
       "52. 2012-11-21\n",
       "53. 2012-11-22\n",
       "54. 2012-11-23\n",
       "55. 2012-11-24\n",
       "56. 2012-11-25\n",
       "57. 2012-11-26\n",
       "58. 2012-11-27\n",
       "59. 2012-11-28\n",
       "60. 2012-11-29\n",
       "61. 2012-11-30\n",
       "\n",
       "\n"
      ],
      "text/plain": [
       " [1] \"2012-10-01\" \"2012-10-02\" \"2012-10-03\" \"2012-10-04\" \"2012-10-05\"\n",
       " [6] \"2012-10-06\" \"2012-10-07\" \"2012-10-08\" \"2012-10-09\" \"2012-10-10\"\n",
       "[11] \"2012-10-11\" \"2012-10-12\" \"2012-10-13\" \"2012-10-14\" \"2012-10-15\"\n",
       "[16] \"2012-10-16\" \"2012-10-17\" \"2012-10-18\" \"2012-10-19\" \"2012-10-20\"\n",
       "[21] \"2012-10-21\" \"2012-10-22\" \"2012-10-23\" \"2012-10-24\" \"2012-10-25\"\n",
       "[26] \"2012-10-26\" \"2012-10-27\" \"2012-10-28\" \"2012-10-29\" \"2012-10-30\"\n",
       "[31] \"2012-10-31\" \"2012-11-01\" \"2012-11-02\" \"2012-11-03\" \"2012-11-04\"\n",
       "[36] \"2012-11-05\" \"2012-11-06\" \"2012-11-07\" \"2012-11-08\" \"2012-11-09\"\n",
       "[41] \"2012-11-10\" \"2012-11-11\" \"2012-11-12\" \"2012-11-13\" \"2012-11-14\"\n",
       "[46] \"2012-11-15\" \"2012-11-16\" \"2012-11-17\" \"2012-11-18\" \"2012-11-19\"\n",
       "[51] \"2012-11-20\" \"2012-11-21\" \"2012-11-22\" \"2012-11-23\" \"2012-11-24\"\n",
       "[56] \"2012-11-25\" \"2012-11-26\" \"2012-11-27\" \"2012-11-28\" \"2012-11-29\"\n",
       "[61] \"2012-11-30\""
      ]
     },
     "metadata": {},
     "output_type": "display_data"
    }
   ],
   "source": [
    "unique(activity$date)"
   ]
  },
  {
   "cell_type": "code",
   "execution_count": 7,
   "metadata": {},
   "outputs": [],
   "source": [
    "#?sapply"
   ]
  },
  {
   "cell_type": "code",
   "execution_count": 9,
   "metadata": {},
   "outputs": [],
   "source": [
    "#sapply(X, FUN, ..., simplify = TRUE, USE.NAMES = TRUE)\n",
    "#subset(activity, as.factor(subset$date))"
   ]
  },
  {
   "cell_type": "code",
   "execution_count": 10,
   "metadata": {},
   "outputs": [
    {
     "data": {
      "text/html": [
       "<table>\n",
       "<caption>A data.table: 6 × 2</caption>\n",
       "<thead>\n",
       "\t<tr><th scope=col>date</th><th scope=col>steps</th></tr>\n",
       "\t<tr><th scope=col>&lt;date&gt;</th><th scope=col>&lt;int&gt;</th></tr>\n",
       "</thead>\n",
       "<tbody>\n",
       "\t<tr><td>2012-10-01</td><td>   NA</td></tr>\n",
       "\t<tr><td>2012-10-02</td><td>  126</td></tr>\n",
       "\t<tr><td>2012-10-03</td><td>11352</td></tr>\n",
       "\t<tr><td>2012-10-04</td><td>12116</td></tr>\n",
       "\t<tr><td>2012-10-05</td><td>13294</td></tr>\n",
       "\t<tr><td>2012-10-06</td><td>15420</td></tr>\n",
       "</tbody>\n",
       "</table>\n"
      ],
      "text/latex": [
       "A data.table: 6 × 2\n",
       "\\begin{tabular}{ll}\n",
       " date & steps\\\\\n",
       " <date> & <int>\\\\\n",
       "\\hline\n",
       "\t 2012-10-01 &    NA\\\\\n",
       "\t 2012-10-02 &   126\\\\\n",
       "\t 2012-10-03 & 11352\\\\\n",
       "\t 2012-10-04 & 12116\\\\\n",
       "\t 2012-10-05 & 13294\\\\\n",
       "\t 2012-10-06 & 15420\\\\\n",
       "\\end{tabular}\n"
      ],
      "text/markdown": [
       "\n",
       "A data.table: 6 × 2\n",
       "\n",
       "| date &lt;date&gt; | steps &lt;int&gt; |\n",
       "|---|---|\n",
       "| 2012-10-01 |    NA |\n",
       "| 2012-10-02 |   126 |\n",
       "| 2012-10-03 | 11352 |\n",
       "| 2012-10-04 | 12116 |\n",
       "| 2012-10-05 | 13294 |\n",
       "| 2012-10-06 | 15420 |\n",
       "\n"
      ],
      "text/plain": [
       "  date       steps\n",
       "1 2012-10-01    NA\n",
       "2 2012-10-02   126\n",
       "3 2012-10-03 11352\n",
       "4 2012-10-04 12116\n",
       "5 2012-10-05 13294\n",
       "6 2012-10-06 15420"
      ]
     },
     "metadata": {},
     "output_type": "display_data"
    }
   ],
   "source": [
    "#activity[, lapply(.SD, sum, na.rm = FALSE)]\n",
    "total_steps <- activity[, c(lapply(.SD, sum, na.rm = FALSE))\n",
    "         , .SDcols = c(\"steps\")\n",
    "         , by = .(date)         \n",
    "        ]\n",
    "head(total_steps)"
   ]
  },
  {
   "cell_type": "code",
   "execution_count": 11,
   "metadata": {},
   "outputs": [],
   "source": [
    "#?hist"
   ]
  },
  {
   "cell_type": "code",
   "execution_count": 12,
   "metadata": {},
   "outputs": [
    {
     "name": "stderr",
     "output_type": "stream",
     "text": [
      "Warning message:\n",
      "“Removed 8 rows containing non-finite values (stat_bin).”\n"
     ]
    },
    {
     "data": {
      "image/png": "[encoded data removed]",
      "text/plain": [
       "plot without title"
      ]
     },
     "metadata": {
      "image/png": {
       "height": 420,
       "width": 420
      }
     },
     "output_type": "display_data"
    }
   ],
   "source": [
    "g <- ggplot(total_steps, aes(x = steps))\n",
    "g <- g + geom_histogram(fill = 'green', binwidth = 1000)\n",
    "g <- g + labs(\n",
    "    title = \"Daily Steps Taken\"\n",
    "    , x = 'Steps'\n",
    "    , y = \"Frequency\"\n",
    ")\n",
    "g"
   ]
  },
  {
   "cell_type": "code",
   "execution_count": 13,
   "metadata": {},
   "outputs": [
    {
     "ename": "ERROR",
     "evalue": "Error in hist.default(x = total_steps$steps, bin): object 'bin' not found\n",
     "output_type": "error",
     "traceback": [
      "Error in hist.default(x = total_steps$steps, bin): object 'bin' not found\nTraceback:\n",
      "1. hist(x = total_steps$steps, bin)",
      "2. hist.default(x = total_steps$steps, bin)"
     ]
    }
   ],
   "source": [
    "hist(x = total_steps$steps, bin)"
   ]
  },
  {
   "cell_type": "code",
   "execution_count": 14,
   "metadata": {},
   "outputs": [
    {
     "data": {
      "text/html": [
       "<table>\n",
       "<caption>A data.table: 1 × 2</caption>\n",
       "<thead>\n",
       "\t<tr><th scope=col>Mean_steps</th><th scope=col>Median_steps</th></tr>\n",
       "\t<tr><th scope=col>&lt;dbl&gt;</th><th scope=col>&lt;int&gt;</th></tr>\n",
       "</thead>\n",
       "<tbody>\n",
       "\t<tr><td>10766.19</td><td>10765</td></tr>\n",
       "</tbody>\n",
       "</table>\n"
      ],
      "text/latex": [
       "A data.table: 1 × 2\n",
       "\\begin{tabular}{ll}\n",
       " Mean\\_steps & Median\\_steps\\\\\n",
       " <dbl> & <int>\\\\\n",
       "\\hline\n",
       "\t 10766.19 & 10765\\\\\n",
       "\\end{tabular}\n"
      ],
      "text/markdown": [
       "\n",
       "A data.table: 1 × 2\n",
       "\n",
       "| Mean_steps &lt;dbl&gt; | Median_steps &lt;int&gt; |\n",
       "|---|---|\n",
       "| 10766.19 | 10765 |\n",
       "\n"
      ],
      "text/plain": [
       "  Mean_steps Median_steps\n",
       "1 10766.19   10765       "
      ]
     },
     "metadata": {},
     "output_type": "display_data"
    }
   ],
   "source": [
    "total_steps[, .(Mean_steps = mean(steps, na.rm = TRUE)\n",
    "               , Median_steps = median(steps, na.rm = TRUE)\n",
    "               )\n",
    "           ]"
   ]
  },
  {
   "cell_type": "code",
   "execution_count": 15,
   "metadata": {},
   "outputs": [
    {
     "data": {
      "text/html": [
       "<table>\n",
       "<caption>A data.table: 6 × 2</caption>\n",
       "<thead>\n",
       "\t<tr><th scope=col>interval</th><th scope=col>steps</th></tr>\n",
       "\t<tr><th scope=col>&lt;int&gt;</th><th scope=col>&lt;dbl&gt;</th></tr>\n",
       "</thead>\n",
       "<tbody>\n",
       "\t<tr><td> 0</td><td>1.7169811</td></tr>\n",
       "\t<tr><td> 5</td><td>0.3396226</td></tr>\n",
       "\t<tr><td>10</td><td>0.1320755</td></tr>\n",
       "\t<tr><td>15</td><td>0.1509434</td></tr>\n",
       "\t<tr><td>20</td><td>0.0754717</td></tr>\n",
       "\t<tr><td>25</td><td>2.0943396</td></tr>\n",
       "</tbody>\n",
       "</table>\n"
      ],
      "text/latex": [
       "A data.table: 6 × 2\n",
       "\\begin{tabular}{ll}\n",
       " interval & steps\\\\\n",
       " <int> & <dbl>\\\\\n",
       "\\hline\n",
       "\t  0 & 1.7169811\\\\\n",
       "\t  5 & 0.3396226\\\\\n",
       "\t 10 & 0.1320755\\\\\n",
       "\t 15 & 0.1509434\\\\\n",
       "\t 20 & 0.0754717\\\\\n",
       "\t 25 & 2.0943396\\\\\n",
       "\\end{tabular}\n"
      ],
      "text/markdown": [
       "\n",
       "A data.table: 6 × 2\n",
       "\n",
       "| interval &lt;int&gt; | steps &lt;dbl&gt; |\n",
       "|---|---|\n",
       "|  0 | 1.7169811 |\n",
       "|  5 | 0.3396226 |\n",
       "| 10 | 0.1320755 |\n",
       "| 15 | 0.1509434 |\n",
       "| 20 | 0.0754717 |\n",
       "| 25 | 2.0943396 |\n",
       "\n"
      ],
      "text/plain": [
       "  interval steps    \n",
       "1  0       1.7169811\n",
       "2  5       0.3396226\n",
       "3 10       0.1320755\n",
       "4 15       0.1509434\n",
       "5 20       0.0754717\n",
       "6 25       2.0943396"
      ]
     },
     "metadata": {},
     "output_type": "display_data"
    }
   ],
   "source": [
    "interval <- activity[\n",
    "    , c(\n",
    "        lapply(.SD, mean, na.rm = TRUE)\n",
    "       )\n",
    "    , .SDcols = c(\"steps\")\n",
    "    , by = .(interval)\n",
    "]\n",
    "head(interval)"
   ]
  },
  {
   "cell_type": "code",
   "execution_count": 16,
   "metadata": {},
   "outputs": [
    {
     "data": {
      "image/png": "[encoded data removed]",
      "text/plain": [
       "plot without title"
      ]
     },
     "metadata": {
      "image/png": {
       "height": 420,
       "width": 420
      }
     },
     "output_type": "display_data"
    }
   ],
   "source": [
    "g <- ggplot(interval, aes(x = interval, y = steps))\n",
    "g <- g + geom_line(color = 'red', size = 1)\n",
    "g <- g + labs(\n",
    "    title = \"Average Daily Steps\"\n",
    "    , xlab = 'Interval'\n",
    "    , ylab = \"Average Steps Per Day\"\n",
    ")\n",
    "g"
   ]
  },
  {
   "cell_type": "code",
   "execution_count": 17,
   "metadata": {},
   "outputs": [
    {
     "data": {
      "text/html": [
       "<table>\n",
       "<caption>A data.table: 1 × 1</caption>\n",
       "<thead>\n",
       "\t<tr><th scope=col>max_interval</th></tr>\n",
       "\t<tr><th scope=col>&lt;int&gt;</th></tr>\n",
       "</thead>\n",
       "<tbody>\n",
       "\t<tr><td>835</td></tr>\n",
       "</tbody>\n",
       "</table>\n"
      ],
      "text/latex": [
       "A data.table: 1 × 1\n",
       "\\begin{tabular}{l}\n",
       " max\\_interval\\\\\n",
       " <int>\\\\\n",
       "\\hline\n",
       "\t 835\\\\\n",
       "\\end{tabular}\n"
      ],
      "text/markdown": [
       "\n",
       "A data.table: 1 × 1\n",
       "\n",
       "| max_interval &lt;int&gt; |\n",
       "|---|\n",
       "| 835 |\n",
       "\n"
      ],
      "text/plain": [
       "  max_interval\n",
       "1 835         "
      ]
     },
     "metadata": {},
     "output_type": "display_data"
    }
   ],
   "source": [
    "interval[steps == max(steps), .(max_interval = interval)]"
   ]
  },
  {
   "cell_type": "code",
   "execution_count": 18,
   "metadata": {},
   "outputs": [
    {
     "data": {
      "text/html": [
       "2304"
      ],
      "text/latex": [
       "2304"
      ],
      "text/markdown": [
       "2304"
      ],
      "text/plain": [
       "[1] 2304"
      ]
     },
     "metadata": {},
     "output_type": "display_data"
    }
   ],
   "source": [
    "#activity[is.na(steps), .N]\n",
    "nrow(activity[is.na(steps), ])"
   ]
  },
  {
   "cell_type": "code",
   "execution_count": 19,
   "metadata": {},
   "outputs": [],
   "source": [
    "#activity[is.na(steps), \"steps\"] <- \n",
    "activity[is.na(steps), 'steps'] <- activity[, c(lapply(.SD, median, na.rm=TRUE))\n",
    "                                             , .SDcols = c(\"steps\")\n",
    "                                            ]"
   ]
  },
  {
   "cell_type": "code",
   "execution_count": 20,
   "metadata": {},
   "outputs": [
    {
     "data": {
      "text/html": [
       "<table>\n",
       "<caption>A data.table: 6 × 3</caption>\n",
       "<thead>\n",
       "\t<tr><th scope=col>steps</th><th scope=col>date</th><th scope=col>interval</th></tr>\n",
       "\t<tr><th scope=col>&lt;int&gt;</th><th scope=col>&lt;date&gt;</th><th scope=col>&lt;int&gt;</th></tr>\n",
       "</thead>\n",
       "<tbody>\n",
       "\t<tr><td>0</td><td>2012-10-01</td><td> 0</td></tr>\n",
       "\t<tr><td>0</td><td>2012-10-01</td><td> 5</td></tr>\n",
       "\t<tr><td>0</td><td>2012-10-01</td><td>10</td></tr>\n",
       "\t<tr><td>0</td><td>2012-10-01</td><td>15</td></tr>\n",
       "\t<tr><td>0</td><td>2012-10-01</td><td>20</td></tr>\n",
       "\t<tr><td>0</td><td>2012-10-01</td><td>25</td></tr>\n",
       "</tbody>\n",
       "</table>\n"
      ],
      "text/latex": [
       "A data.table: 6 × 3\n",
       "\\begin{tabular}{lll}\n",
       " steps & date & interval\\\\\n",
       " <int> & <date> & <int>\\\\\n",
       "\\hline\n",
       "\t 0 & 2012-10-01 &  0\\\\\n",
       "\t 0 & 2012-10-01 &  5\\\\\n",
       "\t 0 & 2012-10-01 & 10\\\\\n",
       "\t 0 & 2012-10-01 & 15\\\\\n",
       "\t 0 & 2012-10-01 & 20\\\\\n",
       "\t 0 & 2012-10-01 & 25\\\\\n",
       "\\end{tabular}\n"
      ],
      "text/markdown": [
       "\n",
       "A data.table: 6 × 3\n",
       "\n",
       "| steps &lt;int&gt; | date &lt;date&gt; | interval &lt;int&gt; |\n",
       "|---|---|---|\n",
       "| 0 | 2012-10-01 |  0 |\n",
       "| 0 | 2012-10-01 |  5 |\n",
       "| 0 | 2012-10-01 | 10 |\n",
       "| 0 | 2012-10-01 | 15 |\n",
       "| 0 | 2012-10-01 | 20 |\n",
       "| 0 | 2012-10-01 | 25 |\n",
       "\n"
      ],
      "text/plain": [
       "  steps date       interval\n",
       "1 0     2012-10-01  0      \n",
       "2 0     2012-10-01  5      \n",
       "3 0     2012-10-01 10      \n",
       "4 0     2012-10-01 15      \n",
       "5 0     2012-10-01 20      \n",
       "6 0     2012-10-01 25      "
      ]
     },
     "metadata": {},
     "output_type": "display_data"
    }
   ],
   "source": [
    "head(activity)"
   ]
  },
  {
   "cell_type": "code",
   "execution_count": 21,
   "metadata": {},
   "outputs": [],
   "source": [
    "data.table::fwrite(x = activity, file = './data/tidyData.txt', quote = FALSE)"
   ]
  },
  {
   "cell_type": "code",
   "execution_count": 22,
   "metadata": {},
   "outputs": [
    {
     "data": {
      "text/html": [
       "<table>\n",
       "<caption>A data.table: 6 × 2</caption>\n",
       "<thead>\n",
       "\t<tr><th scope=col>date</th><th scope=col>steps</th></tr>\n",
       "\t<tr><th scope=col>&lt;date&gt;</th><th scope=col>&lt;int&gt;</th></tr>\n",
       "</thead>\n",
       "<tbody>\n",
       "\t<tr><td>2012-10-01</td><td>    0</td></tr>\n",
       "\t<tr><td>2012-10-02</td><td>  126</td></tr>\n",
       "\t<tr><td>2012-10-03</td><td>11352</td></tr>\n",
       "\t<tr><td>2012-10-04</td><td>12116</td></tr>\n",
       "\t<tr><td>2012-10-05</td><td>13294</td></tr>\n",
       "\t<tr><td>2012-10-06</td><td>15420</td></tr>\n",
       "</tbody>\n",
       "</table>\n"
      ],
      "text/latex": [
       "A data.table: 6 × 2\n",
       "\\begin{tabular}{ll}\n",
       " date & steps\\\\\n",
       " <date> & <int>\\\\\n",
       "\\hline\n",
       "\t 2012-10-01 &     0\\\\\n",
       "\t 2012-10-02 &   126\\\\\n",
       "\t 2012-10-03 & 11352\\\\\n",
       "\t 2012-10-04 & 12116\\\\\n",
       "\t 2012-10-05 & 13294\\\\\n",
       "\t 2012-10-06 & 15420\\\\\n",
       "\\end{tabular}\n"
      ],
      "text/markdown": [
       "\n",
       "A data.table: 6 × 2\n",
       "\n",
       "| date &lt;date&gt; | steps &lt;int&gt; |\n",
       "|---|---|\n",
       "| 2012-10-01 |     0 |\n",
       "| 2012-10-02 |   126 |\n",
       "| 2012-10-03 | 11352 |\n",
       "| 2012-10-04 | 12116 |\n",
       "| 2012-10-05 | 13294 |\n",
       "| 2012-10-06 | 15420 |\n",
       "\n"
      ],
      "text/plain": [
       "  date       steps\n",
       "1 2012-10-01     0\n",
       "2 2012-10-02   126\n",
       "3 2012-10-03 11352\n",
       "4 2012-10-04 12116\n",
       "5 2012-10-05 13294\n",
       "6 2012-10-06 15420"
      ]
     },
     "metadata": {},
     "output_type": "display_data"
    }
   ],
   "source": [
    "# total number of steps taken per day\n",
    "total_steps <- activity[, c(lapply(.SD, sum)), .SDcols = c(\"steps\"), by = .(date)]\n",
    "head(total_steps)"
   ]
  },
  {
   "cell_type": "code",
   "execution_count": 23,
   "metadata": {},
   "outputs": [
    {
     "data": {
      "text/html": [
       "<table>\n",
       "<caption>A data.table: 1 × 2</caption>\n",
       "<thead>\n",
       "\t<tr><th scope=col>mean_steps</th><th scope=col>median_steps</th></tr>\n",
       "\t<tr><th scope=col>&lt;dbl&gt;</th><th scope=col>&lt;int&gt;</th></tr>\n",
       "</thead>\n",
       "<tbody>\n",
       "\t<tr><td>9354.23</td><td>10395</td></tr>\n",
       "</tbody>\n",
       "</table>\n"
      ],
      "text/latex": [
       "A data.table: 1 × 2\n",
       "\\begin{tabular}{ll}\n",
       " mean\\_steps & median\\_steps\\\\\n",
       " <dbl> & <int>\\\\\n",
       "\\hline\n",
       "\t 9354.23 & 10395\\\\\n",
       "\\end{tabular}\n"
      ],
      "text/markdown": [
       "\n",
       "A data.table: 1 × 2\n",
       "\n",
       "| mean_steps &lt;dbl&gt; | median_steps &lt;int&gt; |\n",
       "|---|---|\n",
       "| 9354.23 | 10395 |\n",
       "\n"
      ],
      "text/plain": [
       "  mean_steps median_steps\n",
       "1 9354.23    10395       "
      ]
     },
     "metadata": {},
     "output_type": "display_data"
    }
   ],
   "source": [
    "# mean and median total number of steps taken per day\n",
    "total_steps[, .(mean_steps = mean(steps), median_steps = median(steps))]"
   ]
  },
  {
   "cell_type": "code",
   "execution_count": 24,
   "metadata": {},
   "outputs": [
    {
     "data": {
      "image/png": "[encoded data removed]",
      "text/plain": [
       "plot without title"
      ]
     },
     "metadata": {
      "image/png": {
       "height": 420,
       "width": 420
      }
     },
     "output_type": "display_data"
    }
   ],
   "source": [
    "g <- ggplot(total_steps, aes(x = steps))\n",
    "g <- g + geom_histogram(fill = \"darkblue\", binwidth = 1000)\n",
    "g <- g + labs(\n",
    "    title = \"daily Steps Taken\"\n",
    "    , x = \"Steps\"\n",
    "    , y = \"Frequency\"\n",
    ")\n",
    "g"
   ]
  },
  {
   "cell_type": "code",
   "execution_count": 81,
   "metadata": {},
   "outputs": [
    {
     "name": "stdout",
     "output_type": "stream",
     "text": [
      "Classes ‘data.table’ and 'data.frame':\t17568 obs. of  3 variables:\n",
      " $ steps   : int  NA NA NA NA NA NA NA NA NA NA ...\n",
      " $ date    : IDate, format: \"2012-10-01\" \"2012-10-01\" ...\n",
      " $ interval: int  0 5 10 15 20 25 30 35 40 45 ...\n",
      " - attr(*, \".internal.selfref\")=<externalptr> \n"
     ]
    }
   ],
   "source": [
    "str(activity)"
   ]
  },
  {
   "cell_type": "code",
   "execution_count": 190,
   "metadata": {},
   "outputs": [],
   "source": [
    "# create a new factor column with 2 levels: weekday and weekend\n",
    "activity <- fread(input = './data/activity.csv')\n",
    "activity[, date := as.POSIXct(date, format = \"%Y-%m-%d\")]\n",
    "activity$\"Day_of_Week\" = weekdays(activity$date)"
   ]
  },
  {
   "cell_type": "code",
   "execution_count": 195,
   "metadata": {},
   "outputs": [
    {
     "data": {
      "text/html": [
       "<style>\n",
       ".list-inline {list-style: none; margin:0; padding: 0}\n",
       ".list-inline>li {display: inline-block}\n",
       ".list-inline>li:not(:last-child)::after {content: \"\\00b7\"; padding: 0 .5ex}\n",
       "</style>\n",
       "<ol class=list-inline><li>'星期一'</li><li>'星期二'</li><li>'星期三'</li><li>'星期四'</li><li>'星期五'</li><li>'星期六'</li><li>'星期日'</li></ol>\n"
      ],
      "text/latex": [
       "\\begin{enumerate*}\n",
       "\\item '星期一'\n",
       "\\item '星期二'\n",
       "\\item '星期三'\n",
       "\\item '星期四'\n",
       "\\item '星期五'\n",
       "\\item '星期六'\n",
       "\\item '星期日'\n",
       "\\end{enumerate*}\n"
      ],
      "text/markdown": [
       "1. '星期一'\n",
       "2. '星期二'\n",
       "3. '星期三'\n",
       "4. '星期四'\n",
       "5. '星期五'\n",
       "6. '星期六'\n",
       "7. '星期日'\n",
       "\n",
       "\n"
      ],
      "text/plain": [
       "[1] \"星期一\" \"星期二\" \"星期三\" \"星期四\" \"星期五\" \"星期六\" \"星期日\""
      ]
     },
     "metadata": {},
     "output_type": "display_data"
    }
   ],
   "source": [
    "unique(activity$Day_of_Week)"
   ]
  },
  {
   "cell_type": "code",
   "execution_count": 196,
   "metadata": {},
   "outputs": [],
   "source": [
    "activity [grepl(pattern = \"星期一|星期二|星期三|星期四|星期五\", x = activity$'Day_of_Week'), \"Weekday_or_Weekend\"] <- \"Weekday\"\n",
    "activity [grepl(pattern = \"星期六|星期日\", x = activity$'Day_of_Week'), \"Weekday_or_Weekend\"] <- \"Weekend\""
   ]
  },
  {
   "cell_type": "code",
   "execution_count": 197,
   "metadata": {},
   "outputs": [
    {
     "data": {
      "text/html": [
       "<style>\n",
       ".list-inline {list-style: none; margin:0; padding: 0}\n",
       ".list-inline>li {display: inline-block}\n",
       ".list-inline>li:not(:last-child)::after {content: \"\\00b7\"; padding: 0 .5ex}\n",
       "</style>\n",
       "<ol class=list-inline><li>'Weekday'</li><li>'Weekend'</li></ol>\n"
      ],
      "text/latex": [
       "\\begin{enumerate*}\n",
       "\\item 'Weekday'\n",
       "\\item 'Weekend'\n",
       "\\end{enumerate*}\n"
      ],
      "text/markdown": [
       "1. 'Weekday'\n",
       "2. 'Weekend'\n",
       "\n",
       "\n"
      ],
      "text/plain": [
       "[1] \"Weekday\" \"Weekend\""
      ]
     },
     "metadata": {},
     "output_type": "display_data"
    }
   ],
   "source": [
    "unique(activity$Weekday_or_Weekend)"
   ]
  },
  {
   "cell_type": "code",
   "execution_count": 166,
   "metadata": {},
   "outputs": [
    {
     "name": "stdout",
     "output_type": "stream",
     "text": [
      "Classes ‘data.table’ and 'data.frame':\t17568 obs. of  6 variables:\n",
      " $ steps             : int  NA NA NA NA NA NA NA NA NA NA ...\n",
      " $ date              : POSIXct, format: \"2012-10-01\" \"2012-10-01\" ...\n",
      " $ interval          : int  0 5 10 15 20 25 30 35 40 45 ...\n",
      " $ Day_of_Week       : chr  \"星期一\" \"星期一\" \"星期一\" \"星期一\" ...\n",
      " $ Weekday_or_Weekend: chr  \"Weekday\" \"Weekday\" \"Weekday\" \"Weekday\" ...\n",
      " $ Weekday or Weekend: Factor w/ 1 level \"Weekday\": 1 1 1 1 1 1 1 1 1 1 ...\n",
      " - attr(*, \".internal.selfref\")=<externalptr> \n"
     ]
    }
   ],
   "source": [
    "str(activity)"
   ]
  },
  {
   "cell_type": "code",
   "execution_count": 199,
   "metadata": {},
   "outputs": [],
   "source": [
    "# rplace missing values in \"steps\" column by median value\n",
    "activity[is.na(steps), 'steps'] <- median(activity$steps, na.rm = TRUE)"
   ]
  },
  {
   "cell_type": "code",
   "execution_count": 210,
   "metadata": {},
   "outputs": [],
   "source": [
    "# create a new dataframe, replace missing values in \"steps\" column by mean value, by interval and \"Weekday or Weekend\"\n",
    "interval_df <- activity[, c(lapply(.SD, mean, na.rm = TRUE)), .SDcols = c(\"steps\"), by = .(interval, `Weekday_or_Weekend`)]\n",
    "#interval_df$\"Weekday_or_Weekend\" <- as.factor(interval_df$\"Weekday_or_Weekend\")\n",
    "interval_df$Weekday_or_Weekend <- as.factor(interval_df$Weekday_or_Weekend)"
   ]
  },
  {
   "cell_type": "code",
   "execution_count": 213,
   "metadata": {},
   "outputs": [
    {
     "data": {
      "text/html": [
       "<style>\n",
       ".dl-inline {width: auto; margin:0; padding: 0}\n",
       ".dl-inline>dt, .dl-inline>dd {float: none; width: auto; display: inline-block}\n",
       ".dl-inline>dt::after {content: \":\\0020\"; padding-right: .5ex}\n",
       ".dl-inline>dt:not(:first-of-type) {padding-left: .5ex}\n",
       "</style><dl class=dl-inline><dt>Weekday</dt><dd>288</dd><dt>Weekend</dt><dd>288</dd></dl>\n"
      ],
      "text/latex": [
       "\\begin{description*}\n",
       "\\item[Weekday] 288\n",
       "\\item[Weekend] 288\n",
       "\\end{description*}\n"
      ],
      "text/markdown": [
       "Weekday\n",
       ":   288Weekend\n",
       ":   288\n",
       "\n"
      ],
      "text/plain": [
       "Weekday Weekend \n",
       "    288     288 "
      ]
     },
     "metadata": {},
     "output_type": "display_data"
    }
   ],
   "source": [
    "summary(interval_df$\"Weekday_or_Weekend\")"
   ]
  },
  {
   "cell_type": "code",
   "execution_count": 214,
   "metadata": {},
   "outputs": [
    {
     "name": "stdout",
     "output_type": "stream",
     "text": [
      "Classes ‘data.table’ and 'data.frame':\t576 obs. of  3 variables:\n",
      " $ interval          : int  0 5 10 15 20 25 30 35 40 45 ...\n",
      " $ Weekday_or_Weekend: Factor w/ 2 levels \"Weekday\",\"Weekend\": 1 1 1 1 1 1 1 1 1 1 ...\n",
      " $ steps             : num  2.0222 0.4 0.1556 0.1778 0.0889 ...\n",
      " - attr(*, \".internal.selfref\")=<externalptr> \n"
     ]
    }
   ],
   "source": [
    "str(interval_df)"
   ]
  },
  {
   "cell_type": "code",
   "execution_count": 233,
   "metadata": {},
   "outputs": [
    {
     "data": {
      "image/png": "[encoded data removed]",
      "text/plain": [
       "plot without title"
      ]
     },
     "metadata": {
      "image/png": {
       "height": 420,
       "width": 420
      }
     },
     "output_type": "display_data"
    }
   ],
   "source": [
    "g <- NULL\n",
    "g <- ggplot(interval_df, aes(x = interval, y = steps, color = Weekday_or_Weekend))\n",
    "g <- g + geom_line()\n",
    "g <- g + facet_wrap(~Weekday_or_Weekend, nrow = 1, ncol=2)\n",
    "g"
   ]
  }
 ],
 "metadata": {
  "kernelspec": {
   "display_name": "R",
   "language": "R",
   "name": "ir"
  },
  "language_info": {
   "codemirror_mode": "r",
   "file_extension": ".r",
   "mimetype": "text/x-r-source",
   "name": "R",
   "pygments_lexer": "r",
   "version": "4.0.2"
  }
 },
 "nbformat": 4,
 "nbformat_minor": 4
}
