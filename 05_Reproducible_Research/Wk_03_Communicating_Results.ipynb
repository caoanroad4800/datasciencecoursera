{
 "cells": [
  {
   "cell_type": "markdown",
   "metadata": {},
   "source": [
    "## Reproducible Research Checklist"
   ]
  },
  {
   "cell_type": "markdown",
   "metadata": {},
   "source": [
    "### Do: Start with Good Science\n",
    "- Garbage in, garbage out\n",
    "- Coherent, focused question simplifies many problems\n",
    "- Working with good collaborators reinfoces good practices\n",
    "- Something that's interesting to you will (hopefully) motivate good habits"
   ]
  },
  {
   "cell_type": "markdown",
   "metadata": {},
   "source": [
    "### Don't: Do Things by Hand\n",
    "- Editing spreadsheets of data to 'clean it up'\n",
    "    - Removing outliers\n",
    "    - QA / QC\n",
    "    - Validating\n",
    "- Editing tables or figures (e.g. rounding, formatting)\n",
    "- Downloading data from a web site (clicking links in a web broswer)\n",
    "- Moving data around your computer; splitting / reformatting data files\n",
    "- 'We'are just going to do this once ...'\n",
    "\n",
    "Things done by hand need to be precisely documented ( this is harder than it sounds )"
   ]
  },
  {
   "cell_type": "markdown",
   "metadata": {},
   "source": [
    "### Don't: Point and Click\n",
    "- Manage data processing / statistical analysis packages have graphical user interfaces (GUIs)\n",
    "- GUIs are convenient / intuitive but the actions you take with a GUI can be difficult for others to reproduce\n",
    "- Some GUIs produce a log file or script which includes equivalent commands; these can be saved for later examination\n",
    "- In general, be careful with data analysis software that is highly interactive; ease of use can sometimes lead to non-reproducibile analysis\n",
    "- Other interactive software, such as text editors, are usually fine"
   ]
  },
  {
   "cell_type": "markdown",
   "metadata": {},
   "source": [
    "Do: Teach a Computer\n",
    "- If something needs to be done as part of your analysis / investigation, try to teach your computer to do it (even if you only need to do it once)  \n",
    "- In order to give your computer instructions, you need to write down exactly what you mean to do and how it should be done  \n",
    "- Teaching a computer *almost* guarantees reproducibility  "
   ]
  },
  {
   "cell_type": "markdown",
   "metadata": {},
   "source": [
    "### Do: Use Some Version Control\n",
    "- Slow things down\n",
    "- Add changes in small chunks (don't just do one massive commit)\n",
    "- Track / tag snapshots; revert to old versions\n",
    "- Software like GitHub / BitBucket / SourceForge make it easy to publish results"
   ]
  },
  {
   "cell_type": "markdown",
   "metadata": {},
   "source": [
    "### Do: Keep Track of Your Software Environment\n",
    "- If you work on a complex project involving many tools/datasets, the software and computing environment can be critical for reproducing your analysis\n",
    "- **Computer architecture**: CPU(Intel, AMD, ARM), GPUs\n",
    "- **Operating system**: Windows, Mac OS, Linux / Unix\n",
    "- **Software toolchain**: Compliers, interpreters, command shell, programming languages (C, Perl, Python, etc.), database backends, data analysis software\n",
    "- **Supporting software / infrastructure**: Libraries, R packages, dependencies\n",
    "- **External dependencies**: Web sites, data repositories, remote databases, software repositories\n",
    "- **Version numbers**: Ideally, for everything (if available)"
   ]
  },
  {
   "cell_type": "markdown",
   "metadata": {},
   "source": [
    "### Don't: Save Output\n",
    "- Avoid saving data analysis output (tables, figures, summaries, processed data, etc.), except perhaps temporarily for efficiency purposes\n",
    "- If a stray output file cannot be easily connected with the means by which it was created, then it is not reproducible\n",
    "- Save the data + code that generated the output, rather than the output itself\n",
    "- Intermediate files are ok as long as there is clear documentation of how they were created"
   ]
  },
  {
   "cell_type": "markdown",
   "metadata": {},
   "source": [
    "### Do: Set Your Seed\n",
    "`set.seed()`"
   ]
  },
  {
   "cell_type": "markdown",
   "metadata": {},
   "source": [
    "### Do: Think About the Entire Pipeline\n",
    "- Data analysis is a lengthy process; it is not just tables / figures / reports\n",
    "- Rawdata --> Processed Data --> Analysis --> Report\n",
    "- How you got the end is just **as important as the end itself**\n",
    "- The more of the data analysis pipeline you can make reproducible, the better for everyone"
   ]
  },
  {
   "cell_type": "code",
   "execution_count": 1,
   "metadata": {},
   "outputs": [
    {
     "data": {
      "text/plain": [
       "R version 4.0.2 (2020-06-22)\n",
       "Platform: x86_64-pc-linux-gnu (64-bit)\n",
       "Running under: Ubuntu 16.04.5 LTS\n",
       "\n",
       "Matrix products: default\n",
       "BLAS:   /usr/lib/openblas-base/libblas.so.3\n",
       "LAPACK: /usr/lib/libopenblasp-r0.2.18.so\n",
       "\n",
       "locale:\n",
       " [1] LC_CTYPE=en_US.UTF-8       LC_NUMERIC=C              \n",
       " [3] LC_TIME=zh_CN.UTF-8        LC_COLLATE=en_US.UTF-8    \n",
       " [5] LC_MONETARY=zh_CN.UTF-8    LC_MESSAGES=en_US.UTF-8   \n",
       " [7] LC_PAPER=zh_CN.UTF-8       LC_NAME=C                 \n",
       " [9] LC_ADDRESS=C               LC_TELEPHONE=C            \n",
       "[11] LC_MEASUREMENT=zh_CN.UTF-8 LC_IDENTIFICATION=C       \n",
       "\n",
       "attached base packages:\n",
       "[1] stats     graphics  grDevices utils     datasets  methods   base     \n",
       "\n",
       "loaded via a namespace (and not attached):\n",
       " [1] compiler_4.0.2      ellipsis_0.3.1      IRdisplay_0.7.0    \n",
       " [4] pbdZMQ_0.3-3        tools_4.0.2         htmltools_0.5.0    \n",
       " [7] pillar_1.4.6        base64enc_0.1-3     crayon_1.3.4       \n",
       "[10] uuid_0.1-4          IRkernel_1.1.1.9000 jsonlite_1.7.0     \n",
       "[13] digest_0.6.25       lifecycle_0.2.0     repr_1.1.0         \n",
       "[16] rlang_0.4.7         evaluate_0.14      "
      ]
     },
     "metadata": {},
     "output_type": "display_data"
    }
   ],
   "source": [
    "sessionInfo()"
   ]
  },
  {
   "cell_type": "code",
   "execution_count": 10,
   "metadata": {},
   "outputs": [
    {
     "data": {
      "text/html": [
       "'en_US.UTF-8'"
      ],
      "text/latex": [
       "'en\\_US.UTF-8'"
      ],
      "text/markdown": [
       "'en_US.UTF-8'"
      ],
      "text/plain": [
       "[1] \"en_US.UTF-8\""
      ]
     },
     "metadata": {},
     "output_type": "display_data"
    },
    {
     "data": {
      "text/html": [
       "'en_US.UTF-8'"
      ],
      "text/latex": [
       "'en\\_US.UTF-8'"
      ],
      "text/markdown": [
       "'en_US.UTF-8'"
      ],
      "text/plain": [
       "[1] \"en_US.UTF-8\""
      ]
     },
     "metadata": {},
     "output_type": "display_data"
    },
    {
     "data": {
      "text/html": [
       "'en_US.UTF-8'"
      ],
      "text/latex": [
       "'en\\_US.UTF-8'"
      ],
      "text/markdown": [
       "'en_US.UTF-8'"
      ],
      "text/plain": [
       "[1] \"en_US.UTF-8\""
      ]
     },
     "metadata": {},
     "output_type": "display_data"
    },
    {
     "data": {
      "text/html": [
       "'en_US.UTF-8'"
      ],
      "text/latex": [
       "'en\\_US.UTF-8'"
      ],
      "text/markdown": [
       "'en_US.UTF-8'"
      ],
      "text/plain": [
       "[1] \"en_US.UTF-8\""
      ]
     },
     "metadata": {},
     "output_type": "display_data"
    },
    {
     "data": {
      "text/html": [
       "'en_US.UTF-8'"
      ],
      "text/latex": [
       "'en\\_US.UTF-8'"
      ],
      "text/markdown": [
       "'en_US.UTF-8'"
      ],
      "text/plain": [
       "[1] \"en_US.UTF-8\""
      ]
     },
     "metadata": {},
     "output_type": "display_data"
    }
   ],
   "source": [
    "Sys.setenv(LANG = \"en_US.UTF-8\")\n",
    "Sys.setlocale(\"LC_MESSAGES\", 'en_US.UTF-8')\n",
    "Sys.setlocale(\"LC_TIME\", 'en_US.UTF-8')\n",
    "Sys.setlocale(\"LC_MONETARY\", 'en_US.UTF-8')\n",
    "Sys.setlocale(\"LC_PAPER\", 'en_US.UTF-8')\n",
    "Sys.setlocale(\"LC_MEASUREMENT\", 'en_US.UTF-8')"
   ]
  },
  {
   "cell_type": "code",
   "execution_count": 9,
   "metadata": {},
   "outputs": [
    {
     "data": {
      "text/html": [
       "'Wednesday'"
      ],
      "text/latex": [
       "'Wednesday'"
      ],
      "text/markdown": [
       "'Wednesday'"
      ],
      "text/plain": [
       "[1] \"Wednesday\""
      ]
     },
     "metadata": {},
     "output_type": "display_data"
    }
   ],
   "source": [
    "# test if the locale time is set to en_US.UTF-8 so the time format is in english output\n",
    "# e.g. following command outputs \"Wednesday\" other than \"星期三\"\n",
    "tempDate <- as.Date(\"2020-08-12\")\n",
    "weekdays(tempDate)"
   ]
  },
  {
   "cell_type": "markdown",
   "metadata": {},
   "source": [
    "## Reproducible Research with Evidence-based Data Analysis"
   ]
  },
  {
   "cell_type": "markdown",
   "metadata": {},
   "source": [
    "### Replication and Reproducibility\n",
    "- Replication\n",
    "    - Focused on the validity of the scientific claim\n",
    "    - 'Is the claim true?'\n",
    "    - The ultimate standard for strengthening scientific evidence\n",
    "    - New investigators, data, analytical methods, laboratories, instruments, etc.\n",
    "    - Particularly important in studies that can impact broad policy or regulatory decisions\n",
    "- Reproducibility\n",
    "    - Focuses on the validity of the data analysis\n",
    "    - 'Can we trust this analysis?'\n",
    "    - Arguably a minimum standard for any scientific study\n",
    "    - New investigaors, same data, same methods\n",
    "    - Important when replication is impossible"
   ]
  },
  {
   "cell_type": "markdown",
   "metadata": {},
   "source": [
    "### What Problem Does Reproducibility Solve?\n",
    "\n",
    "- What we get\n",
    "    - Transparency\n",
    "    - Data Availability\n",
    "    - Software / Methods Availability\n",
    "    - Improved Transfer of Knowledge\n",
    "- What we do NOT get\n",
    "    - Validity / Correctness of the analysis\n",
    "\n",
    "An analysis cam be reproducibile and still be wrong  \n",
    "We want to know \"can we trust this analysis?\"  \n",
    "Does requiring repeoducibility deter bad analysis?"
   ]
  },
  {
   "cell_type": "markdown",
   "metadata": {},
   "source": [
    "### Problems with Reproducibility\n",
    "The premise of reproducible research is that with data/code available, people can check each other and the whole system is self-correcting\n",
    "\n",
    "- Addresses the most \"downstream\" aspect of the research process - post-publication\n",
    "- Assumes everyone plays by the same rules and wants to achieve the same goals (i.e. scientific discovery)"
   ]
  }
 ],
 "metadata": {
  "kernelspec": {
   "display_name": "R",
   "language": "R",
   "name": "ir"
  },
  "language_info": {
   "codemirror_mode": "r",
   "file_extension": ".r",
   "mimetype": "text/x-r-source",
   "name": "R",
   "pygments_lexer": "r",
   "version": "4.0.2"
  }
 },
 "nbformat": 4,
 "nbformat_minor": 4
}
