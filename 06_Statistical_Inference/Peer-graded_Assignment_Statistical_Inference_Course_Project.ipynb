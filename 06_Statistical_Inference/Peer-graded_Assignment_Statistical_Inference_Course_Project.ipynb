{
 "cells": [
  {
   "cell_type": "markdown",
   "metadata": {},
   "source": [
    "# Peer-graded Assignment: Statistical Inference Course Project"
   ]
  },
  {
   "cell_type": "markdown",
   "metadata": {},
   "source": [
    "Author name: Yanyuan Zhu\n",
    "\n",
    "## Part 1: Simulation Exercise Instructions\n",
    "Overview: Investigate the exponential distribution in R and compare it with the Central Limit Theorem, so as to\n",
    "1. Show the sample mean and compare it to the theoretical mean of the distribution\n",
    "1. Show how variable the sample is (via variance) and compare it to the theoretical variance of the distribution.\n",
    "1. Show that the distribution is approximately normal."
   ]
  },
  {
   "cell_type": "markdown",
   "metadata": {},
   "source": [
    "### Environment setup"
   ]
  },
  {
   "cell_type": "code",
   "execution_count": 64,
   "metadata": {},
   "outputs": [],
   "source": [
    "library(ggplot2)\n",
    "library(skimr)"
   ]
  },
  {
   "cell_type": "markdown",
   "metadata": {},
   "source": [
    "### Model Setup"
   ]
  },
  {
   "cell_type": "code",
   "execution_count": 30,
   "metadata": {},
   "outputs": [],
   "source": [
    "lambda = 0.2 # rate parameter\n",
    "n = 40 # number of exponentials \n",
    "mean = 1/lambda # mean of the distribution (theoretical)\n",
    "stdr = 1/lambda # standard deviation of the distribution (theoretical)\n",
    "n_simu = 1000 # number of simulation required\n",
    "set.seed(105678) # set seed"
   ]
  },
  {
   "cell_type": "markdown",
   "metadata": {},
   "source": [
    "Create a matrix named `sample_matrix`, with 1000 rows and 40 columns"
   ]
  },
  {
   "cell_type": "code",
   "execution_count": 72,
   "metadata": {},
   "outputs": [],
   "source": [
    "sample_matrix <- matrix(\n",
    "    sample(rexp(n*n_simu, lambda), replace = TRUE)\n",
    "    , n_simu\n",
    "    , n\n",
    ")"
   ]
  },
  {
   "cell_type": "markdown",
   "metadata": {},
   "source": [
    "### EDA"
   ]
  },
  {
   "cell_type": "code",
   "execution_count": 71,
   "metadata": {},
   "outputs": [
    {
     "data": {
      "text/html": [
       "<style>\n",
       ".list-inline {list-style: none; margin:0; padding: 0}\n",
       ".list-inline>li {display: inline-block}\n",
       ".list-inline>li:not(:last-child)::after {content: \"\\00b7\"; padding: 0 .5ex}\n",
       "</style>\n",
       "<ol class=list-inline><li>1000</li><li>40</li></ol>\n"
      ],
      "text/latex": [
       "\\begin{enumerate*}\n",
       "\\item 1000\n",
       "\\item 40\n",
       "\\end{enumerate*}\n"
      ],
      "text/markdown": [
       "1. 1000\n",
       "2. 40\n",
       "\n",
       "\n"
      ],
      "text/plain": [
       "[1] 1000   40"
      ]
     },
     "metadata": {},
     "output_type": "display_data"
    }
   ],
   "source": [
    "dim(sample_matrix)"
   ]
  },
  {
   "cell_type": "markdown",
   "metadata": {},
   "source": [
    "It is a 1000x40 matrix of exponentials, with rows being simulation 1, 2 ... 10000. Each column denotes different exponential numbers"
   ]
  },
  {
   "cell_type": "markdown",
   "metadata": {},
   "source": [
    "### Mean Comparison\n",
    "\n",
    "Calculate mean of each rows"
   ]
  },
  {
   "cell_type": "code",
   "execution_count": 32,
   "metadata": {},
   "outputs": [],
   "source": [
    "sample_matrix_mean <- apply(sample_matrix, 1, mean)"
   ]
  },
  {
   "cell_type": "markdown",
   "metadata": {},
   "source": [
    "Compare the average of 1000 emprical means, with the theoretical mean, 1/lambda = 25"
   ]
  },
  {
   "cell_type": "code",
   "execution_count": 33,
   "metadata": {},
   "outputs": [
    {
     "data": {
      "text/html": [
       "5.023"
      ],
      "text/latex": [
       "5.023"
      ],
      "text/markdown": [
       "5.023"
      ],
      "text/plain": [
       "[1] 5.023"
      ]
     },
     "metadata": {},
     "output_type": "display_data"
    }
   ],
   "source": [
    "# average of 1000 empirical means\n",
    "round(mean(sample_matrix_mean),3)"
   ]
  },
  {
   "cell_type": "markdown",
   "metadata": {},
   "source": [
    "We can see the emprical means are not quite different from the theortical mean"
   ]
  },
  {
   "cell_type": "markdown",
   "metadata": {},
   "source": [
    "The distribution of the 1000 means are shown as below"
   ]
  },
  {
   "cell_type": "code",
   "execution_count": 73,
   "metadata": {},
   "outputs": [
    {
     "name": "stdout",
     "output_type": "stream",
     "text": [
      "── Data Summary ────────────────────────\n",
      "                           Values            \n",
      "Name                       sample_matrix_mean\n",
      "Number of rows             1000              \n",
      "Number of columns          1                 \n",
      "_______________________                      \n",
      "Column type frequency:                       \n",
      "  numeric                  1                 \n",
      "________________________                     \n",
      "Group variables            None              \n",
      "\n",
      "── Variable type: numeric ──────────────────────────────────────────────────────\n",
      "  skim_variable n_missing complete_rate  mean    sd    p0   p25   p50   p75\n",
      "1 data                  0             1  5.02 0.793  2.92  4.47  4.99  5.54\n",
      "   p100 hist \n",
      "1  7.99 ▂▇▇▂▁\n"
     ]
    }
   ],
   "source": [
    "skim(sample_matrix_mean)"
   ]
  },
  {
   "cell_type": "markdown",
   "metadata": {},
   "source": [
    "It is centered at 4.99 (50% quantile), meanwhile the .25 and .75 quantile are 4.47, and 5.54 respectively"
   ]
  },
  {
   "cell_type": "markdown",
   "metadata": {},
   "source": [
    "We draw a plot to show distribution of the 1000 empirical means; meanwhile the red vertical line x=5 denotes the theoretical mean"
   ]
  },
  {
   "cell_type": "code",
   "execution_count": 58,
   "metadata": {},
   "outputs": [],
   "source": [
    "# convert sample_matrix_mean to data frame so as to support ggplot\n",
    "sample_df <- data.frame(means = sample_matrix_mean)\n",
    "#head(sample_df)"
   ]
  },
  {
   "cell_type": "code",
   "execution_count": 89,
   "metadata": {},
   "outputs": [
    {
     "data": {
      "image/png": "[encoded data removed]",
      "text/plain": [
       "plot without title"
      ]
     },
     "metadata": {
      "image/png": {
       "height": 420,
       "width": 420
      }
     },
     "output_type": "display_data"
    }
   ],
   "source": [
    "#ggplot(data.frame(medians = medians), aes (x = medians))\n",
    "g <- NULL\n",
    "g <- ggplot(data = sample_df, aes(x = means))\n",
    "g <- g + geom_histogram(color = 'black', fill = 'darkblue', binwidth = 0.25)\n",
    "g <- g + geom_vline(xintercept = 5, color=\"red\", size = 1.5)\n",
    "g <- g + ggtitle(\"Plot of 1000 simulated exponentials' means\") + xlab(\"Average of each simulation\") + ylab(\"Count\")\n",
    "g"
   ]
  },
  {
   "cell_type": "markdown",
   "metadata": {},
   "source": [
    "Furthermore, we calculate confidence interval of the 1000 emprical means, under the 95% significance level. "
   ]
  },
  {
   "cell_type": "code",
   "execution_count": 75,
   "metadata": {},
   "outputs": [],
   "source": [
    "# calculate sdandar deviation of the 1000 means\n",
    "sd_mean = sd(sample_matrix_mean)"
   ]
  },
  {
   "cell_type": "code",
   "execution_count": 78,
   "metadata": {},
   "outputs": [
    {
     "data": {
      "text/html": [
       "<style>\n",
       ".list-inline {list-style: none; margin:0; padding: 0}\n",
       ".list-inline>li {display: inline-block}\n",
       ".list-inline>li:not(:last-child)::after {content: \"\\00b7\"; padding: 0 .5ex}\n",
       "</style>\n",
       "<ol class=list-inline><li>4.9734372187964</li><li>5.0718058689518</li></ol>\n"
      ],
      "text/latex": [
       "\\begin{enumerate*}\n",
       "\\item 4.9734372187964\n",
       "\\item 5.0718058689518\n",
       "\\end{enumerate*}\n"
      ],
      "text/markdown": [
       "1. 4.9734372187964\n",
       "2. 5.0718058689518\n",
       "\n",
       "\n"
      ],
      "text/plain": [
       "[1] 4.973437 5.071806"
      ]
     },
     "metadata": {},
     "output_type": "display_data"
    }
   ],
   "source": [
    "# and the confidence interval is shown as\n",
    "CI <- mean(sample_matrix_mean) + c(-1,1) * qt(0.975, length(sample_matrix_mean) - 1) * (sd_mean / sqrt(length(sample_matrix_mean)))\n",
    "CI"
   ]
  },
  {
   "cell_type": "markdown",
   "metadata": {},
   "source": [
    "It shows that under 95% significance level, the 1000 empirical means are in confidence interval (4.97, 5.08)"
   ]
  },
  {
   "cell_type": "markdown",
   "metadata": {},
   "source": [
    "### Variance comparison\n",
    "\n",
    "Calculate variance of each rows"
   ]
  },
  {
   "cell_type": "code",
   "execution_count": 39,
   "metadata": {},
   "outputs": [],
   "source": [
    "sample_matrix_variance <- apply(sample_matrix, 1, var)"
   ]
  },
  {
   "cell_type": "markdown",
   "metadata": {},
   "source": [
    "Compare the average of 1000 emprical variance, with the theoretical variance, (1/lambda)^2 = 25"
   ]
  },
  {
   "cell_type": "code",
   "execution_count": 41,
   "metadata": {},
   "outputs": [
    {
     "data": {
      "text/html": [
       "24.8474164384221"
      ],
      "text/latex": [
       "24.8474164384221"
      ],
      "text/markdown": [
       "24.8474164384221"
      ],
      "text/plain": [
       "[1] 24.84742"
      ]
     },
     "metadata": {},
     "output_type": "display_data"
    }
   ],
   "source": [
    "# average of 1000 empirical variance\n",
    "mean(sample_matrix_variance)"
   ]
  },
  {
   "cell_type": "markdown",
   "metadata": {},
   "source": [
    "We can see the emprical variance are not quite different from the theortical variance"
   ]
  },
  {
   "cell_type": "markdown",
   "metadata": {},
   "source": [
    "The distribution of the 1000 means are shown as below"
   ]
  },
  {
   "cell_type": "code",
   "execution_count": 80,
   "metadata": {},
   "outputs": [
    {
     "name": "stdout",
     "output_type": "stream",
     "text": [
      "── Data Summary ────────────────────────\n",
      "                           Values                \n",
      "Name                       sample_matrix_variance\n",
      "Number of rows             1000                  \n",
      "Number of columns          1                     \n",
      "_______________________                          \n",
      "Column type frequency:                           \n",
      "  numeric                  1                     \n",
      "________________________                         \n",
      "Group variables            None                  \n",
      "\n",
      "── Variable type: numeric ──────────────────────────────────────────────────────\n",
      "  skim_variable n_missing complete_rate  mean    sd    p0   p25   p50   p75\n",
      "1 data                  0             1  24.8  10.9  6.82  17.3  22.7  30.2\n",
      "   p100 hist \n",
      "1  88.9 ▇▆▁▁▁\n"
     ]
    }
   ],
   "source": [
    "skim(sample_matrix_variance)"
   ]
  },
  {
   "cell_type": "markdown",
   "metadata": {},
   "source": [
    "It is centered at 22.7 (50% quantile), meanwhile the .25 and .75 quantile are 17.3, and 30.2 respectively"
   ]
  },
  {
   "cell_type": "markdown",
   "metadata": {},
   "source": [
    "We draw a plot to show distribution of the 1000 empirical means; meanwhile the red vertical line x=5 denotes the theoretical mean"
   ]
  },
  {
   "cell_type": "code",
   "execution_count": 90,
   "metadata": {},
   "outputs": [
    {
     "data": {
      "image/png": "[encoded data removed]",
      "text/plain": [
       "plot without title"
      ]
     },
     "metadata": {
      "image/png": {
       "height": 420,
       "width": 420
      }
     },
     "output_type": "display_data"
    }
   ],
   "source": [
    "# convert sample_matrix_variance to data frame so as to support ggplot\n",
    "#sample_df <- data.frame(variance = sample_matrix_variance)\n",
    "sample_df$variance = sample_matrix_variance\n",
    "\n",
    "g <- NULL\n",
    "g <- ggplot(data = sample_df, aes(x = variance))\n",
    "g <- g + geom_histogram(color = 'black', fill = 'lightblue', binwidth = 5)\n",
    "g <- g + geom_vline(xintercept = 25, color=\"green\", size = 1.5)\n",
    "g <- g + ggtitle(\"Plot of 1000 simulated exponentials' variances\") + xlab(\"Average of each simulation\") + ylab(\"Count\")\n",
    "g"
   ]
  },
  {
   "cell_type": "markdown",
   "metadata": {},
   "source": [
    "Furthermore, we calculate confidence interval of the 1000 emprical variance, under the 95% significance level. "
   ]
  },
  {
   "cell_type": "code",
   "execution_count": 87,
   "metadata": {},
   "outputs": [
    {
     "data": {
      "text/html": [
       "<style>\n",
       ".list-inline {list-style: none; margin:0; padding: 0}\n",
       ".list-inline>li {display: inline-block}\n",
       ".list-inline>li:not(:last-child)::after {content: \"\\00b7\"; padding: 0 .5ex}\n",
       "</style>\n",
       "<ol class=list-inline><li>24.1712960494494</li><li>25.5235368273949</li></ol>\n"
      ],
      "text/latex": [
       "\\begin{enumerate*}\n",
       "\\item 24.1712960494494\n",
       "\\item 25.5235368273949\n",
       "\\end{enumerate*}\n"
      ],
      "text/markdown": [
       "1. 24.1712960494494\n",
       "2. 25.5235368273949\n",
       "\n",
       "\n"
      ],
      "text/plain": [
       "[1] 24.17130 25.52354"
      ]
     },
     "metadata": {},
     "output_type": "display_data"
    }
   ],
   "source": [
    "# calculate sdandar deviation of the 1000 variance\n",
    "sd_var = sd(sample_matrix_variance)\n",
    "\n",
    "# and the confidence interval is shown as\n",
    "CI_var <- mean(sample_matrix_variance) + c(-1,1) * qt(0.975, length(sample_matrix_variance) - 1) * (sd_var / sqrt(length(sample_matrix_variance)))\n",
    "CI_var"
   ]
  },
  {
   "cell_type": "markdown",
   "metadata": {},
   "source": [
    "It shows that under 95% significance level, the 1000 empirical variances are in confidence interval (24.17, 25.52), which is pretty close to theoritical variance 25"
   ]
  },
  {
   "cell_type": "markdown",
   "metadata": {},
   "source": [
    "Due to the central limit theorem (CLT), the distribution of averages of 40 exponentials is very close to a normal distribution."
   ]
  },
  {
   "cell_type": "markdown",
   "metadata": {},
   "source": [
    "## Part 2: Basic Inferential Data Analysis Instructions\n",
    "Overview: Analyze the ToothGrowth data in the R datasets package\n",
    "1. Load the ToothGrowth data and perform some basic exploratory data analyses\n",
    "1. Provide a basic summary of the data.\n",
    "1. Use confidence intervals and/or hypothesis tests to compare tooth growth by supp and dose. (Only use the techniques from class, even if there's other approaches worth considering)\n",
    "1. State your conclusions and the assumptions needed for your conclusions."
   ]
  },
  {
   "cell_type": "markdown",
   "metadata": {},
   "source": [
    "### Assumptions\n",
    "- The variables are iid\n",
    "- Tooth growth follows a normal distribution\n",
    "- Variances of tooth growth are different when using different supplement and dosage.\n",
    "\n",
    "### Conclusions\n",
    "- Supplement OJ has greater effect on tooth growth, compared with the supplement VC\n",
    "- Dose increase, i.e. from 0.5 mg to 1.0 mg then to 2.0 mg, has greater effect on tooth growth, accordingly"
   ]
  },
  {
   "cell_type": "markdown",
   "metadata": {},
   "source": [
    "### load data and EDA"
   ]
  },
  {
   "cell_type": "code",
   "execution_count": 97,
   "metadata": {},
   "outputs": [
    {
     "data": {
      "text/html": [
       "<table>\n",
       "<caption>A data.frame: 6 × 3</caption>\n",
       "<thead>\n",
       "\t<tr><th></th><th scope=col>len</th><th scope=col>supp</th><th scope=col>dose</th></tr>\n",
       "\t<tr><th></th><th scope=col>&lt;dbl&gt;</th><th scope=col>&lt;fct&gt;</th><th scope=col>&lt;dbl&gt;</th></tr>\n",
       "</thead>\n",
       "<tbody>\n",
       "\t<tr><th scope=row>1</th><td> 4.2</td><td>VC</td><td>0.5</td></tr>\n",
       "\t<tr><th scope=row>2</th><td>11.5</td><td>VC</td><td>0.5</td></tr>\n",
       "\t<tr><th scope=row>3</th><td> 7.3</td><td>VC</td><td>0.5</td></tr>\n",
       "\t<tr><th scope=row>4</th><td> 5.8</td><td>VC</td><td>0.5</td></tr>\n",
       "\t<tr><th scope=row>5</th><td> 6.4</td><td>VC</td><td>0.5</td></tr>\n",
       "\t<tr><th scope=row>6</th><td>10.0</td><td>VC</td><td>0.5</td></tr>\n",
       "</tbody>\n",
       "</table>\n"
      ],
      "text/latex": [
       "A data.frame: 6 × 3\n",
       "\\begin{tabular}{r|lll}\n",
       "  & len & supp & dose\\\\\n",
       "  & <dbl> & <fct> & <dbl>\\\\\n",
       "\\hline\n",
       "\t1 &  4.2 & VC & 0.5\\\\\n",
       "\t2 & 11.5 & VC & 0.5\\\\\n",
       "\t3 &  7.3 & VC & 0.5\\\\\n",
       "\t4 &  5.8 & VC & 0.5\\\\\n",
       "\t5 &  6.4 & VC & 0.5\\\\\n",
       "\t6 & 10.0 & VC & 0.5\\\\\n",
       "\\end{tabular}\n"
      ],
      "text/markdown": [
       "\n",
       "A data.frame: 6 × 3\n",
       "\n",
       "| <!--/--> | len &lt;dbl&gt; | supp &lt;fct&gt; | dose &lt;dbl&gt; |\n",
       "|---|---|---|---|\n",
       "| 1 |  4.2 | VC | 0.5 |\n",
       "| 2 | 11.5 | VC | 0.5 |\n",
       "| 3 |  7.3 | VC | 0.5 |\n",
       "| 4 |  5.8 | VC | 0.5 |\n",
       "| 5 |  6.4 | VC | 0.5 |\n",
       "| 6 | 10.0 | VC | 0.5 |\n",
       "\n"
      ],
      "text/plain": [
       "  len  supp dose\n",
       "1  4.2 VC   0.5 \n",
       "2 11.5 VC   0.5 \n",
       "3  7.3 VC   0.5 \n",
       "4  5.8 VC   0.5 \n",
       "5  6.4 VC   0.5 \n",
       "6 10.0 VC   0.5 "
      ]
     },
     "metadata": {},
     "output_type": "display_data"
    }
   ],
   "source": [
    "data(ToothGrowth)\n",
    "head(ToothGrowth)"
   ]
  },
  {
   "cell_type": "code",
   "execution_count": 94,
   "metadata": {},
   "outputs": [
    {
     "data": {
      "text/html": [
       "<style>\n",
       ".list-inline {list-style: none; margin:0; padding: 0}\n",
       ".list-inline>li {display: inline-block}\n",
       ".list-inline>li:not(:last-child)::after {content: \"\\00b7\"; padding: 0 .5ex}\n",
       "</style>\n",
       "<ol class=list-inline><li>60</li><li>3</li></ol>\n"
      ],
      "text/latex": [
       "\\begin{enumerate*}\n",
       "\\item 60\n",
       "\\item 3\n",
       "\\end{enumerate*}\n"
      ],
      "text/markdown": [
       "1. 60\n",
       "2. 3\n",
       "\n",
       "\n"
      ],
      "text/plain": [
       "[1] 60  3"
      ]
     },
     "metadata": {},
     "output_type": "display_data"
    }
   ],
   "source": [
    "dim(ToothGrowth)"
   ]
  },
  {
   "cell_type": "markdown",
   "metadata": {},
   "source": [
    "### Basic summary of the data"
   ]
  },
  {
   "cell_type": "code",
   "execution_count": 95,
   "metadata": {},
   "outputs": [
    {
     "name": "stdout",
     "output_type": "stream",
     "text": [
      "'data.frame':\t60 obs. of  3 variables:\n",
      " $ len : num  4.2 11.5 7.3 5.8 6.4 10 11.2 11.2 5.2 7 ...\n",
      " $ supp: Factor w/ 2 levels \"OJ\",\"VC\": 2 2 2 2 2 2 2 2 2 2 ...\n",
      " $ dose: num  0.5 0.5 0.5 0.5 0.5 0.5 0.5 0.5 0.5 0.5 ...\n"
     ]
    }
   ],
   "source": [
    "str(ToothGrowth)"
   ]
  },
  {
   "cell_type": "code",
   "execution_count": 109,
   "metadata": {},
   "outputs": [
    {
     "data": {
      "text/plain": [
       "      len        supp         dose      \n",
       " Min.   : 4.20   OJ:30   Min.   :0.500  \n",
       " 1st Qu.:13.07   VC:30   1st Qu.:0.500  \n",
       " Median :19.25           Median :1.000  \n",
       " Mean   :18.81           Mean   :1.167  \n",
       " 3rd Qu.:25.27           3rd Qu.:2.000  \n",
       " Max.   :33.90           Max.   :2.000  "
      ]
     },
     "metadata": {},
     "output_type": "display_data"
    }
   ],
   "source": [
    "summary(ToothGrowth)"
   ]
  },
  {
   "cell_type": "code",
   "execution_count": 96,
   "metadata": {},
   "outputs": [
    {
     "name": "stdout",
     "output_type": "stream",
     "text": [
      "── Data Summary ────────────────────────\n",
      "                           Values     \n",
      "Name                       ToothGrowth\n",
      "Number of rows             60         \n",
      "Number of columns          3          \n",
      "_______________________               \n",
      "Column type frequency:                \n",
      "  factor                   1          \n",
      "  numeric                  2          \n",
      "________________________              \n",
      "Group variables            None       \n",
      "\n",
      "── Variable type: factor ───────────────────────────────────────────────────────\n",
      "  skim_variable n_missing complete_rate ordered n_unique top_counts    \n",
      "1 supp                  0             1 FALSE          2 OJ: 30, VC: 30\n",
      "\n",
      "── Variable type: numeric ──────────────────────────────────────────────────────\n",
      "  skim_variable n_missing complete_rate  mean    sd    p0   p25   p50   p75\n",
      "1 len                   0             1 18.8  7.65    4.2  13.1  19.2  25.3\n",
      "2 dose                  0             1  1.17 0.629   0.5   0.5   1     2  \n",
      "   p100 hist \n",
      "1  33.9 ▅▃▅▇▂\n",
      "2   2   ▇▇▁▁▇\n"
     ]
    }
   ],
   "source": [
    "skim(ToothGrowth)"
   ]
  },
  {
   "cell_type": "markdown",
   "metadata": {},
   "source": [
    "It's a 60 x 3 matrix, and each column denots\n",
    "- `len` (numeric) : Tooth length, avraging at 19.2, and 25th/75th quantiles are 13.1/25.3\n",
    "- `supp` (factor) : Supplement type (OJ or VD): 30 OJs and 30 VCs\n",
    "- `dose` (numeric): Tooth dose in milligrams, averaging at 1, and 25th/75th quantiles are 0.5/2"
   ]
  },
  {
   "cell_type": "markdown",
   "metadata": {},
   "source": [
    "### Hypothesis testing for the supplement\n",
    "\n",
    "- $H_0: len(OJ) = len(VC)$: there is no difference in tooth growth when using the supplement OJ and VC\n",
    "- $H_a: len(OJ) > len(VC)$: there is more tooth growth using OJ, than that using VC"
   ]
  },
  {
   "cell_type": "code",
   "execution_count": 131,
   "metadata": {},
   "outputs": [],
   "source": [
    "# Split data frame by supp\n",
    "OJ <- ToothGrowth[ToothGrowth$supp=='OJ',]\n",
    "VC <- ToothGrowth[ToothGrowth$supp=='VC',]"
   ]
  },
  {
   "cell_type": "markdown",
   "metadata": {},
   "source": [
    "Under 95% confidence level, we run t test"
   ]
  },
  {
   "cell_type": "code",
   "execution_count": 115,
   "metadata": {},
   "outputs": [
    {
     "data": {
      "text/plain": [
       "\n",
       "\tWelch Two Sample t-test\n",
       "\n",
       "data:  OJ$len and VC$len\n",
       "t = 1.9153, df = 55.309, p-value = 0.03032\n",
       "alternative hypothesis: true difference in means is greater than 0\n",
       "95 percent confidence interval:\n",
       " 0.4682687       Inf\n",
       "sample estimates:\n",
       "mean of x mean of y \n",
       " 20.66333  16.96333 \n"
      ]
     },
     "metadata": {},
     "output_type": "display_data"
    }
   ],
   "source": [
    "t.test(OJ$len, VC$len, alternative = 'greater', paired = FALSE, var.equal = FALSE, conf.level = 0.95)"
   ]
  },
  {
   "cell_type": "markdown",
   "metadata": {},
   "source": [
    "With p-value = 0.03 < 0.05, we reject the null hypothesis. i.e. there is approximately 3% chance of obtaining an extreme value for the difference in mean of tooth growth. Besides, based on the low p value, we can conclude it's very likely that supplement OJ, the greater the effect on tooth growth than supplement VC\n",
    "\n",
    "We draw a plot to show that accordingly"
   ]
  },
  {
   "cell_type": "code",
   "execution_count": 124,
   "metadata": {},
   "outputs": [
    {
     "data": {
      "image/png": "[encoded data removed]",
      "text/plain": [
       "plot without title"
      ]
     },
     "metadata": {
      "image/png": {
       "height": 420,
       "width": 420
      }
     },
     "output_type": "display_data"
    }
   ],
   "source": [
    "qplot(x = supp, y = len, data=ToothGrowth, facets=~dose, main=\"Tooth growth supplement type and dosage\",xlab=\"Supplement type\", ylab=\"Tooth length\") + geom_boxplot(aes(fill = supp))"
   ]
  },
  {
   "cell_type": "markdown",
   "metadata": {},
   "source": [
    "### Hypothesis testing for the dose\n",
    "\n",
    "- $H_0$: there is no difference in tooth growth among doses\n",
    "- $H_a$: there are more tooth growth as the dose increases"
   ]
  },
  {
   "cell_type": "code",
   "execution_count": 126,
   "metadata": {},
   "outputs": [
    {
     "data": {
      "text/html": [
       "<style>\n",
       ".list-inline {list-style: none; margin:0; padding: 0}\n",
       ".list-inline>li {display: inline-block}\n",
       ".list-inline>li:not(:last-child)::after {content: \"\\00b7\"; padding: 0 .5ex}\n",
       "</style>\n",
       "<ol class=list-inline><li>0.5</li><li>1</li><li>2</li></ol>\n"
      ],
      "text/latex": [
       "\\begin{enumerate*}\n",
       "\\item 0.5\n",
       "\\item 1\n",
       "\\item 2\n",
       "\\end{enumerate*}\n"
      ],
      "text/markdown": [
       "1. 0.5\n",
       "2. 1\n",
       "3. 2\n",
       "\n",
       "\n"
      ],
      "text/plain": [
       "[1] 0.5 1.0 2.0"
      ]
     },
     "metadata": {},
     "output_type": "display_data"
    }
   ],
   "source": [
    "unique(ToothGrowth$dose)"
   ]
  },
  {
   "cell_type": "code",
   "execution_count": 127,
   "metadata": {},
   "outputs": [],
   "source": [
    "# Split data frame by dose\n",
    "Dose05 <- ToothGrowth[ToothGrowth$dose==0.5,]\n",
    "Dose10 <- ToothGrowth[ToothGrowth$dose==1.0,]\n",
    "Dose20 <- ToothGrowth[ToothGrowth$dose==2.0,]"
   ]
  },
  {
   "cell_type": "code",
   "execution_count": 128,
   "metadata": {},
   "outputs": [
    {
     "data": {
      "text/plain": [
       "\n",
       "\tWelch Two Sample t-test\n",
       "\n",
       "data:  Dose05$len and Dose10$len\n",
       "t = -6.4766, df = 37.986, p-value = 6.342e-08\n",
       "alternative hypothesis: true difference in means is less than 0\n",
       "95 percent confidence interval:\n",
       "      -Inf -6.753323\n",
       "sample estimates:\n",
       "mean of x mean of y \n",
       "   10.605    19.735 \n"
      ]
     },
     "metadata": {},
     "output_type": "display_data"
    }
   ],
   "source": [
    "t.test(Dose05$len\n",
    "       , Dose10$len\n",
    "       , alternative = \"less\"\n",
    "       , paired = FALSE\n",
    "       , var.equal = FALSE\n",
    "       , conf.level = 0.95\n",
    "      )"
   ]
  },
  {
   "cell_type": "markdown",
   "metadata": {},
   "source": [
    "p-value << 0.05, which means we reject the null hypo. Increase of dose from 0.5 mg to 1.0 mg, does lead to tooth growth"
   ]
  },
  {
   "cell_type": "code",
   "execution_count": 129,
   "metadata": {},
   "outputs": [
    {
     "data": {
      "text/plain": [
       "\n",
       "\tWelch Two Sample t-test\n",
       "\n",
       "data:  Dose10$len and Dose20$len\n",
       "t = -4.9005, df = 37.101, p-value = 9.532e-06\n",
       "alternative hypothesis: true difference in means is less than 0\n",
       "95 percent confidence interval:\n",
       "     -Inf -4.17387\n",
       "sample estimates:\n",
       "mean of x mean of y \n",
       "   19.735    26.100 \n"
      ]
     },
     "metadata": {},
     "output_type": "display_data"
    }
   ],
   "source": [
    "t.test(Dose10$len\n",
    "       , Dose20$len\n",
    "       , alternative = \"less\"\n",
    "       , paired = FALSE\n",
    "       , var.equal = FALSE\n",
    "       , conf.level = 0.95\n",
    "      )"
   ]
  },
  {
   "cell_type": "markdown",
   "metadata": {},
   "source": [
    "p-value << 0.05, which means we reject the null hypo. Increase of dose from 1.0 mg to 2.0 mg, does lead to tooth growth"
   ]
  }
 ],
 "metadata": {
  "kernelspec": {
   "display_name": "R",
   "language": "R",
   "name": "ir"
  },
  "language_info": {
   "codemirror_mode": "r",
   "file_extension": ".r",
   "mimetype": "text/x-r-source",
   "name": "R",
   "pygments_lexer": "r",
   "version": "4.0.2"
  }
 },
 "nbformat": 4,
 "nbformat_minor": 4
}
