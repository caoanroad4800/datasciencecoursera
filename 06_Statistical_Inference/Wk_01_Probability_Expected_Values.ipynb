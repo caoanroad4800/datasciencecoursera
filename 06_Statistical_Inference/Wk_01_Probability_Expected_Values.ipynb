{
 "cells": [
  {
   "cell_type": "markdown",
   "metadata": {},
   "source": [
    "# Week 1: Probability & Expected Values"
   ]
  },
  {
   "cell_type": "markdown",
   "metadata": {},
   "source": [
    "## Module 1: Introduction"
   ]
  },
  {
   "cell_type": "markdown",
   "metadata": {},
   "source": [
    "The course is taught via 13 lectures\n",
    "1. Introduction\n",
    "1. Probability\n",
    "1. Conditional Probability\n",
    "1. Expectations\n",
    "1. Variance\n",
    "1. Variance\n",
    "1. Common Distributions\n",
    "1. Asymptotics\n",
    "1. T confidence intervals\n",
    "1. Hypothesis testing\n",
    "1. P-values\n",
    "1. Power\n",
    "1. Multiple Testing\n",
    "1. Resampling"
   ]
  },
  {
   "cell_type": "markdown",
   "metadata": {},
   "source": [
    "## Module 2: Probability"
   ]
  },
  {
   "cell_type": "markdown",
   "metadata": {},
   "source": [
    "### 02-00: Probability\n",
    "### 02-01: Introduction to probability\n",
    "### 02-02: Probability mass functions\n",
    "**Bell curve**\n",
    "\n",
    "A **random variable** is a numerical outcome of an experiment. It can be *discrete* or *continuous*\n",
    "\n",
    "A **Probaiblity Mass Function (PMF) evaluated at a value** corresponds to the probability that a random variable takes that value. To be a valid PMF, $p$ must satisfy\n",
    "- $PMF(i) \\ge 0 \\, \\forall \\, i$\n",
    "- $\\sum_i PMF(i)= 1$"
   ]
  },
  {
   "cell_type": "markdown",
   "metadata": {},
   "source": [
    "### 02-03: Probability density functions (PDF)"
   ]
  },
  {
   "cell_type": "markdown",
   "metadata": {},
   "source": [
    "A **Probaility Density Function (PDF)** is a function associated with a *continuous random variable*. To be a valid PDF, a function must satisfy\n",
    "- $PDF(i) \\ge 0 \\, \\forall \\, i$\n",
    "- $\\sum_{i} PDF(i) = 1$"
   ]
  },
  {
   "cell_type": "markdown",
   "metadata": {},
   "source": [
    "Areas under PDFs correspond to probabilities for that random variable"
   ]
  },
  {
   "cell_type": "markdown",
   "metadata": {},
   "source": [
    "A **cumulative distribution function (CDF) of a random variable X**, returns the probability that the random variable is less than or equal to the value x: $F(x) = P(X \\le x)$"
   ]
  },
  {
   "cell_type": "markdown",
   "metadata": {},
   "source": [
    "The **survival function of a random variable X** is defined as the probability that the random variable is greater than the value x: $S(x) = P(X > x)$"
   ]
  },
  {
   "cell_type": "markdown",
   "metadata": {},
   "source": [
    "Notice that $S(x) = 1 - F(x)$"
   ]
  },
  {
   "cell_type": "markdown",
   "metadata": {},
   "source": [
    "**Sample Quantiles**: if you were 95th percentile on a exam, you know that 95% of people scored worse than you, and 5% scored better. So the definition of the **$\\alpha^{th}$ quantile** of a distribution with distribution function $F$ is the point $x_{\\alpha}$ so that $F(x_{\\alpha}) = \\alpha$\n",
    "- A **Percentile** is simply a quantile with $\\alpha$ expressed as a percent  \n",
    "- The **median** is the $50^{th}$ percentile  "
   ]
  },
  {
   "cell_type": "markdown",
   "metadata": {},
   "source": [
    "## Module 3: Conditional Probability\n",
    "### 03-01:Conditional Probability\n",
    "Definition:\n",
    "\n",
    "- Let $B$ be an event so that $P(B)>0$\n",
    "- $ P(A|B) = \\frac{P (A \\cap B)}{P(B)}$ "
   ]
  },
  {
   "cell_type": "markdown",
   "metadata": {},
   "source": [
    "### 03-02: Bayes' Rule"
   ]
  },
  {
   "cell_type": "markdown",
   "metadata": {},
   "source": [
    "$P(B|A) = \\frac{P(A|B) P(B)}{P(A|B) P(B) + P(A|B^{c}) P(B^{c})}$"
   ]
  },
  {
   "cell_type": "markdown",
   "metadata": {},
   "source": [
    "**Diagnostic tests**:\n",
    "- Let `+` and `-` be the events that the result of a diagnositc test is positive or negative respectively\n",
    "- Let `D` and $D^{c}$ be the event that the subject of the test has or does not have the disease respectively\n",
    "- Sensitivty = $P(+|D)$\n",
    "- Specificity = $P(-|D^{c})$"
   ]
  },
  {
   "cell_type": "markdown",
   "metadata": {},
   "source": [
    "*More definitions*\n",
    "- Positive predictive value = $P(D|+)$\n",
    "- Negative predictive value = $P(D^{c}|-)$\n",
    "- Prevalence of disease = $P(D)$"
   ]
  },
  {
   "cell_type": "markdown",
   "metadata": {},
   "source": [
    "*HIV Example*\n",
    "- Sensitivy of 99.7%\n",
    "- Specificity of 98.5%\n",
    "- Suppose that a subject from a population with a 0.1% prevalence of HIV\n",
    "- Q: What is the associated positive predictive value?  \n",
    "*Answer*\n",
    "- $P(D|+) = \\frac{P(+|D)P(D)}{P(+|D) P(D) + P(+|D^{c}) P(D^{c})} = \\frac{P(+|D)P(D)}{P(+|D) P(D) + \\left[1 - P(-|D^{c}) \\right] \\left[ 1 - P(D) \\right]} = \n",
    "\\frac{0.997 \\times 0.001}{0.997 \\times 0.001 + 0.015 \\times 0.999} = 0.062$"
   ]
  },
  {
   "cell_type": "markdown",
   "metadata": {},
   "source": [
    "**Likelihood ratios**  \n",
    "$P(D|+)= \\frac{P(+|D)P(D)}{P(+|D) P(D) + P(+|D^{c}) P(D^{c})}  \\Rightarrow P(D^{c}|+)= \\frac{P(+|D^{c})P(D^{c})}{P(+|D) P(D) + P(+|D^{c}) P(D^{c})}  \\Rightarrow \\frac{P(D|+)}{P(D^{c}|+)} = \\frac{P(+|D)}{P(+|D^{c})} \\times \\frac{P(D)}{P(D^{c})}$ \n",
    "- **Odds of disease given a positive test result**: $\\frac{P(D|+)}{P(D^{c}|+)}$\n",
    "- **Odds of disease in the absense of a test result**: $\\frac{P(D)}{P(D^{c})}$\n",
    "- **Diagnostic likelihood ratio for a postive test result**: $\\frac{P(D|+)}{P(D^{c}|+)} = \\frac{P(+|D)}{P(+|D^{c})}$\n",
    "- So the equation means: the pretest odds of disease, times the diagnostic likelihood ratio, equals the post-test odds of disease $\\text{post-test odds of D} = \\text{DLR}_{+} \\times \\text{pre-test odds of D}$"
   ]
  },
  {
   "cell_type": "markdown",
   "metadata": {},
   "source": [
    "*HIV Example Revisited*\n",
    "- Sensitivy of 99.7%\n",
    "- Specificity of 98.5%\n",
    "- $DLR_{+} = 0.997 / (1 - 0.985) \\approx 66$\n",
    "- $\\Rightarrow$ No matter what your pre-test odds are, you multiply them times 66 to obtain your post-test odds\n",
    "- $\\Rightarrow$ or in another words, the hypothesis of disease is 66 times more supported by the data than the hypothesis of no disease"
   ]
  },
  {
   "cell_type": "markdown",
   "metadata": {},
   "source": [
    "The $DLR_{-}$ case:\n",
    "- Sensitivy of 99.7%\n",
    "- Specificity of 98.5%\n",
    "- $DLR_{-} = (1 - 0.997) / 0.985 \\approx 0.003$\n",
    "- $\\Rightarrow$ Your post-test odds of disease in the light of a negative test result is now 0.3% that of the pre-test odds of the disease\n",
    "- $\\Rightarrow$ or in other words, the hypothesis of disease is supported 0.003 times that of the hypothesis of the absense of disease given the negative test result"
   ]
  },
  {
   "cell_type": "markdown",
   "metadata": {},
   "source": [
    "### 03-03: Independence\n",
    "\n",
    "Event A is **independent** of event B if  \n",
    "$P(A|B) = P(A)$,  where $P(B) > 0$, or expressed in another way  \n",
    "$P(A\\cap B) = P(A) P(B)$"
   ]
  },
  {
   "cell_type": "markdown",
   "metadata": {},
   "source": [
    "*Example: What's the probability of 2 consecutive heads on a coin?*\n",
    "- A = {Head on flip 1} ~ P(A) = 0.5\n",
    "- B = {Head on flip 2} ~ P(B) = 0.5\n",
    "- A$\\cap$B = {Head on flips 1 and 2}, with A and B being independent\n",
    "- $\\Rightarrow$ P(A$\\cap$B) = P(A) P(B) = 0.5 $\\times$ 0.5 = 0.25"
   ]
  },
  {
   "cell_type": "markdown",
   "metadata": {},
   "source": [
    "*Example: multiplying probabilites without independence*\n",
    "- i.e. $P(A_{1} \\cap A_{2})$ is not necessarily equal to $P(A_{1}) P(A_{2})$"
   ]
  },
  {
   "cell_type": "markdown",
   "metadata": {},
   "source": [
    "#### IID random variables  \n",
    "Random variables are said to be **iid** if they are *independent and identically distributed*  \n",
    "- Independent: statistically unrelated from one and another\n",
    "- Identically Distributed: all having been drawn from the same population distribution\n",
    "\n",
    "**iid random variables** are the default model for random samples"
   ]
  },
  {
   "cell_type": "markdown",
   "metadata": {},
   "source": [
    "## Module 4: Expected Values\n",
    "\n",
    "### Expected values  \n",
    "- **Expected values**: The process of making conclusions about populations from noisy data that was drawn from it\n",
    "- **Mean**: a characterization of its center\n",
    "- **Variance** and **Standard Deviation*"
   ]
  },
  {
   "cell_type": "markdown",
   "metadata": {},
   "source": [
    "$E[X]$ represents the center of mass of a collection of locations and weights, ${x, p(x)} \\Rightarrow E[X] = \\sum_{x} x  p(x)$"
   ]
  },
  {
   "cell_type": "code",
   "execution_count": 7,
   "metadata": {},
   "outputs": [
    {
     "ename": "ERROR",
     "evalue": "Error in manipulate(myHist(mu), mu = slider(62, 74, step = 0.5)): The manipulate package must be run from within RStudio\n",
     "output_type": "error",
     "traceback": [
      "Error in manipulate(myHist(mu), mu = slider(62, 74, step = 0.5)): The manipulate package must be run from within RStudio\nTraceback:\n",
      "1. manipulate(myHist(mu), mu = slider(62, 74, step = 0.5))",
      "2. stop(\"The manipulate package must be run from within RStudio\")"
     ]
    }
   ],
   "source": [
    "# The following code must be run in Rstudio\n",
    "#install.packages(\"manipulate\")\n",
    "library(manipulate)\n",
    "library(HistData)\n",
    "library(ggplot2)\n",
    "myHist <- function(mu){\n",
    "    g <- ggplot(Galton, aes(x = child))\n",
    "    g <- g + geom_histogram(fill = 'salmon'\n",
    "                           , binwidth = 1\n",
    "                           , aes(y = ..density..)\n",
    "                           , colour = 'black')\n",
    "    g <- g + geom_density(size = 2)\n",
    "    g <- g + geom_vline(xintercept = mu, size = 2)\n",
    "    mse <- round(mean((Galton$child - mu)^2), 3)\n",
    "    g <- g + labs(title= paste('mu = ', mu, 'MSE = ', mse))\n",
    "    g\n",
    "}\n",
    "manipulate(myHist(mu), mu = slider(62, 74, step = 0.5))"
   ]
  },
  {
   "cell_type": "markdown",
   "metadata": {},
   "source": [
    "#### 04-02: Expected values, simple examples\n",
    "Suppose a coin is flipped and X is declared 0 or 1 corresponding to a head or a tail, respectively. What is the expected value of X?\n",
    "\n",
    "$E[X] = 0.5 \\times 0 + 0.5 \\times 1 = 0.5$"
   ]
  },
  {
   "cell_type": "markdown",
   "metadata": {},
   "source": [
    "*What about a biased coin?*  \n",
    "Suppose that a random variable, X, is so that $P(X=1) = p$, and $P(X=0) = (1 - p)$. What is the expected value of X?\n",
    "\n",
    "$E[X] = 0 \\times (1 - p) + 1 \\times p = p$"
   ]
  },
  {
   "cell_type": "markdown",
   "metadata": {},
   "source": [
    "#### 04-03: Expected values for PDFs\n",
    "For a continuous random value X, with density f, the expected value is again exactly the center of mass of the density"
   ]
  },
  {
   "cell_type": "markdown",
   "metadata": {},
   "source": [
    "**Facts about expected values**\n",
    "- Expected values are properties of distributions\n",
    "- The average of random variables is itself a random variable and its associated distribution has an expted value\n",
    "- The center of this distribution is the same as that of the original distribution\n",
    "- The sample mean is unbiased because its distribution is centered at what it's trying to estimate"
   ]
  },
  {
   "cell_type": "code",
   "execution_count": 8,
   "metadata": {},
   "outputs": [
    {
     "data": {
      "text/html": [
       "<table>\n",
       "<caption>A matrix: 2 × 4 of type dbl</caption>\n",
       "<tbody>\n",
       "\t<tr><th scope=row>X</th><td>1.0</td><td>2.0</td><td>3.0</td><td>4.0</td></tr>\n",
       "\t<tr><th scope=row>Prob</th><td>0.1</td><td>0.2</td><td>0.3</td><td>0.4</td></tr>\n",
       "</tbody>\n",
       "</table>\n"
      ],
      "text/latex": [
       "A matrix: 2 × 4 of type dbl\n",
       "\\begin{tabular}{r|llll}\n",
       "\tX & 1.0 & 2.0 & 3.0 & 4.0\\\\\n",
       "\tProb & 0.1 & 0.2 & 0.3 & 0.4\\\\\n",
       "\\end{tabular}\n"
      ],
      "text/markdown": [
       "\n",
       "A matrix: 2 × 4 of type dbl\n",
       "\n",
       "| X | 1.0 | 2.0 | 3.0 | 4.0 |\n",
       "| Prob | 0.1 | 0.2 | 0.3 | 0.4 |\n",
       "\n"
      ],
      "text/plain": [
       "     [,1] [,2] [,3] [,4]\n",
       "X    1.0  2.0  3.0  4.0 \n",
       "Prob 0.1  0.2  0.3  0.4 "
      ]
     },
     "metadata": {},
     "output_type": "display_data"
    }
   ],
   "source": [
    "x <- 1:4\n",
    "p <- x/sum(x)\n",
    "temp <- rbind(x, p)\n",
    "rownames(temp) <- c(\"X\", \"Prob\")\n",
    "temp"
   ]
  },
  {
   "cell_type": "code",
   "execution_count": 10,
   "metadata": {},
   "outputs": [
    {
     "data": {
      "text/html": [
       "0.5625"
      ],
      "text/latex": [
       "0.5625"
      ],
      "text/markdown": [
       "0.5625"
      ],
      "text/plain": [
       "[1] 0.5625"
      ]
     },
     "metadata": {},
     "output_type": "display_data"
    }
   ],
   "source": [
    "(0.75*0.3)/((0.75*0.3) + (1-0.75)*(1-0.3))"
   ]
  }
 ],
 "metadata": {
  "kernelspec": {
   "display_name": "R",
   "language": "R",
   "name": "ir"
  },
  "language_info": {
   "codemirror_mode": "r",
   "file_extension": ".r",
   "mimetype": "text/x-r-source",
   "name": "R",
   "pygments_lexer": "r",
   "version": "4.0.2"
  }
 },
 "nbformat": 4,
 "nbformat_minor": 4
}
