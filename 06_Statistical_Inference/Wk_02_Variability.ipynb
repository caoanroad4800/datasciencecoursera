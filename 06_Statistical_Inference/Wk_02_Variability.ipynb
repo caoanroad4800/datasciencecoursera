{
 "cells": [
  {
   "cell_type": "markdown",
   "metadata": {},
   "source": [
    "## Module 5: Variability\n",
    "### 05-01: Introduction to Variability\n",
    "The **Variance** of a random variable is a measurement of *spread*  \n",
    "Var(X) = E$\\left[(X-\\mu)^2\\right] = E[X^2] - E[X]^2$\n",
    "\n",
    "**Std. deviation**  \n",
    "*Example: roll a dice*\n",
    "- $E[X] = 3.5$  \n",
    "- $E[X^2] = 1^2 \\times 1/6 + 2^2 \\times 1/6 + 3^2 \\times 1/6 + 4^2 \\times 1/6 + 5^2 \\times 1/6 + 5^2 \\times 1/6 + 6^2 \\times 1/6 \\approx 15.17$\n",
    "- $\\Rightarrow Var(X) = E[X^2] - E[X]^{2} = 15.17 - (3.5)^2 \\approx 2.92$    \n",
    "\n",
    "*Example: variance from the result of the toss of a coin with probability of heads(1) of p?*  \n",
    "- $E[X] = 0 \\times (1-p) + 1 \\times p = p$\n",
    "- $E[X^2] = E[X] = p$\n",
    "- $\\Rightarrow Var(X) = E[X^2] - E[X]^{2} = p - p^{2} = p \\left( 1 - p \\right)$\n"
   ]
  },
  {
   "cell_type": "markdown",
   "metadata": {},
   "source": [
    "**Sample variance**\n",
    "\n",
    "- Calculated as $S^{2} = \\frac{\\sum_{i-1} \\left( X_{i} - \\bar{X} \\right)^{2}}{n-1}$\n",
    "- It has an associated population distribution\n",
    "- Its expected value is the population variance\n",
    "- $S^{2} \\rightarrow \\text{Var}(X)$ as $n \\rightarrow \\infty$"
   ]
  },
  {
   "cell_type": "markdown",
   "metadata": {},
   "source": [
    "### 05-02: Variance simulation examples\n",
    "### 05-03: Standard error of the mean\n",
    "- $E[\\bar{X}] = \\mu$\n",
    "- $\\text{Var}(\\bar{X}) = \\sigma^{2} / n$"
   ]
  },
  {
   "cell_type": "code",
   "execution_count": 5,
   "metadata": {},
   "outputs": [
    {
     "data": {
      "text/html": [
       "0.309818711513789"
      ],
      "text/latex": [
       "0.309818711513789"
      ],
      "text/markdown": [
       "0.309818711513789"
      ],
      "text/plain": [
       "[1] 0.3098187"
      ]
     },
     "metadata": {},
     "output_type": "display_data"
    }
   ],
   "source": [
    "nosim <- 1000\n",
    "n <- 10\n",
    "sd(\n",
    "    apply(\n",
    "        matrix(rnorm(nosim * n), nosim), 1, mean\n",
    "    )\n",
    ")"
   ]
  },
  {
   "cell_type": "code",
   "execution_count": 7,
   "metadata": {},
   "outputs": [
    {
     "data": {
      "text/html": [
       "0.0912870929175277"
      ],
      "text/latex": [
       "0.0912870929175277"
      ],
      "text/markdown": [
       "0.0912870929175277"
      ],
      "text/plain": [
       "[1] 0.09128709"
      ]
     },
     "metadata": {},
     "output_type": "display_data"
    }
   ],
   "source": [
    "# Standard uniforms have variance 1/12 means of random samples of n uniforms have sd 1/sqrt(12 * n)\n",
    "1 / sqrt(12 * n)"
   ]
  },
  {
   "cell_type": "code",
   "execution_count": 9,
   "metadata": {},
   "outputs": [
    {
     "data": {
      "text/html": [
       "<style>\n",
       ".list-inline {list-style: none; margin:0; padding: 0}\n",
       ".list-inline>li {display: inline-block}\n",
       ".list-inline>li:not(:last-child)::after {content: \"\\00b7\"; padding: 0 .5ex}\n",
       "</style>\n",
       "<ol class=list-inline><li>3</li><li>0</li><li>2</li><li>1</li><li>0</li><li>4</li><li>3</li><li>7</li><li>4</li><li>4</li></ol>\n"
      ],
      "text/latex": [
       "\\begin{enumerate*}\n",
       "\\item 3\n",
       "\\item 0\n",
       "\\item 2\n",
       "\\item 1\n",
       "\\item 0\n",
       "\\item 4\n",
       "\\item 3\n",
       "\\item 7\n",
       "\\item 4\n",
       "\\item 4\n",
       "\\end{enumerate*}\n"
      ],
      "text/markdown": [
       "1. 3\n",
       "2. 0\n",
       "3. 2\n",
       "4. 1\n",
       "5. 0\n",
       "6. 4\n",
       "7. 3\n",
       "8. 7\n",
       "9. 4\n",
       "10. 4\n",
       "\n",
       "\n"
      ],
      "text/plain": [
       " [1] 3 0 2 1 0 4 3 7 4 4"
      ]
     },
     "metadata": {},
     "output_type": "display_data"
    }
   ],
   "source": [
    "rpois(10, 3)"
   ]
  },
  {
   "cell_type": "markdown",
   "metadata": {},
   "source": [
    "### 05-04: Variance data example"
   ]
  },
  {
   "cell_type": "code",
   "execution_count": 15,
   "metadata": {},
   "outputs": [],
   "source": [
    "#install.packages(\"UsingR\")\n",
    "library(\"UsingR\")\n",
    "library(\"skimr\")\n",
    "data(father.son)\n",
    "x <- father.son$sheight\n",
    "n <- length(x)"
   ]
  },
  {
   "cell_type": "code",
   "execution_count": 18,
   "metadata": {},
   "outputs": [
    {
     "data": {
      "text/html": [
       "68.6840696567718"
      ],
      "text/latex": [
       "68.6840696567718"
      ],
      "text/markdown": [
       "68.6840696567718"
      ],
      "text/plain": [
       "[1] 68.68407"
      ]
     },
     "metadata": {},
     "output_type": "display_data"
    }
   ],
   "source": [
    "mean(x)"
   ]
  },
  {
   "cell_type": "code",
   "execution_count": 21,
   "metadata": {},
   "outputs": [
    {
     "data": {
      "text/html": [
       "<style>\n",
       ".list-inline {list-style: none; margin:0; padding: 0}\n",
       ".list-inline>li {display: inline-block}\n",
       ".list-inline>li:not(:last-child)::after {content: \"\\00b7\"; padding: 0 .5ex}\n",
       "</style>\n",
       "<ol class=list-inline><li>7.92</li><li>0.01</li><li>2.81</li><li>0.09</li></ol>\n"
      ],
      "text/latex": [
       "\\begin{enumerate*}\n",
       "\\item 7.92\n",
       "\\item 0.01\n",
       "\\item 2.81\n",
       "\\item 0.09\n",
       "\\end{enumerate*}\n"
      ],
      "text/markdown": [
       "1. 7.92\n",
       "2. 0.01\n",
       "3. 2.81\n",
       "4. 0.09\n",
       "\n",
       "\n"
      ],
      "text/plain": [
       "[1] 7.92 0.01 2.81 0.09"
      ]
     },
     "metadata": {},
     "output_type": "display_data"
    }
   ],
   "source": [
    "round(c(var(x), var(x)/n, sd(x), sd(x) / sqrt(n)), 2)"
   ]
  },
  {
   "cell_type": "markdown",
   "metadata": {},
   "source": [
    "## Module 6: Distributions\n",
    "### 06-01: Binomial distribution\n",
    "\n",
    "#### The Bernoulli Distribution\n",
    "- The **Bernoulli distribution** arises as the resulf of a binary outcome\n",
    "- Bernoulli random variables take (only) the values 1 and 0 with probabilities of (say) $p$ and $(1-p)$ respectively\n",
    "- **Bernoulli probability mass function**: $P \\left( X = x \\right) = p^{x} \\left( 1 - p \\right)^{1-x}$\n",
    "- **mean** of a Bernoulli random variable is $p$\n",
    "- **variance** of a Bernoulli random variable is $p \\left( 1 - p \\right)$"
   ]
  },
  {
   "cell_type": "markdown",
   "metadata": {},
   "source": [
    "#### Binomial trials\n",
    "- Let $X_{1}, \\ldots, X_{n}$ be iid Bernoulli(p), then $X = \\sum_{i=1}^{n} X_{i}$ is a **binomial random variable**\n",
    "- **Binomial mass function**: $P(X=x) = \\begin{pmatrix} n \\\\ x \\end{pmatrix} p^{x} \\left( 1 - p \\right)^{n-x}$, in which $\\begin{pmatrix} n \\\\ x \\end{pmatrix} = \\frac{n!}{x! (n-x)!}$, read *n choose x*, counts the number of ways of selecting x items out of n without replacement disregarding the order of the items"
   ]
  },
  {
   "cell_type": "markdown",
   "metadata": {},
   "source": [
    "*Example: suppose a friend has 8 children, 7 of which are girls. If each gender has an independent 50% probability for each birth, what's the probability of getting 7 or more girls out of 8 births?*\n",
    "- $\\begin{pmatrix}8 \\\\ 7\\end{pmatrix} * 0.5^{7} * \\left( 1- 0.5 \\right)^{1} + \\begin{pmatrix}8 \\\\ 8\\end{pmatrix} * 0.5^{8} * \\left( 1- 0.5 \\right)^{0} \\approx 0.04$"
   ]
  },
  {
   "cell_type": "markdown",
   "metadata": {},
   "source": [
    "### 06-02: Normal distribution\n",
    "\n",
    "- **Definition**: Gaussian distribution with mean $\\mu$ and variance $\\sigma^2$, with density $\\left( 2 \\pi \\sigma^{2} \\right)^{(-1/2)} \\exp \\left[- \\frac{\\left( x - \\mu \\right)^{2}}{2 \\sigma^{2}} \\right]$\n",
    "- $E[X] = \\mu$, and $\\text{Var}(X) = \\sigma^2 \\Rightarrow \\, X \\sim \\mathcal{N} (\\mu, \\sigma^{2})$\n",
    "- **Standard normal distribution**: $\\mu = 0$, and $\\sigma=1$"
   ]
  },
  {
   "cell_type": "markdown",
   "metadata": {},
   "source": [
    "#### Facts about the normal density\n",
    "- If $X \\sim \\mathcal{N} \\left(\\mu, \\sigma^{2} \\right)$, then $Z = \\frac{x - \\mu}{\\sigma} \\sim \\mathcal{N}(0,1)$\n",
    "- If $Z$ is standard normal, then $X = \\mu + \\sigma Z \\sim \\mathcal{N} \\left( 0, \\sigma^{2} \\right)$"
   ]
  },
  {
   "cell_type": "markdown",
   "metadata": {},
   "source": [
    "*Question: what is the 95th percentile of a N(mu, sigma^2) distribution?*"
   ]
  },
  {
   "cell_type": "raw",
   "metadata": {},
   "source": [
    "# Quick answer in R\n",
    "qnorm(.95, mean = mu, sd = sd)"
   ]
  },
  {
   "cell_type": "markdown",
   "metadata": {},
   "source": [
    "Or in another way  \n",
    "$\\mu + \\sigma 1.645$"
   ]
  },
  {
   "cell_type": "markdown",
   "metadata": {},
   "source": [
    "*Question: what is the probability that a N(mu, sigma^2) RV is larger than x?*"
   ]
  },
  {
   "cell_type": "raw",
   "metadata": {},
   "source": [
    "# Quick answer in R\n",
    "pnorm(x, mean = mu, sd = sigma, lower.tail = FALSE)\n",
    "# equivalent to\n",
    "1 - pnorm(x, mean = mu, sd = sigma)"
   ]
  },
  {
   "cell_type": "markdown",
   "metadata": {},
   "source": [
    "Or in another way  \n",
    "Calculate $(x - \\mu) / \\sigma$"
   ]
  },
  {
   "cell_type": "markdown",
   "metadata": {},
   "source": [
    "*Example*: Assume that the number of daily ad clicks for a company is (approximately) normally distributed with a mean of 1020 and a standard deviation of 50. What is the probability of getting more than 1,160 clicks in a day?"
   ]
  },
  {
   "cell_type": "code",
   "execution_count": 53,
   "metadata": {},
   "outputs": [
    {
     "data": {
      "text/html": [
       "0.00255513033042793"
      ],
      "text/latex": [
       "0.00255513033042793"
      ],
      "text/markdown": [
       "0.00255513033042793"
      ],
      "text/plain": [
       "[1] 0.00255513"
      ]
     },
     "metadata": {},
     "output_type": "display_data"
    }
   ],
   "source": [
    "pnorm(1160, mean = 1020, sd = 50, lower.tail = FALSE)"
   ]
  },
  {
   "cell_type": "code",
   "execution_count": 54,
   "metadata": {},
   "outputs": [
    {
     "data": {
      "text/html": [
       "0.00255513033042793"
      ],
      "text/latex": [
       "0.00255513033042793"
      ],
      "text/markdown": [
       "0.00255513033042793"
      ],
      "text/plain": [
       "[1] 0.00255513"
      ]
     },
     "metadata": {},
     "output_type": "display_data"
    }
   ],
   "source": [
    "pnorm(2.8, lower.tail = FALSE)"
   ]
  },
  {
   "cell_type": "markdown",
   "metadata": {},
   "source": [
    "*Example*: Assume that the number of daily ad clicks for a company is (approximately) normally distributed with a mean of 1020 and a standard deviation of 50. What number of daily ad clicks represent the one where 75% of days have fewer clicks (assuming days are iid) ?"
   ]
  },
  {
   "cell_type": "code",
   "execution_count": 57,
   "metadata": {},
   "outputs": [
    {
     "data": {
      "text/html": [
       "1053.7244875098"
      ],
      "text/latex": [
       "1053.7244875098"
      ],
      "text/markdown": [
       "1053.7244875098"
      ],
      "text/plain": [
       "[1] 1053.724"
      ]
     },
     "metadata": {},
     "output_type": "display_data"
    }
   ],
   "source": [
    "qnorm(.75, mean = 1020, sd = 50)"
   ]
  },
  {
   "cell_type": "markdown",
   "metadata": {},
   "source": [
    "### 06-03: Poisson distribution  \n",
    "- Used to model counts\n",
    "- $P\\left( X = x; \\lambda \\right) = \\frac{\\lambda^{x} \\exp(-\\lambda)}{x!}$, with $\\lambda$ being the mean of this distribution"
   ]
  },
  {
   "cell_type": "markdown",
   "metadata": {},
   "source": [
    "**Use cases for the Poisson distribution**\n",
    "- Modelling count data\n",
    "- Modeling event-time or survival data\n",
    "- Modeling contigency tables\n",
    "- Approximating binomials when $n$ is large and $p$ is small"
   ]
  },
  {
   "cell_type": "markdown",
   "metadata": {},
   "source": [
    "**Rates and Poisson random variables**  \n",
    "- Poisson random variables are used to model rates\n",
    "- $X \\sim \\text{Poisson} \\left( \\lambda t \\right)$, where\n",
    "    - $\\lambda = E \\left[ X / t \\right]$ is the expected count per unit of time\n",
    "    - $t$ is the total monitoring time"
   ]
  },
  {
   "cell_type": "markdown",
   "metadata": {},
   "source": [
    "*Example*: The number of people that show up at a bus stop is Poisson with a mean of 2.5 per hour. If watching the bus stop for 4 hours, what is the probability that 3 or fewer prople show up for the whole time?"
   ]
  },
  {
   "cell_type": "code",
   "execution_count": 58,
   "metadata": {},
   "outputs": [
    {
     "data": {
      "text/html": [
       "0.0103360506759257"
      ],
      "text/latex": [
       "0.0103360506759257"
      ],
      "text/markdown": [
       "0.0103360506759257"
      ],
      "text/plain": [
       "[1] 0.01033605"
      ]
     },
     "metadata": {},
     "output_type": "display_data"
    }
   ],
   "source": [
    "ppois(3, lambda = 2.5 * 4)"
   ]
  },
  {
   "cell_type": "markdown",
   "metadata": {},
   "source": [
    "#### Poisson approximation to the binomial  \n",
    "When $n$ is large and $p$ is small, the Poisson distribution is an accurate approximation to the binomial distribution. Notation:\n",
    "- $X \\sim \\text{Binomial}(n, p)$\n",
    "- $\\lambda = n p$\n",
    "- $n$ gets large\n",
    "- $p$ gets small\n"
   ]
  },
  {
   "cell_type": "markdown",
   "metadata": {},
   "source": [
    "*Example*: We flip a coin with success probability 0.01 funve hundred times. What is the probability of 2 or fewer successess?"
   ]
  },
  {
   "cell_type": "code",
   "execution_count": 59,
   "metadata": {},
   "outputs": [
    {
     "data": {
      "text/html": [
       "0.123385774353582"
      ],
      "text/latex": [
       "0.123385774353582"
      ],
      "text/markdown": [
       "0.123385774353582"
      ],
      "text/plain": [
       "[1] 0.1233858"
      ]
     },
     "metadata": {},
     "output_type": "display_data"
    }
   ],
   "source": [
    "# Binomial\n",
    "pbinom(2, size = 500, prob = 0.01)"
   ]
  },
  {
   "cell_type": "code",
   "execution_count": 61,
   "metadata": {},
   "outputs": [
    {
     "data": {
      "text/html": [
       "0.124652019483081"
      ],
      "text/latex": [
       "0.124652019483081"
      ],
      "text/markdown": [
       "0.124652019483081"
      ],
      "text/plain": [
       "[1] 0.124652"
      ]
     },
     "metadata": {},
     "output_type": "display_data"
    }
   ],
   "source": [
    "# Poission, as approximation of Binomial\n",
    "ppois(2, lambda = 500 * 0.01)"
   ]
  },
  {
   "cell_type": "markdown",
   "metadata": {},
   "source": [
    "## Asymptotics\n",
    "### 07-01 Asymptotics and LLN\n",
    "\n",
    "**Definition**: Asymptotics is the term for the behavior of statistics as the sample size (or some other relevant quantity) limits to infity (or some other relevant number)\n",
    "\n",
    "**Law of Large Numbers (LLN)**: the average limits to what it's estimating, the polulation mean"
   ]
  },
  {
   "cell_type": "code",
   "execution_count": 66,
   "metadata": {},
   "outputs": [],
   "source": [
    "n <- 1000\n",
    "means <- cumsum(sample(0:1, n, replace = TRUE))/(1:n)"
   ]
  },
  {
   "cell_type": "markdown",
   "metadata": {},
   "source": [
    "### 07-02 Asymptotics and CLT\n",
    "\n",
    "**Central Limit Theorem (CLT)**: the distribution of average of iid variables (properly normalized) becomes that of a standard normal as the sample size increases  \n",
    "$\\frac{\\bar{X}_{n} - \\mu}{\\sigma / \\sqrt{N}} = \\frac{\\sqrt{n} \\left( \\bar{X}_{n} - \\mu \\right)}{\\sigma}$=(Estimate - Mean of estimate)/(Std. Err. of estimate)\n",
    "\n",
    "- The useful way to think about the CLT is that $\\bar{X}_{n}$ is approximately $\\mathcal{N}\\left(\\mu, \\sigma^{2}/n \\right)$\n",
    "\n",
    "*Example* Simulate a standard normal random variable by rolling $n$ (six sided)\n",
    "- Let $X_{i}$ be the outcome of die $i$\n",
    "- Then note $\\mu = E[X_{i}] = 3.5$\n",
    "- Var($X_{i}$) = 2.92\n",
    "- SE$\\sqrt{2.92/n} = 1.71 / \\sqrt{n}$\n",
    "- Let's roll n dice, take their mean, subtract off 3.5, and divide by 1.71 / $\\sqrt{n}$"
   ]
  },
  {
   "cell_type": "markdown",
   "metadata": {},
   "source": [
    "### 07-03 Asymptotics and Confidence Intervals"
   ]
  },
  {
   "cell_type": "markdown",
   "metadata": {},
   "source": [
    "*Example*Poisson interval: A nuclear pump failed 5 times out of 94.32 days, give a 95% confidence interval for the failure rate per day?\n",
    "- $X \\sim \\text{Poisson}(\\lambda t)$, with $\\lambda$ being failure rate, $X$ being number of failures\n",
    "- Estimate $\\hat{\\lambda} = X / t$\n",
    "- $\\text{Var} \\left( \\hat{\\lambda} \\right) = \\lambda / t$\n",
    "- $\\hat{\\lambda}/t$ is our variance estimate"
   ]
  },
  {
   "cell_type": "code",
   "execution_count": 73,
   "metadata": {},
   "outputs": [
    {
     "data": {
      "text/html": [
       "<style>\n",
       ".list-inline {list-style: none; margin:0; padding: 0}\n",
       ".list-inline>li {display: inline-block}\n",
       ".list-inline>li:not(:last-child)::after {content: \"\\00b7\"; padding: 0 .5ex}\n",
       "</style>\n",
       "<ol class=list-inline><li>0.007</li><li>0.099</li></ol>\n"
      ],
      "text/latex": [
       "\\begin{enumerate*}\n",
       "\\item 0.007\n",
       "\\item 0.099\n",
       "\\end{enumerate*}\n"
      ],
      "text/markdown": [
       "1. 0.007\n",
       "2. 0.099\n",
       "\n",
       "\n"
      ],
      "text/plain": [
       "[1] 0.007 0.099"
      ]
     },
     "metadata": {},
     "output_type": "display_data"
    }
   ],
   "source": [
    "x <- 5\n",
    "t <- 94.32\n",
    "lambda <- x/t\n",
    "round(\n",
    "    lambda + c(-1,1) * qnorm(0.975) * sqrt(lambda / t), 3\n",
    ")"
   ]
  },
  {
   "cell_type": "code",
   "execution_count": 71,
   "metadata": {},
   "outputs": [
    {
     "data": {
      "text/plain": [
       "\n",
       "\tExact Poisson test\n",
       "\n",
       "data:  x time base: 94.32\n",
       "number of events = 5, time base = 94.32, p-value < 2.2e-16\n",
       "alternative hypothesis: true event rate is not equal to 1\n",
       "95 percent confidence interval:\n",
       " 0.01721254 0.12371005\n",
       "sample estimates:\n",
       "event rate \n",
       "0.05301103 \n"
      ]
     },
     "metadata": {},
     "output_type": "display_data"
    }
   ],
   "source": [
    "poisson.test(x, T = 94.32)"
   ]
  },
  {
   "cell_type": "code",
   "execution_count": 72,
   "metadata": {},
   "outputs": [
    {
     "data": {
      "text/html": [
       "<style>\n",
       ".list-inline {list-style: none; margin:0; padding: 0}\n",
       ".list-inline>li {display: inline-block}\n",
       ".list-inline>li:not(:last-child)::after {content: \"\\00b7\"; padding: 0 .5ex}\n",
       "</style>\n",
       "<ol class=list-inline><li>0.0172125359427314</li><li>0.12371005173158</li></ol>\n"
      ],
      "text/latex": [
       "\\begin{enumerate*}\n",
       "\\item 0.0172125359427314\n",
       "\\item 0.12371005173158\n",
       "\\end{enumerate*}\n"
      ],
      "text/markdown": [
       "1. 0.0172125359427314\n",
       "2. 0.12371005173158\n",
       "\n",
       "\n"
      ],
      "text/plain": [
       "[1] 0.01721254 0.12371005\n",
       "attr(,\"conf.level\")\n",
       "[1] 0.95"
      ]
     },
     "metadata": {},
     "output_type": "display_data"
    }
   ],
   "source": [
    "poisson.test(x, T = 94.32)$conf"
   ]
  },
  {
   "cell_type": "code",
   "execution_count": 74,
   "metadata": {},
   "outputs": [
    {
     "data": {
      "text/html": [
       "1.95996398454005"
      ],
      "text/latex": [
       "1.95996398454005"
      ],
      "text/markdown": [
       "1.95996398454005"
      ],
      "text/plain": [
       "[1] 1.959964"
      ]
     },
     "metadata": {},
     "output_type": "display_data"
    }
   ],
   "source": [
    "qnorm(0.975)"
   ]
  },
  {
   "cell_type": "code",
   "execution_count": 76,
   "metadata": {},
   "outputs": [
    {
     "data": {
      "text/html": [
       "\n",
       "<table width=\"100%\" summary=\"page for power {stats}\"><tr><td>power {stats}</td><td style=\"text-align: right;\">R Documentation</td></tr></table>\n",
       "\n",
       "<h2>Create a Power Link Object</h2>\n",
       "\n",
       "<h3>Description</h3>\n",
       "\n",
       "<p>Creates a link object based on the link function\n",
       "<i>&eta; = &mu; ^ &lambda;</i>.\n",
       "</p>\n",
       "\n",
       "\n",
       "<h3>Usage</h3>\n",
       "\n",
       "<pre>\n",
       "power(lambda = 1)\n",
       "</pre>\n",
       "\n",
       "\n",
       "<h3>Arguments</h3>\n",
       "\n",
       "<table summary=\"R argblock\">\n",
       "<tr valign=\"top\"><td><code>lambda</code></td>\n",
       "<td>\n",
       "<p>a real number.</p>\n",
       "</td></tr>\n",
       "</table>\n",
       "\n",
       "\n",
       "<h3>Details</h3>\n",
       "\n",
       "<p>If <code>lambda</code> is non-positive, it is taken as zero, and the log\n",
       "link is obtained.  The default <code>lambda = 1</code> gives the identity\n",
       "link.\n",
       "</p>\n",
       "\n",
       "\n",
       "<h3>Value</h3>\n",
       "\n",
       "<p>A list with components <code>linkfun</code>, <code>linkinv</code>,\n",
       "<code>mu.eta</code>, and <code>valideta</code>.\n",
       "See <code>make.link</code> for information on their meaning.\n",
       "</p>\n",
       "\n",
       "\n",
       "<h3>References</h3>\n",
       "\n",
       "<p>Chambers, J. M. and Hastie, T. J. (1992)\n",
       "<em>Statistical Models in S.</em>\n",
       "Wadsworth &amp; Brooks/Cole.\n",
       "</p>\n",
       "\n",
       "\n",
       "<h3>See Also</h3>\n",
       "\n",
       "<p><code>make.link</code>,\n",
       "<code>family</code>\n",
       "</p>\n",
       "<p>To raise a number to a power, see <code>Arithmetic</code>.\n",
       "</p>\n",
       "<p>To calculate the power of a test, see various functions in the\n",
       "<span class=\"pkg\">stats</span> package, e.g., <code>power.t.test</code>.\n",
       "</p>\n",
       "\n",
       "\n",
       "<h3>Examples</h3>\n",
       "\n",
       "<pre>\n",
       "power()\n",
       "quasi(link = power(1/3))[c(\"linkfun\", \"linkinv\")]\n",
       "</pre>\n",
       "\n",
       "<hr /><div style=\"text-align: center;\">[Package <em>stats</em> version 4.0.2 ]</div>"
      ],
      "text/latex": [
       "\\inputencoding{utf8}\n",
       "\\HeaderA{power}{Create a Power Link Object}{power}\n",
       "\\keyword{models}{power}\n",
       "%\n",
       "\\begin{Description}\\relax\n",
       "Creates a link object based on the link function\n",
       "\\eqn{\\eta = \\mu ^ \\lambda}{}.\n",
       "\\end{Description}\n",
       "%\n",
       "\\begin{Usage}\n",
       "\\begin{verbatim}\n",
       "power(lambda = 1)\n",
       "\\end{verbatim}\n",
       "\\end{Usage}\n",
       "%\n",
       "\\begin{Arguments}\n",
       "\\begin{ldescription}\n",
       "\\item[\\code{lambda}] a real number.\n",
       "\\end{ldescription}\n",
       "\\end{Arguments}\n",
       "%\n",
       "\\begin{Details}\\relax\n",
       "If \\code{lambda} is non-positive, it is taken as zero, and the log\n",
       "link is obtained.  The default \\code{lambda = 1} gives the identity\n",
       "link.\n",
       "\\end{Details}\n",
       "%\n",
       "\\begin{Value}\n",
       "A list with components \\code{linkfun}, \\code{linkinv},\n",
       "\\code{mu.eta}, and \\code{valideta}.\n",
       "See \\code{\\LinkA{make.link}{make.link}} for information on their meaning.\n",
       "\\end{Value}\n",
       "%\n",
       "\\begin{References}\\relax\n",
       "Chambers, J. M. and Hastie, T. J. (1992)\n",
       "\\emph{Statistical Models in S.}\n",
       "Wadsworth \\& Brooks/Cole.\n",
       "\\end{References}\n",
       "%\n",
       "\\begin{SeeAlso}\\relax\n",
       "\\code{\\LinkA{make.link}{make.link}},\n",
       "\\code{\\LinkA{family}{family}}\n",
       "\n",
       "To raise a number to a power, see \\code{\\LinkA{Arithmetic}{Arithmetic}}.\n",
       "\n",
       "To calculate the power of a test, see various functions in the\n",
       "\\pkg{stats} package, e.g., \\code{\\LinkA{power.t.test}{power.t.test}}.\n",
       "\\end{SeeAlso}\n",
       "%\n",
       "\\begin{Examples}\n",
       "\\begin{ExampleCode}\n",
       "power()\n",
       "quasi(link = power(1/3))[c(\"linkfun\", \"linkinv\")]\n",
       "\\end{ExampleCode}\n",
       "\\end{Examples}"
      ],
      "text/plain": [
       "power                  package:stats                   R Documentation\n",
       "\n",
       "_\bC_\br_\be_\ba_\bt_\be _\ba _\bP_\bo_\bw_\be_\br _\bL_\bi_\bn_\bk _\bO_\bb_\bj_\be_\bc_\bt\n",
       "\n",
       "_\bD_\be_\bs_\bc_\br_\bi_\bp_\bt_\bi_\bo_\bn:\n",
       "\n",
       "     Creates a link object based on the link function eta = mu ^\n",
       "     lambda.\n",
       "\n",
       "_\bU_\bs_\ba_\bg_\be:\n",
       "\n",
       "     power(lambda = 1)\n",
       "     \n",
       "_\bA_\br_\bg_\bu_\bm_\be_\bn_\bt_\bs:\n",
       "\n",
       "  lambda: a real number.\n",
       "\n",
       "_\bD_\be_\bt_\ba_\bi_\bl_\bs:\n",
       "\n",
       "     If ‘lambda’ is non-positive, it is taken as zero, and the log link\n",
       "     is obtained.  The default ‘lambda = 1’ gives the identity link.\n",
       "\n",
       "_\bV_\ba_\bl_\bu_\be:\n",
       "\n",
       "     A list with components ‘linkfun’, ‘linkinv’, ‘mu.eta’, and\n",
       "     ‘valideta’.  See ‘make.link’ for information on their meaning.\n",
       "\n",
       "_\bR_\be_\bf_\be_\br_\be_\bn_\bc_\be_\bs:\n",
       "\n",
       "     Chambers, J. M. and Hastie, T. J. (1992) _Statistical Models in\n",
       "     S._ Wadsworth & Brooks/Cole.\n",
       "\n",
       "_\bS_\be_\be _\bA_\bl_\bs_\bo:\n",
       "\n",
       "     ‘make.link’, ‘family’\n",
       "\n",
       "     To raise a number to a power, see ‘Arithmetic’.\n",
       "\n",
       "     To calculate the power of a test, see various functions in the\n",
       "     ‘stats’ package, e.g., ‘power.t.test’.\n",
       "\n",
       "_\bE_\bx_\ba_\bm_\bp_\bl_\be_\bs:\n",
       "\n",
       "     power()\n",
       "     quasi(link = power(1/3))[c(\"linkfun\", \"linkinv\")]\n",
       "     "
      ]
     },
     "metadata": {},
     "output_type": "display_data"
    }
   ],
   "source": [
    "?power"
   ]
  },
  {
   "cell_type": "code",
   "execution_count": 78,
   "metadata": {},
   "outputs": [
    {
     "data": {
      "text/html": [
       "2"
      ],
      "text/latex": [
       "2"
      ],
      "text/markdown": [
       "2"
      ],
      "text/plain": [
       "[1] 2"
      ]
     },
     "metadata": {},
     "output_type": "display_data"
    }
   ],
   "source": [
    "sqrt(4)"
   ]
  },
  {
   "cell_type": "code",
   "execution_count": null,
   "metadata": {},
   "outputs": [],
   "source": [
    "0.5/sqrt(n)"
   ]
  },
  {
   "cell_type": "code",
   "execution_count": 84,
   "metadata": {},
   "outputs": [
    {
     "data": {
      "text/html": [
       "<table>\n",
       "<caption>A matrix: 10 × 1 of type int</caption>\n",
       "<tbody>\n",
       "\t<tr><td>1</td></tr>\n",
       "\t<tr><td>1</td></tr>\n",
       "\t<tr><td>1</td></tr>\n",
       "\t<tr><td>1</td></tr>\n",
       "\t<tr><td>1</td></tr>\n",
       "\t<tr><td>1</td></tr>\n",
       "\t<tr><td>1</td></tr>\n",
       "\t<tr><td>1</td></tr>\n",
       "\t<tr><td>1</td></tr>\n",
       "\t<tr><td>1</td></tr>\n",
       "</tbody>\n",
       "</table>\n"
      ],
      "text/latex": [
       "A matrix: 10 × 1 of type int\n",
       "\\begin{tabular}{l}\n",
       "\t 1\\\\\n",
       "\t 1\\\\\n",
       "\t 1\\\\\n",
       "\t 1\\\\\n",
       "\t 1\\\\\n",
       "\t 1\\\\\n",
       "\t 1\\\\\n",
       "\t 1\\\\\n",
       "\t 1\\\\\n",
       "\t 1\\\\\n",
       "\\end{tabular}\n"
      ],
      "text/markdown": [
       "\n",
       "A matrix: 10 × 1 of type int\n",
       "\n",
       "| 1 |\n",
       "| 1 |\n",
       "| 1 |\n",
       "| 1 |\n",
       "| 1 |\n",
       "| 1 |\n",
       "| 1 |\n",
       "| 1 |\n",
       "| 1 |\n",
       "| 1 |\n",
       "\n"
      ],
      "text/plain": [
       "      [,1]\n",
       " [1,] 1   \n",
       " [2,] 1   \n",
       " [3,] 1   \n",
       " [4,] 1   \n",
       " [5,] 1   \n",
       " [6,] 1   \n",
       " [7,] 1   \n",
       " [8,] 1   \n",
       " [9,] 1   \n",
       "[10,] 1   "
      ]
     },
     "metadata": {},
     "output_type": "display_data"
    }
   ],
   "source": [
    "matrix(sample(0:1, 2, TRUE),10)"
   ]
  },
  {
   "cell_type": "code",
   "execution_count": 86,
   "metadata": {},
   "outputs": [
    {
     "data": {
      "text/html": [
       "0.2048"
      ],
      "text/latex": [
       "0.2048"
      ],
      "text/markdown": [
       "0.2048"
      ],
      "text/plain": [
       "[1] 0.2048"
      ]
     },
     "metadata": {},
     "output_type": "display_data"
    }
   ],
   "source": [
    "choose(5,3)*0.8^3*0.2^2+choose(5,4)*0.8^4*0.2^1+choose(5,5)*0.8^5*0.2^0"
   ]
  },
  {
   "cell_type": "code",
   "execution_count": 97,
   "metadata": {},
   "outputs": [
    {
     "data": {
      "text/html": [
       "0.94208"
      ],
      "text/latex": [
       "0.94208"
      ],
      "text/markdown": [
       "0.94208"
      ],
      "text/plain": [
       "[1] 0.94208"
      ]
     },
     "metadata": {},
     "output_type": "display_data"
    }
   ],
   "source": [
    "pbinom(2, 5, 0.8, lower.tail = FALSE)"
   ]
  },
  {
   "cell_type": "code",
   "execution_count": 101,
   "metadata": {},
   "outputs": [
    {
     "data": {
      "text/html": [
       "-1.2815515655446"
      ],
      "text/latex": [
       "-1.2815515655446"
      ],
      "text/markdown": [
       "-1.2815515655446"
      ],
      "text/plain": [
       "[1] -1.281552"
      ]
     },
     "metadata": {},
     "output_type": "display_data"
    }
   ],
   "source": [
    "qnorm(0.1, 0, 1, lower.tail = TRUE, log.p=FALSE)"
   ]
  },
  {
   "cell_type": "code",
   "execution_count": 102,
   "metadata": {},
   "outputs": [
    {
     "data": {
      "text/html": [
       "1.95996398454005"
      ],
      "text/latex": [
       "1.95996398454005"
      ],
      "text/markdown": [
       "1.95996398454005"
      ],
      "text/plain": [
       "[1] 1.959964"
      ]
     },
     "metadata": {},
     "output_type": "display_data"
    }
   ],
   "source": [
    "qnorm(0.975, 0, 1)"
   ]
  },
  {
   "cell_type": "code",
   "execution_count": 105,
   "metadata": {},
   "outputs": [
    {
     "data": {
      "text/html": [
       "0.000159108590157534"
      ],
      "text/latex": [
       "0.000159108590157534"
      ],
      "text/markdown": [
       "0.000159108590157534"
      ],
      "text/plain": [
       "[1] 0.0001591086"
      ]
     },
     "metadata": {},
     "output_type": "display_data"
    }
   ],
   "source": [
    "pnorm(1200, mean = 1020, sd = 50, lower.tail = FALSE)"
   ]
  },
  {
   "cell_type": "code",
   "execution_count": 106,
   "metadata": {},
   "outputs": [
    {
     "data": {
      "text/html": [
       "0.000159108590157534"
      ],
      "text/latex": [
       "0.000159108590157534"
      ],
      "text/markdown": [
       "0.000159108590157534"
      ],
      "text/plain": [
       "[1] 0.0001591086"
      ]
     },
     "metadata": {},
     "output_type": "display_data"
    }
   ],
   "source": [
    "pnorm(3.6, 0, 1, lower.tail = FALSE)"
   ]
  },
  {
   "cell_type": "code",
   "execution_count": 109,
   "metadata": {},
   "outputs": [
    {
     "data": {
      "text/html": [
       "0.989663949324074"
      ],
      "text/latex": [
       "0.989663949324074"
      ],
      "text/markdown": [
       "0.989663949324074"
      ],
      "text/plain": [
       "[1] 0.9896639"
      ]
     },
     "metadata": {},
     "output_type": "display_data"
    }
   ],
   "source": [
    "ppois(3, lambda = 2.5*4, lower.tail = FALSE)"
   ]
  },
  {
   "cell_type": "code",
   "execution_count": 115,
   "metadata": {},
   "outputs": [
    {
     "data": {
      "text/html": [
       "0.158655253931457"
      ],
      "text/latex": [
       "0.158655253931457"
      ],
      "text/markdown": [
       "0.158655253931457"
      ],
      "text/plain": [
       "[1] 0.1586553"
      ]
     },
     "metadata": {},
     "output_type": "display_data"
    }
   ],
   "source": [
    "pnorm(70, mean = 80, sd = 10, lower.tail = TRUE)"
   ]
  },
  {
   "cell_type": "code",
   "execution_count": 117,
   "metadata": {},
   "outputs": [
    {
     "data": {
      "text/html": [
       "1223.36402202136"
      ],
      "text/latex": [
       "1223.36402202136"
      ],
      "text/markdown": [
       "1223.36402202136"
      ],
      "text/plain": [
       "[1] 1223.364"
      ]
     },
     "metadata": {},
     "output_type": "display_data"
    }
   ],
   "source": [
    "qnorm(.95, mean = 1100, sd = 75, lower.tail = TRUE)"
   ]
  },
  {
   "cell_type": "code",
   "execution_count": 121,
   "metadata": {},
   "outputs": [
    {
     "data": {
      "text/html": [
       "1112.33640220214"
      ],
      "text/latex": [
       "1112.33640220214"
      ],
      "text/markdown": [
       "1112.33640220214"
      ],
      "text/plain": [
       "[1] 1112.336"
      ]
     },
     "metadata": {},
     "output_type": "display_data"
    }
   ],
   "source": [
    "qnorm(.95, mean = 1100, sd = 75/sqrt(100), lower.tail = TRUE)"
   ]
  },
  {
   "cell_type": "code",
   "execution_count": 125,
   "metadata": {},
   "outputs": [
    {
     "data": {
      "text/html": [
       "0.1875"
      ],
      "text/latex": [
       "0.1875"
      ],
      "text/markdown": [
       "0.1875"
      ],
      "text/plain": [
       "[1] 0.1875"
      ]
     },
     "metadata": {},
     "output_type": "display_data"
    }
   ],
   "source": [
    "pbinom(3, size = 5, prob=0.5, lower.tail = FALSE)"
   ]
  },
  {
   "cell_type": "code",
   "execution_count": 128,
   "metadata": {},
   "outputs": [
    {
     "data": {
      "text/html": [
       "0.682689492137086"
      ],
      "text/latex": [
       "0.682689492137086"
      ],
      "text/markdown": [
       "0.682689492137086"
      ],
      "text/plain": [
       "[1] 0.6826895"
      ]
     },
     "metadata": {},
     "output_type": "display_data"
    }
   ],
   "source": [
    "pnorm(16, mean = 15, sd = 1) - pnorm(14, mean = 15, sd = 1)"
   ]
  },
  {
   "cell_type": "code",
   "execution_count": 127,
   "metadata": {},
   "outputs": [
    {
     "data": {
      "text/html": [
       "0.158655253931457"
      ],
      "text/latex": [
       "0.158655253931457"
      ],
      "text/markdown": [
       "0.158655253931457"
      ],
      "text/plain": [
       "[1] 0.1586553"
      ]
     },
     "metadata": {},
     "output_type": "display_data"
    }
   ],
   "source": [
    "pnorm(14, mean = 15, sd = 1)"
   ]
  },
  {
   "cell_type": "code",
   "execution_count": 135,
   "metadata": {},
   "outputs": [
    {
     "data": {
      "text/html": [
       "0.118464411529015"
      ],
      "text/latex": [
       "0.118464411529015"
      ],
      "text/markdown": [
       "0.118464411529015"
      ],
      "text/plain": [
       "[1] 0.1184644"
      ]
     },
     "metadata": {},
     "output_type": "display_data"
    }
   ],
   "source": [
    "ppois(10, 15, lower.tail = TRUE)"
   ]
  }
 ],
 "metadata": {
  "kernelspec": {
   "display_name": "R",
   "language": "R",
   "name": "ir"
  },
  "language_info": {
   "codemirror_mode": "r",
   "file_extension": ".r",
   "mimetype": "text/x-r-source",
   "name": "R",
   "pygments_lexer": "r",
   "version": "4.0.2"
  }
 },
 "nbformat": 4,
 "nbformat_minor": 4
}
