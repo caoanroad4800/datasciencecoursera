{
 "cells": [
  {
   "cell_type": "markdown",
   "metadata": {},
   "source": [
    "## Module 8: Confidence Intervals\n",
    "### 08-01: T confidence Intervals\n",
    "\n",
    "- In the previous we discussed creating a confidence interval using the CLT\n",
    "    - They took the form Est $\\pm$ ZQ $\\times$ $\\text{SE}_{\\text{Est}}$\n",
    "- Now we discuss T confidence interval, which repaces Z quantiles $ZQ$ by Student T quantiles $TQ$, which is useful for small sized samples\n",
    "    - Est $\\pm$ TQ $\\times$ $\\text{SE}_{\\text{Est}}$\n",
    "    - T statistic has thicker tails than the normal, therefore wider confidence intervals for small samples. For larger sized samples, it approaches the normal Z statistic"
   ]
  },
  {
   "cell_type": "markdown",
   "metadata": {},
   "source": [
    "- Is indexed by a degrees of freedem; gets more like a standard normal as df gets larger\n",
    "- It assumes that the underlying data are iid Gaussian with the result that\n",
    "$\\frac{\\bar{X} - \\mu}{S/\\sqrt{n}}$ follows t distribution with $n-1$ dof.\n",
    "- **Interval** is $\\bar{X} \\pm t_{n-1} S / \\sqrt{n}$, where $t_{n-1}$ is the relevant quantile"
   ]
  },
  {
   "cell_type": "markdown",
   "metadata": {},
   "source": [
    "**Notes about the t interval**\n",
    "- The t interval technicall assumes that the data are iid normal, tough it is robust to this assumption\n",
    "- It works well whenever the distribution of the data is roughly symmetric and mound shaped\n",
    "- Paired observations are often analyzed using the t interval by taking differences\n",
    "- For large degrees of freedom, t quantiles become the same as standard normal quantiles; therefore this interval converges to the same interval as the CLT yielded\n",
    "- For skewed distributions, the spirit of the t interval assumptions are violated\n",
    "    - Also, for skewed distributions, it doesnt make a lot of sense to center the interval at the mean\n",
    "    - In this case, consider taking logs or using a different summary like the median\n",
    "- For highly discrete data, like binary or Poisson, other intervals are available"
   ]
  },
  {
   "cell_type": "markdown",
   "metadata": {},
   "source": [
    "### 08-02: T confidence intervals example"
   ]
  },
  {
   "cell_type": "code",
   "execution_count": 9,
   "metadata": {},
   "outputs": [
    {
     "data": {
      "text/html": [
       "<table>\n",
       "<caption>A data.frame: 6 × 3</caption>\n",
       "<thead>\n",
       "\t<tr><th></th><th scope=col>extra</th><th scope=col>group</th><th scope=col>ID</th></tr>\n",
       "\t<tr><th></th><th scope=col>&lt;dbl&gt;</th><th scope=col>&lt;fct&gt;</th><th scope=col>&lt;fct&gt;</th></tr>\n",
       "</thead>\n",
       "<tbody>\n",
       "\t<tr><th scope=row>1</th><td> 0.7</td><td>1</td><td>1</td></tr>\n",
       "\t<tr><th scope=row>2</th><td>-1.6</td><td>1</td><td>2</td></tr>\n",
       "\t<tr><th scope=row>3</th><td>-0.2</td><td>1</td><td>3</td></tr>\n",
       "\t<tr><th scope=row>4</th><td>-1.2</td><td>1</td><td>4</td></tr>\n",
       "\t<tr><th scope=row>5</th><td>-0.1</td><td>1</td><td>5</td></tr>\n",
       "\t<tr><th scope=row>6</th><td> 3.4</td><td>1</td><td>6</td></tr>\n",
       "</tbody>\n",
       "</table>\n"
      ],
      "text/latex": [
       "A data.frame: 6 × 3\n",
       "\\begin{tabular}{r|lll}\n",
       "  & extra & group & ID\\\\\n",
       "  & <dbl> & <fct> & <fct>\\\\\n",
       "\\hline\n",
       "\t1 &  0.7 & 1 & 1\\\\\n",
       "\t2 & -1.6 & 1 & 2\\\\\n",
       "\t3 & -0.2 & 1 & 3\\\\\n",
       "\t4 & -1.2 & 1 & 4\\\\\n",
       "\t5 & -0.1 & 1 & 5\\\\\n",
       "\t6 &  3.4 & 1 & 6\\\\\n",
       "\\end{tabular}\n"
      ],
      "text/markdown": [
       "\n",
       "A data.frame: 6 × 3\n",
       "\n",
       "| <!--/--> | extra &lt;dbl&gt; | group &lt;fct&gt; | ID &lt;fct&gt; |\n",
       "|---|---|---|---|\n",
       "| 1 |  0.7 | 1 | 1 |\n",
       "| 2 | -1.6 | 1 | 2 |\n",
       "| 3 | -0.2 | 1 | 3 |\n",
       "| 4 | -1.2 | 1 | 4 |\n",
       "| 5 | -0.1 | 1 | 5 |\n",
       "| 6 |  3.4 | 1 | 6 |\n",
       "\n"
      ],
      "text/plain": [
       "  extra group ID\n",
       "1  0.7  1     1 \n",
       "2 -1.6  1     2 \n",
       "3 -0.2  1     3 \n",
       "4 -1.2  1     4 \n",
       "5 -0.1  1     5 \n",
       "6  3.4  1     6 "
      ]
     },
     "metadata": {},
     "output_type": "display_data"
    }
   ],
   "source": [
    "library(stats)\n",
    "data(sleep)\n",
    "head(sleep)"
   ]
  },
  {
   "cell_type": "code",
   "execution_count": 29,
   "metadata": {},
   "outputs": [],
   "source": [
    "g1 <- sleep$extra[1:10]\n",
    "g2 <- sleep$extra[11:20]\n",
    "difference <- g2 - g1\n",
    "mn <- mean(difference)\n",
    "s <- sd(difference)\n",
    "n <- 10"
   ]
  },
  {
   "cell_type": "code",
   "execution_count": 14,
   "metadata": {},
   "outputs": [
    {
     "data": {
      "text/html": [
       "<style>\n",
       ".list-inline {list-style: none; margin:0; padding: 0}\n",
       ".list-inline>li {display: inline-block}\n",
       ".list-inline>li:not(:last-child)::after {content: \"\\00b7\"; padding: 0 .5ex}\n",
       "</style>\n",
       "<ol class=list-inline><li>0.700114236723018</li><li>2.45988576327698</li></ol>\n"
      ],
      "text/latex": [
       "\\begin{enumerate*}\n",
       "\\item 0.700114236723018\n",
       "\\item 2.45988576327698\n",
       "\\end{enumerate*}\n"
      ],
      "text/markdown": [
       "1. 0.700114236723018\n",
       "2. 2.45988576327698\n",
       "\n",
       "\n"
      ],
      "text/plain": [
       "[1] 0.7001142 2.4598858"
      ]
     },
     "metadata": {},
     "output_type": "display_data"
    }
   ],
   "source": [
    "mn + c(-1,1) * qt(.975, n-1) * s /sqrt(n)"
   ]
  },
  {
   "cell_type": "code",
   "execution_count": 15,
   "metadata": {},
   "outputs": [
    {
     "data": {
      "text/plain": [
       "\n",
       "\tOne Sample t-test\n",
       "\n",
       "data:  difference\n",
       "t = 4.0621, df = 9, p-value = 0.002833\n",
       "alternative hypothesis: true mean is not equal to 0\n",
       "95 percent confidence interval:\n",
       " 0.7001142 2.4598858\n",
       "sample estimates:\n",
       "mean of x \n",
       "     1.58 \n"
      ]
     },
     "metadata": {},
     "output_type": "display_data"
    }
   ],
   "source": [
    "t.test(difference)"
   ]
  },
  {
   "cell_type": "code",
   "execution_count": 16,
   "metadata": {},
   "outputs": [
    {
     "data": {
      "text/plain": [
       "\n",
       "\tPaired t-test\n",
       "\n",
       "data:  g2 and g1\n",
       "t = 4.0621, df = 9, p-value = 0.002833\n",
       "alternative hypothesis: true difference in means is not equal to 0\n",
       "95 percent confidence interval:\n",
       " 0.7001142 2.4598858\n",
       "sample estimates:\n",
       "mean of the differences \n",
       "                   1.58 \n"
      ]
     },
     "metadata": {},
     "output_type": "display_data"
    }
   ],
   "source": [
    "t.test(g2, g1, paired = TRUE)"
   ]
  },
  {
   "cell_type": "code",
   "execution_count": 17,
   "metadata": {},
   "outputs": [
    {
     "data": {
      "text/plain": [
       "\n",
       "\tPaired t-test\n",
       "\n",
       "data:  extra by I(relevel(group, 2))\n",
       "t = 4.0621, df = 9, p-value = 0.002833\n",
       "alternative hypothesis: true difference in means is not equal to 0\n",
       "95 percent confidence interval:\n",
       " 0.7001142 2.4598858\n",
       "sample estimates:\n",
       "mean of the differences \n",
       "                   1.58 \n"
      ]
     },
     "metadata": {},
     "output_type": "display_data"
    }
   ],
   "source": [
    "t.test(extra ~ I(relevel(group, 2)), paired = TRUE, data = sleep)"
   ]
  },
  {
   "cell_type": "markdown",
   "metadata": {},
   "source": [
    "### 08-03: Independent group T intervals\n",
    "\n",
    "- Supose that we want to compare the mean blood pressure between 2 groups in a randomized trial; those who received the treatment to those who received a placebo\n",
    "- We cannot use the paired t test because the groups are independent and may have different sample sizes\n",
    "- A $\\left( 1-\\alpha \\right) \\times 100\\%$ confidence interval for $\\mu_y - \\mu_x$ is  $\\bar{Y} - \\bar{X} \\pm t_{\\left( n_{x} + n_{y}-2, \\, (1-\\alpha/2) \\right)} S_{p} \\left(\\frac{1}{n_{x}} +  \\frac{1}{n_{y}}\\right)^{1/2}$\n",
    "- **Variance estimator (pooled variance)**: $S_{p}^{2} = \\left\\{ (n_{x} - 1 ) S_{x}^{2} + (n_{y}-1 ) S_{y}^{2} \\right\\} / (n_{x} + n_{y} - 2)$\n",
    "- Remember the interval is assuming a constant variance across the two groups\n",
    "- If there is some doubt, assume a different variance per group, to be discussed later"
   ]
  },
  {
   "cell_type": "markdown",
   "metadata": {},
   "source": [
    "*Example*\n",
    "- Comparing SBP for 8 oral contraceptive users versus 21 controls\n",
    "- $\\bar{X}_{OC}$ = 132.86 mmHg with $s_{OC}$ = 15.34 mmHg\n",
    "- $\\bar{X}_{C}$ = 127.44 mmHg with $s_{C}$ = 18.23 mmHg\n",
    "- Pooled variance estimate"
   ]
  },
  {
   "cell_type": "code",
   "execution_count": 20,
   "metadata": {},
   "outputs": [
    {
     "data": {
      "text/html": [
       "<style>\n",
       ".list-inline {list-style: none; margin:0; padding: 0}\n",
       ".list-inline>li {display: inline-block}\n",
       ".list-inline>li:not(:last-child)::after {content: \"\\00b7\"; padding: 0 .5ex}\n",
       "</style>\n",
       "<ol class=list-inline><li>-9.52109748379618</li><li>20.3610974837962</li></ol>\n"
      ],
      "text/latex": [
       "\\begin{enumerate*}\n",
       "\\item -9.52109748379618\n",
       "\\item 20.3610974837962\n",
       "\\end{enumerate*}\n"
      ],
      "text/markdown": [
       "1. -9.52109748379618\n",
       "2. 20.3610974837962\n",
       "\n",
       "\n"
      ],
      "text/plain": [
       "[1] -9.521097 20.361097"
      ]
     },
     "metadata": {},
     "output_type": "display_data"
    }
   ],
   "source": [
    "sp <- sqrt(((8-1) * 15.34^2 + (21-1) * 18.23^2)/(8 + 21 - 2))\n",
    "(132.86-127.44) + c(-1,1) * qt(.975, (8+21-2)) * sp * sqrt(1/8 + 1/21)"
   ]
  },
  {
   "cell_type": "markdown",
   "metadata": {},
   "source": [
    "*Example*: Mistakenly treating the sleep data as grouped"
   ]
  },
  {
   "cell_type": "code",
   "execution_count": 27,
   "metadata": {},
   "outputs": [
    {
     "data": {
      "text/html": [
       "1.78900965775916"
      ],
      "text/latex": [
       "1.78900965775916"
      ],
      "text/markdown": [
       "1.78900965775916"
      ],
      "text/plain": [
       "[1] 1.78901"
      ]
     },
     "metadata": {},
     "output_type": "display_data"
    }
   ],
   "source": [
    "sd(g1)"
   ]
  },
  {
   "cell_type": "code",
   "execution_count": 30,
   "metadata": {},
   "outputs": [
    {
     "ename": "ERROR",
     "evalue": "Error in is.data.frame(x): object 'x1' not found\n",
     "output_type": "error",
     "traceback": [
      "Error in is.data.frame(x): object 'x1' not found\nTraceback:\n",
      "1. sd(x1)",
      "2. var(if (is.vector(x) || is.factor(x)) x else as.double(x), na.rm = na.rm)",
      "3. is.data.frame(x)"
     ]
    }
   ],
   "source": [
    "n1 <- length(g1)\n",
    "n2 <- length(g2)\n",
    "sp <- ((n1-1) * sd(x1)^2 + (n2-1) * sd(x2)^2) / (n1 + n2 - 2)\n",
    "md <- mean(g2) - mean(g1)\n",
    "semd <- sp * sqrt(1 / n1 + 1 / n2)\n",
    "rbind(\n",
    "    md + c(-1,1) * qt(0.975, n1+n2-2) * semd,\n",
    "    t.test(g2, g1, paired = FALSE, var.equal = TRUE)$conf,\n",
    "    t.test(g2, g1, paired = TRUE)$conf\n",
    ")"
   ]
  },
  {
   "cell_type": "markdown",
   "metadata": {},
   "source": [
    "*Example*:ChickWeight data in R"
   ]
  },
  {
   "cell_type": "code",
   "execution_count": 54,
   "metadata": {},
   "outputs": [],
   "source": [
    "#?dcast"
   ]
  },
  {
   "cell_type": "code",
   "execution_count": 44,
   "metadata": {},
   "outputs": [],
   "source": [
    "library(datasets)\n",
    "library(reshape2)\n",
    "library(dplyr)\n",
    "data(ChickWeight)\n",
    "# define weight gain or loss\n",
    "wideCW <- dcast(ChickWeight, Diet + Chick ~ Time, value.var='weight')\n",
    "names(wideCW)[-(1:2)] <- paste(\"time\", names(wideCW)[-(1:2)], sep = \"\")\n",
    "wideCW <- mutate(wideCW\n",
    "                , gain = time21- time0\n",
    "                )"
   ]
  },
  {
   "cell_type": "code",
   "execution_count": 45,
   "metadata": {},
   "outputs": [
    {
     "data": {
      "text/html": [
       "<table>\n",
       "<caption>A data.frame: 6 × 15</caption>\n",
       "<thead>\n",
       "\t<tr><th></th><th scope=col>Diet</th><th scope=col>Chick</th><th scope=col>time0</th><th scope=col>time2</th><th scope=col>time4</th><th scope=col>time6</th><th scope=col>time8</th><th scope=col>time10</th><th scope=col>time12</th><th scope=col>time14</th><th scope=col>time16</th><th scope=col>time18</th><th scope=col>time20</th><th scope=col>time21</th><th scope=col>gain</th></tr>\n",
       "\t<tr><th></th><th scope=col>&lt;fct&gt;</th><th scope=col>&lt;ord&gt;</th><th scope=col>&lt;dbl&gt;</th><th scope=col>&lt;dbl&gt;</th><th scope=col>&lt;dbl&gt;</th><th scope=col>&lt;dbl&gt;</th><th scope=col>&lt;dbl&gt;</th><th scope=col>&lt;dbl&gt;</th><th scope=col>&lt;dbl&gt;</th><th scope=col>&lt;dbl&gt;</th><th scope=col>&lt;dbl&gt;</th><th scope=col>&lt;dbl&gt;</th><th scope=col>&lt;dbl&gt;</th><th scope=col>&lt;dbl&gt;</th><th scope=col>&lt;dbl&gt;</th></tr>\n",
       "</thead>\n",
       "<tbody>\n",
       "\t<tr><th scope=row>1</th><td>1</td><td>18</td><td>39</td><td>35</td><td>NA</td><td>NA</td><td>NA</td><td>NA</td><td>NA</td><td>NA</td><td>NA</td><td> NA</td><td> NA</td><td> NA</td><td>NA</td></tr>\n",
       "\t<tr><th scope=row>2</th><td>1</td><td>16</td><td>41</td><td>45</td><td>49</td><td>51</td><td>57</td><td>51</td><td>54</td><td>NA</td><td>NA</td><td> NA</td><td> NA</td><td> NA</td><td>NA</td></tr>\n",
       "\t<tr><th scope=row>3</th><td>1</td><td>15</td><td>41</td><td>49</td><td>56</td><td>64</td><td>68</td><td>68</td><td>67</td><td>68</td><td>NA</td><td> NA</td><td> NA</td><td> NA</td><td>NA</td></tr>\n",
       "\t<tr><th scope=row>4</th><td>1</td><td>13</td><td>41</td><td>48</td><td>53</td><td>60</td><td>65</td><td>67</td><td>71</td><td>70</td><td>71</td><td> 81</td><td> 91</td><td> 96</td><td>55</td></tr>\n",
       "\t<tr><th scope=row>5</th><td>1</td><td>9 </td><td>42</td><td>51</td><td>59</td><td>68</td><td>85</td><td>96</td><td>90</td><td>92</td><td>93</td><td>100</td><td>100</td><td> 98</td><td>56</td></tr>\n",
       "\t<tr><th scope=row>6</th><td>1</td><td>20</td><td>41</td><td>47</td><td>54</td><td>58</td><td>65</td><td>73</td><td>77</td><td>89</td><td>98</td><td>107</td><td>115</td><td>117</td><td>76</td></tr>\n",
       "</tbody>\n",
       "</table>\n"
      ],
      "text/latex": [
       "A data.frame: 6 × 15\n",
       "\\begin{tabular}{r|lllllllllllllll}\n",
       "  & Diet & Chick & time0 & time2 & time4 & time6 & time8 & time10 & time12 & time14 & time16 & time18 & time20 & time21 & gain\\\\\n",
       "  & <fct> & <ord> & <dbl> & <dbl> & <dbl> & <dbl> & <dbl> & <dbl> & <dbl> & <dbl> & <dbl> & <dbl> & <dbl> & <dbl> & <dbl>\\\\\n",
       "\\hline\n",
       "\t1 & 1 & 18 & 39 & 35 & NA & NA & NA & NA & NA & NA & NA &  NA &  NA &  NA & NA\\\\\n",
       "\t2 & 1 & 16 & 41 & 45 & 49 & 51 & 57 & 51 & 54 & NA & NA &  NA &  NA &  NA & NA\\\\\n",
       "\t3 & 1 & 15 & 41 & 49 & 56 & 64 & 68 & 68 & 67 & 68 & NA &  NA &  NA &  NA & NA\\\\\n",
       "\t4 & 1 & 13 & 41 & 48 & 53 & 60 & 65 & 67 & 71 & 70 & 71 &  81 &  91 &  96 & 55\\\\\n",
       "\t5 & 1 & 9  & 42 & 51 & 59 & 68 & 85 & 96 & 90 & 92 & 93 & 100 & 100 &  98 & 56\\\\\n",
       "\t6 & 1 & 20 & 41 & 47 & 54 & 58 & 65 & 73 & 77 & 89 & 98 & 107 & 115 & 117 & 76\\\\\n",
       "\\end{tabular}\n"
      ],
      "text/markdown": [
       "\n",
       "A data.frame: 6 × 15\n",
       "\n",
       "| <!--/--> | Diet &lt;fct&gt; | Chick &lt;ord&gt; | time0 &lt;dbl&gt; | time2 &lt;dbl&gt; | time4 &lt;dbl&gt; | time6 &lt;dbl&gt; | time8 &lt;dbl&gt; | time10 &lt;dbl&gt; | time12 &lt;dbl&gt; | time14 &lt;dbl&gt; | time16 &lt;dbl&gt; | time18 &lt;dbl&gt; | time20 &lt;dbl&gt; | time21 &lt;dbl&gt; | gain &lt;dbl&gt; |\n",
       "|---|---|---|---|---|---|---|---|---|---|---|---|---|---|---|---|\n",
       "| 1 | 1 | 18 | 39 | 35 | NA | NA | NA | NA | NA | NA | NA |  NA |  NA |  NA | NA |\n",
       "| 2 | 1 | 16 | 41 | 45 | 49 | 51 | 57 | 51 | 54 | NA | NA |  NA |  NA |  NA | NA |\n",
       "| 3 | 1 | 15 | 41 | 49 | 56 | 64 | 68 | 68 | 67 | 68 | NA |  NA |  NA |  NA | NA |\n",
       "| 4 | 1 | 13 | 41 | 48 | 53 | 60 | 65 | 67 | 71 | 70 | 71 |  81 |  91 |  96 | 55 |\n",
       "| 5 | 1 | 9  | 42 | 51 | 59 | 68 | 85 | 96 | 90 | 92 | 93 | 100 | 100 |  98 | 56 |\n",
       "| 6 | 1 | 20 | 41 | 47 | 54 | 58 | 65 | 73 | 77 | 89 | 98 | 107 | 115 | 117 | 76 |\n",
       "\n"
      ],
      "text/plain": [
       "  Diet Chick time0 time2 time4 time6 time8 time10 time12 time14 time16 time18\n",
       "1 1    18    39    35    NA    NA    NA    NA     NA     NA     NA      NA   \n",
       "2 1    16    41    45    49    51    57    51     54     NA     NA      NA   \n",
       "3 1    15    41    49    56    64    68    68     67     68     NA      NA   \n",
       "4 1    13    41    48    53    60    65    67     71     70     71      81   \n",
       "5 1    9     42    51    59    68    85    96     90     92     93     100   \n",
       "6 1    20    41    47    54    58    65    73     77     89     98     107   \n",
       "  time20 time21 gain\n",
       "1  NA     NA    NA  \n",
       "2  NA     NA    NA  \n",
       "3  NA     NA    NA  \n",
       "4  91     96    55  \n",
       "5 100     98    56  \n",
       "6 115    117    76  "
      ]
     },
     "metadata": {},
     "output_type": "display_data"
    }
   ],
   "source": [
    "head(wideCW)"
   ]
  },
  {
   "cell_type": "code",
   "execution_count": 46,
   "metadata": {},
   "outputs": [
    {
     "data": {
      "text/html": [
       "<table>\n",
       "<caption>A nfnGroupedData: 6 × 4</caption>\n",
       "<thead>\n",
       "\t<tr><th></th><th scope=col>weight</th><th scope=col>Time</th><th scope=col>Chick</th><th scope=col>Diet</th></tr>\n",
       "\t<tr><th></th><th scope=col>&lt;dbl&gt;</th><th scope=col>&lt;dbl&gt;</th><th scope=col>&lt;ord&gt;</th><th scope=col>&lt;fct&gt;</th></tr>\n",
       "</thead>\n",
       "<tbody>\n",
       "\t<tr><th scope=row>1</th><td>42</td><td> 0</td><td>1</td><td>1</td></tr>\n",
       "\t<tr><th scope=row>2</th><td>51</td><td> 2</td><td>1</td><td>1</td></tr>\n",
       "\t<tr><th scope=row>3</th><td>59</td><td> 4</td><td>1</td><td>1</td></tr>\n",
       "\t<tr><th scope=row>4</th><td>64</td><td> 6</td><td>1</td><td>1</td></tr>\n",
       "\t<tr><th scope=row>5</th><td>76</td><td> 8</td><td>1</td><td>1</td></tr>\n",
       "\t<tr><th scope=row>6</th><td>93</td><td>10</td><td>1</td><td>1</td></tr>\n",
       "</tbody>\n",
       "</table>\n"
      ],
      "text/latex": [
       "A nfnGroupedData: 6 × 4\n",
       "\\begin{tabular}{r|llll}\n",
       "  & weight & Time & Chick & Diet\\\\\n",
       "  & <dbl> & <dbl> & <ord> & <fct>\\\\\n",
       "\\hline\n",
       "\t1 & 42 &  0 & 1 & 1\\\\\n",
       "\t2 & 51 &  2 & 1 & 1\\\\\n",
       "\t3 & 59 &  4 & 1 & 1\\\\\n",
       "\t4 & 64 &  6 & 1 & 1\\\\\n",
       "\t5 & 76 &  8 & 1 & 1\\\\\n",
       "\t6 & 93 & 10 & 1 & 1\\\\\n",
       "\\end{tabular}\n"
      ],
      "text/markdown": [
       "\n",
       "A nfnGroupedData: 6 × 4\n",
       "\n",
       "| <!--/--> | weight &lt;dbl&gt; | Time &lt;dbl&gt; | Chick &lt;ord&gt; | Diet &lt;fct&gt; |\n",
       "|---|---|---|---|---|\n",
       "| 1 | 42 |  0 | 1 | 1 |\n",
       "| 2 | 51 |  2 | 1 | 1 |\n",
       "| 3 | 59 |  4 | 1 | 1 |\n",
       "| 4 | 64 |  6 | 1 | 1 |\n",
       "| 5 | 76 |  8 | 1 | 1 |\n",
       "| 6 | 93 | 10 | 1 | 1 |\n",
       "\n"
      ],
      "text/plain": [
       "  weight Time Chick Diet\n",
       "1 42      0   1     1   \n",
       "2 51      2   1     1   \n",
       "3 59      4   1     1   \n",
       "4 64      6   1     1   \n",
       "5 76      8   1     1   \n",
       "6 93     10   1     1   "
      ]
     },
     "metadata": {},
     "output_type": "display_data"
    }
   ],
   "source": [
    "head(ChickWeight)"
   ]
  },
  {
   "cell_type": "code",
   "execution_count": 53,
   "metadata": {},
   "outputs": [
    {
     "data": {
      "text/html": [
       "<table>\n",
       "<caption>A matrix: 2 × 2 of type dbl</caption>\n",
       "<tbody>\n",
       "\t<tr><td>-26.20682</td><td>89.87349</td></tr>\n",
       "\t<tr><td>-25.30020</td><td>88.96686</td></tr>\n",
       "</tbody>\n",
       "</table>\n"
      ],
      "text/latex": [
       "A matrix: 2 × 2 of type dbl\n",
       "\\begin{tabular}{ll}\n",
       "\t -26.20682 & 89.87349\\\\\n",
       "\t -25.30020 & 88.96686\\\\\n",
       "\\end{tabular}\n"
      ],
      "text/markdown": [
       "\n",
       "A matrix: 2 × 2 of type dbl\n",
       "\n",
       "| -26.20682 | 89.87349 |\n",
       "| -25.30020 | 88.96686 |\n",
       "\n"
      ],
      "text/plain": [
       "     [,1]      [,2]    \n",
       "[1,] -26.20682 89.87349\n",
       "[2,] -25.30020 88.96686"
      ]
     },
     "metadata": {},
     "output_type": "display_data"
    }
   ],
   "source": [
    "wideCW14 <- subset(wideCW, Diet %in% c(3,4))\n",
    "rbind(\n",
    "    t.test(gain ~ Diet, paired = FALSE, var.equal = TRUE, data = wideCW14)$conf\n",
    "    , t.test(gain ~ Diet, paired = FALSE, var.equal = FALSE, data = wideCW14)$conf\n",
    ")"
   ]
  },
  {
   "cell_type": "markdown",
   "metadata": {},
   "source": [
    "### 08-04: A note on uneqal variances\n",
    "\n",
    "Use argument `var.equal = FALSE` in `t.test()` function"
   ]
  },
  {
   "cell_type": "markdown",
   "metadata": {},
   "source": [
    "## Hypothesis testing\n",
    "### 09-01: Hypothesis testing\n",
    "\n",
    "- Hypothesis testing is concerned with making decisions using data\n",
    "- A **null hypothesis** is specified that represents the status quo, usually habeled $H_0$\n",
    "- The **null hypothesis** is assumed true and statistical evidence is requied to reject it in favor of a research or alternative hypothesis"
   ]
  },
  {
   "cell_type": "markdown",
   "metadata": {},
   "source": [
    "*Example*\n",
    "- A respiratory (呼吸的) disturbance index (RDI) of more than 30 events/hour, say, is considered evidence of severe sleep disordered brathing (SDB)\n",
    "- Suppose that in a sample of 100 overweight subjects with other risk factors for SDB at a sleep clinic, the mean RDI was 32 events / hour with a standard deviation of 10 events / hour\n",
    "- We might want to test the hypothesis that\n",
    "    - $H_0$: $\\mu$ = 30\n",
    "    - $H_{a}$: $\\mu > 30$\n",
    "    - where $\\mu$ is the population mean RDI"
   ]
  },
  {
   "cell_type": "markdown",
   "metadata": {},
   "source": [
    "**Outcomes**\n",
    "- The alternative hypotheses are typically of the form <, >, or $\\neq$\n",
    "- Note that there are 4 possible outcomes of our statistical decision process\n",
    "\n",
    "|  TRUTH   | DECIDE  |  RESULT  |\n",
    "|  ----  | ----  | ---- |\n",
    "| $H_{0}$  | $H_{0}$ | Correctly accpet null |\n",
    "| $H_{0}$  | $H_{a}$ | Type I error: **REJECT** a **TRUE** null hypothesis -- We fail to reject $H_0$:  $H_0$ could be true or we just dont have enough data to reject it |\n",
    "| $H_{a}$  | $H_{a}$ | Correctly reject null |\n",
    "| $H_{a}$  | $H_{0}$ | Type II error: **ACCEPT** a **FALSE** null hypothesis $H_0$ |\n",
    "\n",
    "- Consider a court of law: the null hypothesis is that the defendant is innocent\n",
    "- We require a standard on the available evidence to reject the null hypothesis (convict)\n",
    "- If we set a low standard, then we would increase the percentage of innocent people convicted (**type I errors**); however we would also increase the percentage of guilty people convicted (**correctly rejecting the null**)\n",
    "- If we set a high standard, then we increase the percentage of innocent people let free (**correctly accepting the null**) while we would also increase the percentage of guilty people let free (**type II errors**)"
   ]
  },
  {
   "cell_type": "markdown",
   "metadata": {},
   "source": [
    "### 09-02: Example of choosing a rejection region\n",
    "*Example*\n",
    "- Sleep data again\n",
    "- A reasonable strategy would reject the null hypothesis if $\\bar{X}$ was larger than some constant, C\n",
    "- Typically, C is chosen so that the probability of a Type I error, $\\alpha$ is 0.05 (or some other relevant constant)\n",
    "- $\\alpha$ = Type I error rate = Probability of rejecting the null hypothesis when, in fact, the hypothesis is correct\n",
    "\n",
    "*Example*\n",
    "- standard error of the mean $10/\\sqrt{100} = 1$\n",
    "- Under $H_0: \\, \\bar{X} \\sim \\mathcal{N} \\left( 30, 1 \\right)$\n",
    "- We want to choose $C$ so that the $P(\\bar{X} > C; H_0)$ is 5%\n",
    "- The 95th percentile of a normal distribution is 1.645 standard deviations from the mean\n",
    "- If $C = 30 + 1 \\times 1.645 = 31.645$, we will achive a cut point, so that the probability that a randomly drawn mean from this population is larger than this, is 5%\n",
    "    - Then the probability that a $\\mathcal{N}(30, 1)$ is larger than it, is $5\\%$\n",
    "    - So the rule \"Reject $H_{0}$ when $\\bar{X} \\ge 31.645$\" has the property that the probability of rejection is 5% when $H_{0}$ is true (for the $\\mu_{0}, \\, \\sigma$ and $n$ given)\n",
    "    \n",
    "**Discussion**\n",
    "- In general we dont convert C back to the original scale\n",
    "- We would just reject because the $Z-score$, which is how many standard errors the sample mean is above the hypothesized mean   \n",
    "$(32-30)/(10/\\sqrt{100}) = 2$  \n",
    "is greater than 1.645\n",
    "- Or, whenever $\\sqrt{n} \\left( \\bar{X} - \\mu_{0} \\right) / s > Z_{1-\\alpha}$"
   ]
  },
  {
   "cell_type": "code",
   "execution_count": 1,
   "metadata": {},
   "outputs": [],
   "source": [
    "#?qt"
   ]
  },
  {
   "cell_type": "markdown",
   "metadata": {},
   "source": [
    "### 09-02: T tests\n",
    "- Consider our example again. Suppose $n=16$ (rather than 100)\n",
    "- The statistic  \n",
    "$\\frac{\\bar{X} - 30}{s / \\sqrt{16}}$  \n",
    "follows a T distribution with 15 df under $H_0$\n",
    "- $H_0: \\mu=30$, $H_a: \\mu > 30$\n",
    "- Under $H_0$ the probability that it is larger than the 95th percentile of the T distribution is 5%\n",
    "- The 95th percentile of the T distribution with 15 df is 1.7531 `qt(.95, 15)`\n",
    "- So that our test statistic is now $\\sqrt{16} (32-30) / 10 = 0.8$\n",
    "- We now fail to reject, since 0.8 < 1.75"
   ]
  },
  {
   "cell_type": "markdown",
   "metadata": {},
   "source": [
    "**Two sided tests**\n",
    "- Suppose that we would reject the null hypothesis if in fact the mean was too large or too small\n",
    "- i.e. we want to test the alternative $H_{a}: \\mu \\neq 30$\n",
    "- We will reject if the test statistic 0.8, is either too large or too small\n",
    "- Then we want the probability of rejecting under the null to be 5%, split equally as 2.5% in the upper tail and 2.5 in the lower tail\n",
    "- Thus we reject if our test statistic is larger than `qt(0.975, 15)` or smaller than `qt(0.025, 15)`\n",
    "    - This is the same as saying: reject if the absolute value of our statistic is larger than `qt(0.975, 15) = 2.1314\n",
    "    - So we fail to reject the two sided test as well\n",
    "    - (if you fail to reject the one sided test, you know that you will fail to reject the two sided)"
   ]
  },
  {
   "cell_type": "markdown",
   "metadata": {},
   "source": [
    "#### T test in R"
   ]
  },
  {
   "cell_type": "code",
   "execution_count": 2,
   "metadata": {},
   "outputs": [
    {
     "name": "stderr",
     "output_type": "stream",
     "text": [
      "Loading required package: MASS\n",
      "\n",
      "Loading required package: HistData\n",
      "\n",
      "Loading required package: Hmisc\n",
      "\n",
      "Loading required package: lattice\n",
      "\n",
      "Loading required package: survival\n",
      "\n",
      "Loading required package: Formula\n",
      "\n",
      "Loading required package: ggplot2\n",
      "\n",
      "\n",
      "Attaching package: ‘Hmisc’\n",
      "\n",
      "\n",
      "The following objects are masked from ‘package:base’:\n",
      "\n",
      "    format.pval, units\n",
      "\n",
      "\n",
      "\n",
      "Attaching package: ‘UsingR’\n",
      "\n",
      "\n",
      "The following object is masked from ‘package:survival’:\n",
      "\n",
      "    cancer\n",
      "\n",
      "\n"
     ]
    },
    {
     "data": {
      "text/plain": [
       "\n",
       "\tOne Sample t-test\n",
       "\n",
       "data:  father.son$sheight - father.son$fheight\n",
       "t = 11.789, df = 1077, p-value < 2.2e-16\n",
       "alternative hypothesis: true mean is not equal to 0\n",
       "95 percent confidence interval:\n",
       " 0.8310296 1.1629160\n",
       "sample estimates:\n",
       "mean of x \n",
       "0.9969728 \n"
      ]
     },
     "metadata": {},
     "output_type": "display_data"
    },
    {
     "data": {
      "text/plain": [
       "\n",
       "\tPaired t-test\n",
       "\n",
       "data:  father.son$sheight and father.son$fheight\n",
       "t = 11.789, df = 1077, p-value < 2.2e-16\n",
       "alternative hypothesis: true difference in means is not equal to 0\n",
       "95 percent confidence interval:\n",
       " 0.8310296 1.1629160\n",
       "sample estimates:\n",
       "mean of the differences \n",
       "              0.9969728 \n"
      ]
     },
     "metadata": {},
     "output_type": "display_data"
    }
   ],
   "source": [
    "library(UsingR)\n",
    "data(father.son)\n",
    "# compare father's height, paired with son's height\n",
    "t.test(father.son$sheight - father.son$fheight)\n",
    "# equivalent to \n",
    "t.test(father.son$sheight, father.son$fheight, paired = TRUE)"
   ]
  },
  {
   "cell_type": "markdown",
   "metadata": {},
   "source": [
    "### 09-04: Two group testing\n",
    "**Connections with confidence intervals**\n",
    "- Consider testing $H_0: \\mu = \\mu_{0}$ versus $H_a: \\mu \\neq \\mu_{0}$\n",
    "- Take the set of all possible values for which you fail to reject $H_{0}$, this set is a $(1 - \\alpha) 100\\%$ confidence interval for $\\mu$\n",
    "- The same works in reverse; if a $(1-\\alpha) 100\\%$ interval contains $\\mu_{0}$, then we *fail* to reject $H_{0}$  \n",
    "\n",
    "**Two group intervals**  \n",
    "- First, now you know how to do 2 group T tests since we already convered independent group T intervals\n",
    "- Rejection rules are the same\n",
    "- Test $H_{0}: \\mu_{1} = \\mu_{2}$\n",
    "- Let's just go through an example\n"
   ]
  },
  {
   "cell_type": "markdown",
   "metadata": {},
   "source": [
    "*Exact binomial test*\n",
    "- Recall this problem, suppose a friend has 8 children, 7 of which are girls and none are twins\n",
    "- Perform the relevant hypothesis test. $H_0 : p = 0.5$, $H_{a}:p > 0.5$\n",
    "    - What is the relevant rejection region so that the probability of rejecting is (less than) 5%?"
   ]
  },
  {
   "cell_type": "markdown",
   "metadata": {},
   "source": [
    "## Module 10: P values\n",
    "\n",
    "P-values are a convenient way to communicate the results of a hypothesis test. When communicating a P-value, the reader can perform the test at whatever Type I error rate that they would like. Just compare the P-value to the desired Type I error rate and if the P-value is smaller, reject the null hypothesis.\n",
    "\n",
    "Formally, the P-value is the probability of getting data as or more extreme than the observed data in favor of the alternative. The probability calculation is done assuming that the null is true. In other words if we get a very large T statistic the P-value answers the question \"How likely would it be to get a statistic this large or larger if the null was actually true?\". If the answer to that question is \"very unlikely\", in other words the P-value is very small, then it sheds doubt on the null being true, since you actually observed a statistic that extreme."
   ]
  },
  {
   "cell_type": "markdown",
   "metadata": {},
   "source": [
    "**P-values**\n",
    "- Most common measure of statistical significance\n",
    "- Their ubiquity, along with concern over their interpretation and use makes them controversial among statisticians\n",
    "- **Idea**: Suppose nothing is going on - how unusual is it to see the estimate we got?\n",
    "- **Approach**: 3 steps  \n",
    "    - Define the hypothetical distribution of a data summary(statistic) when \"nothing is going on\" (null hypothesis)\n",
    "    - Calculate the summary/statistic with the data we have (test statistic)\n",
    "    - Compare what we calculated to our hypothetical distribution and see if the value is \"extreme\" (p-value)\n",
    "    - If the p value is small, then the probability of observing a test statistic as extreme as we saw, is low if the null hypothesis were true"
   ]
  },
  {
   "cell_type": "markdown",
   "metadata": {},
   "source": [
    "**P-values**\n",
    "- Definition: the P-value is the probability under the null hypothesis of obtaining evidence as extreme or more extreme than that obtained\n",
    "- If the p value is small, then either $H_{0}$ is true, and we have observed a rare event, or $H_{0}$ is false\n",
    "- *Example*: Suppose that you get a T statistic of 2.5 for 15 df testing: $H_{0}: \\mu = mu_{0}$ versus $H_{a}: \\mu > \\mu_{0}$\n",
    "    - What is the probability of getting a T statistic as large as 2.5? --> 1.2%"
   ]
  },
  {
   "cell_type": "code",
   "execution_count": 62,
   "metadata": {},
   "outputs": [
    {
     "data": {
      "text/html": [
       "0.0122529016232569"
      ],
      "text/latex": [
       "0.0122529016232569"
      ],
      "text/markdown": [
       "0.0122529016232569"
      ],
      "text/plain": [
       "[1] 0.0122529"
      ]
     },
     "metadata": {},
     "output_type": "display_data"
    }
   ],
   "source": [
    "pt(2.5, 15, lower.tail = FALSE)"
   ]
  },
  {
   "cell_type": "markdown",
   "metadata": {},
   "source": [
    "**The Attained significance level**\n",
    "- Our test statistic was 2 for $H_{0}: \\mu = 30$ versus $H_{a}: \\mu > 30$\n",
    "- Notice that we rejected the one sided test when $\\alpha = 0.05$, would we reject if $\\alpha = 0.01$, how about $0.001$?"
   ]
  },
  {
   "cell_type": "markdown",
   "metadata": {},
   "source": [
    "**Notes**\n",
    "- By reporting a P-value the reader can perform the hypothesis test at whatever $\\alpha$ level he or she chooses\n",
    "- If the P-value is less than $\\alpha$ you reject the null hypothesis\n",
    "- If the P-value is greater than $\\alpha$ you fail to reject the null hypothesis\n",
    "- For two-sided hypothesis test, double the smaller of the two one-sided hypothesis test P-values"
   ]
  },
  {
   "cell_type": "markdown",
   "metadata": {},
   "source": [
    "### 10-02: P-value further examples\n",
    "*Example*: suppose a friend has 8 children, 7 of which are girls and none are twiens. If each gender has an independent 50% probability for each birth, what's the probability of getting 7 or more girls out of 8 births?\n",
    "- Null hypothesis & alternative: $H_{0}: p = 0.5$ versus $H_{a}: p > 0.5$"
   ]
  },
  {
   "cell_type": "code",
   "execution_count": 63,
   "metadata": {},
   "outputs": [
    {
     "data": {
      "text/html": [
       "0.03515625"
      ],
      "text/latex": [
       "0.03515625"
      ],
      "text/markdown": [
       "0.03515625"
      ],
      "text/plain": [
       "[1] 0.03515625"
      ]
     },
     "metadata": {},
     "output_type": "display_data"
    }
   ],
   "source": [
    "choose(8,7) * 0.5^8 + choose(8,8) * 0.5^8"
   ]
  },
  {
   "cell_type": "code",
   "execution_count": 66,
   "metadata": {},
   "outputs": [
    {
     "data": {
      "text/html": [
       "0.03515625"
      ],
      "text/latex": [
       "0.03515625"
      ],
      "text/markdown": [
       "0.03515625"
      ],
      "text/plain": [
       "[1] 0.03515625"
      ]
     },
     "metadata": {},
     "output_type": "display_data"
    }
   ],
   "source": [
    "pbinom(6, size = 8, prob = 0.5, lower.tail = FALSE)"
   ]
  },
  {
   "cell_type": "markdown",
   "metadata": {},
   "source": [
    "we would reject at 5% level  \n",
    "we would reject at 4% level  \n",
    "we would not reject at an type 1 error rate of 3%  "
   ]
  },
  {
   "cell_type": "markdown",
   "metadata": {},
   "source": [
    "2-sided problem: $H_{0}: p = 0.5$ versus $H_{a}: p \\neq 0.5$\n",
    "- calculate 2 one-sided p-values \n",
    "    - the probability of being 7 or larger\n",
    "    - the probability of being 7 or smaller\n",
    "- take those 2 one-sided p-values, choose the smaller one, and double it"
   ]
  },
  {
   "cell_type": "markdown",
   "metadata": {},
   "source": [
    "*Poisson example*\n",
    "- Suppose that a hospital has an infection rate of 10 infections per 100 person/days at risk (rate of 0.1) during the last monitoring period\n",
    "- Assume that an infection rate of 0.05 is an important benchmark\n",
    "- Given the model, could the observed rate being larger than 0.05 be attributed to chance?\n",
    "- Under $H_{0}: \\lambda = 0.05$ so that $\\lambda \\times 100 = 5$\n",
    "- Consider $H_{a}: \\lambda > 0.05$"
   ]
  },
  {
   "cell_type": "code",
   "execution_count": 71,
   "metadata": {},
   "outputs": [
    {
     "data": {
      "text/html": [
       "0.0318280573062048"
      ],
      "text/latex": [
       "0.0318280573062048"
      ],
      "text/markdown": [
       "0.0318280573062048"
      ],
      "text/plain": [
       "[1] 0.03182806"
      ]
     },
     "metadata": {},
     "output_type": "display_data"
    }
   ],
   "source": [
    "ppois(9, 0.05*100, lower.tail = FALSE)"
   ]
  },
  {
   "cell_type": "markdown",
   "metadata": {},
   "source": [
    "3.2% < 5%, it's unlikely for us to have seen as many as 10 infections for a 100 person days at risk\n",
    "\n",
    "only 3% change of that occuring if in fact, the real infection was 5 for a 100 peson days at risk\n",
    "\n",
    "so this hospital perhaps should execute those quality control procedures"
   ]
  },
  {
   "cell_type": "code",
   "execution_count": 75,
   "metadata": {},
   "outputs": [
    {
     "data": {
      "text/html": [
       "1.75305035569257"
      ],
      "text/latex": [
       "1.75305035569257"
      ],
      "text/markdown": [
       "1.75305035569257"
      ],
      "text/plain": [
       "[1] 1.75305"
      ]
     },
     "metadata": {},
     "output_type": "display_data"
    }
   ],
   "source": [
    "qt(0.95, 15)"
   ]
  },
  {
   "cell_type": "code",
   "execution_count": 3,
   "metadata": {},
   "outputs": [
    {
     "data": {
      "text/html": [
       "0.0122529016232569"
      ],
      "text/latex": [
       "0.0122529016232569"
      ],
      "text/markdown": [
       "0.0122529016232569"
      ],
      "text/plain": [
       "[1] 0.0122529"
      ]
     },
     "metadata": {},
     "output_type": "display_data"
    }
   ],
   "source": [
    "pt(2.5, 15, lower.tail = FALSE)"
   ]
  },
  {
   "cell_type": "code",
   "execution_count": 4,
   "metadata": {},
   "outputs": [
    {
     "data": {
      "text/html": [
       "0.987747098376743"
      ],
      "text/latex": [
       "0.987747098376743"
      ],
      "text/markdown": [
       "0.987747098376743"
      ],
      "text/plain": [
       "[1] 0.9877471"
      ]
     },
     "metadata": {},
     "output_type": "display_data"
    }
   ],
   "source": [
    "pt(2.5, 15, lower.tail = TRUE)"
   ]
  },
  {
   "cell_type": "code",
   "execution_count": 11,
   "metadata": {},
   "outputs": [
    {
     "data": {
      "text/html": [
       "0.99609375"
      ],
      "text/latex": [
       "0.99609375"
      ],
      "text/markdown": [
       "0.99609375"
      ],
      "text/plain": [
       "[1] 0.9960938"
      ]
     },
     "metadata": {},
     "output_type": "display_data"
    }
   ],
   "source": [
    "pbinom(q = 7, size = 8, prob = 0.5, lower.tail = TRUE)"
   ]
  },
  {
   "cell_type": "code",
   "execution_count": 19,
   "metadata": {},
   "outputs": [
    {
     "data": {
      "text/html": [
       "0.0318280573062048"
      ],
      "text/latex": [
       "0.0318280573062048"
      ],
      "text/markdown": [
       "0.0318280573062048"
      ],
      "text/plain": [
       "[1] 0.03182806"
      ]
     },
     "metadata": {},
     "output_type": "display_data"
    }
   ],
   "source": [
    "ppois(9,lambda = 5,lower.tail = FALSE)"
   ]
  },
  {
   "cell_type": "code",
   "execution_count": 18,
   "metadata": {},
   "outputs": [
    {
     "data": {
      "text/html": [
       "0"
      ],
      "text/latex": [
       "0"
      ],
      "text/markdown": [
       "0"
      ],
      "text/plain": [
       "[1] 0"
      ]
     },
     "metadata": {},
     "output_type": "display_data"
    }
   ],
   "source": [
    "pbinom(9, size = 5, prob = 0.5, lower.tail = FALSE)"
   ]
  },
  {
   "cell_type": "code",
   "execution_count": 21,
   "metadata": {},
   "outputs": [
    {
     "data": {
      "text/html": [
       "<style>\n",
       ".list-inline {list-style: none; margin:0; padding: 0}\n",
       ".list-inline>li {display: inline-block}\n",
       ".list-inline>li:not(:last-child)::after {content: \"\\00b7\"; padding: 0 .5ex}\n",
       "</style>\n",
       "<ol class=list-inline><li>1076.93995864796</li><li>1123.06004135204</li></ol>\n"
      ],
      "text/latex": [
       "\\begin{enumerate*}\n",
       "\\item 1076.93995864796\n",
       "\\item 1123.06004135204\n",
       "\\end{enumerate*}\n"
      ],
      "text/markdown": [
       "1. 1076.93995864796\n",
       "2. 1123.06004135204\n",
       "\n",
       "\n"
      ],
      "text/plain": [
       "[1] 1076.94 1123.06"
      ]
     },
     "metadata": {},
     "output_type": "display_data"
    }
   ],
   "source": [
    "1100 + c(-1,1) * qt(0.975, 8) * 10"
   ]
  },
  {
   "cell_type": "code",
   "execution_count": 35,
   "metadata": {},
   "outputs": [
    {
     "data": {
      "text/html": [
       "2.60190340008596"
      ],
      "text/latex": [
       "2.60190340008596"
      ],
      "text/markdown": [
       "2.60190340008596"
      ],
      "text/plain": [
       "[1] 2.601903"
      ]
     },
     "metadata": {},
     "output_type": "display_data"
    }
   ],
   "source": [
    "6/qt(0.975, 8, lower.tail = TRUE)"
   ]
  },
  {
   "cell_type": "code",
   "execution_count": 33,
   "metadata": {},
   "outputs": [
    {
     "data": {
      "text/html": [
       "7.36162519427314"
      ],
      "text/latex": [
       "7.36162519427314"
      ],
      "text/markdown": [
       "7.36162519427314"
      ],
      "text/plain": [
       "[1] 7.361625"
      ]
     },
     "metadata": {},
     "output_type": "display_data"
    }
   ],
   "source": [
    "6/pt(0.95, 8)"
   ]
  },
  {
   "cell_type": "code",
   "execution_count": 39,
   "metadata": {},
   "outputs": [
    {
     "ename": "ERROR",
     "evalue": "Error in t.test.default(mu = difference, conf.level = 0.95, var.equal = FALSE): argument \"x\" is missing, with no default\n",
     "output_type": "error",
     "traceback": [
      "Error in t.test.default(mu = difference, conf.level = 0.95, var.equal = FALSE): argument \"x\" is missing, with no default\nTraceback:\n",
      "1. t.test(mu = difference, conf.level = 0.95, var.equal = FALSE)",
      "2. t.test.default(mu = difference, conf.level = 0.95, var.equal = FALSE)"
     ]
    }
   ],
   "source": [
    "difference = 3 - 5\n",
    "t.test(mu = difference, conf.level = 0.95, var.equal = FALSE)\n",
    "#t.test()"
   ]
  },
  {
   "cell_type": "code",
   "execution_count": 41,
   "metadata": {},
   "outputs": [
    {
     "data": {
      "text/html": [
       "<style>\n",
       ".list-inline {list-style: none; margin:0; padding: 0}\n",
       ".list-inline>li {display: inline-block}\n",
       ".list-inline>li:not(:last-child)::after {content: \"\\00b7\"; padding: 0 .5ex}\n",
       "</style>\n",
       "<ol class=list-inline><li>-2.75164871958504</li><li>-1.24835128041496</li></ol>\n"
      ],
      "text/latex": [
       "\\begin{enumerate*}\n",
       "\\item -2.75164871958504\n",
       "\\item -1.24835128041496\n",
       "\\end{enumerate*}\n"
      ],
      "text/markdown": [
       "1. -2.75164871958504\n",
       "2. -1.24835128041496\n",
       "\n",
       "\n"
      ],
      "text/plain": [
       "[1] -2.751649 -1.248351"
      ]
     },
     "metadata": {},
     "output_type": "display_data"
    }
   ],
   "source": [
    "-2 + c(-1,1) * qt(0.975, 18) * sqrt((9*0.6 + 9 * 0.68)/18) * (sqrt(2/10))"
   ]
  },
  {
   "cell_type": "code",
   "execution_count": 54,
   "metadata": {},
   "outputs": [
    {
     "data": {
      "text/html": [
       "<style>\n",
       ".list-inline {list-style: none; margin:0; padding: 0}\n",
       ".list-inline>li {display: inline-block}\n",
       ".list-inline>li:not(:last-child)::after {content: \"\\00b7\"; padding: 0 .5ex}\n",
       "</style>\n",
       "<ol class=list-inline><li>1.59</li><li>2.41</li></ol>\n"
      ],
      "text/latex": [
       "\\begin{enumerate*}\n",
       "\\item 1.59\n",
       "\\item 2.41\n",
       "\\end{enumerate*}\n"
      ],
      "text/markdown": [
       "1. 1.59\n",
       "2. 2.41\n",
       "\n",
       "\n"
      ],
      "text/plain": [
       "[1] 1.59 2.41"
      ]
     },
     "metadata": {},
     "output_type": "display_data"
    }
   ],
   "source": [
    "nx = 100\n",
    "ny = 100\n",
    "xbar = 6\n",
    "ybar = 4\n",
    "sx = 2\n",
    "sy = 0.5\n",
    "alpha = 0.05\n",
    "\n",
    "sp1 <- sqrt(((nx - 1)*sx^2 + (ny-1)*sy^2)/(nx+ny-2))\n",
    "sp2 = sqrt(1/nx + 1/ny)\n",
    "sp = sp1 * sp2\n",
    "\n",
    "CI <- (xbar - ybar) + c(-1,1) * qt(0.975, 198) * sp\n",
    "round(CI, 2)"
   ]
  },
  {
   "cell_type": "code",
   "execution_count": 55,
   "metadata": {},
   "outputs": [
    {
     "data": {
      "text/html": [
       "0.206155281280883"
      ],
      "text/latex": [
       "0.206155281280883"
      ],
      "text/markdown": [
       "0.206155281280883"
      ],
      "text/plain": [
       "[1] 0.2061553"
      ]
     },
     "metadata": {},
     "output_type": "display_data"
    }
   ],
   "source": [
    "sp"
   ]
  },
  {
   "cell_type": "code",
   "execution_count": 50,
   "metadata": {},
   "outputs": [
    {
     "data": {
      "text/html": [
       "1.97201747783631"
      ],
      "text/latex": [
       "1.97201747783631"
      ],
      "text/markdown": [
       "1.97201747783631"
      ],
      "text/plain": [
       "[1] 1.972017"
      ]
     },
     "metadata": {},
     "output_type": "display_data"
    }
   ],
   "source": [
    "((nx - 1)*sx^2 + (ny - 1)*sy^2) / (nx + ny - 2)"
   ]
  },
  {
   "cell_type": "code",
   "execution_count": 58,
   "metadata": {},
   "outputs": [
    {
     "data": {
      "text/html": [
       "<style>\n",
       ".list-inline {list-style: none; margin:0; padding: 0}\n",
       ".list-inline>li {display: inline-block}\n",
       ".list-inline>li:not(:last-child)::after {content: \"\\00b7\"; padding: 0 .5ex}\n",
       "</style>\n",
       "<ol class=list-inline><li>-5.364</li><li>-2.636</li></ol>\n"
      ],
      "text/latex": [
       "\\begin{enumerate*}\n",
       "\\item -5.364\n",
       "\\item -2.636\n",
       "\\end{enumerate*}\n"
      ],
      "text/markdown": [
       "1. -5.364\n",
       "2. -2.636\n",
       "\n",
       "\n"
      ],
      "text/plain": [
       "[1] -5.364 -2.636"
      ]
     },
     "metadata": {},
     "output_type": "display_data"
    }
   ],
   "source": [
    "nx = 9\n",
    "ny = 9\n",
    "xbar = -3\n",
    "ybar = 1\n",
    "sx = 1.5\n",
    "sy = 1.8\n",
    "alpha = 0.1\n",
    "df = nx + ny -2\n",
    "sp1 = sqrt(((nx-1)*sx^2 + (ny-1)*sy^2)/df)\n",
    "sp2 = sqrt(1/nx + 1/ny)\n",
    "tt = qt(1-alpha/2, df)\n",
    "CI = (xbar - ybar) + c(-1,1) * tt * sp1 * sp2\n",
    "round(CI,3)"
   ]
  }
 ],
 "metadata": {
  "kernelspec": {
   "display_name": "R",
   "language": "R",
   "name": "ir"
  },
  "language_info": {
   "codemirror_mode": "r",
   "file_extension": ".r",
   "mimetype": "text/x-r-source",
   "name": "R",
   "pygments_lexer": "r",
   "version": "4.0.2"
  }
 },
 "nbformat": 4,
 "nbformat_minor": 4
}
