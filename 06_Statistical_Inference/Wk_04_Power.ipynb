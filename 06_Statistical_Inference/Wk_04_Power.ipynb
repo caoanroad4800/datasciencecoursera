{
 "cells": [
  {
   "cell_type": "markdown",
   "metadata": {},
   "source": [
    "## Module 11: Power\n",
    "We've talked about a Type I error, rejecting the null hypothesis when it's true. We've structured our hypothesis test so that the probability of this happening is small. The other kind of error we could make is to fail to reject when the alternative is true (Type II error). Or we might think about the probability of rejecting the null when it is false. This is called Power = 1 - Type II error. We don't have as much control over this probability, since we've spent all of our flexibility guaranteeing that the Type I error rate is small.\n",
    "\n",
    "One avenue for the control of power is at the design phase. There, assuming our finances let us, we can pick a large enough sample size so that we'd be likely to reject if the alternative is true. Thus the most frequent use of power is to help us design studies.\n",
    "\n",
    "### 11-01: Power\n",
    "- **Power** is the probability of rejecting $H_{0}$ when it is false\n",
    "- A **Type II error** (a bad thing, as its name would suggest) is failing to reject the null hypothesis when it's false; the probability of a type II error is usually called $\\beta$\n",
    "- Power = 1 - $\\beta$"
   ]
  },
  {
   "cell_type": "markdown",
   "metadata": {},
   "source": [
    "**Notes**\n",
    "\n",
    "- Consider our previous example involving RDI\n",
    "- $H_{0}: \\mu = 30$ versus $H_a: \\mu > 30$\n",
    "- Then power is  \n",
    "$P \\left( \\frac{\\bar{X} - 30}{s / \\sqrt{n} } > t_{1 - \\alpha, n - 1}; \\mu - \\mu_{a} \\right) $\n",
    "- Note that this is a function that depends on the specific value of $\\mu_{a}$ !\n",
    "- Notice as $\\mu_{a}$ approaches 30, the power approache $\\alpha$"
   ]
  },
  {
   "cell_type": "markdown",
   "metadata": {},
   "source": [
    "### 11-02: Calculating Power for Gaussian data\n",
    "\n",
    "- We reject if $\\frac{\\bar{X} - 30}{s / \\sqrt{n} } > z_{1-\\alpha}$\n",
    "- Equivalently if $\\bar{X} > 30 + Z_{1-\\alpha} \\frac{\\sigma}{\\sqrt{n}}$\n",
    "- Under $H_{0}: \\bar{X} \\sim \\mathcal{N}(\\mu_{0}, \\sigma^{2} / n)$, $H_a: \\bar{X} \\sim \\mathcal{N} (\\mu_{a}, \\sigma^{2} / n )$"
   ]
  },
  {
   "cell_type": "raw",
   "metadata": {},
   "source": [
    "z <- qnorm(1 - alpha)\n",
    "pnorm(mu0 + z * sigma / sqrt(n), mean = mua, sd = sigma/sqrt(n), lower.tail = FALSE)"
   ]
  },
  {
   "cell_type": "markdown",
   "metadata": {},
   "source": [
    "*Example*  \n",
    "$\\mu_{0} = 30, \\mu_{a} = 32, n = 16, \\sigma = 4$"
   ]
  },
  {
   "cell_type": "code",
   "execution_count": 22,
   "metadata": {},
   "outputs": [
    {
     "data": {
      "text/html": [
       "0.0499999999999999"
      ],
      "text/latex": [
       "0.0499999999999999"
      ],
      "text/markdown": [
       "0.0499999999999999"
      ],
      "text/plain": [
       "[1] 0.05"
      ]
     },
     "metadata": {},
     "output_type": "display_data"
    }
   ],
   "source": [
    "mu0 = 30\n",
    "mua = 32\n",
    "sigma = 4\n",
    "n = 16\n",
    "alpha = 0.05\n",
    "z <- qnorm(1 - alpha)\n",
    "pnorm(mu0 + z * sigma / sqrt(n)\n",
    "      , mean = mu0\n",
    "      , sd = sigma / sqrt(n)\n",
    "      , lower.tail = FALSE\n",
    "     )"
   ]
  },
  {
   "cell_type": "code",
   "execution_count": 23,
   "metadata": {},
   "outputs": [
    {
     "data": {
      "text/html": [
       "0.638760031312335"
      ],
      "text/latex": [
       "0.638760031312335"
      ],
      "text/markdown": [
       "0.638760031312335"
      ],
      "text/plain": [
       "[1] 0.63876"
      ]
     },
     "metadata": {},
     "output_type": "display_data"
    }
   ],
   "source": [
    "pnorm(mu0 + z * sigma / sqrt(n)\n",
    "      , mean = mua\n",
    "      , sd = sigma / sqrt(n)\n",
    "      , lower.tail = FALSE\n",
    "     )"
   ]
  },
  {
   "cell_type": "markdown",
   "metadata": {},
   "source": [
    "So there's a 64% probability of detecting a mean as large as 32, or larger if we conduct this experiment"
   ]
  },
  {
   "cell_type": "markdown",
   "metadata": {},
   "source": [
    "### 11-03: Notes on power\n",
    "- When testing $H_a: \\mu > mu_0$, notice if power is $1-\\beta$, then  \n",
    "$1 - \\beta = P \\left( \\bar{X} > \\mu_{0} + z_{1-\\alpha} \\frac{\\sigma}{\\sqrt{n}}; \\mu = \\mu_{a} \\right)$\n",
    "- where $\\bar{X} \\sim \\mathcal{N} \\left( \\mu_a, \\sigma^2 / n \\right)$\n",
    "- Unknowns: $\\mu_a$, $\\sigma$, $n$, $\\beta$\n",
    "- Knowns: $\\mu_0$, $\\alpha$\n",
    "- Specify any 3 of the unknowns and you can solve for the remainder\n"
   ]
  },
  {
   "cell_type": "markdown",
   "metadata": {},
   "source": [
    "**Notes**\n",
    "- The calculation for $H_a: \\mu < \\mu_0$ is similar\n",
    "- For $H_a : \\mu \\neq \\mu_0$ calculate the one sided power using $\\alpha/2$ (this is only approximately right, it excludes the probabily of getting a large TS in the opposite direction of the truth)\n",
    "- Power goes up as $\\alpha$ gets larger\n",
    "- Power of a one sided test is greater than the power of the associated two sided test\n",
    "- Power goes up as $\\mu_a$ gets further away from $\\mu_0$\n",
    "- Power goes up as $n$ goes up"
   ]
  },
  {
   "cell_type": "markdown",
   "metadata": {},
   "source": [
    "**Notes**\n",
    "Power doesn't need $\\mu_a$, $\\sigma$ and $n$, instead only $\\frac{\\sqrt{n} \\left( \\mu_a - \\mu_0 \\right)}{\\sigma}$\n",
    "- The quantity $\\frac{\\left( \\mu_a - \\mu_0 \\right)}{\\sigma}$ is called the **effect size**, the difference in the means in standard deviation units\n",
    "    - Being unit free, the effect size has some hope for interpretability across settings"
   ]
  },
  {
   "cell_type": "markdown",
   "metadata": {},
   "source": [
    "### 11-04: T test power\n",
    "- Consider calculating power for a T test for our example\n",
    "- The power is   \n",
    "$1 - \\beta = P \\left( \\frac{\\bar{X} - \\mu_{0}}{S / \\sqrt{n}} > t_{1-\\alpha, n-1}; \\mu = \\mu_{a} \\right)$\n",
    "- Calculating this requires the non-central t distribution\n",
    "- power.t.test does this very well\n",
    "    - Omit one of the arguments and it solves for it  \n",
    "\n",
    "*Example*"
   ]
  },
  {
   "cell_type": "markdown",
   "metadata": {},
   "source": [
    "## ?power.t.test"
   ]
  },
  {
   "cell_type": "markdown",
   "metadata": {},
   "source": [
    "*Example*: calculate power"
   ]
  },
  {
   "cell_type": "code",
   "execution_count": 6,
   "metadata": {},
   "outputs": [
    {
     "data": {
      "text/html": [
       "0.604032870954103"
      ],
      "text/latex": [
       "0.604032870954103"
      ],
      "text/markdown": [
       "0.604032870954103"
      ],
      "text/plain": [
       "[1] 0.6040329"
      ]
     },
     "metadata": {},
     "output_type": "display_data"
    }
   ],
   "source": [
    "power.t.test(n = 16\n",
    "             , delta = 2/4\n",
    "             , sd = 1\n",
    "             , type = 'one.sample'\n",
    "             , alt = 'one.sided'\n",
    "            )$power"
   ]
  },
  {
   "cell_type": "code",
   "execution_count": 8,
   "metadata": {},
   "outputs": [
    {
     "data": {
      "text/html": [
       "0.604032870954103"
      ],
      "text/latex": [
       "0.604032870954103"
      ],
      "text/markdown": [
       "0.604032870954103"
      ],
      "text/plain": [
       "[1] 0.6040329"
      ]
     },
     "metadata": {},
     "output_type": "display_data"
    }
   ],
   "source": [
    "power.t.test(n = 16\n",
    "             , delta = 2\n",
    "             , sd = 4\n",
    "             , type = 'one.sample'\n",
    "             , alt = 'one.sided'\n",
    "            )$power"
   ]
  },
  {
   "cell_type": "code",
   "execution_count": 9,
   "metadata": {},
   "outputs": [
    {
     "data": {
      "text/html": [
       "0.604032870954103"
      ],
      "text/latex": [
       "0.604032870954103"
      ],
      "text/markdown": [
       "0.604032870954103"
      ],
      "text/plain": [
       "[1] 0.6040329"
      ]
     },
     "metadata": {},
     "output_type": "display_data"
    }
   ],
   "source": [
    "power.t.test(n = 16\n",
    "             , delta = 100\n",
    "             , sd = 200\n",
    "             , type = 'one.sample'\n",
    "             , alt = 'one.sided'\n",
    "            )$power"
   ]
  },
  {
   "cell_type": "markdown",
   "metadata": {},
   "source": [
    "*Example*: calculate sample size"
   ]
  },
  {
   "cell_type": "code",
   "execution_count": 14,
   "metadata": {},
   "outputs": [
    {
     "data": {
      "text/html": [
       "26.1375101070011"
      ],
      "text/latex": [
       "26.1375101070011"
      ],
      "text/markdown": [
       "26.1375101070011"
      ],
      "text/plain": [
       "[1] 26.13751"
      ]
     },
     "metadata": {},
     "output_type": "display_data"
    }
   ],
   "source": [
    "power.t.test(power = 0.8\n",
    "             , delta = 2/4\n",
    "             , sd = 1\n",
    "             , type = 'one.sample'\n",
    "             , alt = 'one.sided'\n",
    "            )$n"
   ]
  },
  {
   "cell_type": "code",
   "execution_count": 13,
   "metadata": {},
   "outputs": [
    {
     "data": {
      "text/html": [
       "26.1375101070011"
      ],
      "text/latex": [
       "26.1375101070011"
      ],
      "text/markdown": [
       "26.1375101070011"
      ],
      "text/plain": [
       "[1] 26.13751"
      ]
     },
     "metadata": {},
     "output_type": "display_data"
    }
   ],
   "source": [
    "power.t.test(power = 0.8\n",
    "             , delta = 2\n",
    "             , sd = 4\n",
    "             , type = 'one.sample'\n",
    "             , alt = 'one.sided'\n",
    "            )$n"
   ]
  },
  {
   "cell_type": "markdown",
   "metadata": {},
   "source": []
  },
  {
   "cell_type": "raw",
   "metadata": {},
   "source": [
    "power.t.test(power = 0.8\n",
    "             , delta = 100\n",
    "             , sd = 200\n",
    "             , type = 'one.sample'\n",
    "             , alt = 'one.sided'\n",
    "            )$n"
   ]
  },
  {
   "cell_type": "code",
   "execution_count": 17,
   "metadata": {},
   "outputs": [],
   "source": [
    "#help(pnorm)"
   ]
  },
  {
   "cell_type": "markdown",
   "metadata": {},
   "source": [
    "### Module 12: Multiple Comparisons\n",
    "\n",
    "**Key ideas**\n",
    "- Hypothesis testing / significance analysis is commonly overused\n",
    "- Correcting for multiple testing avoids false posittives or discoveries\n",
    "- 2 key components\n",
    "    - Error measure\n",
    "    - Correction\n",
    "    \n",
    "**Types of errors**\n",
    "\n",
    "|  ()  | $\\beta$ = 0 | $\\beta \\neq$ 0 | HYPOTHESES |  \n",
    "| ----| ---- | ---- | ---- |\n",
    "|  Claim $\\beta = 0$  | U | T | m-R |\n",
    "|  Claim $\\beta \\neq 0$  | V | S | R |\n",
    "|  Claims  | $m_0$ | $m-m_0$ | m |\n",
    "- **Type I error of false positive (V)** say that the parameter does not equal zero when it does\n",
    "- **Type II error of false negative (T)** say that the parameter equals zero when it doesn't\n",
    "\n",
    "|  ()  | Null is true  | Alt is true  | Total |  \n",
    "| --------| -------- | -------- | -------- |  \n",
    "|  Declared significant  | V | S | R |\n",
    "| Declared non-significant | U | T | m-R|\n",
    "| Total | $m_{0}$ | $m-m_0$ | m |\n",
    "- $m_0$ is the number of true null hypotehssi parameter\n",
    "- $R$ is an obervable random variable, while $S, T, U, V$ are unobservable random variable\n",
    "\n",
    "Suppose we've tested m null hypotheses, m_0 of which are actually true, and m-m_0 are actually false. Out of the m tests R have been declared significant, that is, the associated p-values were less than alpha, and m-R were nonsignificant, or boring results."
   ]
  },
  {
   "cell_type": "markdown",
   "metadata": {},
   "source": [
    "**Error Rates**\n",
    "- **False positve rate**: the rate at which false results ($\\beta = 0$) are called significant: $E \\left[ \\frac{V}{m_{0}} \\right]$\n",
    "    - The false positive rate is closely related to the Type I error rate\n",
    "- **Faminly wise error rate (FWER)**: The probability of at least one false positive Pr(V $\\ge$ 1)\n",
    "    - Suppose we're really smart, calculate our p-values correctly, and declare all tests with $p < alpha$ as significant. This means that our false positive rate is at most $\\alpha$, on average.\n",
    "- **False discovery rate (FDR)**: The rate at which claims of significance are false $E \\left[ \\frac{V}{R} \\right]$\n",
    "    - FDR is the most popular correction when performing lots of tests. It's used in lots of areas such as genomics, imaging, astronomy, and other signal-processing disciplines"
   ]
  },
  {
   "cell_type": "markdown",
   "metadata": {},
   "source": [
    "**Controlling the false positive rate**\n",
    "- If P-values are correctly calculated calling all $P < \\alpha$ significant will control the false positive rate at level $\\alpha$ on average\n",
    "- Problem: Suppose that you perform 10,000 tests and $\\beta = 0$ for all of them\n",
    "- Suppose that you call all $P<0.05$ significant\n",
    "- The expected number of false positive is: $10,000 \\times 0.05$ = 500 false positives\n",
    "- How do we avoid so many false positives?"
   ]
  },
  {
   "cell_type": "markdown",
   "metadata": {},
   "source": [
    "#### Controlling family-wise error rate (FWER)  - Bonferroni method\n",
    "Basic idea:\n",
    "- Suppose you do $m$ tests\n",
    "- You want to control FWER at level $\\alpha$ so $\\text{Pr}(V \\ge 1) < \\alpha$\n",
    "- Calculate P-values normally\n",
    "- Set $\\alpha_{\\text{FWER}} = \\alpha / m$\n",
    "- Call all P-values less than $\\alpha_{\\text{FWER}}$ significant\n",
    "\n",
    "Pros: Easi to calculate, conservative\n",
    "\n",
    "Cons: May be very conservative"
   ]
  },
  {
   "cell_type": "markdown",
   "metadata": {},
   "source": [
    "#### Controlling false discovery rate (FDR)  - Benjamini-Hochberg method (BH)\n",
    "This is the most popular correction when performing lots of tests say in genomics, imagining, astronomy, or other signal-processing disciplines\n",
    "\n",
    "Basic idea:\n",
    "- Suppose you do $m$ tests\n",
    "- You want to control FDR at level $\\alpha$ so $E\\left[ \\frac{V}{R} \\right]$\n",
    "- Calculate P-values normally\n",
    "- Order the P-values from smallest to largest $P_{(1)}, P_{(2)}, \\ldots, P_{(m)}$\n",
    "- Call any $P_{(i)} \\le \\alpha \\times \\frac{i}{m}$ significant\n",
    "\n",
    "Pros: still pretty easy to calculate, less conservative (mayby much less)\n",
    "\n",
    "Cons: Allows for more false postives, may behave strangely under dependence"
   ]
  },
  {
   "cell_type": "markdown",
   "metadata": {},
   "source": [
    "#### Adjusted P-values\n",
    "- One approach is to adjust the threshold $\\alpha$\n",
    "- A different approach is to calculate \"adjusted p-values\"\n",
    "- **They are not p-values anymore**\n",
    "- But they can be used directly without adjusting $\\alpha$\n",
    "\n",
    "Example:\n",
    "- Suppose P-values are $P_1, \\ldots, P_m$\n",
    "- You could adjust them by taking $p_{i}^{\\text{FWER}} = \\max \\left( m \\times P_{i}, 1 \\right)$ for each P-value\n",
    "- Then if you call all $p_{i}^{\\text{FWER}} < \\alpha$ significant, you will control the FWER"
   ]
  },
  {
   "cell_type": "markdown",
   "metadata": {},
   "source": [
    "#### Case Study I: no true positives"
   ]
  },
  {
   "cell_type": "code",
   "execution_count": 19,
   "metadata": {},
   "outputs": [
    {
     "data": {
      "text/html": [
       "51"
      ],
      "text/latex": [
       "51"
      ],
      "text/markdown": [
       "51"
      ],
      "text/plain": [
       "[1] 51"
      ]
     },
     "metadata": {},
     "output_type": "display_data"
    }
   ],
   "source": [
    "set.seed(1010093)\n",
    "pValues <- rep(NA, 1000)\n",
    "for (i in 1:1000){\n",
    "    y <- rnorm(20)\n",
    "    x <- rnorm(20)\n",
    "    pValues[i] <- summary(lm(y~x))$coef[2,4]\n",
    "}\n",
    "\n",
    "# Controls false positive rate\n",
    "sum(pValues < 0.05)\n"
   ]
  },
  {
   "cell_type": "code",
   "execution_count": 21,
   "metadata": {},
   "outputs": [
    {
     "data": {
      "text/html": [
       "0"
      ],
      "text/latex": [
       "0"
      ],
      "text/markdown": [
       "0"
      ],
      "text/plain": [
       "[1] 0"
      ]
     },
     "metadata": {},
     "output_type": "display_data"
    }
   ],
   "source": [
    "# Controls FWER\n",
    "sum(p.adjust(pValues, method = 'bonferroni') < 0.05)"
   ]
  },
  {
   "cell_type": "code",
   "execution_count": 22,
   "metadata": {},
   "outputs": [
    {
     "data": {
      "text/html": [
       "0"
      ],
      "text/latex": [
       "0"
      ],
      "text/markdown": [
       "0"
      ],
      "text/plain": [
       "[1] 0"
      ]
     },
     "metadata": {},
     "output_type": "display_data"
    }
   ],
   "source": [
    "# Controls FDR\n",
    "sum(p.adjust(pValues, method = 'BH') < 0.05)"
   ]
  },
  {
   "cell_type": "markdown",
   "metadata": {},
   "source": [
    "#### Case study II: 50% true positives"
   ]
  },
  {
   "cell_type": "code",
   "execution_count": 23,
   "metadata": {},
   "outputs": [
    {
     "data": {
      "text/plain": [
       "       trueStatus\n",
       "        not zero zero\n",
       "  FALSE        0  476\n",
       "  TRUE       500   24"
      ]
     },
     "metadata": {},
     "output_type": "display_data"
    }
   ],
   "source": [
    "set.seed(1010093)\n",
    "pValues <- rep(NA, 1000)\n",
    "for (i in 1:1000){\n",
    "    x <- rnorm(20)\n",
    "    # First 500 beta = 0, last 500 beta = 2\n",
    "    if(i <= 500){y <- rnorm(20)}\n",
    "    else{y <- rnorm(20, mean = 2*x)}\n",
    "    pValues[i] <- summary(lm(y~x))$coef[2,4]\n",
    "}\n",
    "trueStatus <- rep(c(\"zero\", \"not zero\"), each = 500)\n",
    "table(pValues < 0.05, trueStatus)"
   ]
  },
  {
   "cell_type": "code",
   "execution_count": 25,
   "metadata": {},
   "outputs": [
    {
     "data": {
      "text/plain": [
       "       trueStatus\n",
       "        not zero zero\n",
       "  FALSE       23  500\n",
       "  TRUE       477    0"
      ]
     },
     "metadata": {},
     "output_type": "display_data"
    }
   ],
   "source": [
    "# Controls FWER\n",
    "table(p.adjust(pValues, method = 'bonferroni') < 0.05, trueStatus)"
   ]
  },
  {
   "cell_type": "code",
   "execution_count": 27,
   "metadata": {},
   "outputs": [
    {
     "data": {
      "text/plain": [
       "       trueStatus\n",
       "        not zero zero\n",
       "  FALSE        0  487\n",
       "  TRUE       500   13"
      ]
     },
     "metadata": {},
     "output_type": "display_data"
    }
   ],
   "source": [
    "# Controls FDR\n",
    "table(p.adjust(pValues, method = 'BH') < 0.05, trueStatus)"
   ]
  },
  {
   "cell_type": "markdown",
   "metadata": {},
   "source": [
    "#### Notes\n",
    "- Multiple testing is an entire subfield\n",
    "- A basic Bonferroni/BH correction is usually enough\n",
    "- If there is strong dependence between tests there may be problems\n",
    "    - Consider method = \"BY\""
   ]
  },
  {
   "cell_type": "markdown",
   "metadata": {},
   "source": [
    "## Module 13: Resampling\n",
    "\n",
    "Resampling based procedures are ways to perform population based statistical inferences, while living within our data. Data Scientists tend to really like resampling based inferences, since they are very data centric procedures, they scale well to large studies and they often make very few assumptions.\n",
    "\n",
    "### 13-01: The Bootstrap  \n",
    "- **Bootstrap** is a trememdously useful tool for constructing confidence intervals and calculating standard errors for difficult statistics\n",
    "- e.g. how would one derive a confidence interval for the median?\n",
    "\n",
    "### 13-02: Example"
   ]
  },
  {
   "cell_type": "code",
   "execution_count": 31,
   "metadata": {},
   "outputs": [],
   "source": [
    "library(UsingR)\n",
    "data(father.son)\n",
    "x <- father.son$sheight\n",
    "n <- length(x)\n",
    "B <- 10000\n",
    "resamples <- matrix(sample(x, n * B, replace = TRUE), B, n)\n",
    "resampledMedians <- apply(resamples, 1, median)"
   ]
  },
  {
   "cell_type": "code",
   "execution_count": 38,
   "metadata": {},
   "outputs": [
    {
     "data": {
      "image/png": "[encoded data removed]",
      "text/plain": [
       "Plot with title “Histogram of resampledMedians”"
      ]
     },
     "metadata": {
      "image/png": {
       "height": 420,
       "width": 420
      }
     },
     "output_type": "display_data"
    }
   ],
   "source": [
    "#hist(resampledMedians)\n",
    "hist(resampledMedians)"
   ]
  },
  {
   "cell_type": "markdown",
   "metadata": {},
   "source": [
    "### 13-03: Notes on the bootstrap\n",
    "**The bootstrap principle**\n",
    "\n",
    "Suppose that I have a statistic that estimates some population parameter, but i don't know its sampling distribution\n",
    "\n",
    "The bootstrap principle suggests using the distribution defined by the data to approximate its sampling distribution\n",
    "\n",
    "In practice, the bootstrap principle is always carried out using simulation"
   ]
  },
  {
   "cell_type": "markdown",
   "metadata": {},
   "source": [
    "- The **general procedure** follows by first simulating data sets from the observed data with replacement\n",
    "    - This is approximately drawing from the sampling distribution of that statistic, at least as far as the data is able to approximate the true population distribution\n",
    "- Calculate the statisitc for each simulated data set\n",
    "- Use the simulated statistic to either define a confidence interval or take the standard deviation to calculate a standard error\n",
    "\n",
    "#### Nonparametric bootstrap algorithm example\n",
    "\n",
    "Bootstrap procedure for calculating confidence interval for the median from a data set of $n$ observations\n",
    "- Sample $n$ observations **with replacement** from the observed data resulting in one simulated complete data set\n",
    "- Take the median of the simulated data set\n",
    "- Repeat these two steps B times, resulting in B simulated medians\n",
    "- These medians are approximately drawn from the sampling distribution of the median of $n$ observations; therefore we can\n",
    "    - Draw a histogram of them\n",
    "    - Calculate their standard deviation to estimate the standard error of the mean\n",
    "    - Take the 2.5th and 97.5th percentiles as a confidence interval for the median"
   ]
  },
  {
   "cell_type": "code",
   "execution_count": 41,
   "metadata": {},
   "outputs": [
    {
     "data": {
      "text/html": [
       "0.0857447124485723"
      ],
      "text/latex": [
       "0.0857447124485723"
      ],
      "text/markdown": [
       "0.0857447124485723"
      ],
      "text/plain": [
       "[1] 0.08574471"
      ]
     },
     "metadata": {},
     "output_type": "display_data"
    }
   ],
   "source": [
    "library(UsingR)\n",
    "data(father.son)\n",
    "x <- father.son$sheight\n",
    "n <- length(x)\n",
    "B <- 10000\n",
    "resamples <- matrix(sample(x, n * B, replace = TRUE), B, n)\n",
    "medians <- apply(resamples, 1, median)\n",
    "sd(medians)"
   ]
  },
  {
   "cell_type": "code",
   "execution_count": 42,
   "metadata": {},
   "outputs": [
    {
     "data": {
      "text/html": [
       "<style>\n",
       ".dl-inline {width: auto; margin:0; padding: 0}\n",
       ".dl-inline>dt, .dl-inline>dd {float: none; width: auto; display: inline-block}\n",
       ".dl-inline>dt::after {content: \":\\0020\"; padding-right: .5ex}\n",
       ".dl-inline>dt:not(:first-of-type) {padding-left: .5ex}\n",
       "</style><dl class=dl-inline><dt>2.5%</dt><dd>68.42972</dd><dt>97.5%</dt><dd>68.81579</dd></dl>\n"
      ],
      "text/latex": [
       "\\begin{description*}\n",
       "\\item[2.5\\textbackslash{}\\%] 68.42972\n",
       "\\item[97.5\\textbackslash{}\\%] 68.81579\n",
       "\\end{description*}\n"
      ],
      "text/markdown": [
       "2.5%\n",
       ":   68.4297297.5%\n",
       ":   68.81579\n",
       "\n"
      ],
      "text/plain": [
       "    2.5%    97.5% \n",
       "68.42972 68.81579 "
      ]
     },
     "metadata": {},
     "output_type": "display_data"
    }
   ],
   "source": [
    "quantile(medians, c(0.025, 0.975))"
   ]
  },
  {
   "cell_type": "code",
   "execution_count": 43,
   "metadata": {},
   "outputs": [
    {
     "data": {
      "text/html": [
       "<style>\n",
       ".dl-inline {width: auto; margin:0; padding: 0}\n",
       ".dl-inline>dt, .dl-inline>dd {float: none; width: auto; display: inline-block}\n",
       ".dl-inline>dt::after {content: \":\\0020\"; padding-right: .5ex}\n",
       ".dl-inline>dt:not(:first-of-type) {padding-left: .5ex}\n",
       "</style><dl class=dl-inline><dt>0%</dt><dd>68.24471</dd><dt>25%</dt><dd>68.59027</dd><dt>50%</dt><dd>68.616725</dd><dt>75%</dt><dd>68.66534</dd><dt>100%</dt><dd>69.030015</dd></dl>\n"
      ],
      "text/latex": [
       "\\begin{description*}\n",
       "\\item[0\\textbackslash{}\\%] 68.24471\n",
       "\\item[25\\textbackslash{}\\%] 68.59027\n",
       "\\item[50\\textbackslash{}\\%] 68.616725\n",
       "\\item[75\\textbackslash{}\\%] 68.66534\n",
       "\\item[100\\textbackslash{}\\%] 69.030015\n",
       "\\end{description*}\n"
      ],
      "text/markdown": [
       "0%\n",
       ":   68.2447125%\n",
       ":   68.5902750%\n",
       ":   68.61672575%\n",
       ":   68.66534100%\n",
       ":   69.030015\n",
       "\n"
      ],
      "text/plain": [
       "      0%      25%      50%      75%     100% \n",
       "68.24471 68.59027 68.61673 68.66534 69.03002 "
      ]
     },
     "metadata": {},
     "output_type": "display_data"
    }
   ],
   "source": [
    "quantile(medians)"
   ]
  },
  {
   "cell_type": "code",
   "execution_count": 46,
   "metadata": {},
   "outputs": [
    {
     "data": {
      "image/png": "[encoded data removed]",
      "text/plain": [
       "plot without title"
      ]
     },
     "metadata": {
      "image/png": {
       "height": 420,
       "width": 420
      }
     },
     "output_type": "display_data"
    }
   ],
   "source": [
    "g <- ggplot(data.frame(medians = medians), aes (x = medians))\n",
    "g <- g + geom_histogram(color = 'black', fill = 'darkblue', binwidth = 0.05)\n",
    "g"
   ]
  },
  {
   "cell_type": "markdown",
   "metadata": {},
   "source": [
    "### 13-04: Permutation tests\n",
    "\n",
    "- Consider the null hypothesis that the distribution of the observations from each group is the same\n",
    "- Then, the group labels are irrelevant\n",
    "- Consider a data frame with count and spray\n",
    "- Permute the spray (group) labels\n",
    "- Re-calculate the statistic\n",
    "    - Mean difference in counts\n",
    "    - Genometric means\n",
    "    - T statistic\n",
    "- Calculate the percentage of simulation where the simulated statistic was more extreme (toward the alternative) than the observed\n",
    "1'22''"
   ]
  },
  {
   "cell_type": "code",
   "execution_count": 2,
   "metadata": {},
   "outputs": [
    {
     "data": {
      "text/plain": [
       "\n",
       "\tOne Sample t-test\n",
       "\n",
       "data:  difference\n",
       "t = -2.2616, df = 4, p-value = 0.08652\n",
       "alternative hypothesis: true mean is not equal to 0\n",
       "95 percent confidence interval:\n",
       " -7.5739122  0.7739122\n",
       "sample estimates:\n",
       "mean of x \n",
       "     -3.4 \n"
      ]
     },
     "metadata": {},
     "output_type": "display_data"
    }
   ],
   "source": [
    "difference = c(-8, -3, 1, -2, -5)\n",
    "t.test(difference, alternative = \"two.sided\", paird = TRUE)"
   ]
  },
  {
   "cell_type": "code",
   "execution_count": 5,
   "metadata": {},
   "outputs": [
    {
     "data": {
      "text/html": [
       "<style>\n",
       ".list-inline {list-style: none; margin:0; padding: 0}\n",
       ".list-inline>li {display: inline-block}\n",
       ".list-inline>li:not(:last-child)::after {content: \"\\00b7\"; padding: 0 .5ex}\n",
       "</style>\n",
       "<ol class=list-inline><li>1076.93995864796</li><li>1123.06004135204</li></ol>\n"
      ],
      "text/latex": [
       "\\begin{enumerate*}\n",
       "\\item 1076.93995864796\n",
       "\\item 1123.06004135204\n",
       "\\end{enumerate*}\n"
      ],
      "text/markdown": [
       "1. 1076.93995864796\n",
       "2. 1123.06004135204\n",
       "\n",
       "\n"
      ],
      "text/plain": [
       "[1] 1076.94 1123.06"
      ]
     },
     "metadata": {},
     "output_type": "display_data"
    }
   ],
   "source": [
    "#help(t.test)\n",
    "1100+c(-1,1) * qt(0.975, 8) * 30/sqrt(9)"
   ]
  },
  {
   "cell_type": "code",
   "execution_count": 10,
   "metadata": {},
   "outputs": [
    {
     "data": {
      "text/html": [
       "0.31640625"
      ],
      "text/latex": [
       "0.31640625"
      ],
      "text/markdown": [
       "0.31640625"
      ],
      "text/plain": [
       "[1] 0.3164063"
      ]
     },
     "metadata": {},
     "output_type": "display_data"
    }
   ],
   "source": [
    "pbinom(3, size = 4, prob = 0.75, lower.tail = FALSE)"
   ]
  },
  {
   "cell_type": "code",
   "execution_count": null,
   "metadata": {},
   "outputs": [],
   "source": []
  },
  {
   "cell_type": "code",
   "execution_count": 14,
   "metadata": {},
   "outputs": [
    {
     "data": {
      "text/html": [
       "0.0317479971850819"
      ],
      "text/latex": [
       "0.0317479971850819"
      ],
      "text/markdown": [
       "0.0317479971850819"
      ],
      "text/plain": [
       "[1] 0.031748"
      ]
     },
     "metadata": {},
     "output_type": "display_data"
    }
   ],
   "source": [
    "pbinom(10, size = 1787, prob = 0.01, lower.tail = TRUE)"
   ]
  },
  {
   "cell_type": "code",
   "execution_count": 15,
   "metadata": {},
   "outputs": [
    {
     "data": {
      "text/plain": [
       "\n",
       "\tExact Poisson test\n",
       "\n",
       "data:  10 time base: 1787\n",
       "number of events = 10, time base = 1787, p-value = 0.03237\n",
       "alternative hypothesis: true event rate is less than 0.01\n",
       "95 percent confidence interval:\n",
       " 0.000000000 0.009492009\n",
       "sample estimates:\n",
       " event rate \n",
       "0.005595971 \n"
      ]
     },
     "metadata": {},
     "output_type": "display_data"
    }
   ],
   "source": [
    "poisson.test(x = 10, T = 1787, r = 0.01, alternative = 'less')"
   ]
  },
  {
   "cell_type": "code",
   "execution_count": 18,
   "metadata": {},
   "outputs": [],
   "source": [
    "bar_x = -3\n",
    "bar_y = 1\n",
    "n_x = 9\n",
    "n_y = 9\n",
    "s_x = 1.5\n",
    "s_y = 1.8\n",
    "sp = (s_x^2 * (n_x - 1) + s_y^2 * (n_y - 1))/(n_x + n_y -2)"
   ]
  },
  {
   "cell_type": "code",
   "execution_count": 20,
   "metadata": {},
   "outputs": [
    {
     "data": {
      "text/html": [
       "0.0035040937911871"
      ],
      "text/latex": [
       "0.0035040937911871"
      ],
      "text/markdown": [
       "0.0035040937911871"
      ],
      "text/plain": [
       "[1] 0.003504094"
      ]
     },
     "metadata": {},
     "output_type": "display_data"
    }
   ],
   "source": [
    "pt((bar_x - bar_y)/(sp * sqrt(1/n_x + 1 / n_y)), df = n_x + n_y -2)"
   ]
  },
  {
   "cell_type": "code",
   "execution_count": 21,
   "metadata": {},
   "outputs": [
    {
     "data": {
      "text/html": [
       "1.8595480375309"
      ],
      "text/latex": [
       "1.8595480375309"
      ],
      "text/markdown": [
       "1.8595480375309"
      ],
      "text/plain": [
       "[1] 1.859548"
      ]
     },
     "metadata": {},
     "output_type": "display_data"
    }
   ],
   "source": [
    "qt(0.95, 8)"
   ]
  },
  {
   "cell_type": "code",
   "execution_count": 28,
   "metadata": {},
   "outputs": [
    {
     "data": {
      "text/html": [
       "0.798985470429869"
      ],
      "text/latex": [
       "0.798985470429869"
      ],
      "text/markdown": [
       "0.798985470429869"
      ],
      "text/plain": [
       "[1] 0.7989855"
      ]
     },
     "metadata": {},
     "output_type": "display_data"
    }
   ],
   "source": [
    "power.t.test(n = 100\n",
    "             , delta = 0.01\n",
    "             , sd = 0.04\n",
    "             , type = 'one.sample'\n",
    "             , alt = 'one.sided'\n",
    "            )$power"
   ]
  },
  {
   "cell_type": "code",
   "execution_count": 32,
   "metadata": {},
   "outputs": [
    {
     "data": {
      "text/plain": [
       "\n",
       "     One-sample t test power calculation \n",
       "\n",
       "              n = 138.3856\n",
       "          delta = 0.01\n",
       "             sd = 0.04\n",
       "      sig.level = 0.05\n",
       "          power = 0.9\n",
       "    alternative = one.sided\n"
      ]
     },
     "metadata": {},
     "output_type": "display_data"
    }
   ],
   "source": [
    "power.t.test(power = 0.9\n",
    "             , delta = 0.01\n",
    "             , sd = 0.04\n",
    "             , type = 'one.sample'\n",
    "             , alt = 'one.sided'\n",
    "            )"
   ]
  },
  {
   "cell_type": "code",
   "execution_count": 24,
   "metadata": {},
   "outputs": [
    {
     "data": {
      "text/html": [
       "\n",
       "<table width=\"100%\" summary=\"page for power.t.test {stats}\"><tr><td>power.t.test {stats}</td><td style=\"text-align: right;\">R Documentation</td></tr></table>\n",
       "\n",
       "<h2>Power calculations for one and two sample t tests</h2>\n",
       "\n",
       "<h3>Description</h3>\n",
       "\n",
       "<p>Compute the power of the one- or two- sample t test,\n",
       "or determine parameters to obtain a target power.\n",
       "</p>\n",
       "\n",
       "\n",
       "<h3>Usage</h3>\n",
       "\n",
       "<pre>\n",
       "power.t.test(n = NULL, delta = NULL, sd = 1, sig.level = 0.05,\n",
       "             power = NULL,\n",
       "             type = c(\"two.sample\", \"one.sample\", \"paired\"),\n",
       "             alternative = c(\"two.sided\", \"one.sided\"),\n",
       "             strict = FALSE, tol = .Machine$double.eps^0.25)\n",
       "</pre>\n",
       "\n",
       "\n",
       "<h3>Arguments</h3>\n",
       "\n",
       "<table summary=\"R argblock\">\n",
       "<tr valign=\"top\"><td><code>n</code></td>\n",
       "<td>\n",
       "<p>number of observations (per group)</p>\n",
       "</td></tr>\n",
       "<tr valign=\"top\"><td><code>delta</code></td>\n",
       "<td>\n",
       "<p>true difference in means</p>\n",
       "</td></tr>\n",
       "<tr valign=\"top\"><td><code>sd</code></td>\n",
       "<td>\n",
       "<p>standard deviation</p>\n",
       "</td></tr>\n",
       "<tr valign=\"top\"><td><code>sig.level</code></td>\n",
       "<td>\n",
       "<p>significance level (Type I error probability)</p>\n",
       "</td></tr>\n",
       "<tr valign=\"top\"><td><code>power</code></td>\n",
       "<td>\n",
       "<p>power of test (1 minus Type II error probability)</p>\n",
       "</td></tr>\n",
       "<tr valign=\"top\"><td><code>type</code></td>\n",
       "<td>\n",
       "<p>string specifying the type of t test.  Can be abbreviated.</p>\n",
       "</td></tr>\n",
       "<tr valign=\"top\"><td><code>alternative</code></td>\n",
       "<td>\n",
       "<p>one- or two-sided test.  Can be abbreviated.</p>\n",
       "</td></tr>\n",
       "<tr valign=\"top\"><td><code>strict</code></td>\n",
       "<td>\n",
       "<p>use strict interpretation in two-sided case</p>\n",
       "</td></tr>\n",
       "<tr valign=\"top\"><td><code>tol</code></td>\n",
       "<td>\n",
       "<p>numerical tolerance used in root finding, the default\n",
       "providing (at least) four significant digits.</p>\n",
       "</td></tr>\n",
       "</table>\n",
       "\n",
       "\n",
       "<h3>Details</h3>\n",
       "\n",
       "<p>Exactly one of the parameters <code>n</code>, <code>delta</code>, <code>power</code>,\n",
       "<code>sd</code>, and <code>sig.level</code> must be passed as <code>NULL</code>, and that\n",
       "parameter is determined from the others.  Notice that the last two have\n",
       "non-NULL defaults, so NULL must be explicitly passed if you want to\n",
       "compute them.\n",
       "</p>\n",
       "<p>If <code>strict = TRUE</code> is used, the power will include the probability of\n",
       "rejection in the opposite direction of the true effect, in the two-sided\n",
       "case.  Without this the power will be half the significance level if the\n",
       "true difference is zero.\n",
       "</p>\n",
       "\n",
       "\n",
       "<h3>Value</h3>\n",
       "\n",
       "<p>Object of class <code>\"power.htest\"</code>, a list of the arguments\n",
       "(including the computed one) augmented with <code>method</code> and\n",
       "<code>note</code> elements.\n",
       "</p>\n",
       "\n",
       "\n",
       "<h3>Note</h3>\n",
       "\n",
       "<p><code>uniroot</code> is used to solve the power equation for unknowns, so\n",
       "you may see errors from it, notably about inability to bracket the\n",
       "root when invalid arguments are given.\n",
       "</p>\n",
       "\n",
       "\n",
       "<h3>Author(s)</h3>\n",
       "\n",
       "<p>Peter Dalgaard.  Based on previous work by Claus\n",
       "Ekstrøm</p>\n",
       "\n",
       "\n",
       "<h3>See Also</h3>\n",
       "\n",
       "<p><code>t.test</code>, <code>uniroot</code></p>\n",
       "\n",
       "\n",
       "<h3>Examples</h3>\n",
       "\n",
       "<pre>\n",
       " power.t.test(n = 20, delta = 1)\n",
       " power.t.test(power = .90, delta = 1)\n",
       " power.t.test(power = .90, delta = 1, alternative = \"one.sided\")\n",
       "</pre>\n",
       "\n",
       "<hr /><div style=\"text-align: center;\">[Package <em>stats</em> version 4.0.2 ]</div>"
      ],
      "text/latex": [
       "\\inputencoding{utf8}\n",
       "\\HeaderA{power.t.test}{Power calculations for one and two sample t tests}{power.t.test}\n",
       "\\keyword{htest}{power.t.test}\n",
       "%\n",
       "\\begin{Description}\\relax\n",
       "Compute the power of the one- or two- sample t test,\n",
       "or determine parameters to obtain a target power.\n",
       "\\end{Description}\n",
       "%\n",
       "\\begin{Usage}\n",
       "\\begin{verbatim}\n",
       "power.t.test(n = NULL, delta = NULL, sd = 1, sig.level = 0.05,\n",
       "             power = NULL,\n",
       "             type = c(\"two.sample\", \"one.sample\", \"paired\"),\n",
       "             alternative = c(\"two.sided\", \"one.sided\"),\n",
       "             strict = FALSE, tol = .Machine$double.eps^0.25)\n",
       "\\end{verbatim}\n",
       "\\end{Usage}\n",
       "%\n",
       "\\begin{Arguments}\n",
       "\\begin{ldescription}\n",
       "\\item[\\code{n}] number of observations (per group)\n",
       "\\item[\\code{delta}] true difference in means\n",
       "\\item[\\code{sd}] standard deviation\n",
       "\\item[\\code{sig.level}] significance level (Type I error probability)\n",
       "\\item[\\code{power}] power of test (1 minus Type II error probability)\n",
       "\\item[\\code{type}] string specifying the type of t test.  Can be abbreviated.\n",
       "\\item[\\code{alternative}] one- or two-sided test.  Can be abbreviated.\n",
       "\\item[\\code{strict}] use strict interpretation in two-sided case\n",
       "\\item[\\code{tol}] numerical tolerance used in root finding, the default\n",
       "providing (at least) four significant digits.\n",
       "\\end{ldescription}\n",
       "\\end{Arguments}\n",
       "%\n",
       "\\begin{Details}\\relax\n",
       "Exactly one of the parameters \\code{n}, \\code{delta}, \\code{power},\n",
       "\\code{sd}, and \\code{sig.level} must be passed as \\code{NULL}, and that\n",
       "parameter is determined from the others.  Notice that the last two have\n",
       "non-NULL defaults, so NULL must be explicitly passed if you want to\n",
       "compute them.\n",
       "\n",
       "If \\code{strict = TRUE} is used, the power will include the probability of\n",
       "rejection in the opposite direction of the true effect, in the two-sided\n",
       "case.  Without this the power will be half the significance level if the\n",
       "true difference is zero.\n",
       "\\end{Details}\n",
       "%\n",
       "\\begin{Value}\n",
       "Object of class \\code{\"power.htest\"}, a list of the arguments\n",
       "(including the computed one) augmented with \\code{method} and\n",
       "\\code{note} elements.\n",
       "\\end{Value}\n",
       "%\n",
       "\\begin{Note}\\relax\n",
       "\\code{uniroot} is used to solve the power equation for unknowns, so\n",
       "you may see errors from it, notably about inability to bracket the\n",
       "root when invalid arguments are given.\n",
       "\\end{Note}\n",
       "%\n",
       "\\begin{Author}\\relax\n",
       "Peter Dalgaard.  Based on previous work by Claus\n",
       "Ekstrøm\n",
       "\\end{Author}\n",
       "%\n",
       "\\begin{SeeAlso}\\relax\n",
       "\\code{\\LinkA{t.test}{t.test}}, \\code{\\LinkA{uniroot}{uniroot}}\n",
       "\\end{SeeAlso}\n",
       "%\n",
       "\\begin{Examples}\n",
       "\\begin{ExampleCode}\n",
       " power.t.test(n = 20, delta = 1)\n",
       " power.t.test(power = .90, delta = 1)\n",
       " power.t.test(power = .90, delta = 1, alternative = \"one.sided\")\n",
       "\\end{ExampleCode}\n",
       "\\end{Examples}"
      ],
      "text/plain": [
       "power.t.test               package:stats               R Documentation\n",
       "\n",
       "_\bP_\bo_\bw_\be_\br _\bc_\ba_\bl_\bc_\bu_\bl_\ba_\bt_\bi_\bo_\bn_\bs _\bf_\bo_\br _\bo_\bn_\be _\ba_\bn_\bd _\bt_\bw_\bo _\bs_\ba_\bm_\bp_\bl_\be _\bt _\bt_\be_\bs_\bt_\bs\n",
       "\n",
       "_\bD_\be_\bs_\bc_\br_\bi_\bp_\bt_\bi_\bo_\bn:\n",
       "\n",
       "     Compute the power of the one- or two- sample t test, or determine\n",
       "     parameters to obtain a target power.\n",
       "\n",
       "_\bU_\bs_\ba_\bg_\be:\n",
       "\n",
       "     power.t.test(n = NULL, delta = NULL, sd = 1, sig.level = 0.05,\n",
       "                  power = NULL,\n",
       "                  type = c(\"two.sample\", \"one.sample\", \"paired\"),\n",
       "                  alternative = c(\"two.sided\", \"one.sided\"),\n",
       "                  strict = FALSE, tol = .Machine$double.eps^0.25)\n",
       "     \n",
       "_\bA_\br_\bg_\bu_\bm_\be_\bn_\bt_\bs:\n",
       "\n",
       "       n: number of observations (per group)\n",
       "\n",
       "   delta: true difference in means\n",
       "\n",
       "      sd: standard deviation\n",
       "\n",
       "sig.level: significance level (Type I error probability)\n",
       "\n",
       "   power: power of test (1 minus Type II error probability)\n",
       "\n",
       "    type: string specifying the type of t test.  Can be abbreviated.\n",
       "\n",
       "alternative: one- or two-sided test.  Can be abbreviated.\n",
       "\n",
       "  strict: use strict interpretation in two-sided case\n",
       "\n",
       "     tol: numerical tolerance used in root finding, the default\n",
       "          providing (at least) four significant digits.\n",
       "\n",
       "_\bD_\be_\bt_\ba_\bi_\bl_\bs:\n",
       "\n",
       "     Exactly one of the parameters ‘n’, ‘delta’, ‘power’, ‘sd’, and\n",
       "     ‘sig.level’ must be passed as ‘NULL’, and that parameter is\n",
       "     determined from the others.  Notice that the last two have\n",
       "     non-NULL defaults, so NULL must be explicitly passed if you want\n",
       "     to compute them.\n",
       "\n",
       "     If ‘strict = TRUE’ is used, the power will include the probability\n",
       "     of rejection in the opposite direction of the true effect, in the\n",
       "     two-sided case.  Without this the power will be half the\n",
       "     significance level if the true difference is zero.\n",
       "\n",
       "_\bV_\ba_\bl_\bu_\be:\n",
       "\n",
       "     Object of class ‘\"power.htest\"’, a list of the arguments\n",
       "     (including the computed one) augmented with ‘method’ and ‘note’\n",
       "     elements.\n",
       "\n",
       "_\bN_\bo_\bt_\be:\n",
       "\n",
       "     ‘uniroot’ is used to solve the power equation for unknowns, so you\n",
       "     may see errors from it, notably about inability to bracket the\n",
       "     root when invalid arguments are given.\n",
       "\n",
       "_\bA_\bu_\bt_\bh_\bo_\br(_\bs):\n",
       "\n",
       "     Peter Dalgaard.  Based on previous work by Claus Ekstrøm\n",
       "\n",
       "_\bS_\be_\be _\bA_\bl_\bs_\bo:\n",
       "\n",
       "     ‘t.test’, ‘uniroot’\n",
       "\n",
       "_\bE_\bx_\ba_\bm_\bp_\bl_\be_\bs:\n",
       "\n",
       "      power.t.test(n = 20, delta = 1)\n",
       "      power.t.test(power = .90, delta = 1)\n",
       "      power.t.test(power = .90, delta = 1, alternative = \"one.sided\")\n",
       "     "
      ]
     },
     "metadata": {},
     "output_type": "display_data"
    }
   ],
   "source": [
    "?power.t.test"
   ]
  }
 ],
 "metadata": {
  "kernelspec": {
   "display_name": "R",
   "language": "R",
   "name": "ir"
  },
  "language_info": {
   "codemirror_mode": "r",
   "file_extension": ".r",
   "mimetype": "text/x-r-source",
   "name": "R",
   "pygments_lexer": "r",
   "version": "4.0.2"
  }
 },
 "nbformat": 4,
 "nbformat_minor": 4
}
