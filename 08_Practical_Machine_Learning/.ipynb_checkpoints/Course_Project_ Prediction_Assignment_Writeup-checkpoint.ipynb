{
 "cells": [
  {
   "cell_type": "markdown",
   "metadata": {},
   "source": [
    "## Peer-graded Assignment: Prediction Assignment Writeup"
   ]
  },
  {
   "cell_type": "markdown",
   "metadata": {},
   "source": [
    "### 1. Introduction\n",
    "The goal of your project is to predict the manner in which they did the exercise. This is the \"classe\" variable in the training set. You may use any of the other variables to predict with. You should create a report describing how you built your model, how you used cross validation, what you think the expected out of sample error is, and why you made the choices you did. You will also use your prediction model to predict 20 different test cases."
   ]
  },
  {
   "cell_type": "markdown",
   "metadata": {},
   "source": [
    "### 2. Preprocessing"
   ]
  },
  {
   "cell_type": "code",
   "execution_count": 1,
   "metadata": {},
   "outputs": [],
   "source": [
    "# set working directory\n",
    "setwd(\"/home/yanyuan/Soft/Rtest/datasciencecoursera/08_Practical_Machine_Learning/\")"
   ]
  },
  {
   "cell_type": "code",
   "execution_count": 2,
   "metadata": {},
   "outputs": [
    {
     "name": "stderr",
     "output_type": "stream",
     "text": [
      "Loading required package: lattice\n",
      "\n",
      "Loading required package: ggplot2\n",
      "\n",
      "Loading required package: tibble\n",
      "\n",
      "Loading required package: bitops\n",
      "\n",
      "Rattle: A free graphical interface for data science with R.\n",
      "Version 5.4.0 Copyright (c) 2006-2020 Togaware Pty Ltd.\n",
      "Type 'rattle()' to shake, rattle, and roll your data.\n",
      "\n"
     ]
    }
   ],
   "source": [
    "# load the requied packages\n",
    "library(caret)\n",
    "library(rattle)"
   ]
  },
  {
   "cell_type": "code",
   "execution_count": 3,
   "metadata": {},
   "outputs": [],
   "source": [
    "# Read and pre-process datasets\n",
    "# download the related data before run the following commands\n",
    "training <- read.csv(\"./data/pml-training.csv\", na.strings = c(\"NA\", \"\"))\n",
    "testing <- read.csv(\"./data/pml-testing.csv\", na.strings = c(\"NA\", \"\"))"
   ]
  },
  {
   "cell_type": "code",
   "execution_count": 4,
   "metadata": {},
   "outputs": [
    {
     "data": {
      "text/html": [
       "<style>\n",
       ".list-inline {list-style: none; margin:0; padding: 0}\n",
       ".list-inline>li {display: inline-block}\n",
       ".list-inline>li:not(:last-child)::after {content: \"\\00b7\"; padding: 0 .5ex}\n",
       "</style>\n",
       "<ol class=list-inline><li>19622</li><li>160</li></ol>\n"
      ],
      "text/latex": [
       "\\begin{enumerate*}\n",
       "\\item 19622\n",
       "\\item 160\n",
       "\\end{enumerate*}\n"
      ],
      "text/markdown": [
       "1. 19622\n",
       "2. 160\n",
       "\n",
       "\n"
      ],
      "text/plain": [
       "[1] 19622   160"
      ]
     },
     "metadata": {},
     "output_type": "display_data"
    },
    {
     "data": {
      "text/html": [
       "<style>\n",
       ".list-inline {list-style: none; margin:0; padding: 0}\n",
       ".list-inline>li {display: inline-block}\n",
       ".list-inline>li:not(:last-child)::after {content: \"\\00b7\"; padding: 0 .5ex}\n",
       "</style>\n",
       "<ol class=list-inline><li>20</li><li>160</li></ol>\n"
      ],
      "text/latex": [
       "\\begin{enumerate*}\n",
       "\\item 20\n",
       "\\item 160\n",
       "\\end{enumerate*}\n"
      ],
      "text/markdown": [
       "1. 20\n",
       "2. 160\n",
       "\n",
       "\n"
      ],
      "text/plain": [
       "[1]  20 160"
      ]
     },
     "metadata": {},
     "output_type": "display_data"
    }
   ],
   "source": [
    "## EDA\n",
    "dim(training); dim(testing)"
   ]
  },
  {
   "cell_type": "markdown",
   "metadata": {},
   "source": [
    "There are 19622 observations in training set, 20 in trainingset. In both sets, there are 160 variables to be analyzed, in which `classe` is the outcome."
   ]
  },
  {
   "cell_type": "code",
   "execution_count": 5,
   "metadata": {},
   "outputs": [
    {
     "data": {
      "text/html": [
       "<style>\n",
       ".list-inline {list-style: none; margin:0; padding: 0}\n",
       ".list-inline>li {display: inline-block}\n",
       ".list-inline>li:not(:last-child)::after {content: \"\\00b7\"; padding: 0 .5ex}\n",
       "</style>\n",
       "<ol class=list-inline><li>'A'</li><li>'B'</li><li>'C'</li><li>'D'</li><li>'E'</li></ol>\n"
      ],
      "text/latex": [
       "\\begin{enumerate*}\n",
       "\\item 'A'\n",
       "\\item 'B'\n",
       "\\item 'C'\n",
       "\\item 'D'\n",
       "\\item 'E'\n",
       "\\end{enumerate*}\n"
      ],
      "text/markdown": [
       "1. 'A'\n",
       "2. 'B'\n",
       "3. 'C'\n",
       "4. 'D'\n",
       "5. 'E'\n",
       "\n",
       "\n"
      ],
      "text/plain": [
       "[1] \"A\" \"B\" \"C\" \"D\" \"E\""
      ]
     },
     "metadata": {},
     "output_type": "display_data"
    }
   ],
   "source": [
    "unique(training$classe)"
   ]
  },
  {
   "cell_type": "markdown",
   "metadata": {},
   "source": [
    "5 fashions are included in the `classe` variable\n",
    "- `Class A`: exactly according to the specification\n",
    "- `Class B`: throwing the elbows to the front\n",
    "- `Class C`: lifting the dumbbell only halfway\n",
    "- `Class D`: lowering the dumbbell only halfway\n",
    "- `Class E`:throwing the hips to the front\n",
    "\n",
    "Class A corresponds to the specified execution of the exercise, while the other 4 classes correspond to common mistakes."
   ]
  },
  {
   "cell_type": "code",
   "execution_count": 8,
   "metadata": {},
   "outputs": [],
   "source": [
    "# str(training)"
   ]
  },
  {
   "cell_type": "code",
   "execution_count": 9,
   "metadata": {},
   "outputs": [],
   "source": [
    "# head(training)"
   ]
  },
  {
   "cell_type": "code",
   "execution_count": 6,
   "metadata": {},
   "outputs": [
    {
     "data": {
      "text/html": [
       "<table>\n",
       "<caption>A data.frame: 6 × 160</caption>\n",
       "<thead>\n",
       "\t<tr><th></th><th scope=col>X</th><th scope=col>user_name</th><th scope=col>raw_timestamp_part_1</th><th scope=col>raw_timestamp_part_2</th><th scope=col>cvtd_timestamp</th><th scope=col>new_window</th><th scope=col>num_window</th><th scope=col>roll_belt</th><th scope=col>pitch_belt</th><th scope=col>yaw_belt</th><th scope=col>⋯</th><th scope=col>gyros_forearm_x</th><th scope=col>gyros_forearm_y</th><th scope=col>gyros_forearm_z</th><th scope=col>accel_forearm_x</th><th scope=col>accel_forearm_y</th><th scope=col>accel_forearm_z</th><th scope=col>magnet_forearm_x</th><th scope=col>magnet_forearm_y</th><th scope=col>magnet_forearm_z</th><th scope=col>classe</th></tr>\n",
       "\t<tr><th></th><th scope=col>&lt;int&gt;</th><th scope=col>&lt;chr&gt;</th><th scope=col>&lt;int&gt;</th><th scope=col>&lt;int&gt;</th><th scope=col>&lt;chr&gt;</th><th scope=col>&lt;chr&gt;</th><th scope=col>&lt;int&gt;</th><th scope=col>&lt;dbl&gt;</th><th scope=col>&lt;dbl&gt;</th><th scope=col>&lt;dbl&gt;</th><th scope=col>⋯</th><th scope=col>&lt;dbl&gt;</th><th scope=col>&lt;dbl&gt;</th><th scope=col>&lt;dbl&gt;</th><th scope=col>&lt;int&gt;</th><th scope=col>&lt;int&gt;</th><th scope=col>&lt;int&gt;</th><th scope=col>&lt;int&gt;</th><th scope=col>&lt;dbl&gt;</th><th scope=col>&lt;dbl&gt;</th><th scope=col>&lt;chr&gt;</th></tr>\n",
       "</thead>\n",
       "<tbody>\n",
       "\t<tr><th scope=row>1</th><td>1</td><td>carlitos</td><td>1323084231</td><td>788290</td><td>05/12/2011 11:23</td><td>no</td><td>11</td><td>1.41</td><td>8.07</td><td>-94.4</td><td>⋯</td><td>0.03</td><td> 0.00</td><td>-0.02</td><td>192</td><td>203</td><td>-215</td><td>-17</td><td>654</td><td>476</td><td>A</td></tr>\n",
       "\t<tr><th scope=row>2</th><td>2</td><td>carlitos</td><td>1323084231</td><td>808298</td><td>05/12/2011 11:23</td><td>no</td><td>11</td><td>1.41</td><td>8.07</td><td>-94.4</td><td>⋯</td><td>0.02</td><td> 0.00</td><td>-0.02</td><td>192</td><td>203</td><td>-216</td><td>-18</td><td>661</td><td>473</td><td>A</td></tr>\n",
       "\t<tr><th scope=row>3</th><td>3</td><td>carlitos</td><td>1323084231</td><td>820366</td><td>05/12/2011 11:23</td><td>no</td><td>11</td><td>1.42</td><td>8.07</td><td>-94.4</td><td>⋯</td><td>0.03</td><td>-0.02</td><td> 0.00</td><td>196</td><td>204</td><td>-213</td><td>-18</td><td>658</td><td>469</td><td>A</td></tr>\n",
       "\t<tr><th scope=row>4</th><td>4</td><td>carlitos</td><td>1323084232</td><td>120339</td><td>05/12/2011 11:23</td><td>no</td><td>12</td><td>1.48</td><td>8.05</td><td>-94.4</td><td>⋯</td><td>0.02</td><td>-0.02</td><td> 0.00</td><td>189</td><td>206</td><td>-214</td><td>-16</td><td>658</td><td>469</td><td>A</td></tr>\n",
       "\t<tr><th scope=row>5</th><td>5</td><td>carlitos</td><td>1323084232</td><td>196328</td><td>05/12/2011 11:23</td><td>no</td><td>12</td><td>1.48</td><td>8.07</td><td>-94.4</td><td>⋯</td><td>0.02</td><td> 0.00</td><td>-0.02</td><td>189</td><td>206</td><td>-214</td><td>-17</td><td>655</td><td>473</td><td>A</td></tr>\n",
       "\t<tr><th scope=row>6</th><td>6</td><td>carlitos</td><td>1323084232</td><td>304277</td><td>05/12/2011 11:23</td><td>no</td><td>12</td><td>1.45</td><td>8.06</td><td>-94.4</td><td>⋯</td><td>0.02</td><td>-0.02</td><td>-0.03</td><td>193</td><td>203</td><td>-215</td><td> -9</td><td>660</td><td>478</td><td>A</td></tr>\n",
       "</tbody>\n",
       "</table>\n"
      ],
      "text/latex": [
       "A data.frame: 6 × 160\n",
       "\\begin{tabular}{r|lllllllllllllllllllll}\n",
       "  & X & user\\_name & raw\\_timestamp\\_part\\_1 & raw\\_timestamp\\_part\\_2 & cvtd\\_timestamp & new\\_window & num\\_window & roll\\_belt & pitch\\_belt & yaw\\_belt & ⋯ & gyros\\_forearm\\_x & gyros\\_forearm\\_y & gyros\\_forearm\\_z & accel\\_forearm\\_x & accel\\_forearm\\_y & accel\\_forearm\\_z & magnet\\_forearm\\_x & magnet\\_forearm\\_y & magnet\\_forearm\\_z & classe\\\\\n",
       "  & <int> & <chr> & <int> & <int> & <chr> & <chr> & <int> & <dbl> & <dbl> & <dbl> & ⋯ & <dbl> & <dbl> & <dbl> & <int> & <int> & <int> & <int> & <dbl> & <dbl> & <chr>\\\\\n",
       "\\hline\n",
       "\t1 & 1 & carlitos & 1323084231 & 788290 & 05/12/2011 11:23 & no & 11 & 1.41 & 8.07 & -94.4 & ⋯ & 0.03 &  0.00 & -0.02 & 192 & 203 & -215 & -17 & 654 & 476 & A\\\\\n",
       "\t2 & 2 & carlitos & 1323084231 & 808298 & 05/12/2011 11:23 & no & 11 & 1.41 & 8.07 & -94.4 & ⋯ & 0.02 &  0.00 & -0.02 & 192 & 203 & -216 & -18 & 661 & 473 & A\\\\\n",
       "\t3 & 3 & carlitos & 1323084231 & 820366 & 05/12/2011 11:23 & no & 11 & 1.42 & 8.07 & -94.4 & ⋯ & 0.03 & -0.02 &  0.00 & 196 & 204 & -213 & -18 & 658 & 469 & A\\\\\n",
       "\t4 & 4 & carlitos & 1323084232 & 120339 & 05/12/2011 11:23 & no & 12 & 1.48 & 8.05 & -94.4 & ⋯ & 0.02 & -0.02 &  0.00 & 189 & 206 & -214 & -16 & 658 & 469 & A\\\\\n",
       "\t5 & 5 & carlitos & 1323084232 & 196328 & 05/12/2011 11:23 & no & 12 & 1.48 & 8.07 & -94.4 & ⋯ & 0.02 &  0.00 & -0.02 & 189 & 206 & -214 & -17 & 655 & 473 & A\\\\\n",
       "\t6 & 6 & carlitos & 1323084232 & 304277 & 05/12/2011 11:23 & no & 12 & 1.45 & 8.06 & -94.4 & ⋯ & 0.02 & -0.02 & -0.03 & 193 & 203 & -215 &  -9 & 660 & 478 & A\\\\\n",
       "\\end{tabular}\n"
      ],
      "text/markdown": [
       "\n",
       "A data.frame: 6 × 160\n",
       "\n",
       "| <!--/--> | X &lt;int&gt; | user_name &lt;chr&gt; | raw_timestamp_part_1 &lt;int&gt; | raw_timestamp_part_2 &lt;int&gt; | cvtd_timestamp &lt;chr&gt; | new_window &lt;chr&gt; | num_window &lt;int&gt; | roll_belt &lt;dbl&gt; | pitch_belt &lt;dbl&gt; | yaw_belt &lt;dbl&gt; | ⋯ ⋯ | gyros_forearm_x &lt;dbl&gt; | gyros_forearm_y &lt;dbl&gt; | gyros_forearm_z &lt;dbl&gt; | accel_forearm_x &lt;int&gt; | accel_forearm_y &lt;int&gt; | accel_forearm_z &lt;int&gt; | magnet_forearm_x &lt;int&gt; | magnet_forearm_y &lt;dbl&gt; | magnet_forearm_z &lt;dbl&gt; | classe &lt;chr&gt; |\n",
       "|---|---|---|---|---|---|---|---|---|---|---|---|---|---|---|---|---|---|---|---|---|---|\n",
       "| 1 | 1 | carlitos | 1323084231 | 788290 | 05/12/2011 11:23 | no | 11 | 1.41 | 8.07 | -94.4 | ⋯ | 0.03 |  0.00 | -0.02 | 192 | 203 | -215 | -17 | 654 | 476 | A |\n",
       "| 2 | 2 | carlitos | 1323084231 | 808298 | 05/12/2011 11:23 | no | 11 | 1.41 | 8.07 | -94.4 | ⋯ | 0.02 |  0.00 | -0.02 | 192 | 203 | -216 | -18 | 661 | 473 | A |\n",
       "| 3 | 3 | carlitos | 1323084231 | 820366 | 05/12/2011 11:23 | no | 11 | 1.42 | 8.07 | -94.4 | ⋯ | 0.03 | -0.02 |  0.00 | 196 | 204 | -213 | -18 | 658 | 469 | A |\n",
       "| 4 | 4 | carlitos | 1323084232 | 120339 | 05/12/2011 11:23 | no | 12 | 1.48 | 8.05 | -94.4 | ⋯ | 0.02 | -0.02 |  0.00 | 189 | 206 | -214 | -16 | 658 | 469 | A |\n",
       "| 5 | 5 | carlitos | 1323084232 | 196328 | 05/12/2011 11:23 | no | 12 | 1.48 | 8.07 | -94.4 | ⋯ | 0.02 |  0.00 | -0.02 | 189 | 206 | -214 | -17 | 655 | 473 | A |\n",
       "| 6 | 6 | carlitos | 1323084232 | 304277 | 05/12/2011 11:23 | no | 12 | 1.45 | 8.06 | -94.4 | ⋯ | 0.02 | -0.02 | -0.03 | 193 | 203 | -215 |  -9 | 660 | 478 | A |\n",
       "\n"
      ],
      "text/plain": [
       "  X user_name raw_timestamp_part_1 raw_timestamp_part_2 cvtd_timestamp  \n",
       "1 1 carlitos  1323084231           788290               05/12/2011 11:23\n",
       "2 2 carlitos  1323084231           808298               05/12/2011 11:23\n",
       "3 3 carlitos  1323084231           820366               05/12/2011 11:23\n",
       "4 4 carlitos  1323084232           120339               05/12/2011 11:23\n",
       "5 5 carlitos  1323084232           196328               05/12/2011 11:23\n",
       "6 6 carlitos  1323084232           304277               05/12/2011 11:23\n",
       "  new_window num_window roll_belt pitch_belt yaw_belt ⋯ gyros_forearm_x\n",
       "1 no         11         1.41      8.07       -94.4    ⋯ 0.03           \n",
       "2 no         11         1.41      8.07       -94.4    ⋯ 0.02           \n",
       "3 no         11         1.42      8.07       -94.4    ⋯ 0.03           \n",
       "4 no         12         1.48      8.05       -94.4    ⋯ 0.02           \n",
       "5 no         12         1.48      8.07       -94.4    ⋯ 0.02           \n",
       "6 no         12         1.45      8.06       -94.4    ⋯ 0.02           \n",
       "  gyros_forearm_y gyros_forearm_z accel_forearm_x accel_forearm_y\n",
       "1  0.00           -0.02           192             203            \n",
       "2  0.00           -0.02           192             203            \n",
       "3 -0.02            0.00           196             204            \n",
       "4 -0.02            0.00           189             206            \n",
       "5  0.00           -0.02           189             206            \n",
       "6 -0.02           -0.03           193             203            \n",
       "  accel_forearm_z magnet_forearm_x magnet_forearm_y magnet_forearm_z classe\n",
       "1 -215            -17              654              476              A     \n",
       "2 -216            -18              661              473              A     \n",
       "3 -213            -18              658              469              A     \n",
       "4 -214            -16              658              469              A     \n",
       "5 -214            -17              655              473              A     \n",
       "6 -215             -9              660              478              A     "
      ]
     },
     "metadata": {},
     "output_type": "display_data"
    }
   ],
   "source": [
    "head(training)"
   ]
  },
  {
   "cell_type": "code",
   "execution_count": 7,
   "metadata": {},
   "outputs": [],
   "source": [
    "# Remove the first 7 columns which are irrelevant for analysis\n",
    "training <- training[,-c(1:7)]\n",
    "testing <- testing[, -c(1:7)]"
   ]
  },
  {
   "cell_type": "code",
   "execution_count": 8,
   "metadata": {},
   "outputs": [
    {
     "data": {
      "text/html": [
       "<table>\n",
       "<caption>A data.frame: 6 × 153</caption>\n",
       "<thead>\n",
       "\t<tr><th></th><th scope=col>roll_belt</th><th scope=col>pitch_belt</th><th scope=col>yaw_belt</th><th scope=col>total_accel_belt</th><th scope=col>kurtosis_roll_belt</th><th scope=col>kurtosis_picth_belt</th><th scope=col>kurtosis_yaw_belt</th><th scope=col>skewness_roll_belt</th><th scope=col>skewness_roll_belt.1</th><th scope=col>skewness_yaw_belt</th><th scope=col>⋯</th><th scope=col>gyros_forearm_x</th><th scope=col>gyros_forearm_y</th><th scope=col>gyros_forearm_z</th><th scope=col>accel_forearm_x</th><th scope=col>accel_forearm_y</th><th scope=col>accel_forearm_z</th><th scope=col>magnet_forearm_x</th><th scope=col>magnet_forearm_y</th><th scope=col>magnet_forearm_z</th><th scope=col>classe</th></tr>\n",
       "\t<tr><th></th><th scope=col>&lt;dbl&gt;</th><th scope=col>&lt;dbl&gt;</th><th scope=col>&lt;dbl&gt;</th><th scope=col>&lt;int&gt;</th><th scope=col>&lt;chr&gt;</th><th scope=col>&lt;chr&gt;</th><th scope=col>&lt;chr&gt;</th><th scope=col>&lt;chr&gt;</th><th scope=col>&lt;chr&gt;</th><th scope=col>&lt;chr&gt;</th><th scope=col>⋯</th><th scope=col>&lt;dbl&gt;</th><th scope=col>&lt;dbl&gt;</th><th scope=col>&lt;dbl&gt;</th><th scope=col>&lt;int&gt;</th><th scope=col>&lt;int&gt;</th><th scope=col>&lt;int&gt;</th><th scope=col>&lt;int&gt;</th><th scope=col>&lt;dbl&gt;</th><th scope=col>&lt;dbl&gt;</th><th scope=col>&lt;chr&gt;</th></tr>\n",
       "</thead>\n",
       "<tbody>\n",
       "\t<tr><th scope=row>1</th><td>1.41</td><td>8.07</td><td>-94.4</td><td>3</td><td>NA</td><td>NA</td><td>NA</td><td>NA</td><td>NA</td><td>NA</td><td>⋯</td><td>0.03</td><td> 0.00</td><td>-0.02</td><td>192</td><td>203</td><td>-215</td><td>-17</td><td>654</td><td>476</td><td>A</td></tr>\n",
       "\t<tr><th scope=row>2</th><td>1.41</td><td>8.07</td><td>-94.4</td><td>3</td><td>NA</td><td>NA</td><td>NA</td><td>NA</td><td>NA</td><td>NA</td><td>⋯</td><td>0.02</td><td> 0.00</td><td>-0.02</td><td>192</td><td>203</td><td>-216</td><td>-18</td><td>661</td><td>473</td><td>A</td></tr>\n",
       "\t<tr><th scope=row>3</th><td>1.42</td><td>8.07</td><td>-94.4</td><td>3</td><td>NA</td><td>NA</td><td>NA</td><td>NA</td><td>NA</td><td>NA</td><td>⋯</td><td>0.03</td><td>-0.02</td><td> 0.00</td><td>196</td><td>204</td><td>-213</td><td>-18</td><td>658</td><td>469</td><td>A</td></tr>\n",
       "\t<tr><th scope=row>4</th><td>1.48</td><td>8.05</td><td>-94.4</td><td>3</td><td>NA</td><td>NA</td><td>NA</td><td>NA</td><td>NA</td><td>NA</td><td>⋯</td><td>0.02</td><td>-0.02</td><td> 0.00</td><td>189</td><td>206</td><td>-214</td><td>-16</td><td>658</td><td>469</td><td>A</td></tr>\n",
       "\t<tr><th scope=row>5</th><td>1.48</td><td>8.07</td><td>-94.4</td><td>3</td><td>NA</td><td>NA</td><td>NA</td><td>NA</td><td>NA</td><td>NA</td><td>⋯</td><td>0.02</td><td> 0.00</td><td>-0.02</td><td>189</td><td>206</td><td>-214</td><td>-17</td><td>655</td><td>473</td><td>A</td></tr>\n",
       "\t<tr><th scope=row>6</th><td>1.45</td><td>8.06</td><td>-94.4</td><td>3</td><td>NA</td><td>NA</td><td>NA</td><td>NA</td><td>NA</td><td>NA</td><td>⋯</td><td>0.02</td><td>-0.02</td><td>-0.03</td><td>193</td><td>203</td><td>-215</td><td> -9</td><td>660</td><td>478</td><td>A</td></tr>\n",
       "</tbody>\n",
       "</table>\n"
      ],
      "text/latex": [
       "A data.frame: 6 × 153\n",
       "\\begin{tabular}{r|lllllllllllllllllllll}\n",
       "  & roll\\_belt & pitch\\_belt & yaw\\_belt & total\\_accel\\_belt & kurtosis\\_roll\\_belt & kurtosis\\_picth\\_belt & kurtosis\\_yaw\\_belt & skewness\\_roll\\_belt & skewness\\_roll\\_belt.1 & skewness\\_yaw\\_belt & ⋯ & gyros\\_forearm\\_x & gyros\\_forearm\\_y & gyros\\_forearm\\_z & accel\\_forearm\\_x & accel\\_forearm\\_y & accel\\_forearm\\_z & magnet\\_forearm\\_x & magnet\\_forearm\\_y & magnet\\_forearm\\_z & classe\\\\\n",
       "  & <dbl> & <dbl> & <dbl> & <int> & <chr> & <chr> & <chr> & <chr> & <chr> & <chr> & ⋯ & <dbl> & <dbl> & <dbl> & <int> & <int> & <int> & <int> & <dbl> & <dbl> & <chr>\\\\\n",
       "\\hline\n",
       "\t1 & 1.41 & 8.07 & -94.4 & 3 & NA & NA & NA & NA & NA & NA & ⋯ & 0.03 &  0.00 & -0.02 & 192 & 203 & -215 & -17 & 654 & 476 & A\\\\\n",
       "\t2 & 1.41 & 8.07 & -94.4 & 3 & NA & NA & NA & NA & NA & NA & ⋯ & 0.02 &  0.00 & -0.02 & 192 & 203 & -216 & -18 & 661 & 473 & A\\\\\n",
       "\t3 & 1.42 & 8.07 & -94.4 & 3 & NA & NA & NA & NA & NA & NA & ⋯ & 0.03 & -0.02 &  0.00 & 196 & 204 & -213 & -18 & 658 & 469 & A\\\\\n",
       "\t4 & 1.48 & 8.05 & -94.4 & 3 & NA & NA & NA & NA & NA & NA & ⋯ & 0.02 & -0.02 &  0.00 & 189 & 206 & -214 & -16 & 658 & 469 & A\\\\\n",
       "\t5 & 1.48 & 8.07 & -94.4 & 3 & NA & NA & NA & NA & NA & NA & ⋯ & 0.02 &  0.00 & -0.02 & 189 & 206 & -214 & -17 & 655 & 473 & A\\\\\n",
       "\t6 & 1.45 & 8.06 & -94.4 & 3 & NA & NA & NA & NA & NA & NA & ⋯ & 0.02 & -0.02 & -0.03 & 193 & 203 & -215 &  -9 & 660 & 478 & A\\\\\n",
       "\\end{tabular}\n"
      ],
      "text/markdown": [
       "\n",
       "A data.frame: 6 × 153\n",
       "\n",
       "| <!--/--> | roll_belt &lt;dbl&gt; | pitch_belt &lt;dbl&gt; | yaw_belt &lt;dbl&gt; | total_accel_belt &lt;int&gt; | kurtosis_roll_belt &lt;chr&gt; | kurtosis_picth_belt &lt;chr&gt; | kurtosis_yaw_belt &lt;chr&gt; | skewness_roll_belt &lt;chr&gt; | skewness_roll_belt.1 &lt;chr&gt; | skewness_yaw_belt &lt;chr&gt; | ⋯ ⋯ | gyros_forearm_x &lt;dbl&gt; | gyros_forearm_y &lt;dbl&gt; | gyros_forearm_z &lt;dbl&gt; | accel_forearm_x &lt;int&gt; | accel_forearm_y &lt;int&gt; | accel_forearm_z &lt;int&gt; | magnet_forearm_x &lt;int&gt; | magnet_forearm_y &lt;dbl&gt; | magnet_forearm_z &lt;dbl&gt; | classe &lt;chr&gt; |\n",
       "|---|---|---|---|---|---|---|---|---|---|---|---|---|---|---|---|---|---|---|---|---|---|\n",
       "| 1 | 1.41 | 8.07 | -94.4 | 3 | NA | NA | NA | NA | NA | NA | ⋯ | 0.03 |  0.00 | -0.02 | 192 | 203 | -215 | -17 | 654 | 476 | A |\n",
       "| 2 | 1.41 | 8.07 | -94.4 | 3 | NA | NA | NA | NA | NA | NA | ⋯ | 0.02 |  0.00 | -0.02 | 192 | 203 | -216 | -18 | 661 | 473 | A |\n",
       "| 3 | 1.42 | 8.07 | -94.4 | 3 | NA | NA | NA | NA | NA | NA | ⋯ | 0.03 | -0.02 |  0.00 | 196 | 204 | -213 | -18 | 658 | 469 | A |\n",
       "| 4 | 1.48 | 8.05 | -94.4 | 3 | NA | NA | NA | NA | NA | NA | ⋯ | 0.02 | -0.02 |  0.00 | 189 | 206 | -214 | -16 | 658 | 469 | A |\n",
       "| 5 | 1.48 | 8.07 | -94.4 | 3 | NA | NA | NA | NA | NA | NA | ⋯ | 0.02 |  0.00 | -0.02 | 189 | 206 | -214 | -17 | 655 | 473 | A |\n",
       "| 6 | 1.45 | 8.06 | -94.4 | 3 | NA | NA | NA | NA | NA | NA | ⋯ | 0.02 | -0.02 | -0.03 | 193 | 203 | -215 |  -9 | 660 | 478 | A |\n",
       "\n"
      ],
      "text/plain": [
       "  roll_belt pitch_belt yaw_belt total_accel_belt kurtosis_roll_belt\n",
       "1 1.41      8.07       -94.4    3                NA                \n",
       "2 1.41      8.07       -94.4    3                NA                \n",
       "3 1.42      8.07       -94.4    3                NA                \n",
       "4 1.48      8.05       -94.4    3                NA                \n",
       "5 1.48      8.07       -94.4    3                NA                \n",
       "6 1.45      8.06       -94.4    3                NA                \n",
       "  kurtosis_picth_belt kurtosis_yaw_belt skewness_roll_belt skewness_roll_belt.1\n",
       "1 NA                  NA                NA                 NA                  \n",
       "2 NA                  NA                NA                 NA                  \n",
       "3 NA                  NA                NA                 NA                  \n",
       "4 NA                  NA                NA                 NA                  \n",
       "5 NA                  NA                NA                 NA                  \n",
       "6 NA                  NA                NA                 NA                  \n",
       "  skewness_yaw_belt ⋯ gyros_forearm_x gyros_forearm_y gyros_forearm_z\n",
       "1 NA                ⋯ 0.03             0.00           -0.02          \n",
       "2 NA                ⋯ 0.02             0.00           -0.02          \n",
       "3 NA                ⋯ 0.03            -0.02            0.00          \n",
       "4 NA                ⋯ 0.02            -0.02            0.00          \n",
       "5 NA                ⋯ 0.02             0.00           -0.02          \n",
       "6 NA                ⋯ 0.02            -0.02           -0.03          \n",
       "  accel_forearm_x accel_forearm_y accel_forearm_z magnet_forearm_x\n",
       "1 192             203             -215            -17             \n",
       "2 192             203             -216            -18             \n",
       "3 196             204             -213            -18             \n",
       "4 189             206             -214            -16             \n",
       "5 189             206             -214            -17             \n",
       "6 193             203             -215             -9             \n",
       "  magnet_forearm_y magnet_forearm_z classe\n",
       "1 654              476              A     \n",
       "2 661              473              A     \n",
       "3 658              469              A     \n",
       "4 658              469              A     \n",
       "5 655              473              A     \n",
       "6 660              478              A     "
      ]
     },
     "metadata": {},
     "output_type": "display_data"
    }
   ],
   "source": [
    "head(training)"
   ]
  },
  {
   "cell_type": "markdown",
   "metadata": {},
   "source": [
    "There are so many items with NA values, which are supposed to be deleted"
   ]
  },
  {
   "cell_type": "code",
   "execution_count": 9,
   "metadata": {},
   "outputs": [
    {
     "data": {
      "text/html": [
       "<style>\n",
       ".list-inline {list-style: none; margin:0; padding: 0}\n",
       ".list-inline>li {display: inline-block}\n",
       ".list-inline>li:not(:last-child)::after {content: \"\\00b7\"; padding: 0 .5ex}\n",
       "</style>\n",
       "<ol class=list-inline><li>19622</li><li>53</li></ol>\n"
      ],
      "text/latex": [
       "\\begin{enumerate*}\n",
       "\\item 19622\n",
       "\\item 53\n",
       "\\end{enumerate*}\n"
      ],
      "text/markdown": [
       "1. 19622\n",
       "2. 53\n",
       "\n",
       "\n"
      ],
      "text/plain": [
       "[1] 19622    53"
      ]
     },
     "metadata": {},
     "output_type": "display_data"
    }
   ],
   "source": [
    "name_list <- names(training)[!colSums(is.na(training))>0]\n",
    "# name_list\n",
    "training <- training[,name_list]\n",
    "dim(training)"
   ]
  },
  {
   "cell_type": "markdown",
   "metadata": {},
   "source": [
    "With train-test-split already finished, we furthermore split training set into training and cross validation sets accordingly"
   ]
  },
  {
   "cell_type": "code",
   "execution_count": 10,
   "metadata": {},
   "outputs": [],
   "source": [
    "set.seed(7826)\n",
    "inTrain <- createDataPartition(y = training$classe\n",
    "                              , p = 0.7\n",
    "                              , list = FALSE\n",
    "                              )\n",
    "validation <- training[-inTrain, ]\n",
    "training <- training[inTrain, ]"
   ]
  },
  {
   "cell_type": "code",
   "execution_count": 11,
   "metadata": {},
   "outputs": [
    {
     "data": {
      "text/html": [
       "<style>\n",
       ".list-inline {list-style: none; margin:0; padding: 0}\n",
       ".list-inline>li {display: inline-block}\n",
       ".list-inline>li:not(:last-child)::after {content: \"\\00b7\"; padding: 0 .5ex}\n",
       "</style>\n",
       "<ol class=list-inline><li>13737</li><li>53</li></ol>\n"
      ],
      "text/latex": [
       "\\begin{enumerate*}\n",
       "\\item 13737\n",
       "\\item 53\n",
       "\\end{enumerate*}\n"
      ],
      "text/markdown": [
       "1. 13737\n",
       "2. 53\n",
       "\n",
       "\n"
      ],
      "text/plain": [
       "[1] 13737    53"
      ]
     },
     "metadata": {},
     "output_type": "display_data"
    },
    {
     "data": {
      "text/html": [
       "<style>\n",
       ".list-inline {list-style: none; margin:0; padding: 0}\n",
       ".list-inline>li {display: inline-block}\n",
       ".list-inline>li:not(:last-child)::after {content: \"\\00b7\"; padding: 0 .5ex}\n",
       "</style>\n",
       "<ol class=list-inline><li>5885</li><li>53</li></ol>\n"
      ],
      "text/latex": [
       "\\begin{enumerate*}\n",
       "\\item 5885\n",
       "\\item 53\n",
       "\\end{enumerate*}\n"
      ],
      "text/markdown": [
       "1. 5885\n",
       "2. 53\n",
       "\n",
       "\n"
      ],
      "text/plain": [
       "[1] 5885   53"
      ]
     },
     "metadata": {},
     "output_type": "display_data"
    },
    {
     "data": {
      "text/html": [
       "<style>\n",
       ".list-inline {list-style: none; margin:0; padding: 0}\n",
       ".list-inline>li {display: inline-block}\n",
       ".list-inline>li:not(:last-child)::after {content: \"\\00b7\"; padding: 0 .5ex}\n",
       "</style>\n",
       "<ol class=list-inline><li>20</li><li>153</li></ol>\n"
      ],
      "text/latex": [
       "\\begin{enumerate*}\n",
       "\\item 20\n",
       "\\item 153\n",
       "\\end{enumerate*}\n"
      ],
      "text/markdown": [
       "1. 20\n",
       "2. 153\n",
       "\n",
       "\n"
      ],
      "text/plain": [
       "[1]  20 153"
      ]
     },
     "metadata": {},
     "output_type": "display_data"
    }
   ],
   "source": [
    "dim(training); dim(validation); dim(testing)\n",
    "# dim(training)[1] + dim(validation)[1] + dim(testing)[1] == 19642 # TRUE"
   ]
  },
  {
   "cell_type": "code",
   "execution_count": 12,
   "metadata": {},
   "outputs": [],
   "source": [
    "# str(validation$classe)"
   ]
  },
  {
   "cell_type": "code",
   "execution_count": 13,
   "metadata": {},
   "outputs": [],
   "source": [
    "# change classe type from chr to factor\n",
    "training$classe <- factor(training$classe)\n",
    "validation$classe <- factor(validation$classe)\n",
    "# testing$classe <- factor(testing$classe)"
   ]
  },
  {
   "cell_type": "markdown",
   "metadata": {},
   "source": [
    "## 3. Modelling\n",
    "\n",
    "We set up 2 modelling algorithms: classification trees, and random forests, to predict the outcome\n",
    "\n",
    "### 3.1 Classification Trees\n",
    "\n",
    "Set $k=5$ for k-fold cors validation"
   ]
  },
  {
   "cell_type": "code",
   "execution_count": 15,
   "metadata": {},
   "outputs": [],
   "source": [
    "modFit_rpart <- train(classe ~.\n",
    "                     , data = training\n",
    "                     , method = 'rpart'\n",
    "                     , trControl = trainControl(method = \"cv\", number = 5)\n",
    "                      )"
   ]
  },
  {
   "cell_type": "code",
   "execution_count": 16,
   "metadata": {},
   "outputs": [
    {
     "data": {
      "text/plain": [
       "CART \n",
       "\n",
       "13737 samples\n",
       "   52 predictor\n",
       "    5 classes: 'A', 'B', 'C', 'D', 'E' \n",
       "\n",
       "No pre-processing\n",
       "Resampling: Cross-Validated (5 fold) \n",
       "Summary of sample sizes: 10990, 10990, 10990, 10989, 10989 \n",
       "Resampling results across tuning parameters:\n",
       "\n",
       "  cp          Accuracy   Kappa     \n",
       "  0.03102431  0.5260239  0.38037552\n",
       "  0.05953955  0.3935299  0.16981833\n",
       "  0.11585800  0.3168074  0.04946018\n",
       "\n",
       "Accuracy was used to select the optimal model using the largest value.\n",
       "The final value used for the model was cp = 0.03102431."
      ]
     },
     "metadata": {},
     "output_type": "display_data"
    }
   ],
   "source": [
    "modFit_rpart"
   ]
  },
  {
   "cell_type": "code",
   "execution_count": 17,
   "metadata": {},
   "outputs": [
    {
     "data": {
      "image/png": "[encoded data removed]",
      "text/plain": [
       "Plot with title “”"
      ]
     },
     "metadata": {
      "image/png": {
       "height": 420,
       "width": 420
      }
     },
     "output_type": "display_data"
    }
   ],
   "source": [
    "fancyRpartPlot(modFit_rpart$finalModel)"
   ]
  },
  {
   "cell_type": "code",
   "execution_count": 18,
   "metadata": {},
   "outputs": [
    {
     "data": {
      "text/plain": [
       "Confusion Matrix and Statistics\n",
       "\n",
       "          Reference\n",
       "Prediction    A    B    C    D    E\n",
       "         A 1510  464  467  432  164\n",
       "         B   27  410   37  163  144\n",
       "         C  134  265  522  369  293\n",
       "         D    0    0    0    0    0\n",
       "         E    3    0    0    0  481\n",
       "\n",
       "Overall Statistics\n",
       "                                          \n",
       "               Accuracy : 0.4967          \n",
       "                 95% CI : (0.4838, 0.5095)\n",
       "    No Information Rate : 0.2845          \n",
       "    P-Value [Acc > NIR] : < 2.2e-16       \n",
       "                                          \n",
       "                  Kappa : 0.3425          \n",
       "                                          \n",
       " Mcnemar's Test P-Value : NA              \n",
       "\n",
       "Statistics by Class:\n",
       "\n",
       "                     Class: A Class: B Class: C Class: D Class: E\n",
       "Sensitivity            0.9020  0.35996   0.5088   0.0000  0.44455\n",
       "Specificity            0.6374  0.92183   0.7816   1.0000  0.99938\n",
       "Pos Pred Value         0.4972  0.52497   0.3298      NaN  0.99380\n",
       "Neg Pred Value         0.9424  0.85717   0.8828   0.8362  0.88872\n",
       "Prevalence             0.2845  0.19354   0.1743   0.1638  0.18386\n",
       "Detection Rate         0.2566  0.06967   0.0887   0.0000  0.08173\n",
       "Detection Prevalence   0.5161  0.13271   0.2690   0.0000  0.08224\n",
       "Balanced Accuracy      0.7697  0.64090   0.6452   0.5000  0.72196"
      ]
     },
     "metadata": {},
     "output_type": "display_data"
    }
   ],
   "source": [
    "# predict outcomes using validation set\n",
    "pred_rpart <- predict(modFit_rpart, validation)\n",
    "conf_rpart <- confusionMatrix(pred_rpart, validation$classe)\n",
    "conf_rpart"
   ]
  },
  {
   "cell_type": "markdown",
   "metadata": {},
   "source": [
    "In which we can see the total accuracy of classification trees algorithm is:"
   ]
  },
  {
   "cell_type": "code",
   "execution_count": 19,
   "metadata": {},
   "outputs": [
    {
     "data": {
      "text/html": [
       "<strong>Accuracy:</strong> 0.496686491079014"
      ],
      "text/latex": [
       "\\textbf{Accuracy:} 0.496686491079014"
      ],
      "text/markdown": [
       "**Accuracy:** 0.496686491079014"
      ],
      "text/plain": [
       " Accuracy \n",
       "0.4966865 "
      ]
     },
     "metadata": {},
     "output_type": "display_data"
    }
   ],
   "source": [
    "conf_rpart$overall[1]"
   ]
  },
  {
   "cell_type": "markdown",
   "metadata": {},
   "source": [
    "Which is not quite good, indicating the classification trees is nog a good model to predict outcome `classe`"
   ]
  },
  {
   "cell_type": "markdown",
   "metadata": {},
   "source": [
    "### 3.2 Random Forest\n",
    "\n",
    "We try alternative algorithm, the random forest"
   ]
  },
  {
   "cell_type": "code",
   "execution_count": 20,
   "metadata": {},
   "outputs": [],
   "source": [
    "# caution: it takes about 7 minutes in my PC, be patient\n",
    "modFit_rf <- train(classe ~.\n",
    "                   , data = training\n",
    "                   , method = 'rf'\n",
    "                   , trControl = trainControl(method = 'cv', number = 5)    \n",
    ")"
   ]
  },
  {
   "cell_type": "code",
   "execution_count": 21,
   "metadata": {},
   "outputs": [
    {
     "data": {
      "text/plain": [
       "Random Forest \n",
       "\n",
       "13737 samples\n",
       "   52 predictor\n",
       "    5 classes: 'A', 'B', 'C', 'D', 'E' \n",
       "\n",
       "No pre-processing\n",
       "Resampling: Cross-Validated (5 fold) \n",
       "Summary of sample sizes: 10991, 10990, 10990, 10988, 10989 \n",
       "Resampling results across tuning parameters:\n",
       "\n",
       "  mtry  Accuracy   Kappa    \n",
       "   2    0.9912647  0.9889487\n",
       "  27    0.9920651  0.9899622\n",
       "  52    0.9839845  0.9797391\n",
       "\n",
       "Accuracy was used to select the optimal model using the largest value.\n",
       "The final value used for the model was mtry = 27."
      ]
     },
     "metadata": {},
     "output_type": "display_data"
    }
   ],
   "source": [
    "modFit_rf"
   ]
  },
  {
   "cell_type": "code",
   "execution_count": 23,
   "metadata": {},
   "outputs": [
    {
     "data": {
      "text/plain": [
       "Confusion Matrix and Statistics\n",
       "\n",
       "          Reference\n",
       "Prediction    A    B    C    D    E\n",
       "         A 1671    4    0    0    0\n",
       "         B    2 1134    8    0    1\n",
       "         C    0    1 1013   16    1\n",
       "         D    0    0    5  947    9\n",
       "         E    1    0    0    1 1071\n",
       "\n",
       "Overall Statistics\n",
       "                                         \n",
       "               Accuracy : 0.9917         \n",
       "                 95% CI : (0.989, 0.9938)\n",
       "    No Information Rate : 0.2845         \n",
       "    P-Value [Acc > NIR] : < 2.2e-16      \n",
       "                                         \n",
       "                  Kappa : 0.9895         \n",
       "                                         \n",
       " Mcnemar's Test P-Value : NA             \n",
       "\n",
       "Statistics by Class:\n",
       "\n",
       "                     Class: A Class: B Class: C Class: D Class: E\n",
       "Sensitivity            0.9982   0.9956   0.9873   0.9824   0.9898\n",
       "Specificity            0.9991   0.9977   0.9963   0.9972   0.9996\n",
       "Pos Pred Value         0.9976   0.9904   0.9825   0.9854   0.9981\n",
       "Neg Pred Value         0.9993   0.9989   0.9973   0.9965   0.9977\n",
       "Prevalence             0.2845   0.1935   0.1743   0.1638   0.1839\n",
       "Detection Rate         0.2839   0.1927   0.1721   0.1609   0.1820\n",
       "Detection Prevalence   0.2846   0.1946   0.1752   0.1633   0.1823\n",
       "Balanced Accuracy      0.9986   0.9966   0.9918   0.9898   0.9947"
      ]
     },
     "metadata": {},
     "output_type": "display_data"
    }
   ],
   "source": [
    "# predict outcomes using validation set\n",
    "pred_rf <- predict(modFit_rf, validation)\n",
    "conf_rf <- confusionMatrix(pred_rf, validation$classe)\n",
    "conf_rf"
   ]
  },
  {
   "cell_type": "markdown",
   "metadata": {},
   "source": [
    "In which we can see the total accuracy of random forest algorithm is:"
   ]
  },
  {
   "cell_type": "code",
   "execution_count": 24,
   "metadata": {},
   "outputs": [
    {
     "data": {
      "text/html": [
       "<strong>Accuracy:</strong> 0.991673746813934"
      ],
      "text/latex": [
       "\\textbf{Accuracy:} 0.991673746813934"
      ],
      "text/markdown": [
       "**Accuracy:** 0.991673746813934"
      ],
      "text/plain": [
       " Accuracy \n",
       "0.9916737 "
      ]
     },
     "metadata": {},
     "output_type": "display_data"
    }
   ],
   "source": [
    "conf_rf$overall[1]"
   ]
  },
  {
   "cell_type": "markdown",
   "metadata": {},
   "source": [
    "Which indicates that random forest is a good model to predict outcome `classe`"
   ]
  },
  {
   "cell_type": "markdown",
   "metadata": {},
   "source": [
    "### 4. Prediction on Testing set"
   ]
  },
  {
   "cell_type": "code",
   "execution_count": 26,
   "metadata": {},
   "outputs": [
    {
     "data": {
      "text/html": [
       "<style>\n",
       ".list-inline {list-style: none; margin:0; padding: 0}\n",
       ".list-inline>li {display: inline-block}\n",
       ".list-inline>li:not(:last-child)::after {content: \"\\00b7\"; padding: 0 .5ex}\n",
       "</style>\n",
       "<ol class=list-inline><li>B</li><li>A</li><li>B</li><li>A</li><li>A</li><li>E</li><li>D</li><li>B</li><li>A</li><li>A</li><li>B</li><li>C</li><li>B</li><li>A</li><li>E</li><li>E</li><li>A</li><li>B</li><li>B</li><li>B</li></ol>\n",
       "\n",
       "<details>\n",
       "\t<summary style=display:list-item;cursor:pointer>\n",
       "\t\t<strong>Levels</strong>:\n",
       "\t</summary>\n",
       "\t<style>\n",
       "\t.list-inline {list-style: none; margin:0; padding: 0}\n",
       "\t.list-inline>li {display: inline-block}\n",
       "\t.list-inline>li:not(:last-child)::after {content: \"\\00b7\"; padding: 0 .5ex}\n",
       "\t</style>\n",
       "\t<ol class=list-inline><li>'A'</li><li>'B'</li><li>'C'</li><li>'D'</li><li>'E'</li></ol>\n",
       "</details>"
      ],
      "text/latex": [
       "\\begin{enumerate*}\n",
       "\\item B\n",
       "\\item A\n",
       "\\item B\n",
       "\\item A\n",
       "\\item A\n",
       "\\item E\n",
       "\\item D\n",
       "\\item B\n",
       "\\item A\n",
       "\\item A\n",
       "\\item B\n",
       "\\item C\n",
       "\\item B\n",
       "\\item A\n",
       "\\item E\n",
       "\\item E\n",
       "\\item A\n",
       "\\item B\n",
       "\\item B\n",
       "\\item B\n",
       "\\end{enumerate*}\n",
       "\n",
       "\\emph{Levels}: \\begin{enumerate*}\n",
       "\\item 'A'\n",
       "\\item 'B'\n",
       "\\item 'C'\n",
       "\\item 'D'\n",
       "\\item 'E'\n",
       "\\end{enumerate*}\n"
      ],
      "text/markdown": [
       "1. B\n",
       "2. A\n",
       "3. B\n",
       "4. A\n",
       "5. A\n",
       "6. E\n",
       "7. D\n",
       "8. B\n",
       "9. A\n",
       "10. A\n",
       "11. B\n",
       "12. C\n",
       "13. B\n",
       "14. A\n",
       "15. E\n",
       "16. E\n",
       "17. A\n",
       "18. B\n",
       "19. B\n",
       "20. B\n",
       "\n",
       "\n",
       "\n",
       "**Levels**: 1. 'A'\n",
       "2. 'B'\n",
       "3. 'C'\n",
       "4. 'D'\n",
       "5. 'E'\n",
       "\n",
       "\n"
      ],
      "text/plain": [
       " [1] B A B A A E D B A A B C B A E E A B B B\n",
       "Levels: A B C D E"
      ]
     },
     "metadata": {},
     "output_type": "display_data"
    }
   ],
   "source": [
    "predict(modFit_rf, testing)"
   ]
  }
 ],
 "metadata": {
  "kernelspec": {
   "display_name": "R",
   "language": "R",
   "name": "ir"
  },
  "language_info": {
   "codemirror_mode": "r",
   "file_extension": ".r",
   "mimetype": "text/x-r-source",
   "name": "R",
   "pygments_lexer": "r",
   "version": "4.0.2"
  }
 },
 "nbformat": 4,
 "nbformat_minor": 4
}
