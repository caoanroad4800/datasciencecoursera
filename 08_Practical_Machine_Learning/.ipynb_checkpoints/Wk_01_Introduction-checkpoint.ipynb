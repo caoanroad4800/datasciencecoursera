{
 "cells": [
  {
   "cell_type": "markdown",
   "metadata": {},
   "source": [
    "## Introduction\n",
    "\n",
    "Welcome to Practical Machine Learning! This course focuses on developing the tools and techniques for understanding, building, and testing prediction functions.\n",
    "\n",
    "These tools are at the center of the Data Science revolution. Many researchers, companies, and governmental organizations would like to use the cheap and abundant data they are collecting to predict what customers will like, what services to offer, or how to improve people's lives.\n",
    "\n",
    "The emphasis of this course is hands on learning and implementation. If you like what you learn in this class, there are a large number of other Machine and Statistical Learning MOOCs that you can use to deepen your knowledge of the technical and mathematical details.\n",
    "\n",
    "Please see the course syllabus for information about the quizzes, the project, and grading. Don't forget to say hi on the message boards. The community developed around these courses is one of the best places to learn and the best things about taking a MOOC!\n",
    "\n",
    "Quizzes 2-4 require you to run specific packages. The package details are noted in the quizzes. Please make sure that you are running the right package to get the answers that we are looking for.\n",
    "\n",
    "Jeff Leek and the Data Science Track Team\n",
    "\n",
    "### Prediction motivation\n",
    "\n",
    "### What is prediction?\n",
    "\n",
    "**Components of a predictor**:  \n",
    "\n",
    "question --> Input data --> features --> algorithm --> parameters --> evaluation\n",
    "\n",
    "*SPAM EXAMPLE*"
   ]
  },
  {
   "cell_type": "code",
   "execution_count": 3,
   "metadata": {},
   "outputs": [
    {
     "data": {
      "text/html": [
       "<table>\n",
       "<caption>A data.frame: 6 × 58</caption>\n",
       "<thead>\n",
       "\t<tr><th></th><th scope=col>make</th><th scope=col>address</th><th scope=col>all</th><th scope=col>num3d</th><th scope=col>our</th><th scope=col>over</th><th scope=col>remove</th><th scope=col>internet</th><th scope=col>order</th><th scope=col>mail</th><th scope=col>⋯</th><th scope=col>charSemicolon</th><th scope=col>charRoundbracket</th><th scope=col>charSquarebracket</th><th scope=col>charExclamation</th><th scope=col>charDollar</th><th scope=col>charHash</th><th scope=col>capitalAve</th><th scope=col>capitalLong</th><th scope=col>capitalTotal</th><th scope=col>type</th></tr>\n",
       "\t<tr><th></th><th scope=col>&lt;dbl&gt;</th><th scope=col>&lt;dbl&gt;</th><th scope=col>&lt;dbl&gt;</th><th scope=col>&lt;dbl&gt;</th><th scope=col>&lt;dbl&gt;</th><th scope=col>&lt;dbl&gt;</th><th scope=col>&lt;dbl&gt;</th><th scope=col>&lt;dbl&gt;</th><th scope=col>&lt;dbl&gt;</th><th scope=col>&lt;dbl&gt;</th><th scope=col>⋯</th><th scope=col>&lt;dbl&gt;</th><th scope=col>&lt;dbl&gt;</th><th scope=col>&lt;dbl&gt;</th><th scope=col>&lt;dbl&gt;</th><th scope=col>&lt;dbl&gt;</th><th scope=col>&lt;dbl&gt;</th><th scope=col>&lt;dbl&gt;</th><th scope=col>&lt;dbl&gt;</th><th scope=col>&lt;dbl&gt;</th><th scope=col>&lt;fct&gt;</th></tr>\n",
       "</thead>\n",
       "<tbody>\n",
       "\t<tr><th scope=row>1</th><td>0.00</td><td>0.64</td><td>0.64</td><td>0</td><td>0.32</td><td>0.00</td><td>0.00</td><td>0.00</td><td>0.00</td><td>0.00</td><td>⋯</td><td>0.00</td><td>0.000</td><td>0</td><td>0.778</td><td>0.000</td><td>0.000</td><td>3.756</td><td> 61</td><td> 278</td><td>spam</td></tr>\n",
       "\t<tr><th scope=row>2</th><td>0.21</td><td>0.28</td><td>0.50</td><td>0</td><td>0.14</td><td>0.28</td><td>0.21</td><td>0.07</td><td>0.00</td><td>0.94</td><td>⋯</td><td>0.00</td><td>0.132</td><td>0</td><td>0.372</td><td>0.180</td><td>0.048</td><td>5.114</td><td>101</td><td>1028</td><td>spam</td></tr>\n",
       "\t<tr><th scope=row>3</th><td>0.06</td><td>0.00</td><td>0.71</td><td>0</td><td>1.23</td><td>0.19</td><td>0.19</td><td>0.12</td><td>0.64</td><td>0.25</td><td>⋯</td><td>0.01</td><td>0.143</td><td>0</td><td>0.276</td><td>0.184</td><td>0.010</td><td>9.821</td><td>485</td><td>2259</td><td>spam</td></tr>\n",
       "\t<tr><th scope=row>4</th><td>0.00</td><td>0.00</td><td>0.00</td><td>0</td><td>0.63</td><td>0.00</td><td>0.31</td><td>0.63</td><td>0.31</td><td>0.63</td><td>⋯</td><td>0.00</td><td>0.137</td><td>0</td><td>0.137</td><td>0.000</td><td>0.000</td><td>3.537</td><td> 40</td><td> 191</td><td>spam</td></tr>\n",
       "\t<tr><th scope=row>5</th><td>0.00</td><td>0.00</td><td>0.00</td><td>0</td><td>0.63</td><td>0.00</td><td>0.31</td><td>0.63</td><td>0.31</td><td>0.63</td><td>⋯</td><td>0.00</td><td>0.135</td><td>0</td><td>0.135</td><td>0.000</td><td>0.000</td><td>3.537</td><td> 40</td><td> 191</td><td>spam</td></tr>\n",
       "\t<tr><th scope=row>6</th><td>0.00</td><td>0.00</td><td>0.00</td><td>0</td><td>1.85</td><td>0.00</td><td>0.00</td><td>1.85</td><td>0.00</td><td>0.00</td><td>⋯</td><td>0.00</td><td>0.223</td><td>0</td><td>0.000</td><td>0.000</td><td>0.000</td><td>3.000</td><td> 15</td><td>  54</td><td>spam</td></tr>\n",
       "</tbody>\n",
       "</table>\n"
      ],
      "text/latex": [
       "A data.frame: 6 × 58\n",
       "\\begin{tabular}{r|lllllllllllllllllllll}\n",
       "  & make & address & all & num3d & our & over & remove & internet & order & mail & ⋯ & charSemicolon & charRoundbracket & charSquarebracket & charExclamation & charDollar & charHash & capitalAve & capitalLong & capitalTotal & type\\\\\n",
       "  & <dbl> & <dbl> & <dbl> & <dbl> & <dbl> & <dbl> & <dbl> & <dbl> & <dbl> & <dbl> & ⋯ & <dbl> & <dbl> & <dbl> & <dbl> & <dbl> & <dbl> & <dbl> & <dbl> & <dbl> & <fct>\\\\\n",
       "\\hline\n",
       "\t1 & 0.00 & 0.64 & 0.64 & 0 & 0.32 & 0.00 & 0.00 & 0.00 & 0.00 & 0.00 & ⋯ & 0.00 & 0.000 & 0 & 0.778 & 0.000 & 0.000 & 3.756 &  61 &  278 & spam\\\\\n",
       "\t2 & 0.21 & 0.28 & 0.50 & 0 & 0.14 & 0.28 & 0.21 & 0.07 & 0.00 & 0.94 & ⋯ & 0.00 & 0.132 & 0 & 0.372 & 0.180 & 0.048 & 5.114 & 101 & 1028 & spam\\\\\n",
       "\t3 & 0.06 & 0.00 & 0.71 & 0 & 1.23 & 0.19 & 0.19 & 0.12 & 0.64 & 0.25 & ⋯ & 0.01 & 0.143 & 0 & 0.276 & 0.184 & 0.010 & 9.821 & 485 & 2259 & spam\\\\\n",
       "\t4 & 0.00 & 0.00 & 0.00 & 0 & 0.63 & 0.00 & 0.31 & 0.63 & 0.31 & 0.63 & ⋯ & 0.00 & 0.137 & 0 & 0.137 & 0.000 & 0.000 & 3.537 &  40 &  191 & spam\\\\\n",
       "\t5 & 0.00 & 0.00 & 0.00 & 0 & 0.63 & 0.00 & 0.31 & 0.63 & 0.31 & 0.63 & ⋯ & 0.00 & 0.135 & 0 & 0.135 & 0.000 & 0.000 & 3.537 &  40 &  191 & spam\\\\\n",
       "\t6 & 0.00 & 0.00 & 0.00 & 0 & 1.85 & 0.00 & 0.00 & 1.85 & 0.00 & 0.00 & ⋯ & 0.00 & 0.223 & 0 & 0.000 & 0.000 & 0.000 & 3.000 &  15 &   54 & spam\\\\\n",
       "\\end{tabular}\n"
      ],
      "text/markdown": [
       "\n",
       "A data.frame: 6 × 58\n",
       "\n",
       "| <!--/--> | make &lt;dbl&gt; | address &lt;dbl&gt; | all &lt;dbl&gt; | num3d &lt;dbl&gt; | our &lt;dbl&gt; | over &lt;dbl&gt; | remove &lt;dbl&gt; | internet &lt;dbl&gt; | order &lt;dbl&gt; | mail &lt;dbl&gt; | ⋯ ⋯ | charSemicolon &lt;dbl&gt; | charRoundbracket &lt;dbl&gt; | charSquarebracket &lt;dbl&gt; | charExclamation &lt;dbl&gt; | charDollar &lt;dbl&gt; | charHash &lt;dbl&gt; | capitalAve &lt;dbl&gt; | capitalLong &lt;dbl&gt; | capitalTotal &lt;dbl&gt; | type &lt;fct&gt; |\n",
       "|---|---|---|---|---|---|---|---|---|---|---|---|---|---|---|---|---|---|---|---|---|---|\n",
       "| 1 | 0.00 | 0.64 | 0.64 | 0 | 0.32 | 0.00 | 0.00 | 0.00 | 0.00 | 0.00 | ⋯ | 0.00 | 0.000 | 0 | 0.778 | 0.000 | 0.000 | 3.756 |  61 |  278 | spam |\n",
       "| 2 | 0.21 | 0.28 | 0.50 | 0 | 0.14 | 0.28 | 0.21 | 0.07 | 0.00 | 0.94 | ⋯ | 0.00 | 0.132 | 0 | 0.372 | 0.180 | 0.048 | 5.114 | 101 | 1028 | spam |\n",
       "| 3 | 0.06 | 0.00 | 0.71 | 0 | 1.23 | 0.19 | 0.19 | 0.12 | 0.64 | 0.25 | ⋯ | 0.01 | 0.143 | 0 | 0.276 | 0.184 | 0.010 | 9.821 | 485 | 2259 | spam |\n",
       "| 4 | 0.00 | 0.00 | 0.00 | 0 | 0.63 | 0.00 | 0.31 | 0.63 | 0.31 | 0.63 | ⋯ | 0.00 | 0.137 | 0 | 0.137 | 0.000 | 0.000 | 3.537 |  40 |  191 | spam |\n",
       "| 5 | 0.00 | 0.00 | 0.00 | 0 | 0.63 | 0.00 | 0.31 | 0.63 | 0.31 | 0.63 | ⋯ | 0.00 | 0.135 | 0 | 0.135 | 0.000 | 0.000 | 3.537 |  40 |  191 | spam |\n",
       "| 6 | 0.00 | 0.00 | 0.00 | 0 | 1.85 | 0.00 | 0.00 | 1.85 | 0.00 | 0.00 | ⋯ | 0.00 | 0.223 | 0 | 0.000 | 0.000 | 0.000 | 3.000 |  15 |   54 | spam |\n",
       "\n"
      ],
      "text/plain": [
       "  make address all  num3d our  over remove internet order mail ⋯ charSemicolon\n",
       "1 0.00 0.64    0.64 0     0.32 0.00 0.00   0.00     0.00  0.00 ⋯ 0.00         \n",
       "2 0.21 0.28    0.50 0     0.14 0.28 0.21   0.07     0.00  0.94 ⋯ 0.00         \n",
       "3 0.06 0.00    0.71 0     1.23 0.19 0.19   0.12     0.64  0.25 ⋯ 0.01         \n",
       "4 0.00 0.00    0.00 0     0.63 0.00 0.31   0.63     0.31  0.63 ⋯ 0.00         \n",
       "5 0.00 0.00    0.00 0     0.63 0.00 0.31   0.63     0.31  0.63 ⋯ 0.00         \n",
       "6 0.00 0.00    0.00 0     1.85 0.00 0.00   1.85     0.00  0.00 ⋯ 0.00         \n",
       "  charRoundbracket charSquarebracket charExclamation charDollar charHash\n",
       "1 0.000            0                 0.778           0.000      0.000   \n",
       "2 0.132            0                 0.372           0.180      0.048   \n",
       "3 0.143            0                 0.276           0.184      0.010   \n",
       "4 0.137            0                 0.137           0.000      0.000   \n",
       "5 0.135            0                 0.135           0.000      0.000   \n",
       "6 0.223            0                 0.000           0.000      0.000   \n",
       "  capitalAve capitalLong capitalTotal type\n",
       "1 3.756       61          278         spam\n",
       "2 5.114      101         1028         spam\n",
       "3 9.821      485         2259         spam\n",
       "4 3.537       40          191         spam\n",
       "5 3.537       40          191         spam\n",
       "6 3.000       15           54         spam"
      ]
     },
     "metadata": {},
     "output_type": "display_data"
    }
   ],
   "source": [
    "library(kernlab)\n",
    "data(spam)\n",
    "head(spam)"
   ]
  },
  {
   "cell_type": "code",
   "execution_count": 4,
   "metadata": {},
   "outputs": [
    {
     "name": "stdout",
     "output_type": "stream",
     "text": [
      "'data.frame':\t4601 obs. of  58 variables:\n",
      " $ make             : num  0 0.21 0.06 0 0 0 0 0 0.15 0.06 ...\n",
      " $ address          : num  0.64 0.28 0 0 0 0 0 0 0 0.12 ...\n",
      " $ all              : num  0.64 0.5 0.71 0 0 0 0 0 0.46 0.77 ...\n",
      " $ num3d            : num  0 0 0 0 0 0 0 0 0 0 ...\n",
      " $ our              : num  0.32 0.14 1.23 0.63 0.63 1.85 1.92 1.88 0.61 0.19 ...\n",
      " $ over             : num  0 0.28 0.19 0 0 0 0 0 0 0.32 ...\n",
      " $ remove           : num  0 0.21 0.19 0.31 0.31 0 0 0 0.3 0.38 ...\n",
      " $ internet         : num  0 0.07 0.12 0.63 0.63 1.85 0 1.88 0 0 ...\n",
      " $ order            : num  0 0 0.64 0.31 0.31 0 0 0 0.92 0.06 ...\n",
      " $ mail             : num  0 0.94 0.25 0.63 0.63 0 0.64 0 0.76 0 ...\n",
      " $ receive          : num  0 0.21 0.38 0.31 0.31 0 0.96 0 0.76 0 ...\n",
      " $ will             : num  0.64 0.79 0.45 0.31 0.31 0 1.28 0 0.92 0.64 ...\n",
      " $ people           : num  0 0.65 0.12 0.31 0.31 0 0 0 0 0.25 ...\n",
      " $ report           : num  0 0.21 0 0 0 0 0 0 0 0 ...\n",
      " $ addresses        : num  0 0.14 1.75 0 0 0 0 0 0 0.12 ...\n",
      " $ free             : num  0.32 0.14 0.06 0.31 0.31 0 0.96 0 0 0 ...\n",
      " $ business         : num  0 0.07 0.06 0 0 0 0 0 0 0 ...\n",
      " $ email            : num  1.29 0.28 1.03 0 0 0 0.32 0 0.15 0.12 ...\n",
      " $ you              : num  1.93 3.47 1.36 3.18 3.18 0 3.85 0 1.23 1.67 ...\n",
      " $ credit           : num  0 0 0.32 0 0 0 0 0 3.53 0.06 ...\n",
      " $ your             : num  0.96 1.59 0.51 0.31 0.31 0 0.64 0 2 0.71 ...\n",
      " $ font             : num  0 0 0 0 0 0 0 0 0 0 ...\n",
      " $ num000           : num  0 0.43 1.16 0 0 0 0 0 0 0.19 ...\n",
      " $ money            : num  0 0.43 0.06 0 0 0 0 0 0.15 0 ...\n",
      " $ hp               : num  0 0 0 0 0 0 0 0 0 0 ...\n",
      " $ hpl              : num  0 0 0 0 0 0 0 0 0 0 ...\n",
      " $ george           : num  0 0 0 0 0 0 0 0 0 0 ...\n",
      " $ num650           : num  0 0 0 0 0 0 0 0 0 0 ...\n",
      " $ lab              : num  0 0 0 0 0 0 0 0 0 0 ...\n",
      " $ labs             : num  0 0 0 0 0 0 0 0 0 0 ...\n",
      " $ telnet           : num  0 0 0 0 0 0 0 0 0 0 ...\n",
      " $ num857           : num  0 0 0 0 0 0 0 0 0 0 ...\n",
      " $ data             : num  0 0 0 0 0 0 0 0 0.15 0 ...\n",
      " $ num415           : num  0 0 0 0 0 0 0 0 0 0 ...\n",
      " $ num85            : num  0 0 0 0 0 0 0 0 0 0 ...\n",
      " $ technology       : num  0 0 0 0 0 0 0 0 0 0 ...\n",
      " $ num1999          : num  0 0.07 0 0 0 0 0 0 0 0 ...\n",
      " $ parts            : num  0 0 0 0 0 0 0 0 0 0 ...\n",
      " $ pm               : num  0 0 0 0 0 0 0 0 0 0 ...\n",
      " $ direct           : num  0 0 0.06 0 0 0 0 0 0 0 ...\n",
      " $ cs               : num  0 0 0 0 0 0 0 0 0 0 ...\n",
      " $ meeting          : num  0 0 0 0 0 0 0 0 0 0 ...\n",
      " $ original         : num  0 0 0.12 0 0 0 0 0 0.3 0 ...\n",
      " $ project          : num  0 0 0 0 0 0 0 0 0 0.06 ...\n",
      " $ re               : num  0 0 0.06 0 0 0 0 0 0 0 ...\n",
      " $ edu              : num  0 0 0.06 0 0 0 0 0 0 0 ...\n",
      " $ table            : num  0 0 0 0 0 0 0 0 0 0 ...\n",
      " $ conference       : num  0 0 0 0 0 0 0 0 0 0 ...\n",
      " $ charSemicolon    : num  0 0 0.01 0 0 0 0 0 0 0.04 ...\n",
      " $ charRoundbracket : num  0 0.132 0.143 0.137 0.135 0.223 0.054 0.206 0.271 0.03 ...\n",
      " $ charSquarebracket: num  0 0 0 0 0 0 0 0 0 0 ...\n",
      " $ charExclamation  : num  0.778 0.372 0.276 0.137 0.135 0 0.164 0 0.181 0.244 ...\n",
      " $ charDollar       : num  0 0.18 0.184 0 0 0 0.054 0 0.203 0.081 ...\n",
      " $ charHash         : num  0 0.048 0.01 0 0 0 0 0 0.022 0 ...\n",
      " $ capitalAve       : num  3.76 5.11 9.82 3.54 3.54 ...\n",
      " $ capitalLong      : num  61 101 485 40 40 15 4 11 445 43 ...\n",
      " $ capitalTotal     : num  278 1028 2259 191 191 ...\n",
      " $ type             : Factor w/ 2 levels \"nonspam\",\"spam\": 2 2 2 2 2 2 2 2 2 2 ...\n"
     ]
    }
   ],
   "source": [
    "str(spam)"
   ]
  },
  {
   "cell_type": "code",
   "execution_count": 12,
   "metadata": {},
   "outputs": [
    {
     "data": {
      "image/png": "[encoded data removed]",
      "text/plain": [
       "Plot with title “”"
      ]
     },
     "metadata": {
      "image/png": {
       "height": 420,
       "width": 420
      }
     },
     "output_type": "display_data"
    }
   ],
   "source": [
    "plot(density(spam$your[spam$type == 'nonspam'])\n",
    "     , col=\"blue\"\n",
    "     , main = ''\n",
    "     , xlab = \"Frequency of 'your'\"\n",
    "     )\n",
    "lines(density(spam$your[spam$type=='spam']), col = 'red')\n",
    "abline(v = 0.5, col = 'green') # set up a cutoff line, so that if > 0.5, we predict it spam. if < 0.5, it's HAM"
   ]
  },
  {
   "cell_type": "code",
   "execution_count": 16,
   "metadata": {},
   "outputs": [
    {
     "data": {
      "text/plain": [
       "          \n",
       "prediction   nonspam      spam\n",
       "   nonspam 0.4590306 0.1017170\n",
       "   spam    0.1469246 0.2923278"
      ]
     },
     "metadata": {},
     "output_type": "display_data"
    }
   ],
   "source": [
    "prediction <- ifelse(spam$your > 0.5, \"spam\", \"nonspam\")\n",
    "table(prediction, spam$type)/length(spam$type)\n",
    "# accuracy ~ 0.4590 + 0.2923 = 0.751"
   ]
  },
  {
   "cell_type": "markdown",
   "metadata": {},
   "source": [
    "### Relative importance of steps\n"
   ]
  }
 ],
 "metadata": {
  "kernelspec": {
   "display_name": "R",
   "language": "R",
   "name": "ir"
  },
  "language_info": {
   "codemirror_mode": "r",
   "file_extension": ".r",
   "mimetype": "text/x-r-source",
   "name": "R",
   "pygments_lexer": "r",
   "version": "4.0.2"
  }
 },
 "nbformat": 4,
 "nbformat_minor": 4
}
