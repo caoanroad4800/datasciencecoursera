{
 "cells": [
  {
   "cell_type": "markdown",
   "metadata": {},
   "source": [
    "## Introduction\n",
    "\n",
    "Welcome to Practical Machine Learning! This course focuses on developing the tools and techniques for understanding, building, and testing prediction functions.\n",
    "\n",
    "These tools are at the center of the Data Science revolution. Many researchers, companies, and governmental organizations would like to use the cheap and abundant data they are collecting to predict what customers will like, what services to offer, or how to improve people's lives.\n",
    "\n",
    "The emphasis of this course is hands on learning and implementation. If you like what you learn in this class, there are a large number of other Machine and Statistical Learning MOOCs that you can use to deepen your knowledge of the technical and mathematical details.\n",
    "\n",
    "Please see the course syllabus for information about the quizzes, the project, and grading. Don't forget to say hi on the message boards. The community developed around these courses is one of the best places to learn and the best things about taking a MOOC!\n",
    "\n",
    "Quizzes 2-4 require you to run specific packages. The package details are noted in the quizzes. Please make sure that you are running the right package to get the answers that we are looking for.\n",
    "\n",
    "Jeff Leek and the Data Science Track Team\n",
    "\n",
    "### Prediction motivation"
   ]
  },
  {
   "cell_type": "code",
   "execution_count": null,
   "metadata": {},
   "outputs": [],
   "source": []
  }
 ],
 "metadata": {
  "kernelspec": {
   "display_name": "R",
   "language": "R",
   "name": "ir"
  },
  "language_info": {
   "codemirror_mode": "r",
   "file_extension": ".r",
   "mimetype": "text/x-r-source",
   "name": "R",
   "pygments_lexer": "r",
   "version": "4.0.2"
  }
 },
 "nbformat": 4,
 "nbformat_minor": 4
}
