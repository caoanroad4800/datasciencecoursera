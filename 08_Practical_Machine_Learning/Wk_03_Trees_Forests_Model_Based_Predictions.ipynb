{
 "cells": [
  {
   "cell_type": "markdown",
   "metadata": {},
   "source": [
    "## Week 3: Predicting with trees, Random Forests, & Model Based Predictions\n",
    "### Predicting with trees\n",
    "\n",
    "**Key ideas**\n",
    "- Iteratively split variables into groups\n",
    "- Evaluate \"homegeneity\" within each group\n",
    "- Split again if necessary\n",
    "\n",
    "**Pros**\n",
    "- Easy to interpret\n",
    "- Better performance in nonlinear settings\n",
    "\n",
    "**Cons**\n",
    "- Without pruning/cross-validation can lead to overfitting\n",
    "- Harder to estimate uncertainty\n",
    "- Resultas may be variable\n",
    "\n",
    "**Basic algorithm**\n",
    "- Start with all variables in one group\n",
    "- Find the variable/split that best separates the outcomes\n",
    "- Divide the data into 2 groups (\"leaves\") on that split (\"node\")\n",
    "- Within each split, sind the best variable/split that separates the outcomes\n",
    "- Countinue until the groups are too small or sufficiently \"pure\"\n",
    "\n",
    "#### Measures of impurity\n",
    "\n",
    "$\\hat{p}_{mk} = \\frac{1}{N_{m}} \\sum_{x_{i} \\text{in Leaf m}} \\mathcal{1}(y_i = k)$\n",
    "- m for leaf (group), k for class\n",
    "- in the leaf (m), you have (n) total objects that you might consider, $i \\in 1,\\ldots,n$\n",
    "- $\\mathcal{1}(y_i = k)$ the number of times that a particular class appears in that leaf. The number of times that class k appears in leaf m\n",
    "- $\\hat{p}_{mk}$ probability for the m-th leaf and the k-th class\n",
    "\n",
    "**Misclassification error**:\n",
    "\n",
    "$1 - \\hat{p}_{m, k(m)} ; k(m) = \\text{most;common;}k$\n",
    "- 0: perfect purity\n",
    "- 0.5: no purity\n",
    "\n",
    "**Gini index**\n",
    "\n",
    "$\\sum_{k \\neq k'}  \\hat{p}_{m, k} \\times \\hat{p}_{m, k'} = \\sum_{k=1}^{K} \\hat{p}_{m, k} \\left( 1 - \\hat{p}_{m, k} \\right) = 1 - \\sum_{k=1}^{K} \\hat{p}^{2}_{m, k}$\n",
    "\n",
    "- 0: perfect purity\n",
    "- 0.5: no purity\n",
    "\n",
    "**Deviance/information gain**\n",
    "$- \\sum_{k=1}^{K} \\hat{p}_{m, k} \\log_{2} \\hat{p}_{m, k}$\n",
    "- 0: perfect purity\n",
    "- 0.5: no purity"
   ]
  },
  {
   "cell_type": "code",
   "execution_count": 4,
   "metadata": {},
   "outputs": [
    {
     "name": "stderr",
     "output_type": "stream",
     "text": [
      "Loading required package: lattice\n",
      "\n"
     ]
    },
    {
     "data": {
      "text/html": [
       "<style>\n",
       ".list-inline {list-style: none; margin:0; padding: 0}\n",
       ".list-inline>li {display: inline-block}\n",
       ".list-inline>li:not(:last-child)::after {content: \"\\00b7\"; padding: 0 .5ex}\n",
       "</style>\n",
       "<ol class=list-inline><li>'Sepal.Length'</li><li>'Sepal.Width'</li><li>'Petal.Length'</li><li>'Petal.Width'</li><li>'Species'</li></ol>\n"
      ],
      "text/latex": [
       "\\begin{enumerate*}\n",
       "\\item 'Sepal.Length'\n",
       "\\item 'Sepal.Width'\n",
       "\\item 'Petal.Length'\n",
       "\\item 'Petal.Width'\n",
       "\\item 'Species'\n",
       "\\end{enumerate*}\n"
      ],
      "text/markdown": [
       "1. 'Sepal.Length'\n",
       "2. 'Sepal.Width'\n",
       "3. 'Petal.Length'\n",
       "4. 'Petal.Width'\n",
       "5. 'Species'\n",
       "\n",
       "\n"
      ],
      "text/plain": [
       "[1] \"Sepal.Length\" \"Sepal.Width\"  \"Petal.Length\" \"Petal.Width\"  \"Species\"     "
      ]
     },
     "metadata": {},
     "output_type": "display_data"
    }
   ],
   "source": [
    "library(ggplot2)\n",
    "library(caret)\n",
    "data(iris)\n",
    "names(iris)"
   ]
  },
  {
   "cell_type": "code",
   "execution_count": 5,
   "metadata": {},
   "outputs": [
    {
     "data": {
      "text/plain": [
       "\n",
       "    setosa versicolor  virginica \n",
       "        50         50         50 "
      ]
     },
     "metadata": {},
     "output_type": "display_data"
    }
   ],
   "source": [
    "table(iris$Species)"
   ]
  },
  {
   "cell_type": "code",
   "execution_count": 9,
   "metadata": {},
   "outputs": [
    {
     "data": {
      "text/html": [
       "<style>\n",
       ".list-inline {list-style: none; margin:0; padding: 0}\n",
       ".list-inline>li {display: inline-block}\n",
       ".list-inline>li:not(:last-child)::after {content: \"\\00b7\"; padding: 0 .5ex}\n",
       "</style>\n",
       "<ol class=list-inline><li>105</li><li>5</li></ol>\n"
      ],
      "text/latex": [
       "\\begin{enumerate*}\n",
       "\\item 105\n",
       "\\item 5\n",
       "\\end{enumerate*}\n"
      ],
      "text/markdown": [
       "1. 105\n",
       "2. 5\n",
       "\n",
       "\n"
      ],
      "text/plain": [
       "[1] 105   5"
      ]
     },
     "metadata": {},
     "output_type": "display_data"
    },
    {
     "data": {
      "text/html": [
       "<style>\n",
       ".list-inline {list-style: none; margin:0; padding: 0}\n",
       ".list-inline>li {display: inline-block}\n",
       ".list-inline>li:not(:last-child)::after {content: \"\\00b7\"; padding: 0 .5ex}\n",
       "</style>\n",
       "<ol class=list-inline><li>45</li><li>5</li></ol>\n"
      ],
      "text/latex": [
       "\\begin{enumerate*}\n",
       "\\item 45\n",
       "\\item 5\n",
       "\\end{enumerate*}\n"
      ],
      "text/markdown": [
       "1. 45\n",
       "2. 5\n",
       "\n",
       "\n"
      ],
      "text/plain": [
       "[1] 45  5"
      ]
     },
     "metadata": {},
     "output_type": "display_data"
    }
   ],
   "source": [
    "inTrain <- createDataPartition(\n",
    "    y = iris$Species\n",
    "    , p = 0.7\n",
    "    , list = FALSE\n",
    ")\n",
    "training <- iris[inTrain,]\n",
    "testing <- iris[-inTrain,]\n",
    "dim(training);dim(testing)"
   ]
  },
  {
   "cell_type": "code",
   "execution_count": 15,
   "metadata": {},
   "outputs": [
    {
     "data": {
      "image/png": "[encoded data removed]",
      "text/plain": [
       "plot without title"
      ]
     },
     "metadata": {
      "image/png": {
       "height": 420,
       "width": 420
      }
     },
     "output_type": "display_data"
    }
   ],
   "source": [
    "g <- NULL\n",
    "g <- ggplot(data = training, aes(x = Petal.Width, y = Sepal.Width, color=Species))\n",
    "g <- g + geom_point()\n",
    "g # seems it fits for tree classification"
   ]
  },
  {
   "cell_type": "code",
   "execution_count": 16,
   "metadata": {},
   "outputs": [
    {
     "name": "stdout",
     "output_type": "stream",
     "text": [
      "n= 105 \n",
      "\n",
      "node), split, n, loss, yval, (yprob)\n",
      "      * denotes terminal node\n",
      "\n",
      "1) root 105 70 setosa (0.33333333 0.33333333 0.33333333)  \n",
      "  2) Petal.Length< 2.45 35  0 setosa (1.00000000 0.00000000 0.00000000) *\n",
      "  3) Petal.Length>=2.45 70 35 versicolor (0.00000000 0.50000000 0.50000000)  \n",
      "    6) Petal.Length< 4.75 33  1 versicolor (0.00000000 0.96969697 0.03030303) *\n",
      "    7) Petal.Length>=4.75 37  3 virginica (0.00000000 0.08108108 0.91891892) *\n"
     ]
    }
   ],
   "source": [
    "modFit <- train(Species ~., method = 'rpart', data = training)\n",
    "print(modFit$finalModel)"
   ]
  },
  {
   "cell_type": "code",
   "execution_count": 20,
   "metadata": {},
   "outputs": [
    {
     "data": {
      "image/png": "[encoded data removed]",
      "text/plain": [
       "Plot with title “Classification Tree”"
      ]
     },
     "metadata": {
      "image/png": {
       "height": 420,
       "width": 420
      }
     },
     "output_type": "display_data"
    }
   ],
   "source": [
    "plot(modFit$finalModel, uniform = TRUE, main = \"Classification Tree\")\n",
    "text(modFit$finalModel, use.n = TRUE, all = TRUE, cex = .8)"
   ]
  },
  {
   "cell_type": "code",
   "execution_count": 22,
   "metadata": {},
   "outputs": [
    {
     "data": {
      "image/png": "[encoded data removed]",
      "text/plain": [
       "Plot with title “”"
      ]
     },
     "metadata": {
      "image/png": {
       "height": 420,
       "width": 420
      }
     },
     "output_type": "display_data"
    }
   ],
   "source": [
    "#install.packages(\"rattle\")\n",
    "library(rattle)\n",
    "fancyRpartPlot(modFit$finalModel)"
   ]
  },
  {
   "cell_type": "code",
   "execution_count": 23,
   "metadata": {},
   "outputs": [
    {
     "data": {
      "text/html": [
       "<style>\n",
       ".list-inline {list-style: none; margin:0; padding: 0}\n",
       ".list-inline>li {display: inline-block}\n",
       ".list-inline>li:not(:last-child)::after {content: \"\\00b7\"; padding: 0 .5ex}\n",
       "</style>\n",
       "<ol class=list-inline><li>setosa</li><li>setosa</li><li>setosa</li><li>setosa</li><li>setosa</li><li>setosa</li><li>setosa</li><li>setosa</li><li>setosa</li><li>setosa</li><li>setosa</li><li>setosa</li><li>setosa</li><li>setosa</li><li>setosa</li><li>virginica</li><li>versicolor</li><li>versicolor</li><li>versicolor</li><li>versicolor</li><li>versicolor</li><li>versicolor</li><li>virginica</li><li>virginica</li><li>versicolor</li><li>versicolor</li><li>versicolor</li><li>versicolor</li><li>versicolor</li><li>versicolor</li><li>virginica</li><li>virginica</li><li>virginica</li><li>virginica</li><li>virginica</li><li>virginica</li><li>virginica</li><li>virginica</li><li>virginica</li><li>virginica</li><li>virginica</li><li>virginica</li><li>virginica</li><li>virginica</li><li>virginica</li></ol>\n",
       "\n",
       "<details>\n",
       "\t<summary style=display:list-item;cursor:pointer>\n",
       "\t\t<strong>Levels</strong>:\n",
       "\t</summary>\n",
       "\t<style>\n",
       "\t.list-inline {list-style: none; margin:0; padding: 0}\n",
       "\t.list-inline>li {display: inline-block}\n",
       "\t.list-inline>li:not(:last-child)::after {content: \"\\00b7\"; padding: 0 .5ex}\n",
       "\t</style>\n",
       "\t<ol class=list-inline><li>'setosa'</li><li>'versicolor'</li><li>'virginica'</li></ol>\n",
       "</details>"
      ],
      "text/latex": [
       "\\begin{enumerate*}\n",
       "\\item setosa\n",
       "\\item setosa\n",
       "\\item setosa\n",
       "\\item setosa\n",
       "\\item setosa\n",
       "\\item setosa\n",
       "\\item setosa\n",
       "\\item setosa\n",
       "\\item setosa\n",
       "\\item setosa\n",
       "\\item setosa\n",
       "\\item setosa\n",
       "\\item setosa\n",
       "\\item setosa\n",
       "\\item setosa\n",
       "\\item virginica\n",
       "\\item versicolor\n",
       "\\item versicolor\n",
       "\\item versicolor\n",
       "\\item versicolor\n",
       "\\item versicolor\n",
       "\\item versicolor\n",
       "\\item virginica\n",
       "\\item virginica\n",
       "\\item versicolor\n",
       "\\item versicolor\n",
       "\\item versicolor\n",
       "\\item versicolor\n",
       "\\item versicolor\n",
       "\\item versicolor\n",
       "\\item virginica\n",
       "\\item virginica\n",
       "\\item virginica\n",
       "\\item virginica\n",
       "\\item virginica\n",
       "\\item virginica\n",
       "\\item virginica\n",
       "\\item virginica\n",
       "\\item virginica\n",
       "\\item virginica\n",
       "\\item virginica\n",
       "\\item virginica\n",
       "\\item virginica\n",
       "\\item virginica\n",
       "\\item virginica\n",
       "\\end{enumerate*}\n",
       "\n",
       "\\emph{Levels}: \\begin{enumerate*}\n",
       "\\item 'setosa'\n",
       "\\item 'versicolor'\n",
       "\\item 'virginica'\n",
       "\\end{enumerate*}\n"
      ],
      "text/markdown": [
       "1. setosa\n",
       "2. setosa\n",
       "3. setosa\n",
       "4. setosa\n",
       "5. setosa\n",
       "6. setosa\n",
       "7. setosa\n",
       "8. setosa\n",
       "9. setosa\n",
       "10. setosa\n",
       "11. setosa\n",
       "12. setosa\n",
       "13. setosa\n",
       "14. setosa\n",
       "15. setosa\n",
       "16. virginica\n",
       "17. versicolor\n",
       "18. versicolor\n",
       "19. versicolor\n",
       "20. versicolor\n",
       "21. versicolor\n",
       "22. versicolor\n",
       "23. virginica\n",
       "24. virginica\n",
       "25. versicolor\n",
       "26. versicolor\n",
       "27. versicolor\n",
       "28. versicolor\n",
       "29. versicolor\n",
       "30. versicolor\n",
       "31. virginica\n",
       "32. virginica\n",
       "33. virginica\n",
       "34. virginica\n",
       "35. virginica\n",
       "36. virginica\n",
       "37. virginica\n",
       "38. virginica\n",
       "39. virginica\n",
       "40. virginica\n",
       "41. virginica\n",
       "42. virginica\n",
       "43. virginica\n",
       "44. virginica\n",
       "45. virginica\n",
       "\n",
       "\n",
       "\n",
       "**Levels**: 1. 'setosa'\n",
       "2. 'versicolor'\n",
       "3. 'virginica'\n",
       "\n",
       "\n"
      ],
      "text/plain": [
       " [1] setosa     setosa     setosa     setosa     setosa     setosa    \n",
       " [7] setosa     setosa     setosa     setosa     setosa     setosa    \n",
       "[13] setosa     setosa     setosa     virginica  versicolor versicolor\n",
       "[19] versicolor versicolor versicolor versicolor virginica  virginica \n",
       "[25] versicolor versicolor versicolor versicolor versicolor versicolor\n",
       "[31] virginica  virginica  virginica  virginica  virginica  virginica \n",
       "[37] virginica  virginica  virginica  virginica  virginica  virginica \n",
       "[43] virginica  virginica  virginica \n",
       "Levels: setosa versicolor virginica"
      ]
     },
     "metadata": {},
     "output_type": "display_data"
    }
   ],
   "source": [
    "# Predict new values\n",
    "predict(modFit, newdata = testing)"
   ]
  },
  {
   "cell_type": "markdown",
   "metadata": {},
   "source": [
    "### Bagging (Bootstrap aggregating)\n",
    "When you fit complicated models, sometimes when you average the models together, you get a smoother model fit, that gives you a better balance between potential bias in your fit and variance in your fit\n",
    "\n",
    "**Basic idea**\n",
    "- Resample cases and recalculate predictions\n",
    "- Average or majority vote\n",
    "\n",
    "**Notes**\n",
    "- Similar bias\n",
    "- Reduced variance\n",
    "- More useful for non-linear functions"
   ]
  },
  {
   "cell_type": "code",
   "execution_count": 29,
   "metadata": {},
   "outputs": [
    {
     "data": {
      "text/html": [
       "<table>\n",
       "<caption>A data.frame: 6 × 4</caption>\n",
       "<thead>\n",
       "\t<tr><th></th><th scope=col>ozone</th><th scope=col>radiation</th><th scope=col>temperature</th><th scope=col>wind</th></tr>\n",
       "\t<tr><th></th><th scope=col>&lt;dbl&gt;</th><th scope=col>&lt;int&gt;</th><th scope=col>&lt;int&gt;</th><th scope=col>&lt;dbl&gt;</th></tr>\n",
       "</thead>\n",
       "<tbody>\n",
       "\t<tr><th scope=row>17</th><td>1</td><td> 8</td><td>59</td><td> 9.7</td></tr>\n",
       "\t<tr><th scope=row>19</th><td>4</td><td>25</td><td>61</td><td> 9.7</td></tr>\n",
       "\t<tr><th scope=row>14</th><td>6</td><td>78</td><td>57</td><td>18.4</td></tr>\n",
       "\t<tr><th scope=row>45</th><td>7</td><td>48</td><td>80</td><td>14.3</td></tr>\n",
       "\t<tr><th scope=row>106</th><td>7</td><td>49</td><td>69</td><td>10.3</td></tr>\n",
       "\t<tr><th scope=row>7</th><td>8</td><td>19</td><td>61</td><td>20.1</td></tr>\n",
       "</tbody>\n",
       "</table>\n"
      ],
      "text/latex": [
       "A data.frame: 6 × 4\n",
       "\\begin{tabular}{r|llll}\n",
       "  & ozone & radiation & temperature & wind\\\\\n",
       "  & <dbl> & <int> & <int> & <dbl>\\\\\n",
       "\\hline\n",
       "\t17 & 1 &  8 & 59 &  9.7\\\\\n",
       "\t19 & 4 & 25 & 61 &  9.7\\\\\n",
       "\t14 & 6 & 78 & 57 & 18.4\\\\\n",
       "\t45 & 7 & 48 & 80 & 14.3\\\\\n",
       "\t106 & 7 & 49 & 69 & 10.3\\\\\n",
       "\t7 & 8 & 19 & 61 & 20.1\\\\\n",
       "\\end{tabular}\n"
      ],
      "text/markdown": [
       "\n",
       "A data.frame: 6 × 4\n",
       "\n",
       "| <!--/--> | ozone &lt;dbl&gt; | radiation &lt;int&gt; | temperature &lt;int&gt; | wind &lt;dbl&gt; |\n",
       "|---|---|---|---|---|\n",
       "| 17 | 1 |  8 | 59 |  9.7 |\n",
       "| 19 | 4 | 25 | 61 |  9.7 |\n",
       "| 14 | 6 | 78 | 57 | 18.4 |\n",
       "| 45 | 7 | 48 | 80 | 14.3 |\n",
       "| 106 | 7 | 49 | 69 | 10.3 |\n",
       "| 7 | 8 | 19 | 61 | 20.1 |\n",
       "\n"
      ],
      "text/plain": [
       "    ozone radiation temperature wind\n",
       "17  1      8        59           9.7\n",
       "19  4     25        61           9.7\n",
       "14  6     78        57          18.4\n",
       "45  7     48        80          14.3\n",
       "106 7     49        69          10.3\n",
       "7   8     19        61          20.1"
      ]
     },
     "metadata": {},
     "output_type": "display_data"
    }
   ],
   "source": [
    "# install.packages(\"ElemStatLearn\") # it's no longer avaiable\n",
    "# So we go to github site of ElemStatLearn to download latest tar.gz\n",
    "load(\"./data/ElemStatLearn/data/ozone.RData\")\n",
    "ozone <- ozone[order(ozone$ozone),]\n",
    "head(ozone)"
   ]
  },
  {
   "cell_type": "code",
   "execution_count": 30,
   "metadata": {},
   "outputs": [
    {
     "data": {
      "text/html": [
       "<style>\n",
       ".list-inline {list-style: none; margin:0; padding: 0}\n",
       ".list-inline>li {display: inline-block}\n",
       ".list-inline>li:not(:last-child)::after {content: \"\\00b7\"; padding: 0 .5ex}\n",
       "</style>\n",
       "<ol class=list-inline><li>111</li><li>4</li></ol>\n"
      ],
      "text/latex": [
       "\\begin{enumerate*}\n",
       "\\item 111\n",
       "\\item 4\n",
       "\\end{enumerate*}\n"
      ],
      "text/markdown": [
       "1. 111\n",
       "2. 4\n",
       "\n",
       "\n"
      ],
      "text/plain": [
       "[1] 111   4"
      ]
     },
     "metadata": {},
     "output_type": "display_data"
    }
   ],
   "source": [
    "dim(ozone)"
   ]
  },
  {
   "cell_type": "code",
   "execution_count": 32,
   "metadata": {},
   "outputs": [
    {
     "name": "stderr",
     "output_type": "stream",
     "text": [
      "Warning message in simpleLoess(y, x, w, span, degree = degree, parametric = parametric, :\n",
      "“pseudoinverse used at 21”\n",
      "Warning message in simpleLoess(y, x, w, span, degree = degree, parametric = parametric, :\n",
      "“neighborhood radius 2”\n",
      "Warning message in simpleLoess(y, x, w, span, degree = degree, parametric = parametric, :\n",
      "“reciprocal condition number  1.1772e-16”\n",
      "Warning message in simpleLoess(y, x, w, span, degree = degree, parametric = parametric, :\n",
      "“pseudoinverse used at 18”\n",
      "Warning message in simpleLoess(y, x, w, span, degree = degree, parametric = parametric, :\n",
      "“neighborhood radius 2”\n",
      "Warning message in simpleLoess(y, x, w, span, degree = degree, parametric = parametric, :\n",
      "“reciprocal condition number  7.773e-17”\n"
     ]
    }
   ],
   "source": [
    "## Bagged loess\n",
    "ll <- matrix(NA, nrow = 10, ncol = 155)\n",
    "for (i in 1:10){\n",
    "    ss <- sample(1:dim(ozone)[1], replace = TRUE)\n",
    "    ozone0 <- ozone[ss, ]\n",
    "    ozone0 <- ozone0[order(ozone0$ozone), ]\n",
    "    loess0 <- loess(temperature ~ ozone, data = ozone0, span = 0.2)\n",
    "    ll[i, ] <- predict(loess0, newdata=data.frame(ozone=1:155))\n",
    "}"
   ]
  },
  {
   "cell_type": "code",
   "execution_count": 39,
   "metadata": {},
   "outputs": [
    {
     "data": {
      "image/png": "[encoded data removed]",
      "text/plain": [
       "plot without title"
      ]
     },
     "metadata": {
      "image/png": {
       "height": 420,
       "width": 420
      }
     },
     "output_type": "display_data"
    }
   ],
   "source": [
    "plot(ozone$ozone, ozone$temperature, pch = 19, cex = 0.5)\n",
    "\n",
    "for(i in 1:10){lines(1:155, ll[i,], col = 'grey', lwd = 2)}\n",
    "lines(1:155, apply(ll, 2, mean), col = 'red', lwd = 2)"
   ]
  },
  {
   "cell_type": "markdown",
   "metadata": {},
   "source": [
    "#### Bagging in caret\n",
    "- Some models perform bagging for you, in `train` function consider `method` options\n",
    "    - `bagEarth`\n",
    "    - `treebag`\n",
    "    - `bagFDA`\n",
    "- Alternatively you can bag any model you choose using the `bag` function"
   ]
  },
  {
   "cell_type": "markdown",
   "metadata": {},
   "source": [
    "### Random Forests\n",
    "1. Bootstrap samples\n",
    "1. At each split, bootstrap variables\n",
    "1. Grow multiple trees and vote\n",
    "\n",
    "**Pros**\n",
    "1. Accuracy\n",
    "\n",
    "**Cons**\n",
    "1. Speed\n",
    "1. Interpretability\n",
    "1. Overfitting"
   ]
  },
  {
   "cell_type": "code",
   "execution_count": 45,
   "metadata": {},
   "outputs": [
    {
     "data": {
      "text/html": [
       "<style>\n",
       ".list-inline {list-style: none; margin:0; padding: 0}\n",
       ".list-inline>li {display: inline-block}\n",
       ".list-inline>li:not(:last-child)::after {content: \"\\00b7\"; padding: 0 .5ex}\n",
       "</style>\n",
       "<ol class=list-inline><li>105</li><li>5</li></ol>\n"
      ],
      "text/latex": [
       "\\begin{enumerate*}\n",
       "\\item 105\n",
       "\\item 5\n",
       "\\end{enumerate*}\n"
      ],
      "text/markdown": [
       "1. 105\n",
       "2. 5\n",
       "\n",
       "\n"
      ],
      "text/plain": [
       "[1] 105   5"
      ]
     },
     "metadata": {},
     "output_type": "display_data"
    },
    {
     "data": {
      "text/html": [
       "<style>\n",
       ".list-inline {list-style: none; margin:0; padding: 0}\n",
       ".list-inline>li {display: inline-block}\n",
       ".list-inline>li:not(:last-child)::after {content: \"\\00b7\"; padding: 0 .5ex}\n",
       "</style>\n",
       "<ol class=list-inline><li>45</li><li>5</li></ol>\n"
      ],
      "text/latex": [
       "\\begin{enumerate*}\n",
       "\\item 45\n",
       "\\item 5\n",
       "\\end{enumerate*}\n"
      ],
      "text/markdown": [
       "1. 45\n",
       "2. 5\n",
       "\n",
       "\n"
      ],
      "text/plain": [
       "[1] 45  5"
      ]
     },
     "metadata": {},
     "output_type": "display_data"
    }
   ],
   "source": [
    "library(ggplot2)\n",
    "library(caret)\n",
    "library(randomForest)\n",
    "data(iris)\n",
    "inTrain <- createDataPartition(\n",
    "    y = iris$Species\n",
    "    , p = 0.7\n",
    "    , list = FALSE\n",
    ")\n",
    "training <- iris[inTrain,]\n",
    "testing <- iris[-inTrain,]\n",
    "dim(training);dim(testing)"
   ]
  },
  {
   "cell_type": "code",
   "execution_count": 46,
   "metadata": {},
   "outputs": [
    {
     "data": {
      "text/plain": [
       "Random Forest \n",
       "\n",
       "105 samples\n",
       "  4 predictor\n",
       "  3 classes: 'setosa', 'versicolor', 'virginica' \n",
       "\n",
       "No pre-processing\n",
       "Resampling: Bootstrapped (25 reps) \n",
       "Summary of sample sizes: 105, 105, 105, 105, 105, 105, ... \n",
       "Resampling results across tuning parameters:\n",
       "\n",
       "  mtry  Accuracy   Kappa    \n",
       "  2     0.9458160  0.9176879\n",
       "  3     0.9458930  0.9178406\n",
       "  4     0.9414466  0.9111908\n",
       "\n",
       "Accuracy was used to select the optimal model using the largest value.\n",
       "The final value used for the model was mtry = 3."
      ]
     },
     "metadata": {},
     "output_type": "display_data"
    }
   ],
   "source": [
    "modFit <- train(Species ~ ., data = training, method = \"rf\", prox = TRUE)\n",
    "modFit"
   ]
  },
  {
   "cell_type": "code",
   "execution_count": 47,
   "metadata": {},
   "outputs": [
    {
     "data": {
      "text/html": [
       "<table>\n",
       "<caption>A matrix: 11 × 6 of type dbl</caption>\n",
       "<thead>\n",
       "\t<tr><th></th><th scope=col>left daughter</th><th scope=col>right daughter</th><th scope=col>split var</th><th scope=col>split point</th><th scope=col>status</th><th scope=col>prediction</th></tr>\n",
       "</thead>\n",
       "<tbody>\n",
       "\t<tr><th scope=row>1</th><td> 2</td><td> 3</td><td>3</td><td>2.45</td><td> 1</td><td>0</td></tr>\n",
       "\t<tr><th scope=row>2</th><td> 0</td><td> 0</td><td>0</td><td>0.00</td><td>-1</td><td>1</td></tr>\n",
       "\t<tr><th scope=row>3</th><td> 4</td><td> 5</td><td>3</td><td>4.85</td><td> 1</td><td>0</td></tr>\n",
       "\t<tr><th scope=row>4</th><td> 6</td><td> 7</td><td>1</td><td>4.95</td><td> 1</td><td>0</td></tr>\n",
       "\t<tr><th scope=row>5</th><td> 8</td><td> 9</td><td>3</td><td>5.05</td><td> 1</td><td>0</td></tr>\n",
       "\t<tr><th scope=row>6</th><td> 0</td><td> 0</td><td>0</td><td>0.00</td><td>-1</td><td>3</td></tr>\n",
       "\t<tr><th scope=row>7</th><td> 0</td><td> 0</td><td>0</td><td>0.00</td><td>-1</td><td>2</td></tr>\n",
       "\t<tr><th scope=row>8</th><td>10</td><td>11</td><td>4</td><td>1.75</td><td> 1</td><td>0</td></tr>\n",
       "\t<tr><th scope=row>9</th><td> 0</td><td> 0</td><td>0</td><td>0.00</td><td>-1</td><td>3</td></tr>\n",
       "\t<tr><th scope=row>10</th><td> 0</td><td> 0</td><td>0</td><td>0.00</td><td>-1</td><td>2</td></tr>\n",
       "\t<tr><th scope=row>11</th><td> 0</td><td> 0</td><td>0</td><td>0.00</td><td>-1</td><td>3</td></tr>\n",
       "</tbody>\n",
       "</table>\n"
      ],
      "text/latex": [
       "A matrix: 11 × 6 of type dbl\n",
       "\\begin{tabular}{r|llllll}\n",
       "  & left daughter & right daughter & split var & split point & status & prediction\\\\\n",
       "\\hline\n",
       "\t1 &  2 &  3 & 3 & 2.45 &  1 & 0\\\\\n",
       "\t2 &  0 &  0 & 0 & 0.00 & -1 & 1\\\\\n",
       "\t3 &  4 &  5 & 3 & 4.85 &  1 & 0\\\\\n",
       "\t4 &  6 &  7 & 1 & 4.95 &  1 & 0\\\\\n",
       "\t5 &  8 &  9 & 3 & 5.05 &  1 & 0\\\\\n",
       "\t6 &  0 &  0 & 0 & 0.00 & -1 & 3\\\\\n",
       "\t7 &  0 &  0 & 0 & 0.00 & -1 & 2\\\\\n",
       "\t8 & 10 & 11 & 4 & 1.75 &  1 & 0\\\\\n",
       "\t9 &  0 &  0 & 0 & 0.00 & -1 & 3\\\\\n",
       "\t10 &  0 &  0 & 0 & 0.00 & -1 & 2\\\\\n",
       "\t11 &  0 &  0 & 0 & 0.00 & -1 & 3\\\\\n",
       "\\end{tabular}\n"
      ],
      "text/markdown": [
       "\n",
       "A matrix: 11 × 6 of type dbl\n",
       "\n",
       "| <!--/--> | left daughter | right daughter | split var | split point | status | prediction |\n",
       "|---|---|---|---|---|---|---|\n",
       "| 1 |  2 |  3 | 3 | 2.45 |  1 | 0 |\n",
       "| 2 |  0 |  0 | 0 | 0.00 | -1 | 1 |\n",
       "| 3 |  4 |  5 | 3 | 4.85 |  1 | 0 |\n",
       "| 4 |  6 |  7 | 1 | 4.95 |  1 | 0 |\n",
       "| 5 |  8 |  9 | 3 | 5.05 |  1 | 0 |\n",
       "| 6 |  0 |  0 | 0 | 0.00 | -1 | 3 |\n",
       "| 7 |  0 |  0 | 0 | 0.00 | -1 | 2 |\n",
       "| 8 | 10 | 11 | 4 | 1.75 |  1 | 0 |\n",
       "| 9 |  0 |  0 | 0 | 0.00 | -1 | 3 |\n",
       "| 10 |  0 |  0 | 0 | 0.00 | -1 | 2 |\n",
       "| 11 |  0 |  0 | 0 | 0.00 | -1 | 3 |\n",
       "\n"
      ],
      "text/plain": [
       "   left daughter right daughter split var split point status prediction\n",
       "1   2             3             3         2.45         1     0         \n",
       "2   0             0             0         0.00        -1     1         \n",
       "3   4             5             3         4.85         1     0         \n",
       "4   6             7             1         4.95         1     0         \n",
       "5   8             9             3         5.05         1     0         \n",
       "6   0             0             0         0.00        -1     3         \n",
       "7   0             0             0         0.00        -1     2         \n",
       "8  10            11             4         1.75         1     0         \n",
       "9   0             0             0         0.00        -1     3         \n",
       "10  0             0             0         0.00        -1     2         \n",
       "11  0             0             0         0.00        -1     3         "
      ]
     },
     "metadata": {},
     "output_type": "display_data"
    }
   ],
   "source": [
    "# get a single tree\n",
    "getTree(modFit$finalModel, k = 2)"
   ]
  },
  {
   "cell_type": "code",
   "execution_count": 60,
   "metadata": {},
   "outputs": [
    {
     "data": {
      "text/html": [
       "<table>\n",
       "<caption>A data.frame: 3 × 3</caption>\n",
       "<thead>\n",
       "\t<tr><th></th><th scope=col>Petal.Length</th><th scope=col>Petal.Width</th><th scope=col>Species</th></tr>\n",
       "\t<tr><th></th><th scope=col>&lt;dbl&gt;</th><th scope=col>&lt;dbl&gt;</th><th scope=col>&lt;chr&gt;</th></tr>\n",
       "</thead>\n",
       "<tbody>\n",
       "\t<tr><th scope=row>setosa</th><td>1.4</td><td>0.2</td><td>setosa    </td></tr>\n",
       "\t<tr><th scope=row>versicolor</th><td>4.4</td><td>1.3</td><td>versicolor</td></tr>\n",
       "\t<tr><th scope=row>virginica</th><td>5.6</td><td>2.1</td><td>virginica </td></tr>\n",
       "</tbody>\n",
       "</table>\n"
      ],
      "text/latex": [
       "A data.frame: 3 × 3\n",
       "\\begin{tabular}{r|lll}\n",
       "  & Petal.Length & Petal.Width & Species\\\\\n",
       "  & <dbl> & <dbl> & <chr>\\\\\n",
       "\\hline\n",
       "\tsetosa & 1.4 & 0.2 & setosa    \\\\\n",
       "\tversicolor & 4.4 & 1.3 & versicolor\\\\\n",
       "\tvirginica & 5.6 & 2.1 & virginica \\\\\n",
       "\\end{tabular}\n"
      ],
      "text/markdown": [
       "\n",
       "A data.frame: 3 × 3\n",
       "\n",
       "| <!--/--> | Petal.Length &lt;dbl&gt; | Petal.Width &lt;dbl&gt; | Species &lt;chr&gt; |\n",
       "|---|---|---|---|\n",
       "| setosa | 1.4 | 0.2 | setosa     |\n",
       "| versicolor | 4.4 | 1.3 | versicolor |\n",
       "| virginica | 5.6 | 2.1 | virginica  |\n",
       "\n"
      ],
      "text/plain": [
       "           Petal.Length Petal.Width Species   \n",
       "setosa     1.4          0.2         setosa    \n",
       "versicolor 4.4          1.3         versicolor\n",
       "virginica  5.6          2.1         virginica "
      ]
     },
     "metadata": {},
     "output_type": "display_data"
    }
   ],
   "source": [
    "irisP"
   ]
  },
  {
   "cell_type": "code",
   "execution_count": 65,
   "metadata": {},
   "outputs": [
    {
     "data": {
      "image/png": "[encoded data removed]",
      "text/plain": [
       "plot without title"
      ]
     },
     "metadata": {
      "image/png": {
       "height": 420,
       "width": 420
      }
     },
     "output_type": "display_data"
    }
   ],
   "source": [
    "irisP <- classCenter(training[,c(3,4)]\n",
    "                    , training$Species\n",
    "                    , modFit$finalModel$prox)\n",
    "irisP <- as.data.frame(irisP)\n",
    "irisP$Species <- rownames(irisP)\n",
    "#g <- NULL\n",
    "g <- ggplot(data = training, aes(x = Petal.Width, y = Petal.Length, col = Species)) + geom_point()\n",
    "g <- g + geom_point(aes( x = Petal.Width, y = Petal.Length, col = Species), size = 5, shape = 4, data = irisP)\n",
    "g"
   ]
  },
  {
   "cell_type": "code",
   "execution_count": 66,
   "metadata": {},
   "outputs": [
    {
     "data": {
      "text/plain": [
       "            \n",
       "pred         setosa versicolor virginica\n",
       "  setosa         15          0         0\n",
       "  versicolor      0         15         3\n",
       "  virginica       0          0        12"
      ]
     },
     "metadata": {},
     "output_type": "display_data"
    }
   ],
   "source": [
    "# Predict new values\n",
    "pred <- predict(modFit, testing)\n",
    "testing$predRight <- pred == testing$Species\n",
    "table(pred, testing$Species)"
   ]
  },
  {
   "cell_type": "code",
   "execution_count": 68,
   "metadata": {},
   "outputs": [
    {
     "data": {
      "image/png": "[encoded data removed]",
      "text/plain": [
       "plot without title"
      ]
     },
     "metadata": {
      "image/png": {
       "height": 420,
       "width": 420
      }
     },
     "output_type": "display_data"
    }
   ],
   "source": [
    "g <- NULL\n",
    "g <- ggplot(data = testing, aes(x = Petal.Width, y = Petal.Length, colour = predRight), main = \"newdata Predictions\")\n",
    "g <- g + geom_point()\n",
    "g "
   ]
  },
  {
   "cell_type": "markdown",
   "metadata": {},
   "source": [
    "**Notes**\n",
    "- Random forests are usually one of the two top performing algorithms along with boosting in prediction contests\n",
    "- Random forests are difficult to interpret but often very accurate\n",
    "- Care should be taken to avoid overfitting (see `rfcv` function)"
   ]
  },
  {
   "cell_type": "markdown",
   "metadata": {},
   "source": [
    "### Boosting\n",
    "**Basic Idea**\n",
    "- Take lots of (possibly) weak predictors\n",
    "- Weight them and add them up\n",
    "- Get a stronger predictor\n",
    "\n",
    "**Basic Idea behind boosting**\n",
    "1. Start with a set of classifier $h_1, \\ldots, h_k$\n",
    "    - Examples: All possible trees, all possible regression models, all possible cutoffs\n",
    "1. Create a classifier that combines classification functions : $f(x) = \\text{sgn} \\left( \\sum_{t=1}^{T} \\alpha_t h_t(x) \\right) $\n",
    "    - Goal is to minimize error (on training set)\n",
    "    - Iterative, select one $h$ at each step\n",
    "    - Calculate weights based on errors\n",
    "    - Upweight missed classifications and select next $h$\n",
    "\n",
    "e.g. Adaboost\n",
    "\n",
    "**Boosting in R**\n",
    "- Bossting can be used with any subset of classifiers\n",
    "- One large subclass is **Gradient Boosting**\n",
    "- R has multiple boosting libraries. Differences include the choice of basic classification functions and combination rules\n",
    "    - `gbm`: boosting with trees\n",
    "    - `mboost`: model based boosting\n",
    "    - `ada`: statistical boosting based on `additive logistic regression`\n",
    "    - `gamBoost`: for boosting generalized additive models\n",
    "- Most of these are available in the caret package"
   ]
  },
  {
   "cell_type": "code",
   "execution_count": 80,
   "metadata": {},
   "outputs": [],
   "source": [
    "## Wage example\n",
    "library(ISLR)\n",
    "data(Wage)\n",
    "library(caret)\n",
    "library(ggplot2)\n",
    "\n",
    "Wage <- subset(Wage, select = -c(logwage))\n",
    "inTrain <- createDataPartition(y=Wage$wage\n",
    "                              , p = 0.7\n",
    "                              , list = FALSE\n",
    "                              )\n",
    "training <- Wage[inTrain,]\n",
    "testing <- Wage[-inTrain,]"
   ]
  },
  {
   "cell_type": "code",
   "execution_count": 81,
   "metadata": {},
   "outputs": [
    {
     "data": {
      "text/html": [
       "<table>\n",
       "<caption>A data.frame: 6 × 10</caption>\n",
       "<thead>\n",
       "\t<tr><th></th><th scope=col>year</th><th scope=col>age</th><th scope=col>maritl</th><th scope=col>race</th><th scope=col>education</th><th scope=col>region</th><th scope=col>jobclass</th><th scope=col>health</th><th scope=col>health_ins</th><th scope=col>wage</th></tr>\n",
       "\t<tr><th></th><th scope=col>&lt;int&gt;</th><th scope=col>&lt;int&gt;</th><th scope=col>&lt;fct&gt;</th><th scope=col>&lt;fct&gt;</th><th scope=col>&lt;fct&gt;</th><th scope=col>&lt;fct&gt;</th><th scope=col>&lt;fct&gt;</th><th scope=col>&lt;fct&gt;</th><th scope=col>&lt;fct&gt;</th><th scope=col>&lt;dbl&gt;</th></tr>\n",
       "</thead>\n",
       "<tbody>\n",
       "\t<tr><th scope=row>86582</th><td>2004</td><td>24</td><td>1. Never Married</td><td>1. White</td><td>4. College Grad</td><td>2. Middle Atlantic</td><td>2. Information</td><td>2. &gt;=Very Good</td><td>2. No </td><td> 70.47602</td></tr>\n",
       "\t<tr><th scope=row>161300</th><td>2003</td><td>45</td><td><span style=white-space:pre-wrap>2. Married      </span></td><td>1. White</td><td>3. Some College</td><td>2. Middle Atlantic</td><td>1. Industrial </td><td><span style=white-space:pre-wrap>1. &lt;=Good     </span></td><td>1. Yes</td><td>130.98218</td></tr>\n",
       "\t<tr><th scope=row>155159</th><td>2003</td><td>43</td><td><span style=white-space:pre-wrap>2. Married      </span></td><td>3. Asian</td><td>4. College Grad</td><td>2. Middle Atlantic</td><td>2. Information</td><td>2. &gt;=Very Good</td><td>1. Yes</td><td>154.68529</td></tr>\n",
       "\t<tr><th scope=row>11443</th><td>2005</td><td>50</td><td><span style=white-space:pre-wrap>4. Divorced     </span></td><td>1. White</td><td><span style=white-space:pre-wrap>2. HS Grad     </span></td><td>2. Middle Atlantic</td><td>2. Information</td><td><span style=white-space:pre-wrap>1. &lt;=Good     </span></td><td>1. Yes</td><td> 75.04315</td></tr>\n",
       "\t<tr><th scope=row>228963</th><td>2006</td><td>41</td><td>1. Never Married</td><td>2. Black</td><td>3. Some College</td><td>2. Middle Atlantic</td><td>2. Information</td><td>2. &gt;=Very Good</td><td>1. Yes</td><td>118.88436</td></tr>\n",
       "\t<tr><th scope=row>81404</th><td>2004</td><td>52</td><td><span style=white-space:pre-wrap>2. Married      </span></td><td>1. White</td><td><span style=white-space:pre-wrap>2. HS Grad     </span></td><td>2. Middle Atlantic</td><td>2. Information</td><td>2. &gt;=Very Good</td><td>1. Yes</td><td>128.68049</td></tr>\n",
       "</tbody>\n",
       "</table>\n"
      ],
      "text/latex": [
       "A data.frame: 6 × 10\n",
       "\\begin{tabular}{r|llllllllll}\n",
       "  & year & age & maritl & race & education & region & jobclass & health & health\\_ins & wage\\\\\n",
       "  & <int> & <int> & <fct> & <fct> & <fct> & <fct> & <fct> & <fct> & <fct> & <dbl>\\\\\n",
       "\\hline\n",
       "\t86582 & 2004 & 24 & 1. Never Married & 1. White & 4. College Grad & 2. Middle Atlantic & 2. Information & 2. >=Very Good & 2. No  &  70.47602\\\\\n",
       "\t161300 & 2003 & 45 & 2. Married       & 1. White & 3. Some College & 2. Middle Atlantic & 1. Industrial  & 1. <=Good      & 1. Yes & 130.98218\\\\\n",
       "\t155159 & 2003 & 43 & 2. Married       & 3. Asian & 4. College Grad & 2. Middle Atlantic & 2. Information & 2. >=Very Good & 1. Yes & 154.68529\\\\\n",
       "\t11443 & 2005 & 50 & 4. Divorced      & 1. White & 2. HS Grad      & 2. Middle Atlantic & 2. Information & 1. <=Good      & 1. Yes &  75.04315\\\\\n",
       "\t228963 & 2006 & 41 & 1. Never Married & 2. Black & 3. Some College & 2. Middle Atlantic & 2. Information & 2. >=Very Good & 1. Yes & 118.88436\\\\\n",
       "\t81404 & 2004 & 52 & 2. Married       & 1. White & 2. HS Grad      & 2. Middle Atlantic & 2. Information & 2. >=Very Good & 1. Yes & 128.68049\\\\\n",
       "\\end{tabular}\n"
      ],
      "text/markdown": [
       "\n",
       "A data.frame: 6 × 10\n",
       "\n",
       "| <!--/--> | year &lt;int&gt; | age &lt;int&gt; | maritl &lt;fct&gt; | race &lt;fct&gt; | education &lt;fct&gt; | region &lt;fct&gt; | jobclass &lt;fct&gt; | health &lt;fct&gt; | health_ins &lt;fct&gt; | wage &lt;dbl&gt; |\n",
       "|---|---|---|---|---|---|---|---|---|---|---|\n",
       "| 86582 | 2004 | 24 | 1. Never Married | 1. White | 4. College Grad | 2. Middle Atlantic | 2. Information | 2. &gt;=Very Good | 2. No  |  70.47602 |\n",
       "| 161300 | 2003 | 45 | 2. Married       | 1. White | 3. Some College | 2. Middle Atlantic | 1. Industrial  | 1. &lt;=Good      | 1. Yes | 130.98218 |\n",
       "| 155159 | 2003 | 43 | 2. Married       | 3. Asian | 4. College Grad | 2. Middle Atlantic | 2. Information | 2. &gt;=Very Good | 1. Yes | 154.68529 |\n",
       "| 11443 | 2005 | 50 | 4. Divorced      | 1. White | 2. HS Grad      | 2. Middle Atlantic | 2. Information | 1. &lt;=Good      | 1. Yes |  75.04315 |\n",
       "| 228963 | 2006 | 41 | 1. Never Married | 2. Black | 3. Some College | 2. Middle Atlantic | 2. Information | 2. &gt;=Very Good | 1. Yes | 118.88436 |\n",
       "| 81404 | 2004 | 52 | 2. Married       | 1. White | 2. HS Grad      | 2. Middle Atlantic | 2. Information | 2. &gt;=Very Good | 1. Yes | 128.68049 |\n",
       "\n"
      ],
      "text/plain": [
       "       year age maritl           race     education       region            \n",
       "86582  2004 24  1. Never Married 1. White 4. College Grad 2. Middle Atlantic\n",
       "161300 2003 45  2. Married       1. White 3. Some College 2. Middle Atlantic\n",
       "155159 2003 43  2. Married       3. Asian 4. College Grad 2. Middle Atlantic\n",
       "11443  2005 50  4. Divorced      1. White 2. HS Grad      2. Middle Atlantic\n",
       "228963 2006 41  1. Never Married 2. Black 3. Some College 2. Middle Atlantic\n",
       "81404  2004 52  2. Married       1. White 2. HS Grad      2. Middle Atlantic\n",
       "       jobclass       health         health_ins wage     \n",
       "86582  2. Information 2. >=Very Good 2. No       70.47602\n",
       "161300 1. Industrial  1. <=Good      1. Yes     130.98218\n",
       "155159 2. Information 2. >=Very Good 1. Yes     154.68529\n",
       "11443  2. Information 1. <=Good      1. Yes      75.04315\n",
       "228963 2. Information 2. >=Very Good 1. Yes     118.88436\n",
       "81404  2. Information 2. >=Very Good 1. Yes     128.68049"
      ]
     },
     "metadata": {},
     "output_type": "display_data"
    }
   ],
   "source": [
    "head(training)"
   ]
  },
  {
   "cell_type": "code",
   "execution_count": 83,
   "metadata": {
    "collapsed": true,
    "jupyter": {
     "outputs_hidden": true
    }
   },
   "outputs": [
    {
     "name": "stderr",
     "output_type": "stream",
     "text": [
      "Warning message in (function (x, y, offset = NULL, misc = NULL, distribution = \"bernoulli\", :\n",
      "“variable 14: region2. Middle Atlantic has no variation.”\n",
      "Warning message in (function (x, y, offset = NULL, misc = NULL, distribution = \"bernoulli\", :\n",
      "“variable 15: region3. East North Central has no variation.”\n",
      "Warning message in (function (x, y, offset = NULL, misc = NULL, distribution = \"bernoulli\", :\n",
      "“variable 16: region4. West North Central has no variation.”\n",
      "Warning message in (function (x, y, offset = NULL, misc = NULL, distribution = \"bernoulli\", :\n",
      "“variable 17: region5. South Atlantic has no variation.”\n",
      "Warning message in (function (x, y, offset = NULL, misc = NULL, distribution = \"bernoulli\", :\n",
      "“variable 18: region6. East South Central has no variation.”\n",
      "Warning message in (function (x, y, offset = NULL, misc = NULL, distribution = \"bernoulli\", :\n",
      "“variable 19: region7. West South Central has no variation.”\n",
      "Warning message in (function (x, y, offset = NULL, misc = NULL, distribution = \"bernoulli\", :\n",
      "“variable 20: region8. Mountain has no variation.”\n",
      "Warning message in (function (x, y, offset = NULL, misc = NULL, distribution = \"bernoulli\", :\n",
      "“variable 21: region9. Pacific has no variation.”\n",
      "Warning message in (function (x, y, offset = NULL, misc = NULL, distribution = \"bernoulli\", :\n",
      "“variable 14: region2. Middle Atlantic has no variation.”\n",
      "Warning message in (function (x, y, offset = NULL, misc = NULL, distribution = \"bernoulli\", :\n",
      "“variable 15: region3. East North Central has no variation.”\n",
      "Warning message in (function (x, y, offset = NULL, misc = NULL, distribution = \"bernoulli\", :\n",
      "“variable 16: region4. West North Central has no variation.”\n",
      "Warning message in (function (x, y, offset = NULL, misc = NULL, distribution = \"bernoulli\", :\n",
      "“variable 17: region5. South Atlantic has no variation.”\n",
      "Warning message in (function (x, y, offset = NULL, misc = NULL, distribution = \"bernoulli\", :\n",
      "“variable 18: region6. East South Central has no variation.”\n",
      "Warning message in (function (x, y, offset = NULL, misc = NULL, distribution = \"bernoulli\", :\n",
      "“variable 19: region7. West South Central has no variation.”\n",
      "Warning message in (function (x, y, offset = NULL, misc = NULL, distribution = \"bernoulli\", :\n",
      "“variable 20: region8. Mountain has no variation.”\n",
      "Warning message in (function (x, y, offset = NULL, misc = NULL, distribution = \"bernoulli\", :\n",
      "“variable 21: region9. Pacific has no variation.”\n",
      "Warning message in (function (x, y, offset = NULL, misc = NULL, distribution = \"bernoulli\", :\n",
      "“variable 14: region2. Middle Atlantic has no variation.”\n",
      "Warning message in (function (x, y, offset = NULL, misc = NULL, distribution = \"bernoulli\", :\n",
      "“variable 15: region3. East North Central has no variation.”\n",
      "Warning message in (function (x, y, offset = NULL, misc = NULL, distribution = \"bernoulli\", :\n",
      "“variable 16: region4. West North Central has no variation.”\n",
      "Warning message in (function (x, y, offset = NULL, misc = NULL, distribution = \"bernoulli\", :\n",
      "“variable 17: region5. South Atlantic has no variation.”\n",
      "Warning message in (function (x, y, offset = NULL, misc = NULL, distribution = \"bernoulli\", :\n",
      "“variable 18: region6. East South Central has no variation.”\n",
      "Warning message in (function (x, y, offset = NULL, misc = NULL, distribution = \"bernoulli\", :\n",
      "“variable 19: region7. West South Central has no variation.”\n",
      "Warning message in (function (x, y, offset = NULL, misc = NULL, distribution = \"bernoulli\", :\n",
      "“variable 20: region8. Mountain has no variation.”\n",
      "Warning message in (function (x, y, offset = NULL, misc = NULL, distribution = \"bernoulli\", :\n",
      "“variable 21: region9. Pacific has no variation.”\n",
      "Warning message in (function (x, y, offset = NULL, misc = NULL, distribution = \"bernoulli\", :\n",
      "“variable 14: region2. Middle Atlantic has no variation.”\n",
      "Warning message in (function (x, y, offset = NULL, misc = NULL, distribution = \"bernoulli\", :\n",
      "“variable 15: region3. East North Central has no variation.”\n",
      "Warning message in (function (x, y, offset = NULL, misc = NULL, distribution = \"bernoulli\", :\n",
      "“variable 16: region4. West North Central has no variation.”\n",
      "Warning message in (function (x, y, offset = NULL, misc = NULL, distribution = \"bernoulli\", :\n",
      "“variable 17: region5. South Atlantic has no variation.”\n",
      "Warning message in (function (x, y, offset = NULL, misc = NULL, distribution = \"bernoulli\", :\n",
      "“variable 18: region6. East South Central has no variation.”\n",
      "Warning message in (function (x, y, offset = NULL, misc = NULL, distribution = \"bernoulli\", :\n",
      "“variable 19: region7. West South Central has no variation.”\n",
      "Warning message in (function (x, y, offset = NULL, misc = NULL, distribution = \"bernoulli\", :\n",
      "“variable 20: region8. Mountain has no variation.”\n",
      "Warning message in (function (x, y, offset = NULL, misc = NULL, distribution = \"bernoulli\", :\n",
      "“variable 21: region9. Pacific has no variation.”\n",
      "Warning message in (function (x, y, offset = NULL, misc = NULL, distribution = \"bernoulli\", :\n",
      "“variable 14: region2. Middle Atlantic has no variation.”\n",
      "Warning message in (function (x, y, offset = NULL, misc = NULL, distribution = \"bernoulli\", :\n",
      "“variable 15: region3. East North Central has no variation.”\n",
      "Warning message in (function (x, y, offset = NULL, misc = NULL, distribution = \"bernoulli\", :\n",
      "“variable 16: region4. West North Central has no variation.”\n",
      "Warning message in (function (x, y, offset = NULL, misc = NULL, distribution = \"bernoulli\", :\n",
      "“variable 17: region5. South Atlantic has no variation.”\n",
      "Warning message in (function (x, y, offset = NULL, misc = NULL, distribution = \"bernoulli\", :\n",
      "“variable 18: region6. East South Central has no variation.”\n",
      "Warning message in (function (x, y, offset = NULL, misc = NULL, distribution = \"bernoulli\", :\n",
      "“variable 19: region7. West South Central has no variation.”\n",
      "Warning message in (function (x, y, offset = NULL, misc = NULL, distribution = \"bernoulli\", :\n",
      "“variable 20: region8. Mountain has no variation.”\n",
      "Warning message in (function (x, y, offset = NULL, misc = NULL, distribution = \"bernoulli\", :\n",
      "“variable 21: region9. Pacific has no variation.”\n",
      "Warning message in (function (x, y, offset = NULL, misc = NULL, distribution = \"bernoulli\", :\n",
      "“variable 14: region2. Middle Atlantic has no variation.”\n",
      "Warning message in (function (x, y, offset = NULL, misc = NULL, distribution = \"bernoulli\", :\n",
      "“variable 15: region3. East North Central has no variation.”\n",
      "Warning message in (function (x, y, offset = NULL, misc = NULL, distribution = \"bernoulli\", :\n",
      "“variable 16: region4. West North Central has no variation.”\n",
      "Warning message in (function (x, y, offset = NULL, misc = NULL, distribution = \"bernoulli\", :\n",
      "“variable 17: region5. South Atlantic has no variation.”\n",
      "Warning message in (function (x, y, offset = NULL, misc = NULL, distribution = \"bernoulli\", :\n",
      "“variable 18: region6. East South Central has no variation.”\n",
      "Warning message in (function (x, y, offset = NULL, misc = NULL, distribution = \"bernoulli\", :\n",
      "“variable 19: region7. West South Central has no variation.”\n",
      "Warning message in (function (x, y, offset = NULL, misc = NULL, distribution = \"bernoulli\", :\n",
      "“variable 20: region8. Mountain has no variation.”\n",
      "Warning message in (function (x, y, offset = NULL, misc = NULL, distribution = \"bernoulli\", :\n",
      "“variable 21: region9. Pacific has no variation.”\n",
      "Warning message in (function (x, y, offset = NULL, misc = NULL, distribution = \"bernoulli\", :\n",
      "“variable 14: region2. Middle Atlantic has no variation.”\n",
      "Warning message in (function (x, y, offset = NULL, misc = NULL, distribution = \"bernoulli\", :\n",
      "“variable 15: region3. East North Central has no variation.”\n",
      "Warning message in (function (x, y, offset = NULL, misc = NULL, distribution = \"bernoulli\", :\n",
      "“variable 16: region4. West North Central has no variation.”\n",
      "Warning message in (function (x, y, offset = NULL, misc = NULL, distribution = \"bernoulli\", :\n",
      "“variable 17: region5. South Atlantic has no variation.”\n",
      "Warning message in (function (x, y, offset = NULL, misc = NULL, distribution = \"bernoulli\", :\n",
      "“variable 18: region6. East South Central has no variation.”\n",
      "Warning message in (function (x, y, offset = NULL, misc = NULL, distribution = \"bernoulli\", :\n",
      "“variable 19: region7. West South Central has no variation.”\n",
      "Warning message in (function (x, y, offset = NULL, misc = NULL, distribution = \"bernoulli\", :\n",
      "“variable 20: region8. Mountain has no variation.”\n",
      "Warning message in (function (x, y, offset = NULL, misc = NULL, distribution = \"bernoulli\", :\n",
      "“variable 21: region9. Pacific has no variation.”\n",
      "Warning message in (function (x, y, offset = NULL, misc = NULL, distribution = \"bernoulli\", :\n",
      "“variable 14: region2. Middle Atlantic has no variation.”\n",
      "Warning message in (function (x, y, offset = NULL, misc = NULL, distribution = \"bernoulli\", :\n",
      "“variable 15: region3. East North Central has no variation.”\n",
      "Warning message in (function (x, y, offset = NULL, misc = NULL, distribution = \"bernoulli\", :\n",
      "“variable 16: region4. West North Central has no variation.”\n",
      "Warning message in (function (x, y, offset = NULL, misc = NULL, distribution = \"bernoulli\", :\n",
      "“variable 17: region5. South Atlantic has no variation.”\n",
      "Warning message in (function (x, y, offset = NULL, misc = NULL, distribution = \"bernoulli\", :\n",
      "“variable 18: region6. East South Central has no variation.”\n",
      "Warning message in (function (x, y, offset = NULL, misc = NULL, distribution = \"bernoulli\", :\n",
      "“variable 19: region7. West South Central has no variation.”\n",
      "Warning message in (function (x, y, offset = NULL, misc = NULL, distribution = \"bernoulli\", :\n",
      "“variable 20: region8. Mountain has no variation.”\n",
      "Warning message in (function (x, y, offset = NULL, misc = NULL, distribution = \"bernoulli\", :\n",
      "“variable 21: region9. Pacific has no variation.”\n",
      "Warning message in (function (x, y, offset = NULL, misc = NULL, distribution = \"bernoulli\", :\n",
      "“variable 14: region2. Middle Atlantic has no variation.”\n",
      "Warning message in (function (x, y, offset = NULL, misc = NULL, distribution = \"bernoulli\", :\n",
      "“variable 15: region3. East North Central has no variation.”\n",
      "Warning message in (function (x, y, offset = NULL, misc = NULL, distribution = \"bernoulli\", :\n",
      "“variable 16: region4. West North Central has no variation.”\n",
      "Warning message in (function (x, y, offset = NULL, misc = NULL, distribution = \"bernoulli\", :\n",
      "“variable 17: region5. South Atlantic has no variation.”\n",
      "Warning message in (function (x, y, offset = NULL, misc = NULL, distribution = \"bernoulli\", :\n",
      "“variable 18: region6. East South Central has no variation.”\n",
      "Warning message in (function (x, y, offset = NULL, misc = NULL, distribution = \"bernoulli\", :\n",
      "“variable 19: region7. West South Central has no variation.”\n",
      "Warning message in (function (x, y, offset = NULL, misc = NULL, distribution = \"bernoulli\", :\n",
      "“variable 20: region8. Mountain has no variation.”\n",
      "Warning message in (function (x, y, offset = NULL, misc = NULL, distribution = \"bernoulli\", :\n",
      "“variable 21: region9. Pacific has no variation.”\n",
      "Warning message in (function (x, y, offset = NULL, misc = NULL, distribution = \"bernoulli\", :\n",
      "“variable 14: region2. Middle Atlantic has no variation.”\n",
      "Warning message in (function (x, y, offset = NULL, misc = NULL, distribution = \"bernoulli\", :\n",
      "“variable 15: region3. East North Central has no variation.”\n",
      "Warning message in (function (x, y, offset = NULL, misc = NULL, distribution = \"bernoulli\", :\n",
      "“variable 16: region4. West North Central has no variation.”\n",
      "Warning message in (function (x, y, offset = NULL, misc = NULL, distribution = \"bernoulli\", :\n",
      "“variable 17: region5. South Atlantic has no variation.”\n",
      "Warning message in (function (x, y, offset = NULL, misc = NULL, distribution = \"bernoulli\", :\n",
      "“variable 18: region6. East South Central has no variation.”\n",
      "Warning message in (function (x, y, offset = NULL, misc = NULL, distribution = \"bernoulli\", :\n",
      "“variable 19: region7. West South Central has no variation.”\n",
      "Warning message in (function (x, y, offset = NULL, misc = NULL, distribution = \"bernoulli\", :\n",
      "“variable 20: region8. Mountain has no variation.”\n",
      "Warning message in (function (x, y, offset = NULL, misc = NULL, distribution = \"bernoulli\", :\n",
      "“variable 21: region9. Pacific has no variation.”\n",
      "Warning message in (function (x, y, offset = NULL, misc = NULL, distribution = \"bernoulli\", :\n",
      "“variable 14: region2. Middle Atlantic has no variation.”\n",
      "Warning message in (function (x, y, offset = NULL, misc = NULL, distribution = \"bernoulli\", :\n",
      "“variable 15: region3. East North Central has no variation.”\n",
      "Warning message in (function (x, y, offset = NULL, misc = NULL, distribution = \"bernoulli\", :\n",
      "“variable 16: region4. West North Central has no variation.”\n",
      "Warning message in (function (x, y, offset = NULL, misc = NULL, distribution = \"bernoulli\", :\n",
      "“variable 17: region5. South Atlantic has no variation.”\n",
      "Warning message in (function (x, y, offset = NULL, misc = NULL, distribution = \"bernoulli\", :\n",
      "“variable 18: region6. East South Central has no variation.”\n",
      "Warning message in (function (x, y, offset = NULL, misc = NULL, distribution = \"bernoulli\", :\n",
      "“variable 19: region7. West South Central has no variation.”\n",
      "Warning message in (function (x, y, offset = NULL, misc = NULL, distribution = \"bernoulli\", :\n",
      "“variable 20: region8. Mountain has no variation.”\n",
      "Warning message in (function (x, y, offset = NULL, misc = NULL, distribution = \"bernoulli\", :\n",
      "“variable 21: region9. Pacific has no variation.”\n",
      "Warning message in (function (x, y, offset = NULL, misc = NULL, distribution = \"bernoulli\", :\n",
      "“variable 14: region2. Middle Atlantic has no variation.”\n",
      "Warning message in (function (x, y, offset = NULL, misc = NULL, distribution = \"bernoulli\", :\n",
      "“variable 15: region3. East North Central has no variation.”\n",
      "Warning message in (function (x, y, offset = NULL, misc = NULL, distribution = \"bernoulli\", :\n",
      "“variable 16: region4. West North Central has no variation.”\n",
      "Warning message in (function (x, y, offset = NULL, misc = NULL, distribution = \"bernoulli\", :\n",
      "“variable 17: region5. South Atlantic has no variation.”\n",
      "Warning message in (function (x, y, offset = NULL, misc = NULL, distribution = \"bernoulli\", :\n",
      "“variable 18: region6. East South Central has no variation.”\n",
      "Warning message in (function (x, y, offset = NULL, misc = NULL, distribution = \"bernoulli\", :\n",
      "“variable 19: region7. West South Central has no variation.”\n",
      "Warning message in (function (x, y, offset = NULL, misc = NULL, distribution = \"bernoulli\", :\n",
      "“variable 20: region8. Mountain has no variation.”\n",
      "Warning message in (function (x, y, offset = NULL, misc = NULL, distribution = \"bernoulli\", :\n",
      "“variable 21: region9. Pacific has no variation.”\n",
      "Warning message in (function (x, y, offset = NULL, misc = NULL, distribution = \"bernoulli\", :\n",
      "“variable 14: region2. Middle Atlantic has no variation.”\n",
      "Warning message in (function (x, y, offset = NULL, misc = NULL, distribution = \"bernoulli\", :\n",
      "“variable 15: region3. East North Central has no variation.”\n",
      "Warning message in (function (x, y, offset = NULL, misc = NULL, distribution = \"bernoulli\", :\n",
      "“variable 16: region4. West North Central has no variation.”\n",
      "Warning message in (function (x, y, offset = NULL, misc = NULL, distribution = \"bernoulli\", :\n",
      "“variable 17: region5. South Atlantic has no variation.”\n",
      "Warning message in (function (x, y, offset = NULL, misc = NULL, distribution = \"bernoulli\", :\n",
      "“variable 18: region6. East South Central has no variation.”\n",
      "Warning message in (function (x, y, offset = NULL, misc = NULL, distribution = \"bernoulli\", :\n",
      "“variable 19: region7. West South Central has no variation.”\n",
      "Warning message in (function (x, y, offset = NULL, misc = NULL, distribution = \"bernoulli\", :\n",
      "“variable 20: region8. Mountain has no variation.”\n",
      "Warning message in (function (x, y, offset = NULL, misc = NULL, distribution = \"bernoulli\", :\n",
      "“variable 21: region9. Pacific has no variation.”\n",
      "Warning message in (function (x, y, offset = NULL, misc = NULL, distribution = \"bernoulli\", :\n",
      "“variable 14: region2. Middle Atlantic has no variation.”\n",
      "Warning message in (function (x, y, offset = NULL, misc = NULL, distribution = \"bernoulli\", :\n",
      "“variable 15: region3. East North Central has no variation.”\n",
      "Warning message in (function (x, y, offset = NULL, misc = NULL, distribution = \"bernoulli\", :\n",
      "“variable 16: region4. West North Central has no variation.”\n",
      "Warning message in (function (x, y, offset = NULL, misc = NULL, distribution = \"bernoulli\", :\n",
      "“variable 17: region5. South Atlantic has no variation.”\n",
      "Warning message in (function (x, y, offset = NULL, misc = NULL, distribution = \"bernoulli\", :\n",
      "“variable 18: region6. East South Central has no variation.”\n",
      "Warning message in (function (x, y, offset = NULL, misc = NULL, distribution = \"bernoulli\", :\n",
      "“variable 19: region7. West South Central has no variation.”\n",
      "Warning message in (function (x, y, offset = NULL, misc = NULL, distribution = \"bernoulli\", :\n",
      "“variable 20: region8. Mountain has no variation.”\n",
      "Warning message in (function (x, y, offset = NULL, misc = NULL, distribution = \"bernoulli\", :\n",
      "“variable 21: region9. Pacific has no variation.”\n",
      "Warning message in (function (x, y, offset = NULL, misc = NULL, distribution = \"bernoulli\", :\n",
      "“variable 14: region2. Middle Atlantic has no variation.”\n",
      "Warning message in (function (x, y, offset = NULL, misc = NULL, distribution = \"bernoulli\", :\n",
      "“variable 15: region3. East North Central has no variation.”\n",
      "Warning message in (function (x, y, offset = NULL, misc = NULL, distribution = \"bernoulli\", :\n",
      "“variable 16: region4. West North Central has no variation.”\n",
      "Warning message in (function (x, y, offset = NULL, misc = NULL, distribution = \"bernoulli\", :\n",
      "“variable 17: region5. South Atlantic has no variation.”\n",
      "Warning message in (function (x, y, offset = NULL, misc = NULL, distribution = \"bernoulli\", :\n",
      "“variable 18: region6. East South Central has no variation.”\n",
      "Warning message in (function (x, y, offset = NULL, misc = NULL, distribution = \"bernoulli\", :\n",
      "“variable 19: region7. West South Central has no variation.”\n",
      "Warning message in (function (x, y, offset = NULL, misc = NULL, distribution = \"bernoulli\", :\n",
      "“variable 20: region8. Mountain has no variation.”\n",
      "Warning message in (function (x, y, offset = NULL, misc = NULL, distribution = \"bernoulli\", :\n",
      "“variable 21: region9. Pacific has no variation.”\n",
      "Warning message in (function (x, y, offset = NULL, misc = NULL, distribution = \"bernoulli\", :\n",
      "“variable 14: region2. Middle Atlantic has no variation.”\n",
      "Warning message in (function (x, y, offset = NULL, misc = NULL, distribution = \"bernoulli\", :\n",
      "“variable 15: region3. East North Central has no variation.”\n",
      "Warning message in (function (x, y, offset = NULL, misc = NULL, distribution = \"bernoulli\", :\n",
      "“variable 16: region4. West North Central has no variation.”\n",
      "Warning message in (function (x, y, offset = NULL, misc = NULL, distribution = \"bernoulli\", :\n",
      "“variable 17: region5. South Atlantic has no variation.”\n",
      "Warning message in (function (x, y, offset = NULL, misc = NULL, distribution = \"bernoulli\", :\n",
      "“variable 18: region6. East South Central has no variation.”\n",
      "Warning message in (function (x, y, offset = NULL, misc = NULL, distribution = \"bernoulli\", :\n",
      "“variable 19: region7. West South Central has no variation.”\n",
      "Warning message in (function (x, y, offset = NULL, misc = NULL, distribution = \"bernoulli\", :\n",
      "“variable 20: region8. Mountain has no variation.”\n",
      "Warning message in (function (x, y, offset = NULL, misc = NULL, distribution = \"bernoulli\", :\n",
      "“variable 21: region9. Pacific has no variation.”\n",
      "Warning message in (function (x, y, offset = NULL, misc = NULL, distribution = \"bernoulli\", :\n",
      "“variable 14: region2. Middle Atlantic has no variation.”\n",
      "Warning message in (function (x, y, offset = NULL, misc = NULL, distribution = \"bernoulli\", :\n",
      "“variable 15: region3. East North Central has no variation.”\n",
      "Warning message in (function (x, y, offset = NULL, misc = NULL, distribution = \"bernoulli\", :\n",
      "“variable 16: region4. West North Central has no variation.”\n",
      "Warning message in (function (x, y, offset = NULL, misc = NULL, distribution = \"bernoulli\", :\n",
      "“variable 17: region5. South Atlantic has no variation.”\n",
      "Warning message in (function (x, y, offset = NULL, misc = NULL, distribution = \"bernoulli\", :\n",
      "“variable 18: region6. East South Central has no variation.”\n",
      "Warning message in (function (x, y, offset = NULL, misc = NULL, distribution = \"bernoulli\", :\n",
      "“variable 19: region7. West South Central has no variation.”\n",
      "Warning message in (function (x, y, offset = NULL, misc = NULL, distribution = \"bernoulli\", :\n",
      "“variable 20: region8. Mountain has no variation.”\n",
      "Warning message in (function (x, y, offset = NULL, misc = NULL, distribution = \"bernoulli\", :\n",
      "“variable 21: region9. Pacific has no variation.”\n",
      "Warning message in (function (x, y, offset = NULL, misc = NULL, distribution = \"bernoulli\", :\n",
      "“variable 14: region2. Middle Atlantic has no variation.”\n",
      "Warning message in (function (x, y, offset = NULL, misc = NULL, distribution = \"bernoulli\", :\n",
      "“variable 15: region3. East North Central has no variation.”\n",
      "Warning message in (function (x, y, offset = NULL, misc = NULL, distribution = \"bernoulli\", :\n",
      "“variable 16: region4. West North Central has no variation.”\n",
      "Warning message in (function (x, y, offset = NULL, misc = NULL, distribution = \"bernoulli\", :\n",
      "“variable 17: region5. South Atlantic has no variation.”\n",
      "Warning message in (function (x, y, offset = NULL, misc = NULL, distribution = \"bernoulli\", :\n",
      "“variable 18: region6. East South Central has no variation.”\n",
      "Warning message in (function (x, y, offset = NULL, misc = NULL, distribution = \"bernoulli\", :\n",
      "“variable 19: region7. West South Central has no variation.”\n",
      "Warning message in (function (x, y, offset = NULL, misc = NULL, distribution = \"bernoulli\", :\n",
      "“variable 20: region8. Mountain has no variation.”\n",
      "Warning message in (function (x, y, offset = NULL, misc = NULL, distribution = \"bernoulli\", :\n",
      "“variable 21: region9. Pacific has no variation.”\n",
      "Warning message in (function (x, y, offset = NULL, misc = NULL, distribution = \"bernoulli\", :\n",
      "“variable 14: region2. Middle Atlantic has no variation.”\n",
      "Warning message in (function (x, y, offset = NULL, misc = NULL, distribution = \"bernoulli\", :\n",
      "“variable 15: region3. East North Central has no variation.”\n",
      "Warning message in (function (x, y, offset = NULL, misc = NULL, distribution = \"bernoulli\", :\n",
      "“variable 16: region4. West North Central has no variation.”\n",
      "Warning message in (function (x, y, offset = NULL, misc = NULL, distribution = \"bernoulli\", :\n",
      "“variable 17: region5. South Atlantic has no variation.”\n",
      "Warning message in (function (x, y, offset = NULL, misc = NULL, distribution = \"bernoulli\", :\n",
      "“variable 18: region6. East South Central has no variation.”\n",
      "Warning message in (function (x, y, offset = NULL, misc = NULL, distribution = \"bernoulli\", :\n",
      "“variable 19: region7. West South Central has no variation.”\n",
      "Warning message in (function (x, y, offset = NULL, misc = NULL, distribution = \"bernoulli\", :\n",
      "“variable 20: region8. Mountain has no variation.”\n",
      "Warning message in (function (x, y, offset = NULL, misc = NULL, distribution = \"bernoulli\", :\n",
      "“variable 21: region9. Pacific has no variation.”\n",
      "Warning message in (function (x, y, offset = NULL, misc = NULL, distribution = \"bernoulli\", :\n",
      "“variable 14: region2. Middle Atlantic has no variation.”\n",
      "Warning message in (function (x, y, offset = NULL, misc = NULL, distribution = \"bernoulli\", :\n",
      "“variable 15: region3. East North Central has no variation.”\n",
      "Warning message in (function (x, y, offset = NULL, misc = NULL, distribution = \"bernoulli\", :\n",
      "“variable 16: region4. West North Central has no variation.”\n",
      "Warning message in (function (x, y, offset = NULL, misc = NULL, distribution = \"bernoulli\", :\n",
      "“variable 17: region5. South Atlantic has no variation.”\n",
      "Warning message in (function (x, y, offset = NULL, misc = NULL, distribution = \"bernoulli\", :\n",
      "“variable 18: region6. East South Central has no variation.”\n",
      "Warning message in (function (x, y, offset = NULL, misc = NULL, distribution = \"bernoulli\", :\n",
      "“variable 19: region7. West South Central has no variation.”\n",
      "Warning message in (function (x, y, offset = NULL, misc = NULL, distribution = \"bernoulli\", :\n",
      "“variable 20: region8. Mountain has no variation.”\n",
      "Warning message in (function (x, y, offset = NULL, misc = NULL, distribution = \"bernoulli\", :\n",
      "“variable 21: region9. Pacific has no variation.”\n",
      "Warning message in (function (x, y, offset = NULL, misc = NULL, distribution = \"bernoulli\", :\n",
      "“variable 14: region2. Middle Atlantic has no variation.”\n",
      "Warning message in (function (x, y, offset = NULL, misc = NULL, distribution = \"bernoulli\", :\n",
      "“variable 15: region3. East North Central has no variation.”\n",
      "Warning message in (function (x, y, offset = NULL, misc = NULL, distribution = \"bernoulli\", :\n",
      "“variable 16: region4. West North Central has no variation.”\n",
      "Warning message in (function (x, y, offset = NULL, misc = NULL, distribution = \"bernoulli\", :\n",
      "“variable 17: region5. South Atlantic has no variation.”\n",
      "Warning message in (function (x, y, offset = NULL, misc = NULL, distribution = \"bernoulli\", :\n",
      "“variable 18: region6. East South Central has no variation.”\n",
      "Warning message in (function (x, y, offset = NULL, misc = NULL, distribution = \"bernoulli\", :\n",
      "“variable 19: region7. West South Central has no variation.”\n",
      "Warning message in (function (x, y, offset = NULL, misc = NULL, distribution = \"bernoulli\", :\n",
      "“variable 20: region8. Mountain has no variation.”\n",
      "Warning message in (function (x, y, offset = NULL, misc = NULL, distribution = \"bernoulli\", :\n",
      "“variable 21: region9. Pacific has no variation.”\n",
      "Warning message in (function (x, y, offset = NULL, misc = NULL, distribution = \"bernoulli\", :\n",
      "“variable 14: region2. Middle Atlantic has no variation.”\n",
      "Warning message in (function (x, y, offset = NULL, misc = NULL, distribution = \"bernoulli\", :\n",
      "“variable 15: region3. East North Central has no variation.”\n",
      "Warning message in (function (x, y, offset = NULL, misc = NULL, distribution = \"bernoulli\", :\n",
      "“variable 16: region4. West North Central has no variation.”\n",
      "Warning message in (function (x, y, offset = NULL, misc = NULL, distribution = \"bernoulli\", :\n",
      "“variable 17: region5. South Atlantic has no variation.”\n",
      "Warning message in (function (x, y, offset = NULL, misc = NULL, distribution = \"bernoulli\", :\n",
      "“variable 18: region6. East South Central has no variation.”\n",
      "Warning message in (function (x, y, offset = NULL, misc = NULL, distribution = \"bernoulli\", :\n",
      "“variable 19: region7. West South Central has no variation.”\n",
      "Warning message in (function (x, y, offset = NULL, misc = NULL, distribution = \"bernoulli\", :\n",
      "“variable 20: region8. Mountain has no variation.”\n",
      "Warning message in (function (x, y, offset = NULL, misc = NULL, distribution = \"bernoulli\", :\n",
      "“variable 21: region9. Pacific has no variation.”\n",
      "Warning message in (function (x, y, offset = NULL, misc = NULL, distribution = \"bernoulli\", :\n",
      "“variable 14: region2. Middle Atlantic has no variation.”\n",
      "Warning message in (function (x, y, offset = NULL, misc = NULL, distribution = \"bernoulli\", :\n",
      "“variable 15: region3. East North Central has no variation.”\n",
      "Warning message in (function (x, y, offset = NULL, misc = NULL, distribution = \"bernoulli\", :\n",
      "“variable 16: region4. West North Central has no variation.”\n",
      "Warning message in (function (x, y, offset = NULL, misc = NULL, distribution = \"bernoulli\", :\n",
      "“variable 17: region5. South Atlantic has no variation.”\n",
      "Warning message in (function (x, y, offset = NULL, misc = NULL, distribution = \"bernoulli\", :\n",
      "“variable 18: region6. East South Central has no variation.”\n",
      "Warning message in (function (x, y, offset = NULL, misc = NULL, distribution = \"bernoulli\", :\n",
      "“variable 19: region7. West South Central has no variation.”\n",
      "Warning message in (function (x, y, offset = NULL, misc = NULL, distribution = \"bernoulli\", :\n",
      "“variable 20: region8. Mountain has no variation.”\n",
      "Warning message in (function (x, y, offset = NULL, misc = NULL, distribution = \"bernoulli\", :\n",
      "“variable 21: region9. Pacific has no variation.”\n",
      "Warning message in (function (x, y, offset = NULL, misc = NULL, distribution = \"bernoulli\", :\n",
      "“variable 14: region2. Middle Atlantic has no variation.”\n",
      "Warning message in (function (x, y, offset = NULL, misc = NULL, distribution = \"bernoulli\", :\n",
      "“variable 15: region3. East North Central has no variation.”\n",
      "Warning message in (function (x, y, offset = NULL, misc = NULL, distribution = \"bernoulli\", :\n",
      "“variable 16: region4. West North Central has no variation.”\n",
      "Warning message in (function (x, y, offset = NULL, misc = NULL, distribution = \"bernoulli\", :\n",
      "“variable 17: region5. South Atlantic has no variation.”\n",
      "Warning message in (function (x, y, offset = NULL, misc = NULL, distribution = \"bernoulli\", :\n",
      "“variable 18: region6. East South Central has no variation.”\n",
      "Warning message in (function (x, y, offset = NULL, misc = NULL, distribution = \"bernoulli\", :\n",
      "“variable 19: region7. West South Central has no variation.”\n",
      "Warning message in (function (x, y, offset = NULL, misc = NULL, distribution = \"bernoulli\", :\n",
      "“variable 20: region8. Mountain has no variation.”\n",
      "Warning message in (function (x, y, offset = NULL, misc = NULL, distribution = \"bernoulli\", :\n",
      "“variable 21: region9. Pacific has no variation.”\n",
      "Warning message in (function (x, y, offset = NULL, misc = NULL, distribution = \"bernoulli\", :\n",
      "“variable 14: region2. Middle Atlantic has no variation.”\n",
      "Warning message in (function (x, y, offset = NULL, misc = NULL, distribution = \"bernoulli\", :\n",
      "“variable 15: region3. East North Central has no variation.”\n",
      "Warning message in (function (x, y, offset = NULL, misc = NULL, distribution = \"bernoulli\", :\n",
      "“variable 16: region4. West North Central has no variation.”\n",
      "Warning message in (function (x, y, offset = NULL, misc = NULL, distribution = \"bernoulli\", :\n",
      "“variable 17: region5. South Atlantic has no variation.”\n",
      "Warning message in (function (x, y, offset = NULL, misc = NULL, distribution = \"bernoulli\", :\n",
      "“variable 18: region6. East South Central has no variation.”\n",
      "Warning message in (function (x, y, offset = NULL, misc = NULL, distribution = \"bernoulli\", :\n",
      "“variable 19: region7. West South Central has no variation.”\n",
      "Warning message in (function (x, y, offset = NULL, misc = NULL, distribution = \"bernoulli\", :\n",
      "“variable 20: region8. Mountain has no variation.”\n",
      "Warning message in (function (x, y, offset = NULL, misc = NULL, distribution = \"bernoulli\", :\n",
      "“variable 21: region9. Pacific has no variation.”\n",
      "Warning message in (function (x, y, offset = NULL, misc = NULL, distribution = \"bernoulli\", :\n",
      "“variable 14: region2. Middle Atlantic has no variation.”\n",
      "Warning message in (function (x, y, offset = NULL, misc = NULL, distribution = \"bernoulli\", :\n",
      "“variable 15: region3. East North Central has no variation.”\n",
      "Warning message in (function (x, y, offset = NULL, misc = NULL, distribution = \"bernoulli\", :\n",
      "“variable 16: region4. West North Central has no variation.”\n",
      "Warning message in (function (x, y, offset = NULL, misc = NULL, distribution = \"bernoulli\", :\n",
      "“variable 17: region5. South Atlantic has no variation.”\n",
      "Warning message in (function (x, y, offset = NULL, misc = NULL, distribution = \"bernoulli\", :\n",
      "“variable 18: region6. East South Central has no variation.”\n",
      "Warning message in (function (x, y, offset = NULL, misc = NULL, distribution = \"bernoulli\", :\n",
      "“variable 19: region7. West South Central has no variation.”\n",
      "Warning message in (function (x, y, offset = NULL, misc = NULL, distribution = \"bernoulli\", :\n",
      "“variable 20: region8. Mountain has no variation.”\n",
      "Warning message in (function (x, y, offset = NULL, misc = NULL, distribution = \"bernoulli\", :\n",
      "“variable 21: region9. Pacific has no variation.”\n",
      "Warning message in (function (x, y, offset = NULL, misc = NULL, distribution = \"bernoulli\", :\n",
      "“variable 14: region2. Middle Atlantic has no variation.”\n",
      "Warning message in (function (x, y, offset = NULL, misc = NULL, distribution = \"bernoulli\", :\n",
      "“variable 15: region3. East North Central has no variation.”\n",
      "Warning message in (function (x, y, offset = NULL, misc = NULL, distribution = \"bernoulli\", :\n",
      "“variable 16: region4. West North Central has no variation.”\n",
      "Warning message in (function (x, y, offset = NULL, misc = NULL, distribution = \"bernoulli\", :\n",
      "“variable 17: region5. South Atlantic has no variation.”\n",
      "Warning message in (function (x, y, offset = NULL, misc = NULL, distribution = \"bernoulli\", :\n",
      "“variable 18: region6. East South Central has no variation.”\n",
      "Warning message in (function (x, y, offset = NULL, misc = NULL, distribution = \"bernoulli\", :\n",
      "“variable 19: region7. West South Central has no variation.”\n",
      "Warning message in (function (x, y, offset = NULL, misc = NULL, distribution = \"bernoulli\", :\n",
      "“variable 20: region8. Mountain has no variation.”\n",
      "Warning message in (function (x, y, offset = NULL, misc = NULL, distribution = \"bernoulli\", :\n",
      "“variable 21: region9. Pacific has no variation.”\n",
      "Warning message in (function (x, y, offset = NULL, misc = NULL, distribution = \"bernoulli\", :\n",
      "“variable 14: region2. Middle Atlantic has no variation.”\n",
      "Warning message in (function (x, y, offset = NULL, misc = NULL, distribution = \"bernoulli\", :\n",
      "“variable 15: region3. East North Central has no variation.”\n",
      "Warning message in (function (x, y, offset = NULL, misc = NULL, distribution = \"bernoulli\", :\n",
      "“variable 16: region4. West North Central has no variation.”\n",
      "Warning message in (function (x, y, offset = NULL, misc = NULL, distribution = \"bernoulli\", :\n",
      "“variable 17: region5. South Atlantic has no variation.”\n",
      "Warning message in (function (x, y, offset = NULL, misc = NULL, distribution = \"bernoulli\", :\n",
      "“variable 18: region6. East South Central has no variation.”\n",
      "Warning message in (function (x, y, offset = NULL, misc = NULL, distribution = \"bernoulli\", :\n",
      "“variable 19: region7. West South Central has no variation.”\n",
      "Warning message in (function (x, y, offset = NULL, misc = NULL, distribution = \"bernoulli\", :\n",
      "“variable 20: region8. Mountain has no variation.”\n",
      "Warning message in (function (x, y, offset = NULL, misc = NULL, distribution = \"bernoulli\", :\n",
      "“variable 21: region9. Pacific has no variation.”\n",
      "Warning message in (function (x, y, offset = NULL, misc = NULL, distribution = \"bernoulli\", :\n",
      "“variable 14: region2. Middle Atlantic has no variation.”\n",
      "Warning message in (function (x, y, offset = NULL, misc = NULL, distribution = \"bernoulli\", :\n",
      "“variable 15: region3. East North Central has no variation.”\n",
      "Warning message in (function (x, y, offset = NULL, misc = NULL, distribution = \"bernoulli\", :\n",
      "“variable 16: region4. West North Central has no variation.”\n",
      "Warning message in (function (x, y, offset = NULL, misc = NULL, distribution = \"bernoulli\", :\n",
      "“variable 17: region5. South Atlantic has no variation.”\n",
      "Warning message in (function (x, y, offset = NULL, misc = NULL, distribution = \"bernoulli\", :\n",
      "“variable 18: region6. East South Central has no variation.”\n",
      "Warning message in (function (x, y, offset = NULL, misc = NULL, distribution = \"bernoulli\", :\n",
      "“variable 19: region7. West South Central has no variation.”\n",
      "Warning message in (function (x, y, offset = NULL, misc = NULL, distribution = \"bernoulli\", :\n",
      "“variable 20: region8. Mountain has no variation.”\n",
      "Warning message in (function (x, y, offset = NULL, misc = NULL, distribution = \"bernoulli\", :\n",
      "“variable 21: region9. Pacific has no variation.”\n",
      "Warning message in (function (x, y, offset = NULL, misc = NULL, distribution = \"bernoulli\", :\n",
      "“variable 14: region2. Middle Atlantic has no variation.”\n",
      "Warning message in (function (x, y, offset = NULL, misc = NULL, distribution = \"bernoulli\", :\n",
      "“variable 15: region3. East North Central has no variation.”\n",
      "Warning message in (function (x, y, offset = NULL, misc = NULL, distribution = \"bernoulli\", :\n",
      "“variable 16: region4. West North Central has no variation.”\n",
      "Warning message in (function (x, y, offset = NULL, misc = NULL, distribution = \"bernoulli\", :\n",
      "“variable 17: region5. South Atlantic has no variation.”\n",
      "Warning message in (function (x, y, offset = NULL, misc = NULL, distribution = \"bernoulli\", :\n",
      "“variable 18: region6. East South Central has no variation.”\n",
      "Warning message in (function (x, y, offset = NULL, misc = NULL, distribution = \"bernoulli\", :\n",
      "“variable 19: region7. West South Central has no variation.”\n",
      "Warning message in (function (x, y, offset = NULL, misc = NULL, distribution = \"bernoulli\", :\n",
      "“variable 20: region8. Mountain has no variation.”\n",
      "Warning message in (function (x, y, offset = NULL, misc = NULL, distribution = \"bernoulli\", :\n",
      "“variable 21: region9. Pacific has no variation.”\n",
      "Warning message in (function (x, y, offset = NULL, misc = NULL, distribution = \"bernoulli\", :\n",
      "“variable 14: region2. Middle Atlantic has no variation.”\n",
      "Warning message in (function (x, y, offset = NULL, misc = NULL, distribution = \"bernoulli\", :\n",
      "“variable 15: region3. East North Central has no variation.”\n",
      "Warning message in (function (x, y, offset = NULL, misc = NULL, distribution = \"bernoulli\", :\n",
      "“variable 16: region4. West North Central has no variation.”\n",
      "Warning message in (function (x, y, offset = NULL, misc = NULL, distribution = \"bernoulli\", :\n",
      "“variable 17: region5. South Atlantic has no variation.”\n",
      "Warning message in (function (x, y, offset = NULL, misc = NULL, distribution = \"bernoulli\", :\n",
      "“variable 18: region6. East South Central has no variation.”\n",
      "Warning message in (function (x, y, offset = NULL, misc = NULL, distribution = \"bernoulli\", :\n",
      "“variable 19: region7. West South Central has no variation.”\n",
      "Warning message in (function (x, y, offset = NULL, misc = NULL, distribution = \"bernoulli\", :\n",
      "“variable 20: region8. Mountain has no variation.”\n",
      "Warning message in (function (x, y, offset = NULL, misc = NULL, distribution = \"bernoulli\", :\n",
      "“variable 21: region9. Pacific has no variation.”\n",
      "Warning message in (function (x, y, offset = NULL, misc = NULL, distribution = \"bernoulli\", :\n",
      "“variable 14: region2. Middle Atlantic has no variation.”\n",
      "Warning message in (function (x, y, offset = NULL, misc = NULL, distribution = \"bernoulli\", :\n",
      "“variable 15: region3. East North Central has no variation.”\n",
      "Warning message in (function (x, y, offset = NULL, misc = NULL, distribution = \"bernoulli\", :\n",
      "“variable 16: region4. West North Central has no variation.”\n",
      "Warning message in (function (x, y, offset = NULL, misc = NULL, distribution = \"bernoulli\", :\n",
      "“variable 17: region5. South Atlantic has no variation.”\n",
      "Warning message in (function (x, y, offset = NULL, misc = NULL, distribution = \"bernoulli\", :\n",
      "“variable 18: region6. East South Central has no variation.”\n",
      "Warning message in (function (x, y, offset = NULL, misc = NULL, distribution = \"bernoulli\", :\n",
      "“variable 19: region7. West South Central has no variation.”\n",
      "Warning message in (function (x, y, offset = NULL, misc = NULL, distribution = \"bernoulli\", :\n",
      "“variable 20: region8. Mountain has no variation.”\n",
      "Warning message in (function (x, y, offset = NULL, misc = NULL, distribution = \"bernoulli\", :\n",
      "“variable 21: region9. Pacific has no variation.”\n",
      "Warning message in (function (x, y, offset = NULL, misc = NULL, distribution = \"bernoulli\", :\n",
      "“variable 14: region2. Middle Atlantic has no variation.”\n",
      "Warning message in (function (x, y, offset = NULL, misc = NULL, distribution = \"bernoulli\", :\n",
      "“variable 15: region3. East North Central has no variation.”\n",
      "Warning message in (function (x, y, offset = NULL, misc = NULL, distribution = \"bernoulli\", :\n",
      "“variable 16: region4. West North Central has no variation.”\n",
      "Warning message in (function (x, y, offset = NULL, misc = NULL, distribution = \"bernoulli\", :\n",
      "“variable 17: region5. South Atlantic has no variation.”\n",
      "Warning message in (function (x, y, offset = NULL, misc = NULL, distribution = \"bernoulli\", :\n",
      "“variable 18: region6. East South Central has no variation.”\n",
      "Warning message in (function (x, y, offset = NULL, misc = NULL, distribution = \"bernoulli\", :\n",
      "“variable 19: region7. West South Central has no variation.”\n",
      "Warning message in (function (x, y, offset = NULL, misc = NULL, distribution = \"bernoulli\", :\n",
      "“variable 20: region8. Mountain has no variation.”\n",
      "Warning message in (function (x, y, offset = NULL, misc = NULL, distribution = \"bernoulli\", :\n",
      "“variable 21: region9. Pacific has no variation.”\n",
      "Warning message in (function (x, y, offset = NULL, misc = NULL, distribution = \"bernoulli\", :\n",
      "“variable 14: region2. Middle Atlantic has no variation.”\n",
      "Warning message in (function (x, y, offset = NULL, misc = NULL, distribution = \"bernoulli\", :\n",
      "“variable 15: region3. East North Central has no variation.”\n",
      "Warning message in (function (x, y, offset = NULL, misc = NULL, distribution = \"bernoulli\", :\n",
      "“variable 16: region4. West North Central has no variation.”\n",
      "Warning message in (function (x, y, offset = NULL, misc = NULL, distribution = \"bernoulli\", :\n",
      "“variable 17: region5. South Atlantic has no variation.”\n",
      "Warning message in (function (x, y, offset = NULL, misc = NULL, distribution = \"bernoulli\", :\n",
      "“variable 18: region6. East South Central has no variation.”\n",
      "Warning message in (function (x, y, offset = NULL, misc = NULL, distribution = \"bernoulli\", :\n",
      "“variable 19: region7. West South Central has no variation.”\n",
      "Warning message in (function (x, y, offset = NULL, misc = NULL, distribution = \"bernoulli\", :\n",
      "“variable 20: region8. Mountain has no variation.”\n",
      "Warning message in (function (x, y, offset = NULL, misc = NULL, distribution = \"bernoulli\", :\n",
      "“variable 21: region9. Pacific has no variation.”\n",
      "Warning message in (function (x, y, offset = NULL, misc = NULL, distribution = \"bernoulli\", :\n",
      "“variable 14: region2. Middle Atlantic has no variation.”\n",
      "Warning message in (function (x, y, offset = NULL, misc = NULL, distribution = \"bernoulli\", :\n",
      "“variable 15: region3. East North Central has no variation.”\n",
      "Warning message in (function (x, y, offset = NULL, misc = NULL, distribution = \"bernoulli\", :\n",
      "“variable 16: region4. West North Central has no variation.”\n",
      "Warning message in (function (x, y, offset = NULL, misc = NULL, distribution = \"bernoulli\", :\n",
      "“variable 17: region5. South Atlantic has no variation.”\n",
      "Warning message in (function (x, y, offset = NULL, misc = NULL, distribution = \"bernoulli\", :\n",
      "“variable 18: region6. East South Central has no variation.”\n",
      "Warning message in (function (x, y, offset = NULL, misc = NULL, distribution = \"bernoulli\", :\n",
      "“variable 19: region7. West South Central has no variation.”\n",
      "Warning message in (function (x, y, offset = NULL, misc = NULL, distribution = \"bernoulli\", :\n",
      "“variable 20: region8. Mountain has no variation.”\n",
      "Warning message in (function (x, y, offset = NULL, misc = NULL, distribution = \"bernoulli\", :\n",
      "“variable 21: region9. Pacific has no variation.”\n",
      "Warning message in (function (x, y, offset = NULL, misc = NULL, distribution = \"bernoulli\", :\n",
      "“variable 14: region2. Middle Atlantic has no variation.”\n",
      "Warning message in (function (x, y, offset = NULL, misc = NULL, distribution = \"bernoulli\", :\n",
      "“variable 15: region3. East North Central has no variation.”\n",
      "Warning message in (function (x, y, offset = NULL, misc = NULL, distribution = \"bernoulli\", :\n",
      "“variable 16: region4. West North Central has no variation.”\n",
      "Warning message in (function (x, y, offset = NULL, misc = NULL, distribution = \"bernoulli\", :\n",
      "“variable 17: region5. South Atlantic has no variation.”\n",
      "Warning message in (function (x, y, offset = NULL, misc = NULL, distribution = \"bernoulli\", :\n",
      "“variable 18: region6. East South Central has no variation.”\n",
      "Warning message in (function (x, y, offset = NULL, misc = NULL, distribution = \"bernoulli\", :\n",
      "“variable 19: region7. West South Central has no variation.”\n",
      "Warning message in (function (x, y, offset = NULL, misc = NULL, distribution = \"bernoulli\", :\n",
      "“variable 20: region8. Mountain has no variation.”\n",
      "Warning message in (function (x, y, offset = NULL, misc = NULL, distribution = \"bernoulli\", :\n",
      "“variable 21: region9. Pacific has no variation.”\n",
      "Warning message in (function (x, y, offset = NULL, misc = NULL, distribution = \"bernoulli\", :\n",
      "“variable 14: region2. Middle Atlantic has no variation.”\n",
      "Warning message in (function (x, y, offset = NULL, misc = NULL, distribution = \"bernoulli\", :\n",
      "“variable 15: region3. East North Central has no variation.”\n",
      "Warning message in (function (x, y, offset = NULL, misc = NULL, distribution = \"bernoulli\", :\n",
      "“variable 16: region4. West North Central has no variation.”\n",
      "Warning message in (function (x, y, offset = NULL, misc = NULL, distribution = \"bernoulli\", :\n",
      "“variable 17: region5. South Atlantic has no variation.”\n",
      "Warning message in (function (x, y, offset = NULL, misc = NULL, distribution = \"bernoulli\", :\n",
      "“variable 18: region6. East South Central has no variation.”\n",
      "Warning message in (function (x, y, offset = NULL, misc = NULL, distribution = \"bernoulli\", :\n",
      "“variable 19: region7. West South Central has no variation.”\n",
      "Warning message in (function (x, y, offset = NULL, misc = NULL, distribution = \"bernoulli\", :\n",
      "“variable 20: region8. Mountain has no variation.”\n",
      "Warning message in (function (x, y, offset = NULL, misc = NULL, distribution = \"bernoulli\", :\n",
      "“variable 21: region9. Pacific has no variation.”\n",
      "Warning message in (function (x, y, offset = NULL, misc = NULL, distribution = \"bernoulli\", :\n",
      "“variable 14: region2. Middle Atlantic has no variation.”\n",
      "Warning message in (function (x, y, offset = NULL, misc = NULL, distribution = \"bernoulli\", :\n",
      "“variable 15: region3. East North Central has no variation.”\n",
      "Warning message in (function (x, y, offset = NULL, misc = NULL, distribution = \"bernoulli\", :\n",
      "“variable 16: region4. West North Central has no variation.”\n",
      "Warning message in (function (x, y, offset = NULL, misc = NULL, distribution = \"bernoulli\", :\n",
      "“variable 17: region5. South Atlantic has no variation.”\n",
      "Warning message in (function (x, y, offset = NULL, misc = NULL, distribution = \"bernoulli\", :\n",
      "“variable 18: region6. East South Central has no variation.”\n",
      "Warning message in (function (x, y, offset = NULL, misc = NULL, distribution = \"bernoulli\", :\n",
      "“variable 19: region7. West South Central has no variation.”\n",
      "Warning message in (function (x, y, offset = NULL, misc = NULL, distribution = \"bernoulli\", :\n",
      "“variable 20: region8. Mountain has no variation.”\n",
      "Warning message in (function (x, y, offset = NULL, misc = NULL, distribution = \"bernoulli\", :\n",
      "“variable 21: region9. Pacific has no variation.”\n",
      "Warning message in (function (x, y, offset = NULL, misc = NULL, distribution = \"bernoulli\", :\n",
      "“variable 14: region2. Middle Atlantic has no variation.”\n",
      "Warning message in (function (x, y, offset = NULL, misc = NULL, distribution = \"bernoulli\", :\n",
      "“variable 15: region3. East North Central has no variation.”\n",
      "Warning message in (function (x, y, offset = NULL, misc = NULL, distribution = \"bernoulli\", :\n",
      "“variable 16: region4. West North Central has no variation.”\n",
      "Warning message in (function (x, y, offset = NULL, misc = NULL, distribution = \"bernoulli\", :\n",
      "“variable 17: region5. South Atlantic has no variation.”\n",
      "Warning message in (function (x, y, offset = NULL, misc = NULL, distribution = \"bernoulli\", :\n",
      "“variable 18: region6. East South Central has no variation.”\n",
      "Warning message in (function (x, y, offset = NULL, misc = NULL, distribution = \"bernoulli\", :\n",
      "“variable 19: region7. West South Central has no variation.”\n",
      "Warning message in (function (x, y, offset = NULL, misc = NULL, distribution = \"bernoulli\", :\n",
      "“variable 20: region8. Mountain has no variation.”\n",
      "Warning message in (function (x, y, offset = NULL, misc = NULL, distribution = \"bernoulli\", :\n",
      "“variable 21: region9. Pacific has no variation.”\n",
      "Warning message in (function (x, y, offset = NULL, misc = NULL, distribution = \"bernoulli\", :\n",
      "“variable 14: region2. Middle Atlantic has no variation.”\n",
      "Warning message in (function (x, y, offset = NULL, misc = NULL, distribution = \"bernoulli\", :\n",
      "“variable 15: region3. East North Central has no variation.”\n",
      "Warning message in (function (x, y, offset = NULL, misc = NULL, distribution = \"bernoulli\", :\n",
      "“variable 16: region4. West North Central has no variation.”\n",
      "Warning message in (function (x, y, offset = NULL, misc = NULL, distribution = \"bernoulli\", :\n",
      "“variable 17: region5. South Atlantic has no variation.”\n",
      "Warning message in (function (x, y, offset = NULL, misc = NULL, distribution = \"bernoulli\", :\n",
      "“variable 18: region6. East South Central has no variation.”\n",
      "Warning message in (function (x, y, offset = NULL, misc = NULL, distribution = \"bernoulli\", :\n",
      "“variable 19: region7. West South Central has no variation.”\n",
      "Warning message in (function (x, y, offset = NULL, misc = NULL, distribution = \"bernoulli\", :\n",
      "“variable 20: region8. Mountain has no variation.”\n",
      "Warning message in (function (x, y, offset = NULL, misc = NULL, distribution = \"bernoulli\", :\n",
      "“variable 21: region9. Pacific has no variation.”\n",
      "Warning message in (function (x, y, offset = NULL, misc = NULL, distribution = \"bernoulli\", :\n",
      "“variable 14: region2. Middle Atlantic has no variation.”\n",
      "Warning message in (function (x, y, offset = NULL, misc = NULL, distribution = \"bernoulli\", :\n",
      "“variable 15: region3. East North Central has no variation.”\n",
      "Warning message in (function (x, y, offset = NULL, misc = NULL, distribution = \"bernoulli\", :\n",
      "“variable 16: region4. West North Central has no variation.”\n",
      "Warning message in (function (x, y, offset = NULL, misc = NULL, distribution = \"bernoulli\", :\n",
      "“variable 17: region5. South Atlantic has no variation.”\n",
      "Warning message in (function (x, y, offset = NULL, misc = NULL, distribution = \"bernoulli\", :\n",
      "“variable 18: region6. East South Central has no variation.”\n",
      "Warning message in (function (x, y, offset = NULL, misc = NULL, distribution = \"bernoulli\", :\n",
      "“variable 19: region7. West South Central has no variation.”\n",
      "Warning message in (function (x, y, offset = NULL, misc = NULL, distribution = \"bernoulli\", :\n",
      "“variable 20: region8. Mountain has no variation.”\n",
      "Warning message in (function (x, y, offset = NULL, misc = NULL, distribution = \"bernoulli\", :\n",
      "“variable 21: region9. Pacific has no variation.”\n",
      "Warning message in (function (x, y, offset = NULL, misc = NULL, distribution = \"bernoulli\", :\n",
      "“variable 14: region2. Middle Atlantic has no variation.”\n",
      "Warning message in (function (x, y, offset = NULL, misc = NULL, distribution = \"bernoulli\", :\n",
      "“variable 15: region3. East North Central has no variation.”\n",
      "Warning message in (function (x, y, offset = NULL, misc = NULL, distribution = \"bernoulli\", :\n",
      "“variable 16: region4. West North Central has no variation.”\n",
      "Warning message in (function (x, y, offset = NULL, misc = NULL, distribution = \"bernoulli\", :\n",
      "“variable 17: region5. South Atlantic has no variation.”\n",
      "Warning message in (function (x, y, offset = NULL, misc = NULL, distribution = \"bernoulli\", :\n",
      "“variable 18: region6. East South Central has no variation.”\n",
      "Warning message in (function (x, y, offset = NULL, misc = NULL, distribution = \"bernoulli\", :\n",
      "“variable 19: region7. West South Central has no variation.”\n",
      "Warning message in (function (x, y, offset = NULL, misc = NULL, distribution = \"bernoulli\", :\n",
      "“variable 20: region8. Mountain has no variation.”\n",
      "Warning message in (function (x, y, offset = NULL, misc = NULL, distribution = \"bernoulli\", :\n",
      "“variable 21: region9. Pacific has no variation.”\n",
      "Warning message in (function (x, y, offset = NULL, misc = NULL, distribution = \"bernoulli\", :\n",
      "“variable 14: region2. Middle Atlantic has no variation.”\n",
      "Warning message in (function (x, y, offset = NULL, misc = NULL, distribution = \"bernoulli\", :\n",
      "“variable 15: region3. East North Central has no variation.”\n",
      "Warning message in (function (x, y, offset = NULL, misc = NULL, distribution = \"bernoulli\", :\n",
      "“variable 16: region4. West North Central has no variation.”\n",
      "Warning message in (function (x, y, offset = NULL, misc = NULL, distribution = \"bernoulli\", :\n",
      "“variable 17: region5. South Atlantic has no variation.”\n",
      "Warning message in (function (x, y, offset = NULL, misc = NULL, distribution = \"bernoulli\", :\n",
      "“variable 18: region6. East South Central has no variation.”\n",
      "Warning message in (function (x, y, offset = NULL, misc = NULL, distribution = \"bernoulli\", :\n",
      "“variable 19: region7. West South Central has no variation.”\n",
      "Warning message in (function (x, y, offset = NULL, misc = NULL, distribution = \"bernoulli\", :\n",
      "“variable 20: region8. Mountain has no variation.”\n",
      "Warning message in (function (x, y, offset = NULL, misc = NULL, distribution = \"bernoulli\", :\n",
      "“variable 21: region9. Pacific has no variation.”\n",
      "Warning message in (function (x, y, offset = NULL, misc = NULL, distribution = \"bernoulli\", :\n",
      "“variable 14: region2. Middle Atlantic has no variation.”\n",
      "Warning message in (function (x, y, offset = NULL, misc = NULL, distribution = \"bernoulli\", :\n",
      "“variable 15: region3. East North Central has no variation.”\n",
      "Warning message in (function (x, y, offset = NULL, misc = NULL, distribution = \"bernoulli\", :\n",
      "“variable 16: region4. West North Central has no variation.”\n",
      "Warning message in (function (x, y, offset = NULL, misc = NULL, distribution = \"bernoulli\", :\n",
      "“variable 17: region5. South Atlantic has no variation.”\n",
      "Warning message in (function (x, y, offset = NULL, misc = NULL, distribution = \"bernoulli\", :\n",
      "“variable 18: region6. East South Central has no variation.”\n",
      "Warning message in (function (x, y, offset = NULL, misc = NULL, distribution = \"bernoulli\", :\n",
      "“variable 19: region7. West South Central has no variation.”\n",
      "Warning message in (function (x, y, offset = NULL, misc = NULL, distribution = \"bernoulli\", :\n",
      "“variable 20: region8. Mountain has no variation.”\n",
      "Warning message in (function (x, y, offset = NULL, misc = NULL, distribution = \"bernoulli\", :\n",
      "“variable 21: region9. Pacific has no variation.”\n",
      "Warning message in (function (x, y, offset = NULL, misc = NULL, distribution = \"bernoulli\", :\n",
      "“variable 14: region2. Middle Atlantic has no variation.”\n",
      "Warning message in (function (x, y, offset = NULL, misc = NULL, distribution = \"bernoulli\", :\n",
      "“variable 15: region3. East North Central has no variation.”\n",
      "Warning message in (function (x, y, offset = NULL, misc = NULL, distribution = \"bernoulli\", :\n",
      "“variable 16: region4. West North Central has no variation.”\n",
      "Warning message in (function (x, y, offset = NULL, misc = NULL, distribution = \"bernoulli\", :\n",
      "“variable 17: region5. South Atlantic has no variation.”\n",
      "Warning message in (function (x, y, offset = NULL, misc = NULL, distribution = \"bernoulli\", :\n",
      "“variable 18: region6. East South Central has no variation.”\n",
      "Warning message in (function (x, y, offset = NULL, misc = NULL, distribution = \"bernoulli\", :\n",
      "“variable 19: region7. West South Central has no variation.”\n",
      "Warning message in (function (x, y, offset = NULL, misc = NULL, distribution = \"bernoulli\", :\n",
      "“variable 20: region8. Mountain has no variation.”\n",
      "Warning message in (function (x, y, offset = NULL, misc = NULL, distribution = \"bernoulli\", :\n",
      "“variable 21: region9. Pacific has no variation.”\n",
      "Warning message in (function (x, y, offset = NULL, misc = NULL, distribution = \"bernoulli\", :\n",
      "“variable 14: region2. Middle Atlantic has no variation.”\n",
      "Warning message in (function (x, y, offset = NULL, misc = NULL, distribution = \"bernoulli\", :\n",
      "“variable 15: region3. East North Central has no variation.”\n",
      "Warning message in (function (x, y, offset = NULL, misc = NULL, distribution = \"bernoulli\", :\n",
      "“variable 16: region4. West North Central has no variation.”\n",
      "Warning message in (function (x, y, offset = NULL, misc = NULL, distribution = \"bernoulli\", :\n",
      "“variable 17: region5. South Atlantic has no variation.”\n",
      "Warning message in (function (x, y, offset = NULL, misc = NULL, distribution = \"bernoulli\", :\n",
      "“variable 18: region6. East South Central has no variation.”\n",
      "Warning message in (function (x, y, offset = NULL, misc = NULL, distribution = \"bernoulli\", :\n",
      "“variable 19: region7. West South Central has no variation.”\n",
      "Warning message in (function (x, y, offset = NULL, misc = NULL, distribution = \"bernoulli\", :\n",
      "“variable 20: region8. Mountain has no variation.”\n",
      "Warning message in (function (x, y, offset = NULL, misc = NULL, distribution = \"bernoulli\", :\n",
      "“variable 21: region9. Pacific has no variation.”\n",
      "Warning message in (function (x, y, offset = NULL, misc = NULL, distribution = \"bernoulli\", :\n",
      "“variable 14: region2. Middle Atlantic has no variation.”\n",
      "Warning message in (function (x, y, offset = NULL, misc = NULL, distribution = \"bernoulli\", :\n",
      "“variable 15: region3. East North Central has no variation.”\n",
      "Warning message in (function (x, y, offset = NULL, misc = NULL, distribution = \"bernoulli\", :\n",
      "“variable 16: region4. West North Central has no variation.”\n",
      "Warning message in (function (x, y, offset = NULL, misc = NULL, distribution = \"bernoulli\", :\n",
      "“variable 17: region5. South Atlantic has no variation.”\n",
      "Warning message in (function (x, y, offset = NULL, misc = NULL, distribution = \"bernoulli\", :\n",
      "“variable 18: region6. East South Central has no variation.”\n",
      "Warning message in (function (x, y, offset = NULL, misc = NULL, distribution = \"bernoulli\", :\n",
      "“variable 19: region7. West South Central has no variation.”\n",
      "Warning message in (function (x, y, offset = NULL, misc = NULL, distribution = \"bernoulli\", :\n",
      "“variable 20: region8. Mountain has no variation.”\n",
      "Warning message in (function (x, y, offset = NULL, misc = NULL, distribution = \"bernoulli\", :\n",
      "“variable 21: region9. Pacific has no variation.”\n",
      "Warning message in (function (x, y, offset = NULL, misc = NULL, distribution = \"bernoulli\", :\n",
      "“variable 14: region2. Middle Atlantic has no variation.”\n",
      "Warning message in (function (x, y, offset = NULL, misc = NULL, distribution = \"bernoulli\", :\n",
      "“variable 15: region3. East North Central has no variation.”\n",
      "Warning message in (function (x, y, offset = NULL, misc = NULL, distribution = \"bernoulli\", :\n",
      "“variable 16: region4. West North Central has no variation.”\n",
      "Warning message in (function (x, y, offset = NULL, misc = NULL, distribution = \"bernoulli\", :\n",
      "“variable 17: region5. South Atlantic has no variation.”\n",
      "Warning message in (function (x, y, offset = NULL, misc = NULL, distribution = \"bernoulli\", :\n",
      "“variable 18: region6. East South Central has no variation.”\n",
      "Warning message in (function (x, y, offset = NULL, misc = NULL, distribution = \"bernoulli\", :\n",
      "“variable 19: region7. West South Central has no variation.”\n",
      "Warning message in (function (x, y, offset = NULL, misc = NULL, distribution = \"bernoulli\", :\n",
      "“variable 20: region8. Mountain has no variation.”\n",
      "Warning message in (function (x, y, offset = NULL, misc = NULL, distribution = \"bernoulli\", :\n",
      "“variable 21: region9. Pacific has no variation.”\n",
      "Warning message in (function (x, y, offset = NULL, misc = NULL, distribution = \"bernoulli\", :\n",
      "“variable 14: region2. Middle Atlantic has no variation.”\n",
      "Warning message in (function (x, y, offset = NULL, misc = NULL, distribution = \"bernoulli\", :\n",
      "“variable 15: region3. East North Central has no variation.”\n",
      "Warning message in (function (x, y, offset = NULL, misc = NULL, distribution = \"bernoulli\", :\n",
      "“variable 16: region4. West North Central has no variation.”\n",
      "Warning message in (function (x, y, offset = NULL, misc = NULL, distribution = \"bernoulli\", :\n",
      "“variable 17: region5. South Atlantic has no variation.”\n",
      "Warning message in (function (x, y, offset = NULL, misc = NULL, distribution = \"bernoulli\", :\n",
      "“variable 18: region6. East South Central has no variation.”\n",
      "Warning message in (function (x, y, offset = NULL, misc = NULL, distribution = \"bernoulli\", :\n",
      "“variable 19: region7. West South Central has no variation.”\n",
      "Warning message in (function (x, y, offset = NULL, misc = NULL, distribution = \"bernoulli\", :\n",
      "“variable 20: region8. Mountain has no variation.”\n",
      "Warning message in (function (x, y, offset = NULL, misc = NULL, distribution = \"bernoulli\", :\n",
      "“variable 21: region9. Pacific has no variation.”\n",
      "Warning message in (function (x, y, offset = NULL, misc = NULL, distribution = \"bernoulli\", :\n",
      "“variable 14: region2. Middle Atlantic has no variation.”\n",
      "Warning message in (function (x, y, offset = NULL, misc = NULL, distribution = \"bernoulli\", :\n",
      "“variable 15: region3. East North Central has no variation.”\n",
      "Warning message in (function (x, y, offset = NULL, misc = NULL, distribution = \"bernoulli\", :\n",
      "“variable 16: region4. West North Central has no variation.”\n",
      "Warning message in (function (x, y, offset = NULL, misc = NULL, distribution = \"bernoulli\", :\n",
      "“variable 17: region5. South Atlantic has no variation.”\n",
      "Warning message in (function (x, y, offset = NULL, misc = NULL, distribution = \"bernoulli\", :\n",
      "“variable 18: region6. East South Central has no variation.”\n",
      "Warning message in (function (x, y, offset = NULL, misc = NULL, distribution = \"bernoulli\", :\n",
      "“variable 19: region7. West South Central has no variation.”\n",
      "Warning message in (function (x, y, offset = NULL, misc = NULL, distribution = \"bernoulli\", :\n",
      "“variable 20: region8. Mountain has no variation.”\n",
      "Warning message in (function (x, y, offset = NULL, misc = NULL, distribution = \"bernoulli\", :\n",
      "“variable 21: region9. Pacific has no variation.”\n",
      "Warning message in (function (x, y, offset = NULL, misc = NULL, distribution = \"bernoulli\", :\n",
      "“variable 14: region2. Middle Atlantic has no variation.”\n",
      "Warning message in (function (x, y, offset = NULL, misc = NULL, distribution = \"bernoulli\", :\n",
      "“variable 15: region3. East North Central has no variation.”\n",
      "Warning message in (function (x, y, offset = NULL, misc = NULL, distribution = \"bernoulli\", :\n",
      "“variable 16: region4. West North Central has no variation.”\n",
      "Warning message in (function (x, y, offset = NULL, misc = NULL, distribution = \"bernoulli\", :\n",
      "“variable 17: region5. South Atlantic has no variation.”\n",
      "Warning message in (function (x, y, offset = NULL, misc = NULL, distribution = \"bernoulli\", :\n",
      "“variable 18: region6. East South Central has no variation.”\n",
      "Warning message in (function (x, y, offset = NULL, misc = NULL, distribution = \"bernoulli\", :\n",
      "“variable 19: region7. West South Central has no variation.”\n",
      "Warning message in (function (x, y, offset = NULL, misc = NULL, distribution = \"bernoulli\", :\n",
      "“variable 20: region8. Mountain has no variation.”\n",
      "Warning message in (function (x, y, offset = NULL, misc = NULL, distribution = \"bernoulli\", :\n",
      "“variable 21: region9. Pacific has no variation.”\n",
      "Warning message in (function (x, y, offset = NULL, misc = NULL, distribution = \"bernoulli\", :\n",
      "“variable 14: region2. Middle Atlantic has no variation.”\n",
      "Warning message in (function (x, y, offset = NULL, misc = NULL, distribution = \"bernoulli\", :\n",
      "“variable 15: region3. East North Central has no variation.”\n",
      "Warning message in (function (x, y, offset = NULL, misc = NULL, distribution = \"bernoulli\", :\n",
      "“variable 16: region4. West North Central has no variation.”\n",
      "Warning message in (function (x, y, offset = NULL, misc = NULL, distribution = \"bernoulli\", :\n",
      "“variable 17: region5. South Atlantic has no variation.”\n",
      "Warning message in (function (x, y, offset = NULL, misc = NULL, distribution = \"bernoulli\", :\n",
      "“variable 18: region6. East South Central has no variation.”\n",
      "Warning message in (function (x, y, offset = NULL, misc = NULL, distribution = \"bernoulli\", :\n",
      "“variable 19: region7. West South Central has no variation.”\n",
      "Warning message in (function (x, y, offset = NULL, misc = NULL, distribution = \"bernoulli\", :\n",
      "“variable 20: region8. Mountain has no variation.”\n",
      "Warning message in (function (x, y, offset = NULL, misc = NULL, distribution = \"bernoulli\", :\n",
      "“variable 21: region9. Pacific has no variation.”\n",
      "Warning message in (function (x, y, offset = NULL, misc = NULL, distribution = \"bernoulli\", :\n",
      "“variable 14: region2. Middle Atlantic has no variation.”\n",
      "Warning message in (function (x, y, offset = NULL, misc = NULL, distribution = \"bernoulli\", :\n",
      "“variable 15: region3. East North Central has no variation.”\n",
      "Warning message in (function (x, y, offset = NULL, misc = NULL, distribution = \"bernoulli\", :\n",
      "“variable 16: region4. West North Central has no variation.”\n",
      "Warning message in (function (x, y, offset = NULL, misc = NULL, distribution = \"bernoulli\", :\n",
      "“variable 17: region5. South Atlantic has no variation.”\n",
      "Warning message in (function (x, y, offset = NULL, misc = NULL, distribution = \"bernoulli\", :\n",
      "“variable 18: region6. East South Central has no variation.”\n",
      "Warning message in (function (x, y, offset = NULL, misc = NULL, distribution = \"bernoulli\", :\n",
      "“variable 19: region7. West South Central has no variation.”\n",
      "Warning message in (function (x, y, offset = NULL, misc = NULL, distribution = \"bernoulli\", :\n",
      "“variable 20: region8. Mountain has no variation.”\n",
      "Warning message in (function (x, y, offset = NULL, misc = NULL, distribution = \"bernoulli\", :\n",
      "“variable 21: region9. Pacific has no variation.”\n",
      "Warning message in (function (x, y, offset = NULL, misc = NULL, distribution = \"bernoulli\", :\n",
      "“variable 14: region2. Middle Atlantic has no variation.”\n",
      "Warning message in (function (x, y, offset = NULL, misc = NULL, distribution = \"bernoulli\", :\n",
      "“variable 15: region3. East North Central has no variation.”\n",
      "Warning message in (function (x, y, offset = NULL, misc = NULL, distribution = \"bernoulli\", :\n",
      "“variable 16: region4. West North Central has no variation.”\n",
      "Warning message in (function (x, y, offset = NULL, misc = NULL, distribution = \"bernoulli\", :\n",
      "“variable 17: region5. South Atlantic has no variation.”\n",
      "Warning message in (function (x, y, offset = NULL, misc = NULL, distribution = \"bernoulli\", :\n",
      "“variable 18: region6. East South Central has no variation.”\n",
      "Warning message in (function (x, y, offset = NULL, misc = NULL, distribution = \"bernoulli\", :\n",
      "“variable 19: region7. West South Central has no variation.”\n",
      "Warning message in (function (x, y, offset = NULL, misc = NULL, distribution = \"bernoulli\", :\n",
      "“variable 20: region8. Mountain has no variation.”\n",
      "Warning message in (function (x, y, offset = NULL, misc = NULL, distribution = \"bernoulli\", :\n",
      "“variable 21: region9. Pacific has no variation.”\n",
      "Warning message in (function (x, y, offset = NULL, misc = NULL, distribution = \"bernoulli\", :\n",
      "“variable 14: region2. Middle Atlantic has no variation.”\n",
      "Warning message in (function (x, y, offset = NULL, misc = NULL, distribution = \"bernoulli\", :\n",
      "“variable 15: region3. East North Central has no variation.”\n",
      "Warning message in (function (x, y, offset = NULL, misc = NULL, distribution = \"bernoulli\", :\n",
      "“variable 16: region4. West North Central has no variation.”\n",
      "Warning message in (function (x, y, offset = NULL, misc = NULL, distribution = \"bernoulli\", :\n",
      "“variable 17: region5. South Atlantic has no variation.”\n",
      "Warning message in (function (x, y, offset = NULL, misc = NULL, distribution = \"bernoulli\", :\n",
      "“variable 18: region6. East South Central has no variation.”\n",
      "Warning message in (function (x, y, offset = NULL, misc = NULL, distribution = \"bernoulli\", :\n",
      "“variable 19: region7. West South Central has no variation.”\n",
      "Warning message in (function (x, y, offset = NULL, misc = NULL, distribution = \"bernoulli\", :\n",
      "“variable 20: region8. Mountain has no variation.”\n",
      "Warning message in (function (x, y, offset = NULL, misc = NULL, distribution = \"bernoulli\", :\n",
      "“variable 21: region9. Pacific has no variation.”\n",
      "Warning message in (function (x, y, offset = NULL, misc = NULL, distribution = \"bernoulli\", :\n",
      "“variable 14: region2. Middle Atlantic has no variation.”\n",
      "Warning message in (function (x, y, offset = NULL, misc = NULL, distribution = \"bernoulli\", :\n",
      "“variable 15: region3. East North Central has no variation.”\n",
      "Warning message in (function (x, y, offset = NULL, misc = NULL, distribution = \"bernoulli\", :\n",
      "“variable 16: region4. West North Central has no variation.”\n",
      "Warning message in (function (x, y, offset = NULL, misc = NULL, distribution = \"bernoulli\", :\n",
      "“variable 17: region5. South Atlantic has no variation.”\n",
      "Warning message in (function (x, y, offset = NULL, misc = NULL, distribution = \"bernoulli\", :\n",
      "“variable 18: region6. East South Central has no variation.”\n",
      "Warning message in (function (x, y, offset = NULL, misc = NULL, distribution = \"bernoulli\", :\n",
      "“variable 19: region7. West South Central has no variation.”\n",
      "Warning message in (function (x, y, offset = NULL, misc = NULL, distribution = \"bernoulli\", :\n",
      "“variable 20: region8. Mountain has no variation.”\n",
      "Warning message in (function (x, y, offset = NULL, misc = NULL, distribution = \"bernoulli\", :\n",
      "“variable 21: region9. Pacific has no variation.”\n",
      "Warning message in (function (x, y, offset = NULL, misc = NULL, distribution = \"bernoulli\", :\n",
      "“variable 14: region2. Middle Atlantic has no variation.”\n",
      "Warning message in (function (x, y, offset = NULL, misc = NULL, distribution = \"bernoulli\", :\n",
      "“variable 15: region3. East North Central has no variation.”\n",
      "Warning message in (function (x, y, offset = NULL, misc = NULL, distribution = \"bernoulli\", :\n",
      "“variable 16: region4. West North Central has no variation.”\n",
      "Warning message in (function (x, y, offset = NULL, misc = NULL, distribution = \"bernoulli\", :\n",
      "“variable 17: region5. South Atlantic has no variation.”\n",
      "Warning message in (function (x, y, offset = NULL, misc = NULL, distribution = \"bernoulli\", :\n",
      "“variable 18: region6. East South Central has no variation.”\n",
      "Warning message in (function (x, y, offset = NULL, misc = NULL, distribution = \"bernoulli\", :\n",
      "“variable 19: region7. West South Central has no variation.”\n",
      "Warning message in (function (x, y, offset = NULL, misc = NULL, distribution = \"bernoulli\", :\n",
      "“variable 20: region8. Mountain has no variation.”\n",
      "Warning message in (function (x, y, offset = NULL, misc = NULL, distribution = \"bernoulli\", :\n",
      "“variable 21: region9. Pacific has no variation.”\n",
      "Warning message in (function (x, y, offset = NULL, misc = NULL, distribution = \"bernoulli\", :\n",
      "“variable 14: region2. Middle Atlantic has no variation.”\n",
      "Warning message in (function (x, y, offset = NULL, misc = NULL, distribution = \"bernoulli\", :\n",
      "“variable 15: region3. East North Central has no variation.”\n",
      "Warning message in (function (x, y, offset = NULL, misc = NULL, distribution = \"bernoulli\", :\n",
      "“variable 16: region4. West North Central has no variation.”\n",
      "Warning message in (function (x, y, offset = NULL, misc = NULL, distribution = \"bernoulli\", :\n",
      "“variable 17: region5. South Atlantic has no variation.”\n",
      "Warning message in (function (x, y, offset = NULL, misc = NULL, distribution = \"bernoulli\", :\n",
      "“variable 18: region6. East South Central has no variation.”\n",
      "Warning message in (function (x, y, offset = NULL, misc = NULL, distribution = \"bernoulli\", :\n",
      "“variable 19: region7. West South Central has no variation.”\n",
      "Warning message in (function (x, y, offset = NULL, misc = NULL, distribution = \"bernoulli\", :\n",
      "“variable 20: region8. Mountain has no variation.”\n",
      "Warning message in (function (x, y, offset = NULL, misc = NULL, distribution = \"bernoulli\", :\n",
      "“variable 21: region9. Pacific has no variation.”\n",
      "Warning message in (function (x, y, offset = NULL, misc = NULL, distribution = \"bernoulli\", :\n",
      "“variable 14: region2. Middle Atlantic has no variation.”\n",
      "Warning message in (function (x, y, offset = NULL, misc = NULL, distribution = \"bernoulli\", :\n",
      "“variable 15: region3. East North Central has no variation.”\n",
      "Warning message in (function (x, y, offset = NULL, misc = NULL, distribution = \"bernoulli\", :\n",
      "“variable 16: region4. West North Central has no variation.”\n",
      "Warning message in (function (x, y, offset = NULL, misc = NULL, distribution = \"bernoulli\", :\n",
      "“variable 17: region5. South Atlantic has no variation.”\n",
      "Warning message in (function (x, y, offset = NULL, misc = NULL, distribution = \"bernoulli\", :\n",
      "“variable 18: region6. East South Central has no variation.”\n",
      "Warning message in (function (x, y, offset = NULL, misc = NULL, distribution = \"bernoulli\", :\n",
      "“variable 19: region7. West South Central has no variation.”\n",
      "Warning message in (function (x, y, offset = NULL, misc = NULL, distribution = \"bernoulli\", :\n",
      "“variable 20: region8. Mountain has no variation.”\n",
      "Warning message in (function (x, y, offset = NULL, misc = NULL, distribution = \"bernoulli\", :\n",
      "“variable 21: region9. Pacific has no variation.”\n",
      "Warning message in (function (x, y, offset = NULL, misc = NULL, distribution = \"bernoulli\", :\n",
      "“variable 14: region2. Middle Atlantic has no variation.”\n",
      "Warning message in (function (x, y, offset = NULL, misc = NULL, distribution = \"bernoulli\", :\n",
      "“variable 15: region3. East North Central has no variation.”\n",
      "Warning message in (function (x, y, offset = NULL, misc = NULL, distribution = \"bernoulli\", :\n",
      "“variable 16: region4. West North Central has no variation.”\n",
      "Warning message in (function (x, y, offset = NULL, misc = NULL, distribution = \"bernoulli\", :\n",
      "“variable 17: region5. South Atlantic has no variation.”\n",
      "Warning message in (function (x, y, offset = NULL, misc = NULL, distribution = \"bernoulli\", :\n",
      "“variable 18: region6. East South Central has no variation.”\n",
      "Warning message in (function (x, y, offset = NULL, misc = NULL, distribution = \"bernoulli\", :\n",
      "“variable 19: region7. West South Central has no variation.”\n",
      "Warning message in (function (x, y, offset = NULL, misc = NULL, distribution = \"bernoulli\", :\n",
      "“variable 20: region8. Mountain has no variation.”\n",
      "Warning message in (function (x, y, offset = NULL, misc = NULL, distribution = \"bernoulli\", :\n",
      "“variable 21: region9. Pacific has no variation.”\n",
      "Warning message in (function (x, y, offset = NULL, misc = NULL, distribution = \"bernoulli\", :\n",
      "“variable 14: region2. Middle Atlantic has no variation.”\n",
      "Warning message in (function (x, y, offset = NULL, misc = NULL, distribution = \"bernoulli\", :\n",
      "“variable 15: region3. East North Central has no variation.”\n",
      "Warning message in (function (x, y, offset = NULL, misc = NULL, distribution = \"bernoulli\", :\n",
      "“variable 16: region4. West North Central has no variation.”\n",
      "Warning message in (function (x, y, offset = NULL, misc = NULL, distribution = \"bernoulli\", :\n",
      "“variable 17: region5. South Atlantic has no variation.”\n",
      "Warning message in (function (x, y, offset = NULL, misc = NULL, distribution = \"bernoulli\", :\n",
      "“variable 18: region6. East South Central has no variation.”\n",
      "Warning message in (function (x, y, offset = NULL, misc = NULL, distribution = \"bernoulli\", :\n",
      "“variable 19: region7. West South Central has no variation.”\n",
      "Warning message in (function (x, y, offset = NULL, misc = NULL, distribution = \"bernoulli\", :\n",
      "“variable 20: region8. Mountain has no variation.”\n",
      "Warning message in (function (x, y, offset = NULL, misc = NULL, distribution = \"bernoulli\", :\n",
      "“variable 21: region9. Pacific has no variation.”\n",
      "Warning message in (function (x, y, offset = NULL, misc = NULL, distribution = \"bernoulli\", :\n",
      "“variable 14: region2. Middle Atlantic has no variation.”\n",
      "Warning message in (function (x, y, offset = NULL, misc = NULL, distribution = \"bernoulli\", :\n",
      "“variable 15: region3. East North Central has no variation.”\n",
      "Warning message in (function (x, y, offset = NULL, misc = NULL, distribution = \"bernoulli\", :\n",
      "“variable 16: region4. West North Central has no variation.”\n",
      "Warning message in (function (x, y, offset = NULL, misc = NULL, distribution = \"bernoulli\", :\n",
      "“variable 17: region5. South Atlantic has no variation.”\n",
      "Warning message in (function (x, y, offset = NULL, misc = NULL, distribution = \"bernoulli\", :\n",
      "“variable 18: region6. East South Central has no variation.”\n",
      "Warning message in (function (x, y, offset = NULL, misc = NULL, distribution = \"bernoulli\", :\n",
      "“variable 19: region7. West South Central has no variation.”\n",
      "Warning message in (function (x, y, offset = NULL, misc = NULL, distribution = \"bernoulli\", :\n",
      "“variable 20: region8. Mountain has no variation.”\n",
      "Warning message in (function (x, y, offset = NULL, misc = NULL, distribution = \"bernoulli\", :\n",
      "“variable 21: region9. Pacific has no variation.”\n",
      "Warning message in (function (x, y, offset = NULL, misc = NULL, distribution = \"bernoulli\", :\n",
      "“variable 14: region2. Middle Atlantic has no variation.”\n",
      "Warning message in (function (x, y, offset = NULL, misc = NULL, distribution = \"bernoulli\", :\n",
      "“variable 15: region3. East North Central has no variation.”\n",
      "Warning message in (function (x, y, offset = NULL, misc = NULL, distribution = \"bernoulli\", :\n",
      "“variable 16: region4. West North Central has no variation.”\n",
      "Warning message in (function (x, y, offset = NULL, misc = NULL, distribution = \"bernoulli\", :\n",
      "“variable 17: region5. South Atlantic has no variation.”\n",
      "Warning message in (function (x, y, offset = NULL, misc = NULL, distribution = \"bernoulli\", :\n",
      "“variable 18: region6. East South Central has no variation.”\n",
      "Warning message in (function (x, y, offset = NULL, misc = NULL, distribution = \"bernoulli\", :\n",
      "“variable 19: region7. West South Central has no variation.”\n",
      "Warning message in (function (x, y, offset = NULL, misc = NULL, distribution = \"bernoulli\", :\n",
      "“variable 20: region8. Mountain has no variation.”\n",
      "Warning message in (function (x, y, offset = NULL, misc = NULL, distribution = \"bernoulli\", :\n",
      "“variable 21: region9. Pacific has no variation.”\n",
      "Warning message in (function (x, y, offset = NULL, misc = NULL, distribution = \"bernoulli\", :\n",
      "“variable 14: region2. Middle Atlantic has no variation.”\n",
      "Warning message in (function (x, y, offset = NULL, misc = NULL, distribution = \"bernoulli\", :\n",
      "“variable 15: region3. East North Central has no variation.”\n",
      "Warning message in (function (x, y, offset = NULL, misc = NULL, distribution = \"bernoulli\", :\n",
      "“variable 16: region4. West North Central has no variation.”\n",
      "Warning message in (function (x, y, offset = NULL, misc = NULL, distribution = \"bernoulli\", :\n",
      "“variable 17: region5. South Atlantic has no variation.”\n",
      "Warning message in (function (x, y, offset = NULL, misc = NULL, distribution = \"bernoulli\", :\n",
      "“variable 18: region6. East South Central has no variation.”\n",
      "Warning message in (function (x, y, offset = NULL, misc = NULL, distribution = \"bernoulli\", :\n",
      "“variable 19: region7. West South Central has no variation.”\n",
      "Warning message in (function (x, y, offset = NULL, misc = NULL, distribution = \"bernoulli\", :\n",
      "“variable 20: region8. Mountain has no variation.”\n",
      "Warning message in (function (x, y, offset = NULL, misc = NULL, distribution = \"bernoulli\", :\n",
      "“variable 21: region9. Pacific has no variation.”\n",
      "Warning message in (function (x, y, offset = NULL, misc = NULL, distribution = \"bernoulli\", :\n",
      "“variable 14: region2. Middle Atlantic has no variation.”\n",
      "Warning message in (function (x, y, offset = NULL, misc = NULL, distribution = \"bernoulli\", :\n",
      "“variable 15: region3. East North Central has no variation.”\n",
      "Warning message in (function (x, y, offset = NULL, misc = NULL, distribution = \"bernoulli\", :\n",
      "“variable 16: region4. West North Central has no variation.”\n",
      "Warning message in (function (x, y, offset = NULL, misc = NULL, distribution = \"bernoulli\", :\n",
      "“variable 17: region5. South Atlantic has no variation.”\n",
      "Warning message in (function (x, y, offset = NULL, misc = NULL, distribution = \"bernoulli\", :\n",
      "“variable 18: region6. East South Central has no variation.”\n",
      "Warning message in (function (x, y, offset = NULL, misc = NULL, distribution = \"bernoulli\", :\n",
      "“variable 19: region7. West South Central has no variation.”\n",
      "Warning message in (function (x, y, offset = NULL, misc = NULL, distribution = \"bernoulli\", :\n",
      "“variable 20: region8. Mountain has no variation.”\n",
      "Warning message in (function (x, y, offset = NULL, misc = NULL, distribution = \"bernoulli\", :\n",
      "“variable 21: region9. Pacific has no variation.”\n",
      "Warning message in (function (x, y, offset = NULL, misc = NULL, distribution = \"bernoulli\", :\n",
      "“variable 14: region2. Middle Atlantic has no variation.”\n",
      "Warning message in (function (x, y, offset = NULL, misc = NULL, distribution = \"bernoulli\", :\n",
      "“variable 15: region3. East North Central has no variation.”\n",
      "Warning message in (function (x, y, offset = NULL, misc = NULL, distribution = \"bernoulli\", :\n",
      "“variable 16: region4. West North Central has no variation.”\n",
      "Warning message in (function (x, y, offset = NULL, misc = NULL, distribution = \"bernoulli\", :\n",
      "“variable 17: region5. South Atlantic has no variation.”\n",
      "Warning message in (function (x, y, offset = NULL, misc = NULL, distribution = \"bernoulli\", :\n",
      "“variable 18: region6. East South Central has no variation.”\n",
      "Warning message in (function (x, y, offset = NULL, misc = NULL, distribution = \"bernoulli\", :\n",
      "“variable 19: region7. West South Central has no variation.”\n",
      "Warning message in (function (x, y, offset = NULL, misc = NULL, distribution = \"bernoulli\", :\n",
      "“variable 20: region8. Mountain has no variation.”\n",
      "Warning message in (function (x, y, offset = NULL, misc = NULL, distribution = \"bernoulli\", :\n",
      "“variable 21: region9. Pacific has no variation.”\n",
      "Warning message in (function (x, y, offset = NULL, misc = NULL, distribution = \"bernoulli\", :\n",
      "“variable 14: region2. Middle Atlantic has no variation.”\n",
      "Warning message in (function (x, y, offset = NULL, misc = NULL, distribution = \"bernoulli\", :\n",
      "“variable 15: region3. East North Central has no variation.”\n",
      "Warning message in (function (x, y, offset = NULL, misc = NULL, distribution = \"bernoulli\", :\n",
      "“variable 16: region4. West North Central has no variation.”\n",
      "Warning message in (function (x, y, offset = NULL, misc = NULL, distribution = \"bernoulli\", :\n",
      "“variable 17: region5. South Atlantic has no variation.”\n",
      "Warning message in (function (x, y, offset = NULL, misc = NULL, distribution = \"bernoulli\", :\n",
      "“variable 18: region6. East South Central has no variation.”\n",
      "Warning message in (function (x, y, offset = NULL, misc = NULL, distribution = \"bernoulli\", :\n",
      "“variable 19: region7. West South Central has no variation.”\n",
      "Warning message in (function (x, y, offset = NULL, misc = NULL, distribution = \"bernoulli\", :\n",
      "“variable 20: region8. Mountain has no variation.”\n",
      "Warning message in (function (x, y, offset = NULL, misc = NULL, distribution = \"bernoulli\", :\n",
      "“variable 21: region9. Pacific has no variation.”\n",
      "Warning message in (function (x, y, offset = NULL, misc = NULL, distribution = \"bernoulli\", :\n",
      "“variable 14: region2. Middle Atlantic has no variation.”\n",
      "Warning message in (function (x, y, offset = NULL, misc = NULL, distribution = \"bernoulli\", :\n",
      "“variable 15: region3. East North Central has no variation.”\n",
      "Warning message in (function (x, y, offset = NULL, misc = NULL, distribution = \"bernoulli\", :\n",
      "“variable 16: region4. West North Central has no variation.”\n",
      "Warning message in (function (x, y, offset = NULL, misc = NULL, distribution = \"bernoulli\", :\n",
      "“variable 17: region5. South Atlantic has no variation.”\n",
      "Warning message in (function (x, y, offset = NULL, misc = NULL, distribution = \"bernoulli\", :\n",
      "“variable 18: region6. East South Central has no variation.”\n",
      "Warning message in (function (x, y, offset = NULL, misc = NULL, distribution = \"bernoulli\", :\n",
      "“variable 19: region7. West South Central has no variation.”\n",
      "Warning message in (function (x, y, offset = NULL, misc = NULL, distribution = \"bernoulli\", :\n",
      "“variable 20: region8. Mountain has no variation.”\n",
      "Warning message in (function (x, y, offset = NULL, misc = NULL, distribution = \"bernoulli\", :\n",
      "“variable 21: region9. Pacific has no variation.”\n",
      "Warning message in (function (x, y, offset = NULL, misc = NULL, distribution = \"bernoulli\", :\n",
      "“variable 14: region2. Middle Atlantic has no variation.”\n",
      "Warning message in (function (x, y, offset = NULL, misc = NULL, distribution = \"bernoulli\", :\n",
      "“variable 15: region3. East North Central has no variation.”\n",
      "Warning message in (function (x, y, offset = NULL, misc = NULL, distribution = \"bernoulli\", :\n",
      "“variable 16: region4. West North Central has no variation.”\n",
      "Warning message in (function (x, y, offset = NULL, misc = NULL, distribution = \"bernoulli\", :\n",
      "“variable 17: region5. South Atlantic has no variation.”\n",
      "Warning message in (function (x, y, offset = NULL, misc = NULL, distribution = \"bernoulli\", :\n",
      "“variable 18: region6. East South Central has no variation.”\n",
      "Warning message in (function (x, y, offset = NULL, misc = NULL, distribution = \"bernoulli\", :\n",
      "“variable 19: region7. West South Central has no variation.”\n",
      "Warning message in (function (x, y, offset = NULL, misc = NULL, distribution = \"bernoulli\", :\n",
      "“variable 20: region8. Mountain has no variation.”\n",
      "Warning message in (function (x, y, offset = NULL, misc = NULL, distribution = \"bernoulli\", :\n",
      "“variable 21: region9. Pacific has no variation.”\n",
      "Warning message in (function (x, y, offset = NULL, misc = NULL, distribution = \"bernoulli\", :\n",
      "“variable 14: region2. Middle Atlantic has no variation.”\n",
      "Warning message in (function (x, y, offset = NULL, misc = NULL, distribution = \"bernoulli\", :\n",
      "“variable 15: region3. East North Central has no variation.”\n",
      "Warning message in (function (x, y, offset = NULL, misc = NULL, distribution = \"bernoulli\", :\n",
      "“variable 16: region4. West North Central has no variation.”\n",
      "Warning message in (function (x, y, offset = NULL, misc = NULL, distribution = \"bernoulli\", :\n",
      "“variable 17: region5. South Atlantic has no variation.”\n",
      "Warning message in (function (x, y, offset = NULL, misc = NULL, distribution = \"bernoulli\", :\n",
      "“variable 18: region6. East South Central has no variation.”\n",
      "Warning message in (function (x, y, offset = NULL, misc = NULL, distribution = \"bernoulli\", :\n",
      "“variable 19: region7. West South Central has no variation.”\n",
      "Warning message in (function (x, y, offset = NULL, misc = NULL, distribution = \"bernoulli\", :\n",
      "“variable 20: region8. Mountain has no variation.”\n",
      "Warning message in (function (x, y, offset = NULL, misc = NULL, distribution = \"bernoulli\", :\n",
      "“variable 21: region9. Pacific has no variation.”\n",
      "Warning message in (function (x, y, offset = NULL, misc = NULL, distribution = \"bernoulli\", :\n",
      "“variable 14: region2. Middle Atlantic has no variation.”\n",
      "Warning message in (function (x, y, offset = NULL, misc = NULL, distribution = \"bernoulli\", :\n",
      "“variable 15: region3. East North Central has no variation.”\n",
      "Warning message in (function (x, y, offset = NULL, misc = NULL, distribution = \"bernoulli\", :\n",
      "“variable 16: region4. West North Central has no variation.”\n",
      "Warning message in (function (x, y, offset = NULL, misc = NULL, distribution = \"bernoulli\", :\n",
      "“variable 17: region5. South Atlantic has no variation.”\n",
      "Warning message in (function (x, y, offset = NULL, misc = NULL, distribution = \"bernoulli\", :\n",
      "“variable 18: region6. East South Central has no variation.”\n",
      "Warning message in (function (x, y, offset = NULL, misc = NULL, distribution = \"bernoulli\", :\n",
      "“variable 19: region7. West South Central has no variation.”\n",
      "Warning message in (function (x, y, offset = NULL, misc = NULL, distribution = \"bernoulli\", :\n",
      "“variable 20: region8. Mountain has no variation.”\n",
      "Warning message in (function (x, y, offset = NULL, misc = NULL, distribution = \"bernoulli\", :\n",
      "“variable 21: region9. Pacific has no variation.”\n",
      "Warning message in (function (x, y, offset = NULL, misc = NULL, distribution = \"bernoulli\", :\n",
      "“variable 14: region2. Middle Atlantic has no variation.”\n",
      "Warning message in (function (x, y, offset = NULL, misc = NULL, distribution = \"bernoulli\", :\n",
      "“variable 15: region3. East North Central has no variation.”\n",
      "Warning message in (function (x, y, offset = NULL, misc = NULL, distribution = \"bernoulli\", :\n",
      "“variable 16: region4. West North Central has no variation.”\n",
      "Warning message in (function (x, y, offset = NULL, misc = NULL, distribution = \"bernoulli\", :\n",
      "“variable 17: region5. South Atlantic has no variation.”\n",
      "Warning message in (function (x, y, offset = NULL, misc = NULL, distribution = \"bernoulli\", :\n",
      "“variable 18: region6. East South Central has no variation.”\n",
      "Warning message in (function (x, y, offset = NULL, misc = NULL, distribution = \"bernoulli\", :\n",
      "“variable 19: region7. West South Central has no variation.”\n",
      "Warning message in (function (x, y, offset = NULL, misc = NULL, distribution = \"bernoulli\", :\n",
      "“variable 20: region8. Mountain has no variation.”\n",
      "Warning message in (function (x, y, offset = NULL, misc = NULL, distribution = \"bernoulli\", :\n",
      "“variable 21: region9. Pacific has no variation.”\n",
      "Warning message in (function (x, y, offset = NULL, misc = NULL, distribution = \"bernoulli\", :\n",
      "“variable 14: region2. Middle Atlantic has no variation.”\n",
      "Warning message in (function (x, y, offset = NULL, misc = NULL, distribution = \"bernoulli\", :\n",
      "“variable 15: region3. East North Central has no variation.”\n",
      "Warning message in (function (x, y, offset = NULL, misc = NULL, distribution = \"bernoulli\", :\n",
      "“variable 16: region4. West North Central has no variation.”\n",
      "Warning message in (function (x, y, offset = NULL, misc = NULL, distribution = \"bernoulli\", :\n",
      "“variable 17: region5. South Atlantic has no variation.”\n",
      "Warning message in (function (x, y, offset = NULL, misc = NULL, distribution = \"bernoulli\", :\n",
      "“variable 18: region6. East South Central has no variation.”\n",
      "Warning message in (function (x, y, offset = NULL, misc = NULL, distribution = \"bernoulli\", :\n",
      "“variable 19: region7. West South Central has no variation.”\n",
      "Warning message in (function (x, y, offset = NULL, misc = NULL, distribution = \"bernoulli\", :\n",
      "“variable 20: region8. Mountain has no variation.”\n",
      "Warning message in (function (x, y, offset = NULL, misc = NULL, distribution = \"bernoulli\", :\n",
      "“variable 21: region9. Pacific has no variation.”\n",
      "Warning message in (function (x, y, offset = NULL, misc = NULL, distribution = \"bernoulli\", :\n",
      "“variable 14: region2. Middle Atlantic has no variation.”\n",
      "Warning message in (function (x, y, offset = NULL, misc = NULL, distribution = \"bernoulli\", :\n",
      "“variable 15: region3. East North Central has no variation.”\n",
      "Warning message in (function (x, y, offset = NULL, misc = NULL, distribution = \"bernoulli\", :\n",
      "“variable 16: region4. West North Central has no variation.”\n",
      "Warning message in (function (x, y, offset = NULL, misc = NULL, distribution = \"bernoulli\", :\n",
      "“variable 17: region5. South Atlantic has no variation.”\n",
      "Warning message in (function (x, y, offset = NULL, misc = NULL, distribution = \"bernoulli\", :\n",
      "“variable 18: region6. East South Central has no variation.”\n",
      "Warning message in (function (x, y, offset = NULL, misc = NULL, distribution = \"bernoulli\", :\n",
      "“variable 19: region7. West South Central has no variation.”\n",
      "Warning message in (function (x, y, offset = NULL, misc = NULL, distribution = \"bernoulli\", :\n",
      "“variable 20: region8. Mountain has no variation.”\n",
      "Warning message in (function (x, y, offset = NULL, misc = NULL, distribution = \"bernoulli\", :\n",
      "“variable 21: region9. Pacific has no variation.”\n",
      "Warning message in (function (x, y, offset = NULL, misc = NULL, distribution = \"bernoulli\", :\n",
      "“variable 14: region2. Middle Atlantic has no variation.”\n",
      "Warning message in (function (x, y, offset = NULL, misc = NULL, distribution = \"bernoulli\", :\n",
      "“variable 15: region3. East North Central has no variation.”\n",
      "Warning message in (function (x, y, offset = NULL, misc = NULL, distribution = \"bernoulli\", :\n",
      "“variable 16: region4. West North Central has no variation.”\n",
      "Warning message in (function (x, y, offset = NULL, misc = NULL, distribution = \"bernoulli\", :\n",
      "“variable 17: region5. South Atlantic has no variation.”\n",
      "Warning message in (function (x, y, offset = NULL, misc = NULL, distribution = \"bernoulli\", :\n",
      "“variable 18: region6. East South Central has no variation.”\n",
      "Warning message in (function (x, y, offset = NULL, misc = NULL, distribution = \"bernoulli\", :\n",
      "“variable 19: region7. West South Central has no variation.”\n",
      "Warning message in (function (x, y, offset = NULL, misc = NULL, distribution = \"bernoulli\", :\n",
      "“variable 20: region8. Mountain has no variation.”\n",
      "Warning message in (function (x, y, offset = NULL, misc = NULL, distribution = \"bernoulli\", :\n",
      "“variable 21: region9. Pacific has no variation.”\n",
      "Warning message in (function (x, y, offset = NULL, misc = NULL, distribution = \"bernoulli\", :\n",
      "“variable 14: region2. Middle Atlantic has no variation.”\n",
      "Warning message in (function (x, y, offset = NULL, misc = NULL, distribution = \"bernoulli\", :\n",
      "“variable 15: region3. East North Central has no variation.”\n",
      "Warning message in (function (x, y, offset = NULL, misc = NULL, distribution = \"bernoulli\", :\n",
      "“variable 16: region4. West North Central has no variation.”\n",
      "Warning message in (function (x, y, offset = NULL, misc = NULL, distribution = \"bernoulli\", :\n",
      "“variable 17: region5. South Atlantic has no variation.”\n",
      "Warning message in (function (x, y, offset = NULL, misc = NULL, distribution = \"bernoulli\", :\n",
      "“variable 18: region6. East South Central has no variation.”\n",
      "Warning message in (function (x, y, offset = NULL, misc = NULL, distribution = \"bernoulli\", :\n",
      "“variable 19: region7. West South Central has no variation.”\n",
      "Warning message in (function (x, y, offset = NULL, misc = NULL, distribution = \"bernoulli\", :\n",
      "“variable 20: region8. Mountain has no variation.”\n",
      "Warning message in (function (x, y, offset = NULL, misc = NULL, distribution = \"bernoulli\", :\n",
      "“variable 21: region9. Pacific has no variation.”\n"
     ]
    }
   ],
   "source": [
    "## Fit the model\n",
    "modFit <- train(wage ~ ., method = 'gbm', verbose = FALSE, data = training) \n",
    "# gbm: boosting with trees\n",
    "# verbose=FALSE, coz this will produce a lot of output when you\n",
    "# use method=\"gbm\" -- seems it does not work in Jupyter environment..."
   ]
  },
  {
   "cell_type": "code",
   "execution_count": 84,
   "metadata": {},
   "outputs": [
    {
     "name": "stdout",
     "output_type": "stream",
     "text": [
      "Stochastic Gradient Boosting \n",
      "\n",
      "2102 samples\n",
      "   9 predictor\n",
      "\n",
      "No pre-processing\n",
      "Resampling: Bootstrapped (25 reps) \n",
      "Summary of sample sizes: 2102, 2102, 2102, 2102, 2102, 2102, ... \n",
      "Resampling results across tuning parameters:\n",
      "\n",
      "  interaction.depth  n.trees  RMSE      Rsquared   MAE     \n",
      "  1                   50      34.71048  0.3316549  23.79935\n",
      "  1                  100      34.15689  0.3396577  23.48178\n",
      "  1                  150      34.08862  0.3404730  23.48160\n",
      "  2                   50      34.17122  0.3404850  23.45018\n",
      "  2                  100      34.04020  0.3422378  23.46318\n",
      "  2                  150      34.11753  0.3391094  23.57442\n",
      "  3                   50      34.09903  0.3409394  23.45576\n",
      "  3                  100      34.26459  0.3344203  23.68407\n",
      "  3                  150      34.50438  0.3268291  23.91318\n",
      "\n",
      "Tuning parameter 'shrinkage' was held constant at a value of 0.1\n",
      "\n",
      "Tuning parameter 'n.minobsinnode' was held constant at a value of 10\n",
      "RMSE was used to select the optimal model using the smallest value.\n",
      "The final values used for the model were n.trees = 100, interaction.depth =\n",
      " 2, shrinkage = 0.1 and n.minobsinnode = 10.\n"
     ]
    }
   ],
   "source": [
    "print(modFit)\n",
    "# there's a different number of trees that are used, and different interaction depths\n",
    "# and they are basically used together, to build a boosted version of regression trees"
   ]
  },
  {
   "cell_type": "code",
   "execution_count": 85,
   "metadata": {},
   "outputs": [
    {
     "data": {
      "image/png": "[encoded data removed]",
      "text/plain": [
       "plot without title"
      ]
     },
     "metadata": {
      "image/png": {
       "height": 420,
       "width": 420
      }
     },
     "output_type": "display_data"
    }
   ],
   "source": [
    "## Plot the results\n",
    "qplot(predict(modFit, testing), wage, data = testing)"
   ]
  },
  {
   "cell_type": "markdown",
   "metadata": {},
   "source": [
    "### Model based approach\n",
    "**Basic idea**\n",
    "1. Assume the data foloow a probabilistic model\n",
    "1. Use Bayes' theorem to identify optimal classifiers\n",
    "\n",
    "**Pros**\n",
    "1. Can take advantage of structure of the data\n",
    "1. May be computationally convenient\n",
    "1. Are reasonably accurate on real problems\n",
    "\n",
    "**Cons**\n",
    "1. Make additional assumptions about the data\n",
    "1. When the model is incorrect you may get reduced accuracy\n",
    "\n",
    "**Model Based Approach**\n",
    "1. Our goal is to build parametric model for conditional distribution $P(Y=k | X =x )$\n",
    "\n",
    "2. A typical approach is to apply *Bayes Theorem*\n",
    "\n",
    "$P(Y = k | X =x ) = \\frac{p(X=x|Y=k) p(Y=k)}{\\sum_{\\ell = 1}^{K} P(X = x | Y = \\ell) P(Y = \\ell)}$\n",
    "\n",
    "$P(Y = k | X = x) = \\frac{f_{k}(x) \\pi_{k}}{\\sum_{\\ell = 1}^{K} f_{\\ell}(x) \\pi_{\\ell}}$\n",
    "\n",
    "3. Typically *prior probabilities* $\\pi_{k}$ are set in advance\n",
    "\n",
    "4. A common choice for $f_k (x) = \\frac{1}{\\sigma_{k} \\sqrt{2 \\pi}} \\exp \\left[- \\frac{\\left( x - \\mu_k \\right)^2}{\\sigma_{k}^{2}} \\right]$, a Gaussian distribution\n",
    "\n",
    "5. Estimate the parameters $(\\mu_k, \\sigma_k^2)$ from the data\n",
    "\n",
    "6. Classify to the class with the highest value of $P(Y = K | X = x)$\n",
    "\n",
    "**Classifying using the model**\n",
    "\n",
    "A range of models use this approach\n",
    "- `Linear discriminant analysis` assumes $f_k(x)$ is multivariate Gaussian with same covariances\n",
    "- `Quadratic discriminant analysis` assumes $f_k(x)$ is multivariate Gaussian with different covariances\n",
    "- `Model based prediction` assumes more complicated versions for the covariance matrix\n",
    "- `Naive Bayes` assumes independence between features for model building\n",
    "\n",
    "\n",
    "**Why`Linear discriminant analysis`？**\n",
    "\n",
    "$\\log \\frac{P(Y=k | X = x)}{P(Y=j | X = x)} = \\log \\frac{f_k(x)}{f_j(x)} + \\log \\frac{\\pi_k}{\\pi_j} = \\log \\frac{\\pi_k}{\\pi_j} - \\frac{1}{2} \\left( \\mu_k + \\mu_j \\right)^{T} \\Sigma^{-1} \\left( \\mu_k + \\mu_j \\right) + x^{T} \\Sigma^{-1} \\left( \\mu_k - \\mu_j \\right) $\n",
    "\n",
    "**Discriminant function**\n",
    "\n",
    "$\\delta_k(x) = x^{T} \\Sigma^{-1} \\mu_k - \\frac{1}{2} \\mu_k  \\Sigma^{-1} \\mu_k + \\log (\\mu_k)$\n",
    "\n",
    "- Decice on class based on $\\hat{Y}(x) = \\text{argmax}_{k} \\delta_{k}(x)$\n",
    "- We usually estimate parameters with maximum likelihood\n",
    "\n",
    "**Naive Bayes**\n",
    "\n",
    "- Suppose we have many predictors, we would want to model $P(Y=k|X1, \\ldots, X_m)$\n",
    "- We could use Bayes Theorem to get\n",
    "\n",
    "    $P(Y=k|X1, \\ldots, X_m) = \\frac{\\pi_k P(X1, \\ldots, X_m | Y=k)}{ \\pi_{\\ell} \\sum_{\\ell = 1}^{K} P(X1, \\ldots, X_m | Y=k)} \\propto \\pi_{k} P(X1, \\ldots, X_m | Y=k)$\n",
    "- This can be written as\n",
    "\n",
    "    $P(X1, \\ldots, X_m | Y=k) = \\pi_k P(X_1 | Y=k) P(X_2, \\ldots, X_m | X_1, Y=k)$  \n",
    "    $= \\pi_k P(X_1 | Y=k) P(X_2 |X_1, Y=k) P(X_3, \\ldots, X_m | X_1, X2, Y=k)$  \n",
    "    $= \\pi_k P(X_1 | Y=k) P(X_2 |X_1, Y=k) P(X_3 |X_1, X_2, Y=k) \\ldots P(X_m | X_1, \\ldots, X_{m-1}  Y=k)$  \n",
    "    \n",
    "- We could make an assumption to write this  \n",
    "    $\\approx \\pi_k P(X_1 | Y=k) P(X_2 | Y=k) \\ldots P(X_m | Y=k)$\n",
    "    "
   ]
  },
  {
   "cell_type": "code",
   "execution_count": 86,
   "metadata": {},
   "outputs": [
    {
     "data": {
      "text/html": [
       "<style>\n",
       ".list-inline {list-style: none; margin:0; padding: 0}\n",
       ".list-inline>li {display: inline-block}\n",
       ".list-inline>li:not(:last-child)::after {content: \"\\00b7\"; padding: 0 .5ex}\n",
       "</style>\n",
       "<ol class=list-inline><li>'Sepal.Length'</li><li>'Sepal.Width'</li><li>'Petal.Length'</li><li>'Petal.Width'</li><li>'Species'</li></ol>\n"
      ],
      "text/latex": [
       "\\begin{enumerate*}\n",
       "\\item 'Sepal.Length'\n",
       "\\item 'Sepal.Width'\n",
       "\\item 'Petal.Length'\n",
       "\\item 'Petal.Width'\n",
       "\\item 'Species'\n",
       "\\end{enumerate*}\n"
      ],
      "text/markdown": [
       "1. 'Sepal.Length'\n",
       "2. 'Sepal.Width'\n",
       "3. 'Petal.Length'\n",
       "4. 'Petal.Width'\n",
       "5. 'Species'\n",
       "\n",
       "\n"
      ],
      "text/plain": [
       "[1] \"Sepal.Length\" \"Sepal.Width\"  \"Petal.Length\" \"Petal.Width\"  \"Species\"     "
      ]
     },
     "metadata": {},
     "output_type": "display_data"
    }
   ],
   "source": [
    "data(iris)\n",
    "library(ggplot2)\n",
    "names(iris)"
   ]
  },
  {
   "cell_type": "code",
   "execution_count": 87,
   "metadata": {},
   "outputs": [
    {
     "data": {
      "text/plain": [
       "\n",
       "    setosa versicolor  virginica \n",
       "        50         50         50 "
      ]
     },
     "metadata": {},
     "output_type": "display_data"
    }
   ],
   "source": [
    "table(iris$Species)"
   ]
  },
  {
   "cell_type": "code",
   "execution_count": 88,
   "metadata": {},
   "outputs": [
    {
     "data": {
      "text/html": [
       "<style>\n",
       ".list-inline {list-style: none; margin:0; padding: 0}\n",
       ".list-inline>li {display: inline-block}\n",
       ".list-inline>li:not(:last-child)::after {content: \"\\00b7\"; padding: 0 .5ex}\n",
       "</style>\n",
       "<ol class=list-inline><li>105</li><li>5</li></ol>\n"
      ],
      "text/latex": [
       "\\begin{enumerate*}\n",
       "\\item 105\n",
       "\\item 5\n",
       "\\end{enumerate*}\n"
      ],
      "text/markdown": [
       "1. 105\n",
       "2. 5\n",
       "\n",
       "\n"
      ],
      "text/plain": [
       "[1] 105   5"
      ]
     },
     "metadata": {},
     "output_type": "display_data"
    },
    {
     "data": {
      "text/html": [
       "<style>\n",
       ".list-inline {list-style: none; margin:0; padding: 0}\n",
       ".list-inline>li {display: inline-block}\n",
       ".list-inline>li:not(:last-child)::after {content: \"\\00b7\"; padding: 0 .5ex}\n",
       "</style>\n",
       "<ol class=list-inline><li>45</li><li>5</li></ol>\n"
      ],
      "text/latex": [
       "\\begin{enumerate*}\n",
       "\\item 45\n",
       "\\item 5\n",
       "\\end{enumerate*}\n"
      ],
      "text/markdown": [
       "1. 45\n",
       "2. 5\n",
       "\n",
       "\n"
      ],
      "text/plain": [
       "[1] 45  5"
      ]
     },
     "metadata": {},
     "output_type": "display_data"
    }
   ],
   "source": [
    "inTrain <- createDataPartition(\n",
    "    y = iris$Species\n",
    "    , p = 0.7\n",
    "    , list = FALSE\n",
    ")\n",
    "training <- iris[inTrain,]\n",
    "testing <- iris[-inTrain,]\n",
    "dim(training);dim(testing)"
   ]
  },
  {
   "cell_type": "code",
   "execution_count": 90,
   "metadata": {},
   "outputs": [
    {
     "data": {
      "text/plain": [
       "            pnb\n",
       "plda         setosa versicolor virginica\n",
       "  setosa         15          0         0\n",
       "  versicolor      0         14         0\n",
       "  virginica       0          0        16"
      ]
     },
     "metadata": {},
     "output_type": "display_data"
    }
   ],
   "source": [
    "# build predictions\n",
    "modlda <- train(Species ~., data = training, method = \"lda\")\n",
    "modnb <- train(Species ~., data = training, method = \"nb\") # naive bayes\n",
    "plda = predict(modlda, testing)\n",
    "pnb = predict(modnb, testing)\n",
    "table(plda, pnb)"
   ]
  },
  {
   "cell_type": "code",
   "execution_count": 92,
   "metadata": {},
   "outputs": [
    {
     "data": {
      "image/png": "[encoded data removed]",
      "text/plain": [
       "plot without title"
      ]
     },
     "metadata": {
      "image/png": {
       "height": 420,
       "width": 420
      }
     },
     "output_type": "display_data"
    }
   ],
   "source": [
    "# Comparison of results\n",
    "equalPredictions <- (plda == pnb)\n",
    "qplot(Petal.Width, Sepal.Width, colour = equalPredictions, data = testing)"
   ]
  },
  {
   "cell_type": "markdown",
   "metadata": {},
   "source": [
    "## Quiz 3\n",
    "### Question 1\n",
    "\n",
    "1. Subset the data to a training set and testing set based on the Case variable in the data set.\n",
    "\n",
    "2. Set the seed to 125 and fit a CART model with the rpart method using all predictor variables and default caret settings.\n",
    "\n",
    "3. In the final model what would be the final model prediction for cases with the following variable values:\n",
    "\n",
    "    a. TotalIntench2 = 23,000; FiberWidthCh1 = 10; PerimStatusCh1=2\n",
    "    \n",
    "    b. TotalIntench2 = 50,000; FiberWidthCh1 = 10;VarIntenCh4 = 100\n",
    "    \n",
    "    c. TotalIntench2 = 57,000; FiberWidthCh1 = 8;VarIntenCh4 = 100\n",
    "    \n",
    "    d. FiberWidthCh1 = 8;VarIntenCh4 = 100; PerimStatusCh1=2 "
   ]
  },
  {
   "cell_type": "code",
   "execution_count": 127,
   "metadata": {},
   "outputs": [
    {
     "data": {
      "text/html": [
       "<style>\n",
       ".list-inline {list-style: none; margin:0; padding: 0}\n",
       ".list-inline>li {display: inline-block}\n",
       ".list-inline>li:not(:last-child)::after {content: \"\\00b7\"; padding: 0 .5ex}\n",
       "</style>\n",
       "<ol class=list-inline><li>1212</li><li>119</li></ol>\n"
      ],
      "text/latex": [
       "\\begin{enumerate*}\n",
       "\\item 1212\n",
       "\\item 119\n",
       "\\end{enumerate*}\n"
      ],
      "text/markdown": [
       "1. 1212\n",
       "2. 119\n",
       "\n",
       "\n"
      ],
      "text/plain": [
       "[1] 1212  119"
      ]
     },
     "metadata": {},
     "output_type": "display_data"
    },
    {
     "data": {
      "text/html": [
       "<style>\n",
       ".list-inline {list-style: none; margin:0; padding: 0}\n",
       ".list-inline>li {display: inline-block}\n",
       ".list-inline>li:not(:last-child)::after {content: \"\\00b7\"; padding: 0 .5ex}\n",
       "</style>\n",
       "<ol class=list-inline><li>807</li><li>119</li></ol>\n"
      ],
      "text/latex": [
       "\\begin{enumerate*}\n",
       "\\item 807\n",
       "\\item 119\n",
       "\\end{enumerate*}\n"
      ],
      "text/markdown": [
       "1. 807\n",
       "2. 119\n",
       "\n",
       "\n"
      ],
      "text/plain": [
       "[1] 807 119"
      ]
     },
     "metadata": {},
     "output_type": "display_data"
    }
   ],
   "source": [
    "library(AppliedPredictiveModeling)\n",
    "data(segmentationOriginal)\n",
    "library(caret)\n",
    "\n",
    "inTrain = createDataPartition(y = segmentationOriginal$Case\n",
    "                             , p = 0.6\n",
    "                             , list = FALSE)\n",
    "training = segmentationOriginal[inTrain,]\n",
    "testing = segmentationOriginal[-inTrain,]\n",
    "dim(training); dim(testing)"
   ]
  },
  {
   "cell_type": "code",
   "execution_count": 132,
   "metadata": {},
   "outputs": [],
   "source": [
    "set.seed(125)\n",
    "modFit <- train(Class~., data = training, method=\"rpart\")"
   ]
  },
  {
   "cell_type": "code",
   "execution_count": 133,
   "metadata": {},
   "outputs": [
    {
     "data": {
      "text/plain": [
       "n= 1212 \n",
       "\n",
       "node), split, n, loss, yval, (yprob)\n",
       "      * denotes terminal node\n",
       "\n",
       "1) root 1212 436 PS (0.64026403 0.35973597)  \n",
       "  2) TotalIntenCh2< 42198.5 514  29 PS (0.94357977 0.05642023) *\n",
       "  3) TotalIntenCh2>=42198.5 698 291 WS (0.41690544 0.58309456)  \n",
       "    6) FiberWidthCh1< 11.19756 303 121 PS (0.60066007 0.39933993) *\n",
       "    7) FiberWidthCh1>=11.19756 395 109 WS (0.27594937 0.72405063) *"
      ]
     },
     "metadata": {},
     "output_type": "display_data"
    }
   ],
   "source": [
    "modFit$finalModel"
   ]
  },
  {
   "cell_type": "code",
   "execution_count": 134,
   "metadata": {},
   "outputs": [
    {
     "data": {
      "image/png": "[encoded data removed]",
      "text/plain": [
       "Plot with title “”"
      ]
     },
     "metadata": {
      "image/png": {
       "height": 420,
       "width": 420
      }
     },
     "output_type": "display_data"
    }
   ],
   "source": [
    "library(rattle)\n",
    "library(rpart.plot)\n",
    "fancyRpartPlot(modFit$finalModel)"
   ]
  },
  {
   "cell_type": "markdown",
   "metadata": {},
   "source": [
    "### Question 2"
   ]
  },
  {
   "cell_type": "markdown",
   "metadata": {},
   "source": [
    "### Question 3"
   ]
  },
  {
   "cell_type": "code",
   "execution_count": 137,
   "metadata": {},
   "outputs": [],
   "source": [
    "library(pgmm)\n",
    "data(olive)\n",
    "olive = olive[,-1]"
   ]
  },
  {
   "cell_type": "code",
   "execution_count": 139,
   "metadata": {},
   "outputs": [],
   "source": [
    "inTrain <- createDataPartition(\n",
    "    y = olive$Area\n",
    "    , list = FALSE\n",
    "    , p = 0.7\n",
    ")\n",
    "training <- olive[inTrain, ]\n",
    "testing <- olive[-inTrain,]"
   ]
  },
  {
   "cell_type": "code",
   "execution_count": 141,
   "metadata": {},
   "outputs": [
    {
     "name": "stderr",
     "output_type": "stream",
     "text": [
      "Warning message in nominalTrainWorkflow(x = x, y = y, wts = weights, info = trainInfo, :\n",
      "“There were missing values in resampled performance measures.”\n"
     ]
    },
    {
     "data": {
      "text/plain": [
       "n= 401 \n",
       "\n",
       "node), split, n, deviance, yval\n",
       "      * denotes terminal node\n",
       "\n",
       "1) root 401 2207.0870 4.613466  \n",
       "  2) Eicosenoic>=6.5 224  117.7143 2.785714 *\n",
       "  3) Eicosenoic< 6.5 177  394.0452 6.926554  \n",
       "    6) Linoleic>=1053.5 72   16.0000 5.333333 *\n",
       "    7) Linoleic< 1053.5 105   69.9619 8.019048 *"
      ]
     },
     "metadata": {},
     "output_type": "display_data"
    }
   ],
   "source": [
    "modFit <- train(Area ~., data = training, method = \"rpart\")\n",
    "modFit$finalModel"
   ]
  },
  {
   "cell_type": "code",
   "execution_count": 144,
   "metadata": {},
   "outputs": [
    {
     "data": {
      "text/html": [
       "<strong>1:</strong> 2.786"
      ],
      "text/latex": [
       "\\textbf{1:} 2.786"
      ],
      "text/markdown": [
       "**1:** 2.786"
      ],
      "text/plain": [
       "    1 \n",
       "2.786 "
      ]
     },
     "metadata": {},
     "output_type": "display_data"
    }
   ],
   "source": [
    "round(predict(modFit, newdata = as.data.frame(t(colMeans(olive)))),3)"
   ]
  },
  {
   "cell_type": "code",
   "execution_count": 145,
   "metadata": {},
   "outputs": [
    {
     "data": {
      "text/html": [
       "<style>\n",
       ".dl-inline {width: auto; margin:0; padding: 0}\n",
       ".dl-inline>dt, .dl-inline>dd {float: none; width: auto; display: inline-block}\n",
       ".dl-inline>dt::after {content: \":\\0020\"; padding-right: .5ex}\n",
       ".dl-inline>dt:not(:first-of-type) {padding-left: .5ex}\n",
       "</style><dl class=dl-inline><dt>Area</dt><dd>4.59965034965035</dd><dt>Palmitic</dt><dd>1231.74125874126</dd><dt>Palmitoleic</dt><dd>126.094405594406</dd><dt>Stearic</dt><dd>228.865384615385</dd><dt>Oleic</dt><dd>7311.74825174825</dd><dt>Linoleic</dt><dd>980.527972027972</dd><dt>Linolenic</dt><dd>31.8881118881119</dd><dt>Arachidic</dt><dd>58.0979020979021</dd><dt>Eicosenoic</dt><dd>16.2814685314685</dd></dl>\n"
      ],
      "text/latex": [
       "\\begin{description*}\n",
       "\\item[Area] 4.59965034965035\n",
       "\\item[Palmitic] 1231.74125874126\n",
       "\\item[Palmitoleic] 126.094405594406\n",
       "\\item[Stearic] 228.865384615385\n",
       "\\item[Oleic] 7311.74825174825\n",
       "\\item[Linoleic] 980.527972027972\n",
       "\\item[Linolenic] 31.8881118881119\n",
       "\\item[Arachidic] 58.0979020979021\n",
       "\\item[Eicosenoic] 16.2814685314685\n",
       "\\end{description*}\n"
      ],
      "text/markdown": [
       "Area\n",
       ":   4.59965034965035Palmitic\n",
       ":   1231.74125874126Palmitoleic\n",
       ":   126.094405594406Stearic\n",
       ":   228.865384615385Oleic\n",
       ":   7311.74825174825Linoleic\n",
       ":   980.527972027972Linolenic\n",
       ":   31.8881118881119Arachidic\n",
       ":   58.0979020979021Eicosenoic\n",
       ":   16.2814685314685\n",
       "\n"
      ],
      "text/plain": [
       "       Area    Palmitic Palmitoleic     Stearic       Oleic    Linoleic \n",
       "    4.59965  1231.74126   126.09441   228.86538  7311.74825   980.52797 \n",
       "  Linolenic   Arachidic  Eicosenoic \n",
       "   31.88811    58.09790    16.28147 "
      ]
     },
     "metadata": {},
     "output_type": "display_data"
    }
   ],
   "source": [
    "colMeans(olive)"
   ]
  },
  {
   "cell_type": "markdown",
   "metadata": {},
   "source": [
    "### Question 4"
   ]
  },
  {
   "cell_type": "code",
   "execution_count": 191,
   "metadata": {},
   "outputs": [],
   "source": [
    "#library(ElemStatLearn)\n",
    "load(\"./data/ElemStatLearn/data/SAheart.RData\")\n",
    "set.seed(8484)\n",
    "train = sample(1:dim(SAheart)[1],size=dim(SAheart)[1]/2,replace=F)\n",
    "trainSA = SAheart[train,]\n",
    "testSA = SAheart[-train,]"
   ]
  },
  {
   "cell_type": "code",
   "execution_count": 192,
   "metadata": {},
   "outputs": [
    {
     "data": {
      "text/html": [
       "<table>\n",
       "<caption>A data.frame: 6 × 10</caption>\n",
       "<thead>\n",
       "\t<tr><th></th><th scope=col>sbp</th><th scope=col>tobacco</th><th scope=col>ldl</th><th scope=col>adiposity</th><th scope=col>famhist</th><th scope=col>typea</th><th scope=col>obesity</th><th scope=col>alcohol</th><th scope=col>age</th><th scope=col>chd</th></tr>\n",
       "\t<tr><th></th><th scope=col>&lt;int&gt;</th><th scope=col>&lt;dbl&gt;</th><th scope=col>&lt;dbl&gt;</th><th scope=col>&lt;dbl&gt;</th><th scope=col>&lt;fct&gt;</th><th scope=col>&lt;int&gt;</th><th scope=col>&lt;dbl&gt;</th><th scope=col>&lt;dbl&gt;</th><th scope=col>&lt;int&gt;</th><th scope=col>&lt;int&gt;</th></tr>\n",
       "</thead>\n",
       "<tbody>\n",
       "\t<tr><th scope=row>368</th><td>150</td><td>0.00</td><td>4.99</td><td>27.73</td><td>Absent </td><td>57</td><td>30.92</td><td> 8.33</td><td>24</td><td>0</td></tr>\n",
       "\t<tr><th scope=row>238</th><td>176</td><td>5.76</td><td>4.89</td><td>26.10</td><td>Present</td><td>46</td><td>27.30</td><td>19.44</td><td>57</td><td>0</td></tr>\n",
       "\t<tr><th scope=row>221</th><td>138</td><td>0.00</td><td>3.14</td><td>12.00</td><td>Absent </td><td>54</td><td>20.28</td><td> 0.00</td><td>16</td><td>0</td></tr>\n",
       "\t<tr><th scope=row>316</th><td>190</td><td>5.15</td><td>6.03</td><td>36.59</td><td>Absent </td><td>42</td><td>30.31</td><td>72.00</td><td>50</td><td>0</td></tr>\n",
       "\t<tr><th scope=row>327</th><td>156</td><td>0.00</td><td>3.47</td><td>21.10</td><td>Absent </td><td>73</td><td>28.40</td><td> 0.00</td><td>36</td><td>1</td></tr>\n",
       "\t<tr><th scope=row>41</th><td>118</td><td>0.28</td><td>5.80</td><td>33.70</td><td>Present</td><td>60</td><td>30.98</td><td> 0.00</td><td>41</td><td>1</td></tr>\n",
       "</tbody>\n",
       "</table>\n"
      ],
      "text/latex": [
       "A data.frame: 6 × 10\n",
       "\\begin{tabular}{r|llllllllll}\n",
       "  & sbp & tobacco & ldl & adiposity & famhist & typea & obesity & alcohol & age & chd\\\\\n",
       "  & <int> & <dbl> & <dbl> & <dbl> & <fct> & <int> & <dbl> & <dbl> & <int> & <int>\\\\\n",
       "\\hline\n",
       "\t368 & 150 & 0.00 & 4.99 & 27.73 & Absent  & 57 & 30.92 &  8.33 & 24 & 0\\\\\n",
       "\t238 & 176 & 5.76 & 4.89 & 26.10 & Present & 46 & 27.30 & 19.44 & 57 & 0\\\\\n",
       "\t221 & 138 & 0.00 & 3.14 & 12.00 & Absent  & 54 & 20.28 &  0.00 & 16 & 0\\\\\n",
       "\t316 & 190 & 5.15 & 6.03 & 36.59 & Absent  & 42 & 30.31 & 72.00 & 50 & 0\\\\\n",
       "\t327 & 156 & 0.00 & 3.47 & 21.10 & Absent  & 73 & 28.40 &  0.00 & 36 & 1\\\\\n",
       "\t41 & 118 & 0.28 & 5.80 & 33.70 & Present & 60 & 30.98 &  0.00 & 41 & 1\\\\\n",
       "\\end{tabular}\n"
      ],
      "text/markdown": [
       "\n",
       "A data.frame: 6 × 10\n",
       "\n",
       "| <!--/--> | sbp &lt;int&gt; | tobacco &lt;dbl&gt; | ldl &lt;dbl&gt; | adiposity &lt;dbl&gt; | famhist &lt;fct&gt; | typea &lt;int&gt; | obesity &lt;dbl&gt; | alcohol &lt;dbl&gt; | age &lt;int&gt; | chd &lt;int&gt; |\n",
       "|---|---|---|---|---|---|---|---|---|---|---|\n",
       "| 368 | 150 | 0.00 | 4.99 | 27.73 | Absent  | 57 | 30.92 |  8.33 | 24 | 0 |\n",
       "| 238 | 176 | 5.76 | 4.89 | 26.10 | Present | 46 | 27.30 | 19.44 | 57 | 0 |\n",
       "| 221 | 138 | 0.00 | 3.14 | 12.00 | Absent  | 54 | 20.28 |  0.00 | 16 | 0 |\n",
       "| 316 | 190 | 5.15 | 6.03 | 36.59 | Absent  | 42 | 30.31 | 72.00 | 50 | 0 |\n",
       "| 327 | 156 | 0.00 | 3.47 | 21.10 | Absent  | 73 | 28.40 |  0.00 | 36 | 1 |\n",
       "| 41 | 118 | 0.28 | 5.80 | 33.70 | Present | 60 | 30.98 |  0.00 | 41 | 1 |\n",
       "\n"
      ],
      "text/plain": [
       "    sbp tobacco ldl  adiposity famhist typea obesity alcohol age chd\n",
       "368 150 0.00    4.99 27.73     Absent  57    30.92    8.33   24  0  \n",
       "238 176 5.76    4.89 26.10     Present 46    27.30   19.44   57  0  \n",
       "221 138 0.00    3.14 12.00     Absent  54    20.28    0.00   16  0  \n",
       "316 190 5.15    6.03 36.59     Absent  42    30.31   72.00   50  0  \n",
       "327 156 0.00    3.47 21.10     Absent  73    28.40    0.00   36  1  \n",
       "41  118 0.28    5.80 33.70     Present 60    30.98    0.00   41  1  "
      ]
     },
     "metadata": {},
     "output_type": "display_data"
    }
   ],
   "source": [
    "head(trainSA)"
   ]
  },
  {
   "cell_type": "code",
   "execution_count": 193,
   "metadata": {},
   "outputs": [],
   "source": [
    "name_list = c(\"chd\", \"age\", 'alcohol', 'obesity', 'tobacco', 'typea', 'ldl')"
   ]
  },
  {
   "cell_type": "code",
   "execution_count": 200,
   "metadata": {},
   "outputs": [
    {
     "name": "stderr",
     "output_type": "stream",
     "text": [
      "Warning message in train.default(x, y, weights = w, ...):\n",
      "“You are trying to do regression and your outcome only has two possible values Are you trying to do classification? If so, use a 2 level factor as your outcome column.”\n"
     ]
    }
   ],
   "source": [
    "set.seed(13234)\n",
    "#modFit <- train(chd~., data = trainSA[,name_list], method='glm', family=\"binomial\")\n",
    "modFit <- train(chd ~ age + alcohol + obesity + tobacco + typea + ldl, data = trainSA, method = \"glm\", family = \"binomial\")"
   ]
  },
  {
   "cell_type": "code",
   "execution_count": 201,
   "metadata": {},
   "outputs": [
    {
     "data": {
      "text/plain": [
       "\n",
       "Call:  NULL\n",
       "\n",
       "Coefficients:\n",
       "(Intercept)          age      alcohol      obesity      tobacco        typea  \n",
       "  -4.114985     0.052552     0.004216    -0.058587     0.043858     0.027646  \n",
       "        ldl  \n",
       "   0.160496  \n",
       "\n",
       "Degrees of Freedom: 230 Total (i.e. Null);  224 Residual\n",
       "Null Deviance:\t    285 \n",
       "Residual Deviance: 245.5 \tAIC: 259.5"
      ]
     },
     "metadata": {},
     "output_type": "display_data"
    }
   ],
   "source": [
    "modFit$finalModel"
   ]
  },
  {
   "cell_type": "code",
   "execution_count": 202,
   "metadata": {},
   "outputs": [],
   "source": [
    "trainPd <- predict(modFit, newdata = trainSA)\n",
    "testPd <- predict(modFit, new_data = testSA)"
   ]
  },
  {
   "cell_type": "code",
   "execution_count": 203,
   "metadata": {},
   "outputs": [],
   "source": [
    "missClass = function(values,prediction){sum(((prediction > 0.5)*1) != values)/length(values)}"
   ]
  },
  {
   "cell_type": "code",
   "execution_count": 205,
   "metadata": {},
   "outputs": [
    {
     "data": {
      "text/html": [
       "0.31"
      ],
      "text/latex": [
       "0.31"
      ],
      "text/markdown": [
       "0.31"
      ],
      "text/plain": [
       "[1] 0.31"
      ]
     },
     "metadata": {},
     "output_type": "display_data"
    }
   ],
   "source": [
    "round(missClass(trainSA$chd, trainPd),2)"
   ]
  },
  {
   "cell_type": "code",
   "execution_count": 204,
   "metadata": {},
   "outputs": [
    {
     "data": {
      "text/html": [
       "0.398"
      ],
      "text/latex": [
       "0.398"
      ],
      "text/markdown": [
       "0.398"
      ],
      "text/plain": [
       "[1] 0.398"
      ]
     },
     "metadata": {},
     "output_type": "display_data"
    }
   ],
   "source": [
    "round(missClass(testSA$chd, testPd),3)"
   ]
  },
  {
   "cell_type": "markdown",
   "metadata": {},
   "source": [
    "### Question 5"
   ]
  },
  {
   "cell_type": "code",
   "execution_count": 209,
   "metadata": {},
   "outputs": [],
   "source": [
    "library(randomForest)\n",
    "load(\"./data/ElemStatLearn/data/vowel.train.RData\")\n",
    "load(\"./data/ElemStatLearn/data/vowel.test.RData\")\n",
    "set.seed(33833)"
   ]
  },
  {
   "cell_type": "code",
   "execution_count": 210,
   "metadata": {},
   "outputs": [
    {
     "name": "stdout",
     "output_type": "stream",
     "text": [
      "'data.frame':\t528 obs. of  11 variables:\n",
      " $ y   : int  1 2 3 4 5 6 7 8 9 10 ...\n",
      " $ x.1 : num  -3.64 -3.33 -2.12 -2.29 -2.6 ...\n",
      " $ x.2 : num  0.418 0.496 0.894 1.809 1.938 ...\n",
      " $ x.3 : num  -0.67 -0.694 -1.576 -1.498 -0.846 ...\n",
      " $ x.4 : num  1.779 1.365 0.147 1.012 1.062 ...\n",
      " $ x.5 : num  -0.168 -0.265 -0.707 -1.053 -1.633 ...\n",
      " $ x.6 : num  1.627 1.933 1.559 1.06 0.764 ...\n",
      " $ x.7 : num  -0.388 -0.363 -0.579 -0.567 0.394 0.217 0.322 -0.435 -0.512 -0.466 ...\n",
      " $ x.8 : num  0.529 0.51 0.676 0.235 -0.15 -0.246 0.45 0.992 0.928 0.702 ...\n",
      " $ x.9 : num  -0.874 -0.621 -0.809 -0.091 0.277 0.238 0.377 0.575 -0.167 0.06 ...\n",
      " $ x.10: num  -0.814 -0.488 -0.049 -0.795 -0.396 -0.365 -0.366 -0.301 -0.434 -0.836 ...\n"
     ]
    }
   ],
   "source": [
    "str(vowel.train)"
   ]
  },
  {
   "cell_type": "code",
   "execution_count": 211,
   "metadata": {},
   "outputs": [],
   "source": [
    "modelFit <- randomForest(y ~ ., data = vowel.train)"
   ]
  },
  {
   "cell_type": "code",
   "execution_count": 214,
   "metadata": {},
   "outputs": [
    {
     "data": {
      "text/html": [
       "<style>\n",
       ".list-inline {list-style: none; margin:0; padding: 0}\n",
       ".list-inline>li {display: inline-block}\n",
       ".list-inline>li:not(:last-child)::after {content: \"\\00b7\"; padding: 0 .5ex}\n",
       "</style>\n",
       "<ol class=list-inline><li>2</li><li>1</li><li>6</li><li>8</li><li>5</li><li>4</li><li>9</li><li>3</li><li>10</li><li>7</li></ol>\n"
      ],
      "text/latex": [
       "\\begin{enumerate*}\n",
       "\\item 2\n",
       "\\item 1\n",
       "\\item 6\n",
       "\\item 8\n",
       "\\item 5\n",
       "\\item 4\n",
       "\\item 9\n",
       "\\item 3\n",
       "\\item 10\n",
       "\\item 7\n",
       "\\end{enumerate*}\n"
      ],
      "text/markdown": [
       "1. 2\n",
       "2. 1\n",
       "3. 6\n",
       "4. 8\n",
       "5. 5\n",
       "6. 4\n",
       "7. 9\n",
       "8. 3\n",
       "9. 10\n",
       "10. 7\n",
       "\n",
       "\n"
      ],
      "text/plain": [
       " [1]  2  1  6  8  5  4  9  3 10  7"
      ]
     },
     "metadata": {},
     "output_type": "display_data"
    }
   ],
   "source": [
    "order(varImp(modelFit), decreasing = TRUE)"
   ]
  }
 ],
 "metadata": {
  "kernelspec": {
   "display_name": "R",
   "language": "R",
   "name": "ir"
  },
  "language_info": {
   "codemirror_mode": "r",
   "file_extension": ".r",
   "mimetype": "text/x-r-source",
   "name": "R",
   "pygments_lexer": "r",
   "version": "4.0.2"
  }
 },
 "nbformat": 4,
 "nbformat_minor": 4
}
