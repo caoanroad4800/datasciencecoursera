{
 "cells": [
  {
   "cell_type": "markdown",
   "metadata": {},
   "source": [
    "### R packages\n",
    "\n",
    "**Package Development Process**\n",
    "- Write some code in an R script file (.R)\n",
    "- Wang to make code available to others\n",
    "- Incorporate R script file into R package structure\n",
    "- Write documentation for user functions\n",
    "- Include some other material (examples, demos, datasets, tutorials)\n",
    "- Package it up!\n",
    "- Submit package to CRAN / Bioconductor\n",
    "- Push source code repository to GitHub or other source code sharing web site\n",
    "- People find all kinds of problems with your code\n",
    "    - Scenario #1: They tell you about those problem and expect you to fix it\n",
    "    - Scenario #2: They fix the problem for you and show you the changes\n",
    "- You incorporate the changes and release a new version\n",
    "\n",
    "**R Package Essentials**\n",
    "- An R package is started by creating a *directory* with the name of the R package\n",
    "- A *DESCRIPTION* file which has info about the package, including\n",
    "    - Package: Name of the package (e.g. library(name))\n",
    "    - Title: Full name of package\n",
    "    - Description: Longer description of package in one sentence (usually)\n",
    "    - Version: Version number (usually M.m-p format)\n",
    "    - Author, Authors@R: Name of the original author(s)\n",
    "    - Maintainer: Name + email of person who fixes problems\n",
    "    - License: License for the source code\n",
    "    - Depends (optional): R packages that your package depends on\n",
    "    - Suggests (optional): Optional R packages that users may want to have installed\n",
    "    - Date (optional): Release date in YYYY-MM-DD format\n",
    "    - URL (Optional): Package home page\n",
    "    - Other (optional): Fields can be added\n",
    "- *R code* (in the R/ sub-directory\n",
    "- *Documentation* (in the man/ sub-directory)\n",
    "- *NAMESPACE* (optional, but do it)\n",
    "- Full requirements in *Writing R Extensions*\n",
    "\n",
    "#### Building R Packages\n",
    "\n",
    "#### R Classes and Methods"
   ]
  },
  {
   "cell_type": "code",
   "execution_count": null,
   "metadata": {},
   "outputs": [],
   "source": []
  }
 ],
 "metadata": {
  "kernelspec": {
   "display_name": "R",
   "language": "R",
   "name": "ir"
  },
  "language_info": {
   "codemirror_mode": "r",
   "file_extension": ".r",
   "mimetype": "text/x-r-source",
   "name": "R",
   "pygments_lexer": "r",
   "version": "4.0.2"
  }
 },
 "nbformat": 4,
 "nbformat_minor": 4
}
