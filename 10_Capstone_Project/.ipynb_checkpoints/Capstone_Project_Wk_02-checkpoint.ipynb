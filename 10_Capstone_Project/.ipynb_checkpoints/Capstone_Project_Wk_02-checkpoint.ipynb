{
 "cells": [
  {
   "cell_type": "markdown",
   "metadata": {},
   "source": [
    "## Week 2: Capstone Project: Task 2\n",
    "\n",
    "**Tasks to accomplish**\n",
    "\n",
    "1. Exploratory analysis - perform a thorough exploratory analysis of the data, understanding the distribution of words and relationship between the words in the corpora.\n",
    "1. Understand frequencies of words and word pairs - build figures and tables to understand variation in the frequencies of words and word pairs in the data.\n",
    "\n",
    "**Questions to consider**\n",
    "\n",
    "1. **Some words are more frequent than others - what are the distributions of word frequencies?**\n",
    "1. **What are the frequencies of 2-grams and 3-grams in the dataset?**\n",
    "1. **How many unique words do you need in a frequency sorted dictionary to cover 50% of all word instances in the language? 90%?**\n",
    "1. How do you evaluate how many of the words come from foreign languages?\n",
    "1. Can you think of a way to increase the coverage -- identifying words that may not be in the corpora or using a smaller number of words in the dictionary to cover the same number of phrases?"
   ]
  },
  {
   "cell_type": "markdown",
   "metadata": {},
   "source": [
    "### 0. Environmet Settings"
   ]
  },
  {
   "cell_type": "code",
   "execution_count": null,
   "metadata": {},
   "outputs": [],
   "source": [
    "library(data.tree)\n",
    "library(DiagrammeR)\n",
    "library(dplyr)\n",
    "library(ggplot2)\n",
    "library(igraph)\n",
    "library(influenceR)\n",
    "library(plyr)\n",
    "library(SnowballC)\n",
    "library(stringi)\n",
    "library(stringr)\n",
    "library(tidyr)\n",
    "library(tidytext)\n",
    "library(tokenizers)\n",
    "library(tm)"
   ]
  },
  {
   "cell_type": "markdown",
   "metadata": {},
   "source": [
    "### 1. Preparation"
   ]
  },
  {
   "cell_type": "code",
   "execution_count": null,
   "metadata": {},
   "outputs": [],
   "source": [
    "# file path for english data\n",
    "blogs_path <- \"~/Soft/Rtest/JHU_capstone_project_data/final/en_US/en_US.blogs.txt\"\n",
    "news_path <- \"~/Soft/Rtest/JHU_capstone_project_data/final/en_US/en_US.news.txt\"\n",
    "twitter_path <- \"~/Soft/Rtest/JHU_capstone_project_data/final/en_US/en_US.twitter.txt\"\n",
    "\n",
    "# load data\n",
    "blogs <- readLines(blogs_path, encoding = \"UTF-8\", skipNul = TRUE)\n",
    "news <- readLines(news_path, encoding = \"UTF-8\", skipNul = TRUE)\n",
    "twitter <- readLines(twitter_path, encoding = \"UTF-8\", skipNul = TRUE)\n",
    "\n",
    "# number of characters per line\n",
    "blogs_nchar <- nchar(blogs)\n",
    "news_nchar <- nchar(news)\n",
    "twitter_nchar <- nchar(twitter)"
   ]
  },
  {
   "cell_type": "code",
   "execution_count": null,
   "metadata": {},
   "outputs": [],
   "source": [
    "# boxplot(\n",
    "#     blogs_nchar\n",
    "#     , news_nchar\n",
    "#     , twitter_nchar\n",
    "#     , log = \"y\"\n",
    "#     , names = c(\"blogs\", \"news\", \"twitter\")\n",
    "#     , ylab = \"log(Number of Characters)\"\n",
    "#     , xlab = \"Type\"\n",
    "#     , title = \"Distribution of Characters/Line\"\n",
    "# )"
   ]
  },
  {
   "cell_type": "code",
   "execution_count": null,
   "metadata": {},
   "outputs": [],
   "source": [
    "# Read the data files into data frames\n",
    "blogs <- data.frame(text = blogs)\n",
    "news <- data.frame(text = news)\n",
    "twitter <- data.frame(text = twitter)"
   ]
  },
  {
   "cell_type": "code",
   "execution_count": null,
   "metadata": {},
   "outputs": [],
   "source": [
    "# Sampling\n",
    "set.seed(1565)\n",
    "sample_pct <- 0.1\n",
    "\n",
    "blogs_sample <- blogs %>% sample_n(., nrow(blogs)*sample_pct)\n",
    "news_sample <- news %>% sample_n(., nrow(news)*sample_pct)\n",
    "twitter_sample <- twitter %>% sample_n(., nrow(twitter)*sample_pct)"
   ]
  },
  {
   "cell_type": "code",
   "execution_count": null,
   "metadata": {},
   "outputs": [],
   "source": [
    "# Create aggregate sample\n",
    "agg_sample <- bind_rows(\n",
    "    mutate(blogs_sample, source = 'blogs')\n",
    "    , mutate(news_sample, source = 'news')\n",
    "    , mutate(twitter_sample, source = 'twitter')\n",
    ")\n",
    "# change agg_sample$source type: chr --> factor\n",
    "agg_sample$source <- factor(agg_sample$source)"
   ]
  },
  {
   "cell_type": "code",
   "execution_count": null,
   "metadata": {},
   "outputs": [],
   "source": [
    "head(agg_sample)"
   ]
  },
  {
   "cell_type": "code",
   "execution_count": null,
   "metadata": {},
   "outputs": [],
   "source": [
    "# Create filters: non-alphanumeric's, url's, repeated letters\n",
    "replace_reg <- \"[^[:alpha:][:space:]]*\"\n",
    "replace_url <- \"http[^[:space:]]*\"\n",
    "replace_aaa <- \"\\\\b(?=\\\\w*(\\\\w)\\\\1)\\\\w+\\\\b\"  \n",
    "\n",
    "# Clean sample\n",
    "clean_sample <- agg_sample %>%\n",
    "    mutate(text = str_replace_all(text, replace_reg, \"\")) %>%\n",
    "    mutate(text = str_replace_all(text, replace_url, \"\")) %>%\n",
    "    mutate(text = str_replace_all(text, replace_aaa, \"\")) #%>%\n",
    "#    mutate(text = iconv(text, \"ASCII//TRANSLIT\"))"
   ]
  },
  {
   "cell_type": "code",
   "execution_count": null,
   "metadata": {},
   "outputs": [],
   "source": [
    "rm(blogs\n",
    "   , blogs_nchar\n",
    "   , news\n",
    "   , news_nchar\n",
    "   , twitter\n",
    "   , twitter_nchar\n",
    "   , replace_reg\n",
    "   , replace_url\n",
    "   , replace_aaa\n",
    "  )"
   ]
  },
  {
   "cell_type": "code",
   "execution_count": null,
   "metadata": {},
   "outputs": [],
   "source": [
    "data(\"stop_words\")\n",
    "swear_words <- read.csv(\"/home/yanyuan/Soft/swear-words/en\")\n",
    "swear_words <- unnest_tokens(swear_words, word, X2g1c)"
   ]
  },
  {
   "cell_type": "code",
   "execution_count": null,
   "metadata": {},
   "outputs": [],
   "source": [
    "tidy_data <- clean_sample %>%\n",
    "    unnest_tokens(word, text) %>%\n",
    "     anti_join(swear_words) %>%\n",
    "     anti_join(stop_words)"
   ]
  },
  {
   "cell_type": "code",
   "execution_count": null,
   "metadata": {},
   "outputs": [],
   "source": [
    "head(tidy_data)"
   ]
  },
  {
   "cell_type": "markdown",
   "metadata": {},
   "source": [
    "### 2. Word Frequencies\n",
    "\n",
    "Some words are more frequent than others - what are the distributions of word frequencies? "
   ]
  },
  {
   "cell_type": "code",
   "execution_count": null,
   "metadata": {},
   "outputs": [],
   "source": [
    "data_count <- tidy_data %>% summarise(keys = n_distinct(word))\n",
    "data_count"
   ]
  },
  {
   "cell_type": "code",
   "execution_count": null,
   "metadata": {},
   "outputs": [],
   "source": [
    "word_freq <- count(tidy_data, vars = \"word\") %>%\n",
    "mutate(proportion = freq / sum(freq)) %>%\n",
    "arrange(desc(proportion))"
   ]
  },
  {
   "cell_type": "code",
   "execution_count": null,
   "metadata": {},
   "outputs": [],
   "source": [
    "head(word_freq, 10)"
   ]
  },
  {
   "cell_type": "markdown",
   "metadata": {},
   "source": [
    "So that the top 10 words with highest frequencies are : `im`, `time`, `dont`, `day`, `people`, `life`, `rt`, `home`, `night`, `lol`. We can show that in a plot"
   ]
  },
  {
   "cell_type": "code",
   "execution_count": null,
   "metadata": {},
   "outputs": [],
   "source": [
    "word_freq %>%\n",
    "    top_n(20, proportion) %>%\n",
    "    mutate(word = reorder(word, proportion)) %>%\n",
    "    ggplot(aes(word, proportion)) + geom_col(col = \"red\", fill = \"darkgrey\") + labs(title = \"Word Frequences in en_US Data\") + xlab(\"Proportions\") + coord_flip()"
   ]
  },
  {
   "cell_type": "markdown",
   "metadata": {},
   "source": [
    "Furthermore, we plot word distribution by sources"
   ]
  },
  {
   "cell_type": "code",
   "execution_count": null,
   "metadata": {},
   "outputs": [],
   "source": [
    "head(tidy_data)"
   ]
  },
  {
   "cell_type": "code",
   "execution_count": null,
   "metadata": {},
   "outputs": [],
   "source": [
    "word_freq_source <- count(tidy_data, vars = c(\"word\", \"source\")) %>%\n",
    "    group_by(source) %>%\n",
    "    mutate(proportion = freq / sum(freq)) %>%\n",
    "    spread(source, proportion) %>%\n",
    "    gather(source, proportion, `blogs`:`twitter`) %>%\n",
    "    arrange(desc(proportion), desc(freq)) %>%\n",
    "    filter(proportion > 0.0005) %>%\n",
    "    mutate(word = reorder(word, proportion))"
   ]
  },
  {
   "cell_type": "code",
   "execution_count": null,
   "metadata": {},
   "outputs": [],
   "source": [
    "g <- NULL\n",
    "g <- ggplot(data = word_freq_source, aes(word, proportion))\n",
    "g <- g + geom_col(col = \"blue\", fill = \"darkgrey\")\n",
    "g <- g + coord_flip()\n",
    "g <- g + facet_grid(~source, scales = \"free\")\n",
    "g"
   ]
  },
  {
   "cell_type": "markdown",
   "metadata": {},
   "source": [
    "### 3. Word Coverage\n",
    "\n",
    "How many unique words do you need in a frequency sorted dictionary to cover 50% of all word instances in the language? 90%? "
   ]
  },
  {
   "cell_type": "code",
   "execution_count": null,
   "metadata": {},
   "outputs": [],
   "source": [
    "cover_50 <- count(tidy_data, vars = \"word\") %>%\n",
    "mutate(proportion = freq / sum(freq)) %>%\n",
    "arrange(desc(proportion)) %>%\n",
    "mutate(coverage = cumsum(proportion)) %>%\n",
    "filter(coverage <= 0.5)\n",
    "\n",
    "nrow(cover_50)"
   ]
  },
  {
   "cell_type": "code",
   "execution_count": null,
   "metadata": {},
   "outputs": [],
   "source": [
    "cover_90 <- count(tidy_data, vars = \"word\") %>%\n",
    "mutate(proportion = freq / sum(freq)) %>%\n",
    "arrange(desc(proportion)) %>%\n",
    "mutate(coverage = cumsum(proportion)) %>%\n",
    "filter(coverage <= 0.9)\n",
    "\n",
    "nrow(cover_90)"
   ]
  },
  {
   "cell_type": "markdown",
   "metadata": {},
   "source": [
    "So that the number of words a dictionary needs to cover frequent words are:\n",
    "- 1305 words, to cover 50% of all\n",
    "- 17470 words, to cover 90% of all"
   ]
  },
  {
   "cell_type": "markdown",
   "metadata": {},
   "source": [
    "### 4. Frequencies of Bigrams"
   ]
  },
  {
   "cell_type": "code",
   "execution_count": null,
   "metadata": {},
   "outputs": [],
   "source": [
    "# create bigrams by source\n",
    "bigram_data <- as.data.frame(clean_sample) %>% \n",
    "    unnest_tokens(output = bigram, input = text, token = 'ngrams', n = 2) #%>%\n",
    "#    mutate(proportion = n / sum(n)) #%>%"
   ]
  },
  {
   "cell_type": "code",
   "execution_count": null,
   "metadata": {},
   "outputs": [],
   "source": [
    "bigram_cover_90 <- bigram_data %>%\n",
    "    count(c(\"bigram\",\"source\"))  %>%\n",
    "    mutate(proportion = freq / sum(freq)) %>%\n",
    "    arrange(desc(proportion)) %>%\n",
    "    mutate(coverage = cumsum(proportion)) %>%\n",
    "    filter(coverage <= 0.9)"
   ]
  },
  {
   "cell_type": "code",
   "execution_count": null,
   "metadata": {},
   "outputs": [],
   "source": [
    "head(bigram_cover_90)"
   ]
  },
  {
   "cell_type": "markdown",
   "metadata": {},
   "source": [
    "So that the number of bigrams to get 90% coverage of all bigrams are"
   ]
  },
  {
   "cell_type": "code",
   "execution_count": null,
   "metadata": {},
   "outputs": [],
   "source": [
    "nrow(bigram_cover_90)"
   ]
  },
  {
   "cell_type": "code",
   "execution_count": null,
   "metadata": {},
   "outputs": [],
   "source": [
    "# plot top 20 frequences\n",
    "bigram_cover_90 %>%\n",
    "    top_n(20, proportion) %>%\n",
    "    mutate(bigram = reorder(bigram, proportion)) %>%\n",
    "    ggplot(aes(bigram, proportion)) + geom_col() + xlab(\"Proportion\") + ggtitle(\"Bigram: Top 20\") + coord_flip()"
   ]
  },
  {
   "cell_type": "markdown",
   "metadata": {},
   "source": [
    "### 5. Frequencies of Trigrams"
   ]
  },
  {
   "cell_type": "code",
   "execution_count": null,
   "metadata": {},
   "outputs": [],
   "source": [
    "# create bigrams by source\n",
    "trigram_data <- as.data.frame(clean_sample) %>% \n",
    "    unnest_tokens(output = trigram, input = text, token = 'ngrams', n = 3) #%>%\n",
    "#    mutate(proportion = n / sum(n)) #%>%\n"
   ]
  },
  {
   "cell_type": "code",
   "execution_count": null,
   "metadata": {},
   "outputs": [],
   "source": [
    "trigram_cover_90 <- trigram_data %>%\n",
    "    count(c(\"trigram\",\"source\"))  %>%\n",
    "    mutate(proportion = freq / sum(freq)) %>%\n",
    "    arrange(desc(proportion)) %>%\n",
    "    mutate(coverage = cumsum(proportion)) %>%\n",
    "    filter(coverage <= 0.9) "
   ]
  },
  {
   "cell_type": "markdown",
   "metadata": {},
   "source": [
    "So that the number of bigrams to get 90% coverage of all bigrams are"
   ]
  },
  {
   "cell_type": "code",
   "execution_count": null,
   "metadata": {},
   "outputs": [],
   "source": [
    "nrow(trigram_cover_90)"
   ]
  },
  {
   "cell_type": "code",
   "execution_count": null,
   "metadata": {},
   "outputs": [],
   "source": [
    "head(trigram_cover_90, 20)"
   ]
  },
  {
   "cell_type": "code",
   "execution_count": null,
   "metadata": {},
   "outputs": [],
   "source": [
    "# plot top 20 frequences\n",
    "trigram_cover_90 %>%\n",
    "    top_n(20, proportion) %>%\n",
    "    mutate(trigram = reorder(trigram, proportion)) %>%\n",
    "    ggplot(aes(trigram, proportion)) + geom_col() + xlab(\"Proportion\") + ggtitle(\"Trigram: Top 20\") + coord_flip()"
   ]
  },
  {
   "cell_type": "markdown",
   "metadata": {},
   "source": [
    "## Week 2: Capstone Project: Task 3\n",
    "\n",
    "The goal here is to build your first simple model for the relationship between words. This is the first step in building a predictive text mining application. You will explore simple models and discover more complicated modeling techniques.\n",
    "\n",
    "**Tasks to accomplish**\n",
    "1. Build basic n-gram model - using the exploratory analysis you performed, build a basic n-gram model for predicting the next word based on the previous 1, 2, or 3 words.\n",
    "1. Build a model to handle unseen n-grams - in some cases people will want to type a combination of words that does not appear in the corpora. Build a model to handle cases where a particular n-gram isn't observed.\n",
    "\n",
    "**Questions to consider**\n",
    "1. How can you efficiently store an n-gram model (think Markov Chains)?\n",
    "1. How can you use the knowledge about word frequencies to make your model smaller and more efficient?\n",
    "1. How many parameters do you need (i.e. how big is n in your n-gram model)?\n",
    "1. Can you think of simple ways to \"smooth\" the probabilities (think about giving all n-grams a non-zero probability even if they aren't observed in the data) ?\n",
    "1. How do you evaluate whether your model is any good?\n",
    "1. How can you use backoff models to estimate the probability of unobserved n-grams?"
   ]
  }
 ],
 "metadata": {
  "kernelspec": {
   "display_name": "R",
   "language": "R",
   "name": "ir"
  },
  "language_info": {
   "codemirror_mode": "r",
   "file_extension": ".r",
   "mimetype": "text/x-r-source",
   "name": "R",
   "pygments_lexer": "r",
   "version": "4.0.2"
  }
 },
 "nbformat": 4,
 "nbformat_minor": 4
}
