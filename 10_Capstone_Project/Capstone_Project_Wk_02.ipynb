{
 "cells": [
  {
   "cell_type": "markdown",
   "metadata": {},
   "source": [
    "## Week 2: Capstone Project: Task 2\n",
    "\n",
    "**Tasks to accomplish**\n",
    "\n",
    "1. Exploratory analysis - perform a thorough exploratory analysis of the data, understanding the distribution of words and relationship between the words in the corpora.\n",
    "1. Understand frequencies of words and word pairs - build figures and tables to understand variation in the frequencies of words and word pairs in the data.\n",
    "\n",
    "**Questions to consider**\n",
    "\n",
    "1. **Some words are more frequent than others - what are the distributions of word frequencies?**\n",
    "1. **What are the frequencies of 2-grams and 3-grams in the dataset?**\n",
    "1. **How many unique words do you need in a frequency sorted dictionary to cover 50% of all word instances in the language? 90%?**\n",
    "1. How do you evaluate how many of the words come from foreign languages?\n",
    "1. Can you think of a way to increase the coverage -- identifying words that may not be in the corpora or using a smaller number of words in the dictionary to cover the same number of phrases?"
   ]
  },
  {
   "cell_type": "markdown",
   "metadata": {},
   "source": [
    "### 0. Environmet Settings"
   ]
  },
  {
   "cell_type": "code",
   "execution_count": 1,
   "metadata": {},
   "outputs": [
    {
     "name": "stderr",
     "output_type": "stream",
     "text": [
      "\n",
      "Attaching package: ‘dplyr’\n",
      "\n",
      "\n",
      "The following objects are masked from ‘package:stats’:\n",
      "\n",
      "    filter, lag\n",
      "\n",
      "\n",
      "The following objects are masked from ‘package:base’:\n",
      "\n",
      "    intersect, setdiff, setequal, union\n",
      "\n",
      "\n",
      "\n",
      "Attaching package: ‘igraph’\n",
      "\n",
      "\n",
      "The following objects are masked from ‘package:dplyr’:\n",
      "\n",
      "    as_data_frame, groups, union\n",
      "\n",
      "\n",
      "The following objects are masked from ‘package:stats’:\n",
      "\n",
      "    decompose, spectrum\n",
      "\n",
      "\n",
      "The following object is masked from ‘package:base’:\n",
      "\n",
      "    union\n",
      "\n",
      "\n",
      "\n",
      "Attaching package: ‘influenceR’\n",
      "\n",
      "\n",
      "The following objects are masked from ‘package:igraph’:\n",
      "\n",
      "    betweenness, constraint\n",
      "\n",
      "\n",
      "------------------------------------------------------------------------------\n",
      "\n",
      "You have loaded plyr after dplyr - this is likely to cause problems.\n",
      "If you need functions from both plyr and dplyr, please load plyr first, then dplyr:\n",
      "library(plyr); library(dplyr)\n",
      "\n",
      "------------------------------------------------------------------------------\n",
      "\n",
      "\n",
      "Attaching package: ‘plyr’\n",
      "\n",
      "\n",
      "The following objects are masked from ‘package:dplyr’:\n",
      "\n",
      "    arrange, count, desc, failwith, id, mutate, rename, summarise,\n",
      "    summarize\n",
      "\n",
      "\n",
      "\n",
      "Attaching package: ‘tidyr’\n",
      "\n",
      "\n",
      "The following object is masked from ‘package:igraph’:\n",
      "\n",
      "    crossing\n",
      "\n",
      "\n",
      "Loading required package: NLP\n",
      "\n",
      "\n",
      "Attaching package: ‘NLP’\n",
      "\n",
      "\n",
      "The following object is masked from ‘package:ggplot2’:\n",
      "\n",
      "    annotate\n",
      "\n",
      "\n",
      "\n",
      "Attaching package: ‘tm’\n",
      "\n",
      "\n",
      "The following object is masked from ‘package:stopwords’:\n",
      "\n",
      "    stopwords\n",
      "\n",
      "\n"
     ]
    }
   ],
   "source": [
    "library(data.tree)\n",
    "library(DiagrammeR)\n",
    "library(dplyr)\n",
    "library(ggplot2)\n",
    "library(igraph)\n",
    "library(influenceR)\n",
    "library(plyr)\n",
    "library(RColorBrewer)\n",
    "library(SnowballC)\n",
    "library(stopwords)\n",
    "library(stringi)\n",
    "library(stringr)\n",
    "library(tidyr)\n",
    "library(tidytext)\n",
    "library(tokenizers)\n",
    "library(tm)\n",
    "library(wordcloud)"
   ]
  },
  {
   "cell_type": "markdown",
   "metadata": {},
   "source": [
    "### 1. Preparation"
   ]
  },
  {
   "cell_type": "code",
   "execution_count": 2,
   "metadata": {},
   "outputs": [],
   "source": [
    "# file path for english data\n",
    "blogs_path <- \"~/Soft/Rtest/JHU_capstone_project_data/final/en_US/en_US.blogs.txt\"\n",
    "news_path <- \"~/Soft/Rtest/JHU_capstone_project_data/final/en_US/en_US.news.txt\"\n",
    "twitter_path <- \"~/Soft/Rtest/JHU_capstone_project_data/final/en_US/en_US.twitter.txt\"\n",
    "\n",
    "# load data\n",
    "blogs <- readLines(blogs_path, encoding = \"UTF-8\", skipNul = TRUE)\n",
    "news <- readLines(news_path, encoding = \"UTF-8\", skipNul = TRUE)\n",
    "twitter <- readLines(twitter_path, encoding = \"UTF-8\", skipNul = TRUE)\n",
    "\n",
    "# number of characters per line\n",
    "blogs_nchar <- nchar(blogs)\n",
    "news_nchar <- nchar(news)\n",
    "twitter_nchar <- nchar(twitter)"
   ]
  },
  {
   "cell_type": "code",
   "execution_count": 3,
   "metadata": {},
   "outputs": [],
   "source": [
    "# boxplot(\n",
    "#     blogs_nchar\n",
    "#     , news_nchar\n",
    "#     , twitter_nchar\n",
    "#     , log = \"y\"\n",
    "#     , names = c(\"blogs\", \"news\", \"twitter\")\n",
    "#     , ylab = \"log(Number of Characters)\"\n",
    "#     , xlab = \"Type\"\n",
    "#     , title = \"Distribution of Characters/Line\"\n",
    "# )"
   ]
  },
  {
   "cell_type": "code",
   "execution_count": 3,
   "metadata": {},
   "outputs": [],
   "source": [
    "# Read the data files into data frames\n",
    "blogs <- data.frame(text = blogs)\n",
    "news <- data.frame(text = news)\n",
    "twitter <- data.frame(text = twitter)"
   ]
  },
  {
   "cell_type": "code",
   "execution_count": 4,
   "metadata": {},
   "outputs": [],
   "source": [
    "# Sampling\n",
    "set.seed(1565)\n",
    "sample_pct <- 0.1\n",
    "\n",
    "blogs_sample <- blogs %>% sample_n(., nrow(blogs)*sample_pct)\n",
    "news_sample <- news %>% sample_n(., nrow(news)*sample_pct)\n",
    "twitter_sample <- twitter %>% sample_n(., nrow(twitter)*sample_pct)"
   ]
  },
  {
   "cell_type": "code",
   "execution_count": 5,
   "metadata": {},
   "outputs": [],
   "source": [
    "# Create aggregate sample\n",
    "agg_sample <- bind_rows(\n",
    "    mutate(blogs_sample, source = 'blogs')\n",
    "    , mutate(news_sample, source = 'news')\n",
    "    , mutate(twitter_sample, source = 'twitter')\n",
    ")\n",
    "# change agg_sample$source type: chr --> factor\n",
    "agg_sample$source <- factor(agg_sample$source)"
   ]
  },
  {
   "cell_type": "code",
   "execution_count": 6,
   "metadata": {},
   "outputs": [
    {
     "data": {
      "text/html": [
       "<table>\n",
       "<caption>A data.frame: 6 × 2</caption>\n",
       "<thead>\n",
       "\t<tr><th></th><th scope=col>text</th><th scope=col>source</th></tr>\n",
       "\t<tr><th></th><th scope=col>&lt;chr&gt;</th><th scope=col>&lt;fct&gt;</th></tr>\n",
       "</thead>\n",
       "<tbody>\n",
       "\t<tr><th scope=row>1</th><td>The surprising thing is, the majority of these people are wearing suits, and are what seem to be highly educated people. But it seems as though they switch their brain off when using the public transport system.                                                                                                                                                                                                                                                                                                                                                     </td><td>blogs</td></tr>\n",
       "\t<tr><th scope=row>2</th><td>Let’s face it, archery has always been awesome. For centuries, it was one of the best methods for getting food. Can’t run down a deer? Fine, just shoot it with your trusty bow instead. You needed to know how to hunt if you wanted to survive. Then there was archery in warfare. That enemy with the sword can’t get you if you shoot him first. Unless, he’s heavily armored. Although, for the record, a tossed battle axe pawns a bow and arrow any day. Of course, if you threw your battle axe in the middle of a battle, you would also be out of luck.       </td><td>blogs</td></tr>\n",
       "\t<tr><th scope=row>3</th><td>“I do.” I say flatly.                                                                                                                                                                                                                                                                                                                                                                                                                                                                                                                                                   </td><td>blogs</td></tr>\n",
       "\t<tr><th scope=row>4</th><td>Here is a craft I make with my students using a toilet paper roll:                                                                                                                                                                                                                                                                                                                                                                                                                                                                                                      </td><td>blogs</td></tr>\n",
       "\t<tr><th scope=row>5</th><td>1. Carpool, walk, or ride the bus to school or work. If you live within a couple of blocks from school or work, there’s no reason why you should be driving or riding there. You’re inside over eight hours a day, so why not enjoy the morning and afternoon walks as a way to prepare/ decompress for the day? If you live further away, it’s more eco-friendly to hitch a ride with friends or to take the big yellow school bus. You wouldn’t want to deprive your kids of school bus memories, would you? Plus, it might make your afternoons a bit less stressful.</td><td>blogs</td></tr>\n",
       "\t<tr><th scope=row>6</th><td>Something needs to be worked out of you. Thirty is a watershed. You should be happy but aren’t. You need to clear your head.                                                                                                                                                                                                                                                                                                                                                                                                                                            </td><td>blogs</td></tr>\n",
       "</tbody>\n",
       "</table>\n"
      ],
      "text/latex": [
       "A data.frame: 6 × 2\n",
       "\\begin{tabular}{r|ll}\n",
       "  & text & source\\\\\n",
       "  & <chr> & <fct>\\\\\n",
       "\\hline\n",
       "\t1 & The surprising thing is, the majority of these people are wearing suits, and are what seem to be highly educated people. But it seems as though they switch their brain off when using the public transport system.                                                                                                                                                                                                                                                                                                                                                      & blogs\\\\\n",
       "\t2 & Let’s face it, archery has always been awesome. For centuries, it was one of the best methods for getting food. Can’t run down a deer? Fine, just shoot it with your trusty bow instead. You needed to know how to hunt if you wanted to survive. Then there was archery in warfare. That enemy with the sword can’t get you if you shoot him first. Unless, he’s heavily armored. Although, for the record, a tossed battle axe pawns a bow and arrow any day. Of course, if you threw your battle axe in the middle of a battle, you would also be out of luck.        & blogs\\\\\n",
       "\t3 & “I do.” I say flatly.                                                                                                                                                                                                                                                                                                                                                                                                                                                                                                                                                    & blogs\\\\\n",
       "\t4 & Here is a craft I make with my students using a toilet paper roll:                                                                                                                                                                                                                                                                                                                                                                                                                                                                                                       & blogs\\\\\n",
       "\t5 & 1. Carpool, walk, or ride the bus to school or work. If you live within a couple of blocks from school or work, there’s no reason why you should be driving or riding there. You’re inside over eight hours a day, so why not enjoy the morning and afternoon walks as a way to prepare/ decompress for the day? If you live further away, it’s more eco-friendly to hitch a ride with friends or to take the big yellow school bus. You wouldn’t want to deprive your kids of school bus memories, would you? Plus, it might make your afternoons a bit less stressful. & blogs\\\\\n",
       "\t6 & Something needs to be worked out of you. Thirty is a watershed. You should be happy but aren’t. You need to clear your head.                                                                                                                                                                                                                                                                                                                                                                                                                                             & blogs\\\\\n",
       "\\end{tabular}\n"
      ],
      "text/markdown": [
       "\n",
       "A data.frame: 6 × 2\n",
       "\n",
       "| <!--/--> | text &lt;chr&gt; | source &lt;fct&gt; |\n",
       "|---|---|---|\n",
       "| 1 | The surprising thing is, the majority of these people are wearing suits, and are what seem to be highly educated people. But it seems as though they switch their brain off when using the public transport system.                                                                                                                                                                                                                                                                                                                                                      | blogs |\n",
       "| 2 | Let’s face it, archery has always been awesome. For centuries, it was one of the best methods for getting food. Can’t run down a deer? Fine, just shoot it with your trusty bow instead. You needed to know how to hunt if you wanted to survive. Then there was archery in warfare. That enemy with the sword can’t get you if you shoot him first. Unless, he’s heavily armored. Although, for the record, a tossed battle axe pawns a bow and arrow any day. Of course, if you threw your battle axe in the middle of a battle, you would also be out of luck.        | blogs |\n",
       "| 3 | “I do.” I say flatly.                                                                                                                                                                                                                                                                                                                                                                                                                                                                                                                                                    | blogs |\n",
       "| 4 | Here is a craft I make with my students using a toilet paper roll:                                                                                                                                                                                                                                                                                                                                                                                                                                                                                                       | blogs |\n",
       "| 5 | 1. Carpool, walk, or ride the bus to school or work. If you live within a couple of blocks from school or work, there’s no reason why you should be driving or riding there. You’re inside over eight hours a day, so why not enjoy the morning and afternoon walks as a way to prepare/ decompress for the day? If you live further away, it’s more eco-friendly to hitch a ride with friends or to take the big yellow school bus. You wouldn’t want to deprive your kids of school bus memories, would you? Plus, it might make your afternoons a bit less stressful. | blogs |\n",
       "| 6 | Something needs to be worked out of you. Thirty is a watershed. You should be happy but aren’t. You need to clear your head.                                                                                                                                                                                                                                                                                                                                                                                                                                             | blogs |\n",
       "\n"
      ],
      "text/plain": [
       "  text                                                                                                                                                                                                                                                                                                                                                                                                                                                                                                                                                                    \n",
       "1 The surprising thing is, the majority of these people are wearing suits, and are what seem to be highly educated people. But it seems as though they switch their brain off when using the public transport system.                                                                                                                                                                                                                                                                                                                                                     \n",
       "2 Let’s face it, archery has always been awesome. For centuries, it was one of the best methods for getting food. Can’t run down a deer? Fine, just shoot it with your trusty bow instead. You needed to know how to hunt if you wanted to survive. Then there was archery in warfare. That enemy with the sword can’t get you if you shoot him first. Unless, he’s heavily armored. Although, for the record, a tossed battle axe pawns a bow and arrow any day. Of course, if you threw your battle axe in the middle of a battle, you would also be out of luck.       \n",
       "3 “I do.” I say flatly.                                                                                                                                                                                                                                                                                                                                                                                                                                                                                                                                                   \n",
       "4 Here is a craft I make with my students using a toilet paper roll:                                                                                                                                                                                                                                                                                                                                                                                                                                                                                                      \n",
       "5 1. Carpool, walk, or ride the bus to school or work. If you live within a couple of blocks from school or work, there’s no reason why you should be driving or riding there. You’re inside over eight hours a day, so why not enjoy the morning and afternoon walks as a way to prepare/ decompress for the day? If you live further away, it’s more eco-friendly to hitch a ride with friends or to take the big yellow school bus. You wouldn’t want to deprive your kids of school bus memories, would you? Plus, it might make your afternoons a bit less stressful.\n",
       "6 Something needs to be worked out of you. Thirty is a watershed. You should be happy but aren’t. You need to clear your head.                                                                                                                                                                                                                                                                                                                                                                                                                                            \n",
       "  source\n",
       "1 blogs \n",
       "2 blogs \n",
       "3 blogs \n",
       "4 blogs \n",
       "5 blogs \n",
       "6 blogs "
      ]
     },
     "metadata": {},
     "output_type": "display_data"
    }
   ],
   "source": [
    "head(agg_sample)"
   ]
  },
  {
   "cell_type": "code",
   "execution_count": 7,
   "metadata": {},
   "outputs": [],
   "source": [
    "# Create filters: non-alphanumeric's, url's, repeated letters\n",
    "replace_reg <- \"[^[:alpha:][:space:]]*\"\n",
    "replace_url <- \"http[^[:space:]]*\"\n",
    "replace_aaa <- \"\\\\b(?=\\\\w*(\\\\w)\\\\1)\\\\w+\\\\b\"  \n",
    "\n",
    "# Clean sample\n",
    "clean_sample <- agg_sample %>%\n",
    "    mutate(text = str_replace_all(text, replace_reg, \"\")) %>%\n",
    "    mutate(text = str_replace_all(text, replace_url, \"\")) %>%\n",
    "    mutate(text = str_replace_all(text, replace_aaa, \"\")) #%>%\n",
    "#    mutate(text = iconv(text, \"ASCII//TRANSLIT\"))"
   ]
  },
  {
   "cell_type": "code",
   "execution_count": 8,
   "metadata": {},
   "outputs": [],
   "source": [
    "rm(blogs\n",
    "   , blogs_nchar\n",
    "   , news\n",
    "   , news_nchar\n",
    "   , twitter\n",
    "   , twitter_nchar\n",
    "   , replace_reg\n",
    "   , replace_url\n",
    "   , replace_aaa\n",
    "  )"
   ]
  },
  {
   "cell_type": "code",
   "execution_count": 9,
   "metadata": {},
   "outputs": [],
   "source": [
    "# stop words and swear words\n",
    "data(\"stop_words\")\n",
    "swear_words <- read.csv(\"/home/yanyuan/Soft/swear-words/en\")\n",
    "swear_words <- unnest_tokens(swear_words, word, X2g1c)\n",
    "\n",
    "# clean for stop and swear words\n",
    "tidy_data <- clean_sample %>%\n",
    "    unnest_tokens(word, text) %>%\n",
    "     anti_join(swear_words) %>%\n",
    "     anti_join(stop_words)"
   ]
  },
  {
   "cell_type": "code",
   "execution_count": 10,
   "metadata": {},
   "outputs": [
    {
     "name": "stderr",
     "output_type": "stream",
     "text": [
      "Joining, by = \"word\"\n",
      "\n",
      "Joining, by = \"word\"\n",
      "\n"
     ]
    }
   ],
   "source": []
  },
  {
   "cell_type": "code",
   "execution_count": 11,
   "metadata": {},
   "outputs": [
    {
     "data": {
      "text/html": [
       "<table>\n",
       "<caption>A data.frame: 6 × 2</caption>\n",
       "<thead>\n",
       "\t<tr><th></th><th scope=col>source</th><th scope=col>word</th></tr>\n",
       "\t<tr><th></th><th scope=col>&lt;fct&gt;</th><th scope=col>&lt;chr&gt;</th></tr>\n",
       "</thead>\n",
       "<tbody>\n",
       "\t<tr><th scope=row>1.1</th><td>blogs</td><td>surprising</td></tr>\n",
       "\t<tr><th scope=row>1.5</th><td>blogs</td><td>majority  </td></tr>\n",
       "\t<tr><th scope=row>1.8</th><td>blogs</td><td>people    </td></tr>\n",
       "\t<tr><th scope=row>1.10</th><td>blogs</td><td>wearing   </td></tr>\n",
       "\t<tr><th scope=row>1.11</th><td>blogs</td><td>suits     </td></tr>\n",
       "\t<tr><th scope=row>1.17</th><td>blogs</td><td>highly    </td></tr>\n",
       "</tbody>\n",
       "</table>\n"
      ],
      "text/latex": [
       "A data.frame: 6 × 2\n",
       "\\begin{tabular}{r|ll}\n",
       "  & source & word\\\\\n",
       "  & <fct> & <chr>\\\\\n",
       "\\hline\n",
       "\t1.1 & blogs & surprising\\\\\n",
       "\t1.5 & blogs & majority  \\\\\n",
       "\t1.8 & blogs & people    \\\\\n",
       "\t1.10 & blogs & wearing   \\\\\n",
       "\t1.11 & blogs & suits     \\\\\n",
       "\t1.17 & blogs & highly    \\\\\n",
       "\\end{tabular}\n"
      ],
      "text/markdown": [
       "\n",
       "A data.frame: 6 × 2\n",
       "\n",
       "| <!--/--> | source &lt;fct&gt; | word &lt;chr&gt; |\n",
       "|---|---|---|\n",
       "| 1.1 | blogs | surprising |\n",
       "| 1.5 | blogs | majority   |\n",
       "| 1.8 | blogs | people     |\n",
       "| 1.10 | blogs | wearing    |\n",
       "| 1.11 | blogs | suits      |\n",
       "| 1.17 | blogs | highly     |\n",
       "\n"
      ],
      "text/plain": [
       "     source word      \n",
       "1.1  blogs  surprising\n",
       "1.5  blogs  majority  \n",
       "1.8  blogs  people    \n",
       "1.10 blogs  wearing   \n",
       "1.11 blogs  suits     \n",
       "1.17 blogs  highly    "
      ]
     },
     "metadata": {},
     "output_type": "display_data"
    }
   ],
   "source": [
    "head(tidy_data)"
   ]
  },
  {
   "cell_type": "markdown",
   "metadata": {},
   "source": [
    "### 2. Word Frequencies\n",
    "\n",
    "Some words are more frequent than others - what are the distributions of word frequencies? "
   ]
  },
  {
   "cell_type": "code",
   "execution_count": 12,
   "metadata": {},
   "outputs": [
    {
     "data": {
      "text/html": [
       "<table>\n",
       "<caption>A data.frame: 1 × 1</caption>\n",
       "<thead>\n",
       "\t<tr><th scope=col>keys</th></tr>\n",
       "\t<tr><th scope=col>&lt;int&gt;</th></tr>\n",
       "</thead>\n",
       "<tbody>\n",
       "\t<tr><td>159836</td></tr>\n",
       "</tbody>\n",
       "</table>\n"
      ],
      "text/latex": [
       "A data.frame: 1 × 1\n",
       "\\begin{tabular}{l}\n",
       " keys\\\\\n",
       " <int>\\\\\n",
       "\\hline\n",
       "\t 159836\\\\\n",
       "\\end{tabular}\n"
      ],
      "text/markdown": [
       "\n",
       "A data.frame: 1 × 1\n",
       "\n",
       "| keys &lt;int&gt; |\n",
       "|---|\n",
       "| 159836 |\n",
       "\n"
      ],
      "text/plain": [
       "  keys  \n",
       "1 159836"
      ]
     },
     "metadata": {},
     "output_type": "display_data"
    }
   ],
   "source": [
    "data_count <- tidy_data %>% summarise(keys = n_distinct(word))\n",
    "data_count"
   ]
  },
  {
   "cell_type": "code",
   "execution_count": 13,
   "metadata": {},
   "outputs": [],
   "source": [
    "word_freq <- count(tidy_data, vars = \"word\") %>%\n",
    "mutate(proportion = freq / sum(freq)) %>%\n",
    "arrange(desc(proportion))"
   ]
  },
  {
   "cell_type": "code",
   "execution_count": 14,
   "metadata": {},
   "outputs": [
    {
     "data": {
      "text/html": [
       "<table>\n",
       "<caption>A data.frame: 10 × 3</caption>\n",
       "<thead>\n",
       "\t<tr><th></th><th scope=col>word</th><th scope=col>freq</th><th scope=col>proportion</th></tr>\n",
       "\t<tr><th></th><th scope=col>&lt;chr&gt;</th><th scope=col>&lt;int&gt;</th><th scope=col>&lt;dbl&gt;</th></tr>\n",
       "</thead>\n",
       "<tbody>\n",
       "\t<tr><th scope=row>1</th><td>im    </td><td>24515</td><td>0.007367132</td></tr>\n",
       "\t<tr><th scope=row>2</th><td>time  </td><td>21417</td><td>0.006436135</td></tr>\n",
       "\t<tr><th scope=row>3</th><td>dont  </td><td>17721</td><td>0.005325431</td></tr>\n",
       "\t<tr><th scope=row>4</th><td>day   </td><td>16846</td><td>0.005062480</td></tr>\n",
       "\t<tr><th scope=row>5</th><td>people</td><td>15887</td><td>0.004774286</td></tr>\n",
       "\t<tr><th scope=row>6</th><td>life  </td><td> 8922</td><td>0.002681197</td></tr>\n",
       "\t<tr><th scope=row>7</th><td>rt    </td><td> 8755</td><td>0.002631011</td></tr>\n",
       "\t<tr><th scope=row>8</th><td>home  </td><td> 8089</td><td>0.002430868</td></tr>\n",
       "\t<tr><th scope=row>9</th><td>night </td><td> 7442</td><td>0.002236435</td></tr>\n",
       "\t<tr><th scope=row>10</th><td>lol   </td><td> 7125</td><td>0.002141171</td></tr>\n",
       "</tbody>\n",
       "</table>\n"
      ],
      "text/latex": [
       "A data.frame: 10 × 3\n",
       "\\begin{tabular}{r|lll}\n",
       "  & word & freq & proportion\\\\\n",
       "  & <chr> & <int> & <dbl>\\\\\n",
       "\\hline\n",
       "\t1 & im     & 24515 & 0.007367132\\\\\n",
       "\t2 & time   & 21417 & 0.006436135\\\\\n",
       "\t3 & dont   & 17721 & 0.005325431\\\\\n",
       "\t4 & day    & 16846 & 0.005062480\\\\\n",
       "\t5 & people & 15887 & 0.004774286\\\\\n",
       "\t6 & life   &  8922 & 0.002681197\\\\\n",
       "\t7 & rt     &  8755 & 0.002631011\\\\\n",
       "\t8 & home   &  8089 & 0.002430868\\\\\n",
       "\t9 & night  &  7442 & 0.002236435\\\\\n",
       "\t10 & lol    &  7125 & 0.002141171\\\\\n",
       "\\end{tabular}\n"
      ],
      "text/markdown": [
       "\n",
       "A data.frame: 10 × 3\n",
       "\n",
       "| <!--/--> | word &lt;chr&gt; | freq &lt;int&gt; | proportion &lt;dbl&gt; |\n",
       "|---|---|---|---|\n",
       "| 1 | im     | 24515 | 0.007367132 |\n",
       "| 2 | time   | 21417 | 0.006436135 |\n",
       "| 3 | dont   | 17721 | 0.005325431 |\n",
       "| 4 | day    | 16846 | 0.005062480 |\n",
       "| 5 | people | 15887 | 0.004774286 |\n",
       "| 6 | life   |  8922 | 0.002681197 |\n",
       "| 7 | rt     |  8755 | 0.002631011 |\n",
       "| 8 | home   |  8089 | 0.002430868 |\n",
       "| 9 | night  |  7442 | 0.002236435 |\n",
       "| 10 | lol    |  7125 | 0.002141171 |\n",
       "\n"
      ],
      "text/plain": [
       "   word   freq  proportion \n",
       "1  im     24515 0.007367132\n",
       "2  time   21417 0.006436135\n",
       "3  dont   17721 0.005325431\n",
       "4  day    16846 0.005062480\n",
       "5  people 15887 0.004774286\n",
       "6  life    8922 0.002681197\n",
       "7  rt      8755 0.002631011\n",
       "8  home    8089 0.002430868\n",
       "9  night   7442 0.002236435\n",
       "10 lol     7125 0.002141171"
      ]
     },
     "metadata": {},
     "output_type": "display_data"
    }
   ],
   "source": [
    "head(word_freq, 10)"
   ]
  },
  {
   "cell_type": "markdown",
   "metadata": {},
   "source": [
    "So that the top 10 words with highest frequencies are : `im`, `time`, `dont`, `day`, `people`, `life`, `rt`, `home`, `night`, `lol`. We can show that in a plot"
   ]
  },
  {
   "cell_type": "code",
   "execution_count": 15,
   "metadata": {},
   "outputs": [
    {
     "data": {
      "image/png": "[encoded data removed]",
      "text/plain": [
       "plot without title"
      ]
     },
     "metadata": {
      "image/png": {
       "height": 420,
       "width": 420
      }
     },
     "output_type": "display_data"
    }
   ],
   "source": [
    "word_freq %>%\n",
    "    top_n(20, proportion) %>%\n",
    "    mutate(word = reorder(word, proportion)) %>%\n",
    "    ggplot(aes(word, proportion)) + geom_col(col = \"red\", fill = \"darkgrey\") + labs(title = \"Word Frequences in en_US Data\") + xlab(\"Proportions\") + coord_flip()"
   ]
  },
  {
   "cell_type": "code",
   "execution_count": 55,
   "metadata": {},
   "outputs": [
    {
     "data": {
      "text/html": [
       "<strong>png:</strong> 2"
      ],
      "text/latex": [
       "\\textbf{png:} 2"
      ],
      "text/markdown": [
       "**png:** 2"
      ],
      "text/plain": [
       "png \n",
       "  2 "
      ]
     },
     "metadata": {},
     "output_type": "display_data"
    }
   ],
   "source": [
    "png(file = \"data/uni-gram.png\")\n",
    "word_freq %>%\n",
    "    top_n(20, proportion) %>%\n",
    "    mutate(word = reorder(word, proportion)) %>%\n",
    "    ggplot(aes(word, proportion)) + geom_col(col = \"red\", fill = \"darkgrey\") + labs(title = \"Word Frequences in en_US Data\") + xlab(\"Proportions\") + coord_flip()\n",
    "dev.off()"
   ]
  },
  {
   "cell_type": "markdown",
   "metadata": {},
   "source": [
    "Furthermore, we plot word distribution by sources"
   ]
  },
  {
   "cell_type": "code",
   "execution_count": 16,
   "metadata": {},
   "outputs": [
    {
     "data": {
      "text/html": [
       "<table>\n",
       "<caption>A data.frame: 6 × 2</caption>\n",
       "<thead>\n",
       "\t<tr><th></th><th scope=col>source</th><th scope=col>word</th></tr>\n",
       "\t<tr><th></th><th scope=col>&lt;fct&gt;</th><th scope=col>&lt;chr&gt;</th></tr>\n",
       "</thead>\n",
       "<tbody>\n",
       "\t<tr><th scope=row>1.1</th><td>blogs</td><td>surprising</td></tr>\n",
       "\t<tr><th scope=row>1.5</th><td>blogs</td><td>majority  </td></tr>\n",
       "\t<tr><th scope=row>1.8</th><td>blogs</td><td>people    </td></tr>\n",
       "\t<tr><th scope=row>1.10</th><td>blogs</td><td>wearing   </td></tr>\n",
       "\t<tr><th scope=row>1.11</th><td>blogs</td><td>suits     </td></tr>\n",
       "\t<tr><th scope=row>1.17</th><td>blogs</td><td>highly    </td></tr>\n",
       "</tbody>\n",
       "</table>\n"
      ],
      "text/latex": [
       "A data.frame: 6 × 2\n",
       "\\begin{tabular}{r|ll}\n",
       "  & source & word\\\\\n",
       "  & <fct> & <chr>\\\\\n",
       "\\hline\n",
       "\t1.1 & blogs & surprising\\\\\n",
       "\t1.5 & blogs & majority  \\\\\n",
       "\t1.8 & blogs & people    \\\\\n",
       "\t1.10 & blogs & wearing   \\\\\n",
       "\t1.11 & blogs & suits     \\\\\n",
       "\t1.17 & blogs & highly    \\\\\n",
       "\\end{tabular}\n"
      ],
      "text/markdown": [
       "\n",
       "A data.frame: 6 × 2\n",
       "\n",
       "| <!--/--> | source &lt;fct&gt; | word &lt;chr&gt; |\n",
       "|---|---|---|\n",
       "| 1.1 | blogs | surprising |\n",
       "| 1.5 | blogs | majority   |\n",
       "| 1.8 | blogs | people     |\n",
       "| 1.10 | blogs | wearing    |\n",
       "| 1.11 | blogs | suits      |\n",
       "| 1.17 | blogs | highly     |\n",
       "\n"
      ],
      "text/plain": [
       "     source word      \n",
       "1.1  blogs  surprising\n",
       "1.5  blogs  majority  \n",
       "1.8  blogs  people    \n",
       "1.10 blogs  wearing   \n",
       "1.11 blogs  suits     \n",
       "1.17 blogs  highly    "
      ]
     },
     "metadata": {},
     "output_type": "display_data"
    }
   ],
   "source": [
    "head(tidy_data)"
   ]
  },
  {
   "cell_type": "code",
   "execution_count": 17,
   "metadata": {},
   "outputs": [],
   "source": [
    "word_freq_source <- count(tidy_data, vars = c(\"word\", \"source\")) %>%\n",
    "    group_by(source) %>%\n",
    "    mutate(proportion = freq / sum(freq)) %>%\n",
    "    spread(source, proportion) %>%\n",
    "    gather(source, proportion, `blogs`:`twitter`) %>%\n",
    "    arrange(desc(proportion), desc(freq)) %>%\n",
    "    filter(proportion > 0.0005) %>%\n",
    "    mutate(word = reorder(word, proportion))"
   ]
  },
  {
   "cell_type": "code",
   "execution_count": null,
   "metadata": {},
   "outputs": [],
   "source": [
    "g <- NULL\n",
    "g <- ggplot(data = word_freq_source, aes(word, proportion))\n",
    "g <- g + geom_col(col = \"blue\", fill = \"darkgrey\")\n",
    "g <- g + coord_flip()\n",
    "g <- g + facet_grid(~source, scales = \"free\")\n",
    "g"
   ]
  },
  {
   "cell_type": "code",
   "execution_count": 56,
   "metadata": {},
   "outputs": [
    {
     "data": {
      "text/html": [
       "<strong>png:</strong> 2"
      ],
      "text/latex": [
       "\\textbf{png:} 2"
      ],
      "text/markdown": [
       "**png:** 2"
      ],
      "text/plain": [
       "png \n",
       "  2 "
      ]
     },
     "metadata": {},
     "output_type": "display_data"
    }
   ],
   "source": [
    "png(file = \"data/uni-gram-source.png\")\n",
    "g <- NULL\n",
    "g <- ggplot(data = word_freq_source, aes(word, proportion))\n",
    "g <- g + geom_col(col = \"blue\", fill = \"darkgrey\")\n",
    "g <- g + coord_flip()\n",
    "g <- g + facet_grid(~source, scales = \"free\")\n",
    "g\n",
    "dev.off()"
   ]
  },
  {
   "cell_type": "markdown",
   "metadata": {},
   "source": [
    "### 3. Word Coverage\n",
    "\n",
    "How many unique words do you need in a frequency sorted dictionary to cover 50% of all word instances in the language? 90%? "
   ]
  },
  {
   "cell_type": "code",
   "execution_count": 19,
   "metadata": {},
   "outputs": [
    {
     "data": {
      "text/html": [
       "1316"
      ],
      "text/latex": [
       "1316"
      ],
      "text/markdown": [
       "1316"
      ],
      "text/plain": [
       "[1] 1316"
      ]
     },
     "metadata": {},
     "output_type": "display_data"
    }
   ],
   "source": [
    "cover_50 <- count(tidy_data, vars = \"word\") %>%\n",
    "mutate(proportion = freq / sum(freq)) %>%\n",
    "arrange(desc(proportion)) %>%\n",
    "mutate(coverage = cumsum(proportion)) %>%\n",
    "filter(coverage <= 0.5)\n",
    "\n",
    "nrow(cover_50)"
   ]
  },
  {
   "cell_type": "code",
   "execution_count": 20,
   "metadata": {},
   "outputs": [
    {
     "data": {
      "text/html": [
       "17761"
      ],
      "text/latex": [
       "17761"
      ],
      "text/markdown": [
       "17761"
      ],
      "text/plain": [
       "[1] 17761"
      ]
     },
     "metadata": {},
     "output_type": "display_data"
    }
   ],
   "source": [
    "cover_90 <- count(tidy_data, vars = \"word\") %>%\n",
    "mutate(proportion = freq / sum(freq)) %>%\n",
    "arrange(desc(proportion)) %>%\n",
    "mutate(coverage = cumsum(proportion)) %>%\n",
    "filter(coverage <= 0.9)\n",
    "\n",
    "nrow(cover_90)"
   ]
  },
  {
   "cell_type": "code",
   "execution_count": 35,
   "metadata": {},
   "outputs": [
    {
     "data": {
      "text/html": [
       "<table>\n",
       "<caption>A data.frame: 6 × 4</caption>\n",
       "<thead>\n",
       "\t<tr><th></th><th scope=col>word</th><th scope=col>freq</th><th scope=col>proportion</th><th scope=col>coverage</th></tr>\n",
       "\t<tr><th></th><th scope=col>&lt;chr&gt;</th><th scope=col>&lt;int&gt;</th><th scope=col>&lt;dbl&gt;</th><th scope=col>&lt;dbl&gt;</th></tr>\n",
       "</thead>\n",
       "<tbody>\n",
       "\t<tr><th scope=row>1</th><td>im    </td><td>24515</td><td>0.007367132</td><td>0.007367132</td></tr>\n",
       "\t<tr><th scope=row>2</th><td>time  </td><td>21417</td><td>0.006436135</td><td>0.013803267</td></tr>\n",
       "\t<tr><th scope=row>3</th><td>dont  </td><td>17721</td><td>0.005325431</td><td>0.019128698</td></tr>\n",
       "\t<tr><th scope=row>4</th><td>day   </td><td>16846</td><td>0.005062480</td><td>0.024191178</td></tr>\n",
       "\t<tr><th scope=row>5</th><td>people</td><td>15887</td><td>0.004774286</td><td>0.028965464</td></tr>\n",
       "\t<tr><th scope=row>6</th><td>life  </td><td> 8922</td><td>0.002681197</td><td>0.031646661</td></tr>\n",
       "</tbody>\n",
       "</table>\n"
      ],
      "text/latex": [
       "A data.frame: 6 × 4\n",
       "\\begin{tabular}{r|llll}\n",
       "  & word & freq & proportion & coverage\\\\\n",
       "  & <chr> & <int> & <dbl> & <dbl>\\\\\n",
       "\\hline\n",
       "\t1 & im     & 24515 & 0.007367132 & 0.007367132\\\\\n",
       "\t2 & time   & 21417 & 0.006436135 & 0.013803267\\\\\n",
       "\t3 & dont   & 17721 & 0.005325431 & 0.019128698\\\\\n",
       "\t4 & day    & 16846 & 0.005062480 & 0.024191178\\\\\n",
       "\t5 & people & 15887 & 0.004774286 & 0.028965464\\\\\n",
       "\t6 & life   &  8922 & 0.002681197 & 0.031646661\\\\\n",
       "\\end{tabular}\n"
      ],
      "text/markdown": [
       "\n",
       "A data.frame: 6 × 4\n",
       "\n",
       "| <!--/--> | word &lt;chr&gt; | freq &lt;int&gt; | proportion &lt;dbl&gt; | coverage &lt;dbl&gt; |\n",
       "|---|---|---|---|---|\n",
       "| 1 | im     | 24515 | 0.007367132 | 0.007367132 |\n",
       "| 2 | time   | 21417 | 0.006436135 | 0.013803267 |\n",
       "| 3 | dont   | 17721 | 0.005325431 | 0.019128698 |\n",
       "| 4 | day    | 16846 | 0.005062480 | 0.024191178 |\n",
       "| 5 | people | 15887 | 0.004774286 | 0.028965464 |\n",
       "| 6 | life   |  8922 | 0.002681197 | 0.031646661 |\n",
       "\n"
      ],
      "text/plain": [
       "  word   freq  proportion  coverage   \n",
       "1 im     24515 0.007367132 0.007367132\n",
       "2 time   21417 0.006436135 0.013803267\n",
       "3 dont   17721 0.005325431 0.019128698\n",
       "4 day    16846 0.005062480 0.024191178\n",
       "5 people 15887 0.004774286 0.028965464\n",
       "6 life    8922 0.002681197 0.031646661"
      ]
     },
     "metadata": {},
     "output_type": "display_data"
    }
   ],
   "source": [
    "head(cover_90)"
   ]
  },
  {
   "cell_type": "code",
   "execution_count": 52,
   "metadata": {},
   "outputs": [
    {
     "data": {
      "text/html": [
       "<strong>png:</strong> 2"
      ],
      "text/latex": [
       "\\textbf{png:} 2"
      ],
      "text/markdown": [
       "**png:** 2"
      ],
      "text/plain": [
       "png \n",
       "  2 "
      ]
     },
     "metadata": {},
     "output_type": "display_data"
    }
   ],
   "source": [
    "# word cloud\n",
    "png(file=\"data/word_cloud.png\")\n",
    "cover_90 %>% \n",
    "    with(wordcloud(word, freq , max.words = 500\n",
    "                    , colors = brewer.pal(6, \"Dark2\")\n",
    "                    , random.order = FALSE))\n",
    "dev.off()"
   ]
  },
  {
   "cell_type": "code",
   "execution_count": 37,
   "metadata": {},
   "outputs": [],
   "source": [
    "saveRDS(cover_90, file = \"data/cover_90.RDS\")"
   ]
  },
  {
   "cell_type": "markdown",
   "metadata": {},
   "source": [
    "So that the number of words a dictionary needs to cover frequent words are:\n",
    "- 1305 words, to cover 50% of all\n",
    "- 17470 words, to cover 90% of all"
   ]
  },
  {
   "cell_type": "markdown",
   "metadata": {},
   "source": [
    "### 4. Frequencies of Bigrams"
   ]
  },
  {
   "cell_type": "code",
   "execution_count": 21,
   "metadata": {},
   "outputs": [],
   "source": [
    "# create bigrams by source\n",
    "bigram_data <- as.data.frame(clean_sample) %>% \n",
    "    unnest_tokens(output = bigram, input = text, token = 'ngrams', n = 2) #%>%\n",
    "#    mutate(proportion = n / sum(n)) #%>%"
   ]
  },
  {
   "cell_type": "code",
   "execution_count": 22,
   "metadata": {},
   "outputs": [],
   "source": [
    "bigram_cover_90 <- bigram_data %>%\n",
    "    count(c(\"bigram\",\"source\"))  %>%\n",
    "    mutate(proportion = freq / sum(freq)) %>%\n",
    "    arrange(desc(proportion)) %>%\n",
    "    mutate(coverage = cumsum(proportion)) %>%\n",
    "    filter(coverage <= 0.9)"
   ]
  },
  {
   "cell_type": "code",
   "execution_count": 23,
   "metadata": {},
   "outputs": [
    {
     "data": {
      "text/html": [
       "<table>\n",
       "<caption>A data.frame: 6 × 5</caption>\n",
       "<thead>\n",
       "\t<tr><th></th><th scope=col>bigram</th><th scope=col>source</th><th scope=col>freq</th><th scope=col>proportion</th><th scope=col>coverage</th></tr>\n",
       "\t<tr><th></th><th scope=col>&lt;chr&gt;</th><th scope=col>&lt;fct&gt;</th><th scope=col>&lt;int&gt;</th><th scope=col>&lt;dbl&gt;</th><th scope=col>&lt;dbl&gt;</th></tr>\n",
       "</thead>\n",
       "<tbody>\n",
       "\t<tr><th scope=row>1</th><td>of the</td><td>blogs</td><td>19104</td><td>0.002138569</td><td>0.002138569</td></tr>\n",
       "\t<tr><th scope=row>2</th><td>of the</td><td>news </td><td>19100</td><td>0.002138121</td><td>0.004276690</td></tr>\n",
       "\t<tr><th scope=row>3</th><td>in the</td><td>news </td><td>18265</td><td>0.002044648</td><td>0.006321338</td></tr>\n",
       "\t<tr><th scope=row>4</th><td>in the</td><td>blogs</td><td>15620</td><td>0.001748558</td><td>0.008069896</td></tr>\n",
       "\t<tr><th scope=row>5</th><td>to the</td><td>news </td><td>10076</td><td>0.001127943</td><td>0.009197839</td></tr>\n",
       "\t<tr><th scope=row>6</th><td>to the</td><td>blogs</td><td> 9833</td><td>0.001100741</td><td>0.010298579</td></tr>\n",
       "</tbody>\n",
       "</table>\n"
      ],
      "text/latex": [
       "A data.frame: 6 × 5\n",
       "\\begin{tabular}{r|lllll}\n",
       "  & bigram & source & freq & proportion & coverage\\\\\n",
       "  & <chr> & <fct> & <int> & <dbl> & <dbl>\\\\\n",
       "\\hline\n",
       "\t1 & of the & blogs & 19104 & 0.002138569 & 0.002138569\\\\\n",
       "\t2 & of the & news  & 19100 & 0.002138121 & 0.004276690\\\\\n",
       "\t3 & in the & news  & 18265 & 0.002044648 & 0.006321338\\\\\n",
       "\t4 & in the & blogs & 15620 & 0.001748558 & 0.008069896\\\\\n",
       "\t5 & to the & news  & 10076 & 0.001127943 & 0.009197839\\\\\n",
       "\t6 & to the & blogs &  9833 & 0.001100741 & 0.010298579\\\\\n",
       "\\end{tabular}\n"
      ],
      "text/markdown": [
       "\n",
       "A data.frame: 6 × 5\n",
       "\n",
       "| <!--/--> | bigram &lt;chr&gt; | source &lt;fct&gt; | freq &lt;int&gt; | proportion &lt;dbl&gt; | coverage &lt;dbl&gt; |\n",
       "|---|---|---|---|---|---|\n",
       "| 1 | of the | blogs | 19104 | 0.002138569 | 0.002138569 |\n",
       "| 2 | of the | news  | 19100 | 0.002138121 | 0.004276690 |\n",
       "| 3 | in the | news  | 18265 | 0.002044648 | 0.006321338 |\n",
       "| 4 | in the | blogs | 15620 | 0.001748558 | 0.008069896 |\n",
       "| 5 | to the | news  | 10076 | 0.001127943 | 0.009197839 |\n",
       "| 6 | to the | blogs |  9833 | 0.001100741 | 0.010298579 |\n",
       "\n"
      ],
      "text/plain": [
       "  bigram source freq  proportion  coverage   \n",
       "1 of the blogs  19104 0.002138569 0.002138569\n",
       "2 of the news   19100 0.002138121 0.004276690\n",
       "3 in the news   18265 0.002044648 0.006321338\n",
       "4 in the blogs  15620 0.001748558 0.008069896\n",
       "5 to the news   10076 0.001127943 0.009197839\n",
       "6 to the blogs   9833 0.001100741 0.010298579"
      ]
     },
     "metadata": {},
     "output_type": "display_data"
    }
   ],
   "source": [
    "head(bigram_cover_90)"
   ]
  },
  {
   "cell_type": "markdown",
   "metadata": {},
   "source": [
    "So that the number of bigrams to get 90% coverage of all bigrams are"
   ]
  },
  {
   "cell_type": "code",
   "execution_count": 24,
   "metadata": {},
   "outputs": [
    {
     "data": {
      "text/html": [
       "1947044"
      ],
      "text/latex": [
       "1947044"
      ],
      "text/markdown": [
       "1947044"
      ],
      "text/plain": [
       "[1] 1947044"
      ]
     },
     "metadata": {},
     "output_type": "display_data"
    }
   ],
   "source": [
    "nrow(bigram_cover_90)"
   ]
  },
  {
   "cell_type": "code",
   "execution_count": 25,
   "metadata": {},
   "outputs": [
    {
     "data": {
      "image/png": "[encoded data removed]",
      "text/plain": [
       "plot without title"
      ]
     },
     "metadata": {
      "image/png": {
       "height": 420,
       "width": 420
      }
     },
     "output_type": "display_data"
    }
   ],
   "source": [
    "# plot top 20 frequences\n",
    "bigram_cover_90 %>%\n",
    "    top_n(20, proportion) %>%\n",
    "    mutate(bigram = reorder(bigram, proportion)) %>%\n",
    "    ggplot(aes(bigram, proportion)) + geom_col() + xlab(\"Proportion\") + ggtitle(\"Bigram: Top 20\") + coord_flip()"
   ]
  },
  {
   "cell_type": "markdown",
   "metadata": {},
   "source": [
    "### 5. Frequencies of Trigrams"
   ]
  },
  {
   "cell_type": "code",
   "execution_count": 26,
   "metadata": {},
   "outputs": [],
   "source": [
    "# create bigrams by source\n",
    "trigram_data <- as.data.frame(clean_sample) %>% \n",
    "    unnest_tokens(output = trigram, input = text, token = 'ngrams', n = 3) #%>%\n",
    "#    mutate(proportion = n / sum(n)) #%>%\n"
   ]
  },
  {
   "cell_type": "code",
   "execution_count": 27,
   "metadata": {},
   "outputs": [],
   "source": [
    "trigram_cover_90 <- trigram_data %>%\n",
    "    count(c(\"trigram\",\"source\"))  %>%\n",
    "    mutate(proportion = freq / sum(freq)) %>%\n",
    "    arrange(desc(proportion)) %>%\n",
    "    mutate(coverage = cumsum(proportion)) %>%\n",
    "    filter(coverage <= 0.9) "
   ]
  },
  {
   "cell_type": "markdown",
   "metadata": {},
   "source": [
    "So that the number of bigrams to get 90% coverage of all bigrams are"
   ]
  },
  {
   "cell_type": "code",
   "execution_count": 28,
   "metadata": {},
   "outputs": [
    {
     "data": {
      "text/html": [
       "5677948"
      ],
      "text/latex": [
       "5677948"
      ],
      "text/markdown": [
       "5677948"
      ],
      "text/plain": [
       "[1] 5677948"
      ]
     },
     "metadata": {},
     "output_type": "display_data"
    }
   ],
   "source": [
    "nrow(trigram_cover_90)"
   ]
  },
  {
   "cell_type": "code",
   "execution_count": 29,
   "metadata": {},
   "outputs": [
    {
     "data": {
      "text/html": [
       "<table>\n",
       "<caption>A data.frame: 20 × 5</caption>\n",
       "<thead>\n",
       "\t<tr><th></th><th scope=col>trigram</th><th scope=col>source</th><th scope=col>freq</th><th scope=col>proportion</th><th scope=col>coverage</th></tr>\n",
       "\t<tr><th></th><th scope=col>&lt;chr&gt;</th><th scope=col>&lt;fct&gt;</th><th scope=col>&lt;int&gt;</th><th scope=col>&lt;dbl&gt;</th><th scope=col>&lt;dbl&gt;</th></tr>\n",
       "</thead>\n",
       "<tbody>\n",
       "\t<tr><th scope=row>1</th><td>thanks for the</td><td>twitter</td><td>2409</td><td>2.696720e-04</td><td>0.0002696720</td></tr>\n",
       "\t<tr><th scope=row>2</th><td>one of the    </td><td>news   </td><td>1493</td><td>1.671317e-04</td><td>0.0004368037</td></tr>\n",
       "\t<tr><th scope=row>3</th><td>one of the    </td><td>blogs  </td><td>1480</td><td>1.656765e-04</td><td>0.0006024802</td></tr>\n",
       "\t<tr><th scope=row>4</th><td>a lot of      </td><td>blogs  </td><td>1255</td><td>1.404892e-04</td><td>0.0007429693</td></tr>\n",
       "\t<tr><th scope=row>5</th><td>a lot of      </td><td>news   </td><td>1127</td><td>1.261604e-04</td><td>0.0008691297</td></tr>\n",
       "\t<tr><th scope=row>6</th><td>the of the    </td><td>blogs  </td><td> 876</td><td>9.806255e-05</td><td>0.0009671923</td></tr>\n",
       "\t<tr><th scope=row>7</th><td>thank you for </td><td>twitter</td><td> 837</td><td>9.369675e-05</td><td>0.0010608890</td></tr>\n",
       "\t<tr><th scope=row>8</th><td>i love you    </td><td>twitter</td><td> 833</td><td>9.324898e-05</td><td>0.0011541380</td></tr>\n",
       "\t<tr><th scope=row>9</th><td>cant wait to  </td><td>twitter</td><td> 787</td><td>8.809957e-05</td><td>0.0012422376</td></tr>\n",
       "\t<tr><th scope=row>10</th><td>i want to     </td><td>twitter</td><td> 778</td><td>8.709208e-05</td><td>0.0013293296</td></tr>\n",
       "\t<tr><th scope=row>11</th><td>going to be   </td><td>twitter</td><td> 763</td><td>8.541293e-05</td><td>0.0014147426</td></tr>\n",
       "\t<tr><th scope=row>12</th><td>it was a      </td><td>blogs  </td><td> 732</td><td>8.194268e-05</td><td>0.0014966852</td></tr>\n",
       "\t<tr><th scope=row>13</th><td>the end of    </td><td>blogs  </td><td> 693</td><td>7.757688e-05</td><td>0.0015742621</td></tr>\n",
       "\t<tr><th scope=row>14</th><td>to be a       </td><td>blogs  </td><td> 671</td><td>7.511412e-05</td><td>0.0016493762</td></tr>\n",
       "\t<tr><th scope=row>15</th><td>some of the   </td><td>blogs  </td><td> 656</td><td>7.343497e-05</td><td>0.0017228112</td></tr>\n",
       "\t<tr><th scope=row>16</th><td>the of the    </td><td>news   </td><td> 645</td><td>7.220359e-05</td><td>0.0017950148</td></tr>\n",
       "\t<tr><th scope=row>17</th><td>i want to     </td><td>blogs  </td><td> 637</td><td>7.130804e-05</td><td>0.0018663228</td></tr>\n",
       "\t<tr><th scope=row>18</th><td>out of the    </td><td>blogs  </td><td> 637</td><td>7.130804e-05</td><td>0.0019376309</td></tr>\n",
       "\t<tr><th scope=row>19</th><td>i have to     </td><td>blogs  </td><td> 624</td><td>6.985277e-05</td><td>0.0020074837</td></tr>\n",
       "\t<tr><th scope=row>20</th><td>a lot of      </td><td>twitter</td><td> 618</td><td>6.918111e-05</td><td>0.0020766648</td></tr>\n",
       "</tbody>\n",
       "</table>\n"
      ],
      "text/latex": [
       "A data.frame: 20 × 5\n",
       "\\begin{tabular}{r|lllll}\n",
       "  & trigram & source & freq & proportion & coverage\\\\\n",
       "  & <chr> & <fct> & <int> & <dbl> & <dbl>\\\\\n",
       "\\hline\n",
       "\t1 & thanks for the & twitter & 2409 & 2.696720e-04 & 0.0002696720\\\\\n",
       "\t2 & one of the     & news    & 1493 & 1.671317e-04 & 0.0004368037\\\\\n",
       "\t3 & one of the     & blogs   & 1480 & 1.656765e-04 & 0.0006024802\\\\\n",
       "\t4 & a lot of       & blogs   & 1255 & 1.404892e-04 & 0.0007429693\\\\\n",
       "\t5 & a lot of       & news    & 1127 & 1.261604e-04 & 0.0008691297\\\\\n",
       "\t6 & the of the     & blogs   &  876 & 9.806255e-05 & 0.0009671923\\\\\n",
       "\t7 & thank you for  & twitter &  837 & 9.369675e-05 & 0.0010608890\\\\\n",
       "\t8 & i love you     & twitter &  833 & 9.324898e-05 & 0.0011541380\\\\\n",
       "\t9 & cant wait to   & twitter &  787 & 8.809957e-05 & 0.0012422376\\\\\n",
       "\t10 & i want to      & twitter &  778 & 8.709208e-05 & 0.0013293296\\\\\n",
       "\t11 & going to be    & twitter &  763 & 8.541293e-05 & 0.0014147426\\\\\n",
       "\t12 & it was a       & blogs   &  732 & 8.194268e-05 & 0.0014966852\\\\\n",
       "\t13 & the end of     & blogs   &  693 & 7.757688e-05 & 0.0015742621\\\\\n",
       "\t14 & to be a        & blogs   &  671 & 7.511412e-05 & 0.0016493762\\\\\n",
       "\t15 & some of the    & blogs   &  656 & 7.343497e-05 & 0.0017228112\\\\\n",
       "\t16 & the of the     & news    &  645 & 7.220359e-05 & 0.0017950148\\\\\n",
       "\t17 & i want to      & blogs   &  637 & 7.130804e-05 & 0.0018663228\\\\\n",
       "\t18 & out of the     & blogs   &  637 & 7.130804e-05 & 0.0019376309\\\\\n",
       "\t19 & i have to      & blogs   &  624 & 6.985277e-05 & 0.0020074837\\\\\n",
       "\t20 & a lot of       & twitter &  618 & 6.918111e-05 & 0.0020766648\\\\\n",
       "\\end{tabular}\n"
      ],
      "text/markdown": [
       "\n",
       "A data.frame: 20 × 5\n",
       "\n",
       "| <!--/--> | trigram &lt;chr&gt; | source &lt;fct&gt; | freq &lt;int&gt; | proportion &lt;dbl&gt; | coverage &lt;dbl&gt; |\n",
       "|---|---|---|---|---|---|\n",
       "| 1 | thanks for the | twitter | 2409 | 2.696720e-04 | 0.0002696720 |\n",
       "| 2 | one of the     | news    | 1493 | 1.671317e-04 | 0.0004368037 |\n",
       "| 3 | one of the     | blogs   | 1480 | 1.656765e-04 | 0.0006024802 |\n",
       "| 4 | a lot of       | blogs   | 1255 | 1.404892e-04 | 0.0007429693 |\n",
       "| 5 | a lot of       | news    | 1127 | 1.261604e-04 | 0.0008691297 |\n",
       "| 6 | the of the     | blogs   |  876 | 9.806255e-05 | 0.0009671923 |\n",
       "| 7 | thank you for  | twitter |  837 | 9.369675e-05 | 0.0010608890 |\n",
       "| 8 | i love you     | twitter |  833 | 9.324898e-05 | 0.0011541380 |\n",
       "| 9 | cant wait to   | twitter |  787 | 8.809957e-05 | 0.0012422376 |\n",
       "| 10 | i want to      | twitter |  778 | 8.709208e-05 | 0.0013293296 |\n",
       "| 11 | going to be    | twitter |  763 | 8.541293e-05 | 0.0014147426 |\n",
       "| 12 | it was a       | blogs   |  732 | 8.194268e-05 | 0.0014966852 |\n",
       "| 13 | the end of     | blogs   |  693 | 7.757688e-05 | 0.0015742621 |\n",
       "| 14 | to be a        | blogs   |  671 | 7.511412e-05 | 0.0016493762 |\n",
       "| 15 | some of the    | blogs   |  656 | 7.343497e-05 | 0.0017228112 |\n",
       "| 16 | the of the     | news    |  645 | 7.220359e-05 | 0.0017950148 |\n",
       "| 17 | i want to      | blogs   |  637 | 7.130804e-05 | 0.0018663228 |\n",
       "| 18 | out of the     | blogs   |  637 | 7.130804e-05 | 0.0019376309 |\n",
       "| 19 | i have to      | blogs   |  624 | 6.985277e-05 | 0.0020074837 |\n",
       "| 20 | a lot of       | twitter |  618 | 6.918111e-05 | 0.0020766648 |\n",
       "\n"
      ],
      "text/plain": [
       "   trigram        source  freq proportion   coverage    \n",
       "1  thanks for the twitter 2409 2.696720e-04 0.0002696720\n",
       "2  one of the     news    1493 1.671317e-04 0.0004368037\n",
       "3  one of the     blogs   1480 1.656765e-04 0.0006024802\n",
       "4  a lot of       blogs   1255 1.404892e-04 0.0007429693\n",
       "5  a lot of       news    1127 1.261604e-04 0.0008691297\n",
       "6  the of the     blogs    876 9.806255e-05 0.0009671923\n",
       "7  thank you for  twitter  837 9.369675e-05 0.0010608890\n",
       "8  i love you     twitter  833 9.324898e-05 0.0011541380\n",
       "9  cant wait to   twitter  787 8.809957e-05 0.0012422376\n",
       "10 i want to      twitter  778 8.709208e-05 0.0013293296\n",
       "11 going to be    twitter  763 8.541293e-05 0.0014147426\n",
       "12 it was a       blogs    732 8.194268e-05 0.0014966852\n",
       "13 the end of     blogs    693 7.757688e-05 0.0015742621\n",
       "14 to be a        blogs    671 7.511412e-05 0.0016493762\n",
       "15 some of the    blogs    656 7.343497e-05 0.0017228112\n",
       "16 the of the     news     645 7.220359e-05 0.0017950148\n",
       "17 i want to      blogs    637 7.130804e-05 0.0018663228\n",
       "18 out of the     blogs    637 7.130804e-05 0.0019376309\n",
       "19 i have to      blogs    624 6.985277e-05 0.0020074837\n",
       "20 a lot of       twitter  618 6.918111e-05 0.0020766648"
      ]
     },
     "metadata": {},
     "output_type": "display_data"
    }
   ],
   "source": [
    "head(trigram_cover_90, 20)"
   ]
  },
  {
   "cell_type": "code",
   "execution_count": 57,
   "metadata": {},
   "outputs": [
    {
     "data": {
      "text/html": [
       "<strong>png:</strong> 2"
      ],
      "text/latex": [
       "\\textbf{png:} 2"
      ],
      "text/markdown": [
       "**png:** 2"
      ],
      "text/plain": [
       "png \n",
       "  2 "
      ]
     },
     "metadata": {},
     "output_type": "display_data"
    }
   ],
   "source": [
    "png(file = 'data/tri-gram.png')\n",
    "# plot top 20 frequences\n",
    "trigram_cover_90 %>%\n",
    "    top_n(20, proportion) %>%\n",
    "    mutate(trigram = reorder(trigram, proportion)) %>%\n",
    "    ggplot(aes(trigram, proportion)) + geom_col() + xlab(\"Proportion\") + ggtitle(\"Trigram: Top 20\") + coord_flip()\n",
    "dev.off()"
   ]
  },
  {
   "cell_type": "code",
   "execution_count": 30,
   "metadata": {},
   "outputs": [
    {
     "data": {
      "image/png": "[encoded data removed]",
      "text/plain": [
       "plot without title"
      ]
     },
     "metadata": {
      "image/png": {
       "height": 420,
       "width": 420
      }
     },
     "output_type": "display_data"
    }
   ],
   "source": [
    "# plot top 20 frequences\n",
    "trigram_cover_90 %>%\n",
    "    top_n(20, proportion) %>%\n",
    "    mutate(trigram = reorder(trigram, proportion)) %>%\n",
    "    ggplot(aes(trigram, proportion)) + geom_col() + xlab(\"Proportion\") + ggtitle(\"Trigram: Top 20\") + coord_flip()"
   ]
  },
  {
   "cell_type": "markdown",
   "metadata": {},
   "source": [
    "## Week 2: Capstone Project: Task 3\n",
    "\n",
    "The goal here is to build your first simple model for the relationship between words. This is the first step in building a predictive text mining application. You will explore simple models and discover more complicated modeling techniques.\n",
    "\n",
    "**Tasks to accomplish**\n",
    "1. Build basic n-gram model - using the exploratory analysis you performed, build a basic n-gram model for predicting the next word based on the previous 1, 2, or 3 words.\n",
    "1. Build a model to handle unseen n-grams - in some cases people will want to type a combination of words that does not appear in the corpora. Build a model to handle cases where a particular n-gram isn't observed.\n",
    "\n",
    "**Questions to consider**\n",
    "1. How can you efficiently store an n-gram model (think Markov Chains)?\n",
    "1. How can you use the knowledge about word frequencies to make your model smaller and more efficient?\n",
    "1. How many parameters do you need (i.e. how big is n in your n-gram model)?\n",
    "1. Can you think of simple ways to \"smooth\" the probabilities (think about giving all n-grams a non-zero probability even if they aren't observed in the data) ?\n",
    "1. How do you evaluate whether your model is any good?\n",
    "1. How can you use backoff models to estimate the probability of unobserved n-grams?\n",
    "\n",
    "**Hints, tips, and tricks**\n",
    "\n",
    "As you develop your prediction model, two key aspects that you will have to keep in mind are the size and runtime of the algorithm. These are defined as:\n",
    "- Size: the amount of memory (physical RAM) required to run the model in R\n",
    "- Runtime: The amount of time the algorithm takes to make a prediction given the acceptable input\n",
    "\n",
    "Your goal for this prediction model is to minimize both the size and runtime of the model in order to provide a reasonable experience to the user.\n",
    "\n",
    "Keep in mind that currently available predictive text models can run on mobile phones, which typically have limited memory and processing power compared to desktop computers. Therefore, you should consider very carefully (1) how much memory is being used by the objects in your workspace; and (2) how much time it is taking to run your model. Ultimately, your model will need to run in a Shiny app that runs on the shinyapps.io server.\n",
    "\n",
    "Tips, tricks, and hints\n",
    "\n",
    "Here are a few tools that may be of use to you as you work on their algorithm:\n",
    "\n",
    "- `object.size()`: this function reports the number of bytes that an R object occupies in memory\n",
    "- `Rprof()`: this function runs the profiler in R that can be used to determine where bottlenecks in your function may exist. The profr package (available on CRAN) provides some additional tools for visualizing and summarizing profiling data.\n",
    "- `gc()`: this function runs the garbage collector to retrieve unused RAM for R. In the process it tells you how much memory is currently being used by R.\n",
    "\n",
    "There will likely be a tradeoff that you have to make in between size and runtime. For example, an algorithm that requires a lot of memory, may run faster, while a slower algorithm may require less memory. You will have to find the right balance between the two in order to provide a good experience to the user."
   ]
  }
 ],
 "metadata": {
  "kernelspec": {
   "display_name": "R",
   "language": "R",
   "name": "ir"
  },
  "language_info": {
   "codemirror_mode": "r",
   "file_extension": ".r",
   "mimetype": "text/x-r-source",
   "name": "R",
   "pygments_lexer": "r",
   "version": "4.0.2"
  }
 },
 "nbformat": 4,
 "nbformat_minor": 4
}
