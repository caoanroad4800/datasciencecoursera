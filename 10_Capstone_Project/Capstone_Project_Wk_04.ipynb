{
 "cells": [
  {
   "cell_type": "markdown",
   "metadata": {},
   "source": [
    "## Task 5: Creative Exploration\n",
    "So far you have used basic models to understand and predict words. In this next task, your goal is to use all the resources you have available to you (from the Data Science Specialization, resources on the web, or your own creativity) to improve the predictive accuracy while reducing computational runtime and model complexity (if you can). Be sure to hold out a test set to evaluate the new, more creative models you are building.\n",
    "\n",
    "**Tasks to accomplish**\n",
    "- Explore new models and data to improve your predictive model.\n",
    "- Evaluate your new predictions on both accuracy and efficiency. \n",
    "\n",
    "**Questions to consider**\n",
    "- What are some alternative data sets you could consider using?\n",
    "- What are ways in which the n-gram model may be inefficient?\n",
    "- What are the most commonly missed n-grams? Can you think of a reason why they would be missed and fix that?\n",
    "- What are some other things that other people have tried to improve their model?\n",
    "- Can you estimate how uncertain you are about the words you are predicting? "
   ]
  },
  {
   "cell_type": "markdown",
   "metadata": {},
   "source": [
    "### 0. Environment Settings"
   ]
  },
  {
   "cell_type": "code",
   "execution_count": null,
   "metadata": {},
   "outputs": [],
   "source": [
    "library(data.tree)\n",
    "library(DiagrammeR)\n",
    "library(dplyr)\n",
    "library(ggplot2)\n",
    "library(igraph)\n",
    "library(influenceR)\n",
    "library(plyr)\n",
    "library(RColorBrewer)\n",
    "library(SnowballC)\n",
    "library(stopwords)\n",
    "library(stringi)\n",
    "library(stringr)\n",
    "library(tidyr)\n",
    "library(tidytext)\n",
    "library(tidyverse)\n",
    "library(tokenizers)\n",
    "library(tm)\n",
    "library(wordcloud)"
   ]
  },
  {
   "cell_type": "code",
   "execution_count": 162,
   "metadata": {},
   "outputs": [
    {
     "data": {
      "text/plain": [
       "R version 4.0.2 (2020-06-22)\n",
       "Platform: x86_64-pc-linux-gnu (64-bit)\n",
       "Running under: Ubuntu 20.04.1 LTS\n",
       "\n",
       "Matrix products: default\n",
       "BLAS:   /usr/lib/x86_64-linux-gnu/blas/libblas.so.3.9.0\n",
       "LAPACK: /usr/lib/x86_64-linux-gnu/lapack/liblapack.so.3.9.0\n",
       "\n",
       "locale:\n",
       " [1] LC_CTYPE=en_US.UTF-8       LC_NUMERIC=C              \n",
       " [3] LC_TIME=zh_CN.UTF-8        LC_COLLATE=en_US.UTF-8    \n",
       " [5] LC_MONETARY=zh_CN.UTF-8    LC_MESSAGES=en_US.UTF-8   \n",
       " [7] LC_PAPER=zh_CN.UTF-8       LC_NAME=C                 \n",
       " [9] LC_ADDRESS=C               LC_TELEPHONE=C            \n",
       "[11] LC_MEASUREMENT=zh_CN.UTF-8 LC_IDENTIFICATION=C       \n",
       "\n",
       "attached base packages:\n",
       "[1] stats     graphics  grDevices utils     datasets  methods   base     \n",
       "\n",
       "other attached packages:\n",
       " [1] forcats_0.5.0      purrr_0.3.4        readr_1.3.1        tibble_3.0.3      \n",
       " [5] tidyverse_1.3.0    wordcloud_2.6      tm_0.7-7           NLP_0.2-0         \n",
       " [9] tokenizers_0.2.1   tidytext_0.2.5     tidyr_1.1.2        stringr_1.4.0     \n",
       "[13] stringi_1.4.6      stopwords_2.0      SnowballC_0.7.0    RColorBrewer_1.1-2\n",
       "[17] plyr_1.8.6         influenceR_0.1.0   igraph_1.2.5       ggplot2_3.3.2     \n",
       "[21] dplyr_1.0.1        DiagrammeR_1.0.6.1 data.tree_1.0.0   \n",
       "\n",
       "loaded via a namespace (and not attached):\n",
       " [1] httr_1.4.2          jsonlite_1.7.0      modelr_0.1.8       \n",
       " [4] assertthat_0.2.1    blob_1.2.1          cellranger_1.1.0   \n",
       " [7] slam_0.1-47         pillar_1.4.6        backports_1.1.8    \n",
       "[10] lattice_0.20-41     glue_1.4.1          uuid_0.1-4         \n",
       "[13] digest_0.6.25       rvest_0.3.6         colorspace_1.4-1   \n",
       "[16] htmltools_0.5.0     Matrix_1.2-18       pkgconfig_2.0.3    \n",
       "[19] broom_0.7.0         haven_2.3.1         scales_1.1.1       \n",
       "[22] generics_0.0.2      farver_2.0.3        usethis_1.6.1      \n",
       "[25] ellipsis_0.3.1      withr_2.2.0         repr_1.1.0         \n",
       "[28] cli_2.0.2           magrittr_1.5        crayon_1.3.4       \n",
       "[31] readxl_1.3.1        evaluate_0.14       janeaustenr_0.1.5  \n",
       "[34] fansi_0.4.1         fs_1.5.0            xml2_1.3.2         \n",
       "[37] tools_4.0.2         hms_0.5.3           lifecycle_0.2.0    \n",
       "[40] reprex_0.3.0        munsell_0.5.0       compiler_4.0.2     \n",
       "[43] rlang_0.4.7         grid_4.0.2          rstudioapi_0.11    \n",
       "[46] pbdZMQ_0.3-3        IRkernel_1.1.1.9000 htmlwidgets_1.5.1  \n",
       "[49] visNetwork_2.0.9    base64enc_0.1-3     labeling_0.3       \n",
       "[52] gtable_0.3.0        DBI_1.1.0           R6_2.4.1           \n",
       "[55] lubridate_1.7.9     parallel_4.0.2      IRdisplay_0.7.0    \n",
       "[58] Rcpp_1.0.5          vctrs_0.3.2         dbplyr_1.4.4       \n",
       "[61] tidyselect_1.1.0   "
      ]
     },
     "metadata": {},
     "output_type": "display_data"
    }
   ],
   "source": [
    "sessionInfo()"
   ]
  },
  {
   "cell_type": "markdown",
   "metadata": {},
   "source": [
    "### 1. Load data"
   ]
  },
  {
   "cell_type": "code",
   "execution_count": 79,
   "metadata": {},
   "outputs": [
    {
     "data": {
      "text/plain": [
       "Time difference of 0.08728886 secs"
      ]
     },
     "metadata": {},
     "output_type": "display_data"
    }
   ],
   "source": [
    "time_start <- Sys.time()\n",
    "bi_word <- readRDS(\"./data/bi_words_separated.RDS\")\n",
    "tri_word <- readRDS(\"./data/tri_words_separated.RDS\")\n",
    "quad_word <- readRDS(\"./data/quad_words_separated.RDS\")\n",
    "quint_word <- readRDS(\"./data/quint_words_separated.RDS\")\n",
    "sext_word <- readRDS(\"./data/sext_words_separated.RDS\")\n",
    "time_stop <- Sys.time()\n",
    "duration <- time_stop - time_start\n",
    "duration"
   ]
  },
  {
   "cell_type": "code",
   "execution_count": 80,
   "metadata": {},
   "outputs": [
    {
     "data": {
      "text/html": [
       "<table>\n",
       "<caption>A data.frame: 6 × 3</caption>\n",
       "<thead>\n",
       "\t<tr><th></th><th scope=col>w1</th><th scope=col>w2</th><th scope=col>freq</th></tr>\n",
       "\t<tr><th></th><th scope=col>&lt;chr&gt;</th><th scope=col>&lt;chr&gt;</th><th scope=col>&lt;int&gt;</th></tr>\n",
       "</thead>\n",
       "<tbody>\n",
       "\t<tr><th scope=row>1</th><td>of </td><td>the</td><td>44040</td></tr>\n",
       "\t<tr><th scope=row>2</th><td>in </td><td>the</td><td>41732</td></tr>\n",
       "\t<tr><th scope=row>3</th><td>to </td><td>the</td><td>25093</td></tr>\n",
       "\t<tr><th scope=row>4</th><td>for</td><td>the</td><td>20872</td></tr>\n",
       "\t<tr><th scope=row>5</th><td>on </td><td>the</td><td>20043</td></tr>\n",
       "\t<tr><th scope=row>6</th><td>to </td><td>be </td><td>16518</td></tr>\n",
       "</tbody>\n",
       "</table>\n"
      ],
      "text/latex": [
       "A data.frame: 6 × 3\n",
       "\\begin{tabular}{r|lll}\n",
       "  & w1 & w2 & freq\\\\\n",
       "  & <chr> & <chr> & <int>\\\\\n",
       "\\hline\n",
       "\t1 & of  & the & 44040\\\\\n",
       "\t2 & in  & the & 41732\\\\\n",
       "\t3 & to  & the & 25093\\\\\n",
       "\t4 & for & the & 20872\\\\\n",
       "\t5 & on  & the & 20043\\\\\n",
       "\t6 & to  & be  & 16518\\\\\n",
       "\\end{tabular}\n"
      ],
      "text/markdown": [
       "\n",
       "A data.frame: 6 × 3\n",
       "\n",
       "| <!--/--> | w1 &lt;chr&gt; | w2 &lt;chr&gt; | freq &lt;int&gt; |\n",
       "|---|---|---|---|\n",
       "| 1 | of  | the | 44040 |\n",
       "| 2 | in  | the | 41732 |\n",
       "| 3 | to  | the | 25093 |\n",
       "| 4 | for | the | 20872 |\n",
       "| 5 | on  | the | 20043 |\n",
       "| 6 | to  | be  | 16518 |\n",
       "\n"
      ],
      "text/plain": [
       "  w1  w2  freq \n",
       "1 of  the 44040\n",
       "2 in  the 41732\n",
       "3 to  the 25093\n",
       "4 for the 20872\n",
       "5 on  the 20043\n",
       "6 to  be  16518"
      ]
     },
     "metadata": {},
     "output_type": "display_data"
    }
   ],
   "source": [
    "head(bi_word)"
   ]
  },
  {
   "cell_type": "markdown",
   "metadata": {},
   "source": [
    "### 2. Matching functions"
   ]
  },
  {
   "cell_type": "code",
   "execution_count": 148,
   "metadata": {},
   "outputs": [],
   "source": [
    "# Bigram prediction function\n",
    "bigram <- function(inputWord){\n",
    "    num <- length(inputWord)\n",
    "    filter(bi_word, w1 == inputWord[num]) %>%\n",
    "    top_n (1, freq) %>%\n",
    "    filter(row_number() == 1L) %>%\n",
    "    select(num_range(\"w\", 2)) %>%\n",
    "    as.character() -> out\n",
    "    ifelse(out == \"character(0)\", \"?\", return(out))\n",
    "}\n",
    "\n",
    "# Trigram prediction function\n",
    "trigram <- function(inputWord)\n",
    "    {\n",
    "    num <- length(inputWord)\n",
    "    filter(tri_word, \n",
    "           w1 == inputWord[num-1]\n",
    "          ,w2 == inputWord[num]) %>%\n",
    "    top_n (1, freq) %>%\n",
    "    filter(row_number() == 1L) %>%\n",
    "    select(num_range(\"w\", 3)) %>%\n",
    "    as.character() -> out\n",
    "    ifelse(out == \"character(0)\", \"?\", return(out))\n",
    "}\n",
    "\n",
    "# Quadgram prediction function\n",
    "quadgram <- function(inputWord)\n",
    "    {\n",
    "    num <- length(inputWord)\n",
    "    filter(quad_word, \n",
    "           w1 == inputWord[num-2]\n",
    "          ,w2 == inputWord[num-1]\n",
    "          ,w3 == inputWord[num]) %>%\n",
    "    top_n (1, freq) %>%\n",
    "    filter(row_number() == 1L) %>%\n",
    "    select(num_range(\"w\", 4)) %>%\n",
    "    as.character() -> out\n",
    "    ifelse(out == \"character(0)\", \"?\", return(out))\n",
    "}\n",
    "\n",
    "# Quintgram prediction function\n",
    "quintgram <- function(inputWord)\n",
    "    {\n",
    "    num <- length(inputWord)\n",
    "    filter(quint_word, \n",
    "           w1 == inputWord[num-3]\n",
    "          ,w2 == inputWord[num-2]\n",
    "          ,w3 == inputWord[num-1]\n",
    "          ,w4 == inputWord[num]) %>%\n",
    "    top_n (1, freq) %>%\n",
    "    filter(row_number() == 1L) %>%\n",
    "    select(num_range(\"w\", 5)) %>%\n",
    "    as.character() -> out\n",
    "    ifelse(out == \"character(0)\", \"?\", return(out))\n",
    "}\n",
    "\n",
    "# Sextgram prediction function\n",
    "sextgram <- function(inputWord)\n",
    "    {\n",
    "    num <- length(inputWord)\n",
    "    filter(sext_word, \n",
    "           w1 == inputWord[num-4]\n",
    "          ,w2 == inputWord[num-3]\n",
    "          ,w3 == inputWord[num-2]\n",
    "          ,w4 == inputWord[num-1]\n",
    "          ,w5 == inputWord[num]) %>%\n",
    "    top_n (1, freq) %>%\n",
    "    filter(row_number() == 1L) %>%\n",
    "    select(num_range(\"w\", 6)) %>%\n",
    "    as.character() -> out\n",
    "    ifelse(out == \"character(0)\", \"?\", return(out))\n",
    "}"
   ]
  },
  {
   "cell_type": "code",
   "execution_count": 149,
   "metadata": {},
   "outputs": [],
   "source": [
    "predictNgrams <- function(input){\n",
    "    # create dataframe\n",
    "    input <- data_frame(text = input)\n",
    "    # clean the input text\n",
    "    replace_reg <- \"[^[:alpha:][:space:]]*\"\n",
    "    input <- input %>%\n",
    "        mutate(text = str_replace_all(text, replace_reg, \"\"))\n",
    "    # find word count, separate words, lower case\n",
    "    input_count <- str_count(input, boundary(\"word\"))\n",
    "    input_words <- tolower(unlist(str_split(input, boundary(\"word\"))))\n",
    "    # call the matching functions\n",
    "    out <- if (input_count == 1) {bigram(input_words)}\n",
    "            else if (input_count == 2) {trigram(input_words)}\n",
    "            else if (input_count == 3) {quadgram(input_words)}\n",
    "            else if (input_count == 4) {quintgram(input_words)}\n",
    "            else if (input_count == 5) {sextgram(input_words)}\n",
    "    return(out)\n",
    "}"
   ]
  },
  {
   "cell_type": "code",
   "execution_count": 165,
   "metadata": {},
   "outputs": [
    {
     "data": {
      "text/html": [
       "'the'"
      ],
      "text/latex": [
       "'the'"
      ],
      "text/markdown": [
       "'the'"
      ],
      "text/plain": [
       "[1] \"the\""
      ]
     },
     "metadata": {},
     "output_type": "display_data"
    }
   ],
   "source": [
    "predictNgrams(\"case of\")"
   ]
  }
 ],
 "metadata": {
  "kernelspec": {
   "display_name": "R",
   "language": "R",
   "name": "ir"
  },
  "language_info": {
   "name": ""
  }
 },
 "nbformat": 4,
 "nbformat_minor": 4
}
