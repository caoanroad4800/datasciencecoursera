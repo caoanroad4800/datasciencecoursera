{
 "cells": [
  {
   "cell_type": "markdown",
   "metadata": {},
   "source": [
    "## Task 5: Creative Exploration\n",
    "So far you have used basic models to understand and predict words. In this next task, your goal is to use all the resources you have available to you (from the Data Science Specialization, resources on the web, or your own creativity) to improve the predictive accuracy while reducing computational runtime and model complexity (if you can). Be sure to hold out a test set to evaluate the new, more creative models you are building.\n",
    "\n",
    "**Tasks to accomplish**\n",
    "- Explore new models and data to improve your predictive model.\n",
    "- Evaluate your new predictions on both accuracy and efficiency. \n",
    "\n",
    "**Questions to consider**\n",
    "- What are some alternative data sets you could consider using?\n",
    "- What are ways in which the n-gram model may be inefficient?\n",
    "- What are the most commonly missed n-grams? Can you think of a reason why they would be missed and fix that?\n",
    "- What are some other things that other people have tried to improve their model?\n",
    "- Can you estimate how uncertain you are about the words you are predicting? "
   ]
  },
  {
   "cell_type": "markdown",
   "metadata": {},
   "source": [
    "### Question 1: For each of the sentence fragments below use your natural language processing algorithm to predict the next word in the sentence.\n",
    "\n",
    "When you breathe, I want to be the air for you. I'll be there for you, I'd live and I'd\n",
    "\n",
    "Options: eat, give, die, sleep"
   ]
  },
  {
   "cell_type": "code",
   "execution_count": 7,
   "metadata": {},
   "outputs": [
    {
     "data": {
      "text/html": [
       "<table>\n",
       "<caption>A data.frame: 5 × 3</caption>\n",
       "<thead>\n",
       "\t<tr><th></th><th scope=col>ngrams</th><th scope=col>freq</th><th scope=col>prop</th></tr>\n",
       "\t<tr><th></th><th scope=col>&lt;chr&gt;</th><th scope=col>&lt;int&gt;</th><th scope=col>&lt;dbl&gt;</th></tr>\n",
       "</thead>\n",
       "<tbody>\n",
       "\t<tr><th scope=row>2572</th><td>i'd like   </td><td>276</td><td>3.153142e-05</td></tr>\n",
       "\t<tr><th scope=row>3433</th><td>i'd be     </td><td>217</td><td>2.479101e-05</td></tr>\n",
       "\t<tr><th scope=row>3850</th><td>i'd love   </td><td>196</td><td>2.239188e-05</td></tr>\n",
       "\t<tr><th scope=row>7387</th><td>i'd say    </td><td>112</td><td>1.279536e-05</td></tr>\n",
       "\t<tr><th scope=row>9424</th><td>i'd rather </td><td> 90</td><td>1.028199e-05</td></tr>\n",
       "</tbody>\n",
       "</table>\n"
      ],
      "text/latex": [
       "A data.frame: 5 × 3\n",
       "\\begin{tabular}{r|lll}\n",
       "  & ngrams & freq & prop\\\\\n",
       "  & <chr> & <int> & <dbl>\\\\\n",
       "\\hline\n",
       "\t2572 & i'd like    & 276 & 3.153142e-05\\\\\n",
       "\t3433 & i'd be      & 217 & 2.479101e-05\\\\\n",
       "\t3850 & i'd love    & 196 & 2.239188e-05\\\\\n",
       "\t7387 & i'd say     & 112 & 1.279536e-05\\\\\n",
       "\t9424 & i'd rather  &  90 & 1.028199e-05\\\\\n",
       "\\end{tabular}\n"
      ],
      "text/markdown": [
       "\n",
       "A data.frame: 5 × 3\n",
       "\n",
       "| <!--/--> | ngrams &lt;chr&gt; | freq &lt;int&gt; | prop &lt;dbl&gt; |\n",
       "|---|---|---|---|\n",
       "| 2572 | i'd like    | 276 | 3.153142e-05 |\n",
       "| 3433 | i'd be      | 217 | 2.479101e-05 |\n",
       "| 3850 | i'd love    | 196 | 2.239188e-05 |\n",
       "| 7387 | i'd say     | 112 | 1.279536e-05 |\n",
       "| 9424 | i'd rather  |  90 | 1.028199e-05 |\n",
       "\n"
      ],
      "text/plain": [
       "     ngrams      freq prop        \n",
       "2572 i'd like    276  3.153142e-05\n",
       "3433 i'd be      217  2.479101e-05\n",
       "3850 i'd love    196  2.239188e-05\n",
       "7387 i'd say     112  1.279536e-05\n",
       "9424 i'd rather   90  1.028199e-05"
      ]
     },
     "metadata": {},
     "output_type": "display_data"
    }
   ],
   "source": [
    "df <- readRDS(\"~/Soft/Rtest/JHU_capstone_project_data/co_2gram_en.RDS\")\n",
    "head(df[grep(\"^i'd\", df[,1]),],5)"
   ]
  },
  {
   "cell_type": "code",
   "execution_count": 9,
   "metadata": {},
   "outputs": [
    {
     "data": {
      "text/html": [
       "<table>\n",
       "<caption>A data.frame: 5 × 3</caption>\n",
       "<thead>\n",
       "\t<tr><th></th><th scope=col>ngrams</th><th scope=col>freq</th><th scope=col>prop</th></tr>\n",
       "\t<tr><th></th><th scope=col>&lt;chr&gt;</th><th scope=col>&lt;int&gt;</th><th scope=col>&lt;dbl&gt;</th></tr>\n",
       "</thead>\n",
       "<tbody>\n",
       "\t<tr><th scope=row>383432</th><td>i'd eat   </td><td> 2</td><td>2.284886e-07</td></tr>\n",
       "\t<tr><th scope=row>2057112</th><td>i'd eaten </td><td> 1</td><td>1.142443e-07</td></tr>\n",
       "\t<tr><th scope=row>59910</th><td>i'd give  </td><td>15</td><td>1.713664e-06</td></tr>\n",
       "\t<tr><th scope=row>480838</th><td>i'd die   </td><td> 2</td><td>2.284886e-07</td></tr>\n",
       "\t<tr><th scope=row>1991647</th><td>i'd sleep </td><td> 1</td><td>1.142443e-07</td></tr>\n",
       "</tbody>\n",
       "</table>\n"
      ],
      "text/latex": [
       "A data.frame: 5 × 3\n",
       "\\begin{tabular}{r|lll}\n",
       "  & ngrams & freq & prop\\\\\n",
       "  & <chr> & <int> & <dbl>\\\\\n",
       "\\hline\n",
       "\t383432 & i'd eat    &  2 & 2.284886e-07\\\\\n",
       "\t2057112 & i'd eaten  &  1 & 1.142443e-07\\\\\n",
       "\t59910 & i'd give   & 15 & 1.713664e-06\\\\\n",
       "\t480838 & i'd die    &  2 & 2.284886e-07\\\\\n",
       "\t1991647 & i'd sleep  &  1 & 1.142443e-07\\\\\n",
       "\\end{tabular}\n"
      ],
      "text/markdown": [
       "\n",
       "A data.frame: 5 × 3\n",
       "\n",
       "| <!--/--> | ngrams &lt;chr&gt; | freq &lt;int&gt; | prop &lt;dbl&gt; |\n",
       "|---|---|---|---|\n",
       "| 383432 | i'd eat    |  2 | 2.284886e-07 |\n",
       "| 2057112 | i'd eaten  |  1 | 1.142443e-07 |\n",
       "| 59910 | i'd give   | 15 | 1.713664e-06 |\n",
       "| 480838 | i'd die    |  2 | 2.284886e-07 |\n",
       "| 1991647 | i'd sleep  |  1 | 1.142443e-07 |\n",
       "\n"
      ],
      "text/plain": [
       "        ngrams     freq prop        \n",
       "383432  i'd eat     2   2.284886e-07\n",
       "2057112 i'd eaten   1   1.142443e-07\n",
       "59910   i'd give   15   1.713664e-06\n",
       "480838  i'd die     2   2.284886e-07\n",
       "1991647 i'd sleep   1   1.142443e-07"
      ]
     },
     "metadata": {},
     "output_type": "display_data"
    }
   ],
   "source": [
    "rbind(\n",
    "    df[grep(\"^i'd eat\", df[,1]),],\n",
    "    df[grep(\"^i'd give\", df[,1]),],\n",
    "    df[grep(\"^i'd die\", df[,1]),],\n",
    "    df[grep(\"^i'd sleep\", df[,1]),]\n",
    ")"
   ]
  },
  {
   "cell_type": "markdown",
   "metadata": {},
   "source": [
    "### Question 2: Guy at my table's wife got up to go to the bathroom and I asked about dessert and he started telling me about his\n",
    "\n",
    "Options: spiritual financial marital horticultural"
   ]
  },
  {
   "cell_type": "code",
   "execution_count": 12,
   "metadata": {},
   "outputs": [
    {
     "data": {
      "text/html": [
       "<table>\n",
       "<caption>A data.frame: 5 × 3</caption>\n",
       "<thead>\n",
       "\t<tr><th></th><th scope=col>ngrams</th><th scope=col>freq</th><th scope=col>prop</th></tr>\n",
       "\t<tr><th></th><th scope=col>&lt;chr&gt;</th><th scope=col>&lt;int&gt;</th><th scope=col>&lt;dbl&gt;</th></tr>\n",
       "</thead>\n",
       "<tbody>\n",
       "\t<tr><th scope=row>754</th><td>his own    </td><td>759</td><td>8.671141e-05</td></tr>\n",
       "\t<tr><th scope=row>963</th><td>his first  </td><td>620</td><td>7.083146e-05</td></tr>\n",
       "\t<tr><th scope=row>1018</th><td>his wife   </td><td>591</td><td>6.751837e-05</td></tr>\n",
       "\t<tr><th scope=row>1922</th><td>history of </td><td>352</td><td>4.021399e-05</td></tr>\n",
       "\t<tr><th scope=row>2045</th><td>his life   </td><td>334</td><td>3.815759e-05</td></tr>\n",
       "</tbody>\n",
       "</table>\n"
      ],
      "text/latex": [
       "A data.frame: 5 × 3\n",
       "\\begin{tabular}{r|lll}\n",
       "  & ngrams & freq & prop\\\\\n",
       "  & <chr> & <int> & <dbl>\\\\\n",
       "\\hline\n",
       "\t754 & his own     & 759 & 8.671141e-05\\\\\n",
       "\t963 & his first   & 620 & 7.083146e-05\\\\\n",
       "\t1018 & his wife    & 591 & 6.751837e-05\\\\\n",
       "\t1922 & history of  & 352 & 4.021399e-05\\\\\n",
       "\t2045 & his life    & 334 & 3.815759e-05\\\\\n",
       "\\end{tabular}\n"
      ],
      "text/markdown": [
       "\n",
       "A data.frame: 5 × 3\n",
       "\n",
       "| <!--/--> | ngrams &lt;chr&gt; | freq &lt;int&gt; | prop &lt;dbl&gt; |\n",
       "|---|---|---|---|\n",
       "| 754 | his own     | 759 | 8.671141e-05 |\n",
       "| 963 | his first   | 620 | 7.083146e-05 |\n",
       "| 1018 | his wife    | 591 | 6.751837e-05 |\n",
       "| 1922 | history of  | 352 | 4.021399e-05 |\n",
       "| 2045 | his life    | 334 | 3.815759e-05 |\n",
       "\n"
      ],
      "text/plain": [
       "     ngrams      freq prop        \n",
       "754  his own     759  8.671141e-05\n",
       "963  his first   620  7.083146e-05\n",
       "1018 his wife    591  6.751837e-05\n",
       "1922 history of  352  4.021399e-05\n",
       "2045 his life    334  3.815759e-05"
      ]
     },
     "metadata": {},
     "output_type": "display_data"
    }
   ],
   "source": [
    "df <- readRDS(\"~/Soft/Rtest/JHU_capstone_project_data/co_2gram_en.RDS\")\n",
    "head(df[grep(\"^his\", df[,1]),],5)"
   ]
  },
  {
   "cell_type": "code",
   "execution_count": 13,
   "metadata": {},
   "outputs": [
    {
     "data": {
      "text/html": [
       "<table>\n",
       "<caption>A data.frame: 4 × 3</caption>\n",
       "<thead>\n",
       "\t<tr><th></th><th scope=col>ngrams</th><th scope=col>freq</th><th scope=col>prop</th></tr>\n",
       "\t<tr><th></th><th scope=col>&lt;chr&gt;</th><th scope=col>&lt;int&gt;</th><th scope=col>&lt;dbl&gt;</th></tr>\n",
       "</thead>\n",
       "<tbody>\n",
       "\t<tr><th scope=row>147956</th><td>his spiritual  </td><td> 6</td><td>6.854657e-07</td></tr>\n",
       "\t<tr><th scope=row>1969745</th><td>his spirituals </td><td> 1</td><td>1.142443e-07</td></tr>\n",
       "\t<tr><th scope=row>63951</th><td>his financial  </td><td>14</td><td>1.599420e-06</td></tr>\n",
       "\t<tr><th scope=row>1382658</th><td>his marital    </td><td> 1</td><td>1.142443e-07</td></tr>\n",
       "</tbody>\n",
       "</table>\n"
      ],
      "text/latex": [
       "A data.frame: 4 × 3\n",
       "\\begin{tabular}{r|lll}\n",
       "  & ngrams & freq & prop\\\\\n",
       "  & <chr> & <int> & <dbl>\\\\\n",
       "\\hline\n",
       "\t147956 & his spiritual   &  6 & 6.854657e-07\\\\\n",
       "\t1969745 & his spirituals  &  1 & 1.142443e-07\\\\\n",
       "\t63951 & his financial   & 14 & 1.599420e-06\\\\\n",
       "\t1382658 & his marital     &  1 & 1.142443e-07\\\\\n",
       "\\end{tabular}\n"
      ],
      "text/markdown": [
       "\n",
       "A data.frame: 4 × 3\n",
       "\n",
       "| <!--/--> | ngrams &lt;chr&gt; | freq &lt;int&gt; | prop &lt;dbl&gt; |\n",
       "|---|---|---|---|\n",
       "| 147956 | his spiritual   |  6 | 6.854657e-07 |\n",
       "| 1969745 | his spirituals  |  1 | 1.142443e-07 |\n",
       "| 63951 | his financial   | 14 | 1.599420e-06 |\n",
       "| 1382658 | his marital     |  1 | 1.142443e-07 |\n",
       "\n"
      ],
      "text/plain": [
       "        ngrams          freq prop        \n",
       "147956  his spiritual    6   6.854657e-07\n",
       "1969745 his spirituals   1   1.142443e-07\n",
       "63951   his financial   14   1.599420e-06\n",
       "1382658 his marital      1   1.142443e-07"
      ]
     },
     "metadata": {},
     "output_type": "display_data"
    }
   ],
   "source": [
    "rbind(\n",
    "    df[grep(\"^his spiritual\", df[,1]),],\n",
    "    df[grep(\"^his financial\", df[,1]),],\n",
    "    df[grep(\"^his marital\", df[,1]),],\n",
    "    df[grep(\"^his horticultural\", df[,1]),]\n",
    ")"
   ]
  },
  {
   "cell_type": "markdown",
   "metadata": {},
   "source": [
    "### Question 3: I'd give anything to see arctic monkeys this\n",
    "\n",
    "Options: decade weekend morning month"
   ]
  },
  {
   "cell_type": "code",
   "execution_count": 14,
   "metadata": {},
   "outputs": [
    {
     "data": {
      "text/html": [
       "<table>\n",
       "<caption>A data.frame: 5 × 3</caption>\n",
       "<thead>\n",
       "\t<tr><th></th><th scope=col>ngrams</th><th scope=col>freq</th><th scope=col>prop</th></tr>\n",
       "\t<tr><th></th><th scope=col>&lt;chr&gt;</th><th scope=col>&lt;int&gt;</th><th scope=col>&lt;dbl&gt;</th></tr>\n",
       "</thead>\n",
       "<tbody>\n",
       "\t<tr><th scope=row>34</th><td>this is      </td><td>5905</td><td>0.0006746125</td></tr>\n",
       "\t<tr><th scope=row>152</th><td>this year    </td><td>2270</td><td>0.0002593345</td></tr>\n",
       "\t<tr><th scope=row>197</th><td>this week    </td><td>1907</td><td>0.0002178639</td></tr>\n",
       "\t<tr><th scope=row>377</th><td>this morning </td><td>1234</td><td>0.0001409774</td></tr>\n",
       "\t<tr><th scope=row>436</th><td>this time    </td><td>1110</td><td>0.0001268112</td></tr>\n",
       "</tbody>\n",
       "</table>\n"
      ],
      "text/latex": [
       "A data.frame: 5 × 3\n",
       "\\begin{tabular}{r|lll}\n",
       "  & ngrams & freq & prop\\\\\n",
       "  & <chr> & <int> & <dbl>\\\\\n",
       "\\hline\n",
       "\t34 & this is       & 5905 & 0.0006746125\\\\\n",
       "\t152 & this year     & 2270 & 0.0002593345\\\\\n",
       "\t197 & this week     & 1907 & 0.0002178639\\\\\n",
       "\t377 & this morning  & 1234 & 0.0001409774\\\\\n",
       "\t436 & this time     & 1110 & 0.0001268112\\\\\n",
       "\\end{tabular}\n"
      ],
      "text/markdown": [
       "\n",
       "A data.frame: 5 × 3\n",
       "\n",
       "| <!--/--> | ngrams &lt;chr&gt; | freq &lt;int&gt; | prop &lt;dbl&gt; |\n",
       "|---|---|---|---|\n",
       "| 34 | this is       | 5905 | 0.0006746125 |\n",
       "| 152 | this year     | 2270 | 0.0002593345 |\n",
       "| 197 | this week     | 1907 | 0.0002178639 |\n",
       "| 377 | this morning  | 1234 | 0.0001409774 |\n",
       "| 436 | this time     | 1110 | 0.0001268112 |\n",
       "\n"
      ],
      "text/plain": [
       "    ngrams        freq prop        \n",
       "34  this is       5905 0.0006746125\n",
       "152 this year     2270 0.0002593345\n",
       "197 this week     1907 0.0002178639\n",
       "377 this morning  1234 0.0001409774\n",
       "436 this time     1110 0.0001268112"
      ]
     },
     "metadata": {},
     "output_type": "display_data"
    }
   ],
   "source": [
    "df <- readRDS(\"~/Soft/Rtest/JHU_capstone_project_data/co_2gram_en.RDS\")\n",
    "head(df[grep(\"^this\", df[,1]),],5)"
   ]
  },
  {
   "cell_type": "code",
   "execution_count": 18,
   "metadata": {},
   "outputs": [
    {
     "data": {
      "text/html": [
       "<table>\n",
       "<caption>A data.frame: 21 × 3</caption>\n",
       "<thead>\n",
       "\t<tr><th></th><th scope=col>ngrams</th><th scope=col>freq</th><th scope=col>prop</th></tr>\n",
       "\t<tr><th></th><th scope=col>&lt;chr&gt;</th><th scope=col>&lt;int&gt;</th><th scope=col>&lt;dbl&gt;</th></tr>\n",
       "</thead>\n",
       "<tbody>\n",
       "\t<tr><th scope=row>80834</th><td>this decade       </td><td>  11</td><td>1.256687e-06</td></tr>\n",
       "\t<tr><th scope=row>539930</th><td>this decade-long  </td><td>   2</td><td>2.284886e-07</td></tr>\n",
       "\t<tr><th scope=row>624298</th><td>this decadent     </td><td>   1</td><td>1.142443e-07</td></tr>\n",
       "\t<tr><th scope=row>466</th><td>this weekend      </td><td>1065</td><td>1.216702e-04</td></tr>\n",
       "\t<tr><th scope=row>38784</th><td>this weekend's    </td><td>  24</td><td>2.741863e-06</td></tr>\n",
       "\t<tr><th scope=row>165571</th><td>this weekend’s    </td><td>   5</td><td>5.712214e-07</td></tr>\n",
       "\t<tr><th scope=row>320561</th><td>this weekends     </td><td>   3</td><td>3.427329e-07</td></tr>\n",
       "\t<tr><th scope=row>358419</th><td>this weekendd     </td><td>   2</td><td>2.284886e-07</td></tr>\n",
       "\t<tr><th scope=row>1748332</th><td>this weekend--it  </td><td>   1</td><td>1.142443e-07</td></tr>\n",
       "\t<tr><th scope=row>377</th><td>this morning      </td><td>1234</td><td>1.409774e-04</td></tr>\n",
       "\t<tr><th scope=row>55434</th><td>this morning's    </td><td>  17</td><td>1.942153e-06</td></tr>\n",
       "\t<tr><th scope=row>190088</th><td>this morning’s    </td><td>   5</td><td>5.712214e-07</td></tr>\n",
       "\t<tr><th scope=row>635039</th><td>this morning--and </td><td>   1</td><td>1.142443e-07</td></tr>\n",
       "\t<tr><th scope=row>1152970</th><td>this mornings     </td><td>   1</td><td>1.142443e-07</td></tr>\n",
       "\t<tr><th scope=row>1280522</th><td>this morning-a    </td><td>   1</td><td>1.142443e-07</td></tr>\n",
       "\t<tr><th scope=row>1931058</th><td>this morningi     </td><td>   1</td><td>1.142443e-07</td></tr>\n",
       "\t<tr><th scope=row>1223</th><td>this month        </td><td> 513</td><td>5.860732e-05</td></tr>\n",
       "\t<tr><th scope=row>27888</th><td>this month's      </td><td>  33</td><td>3.770061e-06</td></tr>\n",
       "\t<tr><th scope=row>81487</th><td>this months       </td><td>  11</td><td>1.256687e-06</td></tr>\n",
       "\t<tr><th scope=row>110079</th><td>this month’s      </td><td>   8</td><td>9.139543e-07</td></tr>\n",
       "\t<tr><th scope=row>616835</th><td>this monthly      </td><td>   1</td><td>1.142443e-07</td></tr>\n",
       "</tbody>\n",
       "</table>\n"
      ],
      "text/latex": [
       "A data.frame: 21 × 3\n",
       "\\begin{tabular}{r|lll}\n",
       "  & ngrams & freq & prop\\\\\n",
       "  & <chr> & <int> & <dbl>\\\\\n",
       "\\hline\n",
       "\t80834 & this decade        &   11 & 1.256687e-06\\\\\n",
       "\t539930 & this decade-long   &    2 & 2.284886e-07\\\\\n",
       "\t624298 & this decadent      &    1 & 1.142443e-07\\\\\n",
       "\t466 & this weekend       & 1065 & 1.216702e-04\\\\\n",
       "\t38784 & this weekend's     &   24 & 2.741863e-06\\\\\n",
       "\t165571 & this weekend’s     &    5 & 5.712214e-07\\\\\n",
       "\t320561 & this weekends      &    3 & 3.427329e-07\\\\\n",
       "\t358419 & this weekendd      &    2 & 2.284886e-07\\\\\n",
       "\t1748332 & this weekend--it   &    1 & 1.142443e-07\\\\\n",
       "\t377 & this morning       & 1234 & 1.409774e-04\\\\\n",
       "\t55434 & this morning's     &   17 & 1.942153e-06\\\\\n",
       "\t190088 & this morning’s     &    5 & 5.712214e-07\\\\\n",
       "\t635039 & this morning--and  &    1 & 1.142443e-07\\\\\n",
       "\t1152970 & this mornings      &    1 & 1.142443e-07\\\\\n",
       "\t1280522 & this morning-a     &    1 & 1.142443e-07\\\\\n",
       "\t1931058 & this morningi      &    1 & 1.142443e-07\\\\\n",
       "\t1223 & this month         &  513 & 5.860732e-05\\\\\n",
       "\t27888 & this month's       &   33 & 3.770061e-06\\\\\n",
       "\t81487 & this months        &   11 & 1.256687e-06\\\\\n",
       "\t110079 & this month’s       &    8 & 9.139543e-07\\\\\n",
       "\t616835 & this monthly       &    1 & 1.142443e-07\\\\\n",
       "\\end{tabular}\n"
      ],
      "text/markdown": [
       "\n",
       "A data.frame: 21 × 3\n",
       "\n",
       "| <!--/--> | ngrams &lt;chr&gt; | freq &lt;int&gt; | prop &lt;dbl&gt; |\n",
       "|---|---|---|---|\n",
       "| 80834 | this decade        |   11 | 1.256687e-06 |\n",
       "| 539930 | this decade-long   |    2 | 2.284886e-07 |\n",
       "| 624298 | this decadent      |    1 | 1.142443e-07 |\n",
       "| 466 | this weekend       | 1065 | 1.216702e-04 |\n",
       "| 38784 | this weekend's     |   24 | 2.741863e-06 |\n",
       "| 165571 | this weekend’s     |    5 | 5.712214e-07 |\n",
       "| 320561 | this weekends      |    3 | 3.427329e-07 |\n",
       "| 358419 | this weekendd      |    2 | 2.284886e-07 |\n",
       "| 1748332 | this weekend--it   |    1 | 1.142443e-07 |\n",
       "| 377 | this morning       | 1234 | 1.409774e-04 |\n",
       "| 55434 | this morning's     |   17 | 1.942153e-06 |\n",
       "| 190088 | this morning’s     |    5 | 5.712214e-07 |\n",
       "| 635039 | this morning--and  |    1 | 1.142443e-07 |\n",
       "| 1152970 | this mornings      |    1 | 1.142443e-07 |\n",
       "| 1280522 | this morning-a     |    1 | 1.142443e-07 |\n",
       "| 1931058 | this morningi      |    1 | 1.142443e-07 |\n",
       "| 1223 | this month         |  513 | 5.860732e-05 |\n",
       "| 27888 | this month's       |   33 | 3.770061e-06 |\n",
       "| 81487 | this months        |   11 | 1.256687e-06 |\n",
       "| 110079 | this month’s       |    8 | 9.139543e-07 |\n",
       "| 616835 | this monthly       |    1 | 1.142443e-07 |\n",
       "\n"
      ],
      "text/plain": [
       "        ngrams             freq prop        \n",
       "80834   this decade          11 1.256687e-06\n",
       "539930  this decade-long      2 2.284886e-07\n",
       "624298  this decadent         1 1.142443e-07\n",
       "466     this weekend       1065 1.216702e-04\n",
       "38784   this weekend's       24 2.741863e-06\n",
       "165571  this weekend’s        5 5.712214e-07\n",
       "320561  this weekends         3 3.427329e-07\n",
       "358419  this weekendd         2 2.284886e-07\n",
       "1748332 this weekend--it      1 1.142443e-07\n",
       "377     this morning       1234 1.409774e-04\n",
       "55434   this morning's       17 1.942153e-06\n",
       "190088  this morning’s        5 5.712214e-07\n",
       "635039  this morning--and     1 1.142443e-07\n",
       "1152970 this mornings         1 1.142443e-07\n",
       "1280522 this morning-a        1 1.142443e-07\n",
       "1931058 this morningi         1 1.142443e-07\n",
       "1223    this month          513 5.860732e-05\n",
       "27888   this month's         33 3.770061e-06\n",
       "81487   this months          11 1.256687e-06\n",
       "110079  this month’s          8 9.139543e-07\n",
       "616835  this monthly          1 1.142443e-07"
      ]
     },
     "metadata": {},
     "output_type": "display_data"
    }
   ],
   "source": [
    "rbind(\n",
    "    df[grep(\"^this decade\", df[,1]),],\n",
    "    df[grep(\"^this weekend\", df[,1]),],\n",
    "    df[grep(\"^this morning\", df[,1]),],\n",
    "    df[grep(\"^this month\", df[,1]),]\n",
    ")"
   ]
  },
  {
   "cell_type": "markdown",
   "metadata": {},
   "source": [
    "### Question 4: Talking to your mom has the same effect as a hug and helps reduce your\n",
    "\n",
    "Options: hunger sleepiness stress happiness"
   ]
  },
  {
   "cell_type": "code",
   "execution_count": 19,
   "metadata": {},
   "outputs": [
    {
     "data": {
      "text/html": [
       "<table>\n",
       "<caption>A data.frame: 5 × 3</caption>\n",
       "<thead>\n",
       "\t<tr><th></th><th scope=col>ngrams</th><th scope=col>freq</th><th scope=col>prop</th></tr>\n",
       "\t<tr><th></th><th scope=col>&lt;chr&gt;</th><th scope=col>&lt;int&gt;</th><th scope=col>&lt;dbl&gt;</th></tr>\n",
       "</thead>\n",
       "<tbody>\n",
       "\t<tr><th scope=row>211502</th><td>reduce your risk     </td><td>3</td><td>4.06488e-07</td></tr>\n",
       "\t<tr><th scope=row>1011261</th><td>reduce your stress   </td><td>1</td><td>1.35496e-07</td></tr>\n",
       "\t<tr><th scope=row>1828697</th><td>reduce your mortgage </td><td>1</td><td>1.35496e-07</td></tr>\n",
       "\t<tr><th scope=row>2026836</th><td>reduce your plan     </td><td>1</td><td>1.35496e-07</td></tr>\n",
       "\t<tr><th scope=row>2167998</th><td>reduce your symptoms </td><td>1</td><td>1.35496e-07</td></tr>\n",
       "</tbody>\n",
       "</table>\n"
      ],
      "text/latex": [
       "A data.frame: 5 × 3\n",
       "\\begin{tabular}{r|lll}\n",
       "  & ngrams & freq & prop\\\\\n",
       "  & <chr> & <int> & <dbl>\\\\\n",
       "\\hline\n",
       "\t211502 & reduce your risk      & 3 & 4.06488e-07\\\\\n",
       "\t1011261 & reduce your stress    & 1 & 1.35496e-07\\\\\n",
       "\t1828697 & reduce your mortgage  & 1 & 1.35496e-07\\\\\n",
       "\t2026836 & reduce your plan      & 1 & 1.35496e-07\\\\\n",
       "\t2167998 & reduce your symptoms  & 1 & 1.35496e-07\\\\\n",
       "\\end{tabular}\n"
      ],
      "text/markdown": [
       "\n",
       "A data.frame: 5 × 3\n",
       "\n",
       "| <!--/--> | ngrams &lt;chr&gt; | freq &lt;int&gt; | prop &lt;dbl&gt; |\n",
       "|---|---|---|---|\n",
       "| 211502 | reduce your risk      | 3 | 4.06488e-07 |\n",
       "| 1011261 | reduce your stress    | 1 | 1.35496e-07 |\n",
       "| 1828697 | reduce your mortgage  | 1 | 1.35496e-07 |\n",
       "| 2026836 | reduce your plan      | 1 | 1.35496e-07 |\n",
       "| 2167998 | reduce your symptoms  | 1 | 1.35496e-07 |\n",
       "\n"
      ],
      "text/plain": [
       "        ngrams                freq prop       \n",
       "211502  reduce your risk      3    4.06488e-07\n",
       "1011261 reduce your stress    1    1.35496e-07\n",
       "1828697 reduce your mortgage  1    1.35496e-07\n",
       "2026836 reduce your plan      1    1.35496e-07\n",
       "2167998 reduce your symptoms  1    1.35496e-07"
      ]
     },
     "metadata": {},
     "output_type": "display_data"
    }
   ],
   "source": [
    "df <- readRDS(\"~/Soft/Rtest/JHU_capstone_project_data/co_3gram_en.RDS\")\n",
    "head(df[grep(\"^reduce your\", df[,1]),],5)"
   ]
  },
  {
   "cell_type": "code",
   "execution_count": 20,
   "metadata": {},
   "outputs": [
    {
     "data": {
      "text/html": [
       "<table>\n",
       "<caption>A data.frame: 1 × 3</caption>\n",
       "<thead>\n",
       "\t<tr><th></th><th scope=col>ngrams</th><th scope=col>freq</th><th scope=col>prop</th></tr>\n",
       "\t<tr><th></th><th scope=col>&lt;chr&gt;</th><th scope=col>&lt;int&gt;</th><th scope=col>&lt;dbl&gt;</th></tr>\n",
       "</thead>\n",
       "<tbody>\n",
       "\t<tr><th scope=row>1011261</th><td>reduce your stress </td><td>1</td><td>1.35496e-07</td></tr>\n",
       "</tbody>\n",
       "</table>\n"
      ],
      "text/latex": [
       "A data.frame: 1 × 3\n",
       "\\begin{tabular}{r|lll}\n",
       "  & ngrams & freq & prop\\\\\n",
       "  & <chr> & <int> & <dbl>\\\\\n",
       "\\hline\n",
       "\t1011261 & reduce your stress  & 1 & 1.35496e-07\\\\\n",
       "\\end{tabular}\n"
      ],
      "text/markdown": [
       "\n",
       "A data.frame: 1 × 3\n",
       "\n",
       "| <!--/--> | ngrams &lt;chr&gt; | freq &lt;int&gt; | prop &lt;dbl&gt; |\n",
       "|---|---|---|---|\n",
       "| 1011261 | reduce your stress  | 1 | 1.35496e-07 |\n",
       "\n"
      ],
      "text/plain": [
       "        ngrams              freq prop       \n",
       "1011261 reduce your stress  1    1.35496e-07"
      ]
     },
     "metadata": {},
     "output_type": "display_data"
    }
   ],
   "source": [
    "rbind(\n",
    "    df[grep(\"^reduce your hunger\", df[,1]),],\n",
    "    df[grep(\"^reduce your sleepiness\", df[,1]),],\n",
    "    df[grep(\"^reduce your stress\", df[,1]),],\n",
    "    df[grep(\"^reduce your happiness\", df[,1]),]\n",
    ")"
   ]
  },
  {
   "cell_type": "markdown",
   "metadata": {},
   "source": [
    "### Question 5: When you were in Holland you were like 1 inch away from me but you hadn't time to take a\n",
    "\n",
    "Options: minute look walk picture"
   ]
  },
  {
   "cell_type": "code",
   "execution_count": 21,
   "metadata": {},
   "outputs": [
    {
     "data": {
      "text/html": [
       "<table>\n",
       "<caption>A data.frame: 5 × 3</caption>\n",
       "<thead>\n",
       "\t<tr><th></th><th scope=col>ngrams</th><th scope=col>freq</th><th scope=col>prop</th></tr>\n",
       "\t<tr><th></th><th scope=col>&lt;chr&gt;</th><th scope=col>&lt;int&gt;</th><th scope=col>&lt;dbl&gt;</th></tr>\n",
       "</thead>\n",
       "<tbody>\n",
       "\t<tr><th scope=row>940</th><td>take a look       </td><td>155</td><td>2.100188e-05</td></tr>\n",
       "\t<tr><th scope=row>1329</th><td>take advantage of </td><td>126</td><td>1.707250e-05</td></tr>\n",
       "\t<tr><th scope=row>5688</th><td>take a picture    </td><td> 48</td><td>6.503808e-06</td></tr>\n",
       "\t<tr><th scope=row>5915</th><td>take a few        </td><td> 47</td><td>6.368312e-06</td></tr>\n",
       "\t<tr><th scope=row>6446</th><td>take a nap        </td><td> 44</td><td>5.961824e-06</td></tr>\n",
       "</tbody>\n",
       "</table>\n"
      ],
      "text/latex": [
       "A data.frame: 5 × 3\n",
       "\\begin{tabular}{r|lll}\n",
       "  & ngrams & freq & prop\\\\\n",
       "  & <chr> & <int> & <dbl>\\\\\n",
       "\\hline\n",
       "\t940 & take a look        & 155 & 2.100188e-05\\\\\n",
       "\t1329 & take advantage of  & 126 & 1.707250e-05\\\\\n",
       "\t5688 & take a picture     &  48 & 6.503808e-06\\\\\n",
       "\t5915 & take a few         &  47 & 6.368312e-06\\\\\n",
       "\t6446 & take a nap         &  44 & 5.961824e-06\\\\\n",
       "\\end{tabular}\n"
      ],
      "text/markdown": [
       "\n",
       "A data.frame: 5 × 3\n",
       "\n",
       "| <!--/--> | ngrams &lt;chr&gt; | freq &lt;int&gt; | prop &lt;dbl&gt; |\n",
       "|---|---|---|---|\n",
       "| 940 | take a look        | 155 | 2.100188e-05 |\n",
       "| 1329 | take advantage of  | 126 | 1.707250e-05 |\n",
       "| 5688 | take a picture     |  48 | 6.503808e-06 |\n",
       "| 5915 | take a few         |  47 | 6.368312e-06 |\n",
       "| 6446 | take a nap         |  44 | 5.961824e-06 |\n",
       "\n"
      ],
      "text/plain": [
       "     ngrams             freq prop        \n",
       "940  take a look        155  2.100188e-05\n",
       "1329 take advantage of  126  1.707250e-05\n",
       "5688 take a picture      48  6.503808e-06\n",
       "5915 take a few          47  6.368312e-06\n",
       "6446 take a nap          44  5.961824e-06"
      ]
     },
     "metadata": {},
     "output_type": "display_data"
    }
   ],
   "source": [
    "df <- readRDS(\"~/Soft/Rtest/JHU_capstone_project_data/co_3gram_en.RDS\")\n",
    "head(df[grep(\"^take a\", df[,1]),],5)"
   ]
  },
  {
   "cell_type": "markdown",
   "metadata": {},
   "source": [
    "### Question 6: I'd just like all of these questions answered, a presentation of evidence, and a jury to settle the\n",
    "\n",
    "Options: incident account case matter"
   ]
  },
  {
   "cell_type": "code",
   "execution_count": 22,
   "metadata": {},
   "outputs": [
    {
     "data": {
      "text/html": [
       "<table>\n",
       "<caption>A data.frame: 5 × 3</caption>\n",
       "<thead>\n",
       "\t<tr><th></th><th scope=col>ngrams</th><th scope=col>freq</th><th scope=col>prop</th></tr>\n",
       "\t<tr><th></th><th scope=col>&lt;chr&gt;</th><th scope=col>&lt;int&gt;</th><th scope=col>&lt;dbl&gt;</th></tr>\n",
       "</thead>\n",
       "<tbody>\n",
       "\t<tr><th scope=row>158708</th><td>settle the case         </td><td>4</td><td>5.41984e-07</td></tr>\n",
       "\t<tr><th scope=row>782094</th><td>settle the federal      </td><td>1</td><td>1.35496e-07</td></tr>\n",
       "\t<tr><th scope=row>1186435</th><td>settle there and        </td><td>1</td><td>1.35496e-07</td></tr>\n",
       "\t<tr><th scope=row>1458430</th><td>settle the after-dinner </td><td>1</td><td>1.35496e-07</td></tr>\n",
       "\t<tr><th scope=row>1718227</th><td>settle the bill         </td><td>1</td><td>1.35496e-07</td></tr>\n",
       "</tbody>\n",
       "</table>\n"
      ],
      "text/latex": [
       "A data.frame: 5 × 3\n",
       "\\begin{tabular}{r|lll}\n",
       "  & ngrams & freq & prop\\\\\n",
       "  & <chr> & <int> & <dbl>\\\\\n",
       "\\hline\n",
       "\t158708 & settle the case          & 4 & 5.41984e-07\\\\\n",
       "\t782094 & settle the federal       & 1 & 1.35496e-07\\\\\n",
       "\t1186435 & settle there and         & 1 & 1.35496e-07\\\\\n",
       "\t1458430 & settle the after-dinner  & 1 & 1.35496e-07\\\\\n",
       "\t1718227 & settle the bill          & 1 & 1.35496e-07\\\\\n",
       "\\end{tabular}\n"
      ],
      "text/markdown": [
       "\n",
       "A data.frame: 5 × 3\n",
       "\n",
       "| <!--/--> | ngrams &lt;chr&gt; | freq &lt;int&gt; | prop &lt;dbl&gt; |\n",
       "|---|---|---|---|\n",
       "| 158708 | settle the case          | 4 | 5.41984e-07 |\n",
       "| 782094 | settle the federal       | 1 | 1.35496e-07 |\n",
       "| 1186435 | settle there and         | 1 | 1.35496e-07 |\n",
       "| 1458430 | settle the after-dinner  | 1 | 1.35496e-07 |\n",
       "| 1718227 | settle the bill          | 1 | 1.35496e-07 |\n",
       "\n"
      ],
      "text/plain": [
       "        ngrams                   freq prop       \n",
       "158708  settle the case          4    5.41984e-07\n",
       "782094  settle the federal       1    1.35496e-07\n",
       "1186435 settle there and         1    1.35496e-07\n",
       "1458430 settle the after-dinner  1    1.35496e-07\n",
       "1718227 settle the bill          1    1.35496e-07"
      ]
     },
     "metadata": {},
     "output_type": "display_data"
    }
   ],
   "source": [
    "df <- readRDS(\"~/Soft/Rtest/JHU_capstone_project_data/co_3gram_en.RDS\")\n",
    "head(df[grep(\"^settle the\", df[,1]),],5)"
   ]
  },
  {
   "cell_type": "markdown",
   "metadata": {},
   "source": [
    "### Question 7: I can't deal with unsymetrical things. I can't even hold an uneven number of bags of groceries in each\n",
    "\n",
    "Options: finger arm toe hand"
   ]
  },
  {
   "cell_type": "code",
   "execution_count": 23,
   "metadata": {},
   "outputs": [
    {
     "data": {
      "text/html": [
       "<table>\n",
       "<caption>A data.frame: 5 × 3</caption>\n",
       "<thead>\n",
       "\t<tr><th></th><th scope=col>ngrams</th><th scope=col>freq</th><th scope=col>prop</th></tr>\n",
       "\t<tr><th></th><th scope=col>&lt;chr&gt;</th><th scope=col>&lt;int&gt;</th><th scope=col>&lt;dbl&gt;</th></tr>\n",
       "</thead>\n",
       "<tbody>\n",
       "\t<tr><th scope=row>3313</th><td>in each of        </td><td>70</td><td>9.48472e-06</td></tr>\n",
       "\t<tr><th scope=row>71550</th><td>in each direction </td><td> 7</td><td>9.48472e-07</td></tr>\n",
       "\t<tr><th scope=row>79761</th><td>in each hand      </td><td> 7</td><td>9.48472e-07</td></tr>\n",
       "\t<tr><th scope=row>87232</th><td>in each state     </td><td> 6</td><td>8.12976e-07</td></tr>\n",
       "\t<tr><th scope=row>89663</th><td>in each square    </td><td> 6</td><td>8.12976e-07</td></tr>\n",
       "</tbody>\n",
       "</table>\n"
      ],
      "text/latex": [
       "A data.frame: 5 × 3\n",
       "\\begin{tabular}{r|lll}\n",
       "  & ngrams & freq & prop\\\\\n",
       "  & <chr> & <int> & <dbl>\\\\\n",
       "\\hline\n",
       "\t3313 & in each of         & 70 & 9.48472e-06\\\\\n",
       "\t71550 & in each direction  &  7 & 9.48472e-07\\\\\n",
       "\t79761 & in each hand       &  7 & 9.48472e-07\\\\\n",
       "\t87232 & in each state      &  6 & 8.12976e-07\\\\\n",
       "\t89663 & in each square     &  6 & 8.12976e-07\\\\\n",
       "\\end{tabular}\n"
      ],
      "text/markdown": [
       "\n",
       "A data.frame: 5 × 3\n",
       "\n",
       "| <!--/--> | ngrams &lt;chr&gt; | freq &lt;int&gt; | prop &lt;dbl&gt; |\n",
       "|---|---|---|---|\n",
       "| 3313 | in each of         | 70 | 9.48472e-06 |\n",
       "| 71550 | in each direction  |  7 | 9.48472e-07 |\n",
       "| 79761 | in each hand       |  7 | 9.48472e-07 |\n",
       "| 87232 | in each state      |  6 | 8.12976e-07 |\n",
       "| 89663 | in each square     |  6 | 8.12976e-07 |\n",
       "\n"
      ],
      "text/plain": [
       "      ngrams             freq prop       \n",
       "3313  in each of         70   9.48472e-06\n",
       "71550 in each direction   7   9.48472e-07\n",
       "79761 in each hand        7   9.48472e-07\n",
       "87232 in each state       6   8.12976e-07\n",
       "89663 in each square      6   8.12976e-07"
      ]
     },
     "metadata": {},
     "output_type": "display_data"
    }
   ],
   "source": [
    "df <- readRDS(\"~/Soft/Rtest/JHU_capstone_project_data/co_3gram_en.RDS\")\n",
    "head(df[grep(\"^in each\", df[,1]), ], 5)"
   ]
  },
  {
   "cell_type": "markdown",
   "metadata": {},
   "source": [
    "### Question 8: Every inch of you is perfect from the bottom to the\n",
    "\n",
    "Options: top center middle side"
   ]
  },
  {
   "cell_type": "code",
   "execution_count": 24,
   "metadata": {},
   "outputs": [
    {
     "data": {
      "text/html": [
       "<table>\n",
       "<caption>A data.frame: 5 × 3</caption>\n",
       "<thead>\n",
       "\t<tr><th></th><th scope=col>ngrams</th><th scope=col>freq</th><th scope=col>prop</th></tr>\n",
       "\t<tr><th></th><th scope=col>&lt;chr&gt;</th><th scope=col>&lt;int&gt;</th><th scope=col>&lt;dbl&gt;</th></tr>\n",
       "</thead>\n",
       "<tbody>\n",
       "\t<tr><th scope=row>689</th><td>to the next   </td><td>183</td><td>2.479577e-05</td></tr>\n",
       "\t<tr><th scope=row>789</th><td>to the point  </td><td>170</td><td>2.303432e-05</td></tr>\n",
       "\t<tr><th scope=row>1037</th><td>to the public </td><td>146</td><td>1.978242e-05</td></tr>\n",
       "\t<tr><th scope=row>1042</th><td>to the world  </td><td>145</td><td>1.964692e-05</td></tr>\n",
       "\t<tr><th scope=row>1053</th><td>to the new    </td><td>144</td><td>1.951142e-05</td></tr>\n",
       "</tbody>\n",
       "</table>\n"
      ],
      "text/latex": [
       "A data.frame: 5 × 3\n",
       "\\begin{tabular}{r|lll}\n",
       "  & ngrams & freq & prop\\\\\n",
       "  & <chr> & <int> & <dbl>\\\\\n",
       "\\hline\n",
       "\t689 & to the next    & 183 & 2.479577e-05\\\\\n",
       "\t789 & to the point   & 170 & 2.303432e-05\\\\\n",
       "\t1037 & to the public  & 146 & 1.978242e-05\\\\\n",
       "\t1042 & to the world   & 145 & 1.964692e-05\\\\\n",
       "\t1053 & to the new     & 144 & 1.951142e-05\\\\\n",
       "\\end{tabular}\n"
      ],
      "text/markdown": [
       "\n",
       "A data.frame: 5 × 3\n",
       "\n",
       "| <!--/--> | ngrams &lt;chr&gt; | freq &lt;int&gt; | prop &lt;dbl&gt; |\n",
       "|---|---|---|---|\n",
       "| 689 | to the next    | 183 | 2.479577e-05 |\n",
       "| 789 | to the point   | 170 | 2.303432e-05 |\n",
       "| 1037 | to the public  | 146 | 1.978242e-05 |\n",
       "| 1042 | to the world   | 145 | 1.964692e-05 |\n",
       "| 1053 | to the new     | 144 | 1.951142e-05 |\n",
       "\n"
      ],
      "text/plain": [
       "     ngrams         freq prop        \n",
       "689  to the next    183  2.479577e-05\n",
       "789  to the point   170  2.303432e-05\n",
       "1037 to the public  146  1.978242e-05\n",
       "1042 to the world   145  1.964692e-05\n",
       "1053 to the new     144  1.951142e-05"
      ]
     },
     "metadata": {},
     "output_type": "display_data"
    }
   ],
   "source": [
    "df <- readRDS(\"~/Soft/Rtest/JHU_capstone_project_data/co_3gram_en.RDS\")\n",
    "head(df[grep(\"^to the\", df[,1]), ], 5)"
   ]
  },
  {
   "cell_type": "code",
   "execution_count": 25,
   "metadata": {},
   "outputs": [
    {
     "data": {
      "text/html": [
       "<table>\n",
       "<caption>A data.frame: 18 × 3</caption>\n",
       "<thead>\n",
       "\t<tr><th></th><th scope=col>ngrams</th><th scope=col>freq</th><th scope=col>prop</th></tr>\n",
       "\t<tr><th></th><th scope=col>&lt;chr&gt;</th><th scope=col>&lt;int&gt;</th><th scope=col>&lt;dbl&gt;</th></tr>\n",
       "</thead>\n",
       "<tbody>\n",
       "\t<tr><th scope=row>1174</th><td>to the top        </td><td>135</td><td>1.829196e-05</td></tr>\n",
       "\t<tr><th scope=row>63201</th><td>to the topic      </td><td>  8</td><td>1.083968e-06</td></tr>\n",
       "\t<tr><th scope=row>1679931</th><td>to the topanga    </td><td>  1</td><td>1.354960e-07</td></tr>\n",
       "\t<tr><th scope=row>2605986</th><td>to the topps      </td><td>  1</td><td>1.354960e-07</td></tr>\n",
       "\t<tr><th scope=row>2893608</th><td>to the toppling   </td><td>  1</td><td>1.354960e-07</td></tr>\n",
       "\t<tr><th scope=row>16055</th><td>to the center     </td><td> 23</td><td>3.116408e-06</td></tr>\n",
       "\t<tr><th scope=row>74575</th><td>to the centers    </td><td>  7</td><td>9.484720e-07</td></tr>\n",
       "\t<tr><th scope=row>2868184</th><td>to the center's   </td><td>  1</td><td>1.354960e-07</td></tr>\n",
       "\t<tr><th scope=row>4630395</th><td>to the center’s   </td><td>  1</td><td>1.354960e-07</td></tr>\n",
       "\t<tr><th scope=row>10239</th><td>to the middle     </td><td> 32</td><td>4.335872e-06</td></tr>\n",
       "\t<tr><th scope=row>2617855</th><td>to the middleburg </td><td>  1</td><td>1.354960e-07</td></tr>\n",
       "\t<tr><th scope=row>7358</th><td>to the side       </td><td> 40</td><td>5.419840e-06</td></tr>\n",
       "\t<tr><th scope=row>130513</th><td>to the sides      </td><td>  5</td><td>6.774800e-07</td></tr>\n",
       "\t<tr><th scope=row>296701</th><td>to the sidewalk   </td><td>  3</td><td>4.064880e-07</td></tr>\n",
       "\t<tr><th scope=row>431403</th><td>to the sideline   </td><td>  2</td><td>2.709920e-07</td></tr>\n",
       "\t<tr><th scope=row>1270300</th><td>to the sidebar    </td><td>  1</td><td>1.354960e-07</td></tr>\n",
       "\t<tr><th scope=row>2164722</th><td>to the sidepods   </td><td>  1</td><td>1.354960e-07</td></tr>\n",
       "\t<tr><th scope=row>3295367</th><td>to the sidelines  </td><td>  1</td><td>1.354960e-07</td></tr>\n",
       "</tbody>\n",
       "</table>\n"
      ],
      "text/latex": [
       "A data.frame: 18 × 3\n",
       "\\begin{tabular}{r|lll}\n",
       "  & ngrams & freq & prop\\\\\n",
       "  & <chr> & <int> & <dbl>\\\\\n",
       "\\hline\n",
       "\t1174 & to the top         & 135 & 1.829196e-05\\\\\n",
       "\t63201 & to the topic       &   8 & 1.083968e-06\\\\\n",
       "\t1679931 & to the topanga     &   1 & 1.354960e-07\\\\\n",
       "\t2605986 & to the topps       &   1 & 1.354960e-07\\\\\n",
       "\t2893608 & to the toppling    &   1 & 1.354960e-07\\\\\n",
       "\t16055 & to the center      &  23 & 3.116408e-06\\\\\n",
       "\t74575 & to the centers     &   7 & 9.484720e-07\\\\\n",
       "\t2868184 & to the center's    &   1 & 1.354960e-07\\\\\n",
       "\t4630395 & to the center’s    &   1 & 1.354960e-07\\\\\n",
       "\t10239 & to the middle      &  32 & 4.335872e-06\\\\\n",
       "\t2617855 & to the middleburg  &   1 & 1.354960e-07\\\\\n",
       "\t7358 & to the side        &  40 & 5.419840e-06\\\\\n",
       "\t130513 & to the sides       &   5 & 6.774800e-07\\\\\n",
       "\t296701 & to the sidewalk    &   3 & 4.064880e-07\\\\\n",
       "\t431403 & to the sideline    &   2 & 2.709920e-07\\\\\n",
       "\t1270300 & to the sidebar     &   1 & 1.354960e-07\\\\\n",
       "\t2164722 & to the sidepods    &   1 & 1.354960e-07\\\\\n",
       "\t3295367 & to the sidelines   &   1 & 1.354960e-07\\\\\n",
       "\\end{tabular}\n"
      ],
      "text/markdown": [
       "\n",
       "A data.frame: 18 × 3\n",
       "\n",
       "| <!--/--> | ngrams &lt;chr&gt; | freq &lt;int&gt; | prop &lt;dbl&gt; |\n",
       "|---|---|---|---|\n",
       "| 1174 | to the top         | 135 | 1.829196e-05 |\n",
       "| 63201 | to the topic       |   8 | 1.083968e-06 |\n",
       "| 1679931 | to the topanga     |   1 | 1.354960e-07 |\n",
       "| 2605986 | to the topps       |   1 | 1.354960e-07 |\n",
       "| 2893608 | to the toppling    |   1 | 1.354960e-07 |\n",
       "| 16055 | to the center      |  23 | 3.116408e-06 |\n",
       "| 74575 | to the centers     |   7 | 9.484720e-07 |\n",
       "| 2868184 | to the center's    |   1 | 1.354960e-07 |\n",
       "| 4630395 | to the center’s    |   1 | 1.354960e-07 |\n",
       "| 10239 | to the middle      |  32 | 4.335872e-06 |\n",
       "| 2617855 | to the middleburg  |   1 | 1.354960e-07 |\n",
       "| 7358 | to the side        |  40 | 5.419840e-06 |\n",
       "| 130513 | to the sides       |   5 | 6.774800e-07 |\n",
       "| 296701 | to the sidewalk    |   3 | 4.064880e-07 |\n",
       "| 431403 | to the sideline    |   2 | 2.709920e-07 |\n",
       "| 1270300 | to the sidebar     |   1 | 1.354960e-07 |\n",
       "| 2164722 | to the sidepods    |   1 | 1.354960e-07 |\n",
       "| 3295367 | to the sidelines   |   1 | 1.354960e-07 |\n",
       "\n"
      ],
      "text/plain": [
       "        ngrams             freq prop        \n",
       "1174    to the top         135  1.829196e-05\n",
       "63201   to the topic         8  1.083968e-06\n",
       "1679931 to the topanga       1  1.354960e-07\n",
       "2605986 to the topps         1  1.354960e-07\n",
       "2893608 to the toppling      1  1.354960e-07\n",
       "16055   to the center       23  3.116408e-06\n",
       "74575   to the centers       7  9.484720e-07\n",
       "2868184 to the center's      1  1.354960e-07\n",
       "4630395 to the center’s      1  1.354960e-07\n",
       "10239   to the middle       32  4.335872e-06\n",
       "2617855 to the middleburg    1  1.354960e-07\n",
       "7358    to the side         40  5.419840e-06\n",
       "130513  to the sides         5  6.774800e-07\n",
       "296701  to the sidewalk      3  4.064880e-07\n",
       "431403  to the sideline      2  2.709920e-07\n",
       "1270300 to the sidebar       1  1.354960e-07\n",
       "2164722 to the sidepods      1  1.354960e-07\n",
       "3295367 to the sidelines     1  1.354960e-07"
      ]
     },
     "metadata": {},
     "output_type": "display_data"
    }
   ],
   "source": [
    "rbind(\n",
    "    df[grep(\"^to the top\", df[,1]),],\n",
    "    df[grep(\"^to the center\", df[,1]),],\n",
    "    df[grep(\"^to the middle\", df[,1]),],\n",
    "    df[grep(\"^to the side\", df[,1]),]\n",
    ")"
   ]
  },
  {
   "cell_type": "code",
   "execution_count": null,
   "metadata": {},
   "outputs": [],
   "source": [
    "### Question 9: I’m thankful my childhood was filled with imagination and bruises from playing\n",
    "\n",
    "Options: weekley inside daily outside"
   ]
  },
  {
   "cell_type": "code",
   "execution_count": 26,
   "metadata": {},
   "outputs": [
    {
     "data": {
      "text/html": [
       "<table>\n",
       "<caption>A data.frame: 1 × 3</caption>\n",
       "<thead>\n",
       "\t<tr><th></th><th scope=col>ngrams</th><th scope=col>freq</th><th scope=col>prop</th></tr>\n",
       "\t<tr><th></th><th scope=col>&lt;chr&gt;</th><th scope=col>&lt;int&gt;</th><th scope=col>&lt;dbl&gt;</th></tr>\n",
       "</thead>\n",
       "<tbody>\n",
       "\t<tr><th scope=row>2989724</th><td>from playing outside </td><td>1</td><td>1.35496e-07</td></tr>\n",
       "</tbody>\n",
       "</table>\n"
      ],
      "text/latex": [
       "A data.frame: 1 × 3\n",
       "\\begin{tabular}{r|lll}\n",
       "  & ngrams & freq & prop\\\\\n",
       "  & <chr> & <int> & <dbl>\\\\\n",
       "\\hline\n",
       "\t2989724 & from playing outside  & 1 & 1.35496e-07\\\\\n",
       "\\end{tabular}\n"
      ],
      "text/markdown": [
       "\n",
       "A data.frame: 1 × 3\n",
       "\n",
       "| <!--/--> | ngrams &lt;chr&gt; | freq &lt;int&gt; | prop &lt;dbl&gt; |\n",
       "|---|---|---|---|\n",
       "| 2989724 | from playing outside  | 1 | 1.35496e-07 |\n",
       "\n"
      ],
      "text/plain": [
       "        ngrams                freq prop       \n",
       "2989724 from playing outside  1    1.35496e-07"
      ]
     },
     "metadata": {},
     "output_type": "display_data"
    }
   ],
   "source": [
    "df <- readRDS(\"~/Soft/Rtest/JHU_capstone_project_data/co_3gram_en.RDS\")\n",
    "rbind(\n",
    "    df[grep(\"^from playing weekly\", df[,1]),],\n",
    "    df[grep(\"^from playing inside\", df[,1]),],\n",
    "    df[grep(\"^from playing daily\", df[,1]),],\n",
    "    df[grep(\"^from playing outside\", df[,1]),]\n",
    ")"
   ]
  },
  {
   "cell_type": "code",
   "execution_count": 27,
   "metadata": {},
   "outputs": [
    {
     "data": {
      "text/html": [
       "<table>\n",
       "<caption>A data.frame: 3 × 3</caption>\n",
       "<thead>\n",
       "\t<tr><th></th><th scope=col>ngrams</th><th scope=col>freq</th><th scope=col>prop</th></tr>\n",
       "\t<tr><th></th><th scope=col>&lt;chr&gt;</th><th scope=col>&lt;int&gt;</th><th scope=col>&lt;dbl&gt;</th></tr>\n",
       "</thead>\n",
       "<tbody>\n",
       "\t<tr><th scope=row>735052</th><td>playing inside-out </td><td> 1</td><td>1.142443e-07</td></tr>\n",
       "\t<tr><th scope=row>754059</th><td>playing inside     </td><td> 1</td><td>1.142443e-07</td></tr>\n",
       "\t<tr><th scope=row>82657</th><td>playing outside    </td><td>11</td><td>1.256687e-06</td></tr>\n",
       "</tbody>\n",
       "</table>\n"
      ],
      "text/latex": [
       "A data.frame: 3 × 3\n",
       "\\begin{tabular}{r|lll}\n",
       "  & ngrams & freq & prop\\\\\n",
       "  & <chr> & <int> & <dbl>\\\\\n",
       "\\hline\n",
       "\t735052 & playing inside-out  &  1 & 1.142443e-07\\\\\n",
       "\t754059 & playing inside      &  1 & 1.142443e-07\\\\\n",
       "\t82657 & playing outside     & 11 & 1.256687e-06\\\\\n",
       "\\end{tabular}\n"
      ],
      "text/markdown": [
       "\n",
       "A data.frame: 3 × 3\n",
       "\n",
       "| <!--/--> | ngrams &lt;chr&gt; | freq &lt;int&gt; | prop &lt;dbl&gt; |\n",
       "|---|---|---|---|\n",
       "| 735052 | playing inside-out  |  1 | 1.142443e-07 |\n",
       "| 754059 | playing inside      |  1 | 1.142443e-07 |\n",
       "| 82657 | playing outside     | 11 | 1.256687e-06 |\n",
       "\n"
      ],
      "text/plain": [
       "       ngrams              freq prop        \n",
       "735052 playing inside-out   1   1.142443e-07\n",
       "754059 playing inside       1   1.142443e-07\n",
       "82657  playing outside     11   1.256687e-06"
      ]
     },
     "metadata": {},
     "output_type": "display_data"
    }
   ],
   "source": [
    "df <- readRDS(\"~/Soft/Rtest/JHU_capstone_project_data/co_2gram_en.RDS\")\n",
    "rbind(\n",
    "    df[grep(\"^playing weekly\", df[,1]),],\n",
    "    df[grep(\"^playing inside\", df[,1]),],\n",
    "    df[grep(\"^playing daily\", df[,1]),],\n",
    "    df[grep(\"^playing outside\", df[,1]),]\n",
    ")"
   ]
  },
  {
   "cell_type": "code",
   "execution_count": null,
   "metadata": {},
   "outputs": [],
   "source": [
    "### Question 10: I like how the same people are in almost all of Adam Sandler's\n",
    "\n",
    "Options: stories movies novels pictures"
   ]
  },
  {
   "cell_type": "code",
   "execution_count": 30,
   "metadata": {},
   "outputs": [
    {
     "data": {
      "text/html": [
       "<table>\n",
       "<caption>A data.frame: 0 × 3</caption>\n",
       "<thead>\n",
       "\t<tr><th scope=col>ngrams</th><th scope=col>freq</th><th scope=col>prop</th></tr>\n",
       "\t<tr><th scope=col>&lt;chr&gt;</th><th scope=col>&lt;int&gt;</th><th scope=col>&lt;dbl&gt;</th></tr>\n",
       "</thead>\n",
       "<tbody>\n",
       "</tbody>\n",
       "</table>\n"
      ],
      "text/latex": [
       "A data.frame: 0 × 3\n",
       "\\begin{tabular}{lll}\n",
       " ngrams & freq & prop\\\\\n",
       " <chr> & <int> & <dbl>\\\\\n",
       "\\hline\n",
       "\\end{tabular}\n"
      ],
      "text/markdown": [
       "\n",
       "A data.frame: 0 × 3\n",
       "\n",
       "| ngrams &lt;chr&gt; | freq &lt;int&gt; | prop &lt;dbl&gt; |\n",
       "|---|---|---|\n",
       "\n"
      ],
      "text/plain": [
       "     ngrams freq prop"
      ]
     },
     "metadata": {},
     "output_type": "display_data"
    }
   ],
   "source": [
    "df <- readRDS(\"~/Soft/Rtest/JHU_capstone_project_data/co_3gram_en.RDS\")\n",
    "rbind(\n",
    "    df[grep(\"^adam sandlers stories\", df[,1]),],\n",
    "    df[grep(\"^adam sandlers movies\", df[,1]),],\n",
    "    df[grep(\"^adam sandlers novels\", df[,1]),],\n",
    "    df[grep(\"^adam sandlers pictures\", df[,1]),]\n",
    ")"
   ]
  }
 ],
 "metadata": {
  "kernelspec": {
   "display_name": "R",
   "language": "R",
   "name": "ir"
  },
  "language_info": {
   "codemirror_mode": "r",
   "file_extension": ".r",
   "mimetype": "text/x-r-source",
   "name": "R",
   "pygments_lexer": "r",
   "version": "4.0.2"
  }
 },
 "nbformat": 4,
 "nbformat_minor": 4
}
